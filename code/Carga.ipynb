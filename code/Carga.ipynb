{
 "cells": [
  {
   "cell_type": "code",
   "execution_count": 925,
   "id": "4e47532e",
   "metadata": {},
   "outputs": [
    {
     "data": {
      "text/html": [
       "        <script type=\"text/javascript\">\n",
       "        window.PlotlyConfig = {MathJaxConfig: 'local'};\n",
       "        if (window.MathJax && window.MathJax.Hub && window.MathJax.Hub.Config) {window.MathJax.Hub.Config({SVG: {font: \"STIX-Web\"}});}\n",
       "        if (typeof require !== 'undefined') {\n",
       "        require.undef(\"plotly\");\n",
       "        requirejs.config({\n",
       "            paths: {\n",
       "                'plotly': ['https://cdn.plot.ly/plotly-2.24.1.min']\n",
       "            }\n",
       "        });\n",
       "        require(['plotly'], function(Plotly) {\n",
       "            window._Plotly = Plotly;\n",
       "        });\n",
       "        }\n",
       "        </script>\n",
       "        "
      ]
     },
     "metadata": {},
     "output_type": "display_data"
    },
    {
     "data": {
      "text/html": [
       "        <script type=\"text/javascript\">\n",
       "        window.PlotlyConfig = {MathJaxConfig: 'local'};\n",
       "        if (window.MathJax && window.MathJax.Hub && window.MathJax.Hub.Config) {window.MathJax.Hub.Config({SVG: {font: \"STIX-Web\"}});}\n",
       "        if (typeof require !== 'undefined') {\n",
       "        require.undef(\"plotly\");\n",
       "        requirejs.config({\n",
       "            paths: {\n",
       "                'plotly': ['https://cdn.plot.ly/plotly-2.24.1.min']\n",
       "            }\n",
       "        });\n",
       "        require(['plotly'], function(Plotly) {\n",
       "            window._Plotly = Plotly;\n",
       "        });\n",
       "        }\n",
       "        </script>\n",
       "        "
      ]
     },
     "metadata": {},
     "output_type": "display_data"
    },
    {
     "name": "stdout",
     "output_type": "stream",
     "text": [
      "5.15.0\n"
     ]
    }
   ],
   "source": [
    "import pandas as pd\n",
    "import numpy as np\n",
    "import cufflinks as cf\n",
    "import seaborn as sns\n",
    "%matplotlib inline\n",
    "from plotly import __version__\n",
    "import matplotlib.pyplot as plt\n",
    "from plotly.offline import download_plotlyjs, init_notebook_mode, plot, iplot\n",
    "import plotly.express as px\n",
    "init_notebook_mode(connected=True)\n",
    "cf.go_offline()\n",
    "print(__version__) # requires version >= 1.9.0"
   ]
  },
  {
   "cell_type": "markdown",
   "id": "686df645",
   "metadata": {},
   "source": [
    "# Comprensión de los Datos"
   ]
  },
  {
   "cell_type": "code",
   "execution_count": 926,
   "id": "448b993f",
   "metadata": {},
   "outputs": [],
   "source": [
    "df = pd.read_csv(\"../data/bike_buyers.csv\")"
   ]
  },
  {
   "cell_type": "code",
   "execution_count": 927,
   "id": "9244bb7c",
   "metadata": {},
   "outputs": [
    {
     "data": {
      "text/html": [
       "<div>\n",
       "<style scoped>\n",
       "    .dataframe tbody tr th:only-of-type {\n",
       "        vertical-align: middle;\n",
       "    }\n",
       "\n",
       "    .dataframe tbody tr th {\n",
       "        vertical-align: top;\n",
       "    }\n",
       "\n",
       "    .dataframe thead th {\n",
       "        text-align: right;\n",
       "    }\n",
       "</style>\n",
       "<table border=\"1\" class=\"dataframe\">\n",
       "  <thead>\n",
       "    <tr style=\"text-align: right;\">\n",
       "      <th></th>\n",
       "      <th>ID</th>\n",
       "      <th>Marital Status</th>\n",
       "      <th>Gender</th>\n",
       "      <th>Income</th>\n",
       "      <th>Children</th>\n",
       "      <th>Education</th>\n",
       "      <th>Occupation</th>\n",
       "      <th>Home Owner</th>\n",
       "      <th>Cars</th>\n",
       "      <th>Commute Distance</th>\n",
       "      <th>Region</th>\n",
       "      <th>Age</th>\n",
       "      <th>Purchased Bike</th>\n",
       "    </tr>\n",
       "  </thead>\n",
       "  <tbody>\n",
       "    <tr>\n",
       "      <th>0</th>\n",
       "      <td>12496</td>\n",
       "      <td>Married</td>\n",
       "      <td>Female</td>\n",
       "      <td>40000.0</td>\n",
       "      <td>1.0</td>\n",
       "      <td>Bachelors</td>\n",
       "      <td>Skilled Manual</td>\n",
       "      <td>Yes</td>\n",
       "      <td>0.0</td>\n",
       "      <td>0-1 Miles</td>\n",
       "      <td>Europe</td>\n",
       "      <td>42.0</td>\n",
       "      <td>No</td>\n",
       "    </tr>\n",
       "    <tr>\n",
       "      <th>1</th>\n",
       "      <td>24107</td>\n",
       "      <td>Married</td>\n",
       "      <td>Male</td>\n",
       "      <td>30000.0</td>\n",
       "      <td>3.0</td>\n",
       "      <td>Partial College</td>\n",
       "      <td>Clerical</td>\n",
       "      <td>Yes</td>\n",
       "      <td>1.0</td>\n",
       "      <td>0-1 Miles</td>\n",
       "      <td>Europe</td>\n",
       "      <td>43.0</td>\n",
       "      <td>No</td>\n",
       "    </tr>\n",
       "    <tr>\n",
       "      <th>2</th>\n",
       "      <td>14177</td>\n",
       "      <td>Married</td>\n",
       "      <td>Male</td>\n",
       "      <td>80000.0</td>\n",
       "      <td>5.0</td>\n",
       "      <td>Partial College</td>\n",
       "      <td>Professional</td>\n",
       "      <td>No</td>\n",
       "      <td>2.0</td>\n",
       "      <td>2-5 Miles</td>\n",
       "      <td>Europe</td>\n",
       "      <td>60.0</td>\n",
       "      <td>No</td>\n",
       "    </tr>\n",
       "    <tr>\n",
       "      <th>3</th>\n",
       "      <td>24381</td>\n",
       "      <td>Single</td>\n",
       "      <td>NaN</td>\n",
       "      <td>70000.0</td>\n",
       "      <td>0.0</td>\n",
       "      <td>Bachelors</td>\n",
       "      <td>Professional</td>\n",
       "      <td>Yes</td>\n",
       "      <td>1.0</td>\n",
       "      <td>5-10 Miles</td>\n",
       "      <td>Pacific</td>\n",
       "      <td>41.0</td>\n",
       "      <td>Yes</td>\n",
       "    </tr>\n",
       "    <tr>\n",
       "      <th>4</th>\n",
       "      <td>25597</td>\n",
       "      <td>Single</td>\n",
       "      <td>Male</td>\n",
       "      <td>30000.0</td>\n",
       "      <td>0.0</td>\n",
       "      <td>Bachelors</td>\n",
       "      <td>Clerical</td>\n",
       "      <td>No</td>\n",
       "      <td>0.0</td>\n",
       "      <td>0-1 Miles</td>\n",
       "      <td>Europe</td>\n",
       "      <td>36.0</td>\n",
       "      <td>Yes</td>\n",
       "    </tr>\n",
       "    <tr>\n",
       "      <th>5</th>\n",
       "      <td>13507</td>\n",
       "      <td>Married</td>\n",
       "      <td>Female</td>\n",
       "      <td>10000.0</td>\n",
       "      <td>2.0</td>\n",
       "      <td>Partial College</td>\n",
       "      <td>Manual</td>\n",
       "      <td>Yes</td>\n",
       "      <td>0.0</td>\n",
       "      <td>1-2 Miles</td>\n",
       "      <td>Europe</td>\n",
       "      <td>50.0</td>\n",
       "      <td>No</td>\n",
       "    </tr>\n",
       "    <tr>\n",
       "      <th>6</th>\n",
       "      <td>27974</td>\n",
       "      <td>Single</td>\n",
       "      <td>Male</td>\n",
       "      <td>160000.0</td>\n",
       "      <td>2.0</td>\n",
       "      <td>High School</td>\n",
       "      <td>Management</td>\n",
       "      <td>NaN</td>\n",
       "      <td>4.0</td>\n",
       "      <td>0-1 Miles</td>\n",
       "      <td>Pacific</td>\n",
       "      <td>33.0</td>\n",
       "      <td>Yes</td>\n",
       "    </tr>\n",
       "    <tr>\n",
       "      <th>7</th>\n",
       "      <td>19364</td>\n",
       "      <td>Married</td>\n",
       "      <td>Male</td>\n",
       "      <td>40000.0</td>\n",
       "      <td>1.0</td>\n",
       "      <td>Bachelors</td>\n",
       "      <td>Skilled Manual</td>\n",
       "      <td>Yes</td>\n",
       "      <td>0.0</td>\n",
       "      <td>0-1 Miles</td>\n",
       "      <td>Europe</td>\n",
       "      <td>43.0</td>\n",
       "      <td>Yes</td>\n",
       "    </tr>\n",
       "    <tr>\n",
       "      <th>8</th>\n",
       "      <td>22155</td>\n",
       "      <td>NaN</td>\n",
       "      <td>Male</td>\n",
       "      <td>20000.0</td>\n",
       "      <td>2.0</td>\n",
       "      <td>Partial High School</td>\n",
       "      <td>Clerical</td>\n",
       "      <td>Yes</td>\n",
       "      <td>2.0</td>\n",
       "      <td>5-10 Miles</td>\n",
       "      <td>Pacific</td>\n",
       "      <td>58.0</td>\n",
       "      <td>No</td>\n",
       "    </tr>\n",
       "    <tr>\n",
       "      <th>9</th>\n",
       "      <td>19280</td>\n",
       "      <td>Married</td>\n",
       "      <td>Male</td>\n",
       "      <td>NaN</td>\n",
       "      <td>2.0</td>\n",
       "      <td>Partial College</td>\n",
       "      <td>Manual</td>\n",
       "      <td>Yes</td>\n",
       "      <td>1.0</td>\n",
       "      <td>0-1 Miles</td>\n",
       "      <td>Europe</td>\n",
       "      <td>NaN</td>\n",
       "      <td>Yes</td>\n",
       "    </tr>\n",
       "  </tbody>\n",
       "</table>\n",
       "</div>"
      ],
      "text/plain": [
       "      ID Marital Status  Gender    Income  Children            Education  \\\n",
       "0  12496        Married  Female   40000.0       1.0            Bachelors   \n",
       "1  24107        Married    Male   30000.0       3.0      Partial College   \n",
       "2  14177        Married    Male   80000.0       5.0      Partial College   \n",
       "3  24381         Single     NaN   70000.0       0.0            Bachelors   \n",
       "4  25597         Single    Male   30000.0       0.0            Bachelors   \n",
       "5  13507        Married  Female   10000.0       2.0      Partial College   \n",
       "6  27974         Single    Male  160000.0       2.0          High School   \n",
       "7  19364        Married    Male   40000.0       1.0            Bachelors   \n",
       "8  22155            NaN    Male   20000.0       2.0  Partial High School   \n",
       "9  19280        Married    Male       NaN       2.0      Partial College   \n",
       "\n",
       "       Occupation Home Owner  Cars Commute Distance   Region   Age  \\\n",
       "0  Skilled Manual        Yes   0.0        0-1 Miles   Europe  42.0   \n",
       "1        Clerical        Yes   1.0        0-1 Miles   Europe  43.0   \n",
       "2    Professional         No   2.0        2-5 Miles   Europe  60.0   \n",
       "3    Professional        Yes   1.0       5-10 Miles  Pacific  41.0   \n",
       "4        Clerical         No   0.0        0-1 Miles   Europe  36.0   \n",
       "5          Manual        Yes   0.0        1-2 Miles   Europe  50.0   \n",
       "6      Management        NaN   4.0        0-1 Miles  Pacific  33.0   \n",
       "7  Skilled Manual        Yes   0.0        0-1 Miles   Europe  43.0   \n",
       "8        Clerical        Yes   2.0       5-10 Miles  Pacific  58.0   \n",
       "9          Manual        Yes   1.0        0-1 Miles   Europe   NaN   \n",
       "\n",
       "  Purchased Bike  \n",
       "0             No  \n",
       "1             No  \n",
       "2             No  \n",
       "3            Yes  \n",
       "4            Yes  \n",
       "5             No  \n",
       "6            Yes  \n",
       "7            Yes  \n",
       "8             No  \n",
       "9            Yes  "
      ]
     },
     "execution_count": 927,
     "metadata": {},
     "output_type": "execute_result"
    }
   ],
   "source": [
    "df.head(10)"
   ]
  },
  {
   "cell_type": "code",
   "execution_count": 928,
   "id": "6e5250b9",
   "metadata": {},
   "outputs": [
    {
     "name": "stdout",
     "output_type": "stream",
     "text": [
      "<class 'pandas.core.frame.DataFrame'>\n",
      "RangeIndex: 1000 entries, 0 to 999\n",
      "Data columns (total 13 columns):\n",
      " #   Column            Non-Null Count  Dtype  \n",
      "---  ------            --------------  -----  \n",
      " 0   ID                1000 non-null   int64  \n",
      " 1   Marital Status    993 non-null    object \n",
      " 2   Gender            989 non-null    object \n",
      " 3   Income            994 non-null    float64\n",
      " 4   Children          992 non-null    float64\n",
      " 5   Education         1000 non-null   object \n",
      " 6   Occupation        1000 non-null   object \n",
      " 7   Home Owner        996 non-null    object \n",
      " 8   Cars              991 non-null    float64\n",
      " 9   Commute Distance  1000 non-null   object \n",
      " 10  Region            1000 non-null   object \n",
      " 11  Age               992 non-null    float64\n",
      " 12  Purchased Bike    1000 non-null   object \n",
      "dtypes: float64(4), int64(1), object(8)\n",
      "memory usage: 101.7+ KB\n"
     ]
    }
   ],
   "source": [
    "df.info()"
   ]
  },
  {
   "cell_type": "code",
   "execution_count": 929,
   "id": "a5cc1ab8",
   "metadata": {},
   "outputs": [
    {
     "data": {
      "text/html": [
       "<div>\n",
       "<style scoped>\n",
       "    .dataframe tbody tr th:only-of-type {\n",
       "        vertical-align: middle;\n",
       "    }\n",
       "\n",
       "    .dataframe tbody tr th {\n",
       "        vertical-align: top;\n",
       "    }\n",
       "\n",
       "    .dataframe thead th {\n",
       "        text-align: right;\n",
       "    }\n",
       "</style>\n",
       "<table border=\"1\" class=\"dataframe\">\n",
       "  <thead>\n",
       "    <tr style=\"text-align: right;\">\n",
       "      <th></th>\n",
       "      <th>ID</th>\n",
       "      <th>Income</th>\n",
       "      <th>Children</th>\n",
       "      <th>Cars</th>\n",
       "      <th>Age</th>\n",
       "    </tr>\n",
       "  </thead>\n",
       "  <tbody>\n",
       "    <tr>\n",
       "      <th>count</th>\n",
       "      <td>1000.000000</td>\n",
       "      <td>994.000000</td>\n",
       "      <td>992.000000</td>\n",
       "      <td>991.000000</td>\n",
       "      <td>992.000000</td>\n",
       "    </tr>\n",
       "    <tr>\n",
       "      <th>mean</th>\n",
       "      <td>19965.992000</td>\n",
       "      <td>56267.605634</td>\n",
       "      <td>1.910282</td>\n",
       "      <td>1.455096</td>\n",
       "      <td>44.181452</td>\n",
       "    </tr>\n",
       "    <tr>\n",
       "      <th>std</th>\n",
       "      <td>5347.333948</td>\n",
       "      <td>31067.817462</td>\n",
       "      <td>1.626910</td>\n",
       "      <td>1.121755</td>\n",
       "      <td>11.362007</td>\n",
       "    </tr>\n",
       "    <tr>\n",
       "      <th>min</th>\n",
       "      <td>11000.000000</td>\n",
       "      <td>10000.000000</td>\n",
       "      <td>0.000000</td>\n",
       "      <td>0.000000</td>\n",
       "      <td>25.000000</td>\n",
       "    </tr>\n",
       "    <tr>\n",
       "      <th>25%</th>\n",
       "      <td>15290.750000</td>\n",
       "      <td>30000.000000</td>\n",
       "      <td>0.000000</td>\n",
       "      <td>1.000000</td>\n",
       "      <td>35.000000</td>\n",
       "    </tr>\n",
       "    <tr>\n",
       "      <th>50%</th>\n",
       "      <td>19744.000000</td>\n",
       "      <td>60000.000000</td>\n",
       "      <td>2.000000</td>\n",
       "      <td>1.000000</td>\n",
       "      <td>43.000000</td>\n",
       "    </tr>\n",
       "    <tr>\n",
       "      <th>75%</th>\n",
       "      <td>24470.750000</td>\n",
       "      <td>70000.000000</td>\n",
       "      <td>3.000000</td>\n",
       "      <td>2.000000</td>\n",
       "      <td>52.000000</td>\n",
       "    </tr>\n",
       "    <tr>\n",
       "      <th>max</th>\n",
       "      <td>29447.000000</td>\n",
       "      <td>170000.000000</td>\n",
       "      <td>5.000000</td>\n",
       "      <td>4.000000</td>\n",
       "      <td>89.000000</td>\n",
       "    </tr>\n",
       "  </tbody>\n",
       "</table>\n",
       "</div>"
      ],
      "text/plain": [
       "                 ID         Income    Children        Cars         Age\n",
       "count   1000.000000     994.000000  992.000000  991.000000  992.000000\n",
       "mean   19965.992000   56267.605634    1.910282    1.455096   44.181452\n",
       "std     5347.333948   31067.817462    1.626910    1.121755   11.362007\n",
       "min    11000.000000   10000.000000    0.000000    0.000000   25.000000\n",
       "25%    15290.750000   30000.000000    0.000000    1.000000   35.000000\n",
       "50%    19744.000000   60000.000000    2.000000    1.000000   43.000000\n",
       "75%    24470.750000   70000.000000    3.000000    2.000000   52.000000\n",
       "max    29447.000000  170000.000000    5.000000    4.000000   89.000000"
      ]
     },
     "execution_count": 929,
     "metadata": {},
     "output_type": "execute_result"
    }
   ],
   "source": [
    "df.describe()"
   ]
  },
  {
   "cell_type": "code",
   "execution_count": 930,
   "id": "856927d1",
   "metadata": {},
   "outputs": [
    {
     "data": {
      "text/plain": [
       "['Marital Status', 'Gender', 'Income', 'Children', 'Home Owner', 'Cars', 'Age']"
      ]
     },
     "execution_count": 930,
     "metadata": {},
     "output_type": "execute_result"
    }
   ],
   "source": [
    "variables_con_na = df.columns[df.isna().any()].tolist()\n",
    "variables_con_na"
   ]
  },
  {
   "cell_type": "code",
   "execution_count": 931,
   "id": "2495f450",
   "metadata": {},
   "outputs": [
    {
     "data": {
      "text/html": [
       "<div>\n",
       "<style scoped>\n",
       "    .dataframe tbody tr th:only-of-type {\n",
       "        vertical-align: middle;\n",
       "    }\n",
       "\n",
       "    .dataframe tbody tr th {\n",
       "        vertical-align: top;\n",
       "    }\n",
       "\n",
       "    .dataframe thead th {\n",
       "        text-align: right;\n",
       "    }\n",
       "</style>\n",
       "<table border=\"1\" class=\"dataframe\">\n",
       "  <thead>\n",
       "    <tr style=\"text-align: right;\">\n",
       "      <th></th>\n",
       "      <th>ID</th>\n",
       "      <th>Marital Status</th>\n",
       "      <th>Gender</th>\n",
       "      <th>Income</th>\n",
       "      <th>Children</th>\n",
       "      <th>Education</th>\n",
       "      <th>Occupation</th>\n",
       "      <th>Home Owner</th>\n",
       "      <th>Cars</th>\n",
       "      <th>Commute Distance</th>\n",
       "      <th>Region</th>\n",
       "      <th>Age</th>\n",
       "      <th>Purchased Bike</th>\n",
       "    </tr>\n",
       "  </thead>\n",
       "  <tbody>\n",
       "    <tr>\n",
       "      <th>8</th>\n",
       "      <td>22155</td>\n",
       "      <td>NaN</td>\n",
       "      <td>Male</td>\n",
       "      <td>20000.0</td>\n",
       "      <td>2.0</td>\n",
       "      <td>Partial High School</td>\n",
       "      <td>Clerical</td>\n",
       "      <td>Yes</td>\n",
       "      <td>2.0</td>\n",
       "      <td>5-10 Miles</td>\n",
       "      <td>Pacific</td>\n",
       "      <td>58.0</td>\n",
       "      <td>No</td>\n",
       "    </tr>\n",
       "    <tr>\n",
       "      <th>27</th>\n",
       "      <td>18283</td>\n",
       "      <td>NaN</td>\n",
       "      <td>Female</td>\n",
       "      <td>100000.0</td>\n",
       "      <td>0.0</td>\n",
       "      <td>Bachelors</td>\n",
       "      <td>Professional</td>\n",
       "      <td>No</td>\n",
       "      <td>1.0</td>\n",
       "      <td>5-10 Miles</td>\n",
       "      <td>Pacific</td>\n",
       "      <td>40.0</td>\n",
       "      <td>No</td>\n",
       "    </tr>\n",
       "    <tr>\n",
       "      <th>49</th>\n",
       "      <td>14939</td>\n",
       "      <td>NaN</td>\n",
       "      <td>Male</td>\n",
       "      <td>40000.0</td>\n",
       "      <td>0.0</td>\n",
       "      <td>Bachelors</td>\n",
       "      <td>Clerical</td>\n",
       "      <td>Yes</td>\n",
       "      <td>0.0</td>\n",
       "      <td>0-1 Miles</td>\n",
       "      <td>Europe</td>\n",
       "      <td>39.0</td>\n",
       "      <td>Yes</td>\n",
       "    </tr>\n",
       "    <tr>\n",
       "      <th>98</th>\n",
       "      <td>19441</td>\n",
       "      <td>NaN</td>\n",
       "      <td>Male</td>\n",
       "      <td>40000.0</td>\n",
       "      <td>0.0</td>\n",
       "      <td>Graduate Degree</td>\n",
       "      <td>Clerical</td>\n",
       "      <td>Yes</td>\n",
       "      <td>0.0</td>\n",
       "      <td>0-1 Miles</td>\n",
       "      <td>Europe</td>\n",
       "      <td>NaN</td>\n",
       "      <td>Yes</td>\n",
       "    </tr>\n",
       "    <tr>\n",
       "      <th>150</th>\n",
       "      <td>26154</td>\n",
       "      <td>NaN</td>\n",
       "      <td>Male</td>\n",
       "      <td>60000.0</td>\n",
       "      <td>1.0</td>\n",
       "      <td>Partial College</td>\n",
       "      <td>Skilled Manual</td>\n",
       "      <td>Yes</td>\n",
       "      <td>1.0</td>\n",
       "      <td>5-10 Miles</td>\n",
       "      <td>Pacific</td>\n",
       "      <td>43.0</td>\n",
       "      <td>Yes</td>\n",
       "    </tr>\n",
       "    <tr>\n",
       "      <th>234</th>\n",
       "      <td>24611</td>\n",
       "      <td>NaN</td>\n",
       "      <td>Male</td>\n",
       "      <td>90000.0</td>\n",
       "      <td>0.0</td>\n",
       "      <td>Bachelors</td>\n",
       "      <td>Professional</td>\n",
       "      <td>No</td>\n",
       "      <td>4.0</td>\n",
       "      <td>10+ Miles</td>\n",
       "      <td>Pacific</td>\n",
       "      <td>35.0</td>\n",
       "      <td>Yes</td>\n",
       "    </tr>\n",
       "    <tr>\n",
       "      <th>301</th>\n",
       "      <td>17926</td>\n",
       "      <td>NaN</td>\n",
       "      <td>Female</td>\n",
       "      <td>NaN</td>\n",
       "      <td>0.0</td>\n",
       "      <td>Bachelors</td>\n",
       "      <td>Clerical</td>\n",
       "      <td>No</td>\n",
       "      <td>0.0</td>\n",
       "      <td>0-1 Miles</td>\n",
       "      <td>Pacific</td>\n",
       "      <td>28.0</td>\n",
       "      <td>Yes</td>\n",
       "    </tr>\n",
       "  </tbody>\n",
       "</table>\n",
       "</div>"
      ],
      "text/plain": [
       "        ID Marital Status  Gender    Income  Children            Education  \\\n",
       "8    22155            NaN    Male   20000.0       2.0  Partial High School   \n",
       "27   18283            NaN  Female  100000.0       0.0            Bachelors   \n",
       "49   14939            NaN    Male   40000.0       0.0            Bachelors   \n",
       "98   19441            NaN    Male   40000.0       0.0      Graduate Degree   \n",
       "150  26154            NaN    Male   60000.0       1.0      Partial College   \n",
       "234  24611            NaN    Male   90000.0       0.0            Bachelors   \n",
       "301  17926            NaN  Female       NaN       0.0            Bachelors   \n",
       "\n",
       "         Occupation Home Owner  Cars Commute Distance   Region   Age  \\\n",
       "8          Clerical        Yes   2.0       5-10 Miles  Pacific  58.0   \n",
       "27     Professional         No   1.0       5-10 Miles  Pacific  40.0   \n",
       "49         Clerical        Yes   0.0        0-1 Miles   Europe  39.0   \n",
       "98         Clerical        Yes   0.0        0-1 Miles   Europe   NaN   \n",
       "150  Skilled Manual        Yes   1.0       5-10 Miles  Pacific  43.0   \n",
       "234    Professional         No   4.0        10+ Miles  Pacific  35.0   \n",
       "301        Clerical         No   0.0        0-1 Miles  Pacific  28.0   \n",
       "\n",
       "    Purchased Bike  \n",
       "8               No  \n",
       "27              No  \n",
       "49             Yes  \n",
       "98             Yes  \n",
       "150            Yes  \n",
       "234            Yes  \n",
       "301            Yes  "
      ]
     },
     "execution_count": 931,
     "metadata": {},
     "output_type": "execute_result"
    }
   ],
   "source": [
    "na_values = df[df['Marital Status'].isna()]\n",
    "na_values"
   ]
  },
  {
   "cell_type": "code",
   "execution_count": 932,
   "id": "aa4fce9d",
   "metadata": {},
   "outputs": [
    {
     "data": {
      "application/vnd.plotly.v1+json": {
       "config": {
        "plotlyServerURL": "https://plot.ly"
       },
       "data": [
        {
         "alignmentgroup": "True",
         "hovertemplate": "Gender=Female<br>Marital Status=%{x}<br>Children=%{y}<extra></extra>",
         "legendgroup": "Female",
         "marker": {
          "color": "#636efa"
         },
         "name": "Female",
         "notched": false,
         "offsetgroup": "Female",
         "orientation": "v",
         "showlegend": true,
         "type": "box",
         "x": [
          "Married",
          "Married",
          "Married",
          "Single",
          "Single",
          "Married",
          "Married",
          "Single",
          "Married",
          null,
          "Single",
          "Married",
          "Single",
          "Single",
          "Married",
          "Single",
          "Single",
          "Single",
          "Single",
          "Married",
          "Married",
          "Married",
          "Married",
          "Married",
          "Single",
          "Single",
          "Married",
          "Single",
          "Single",
          "Married",
          "Single",
          "Single",
          "Married",
          "Married",
          "Single",
          "Married",
          "Single",
          "Married",
          "Single",
          "Married",
          "Single",
          "Single",
          "Married",
          "Single",
          "Single",
          "Single",
          "Single",
          "Single",
          "Single",
          "Married",
          "Single",
          "Single",
          "Single",
          "Married",
          "Single",
          "Single",
          "Single",
          "Single",
          "Married",
          "Single",
          "Single",
          "Married",
          "Single",
          "Single",
          "Single",
          "Single",
          "Single",
          "Married",
          "Single",
          "Single",
          "Married",
          "Married",
          "Married",
          "Single",
          "Single",
          "Married",
          "Single",
          "Married",
          "Single",
          "Married",
          "Single",
          "Married",
          "Married",
          "Married",
          "Married",
          "Single",
          "Single",
          "Single",
          "Married",
          "Married",
          "Married",
          "Married",
          "Married",
          "Married",
          "Married",
          "Single",
          "Married",
          "Single",
          "Single",
          "Single",
          "Single",
          "Single",
          "Single",
          "Single",
          "Single",
          "Married",
          "Married",
          "Single",
          "Single",
          "Married",
          "Single",
          "Married",
          "Single",
          "Married",
          "Married",
          "Married",
          "Married",
          "Single",
          "Married",
          "Single",
          "Single",
          "Single",
          "Married",
          "Married",
          "Married",
          "Married",
          "Single",
          "Single",
          "Single",
          "Single",
          "Married",
          "Married",
          "Single",
          "Single",
          "Single",
          "Single",
          "Single",
          "Single",
          "Single",
          "Married",
          "Married",
          "Married",
          "Married",
          "Single",
          "Married",
          "Married",
          "Single",
          "Single",
          "Single",
          "Married",
          "Single",
          "Single",
          "Single",
          "Married",
          "Married",
          "Single",
          null,
          "Married",
          "Married",
          "Married",
          "Single",
          "Single",
          "Single",
          "Married",
          "Married",
          "Single",
          "Single",
          "Single",
          "Single",
          "Single",
          "Married",
          "Single",
          "Single",
          "Married",
          "Married",
          "Single",
          "Single",
          "Married",
          "Single",
          "Single",
          "Married",
          "Single",
          "Single",
          "Married",
          "Single",
          "Married",
          "Married",
          "Single",
          "Single",
          "Single",
          "Married",
          "Married",
          "Single",
          "Married",
          "Married",
          "Married",
          "Single",
          "Single",
          "Married",
          "Married",
          "Married",
          "Single",
          "Single",
          "Married",
          "Married",
          "Single",
          "Married",
          "Married",
          "Single",
          "Married",
          "Single",
          "Single",
          "Single",
          "Single",
          "Married",
          "Single",
          "Married",
          "Single",
          "Married",
          "Single",
          "Single",
          "Married",
          "Married",
          "Married",
          "Married",
          "Married",
          "Married",
          "Single",
          "Married",
          "Married",
          "Single",
          "Married",
          "Married",
          "Single",
          "Married",
          "Married",
          "Single",
          "Single",
          "Married",
          "Married",
          "Single",
          "Married",
          "Married",
          "Single",
          "Married",
          "Single",
          "Single",
          "Married",
          "Single",
          "Single",
          "Single",
          "Single",
          "Single",
          "Married",
          "Married",
          "Married",
          "Married",
          "Married",
          "Single",
          "Married",
          "Married",
          "Married",
          "Single",
          "Married",
          "Single",
          "Single",
          "Single",
          "Married",
          "Married",
          "Single",
          "Single",
          "Married",
          "Single",
          "Married",
          "Single",
          "Married",
          "Married",
          "Married",
          "Married",
          "Single",
          "Married",
          "Married",
          "Married",
          "Single",
          "Married",
          "Single",
          "Single",
          "Single",
          "Married",
          "Married",
          "Married",
          "Married",
          "Single",
          "Single",
          "Single",
          "Married",
          "Married",
          "Single",
          "Married",
          "Single",
          "Married",
          "Single",
          "Single",
          "Single",
          "Single",
          "Married",
          "Married",
          "Single",
          "Married",
          "Married",
          "Married",
          "Single",
          "Married",
          "Single",
          "Single",
          "Married",
          "Married",
          "Married",
          "Married",
          "Single",
          "Single",
          "Single",
          "Single",
          "Single",
          "Married",
          "Single",
          "Married",
          "Single",
          "Married",
          "Married",
          "Married",
          "Married",
          "Married",
          "Married",
          "Single",
          "Single",
          "Single",
          "Married",
          "Married",
          "Single",
          "Married",
          "Single",
          "Single",
          "Married",
          "Single",
          "Single",
          "Single",
          "Married",
          "Married",
          "Single",
          "Single",
          "Married",
          "Single",
          "Married",
          "Single",
          "Married",
          "Married",
          "Single",
          "Married",
          "Single",
          "Married",
          "Single",
          "Single",
          "Single",
          "Married",
          "Single",
          "Single",
          "Single",
          "Single",
          "Single",
          "Married",
          "Married",
          "Married",
          "Married",
          "Single",
          "Married",
          "Single",
          "Married",
          "Single",
          "Single",
          "Married",
          "Married",
          "Single",
          "Married",
          "Married",
          "Married",
          "Married",
          "Married",
          "Married",
          "Single",
          "Single",
          "Married",
          "Single",
          "Single",
          "Single",
          "Single",
          "Single",
          "Single",
          "Married",
          "Single",
          "Married",
          "Single",
          "Single",
          "Married",
          "Single",
          "Married",
          "Married",
          "Single",
          "Single",
          "Single",
          "Single",
          "Married",
          "Married",
          "Single",
          "Single",
          "Single",
          "Married",
          "Single",
          "Single",
          "Married",
          "Married",
          "Single",
          "Married",
          "Single",
          "Married",
          "Single",
          "Married",
          "Single",
          "Married",
          "Married",
          "Single",
          "Single",
          "Single",
          "Married",
          "Single",
          "Married",
          "Married",
          "Married",
          "Single",
          "Married",
          "Married",
          "Single",
          "Married",
          "Married",
          "Married",
          "Single",
          "Single",
          "Married",
          "Married",
          "Married",
          "Married",
          "Single",
          "Married",
          "Single",
          "Single",
          "Married",
          "Married",
          "Single",
          "Married",
          "Married",
          "Married",
          "Single",
          "Married",
          "Married",
          "Married",
          "Married",
          "Married",
          "Single",
          "Single",
          "Single",
          "Married",
          "Single",
          "Married",
          "Married",
          "Married",
          "Married",
          "Married",
          "Single",
          "Married",
          "Married",
          "Single",
          "Married",
          "Married",
          "Single",
          "Single",
          "Single",
          "Single",
          "Single",
          "Single"
         ],
         "x0": " ",
         "xaxis": "x",
         "y": [
          1,
          2,
          3,
          0,
          2,
          1,
          0,
          0,
          5,
          0,
          0,
          2,
          0,
          5,
          2,
          0,
          4,
          2,
          2,
          1,
          4,
          3,
          1,
          1,
          2,
          0,
          1,
          4,
          0,
          1,
          1,
          2,
          1,
          0,
          4,
          0,
          0,
          3,
          0,
          3,
          4,
          0,
          4,
          4,
          0,
          2,
          0,
          3,
          5,
          3,
          2,
          0,
          2,
          0,
          1,
          0,
          2,
          1,
          1,
          null,
          0,
          2,
          0,
          3,
          0,
          2,
          1,
          2,
          2,
          0,
          0,
          2,
          0,
          0,
          4,
          5,
          2,
          1,
          1,
          2,
          2,
          0,
          4,
          5,
          0,
          2,
          0,
          2,
          0,
          3,
          2,
          4,
          1,
          3,
          0,
          5,
          5,
          0,
          0,
          0,
          1,
          3,
          0,
          0,
          3,
          4,
          0,
          0,
          null,
          3,
          5,
          2,
          3,
          1,
          0,
          4,
          1,
          5,
          0,
          0,
          3,
          0,
          3,
          3,
          0,
          5,
          3,
          0,
          3,
          2,
          1,
          2,
          5,
          2,
          5,
          0,
          2,
          0,
          0,
          0,
          1,
          2,
          2,
          3,
          5,
          1,
          1,
          3,
          1,
          1,
          1,
          0,
          2,
          4,
          2,
          5,
          0,
          1,
          2,
          3,
          0,
          4,
          0,
          0,
          5,
          0,
          0,
          3,
          0,
          0,
          1,
          1,
          0,
          4,
          3,
          0,
          3,
          2,
          2,
          0,
          3,
          2,
          2,
          4,
          5,
          1,
          2,
          0,
          null,
          0,
          1,
          0,
          0,
          0,
          0,
          2,
          2,
          3,
          1,
          0,
          1,
          2,
          2,
          3,
          2,
          2,
          0,
          5,
          2,
          2,
          3,
          1,
          0,
          3,
          0,
          3,
          3,
          2,
          2,
          3,
          0,
          1,
          1,
          0,
          1,
          3,
          1,
          2,
          1,
          2,
          5,
          4,
          1,
          0,
          1,
          0,
          3,
          3,
          5,
          1,
          0,
          0,
          2,
          0,
          1,
          2,
          0,
          4,
          0,
          3,
          3,
          1,
          0,
          0,
          1,
          4,
          1,
          1,
          4,
          5,
          2,
          0,
          4,
          1,
          0,
          1,
          3,
          1,
          4,
          0,
          3,
          2,
          4,
          null,
          0,
          4,
          2,
          3,
          3,
          2,
          0,
          2,
          2,
          0,
          2,
          0,
          0,
          3,
          3,
          0,
          2,
          1,
          5,
          2,
          3,
          4,
          2,
          5,
          0,
          0,
          3,
          4,
          4,
          3,
          0,
          4,
          4,
          0,
          0,
          3,
          1,
          4,
          1,
          2,
          4,
          2,
          3,
          3,
          5,
          0,
          4,
          2,
          0,
          5,
          3,
          4,
          1,
          1,
          5,
          0,
          1,
          5,
          0,
          2,
          1,
          0,
          4,
          2,
          0,
          4,
          5,
          4,
          3,
          1,
          1,
          4,
          3,
          0,
          4,
          0,
          0,
          4,
          0,
          1,
          2,
          2,
          2,
          2,
          1,
          0,
          5,
          5,
          3,
          2,
          3,
          4,
          0,
          1,
          0,
          2,
          2,
          1,
          4,
          2,
          1,
          2,
          0,
          4,
          5,
          3,
          5,
          0,
          0,
          2,
          1,
          4,
          1,
          3,
          2,
          2,
          0,
          1,
          2,
          2,
          2,
          0,
          1,
          null,
          2,
          0,
          4,
          3,
          4,
          2,
          4,
          3,
          3,
          0,
          4,
          3,
          0,
          4,
          0,
          0,
          2,
          3,
          0,
          3,
          3,
          1,
          5,
          3,
          4,
          0,
          5,
          2,
          0,
          0,
          1,
          2,
          0,
          3,
          3,
          1,
          2,
          4,
          1,
          2,
          4,
          1,
          2,
          4,
          4,
          1,
          5,
          4,
          2,
          5,
          3,
          0,
          4,
          3,
          3,
          0,
          2,
          0,
          1,
          0,
          1,
          4,
          0,
          1,
          1,
          3,
          4,
          1,
          5,
          4,
          0,
          1,
          4,
          3,
          4,
          4,
          0,
          2,
          5,
          3,
          0,
          0,
          2,
          1,
          3,
          4,
          3,
          4,
          3,
          0,
          1
         ],
         "y0": " ",
         "yaxis": "y"
        },
        {
         "alignmentgroup": "True",
         "hovertemplate": "Gender=Male<br>Marital Status=%{x}<br>Children=%{y}<extra></extra>",
         "legendgroup": "Male",
         "marker": {
          "color": "#EF553B"
         },
         "name": "Male",
         "notched": false,
         "offsetgroup": "Male",
         "orientation": "v",
         "showlegend": true,
         "type": "box",
         "x": [
          "Married",
          "Married",
          "Single",
          "Single",
          "Married",
          null,
          "Married",
          "Married",
          "Married",
          "Single",
          "Single",
          "Single",
          "Single",
          "Single",
          "Single",
          "Single",
          "Single",
          "Married",
          "Married",
          "Single",
          "Single",
          "Single",
          "Married",
          null,
          "Single",
          "Married",
          "Married",
          "Married",
          "Married",
          "Married",
          "Single",
          "Single",
          "Single",
          "Married",
          "Married",
          "Married",
          "Single",
          "Married",
          "Single",
          "Single",
          "Single",
          "Single",
          "Married",
          "Single",
          "Married",
          "Single",
          "Married",
          "Married",
          null,
          "Single",
          "Single",
          "Married",
          "Single",
          "Married",
          "Single",
          "Married",
          "Single",
          "Married",
          "Married",
          "Married",
          "Single",
          "Married",
          "Single",
          "Single",
          "Married",
          "Married",
          "Married",
          "Single",
          "Married",
          "Single",
          "Single",
          "Married",
          "Single",
          "Married",
          "Married",
          "Single",
          null,
          "Single",
          "Married",
          "Single",
          "Single",
          "Married",
          "Single",
          "Single",
          "Single",
          "Married",
          "Married",
          "Single",
          "Married",
          "Single",
          "Single",
          "Single",
          "Married",
          "Married",
          "Single",
          "Single",
          "Married",
          "Single",
          "Single",
          "Married",
          "Single",
          "Married",
          "Single",
          "Single",
          "Married",
          "Single",
          "Married",
          "Single",
          "Single",
          "Married",
          "Single",
          "Married",
          "Married",
          "Single",
          "Married",
          "Married",
          null,
          "Married",
          "Married",
          "Single",
          "Married",
          "Single",
          "Married",
          "Married",
          "Single",
          "Married",
          "Single",
          "Married",
          "Married",
          "Married",
          "Single",
          "Married",
          "Married",
          "Married",
          "Single",
          "Single",
          "Single",
          "Single",
          "Married",
          "Married",
          "Married",
          "Single",
          "Married",
          "Single",
          "Married",
          "Single",
          "Married",
          "Married",
          "Married",
          "Married",
          "Married",
          "Married",
          "Single",
          "Married",
          "Single",
          "Married",
          "Married",
          "Married",
          "Married",
          "Married",
          "Single",
          "Married",
          "Single",
          "Married",
          "Married",
          "Married",
          "Single",
          "Married",
          "Married",
          "Single",
          "Single",
          "Single",
          "Married",
          "Married",
          "Single",
          "Single",
          "Single",
          "Single",
          "Single",
          "Married",
          "Married",
          "Single",
          "Married",
          "Married",
          "Single",
          "Married",
          "Single",
          "Married",
          "Married",
          "Married",
          "Married",
          "Single",
          "Married",
          "Married",
          "Single",
          "Single",
          "Single",
          "Married",
          "Single",
          "Single",
          "Married",
          "Married",
          "Married",
          "Married",
          "Single",
          "Single",
          "Married",
          "Single",
          "Married",
          "Single",
          "Single",
          "Married",
          "Single",
          "Married",
          "Single",
          "Married",
          "Single",
          "Married",
          "Single",
          "Single",
          "Single",
          "Single",
          "Married",
          "Single",
          "Single",
          "Married",
          "Single",
          "Single",
          "Single",
          "Married",
          "Married",
          "Married",
          "Married",
          "Single",
          "Married",
          "Single",
          "Married",
          "Married",
          "Married",
          "Married",
          "Single",
          "Married",
          "Married",
          "Married",
          "Married",
          "Married",
          "Married",
          "Married",
          "Married",
          "Married",
          "Single",
          "Single",
          "Single",
          "Single",
          "Married",
          "Single",
          "Single",
          "Single",
          "Married",
          "Single",
          "Married",
          "Married",
          "Married",
          "Single",
          "Married",
          "Married",
          "Married",
          "Married",
          "Married",
          "Single",
          "Single",
          "Married",
          "Married",
          "Single",
          "Married",
          "Single",
          "Married",
          "Single",
          "Married",
          "Married",
          "Married",
          "Single",
          "Married",
          "Married",
          "Single",
          "Married",
          "Single",
          "Married",
          "Married",
          "Married",
          "Married",
          "Married",
          "Single",
          "Single",
          "Married",
          "Single",
          "Married",
          "Married",
          "Single",
          "Married",
          "Married",
          "Single",
          "Married",
          "Married",
          "Single",
          "Single",
          "Married",
          "Married",
          "Married",
          "Single",
          "Married",
          "Married",
          "Married",
          "Married",
          "Single",
          "Married",
          "Single",
          "Married",
          "Single",
          "Single",
          "Married",
          "Married",
          "Single",
          "Single",
          "Married",
          "Single",
          "Single",
          "Married",
          "Married",
          "Single",
          "Single",
          "Married",
          "Married",
          "Married",
          "Married",
          "Married",
          "Married",
          "Married",
          "Married",
          "Single",
          "Married",
          "Married",
          "Married",
          "Single",
          "Married",
          "Single",
          "Single",
          "Married",
          "Married",
          "Married",
          "Married",
          "Single",
          "Married",
          "Single",
          "Married",
          "Married",
          "Married",
          "Married",
          "Married",
          "Married",
          "Single",
          "Married",
          "Married",
          "Married",
          "Single",
          "Married",
          "Married",
          "Married",
          "Married",
          "Married",
          "Married",
          "Married",
          "Married",
          "Single",
          "Single",
          "Single",
          "Married",
          "Married",
          "Married",
          "Married",
          "Single",
          "Married",
          "Single",
          "Single",
          "Married",
          "Married",
          "Married",
          "Single",
          "Married",
          "Married",
          "Married",
          "Single",
          "Married",
          "Married",
          "Single",
          "Married",
          "Single",
          "Single",
          "Married",
          "Married",
          "Married",
          "Married",
          "Single",
          "Married",
          "Married",
          "Married",
          "Single",
          "Married",
          "Married",
          "Single",
          "Married",
          "Married",
          "Single",
          "Married",
          "Married",
          "Married",
          "Married",
          "Single",
          "Single",
          "Married",
          "Single",
          "Single",
          "Single",
          "Married",
          "Married",
          "Single",
          "Married",
          "Single",
          "Single",
          "Married",
          "Single",
          "Married",
          "Married",
          "Married",
          "Single",
          "Married",
          "Married",
          "Married",
          "Married",
          "Married",
          "Married",
          "Married",
          "Married",
          "Single",
          "Married",
          "Married",
          "Married",
          "Single",
          "Married",
          "Single",
          "Single",
          "Single",
          "Married",
          "Married",
          "Married",
          "Married",
          "Single",
          "Single",
          "Married",
          "Single",
          "Single",
          "Married",
          "Single",
          "Single",
          "Married",
          "Married",
          "Married",
          "Single",
          "Married",
          "Married",
          "Single",
          "Single",
          "Married",
          "Married",
          "Married",
          "Married",
          "Single",
          "Married",
          "Single",
          "Married",
          "Single",
          "Married",
          "Married",
          "Married",
          "Married",
          "Single",
          "Married",
          "Single",
          "Married",
          "Married",
          "Single",
          "Married",
          "Married",
          "Married",
          "Single",
          "Married",
          "Married",
          "Single",
          "Single",
          "Single"
         ],
         "x0": " ",
         "xaxis": "x",
         "y": [
          3,
          5,
          0,
          2,
          1,
          2,
          2,
          5,
          2,
          1,
          3,
          2,
          2,
          2,
          2,
          1,
          0,
          5,
          0,
          2,
          5,
          0,
          2,
          0,
          0,
          4,
          0,
          4,
          2,
          2,
          4,
          2,
          0,
          0,
          0,
          2,
          2,
          0,
          0,
          2,
          0,
          3,
          5,
          0,
          1,
          0,
          1,
          1,
          0,
          2,
          3,
          2,
          1,
          2,
          0,
          0,
          0,
          5,
          2,
          5,
          0,
          1,
          2,
          3,
          2,
          4,
          0,
          2,
          2,
          2,
          0,
          1,
          1,
          0,
          4,
          0,
          1,
          1,
          1,
          2,
          2,
          0,
          1,
          0,
          0,
          1,
          0,
          0,
          4,
          1,
          2,
          5,
          1,
          3,
          2,
          0,
          2,
          0,
          0,
          1,
          2,
          3,
          5,
          0,
          1,
          4,
          2,
          1,
          0,
          1,
          0,
          1,
          3,
          5,
          4,
          0,
          0,
          5,
          1,
          1,
          5,
          0,
          5,
          4,
          0,
          3,
          2,
          1,
          0,
          0,
          5,
          5,
          4,
          0,
          1,
          1,
          0,
          1,
          0,
          3,
          0,
          0,
          1,
          1,
          4,
          2,
          2,
          2,
          2,
          4,
          1,
          4,
          3,
          5,
          0,
          2,
          0,
          4,
          0,
          4,
          2,
          1,
          2,
          0,
          3,
          2,
          0,
          0,
          1,
          0,
          0,
          0,
          1,
          2,
          0,
          3,
          0,
          1,
          0,
          4,
          0,
          0,
          1,
          1,
          5,
          1,
          0,
          1,
          3,
          3,
          3,
          0,
          4,
          0,
          3,
          0,
          1,
          1,
          2,
          1,
          1,
          1,
          3,
          5,
          2,
          2,
          1,
          2,
          2,
          0,
          0,
          2,
          0,
          4,
          0,
          5,
          0,
          2,
          4,
          0,
          0,
          3,
          0,
          0,
          2,
          2,
          1,
          0,
          0,
          4,
          2,
          0,
          1,
          0,
          1,
          2,
          0,
          0,
          4,
          2,
          5,
          4,
          2,
          1,
          5,
          0,
          2,
          4,
          0,
          3,
          0,
          4,
          0,
          3,
          5,
          1,
          4,
          3,
          3,
          5,
          1,
          2,
          0,
          0,
          3,
          4,
          3,
          1,
          0,
          2,
          0,
          4,
          2,
          3,
          3,
          0,
          4,
          0,
          3,
          1,
          1,
          3,
          3,
          2,
          0,
          3,
          2,
          1,
          4,
          0,
          4,
          3,
          2,
          2,
          2,
          2,
          4,
          4,
          2,
          1,
          2,
          2,
          1,
          0,
          3,
          2,
          3,
          0,
          1,
          1,
          4,
          4,
          5,
          3,
          3,
          0,
          5,
          3,
          0,
          null,
          2,
          4,
          0,
          0,
          5,
          0,
          0,
          2,
          1,
          2,
          0,
          1,
          2,
          3,
          2,
          4,
          5,
          4,
          3,
          0,
          0,
          1,
          1,
          0,
          2,
          0,
          0,
          1,
          5,
          0,
          0,
          4,
          4,
          4,
          2,
          2,
          2,
          1,
          0,
          2,
          1,
          0,
          2,
          4,
          0,
          1,
          4,
          2,
          2,
          1,
          0,
          3,
          1,
          1,
          3,
          2,
          1,
          4,
          1,
          1,
          4,
          2,
          2,
          0,
          5,
          3,
          4,
          4,
          4,
          2,
          0,
          1,
          1,
          2,
          2,
          5,
          0,
          4,
          4,
          0,
          0,
          0,
          2,
          0,
          0,
          0,
          1,
          0,
          0,
          2,
          3,
          4,
          1,
          2,
          1,
          4,
          2,
          2,
          0,
          0,
          2,
          1,
          0,
          0,
          2,
          0,
          0,
          0,
          0,
          2,
          5,
          1,
          2,
          3,
          0,
          5,
          2,
          4,
          2,
          0,
          4,
          3,
          0,
          1,
          1,
          3,
          0,
          5,
          4,
          3,
          4,
          4,
          1,
          4,
          0,
          4,
          2,
          5,
          3,
          3,
          3,
          2,
          3,
          2,
          2,
          2,
          5,
          0,
          2,
          4,
          2,
          2,
          2,
          1,
          5,
          1,
          null,
          2,
          4,
          3,
          0,
          0,
          3,
          3,
          5,
          0,
          5,
          2,
          2,
          2,
          5,
          5,
          4,
          2,
          1,
          5,
          2,
          4,
          3,
          3
         ],
         "y0": " ",
         "yaxis": "y"
        }
       ],
       "layout": {
        "boxmode": "group",
        "legend": {
         "title": {
          "text": "Gender"
         },
         "tracegroupgap": 0
        },
        "margin": {
         "t": 60
        },
        "template": {
         "data": {
          "bar": [
           {
            "error_x": {
             "color": "#2a3f5f"
            },
            "error_y": {
             "color": "#2a3f5f"
            },
            "marker": {
             "line": {
              "color": "#E5ECF6",
              "width": 0.5
             },
             "pattern": {
              "fillmode": "overlay",
              "size": 10,
              "solidity": 0.2
             }
            },
            "type": "bar"
           }
          ],
          "barpolar": [
           {
            "marker": {
             "line": {
              "color": "#E5ECF6",
              "width": 0.5
             },
             "pattern": {
              "fillmode": "overlay",
              "size": 10,
              "solidity": 0.2
             }
            },
            "type": "barpolar"
           }
          ],
          "carpet": [
           {
            "aaxis": {
             "endlinecolor": "#2a3f5f",
             "gridcolor": "white",
             "linecolor": "white",
             "minorgridcolor": "white",
             "startlinecolor": "#2a3f5f"
            },
            "baxis": {
             "endlinecolor": "#2a3f5f",
             "gridcolor": "white",
             "linecolor": "white",
             "minorgridcolor": "white",
             "startlinecolor": "#2a3f5f"
            },
            "type": "carpet"
           }
          ],
          "choropleth": [
           {
            "colorbar": {
             "outlinewidth": 0,
             "ticks": ""
            },
            "type": "choropleth"
           }
          ],
          "contour": [
           {
            "colorbar": {
             "outlinewidth": 0,
             "ticks": ""
            },
            "colorscale": [
             [
              0,
              "#0d0887"
             ],
             [
              0.1111111111111111,
              "#46039f"
             ],
             [
              0.2222222222222222,
              "#7201a8"
             ],
             [
              0.3333333333333333,
              "#9c179e"
             ],
             [
              0.4444444444444444,
              "#bd3786"
             ],
             [
              0.5555555555555556,
              "#d8576b"
             ],
             [
              0.6666666666666666,
              "#ed7953"
             ],
             [
              0.7777777777777778,
              "#fb9f3a"
             ],
             [
              0.8888888888888888,
              "#fdca26"
             ],
             [
              1,
              "#f0f921"
             ]
            ],
            "type": "contour"
           }
          ],
          "contourcarpet": [
           {
            "colorbar": {
             "outlinewidth": 0,
             "ticks": ""
            },
            "type": "contourcarpet"
           }
          ],
          "heatmap": [
           {
            "colorbar": {
             "outlinewidth": 0,
             "ticks": ""
            },
            "colorscale": [
             [
              0,
              "#0d0887"
             ],
             [
              0.1111111111111111,
              "#46039f"
             ],
             [
              0.2222222222222222,
              "#7201a8"
             ],
             [
              0.3333333333333333,
              "#9c179e"
             ],
             [
              0.4444444444444444,
              "#bd3786"
             ],
             [
              0.5555555555555556,
              "#d8576b"
             ],
             [
              0.6666666666666666,
              "#ed7953"
             ],
             [
              0.7777777777777778,
              "#fb9f3a"
             ],
             [
              0.8888888888888888,
              "#fdca26"
             ],
             [
              1,
              "#f0f921"
             ]
            ],
            "type": "heatmap"
           }
          ],
          "heatmapgl": [
           {
            "colorbar": {
             "outlinewidth": 0,
             "ticks": ""
            },
            "colorscale": [
             [
              0,
              "#0d0887"
             ],
             [
              0.1111111111111111,
              "#46039f"
             ],
             [
              0.2222222222222222,
              "#7201a8"
             ],
             [
              0.3333333333333333,
              "#9c179e"
             ],
             [
              0.4444444444444444,
              "#bd3786"
             ],
             [
              0.5555555555555556,
              "#d8576b"
             ],
             [
              0.6666666666666666,
              "#ed7953"
             ],
             [
              0.7777777777777778,
              "#fb9f3a"
             ],
             [
              0.8888888888888888,
              "#fdca26"
             ],
             [
              1,
              "#f0f921"
             ]
            ],
            "type": "heatmapgl"
           }
          ],
          "histogram": [
           {
            "marker": {
             "pattern": {
              "fillmode": "overlay",
              "size": 10,
              "solidity": 0.2
             }
            },
            "type": "histogram"
           }
          ],
          "histogram2d": [
           {
            "colorbar": {
             "outlinewidth": 0,
             "ticks": ""
            },
            "colorscale": [
             [
              0,
              "#0d0887"
             ],
             [
              0.1111111111111111,
              "#46039f"
             ],
             [
              0.2222222222222222,
              "#7201a8"
             ],
             [
              0.3333333333333333,
              "#9c179e"
             ],
             [
              0.4444444444444444,
              "#bd3786"
             ],
             [
              0.5555555555555556,
              "#d8576b"
             ],
             [
              0.6666666666666666,
              "#ed7953"
             ],
             [
              0.7777777777777778,
              "#fb9f3a"
             ],
             [
              0.8888888888888888,
              "#fdca26"
             ],
             [
              1,
              "#f0f921"
             ]
            ],
            "type": "histogram2d"
           }
          ],
          "histogram2dcontour": [
           {
            "colorbar": {
             "outlinewidth": 0,
             "ticks": ""
            },
            "colorscale": [
             [
              0,
              "#0d0887"
             ],
             [
              0.1111111111111111,
              "#46039f"
             ],
             [
              0.2222222222222222,
              "#7201a8"
             ],
             [
              0.3333333333333333,
              "#9c179e"
             ],
             [
              0.4444444444444444,
              "#bd3786"
             ],
             [
              0.5555555555555556,
              "#d8576b"
             ],
             [
              0.6666666666666666,
              "#ed7953"
             ],
             [
              0.7777777777777778,
              "#fb9f3a"
             ],
             [
              0.8888888888888888,
              "#fdca26"
             ],
             [
              1,
              "#f0f921"
             ]
            ],
            "type": "histogram2dcontour"
           }
          ],
          "mesh3d": [
           {
            "colorbar": {
             "outlinewidth": 0,
             "ticks": ""
            },
            "type": "mesh3d"
           }
          ],
          "parcoords": [
           {
            "line": {
             "colorbar": {
              "outlinewidth": 0,
              "ticks": ""
             }
            },
            "type": "parcoords"
           }
          ],
          "pie": [
           {
            "automargin": true,
            "type": "pie"
           }
          ],
          "scatter": [
           {
            "fillpattern": {
             "fillmode": "overlay",
             "size": 10,
             "solidity": 0.2
            },
            "type": "scatter"
           }
          ],
          "scatter3d": [
           {
            "line": {
             "colorbar": {
              "outlinewidth": 0,
              "ticks": ""
             }
            },
            "marker": {
             "colorbar": {
              "outlinewidth": 0,
              "ticks": ""
             }
            },
            "type": "scatter3d"
           }
          ],
          "scattercarpet": [
           {
            "marker": {
             "colorbar": {
              "outlinewidth": 0,
              "ticks": ""
             }
            },
            "type": "scattercarpet"
           }
          ],
          "scattergeo": [
           {
            "marker": {
             "colorbar": {
              "outlinewidth": 0,
              "ticks": ""
             }
            },
            "type": "scattergeo"
           }
          ],
          "scattergl": [
           {
            "marker": {
             "colorbar": {
              "outlinewidth": 0,
              "ticks": ""
             }
            },
            "type": "scattergl"
           }
          ],
          "scattermapbox": [
           {
            "marker": {
             "colorbar": {
              "outlinewidth": 0,
              "ticks": ""
             }
            },
            "type": "scattermapbox"
           }
          ],
          "scatterpolar": [
           {
            "marker": {
             "colorbar": {
              "outlinewidth": 0,
              "ticks": ""
             }
            },
            "type": "scatterpolar"
           }
          ],
          "scatterpolargl": [
           {
            "marker": {
             "colorbar": {
              "outlinewidth": 0,
              "ticks": ""
             }
            },
            "type": "scatterpolargl"
           }
          ],
          "scatterternary": [
           {
            "marker": {
             "colorbar": {
              "outlinewidth": 0,
              "ticks": ""
             }
            },
            "type": "scatterternary"
           }
          ],
          "surface": [
           {
            "colorbar": {
             "outlinewidth": 0,
             "ticks": ""
            },
            "colorscale": [
             [
              0,
              "#0d0887"
             ],
             [
              0.1111111111111111,
              "#46039f"
             ],
             [
              0.2222222222222222,
              "#7201a8"
             ],
             [
              0.3333333333333333,
              "#9c179e"
             ],
             [
              0.4444444444444444,
              "#bd3786"
             ],
             [
              0.5555555555555556,
              "#d8576b"
             ],
             [
              0.6666666666666666,
              "#ed7953"
             ],
             [
              0.7777777777777778,
              "#fb9f3a"
             ],
             [
              0.8888888888888888,
              "#fdca26"
             ],
             [
              1,
              "#f0f921"
             ]
            ],
            "type": "surface"
           }
          ],
          "table": [
           {
            "cells": {
             "fill": {
              "color": "#EBF0F8"
             },
             "line": {
              "color": "white"
             }
            },
            "header": {
             "fill": {
              "color": "#C8D4E3"
             },
             "line": {
              "color": "white"
             }
            },
            "type": "table"
           }
          ]
         },
         "layout": {
          "annotationdefaults": {
           "arrowcolor": "#2a3f5f",
           "arrowhead": 0,
           "arrowwidth": 1
          },
          "autotypenumbers": "strict",
          "coloraxis": {
           "colorbar": {
            "outlinewidth": 0,
            "ticks": ""
           }
          },
          "colorscale": {
           "diverging": [
            [
             0,
             "#8e0152"
            ],
            [
             0.1,
             "#c51b7d"
            ],
            [
             0.2,
             "#de77ae"
            ],
            [
             0.3,
             "#f1b6da"
            ],
            [
             0.4,
             "#fde0ef"
            ],
            [
             0.5,
             "#f7f7f7"
            ],
            [
             0.6,
             "#e6f5d0"
            ],
            [
             0.7,
             "#b8e186"
            ],
            [
             0.8,
             "#7fbc41"
            ],
            [
             0.9,
             "#4d9221"
            ],
            [
             1,
             "#276419"
            ]
           ],
           "sequential": [
            [
             0,
             "#0d0887"
            ],
            [
             0.1111111111111111,
             "#46039f"
            ],
            [
             0.2222222222222222,
             "#7201a8"
            ],
            [
             0.3333333333333333,
             "#9c179e"
            ],
            [
             0.4444444444444444,
             "#bd3786"
            ],
            [
             0.5555555555555556,
             "#d8576b"
            ],
            [
             0.6666666666666666,
             "#ed7953"
            ],
            [
             0.7777777777777778,
             "#fb9f3a"
            ],
            [
             0.8888888888888888,
             "#fdca26"
            ],
            [
             1,
             "#f0f921"
            ]
           ],
           "sequentialminus": [
            [
             0,
             "#0d0887"
            ],
            [
             0.1111111111111111,
             "#46039f"
            ],
            [
             0.2222222222222222,
             "#7201a8"
            ],
            [
             0.3333333333333333,
             "#9c179e"
            ],
            [
             0.4444444444444444,
             "#bd3786"
            ],
            [
             0.5555555555555556,
             "#d8576b"
            ],
            [
             0.6666666666666666,
             "#ed7953"
            ],
            [
             0.7777777777777778,
             "#fb9f3a"
            ],
            [
             0.8888888888888888,
             "#fdca26"
            ],
            [
             1,
             "#f0f921"
            ]
           ]
          },
          "colorway": [
           "#636efa",
           "#EF553B",
           "#00cc96",
           "#ab63fa",
           "#FFA15A",
           "#19d3f3",
           "#FF6692",
           "#B6E880",
           "#FF97FF",
           "#FECB52"
          ],
          "font": {
           "color": "#2a3f5f"
          },
          "geo": {
           "bgcolor": "white",
           "lakecolor": "white",
           "landcolor": "#E5ECF6",
           "showlakes": true,
           "showland": true,
           "subunitcolor": "white"
          },
          "hoverlabel": {
           "align": "left"
          },
          "hovermode": "closest",
          "mapbox": {
           "style": "light"
          },
          "paper_bgcolor": "white",
          "plot_bgcolor": "#E5ECF6",
          "polar": {
           "angularaxis": {
            "gridcolor": "white",
            "linecolor": "white",
            "ticks": ""
           },
           "bgcolor": "#E5ECF6",
           "radialaxis": {
            "gridcolor": "white",
            "linecolor": "white",
            "ticks": ""
           }
          },
          "scene": {
           "xaxis": {
            "backgroundcolor": "#E5ECF6",
            "gridcolor": "white",
            "gridwidth": 2,
            "linecolor": "white",
            "showbackground": true,
            "ticks": "",
            "zerolinecolor": "white"
           },
           "yaxis": {
            "backgroundcolor": "#E5ECF6",
            "gridcolor": "white",
            "gridwidth": 2,
            "linecolor": "white",
            "showbackground": true,
            "ticks": "",
            "zerolinecolor": "white"
           },
           "zaxis": {
            "backgroundcolor": "#E5ECF6",
            "gridcolor": "white",
            "gridwidth": 2,
            "linecolor": "white",
            "showbackground": true,
            "ticks": "",
            "zerolinecolor": "white"
           }
          },
          "shapedefaults": {
           "line": {
            "color": "#2a3f5f"
           }
          },
          "ternary": {
           "aaxis": {
            "gridcolor": "white",
            "linecolor": "white",
            "ticks": ""
           },
           "baxis": {
            "gridcolor": "white",
            "linecolor": "white",
            "ticks": ""
           },
           "bgcolor": "#E5ECF6",
           "caxis": {
            "gridcolor": "white",
            "linecolor": "white",
            "ticks": ""
           }
          },
          "title": {
           "x": 0.05
          },
          "xaxis": {
           "automargin": true,
           "gridcolor": "white",
           "linecolor": "white",
           "ticks": "",
           "title": {
            "standoff": 15
           },
           "zerolinecolor": "white",
           "zerolinewidth": 2
          },
          "yaxis": {
           "automargin": true,
           "gridcolor": "white",
           "linecolor": "white",
           "ticks": "",
           "title": {
            "standoff": 15
           },
           "zerolinecolor": "white",
           "zerolinewidth": 2
          }
         }
        },
        "xaxis": {
         "anchor": "y",
         "domain": [
          0,
          1
         ],
         "title": {
          "text": "Marital Status"
         }
        },
        "yaxis": {
         "anchor": "x",
         "domain": [
          0,
          1
         ],
         "title": {
          "text": "Children"
         }
        }
       }
      },
      "text/html": [
       "<div>                            <div id=\"e203df29-b770-4eb4-97c8-5fafa5c44dd2\" class=\"plotly-graph-div\" style=\"height:525px; width:100%;\"></div>            <script type=\"text/javascript\">                require([\"plotly\"], function(Plotly) {                    window.PLOTLYENV=window.PLOTLYENV || {};                                    if (document.getElementById(\"e203df29-b770-4eb4-97c8-5fafa5c44dd2\")) {                    Plotly.newPlot(                        \"e203df29-b770-4eb4-97c8-5fafa5c44dd2\",                        [{\"alignmentgroup\":\"True\",\"hovertemplate\":\"Gender=Female\\u003cbr\\u003eMarital Status=%{x}\\u003cbr\\u003eChildren=%{y}\\u003cextra\\u003e\\u003c\\u002fextra\\u003e\",\"legendgroup\":\"Female\",\"marker\":{\"color\":\"#636efa\"},\"name\":\"Female\",\"notched\":false,\"offsetgroup\":\"Female\",\"orientation\":\"v\",\"showlegend\":true,\"x\":[\"Married\",\"Married\",\"Married\",\"Single\",\"Single\",\"Married\",\"Married\",\"Single\",\"Married\",null,\"Single\",\"Married\",\"Single\",\"Single\",\"Married\",\"Single\",\"Single\",\"Single\",\"Single\",\"Married\",\"Married\",\"Married\",\"Married\",\"Married\",\"Single\",\"Single\",\"Married\",\"Single\",\"Single\",\"Married\",\"Single\",\"Single\",\"Married\",\"Married\",\"Single\",\"Married\",\"Single\",\"Married\",\"Single\",\"Married\",\"Single\",\"Single\",\"Married\",\"Single\",\"Single\",\"Single\",\"Single\",\"Single\",\"Single\",\"Married\",\"Single\",\"Single\",\"Single\",\"Married\",\"Single\",\"Single\",\"Single\",\"Single\",\"Married\",\"Single\",\"Single\",\"Married\",\"Single\",\"Single\",\"Single\",\"Single\",\"Single\",\"Married\",\"Single\",\"Single\",\"Married\",\"Married\",\"Married\",\"Single\",\"Single\",\"Married\",\"Single\",\"Married\",\"Single\",\"Married\",\"Single\",\"Married\",\"Married\",\"Married\",\"Married\",\"Single\",\"Single\",\"Single\",\"Married\",\"Married\",\"Married\",\"Married\",\"Married\",\"Married\",\"Married\",\"Single\",\"Married\",\"Single\",\"Single\",\"Single\",\"Single\",\"Single\",\"Single\",\"Single\",\"Single\",\"Married\",\"Married\",\"Single\",\"Single\",\"Married\",\"Single\",\"Married\",\"Single\",\"Married\",\"Married\",\"Married\",\"Married\",\"Single\",\"Married\",\"Single\",\"Single\",\"Single\",\"Married\",\"Married\",\"Married\",\"Married\",\"Single\",\"Single\",\"Single\",\"Single\",\"Married\",\"Married\",\"Single\",\"Single\",\"Single\",\"Single\",\"Single\",\"Single\",\"Single\",\"Married\",\"Married\",\"Married\",\"Married\",\"Single\",\"Married\",\"Married\",\"Single\",\"Single\",\"Single\",\"Married\",\"Single\",\"Single\",\"Single\",\"Married\",\"Married\",\"Single\",null,\"Married\",\"Married\",\"Married\",\"Single\",\"Single\",\"Single\",\"Married\",\"Married\",\"Single\",\"Single\",\"Single\",\"Single\",\"Single\",\"Married\",\"Single\",\"Single\",\"Married\",\"Married\",\"Single\",\"Single\",\"Married\",\"Single\",\"Single\",\"Married\",\"Single\",\"Single\",\"Married\",\"Single\",\"Married\",\"Married\",\"Single\",\"Single\",\"Single\",\"Married\",\"Married\",\"Single\",\"Married\",\"Married\",\"Married\",\"Single\",\"Single\",\"Married\",\"Married\",\"Married\",\"Single\",\"Single\",\"Married\",\"Married\",\"Single\",\"Married\",\"Married\",\"Single\",\"Married\",\"Single\",\"Single\",\"Single\",\"Single\",\"Married\",\"Single\",\"Married\",\"Single\",\"Married\",\"Single\",\"Single\",\"Married\",\"Married\",\"Married\",\"Married\",\"Married\",\"Married\",\"Single\",\"Married\",\"Married\",\"Single\",\"Married\",\"Married\",\"Single\",\"Married\",\"Married\",\"Single\",\"Single\",\"Married\",\"Married\",\"Single\",\"Married\",\"Married\",\"Single\",\"Married\",\"Single\",\"Single\",\"Married\",\"Single\",\"Single\",\"Single\",\"Single\",\"Single\",\"Married\",\"Married\",\"Married\",\"Married\",\"Married\",\"Single\",\"Married\",\"Married\",\"Married\",\"Single\",\"Married\",\"Single\",\"Single\",\"Single\",\"Married\",\"Married\",\"Single\",\"Single\",\"Married\",\"Single\",\"Married\",\"Single\",\"Married\",\"Married\",\"Married\",\"Married\",\"Single\",\"Married\",\"Married\",\"Married\",\"Single\",\"Married\",\"Single\",\"Single\",\"Single\",\"Married\",\"Married\",\"Married\",\"Married\",\"Single\",\"Single\",\"Single\",\"Married\",\"Married\",\"Single\",\"Married\",\"Single\",\"Married\",\"Single\",\"Single\",\"Single\",\"Single\",\"Married\",\"Married\",\"Single\",\"Married\",\"Married\",\"Married\",\"Single\",\"Married\",\"Single\",\"Single\",\"Married\",\"Married\",\"Married\",\"Married\",\"Single\",\"Single\",\"Single\",\"Single\",\"Single\",\"Married\",\"Single\",\"Married\",\"Single\",\"Married\",\"Married\",\"Married\",\"Married\",\"Married\",\"Married\",\"Single\",\"Single\",\"Single\",\"Married\",\"Married\",\"Single\",\"Married\",\"Single\",\"Single\",\"Married\",\"Single\",\"Single\",\"Single\",\"Married\",\"Married\",\"Single\",\"Single\",\"Married\",\"Single\",\"Married\",\"Single\",\"Married\",\"Married\",\"Single\",\"Married\",\"Single\",\"Married\",\"Single\",\"Single\",\"Single\",\"Married\",\"Single\",\"Single\",\"Single\",\"Single\",\"Single\",\"Married\",\"Married\",\"Married\",\"Married\",\"Single\",\"Married\",\"Single\",\"Married\",\"Single\",\"Single\",\"Married\",\"Married\",\"Single\",\"Married\",\"Married\",\"Married\",\"Married\",\"Married\",\"Married\",\"Single\",\"Single\",\"Married\",\"Single\",\"Single\",\"Single\",\"Single\",\"Single\",\"Single\",\"Married\",\"Single\",\"Married\",\"Single\",\"Single\",\"Married\",\"Single\",\"Married\",\"Married\",\"Single\",\"Single\",\"Single\",\"Single\",\"Married\",\"Married\",\"Single\",\"Single\",\"Single\",\"Married\",\"Single\",\"Single\",\"Married\",\"Married\",\"Single\",\"Married\",\"Single\",\"Married\",\"Single\",\"Married\",\"Single\",\"Married\",\"Married\",\"Single\",\"Single\",\"Single\",\"Married\",\"Single\",\"Married\",\"Married\",\"Married\",\"Single\",\"Married\",\"Married\",\"Single\",\"Married\",\"Married\",\"Married\",\"Single\",\"Single\",\"Married\",\"Married\",\"Married\",\"Married\",\"Single\",\"Married\",\"Single\",\"Single\",\"Married\",\"Married\",\"Single\",\"Married\",\"Married\",\"Married\",\"Single\",\"Married\",\"Married\",\"Married\",\"Married\",\"Married\",\"Single\",\"Single\",\"Single\",\"Married\",\"Single\",\"Married\",\"Married\",\"Married\",\"Married\",\"Married\",\"Single\",\"Married\",\"Married\",\"Single\",\"Married\",\"Married\",\"Single\",\"Single\",\"Single\",\"Single\",\"Single\",\"Single\"],\"x0\":\" \",\"xaxis\":\"x\",\"y\":[1.0,2.0,3.0,0.0,2.0,1.0,0.0,0.0,5.0,0.0,0.0,2.0,0.0,5.0,2.0,0.0,4.0,2.0,2.0,1.0,4.0,3.0,1.0,1.0,2.0,0.0,1.0,4.0,0.0,1.0,1.0,2.0,1.0,0.0,4.0,0.0,0.0,3.0,0.0,3.0,4.0,0.0,4.0,4.0,0.0,2.0,0.0,3.0,5.0,3.0,2.0,0.0,2.0,0.0,1.0,0.0,2.0,1.0,1.0,null,0.0,2.0,0.0,3.0,0.0,2.0,1.0,2.0,2.0,0.0,0.0,2.0,0.0,0.0,4.0,5.0,2.0,1.0,1.0,2.0,2.0,0.0,4.0,5.0,0.0,2.0,0.0,2.0,0.0,3.0,2.0,4.0,1.0,3.0,0.0,5.0,5.0,0.0,0.0,0.0,1.0,3.0,0.0,0.0,3.0,4.0,0.0,0.0,null,3.0,5.0,2.0,3.0,1.0,0.0,4.0,1.0,5.0,0.0,0.0,3.0,0.0,3.0,3.0,0.0,5.0,3.0,0.0,3.0,2.0,1.0,2.0,5.0,2.0,5.0,0.0,2.0,0.0,0.0,0.0,1.0,2.0,2.0,3.0,5.0,1.0,1.0,3.0,1.0,1.0,1.0,0.0,2.0,4.0,2.0,5.0,0.0,1.0,2.0,3.0,0.0,4.0,0.0,0.0,5.0,0.0,0.0,3.0,0.0,0.0,1.0,1.0,0.0,4.0,3.0,0.0,3.0,2.0,2.0,0.0,3.0,2.0,2.0,4.0,5.0,1.0,2.0,0.0,null,0.0,1.0,0.0,0.0,0.0,0.0,2.0,2.0,3.0,1.0,0.0,1.0,2.0,2.0,3.0,2.0,2.0,0.0,5.0,2.0,2.0,3.0,1.0,0.0,3.0,0.0,3.0,3.0,2.0,2.0,3.0,0.0,1.0,1.0,0.0,1.0,3.0,1.0,2.0,1.0,2.0,5.0,4.0,1.0,0.0,1.0,0.0,3.0,3.0,5.0,1.0,0.0,0.0,2.0,0.0,1.0,2.0,0.0,4.0,0.0,3.0,3.0,1.0,0.0,0.0,1.0,4.0,1.0,1.0,4.0,5.0,2.0,0.0,4.0,1.0,0.0,1.0,3.0,1.0,4.0,0.0,3.0,2.0,4.0,null,0.0,4.0,2.0,3.0,3.0,2.0,0.0,2.0,2.0,0.0,2.0,0.0,0.0,3.0,3.0,0.0,2.0,1.0,5.0,2.0,3.0,4.0,2.0,5.0,0.0,0.0,3.0,4.0,4.0,3.0,0.0,4.0,4.0,0.0,0.0,3.0,1.0,4.0,1.0,2.0,4.0,2.0,3.0,3.0,5.0,0.0,4.0,2.0,0.0,5.0,3.0,4.0,1.0,1.0,5.0,0.0,1.0,5.0,0.0,2.0,1.0,0.0,4.0,2.0,0.0,4.0,5.0,4.0,3.0,1.0,1.0,4.0,3.0,0.0,4.0,0.0,0.0,4.0,0.0,1.0,2.0,2.0,2.0,2.0,1.0,0.0,5.0,5.0,3.0,2.0,3.0,4.0,0.0,1.0,0.0,2.0,2.0,1.0,4.0,2.0,1.0,2.0,0.0,4.0,5.0,3.0,5.0,0.0,0.0,2.0,1.0,4.0,1.0,3.0,2.0,2.0,0.0,1.0,2.0,2.0,2.0,0.0,1.0,null,2.0,0.0,4.0,3.0,4.0,2.0,4.0,3.0,3.0,0.0,4.0,3.0,0.0,4.0,0.0,0.0,2.0,3.0,0.0,3.0,3.0,1.0,5.0,3.0,4.0,0.0,5.0,2.0,0.0,0.0,1.0,2.0,0.0,3.0,3.0,1.0,2.0,4.0,1.0,2.0,4.0,1.0,2.0,4.0,4.0,1.0,5.0,4.0,2.0,5.0,3.0,0.0,4.0,3.0,3.0,0.0,2.0,0.0,1.0,0.0,1.0,4.0,0.0,1.0,1.0,3.0,4.0,1.0,5.0,4.0,0.0,1.0,4.0,3.0,4.0,4.0,0.0,2.0,5.0,3.0,0.0,0.0,2.0,1.0,3.0,4.0,3.0,4.0,3.0,0.0,1.0],\"y0\":\" \",\"yaxis\":\"y\",\"type\":\"box\"},{\"alignmentgroup\":\"True\",\"hovertemplate\":\"Gender=Male\\u003cbr\\u003eMarital Status=%{x}\\u003cbr\\u003eChildren=%{y}\\u003cextra\\u003e\\u003c\\u002fextra\\u003e\",\"legendgroup\":\"Male\",\"marker\":{\"color\":\"#EF553B\"},\"name\":\"Male\",\"notched\":false,\"offsetgroup\":\"Male\",\"orientation\":\"v\",\"showlegend\":true,\"x\":[\"Married\",\"Married\",\"Single\",\"Single\",\"Married\",null,\"Married\",\"Married\",\"Married\",\"Single\",\"Single\",\"Single\",\"Single\",\"Single\",\"Single\",\"Single\",\"Single\",\"Married\",\"Married\",\"Single\",\"Single\",\"Single\",\"Married\",null,\"Single\",\"Married\",\"Married\",\"Married\",\"Married\",\"Married\",\"Single\",\"Single\",\"Single\",\"Married\",\"Married\",\"Married\",\"Single\",\"Married\",\"Single\",\"Single\",\"Single\",\"Single\",\"Married\",\"Single\",\"Married\",\"Single\",\"Married\",\"Married\",null,\"Single\",\"Single\",\"Married\",\"Single\",\"Married\",\"Single\",\"Married\",\"Single\",\"Married\",\"Married\",\"Married\",\"Single\",\"Married\",\"Single\",\"Single\",\"Married\",\"Married\",\"Married\",\"Single\",\"Married\",\"Single\",\"Single\",\"Married\",\"Single\",\"Married\",\"Married\",\"Single\",null,\"Single\",\"Married\",\"Single\",\"Single\",\"Married\",\"Single\",\"Single\",\"Single\",\"Married\",\"Married\",\"Single\",\"Married\",\"Single\",\"Single\",\"Single\",\"Married\",\"Married\",\"Single\",\"Single\",\"Married\",\"Single\",\"Single\",\"Married\",\"Single\",\"Married\",\"Single\",\"Single\",\"Married\",\"Single\",\"Married\",\"Single\",\"Single\",\"Married\",\"Single\",\"Married\",\"Married\",\"Single\",\"Married\",\"Married\",null,\"Married\",\"Married\",\"Single\",\"Married\",\"Single\",\"Married\",\"Married\",\"Single\",\"Married\",\"Single\",\"Married\",\"Married\",\"Married\",\"Single\",\"Married\",\"Married\",\"Married\",\"Single\",\"Single\",\"Single\",\"Single\",\"Married\",\"Married\",\"Married\",\"Single\",\"Married\",\"Single\",\"Married\",\"Single\",\"Married\",\"Married\",\"Married\",\"Married\",\"Married\",\"Married\",\"Single\",\"Married\",\"Single\",\"Married\",\"Married\",\"Married\",\"Married\",\"Married\",\"Single\",\"Married\",\"Single\",\"Married\",\"Married\",\"Married\",\"Single\",\"Married\",\"Married\",\"Single\",\"Single\",\"Single\",\"Married\",\"Married\",\"Single\",\"Single\",\"Single\",\"Single\",\"Single\",\"Married\",\"Married\",\"Single\",\"Married\",\"Married\",\"Single\",\"Married\",\"Single\",\"Married\",\"Married\",\"Married\",\"Married\",\"Single\",\"Married\",\"Married\",\"Single\",\"Single\",\"Single\",\"Married\",\"Single\",\"Single\",\"Married\",\"Married\",\"Married\",\"Married\",\"Single\",\"Single\",\"Married\",\"Single\",\"Married\",\"Single\",\"Single\",\"Married\",\"Single\",\"Married\",\"Single\",\"Married\",\"Single\",\"Married\",\"Single\",\"Single\",\"Single\",\"Single\",\"Married\",\"Single\",\"Single\",\"Married\",\"Single\",\"Single\",\"Single\",\"Married\",\"Married\",\"Married\",\"Married\",\"Single\",\"Married\",\"Single\",\"Married\",\"Married\",\"Married\",\"Married\",\"Single\",\"Married\",\"Married\",\"Married\",\"Married\",\"Married\",\"Married\",\"Married\",\"Married\",\"Married\",\"Single\",\"Single\",\"Single\",\"Single\",\"Married\",\"Single\",\"Single\",\"Single\",\"Married\",\"Single\",\"Married\",\"Married\",\"Married\",\"Single\",\"Married\",\"Married\",\"Married\",\"Married\",\"Married\",\"Single\",\"Single\",\"Married\",\"Married\",\"Single\",\"Married\",\"Single\",\"Married\",\"Single\",\"Married\",\"Married\",\"Married\",\"Single\",\"Married\",\"Married\",\"Single\",\"Married\",\"Single\",\"Married\",\"Married\",\"Married\",\"Married\",\"Married\",\"Single\",\"Single\",\"Married\",\"Single\",\"Married\",\"Married\",\"Single\",\"Married\",\"Married\",\"Single\",\"Married\",\"Married\",\"Single\",\"Single\",\"Married\",\"Married\",\"Married\",\"Single\",\"Married\",\"Married\",\"Married\",\"Married\",\"Single\",\"Married\",\"Single\",\"Married\",\"Single\",\"Single\",\"Married\",\"Married\",\"Single\",\"Single\",\"Married\",\"Single\",\"Single\",\"Married\",\"Married\",\"Single\",\"Single\",\"Married\",\"Married\",\"Married\",\"Married\",\"Married\",\"Married\",\"Married\",\"Married\",\"Single\",\"Married\",\"Married\",\"Married\",\"Single\",\"Married\",\"Single\",\"Single\",\"Married\",\"Married\",\"Married\",\"Married\",\"Single\",\"Married\",\"Single\",\"Married\",\"Married\",\"Married\",\"Married\",\"Married\",\"Married\",\"Single\",\"Married\",\"Married\",\"Married\",\"Single\",\"Married\",\"Married\",\"Married\",\"Married\",\"Married\",\"Married\",\"Married\",\"Married\",\"Single\",\"Single\",\"Single\",\"Married\",\"Married\",\"Married\",\"Married\",\"Single\",\"Married\",\"Single\",\"Single\",\"Married\",\"Married\",\"Married\",\"Single\",\"Married\",\"Married\",\"Married\",\"Single\",\"Married\",\"Married\",\"Single\",\"Married\",\"Single\",\"Single\",\"Married\",\"Married\",\"Married\",\"Married\",\"Single\",\"Married\",\"Married\",\"Married\",\"Single\",\"Married\",\"Married\",\"Single\",\"Married\",\"Married\",\"Single\",\"Married\",\"Married\",\"Married\",\"Married\",\"Single\",\"Single\",\"Married\",\"Single\",\"Single\",\"Single\",\"Married\",\"Married\",\"Single\",\"Married\",\"Single\",\"Single\",\"Married\",\"Single\",\"Married\",\"Married\",\"Married\",\"Single\",\"Married\",\"Married\",\"Married\",\"Married\",\"Married\",\"Married\",\"Married\",\"Married\",\"Single\",\"Married\",\"Married\",\"Married\",\"Single\",\"Married\",\"Single\",\"Single\",\"Single\",\"Married\",\"Married\",\"Married\",\"Married\",\"Single\",\"Single\",\"Married\",\"Single\",\"Single\",\"Married\",\"Single\",\"Single\",\"Married\",\"Married\",\"Married\",\"Single\",\"Married\",\"Married\",\"Single\",\"Single\",\"Married\",\"Married\",\"Married\",\"Married\",\"Single\",\"Married\",\"Single\",\"Married\",\"Single\",\"Married\",\"Married\",\"Married\",\"Married\",\"Single\",\"Married\",\"Single\",\"Married\",\"Married\",\"Single\",\"Married\",\"Married\",\"Married\",\"Single\",\"Married\",\"Married\",\"Single\",\"Single\",\"Single\"],\"x0\":\" \",\"xaxis\":\"x\",\"y\":[3.0,5.0,0.0,2.0,1.0,2.0,2.0,5.0,2.0,1.0,3.0,2.0,2.0,2.0,2.0,1.0,0.0,5.0,0.0,2.0,5.0,0.0,2.0,0.0,0.0,4.0,0.0,4.0,2.0,2.0,4.0,2.0,0.0,0.0,0.0,2.0,2.0,0.0,0.0,2.0,0.0,3.0,5.0,0.0,1.0,0.0,1.0,1.0,0.0,2.0,3.0,2.0,1.0,2.0,0.0,0.0,0.0,5.0,2.0,5.0,0.0,1.0,2.0,3.0,2.0,4.0,0.0,2.0,2.0,2.0,0.0,1.0,1.0,0.0,4.0,0.0,1.0,1.0,1.0,2.0,2.0,0.0,1.0,0.0,0.0,1.0,0.0,0.0,4.0,1.0,2.0,5.0,1.0,3.0,2.0,0.0,2.0,0.0,0.0,1.0,2.0,3.0,5.0,0.0,1.0,4.0,2.0,1.0,0.0,1.0,0.0,1.0,3.0,5.0,4.0,0.0,0.0,5.0,1.0,1.0,5.0,0.0,5.0,4.0,0.0,3.0,2.0,1.0,0.0,0.0,5.0,5.0,4.0,0.0,1.0,1.0,0.0,1.0,0.0,3.0,0.0,0.0,1.0,1.0,4.0,2.0,2.0,2.0,2.0,4.0,1.0,4.0,3.0,5.0,0.0,2.0,0.0,4.0,0.0,4.0,2.0,1.0,2.0,0.0,3.0,2.0,0.0,0.0,1.0,0.0,0.0,0.0,1.0,2.0,0.0,3.0,0.0,1.0,0.0,4.0,0.0,0.0,1.0,1.0,5.0,1.0,0.0,1.0,3.0,3.0,3.0,0.0,4.0,0.0,3.0,0.0,1.0,1.0,2.0,1.0,1.0,1.0,3.0,5.0,2.0,2.0,1.0,2.0,2.0,0.0,0.0,2.0,0.0,4.0,0.0,5.0,0.0,2.0,4.0,0.0,0.0,3.0,0.0,0.0,2.0,2.0,1.0,0.0,0.0,4.0,2.0,0.0,1.0,0.0,1.0,2.0,0.0,0.0,4.0,2.0,5.0,4.0,2.0,1.0,5.0,0.0,2.0,4.0,0.0,3.0,0.0,4.0,0.0,3.0,5.0,1.0,4.0,3.0,3.0,5.0,1.0,2.0,0.0,0.0,3.0,4.0,3.0,1.0,0.0,2.0,0.0,4.0,2.0,3.0,3.0,0.0,4.0,0.0,3.0,1.0,1.0,3.0,3.0,2.0,0.0,3.0,2.0,1.0,4.0,0.0,4.0,3.0,2.0,2.0,2.0,2.0,4.0,4.0,2.0,1.0,2.0,2.0,1.0,0.0,3.0,2.0,3.0,0.0,1.0,1.0,4.0,4.0,5.0,3.0,3.0,0.0,5.0,3.0,0.0,null,2.0,4.0,0.0,0.0,5.0,0.0,0.0,2.0,1.0,2.0,0.0,1.0,2.0,3.0,2.0,4.0,5.0,4.0,3.0,0.0,0.0,1.0,1.0,0.0,2.0,0.0,0.0,1.0,5.0,0.0,0.0,4.0,4.0,4.0,2.0,2.0,2.0,1.0,0.0,2.0,1.0,0.0,2.0,4.0,0.0,1.0,4.0,2.0,2.0,1.0,0.0,3.0,1.0,1.0,3.0,2.0,1.0,4.0,1.0,1.0,4.0,2.0,2.0,0.0,5.0,3.0,4.0,4.0,4.0,2.0,0.0,1.0,1.0,2.0,2.0,5.0,0.0,4.0,4.0,0.0,0.0,0.0,2.0,0.0,0.0,0.0,1.0,0.0,0.0,2.0,3.0,4.0,1.0,2.0,1.0,4.0,2.0,2.0,0.0,0.0,2.0,1.0,0.0,0.0,2.0,0.0,0.0,0.0,0.0,2.0,5.0,1.0,2.0,3.0,0.0,5.0,2.0,4.0,2.0,0.0,4.0,3.0,0.0,1.0,1.0,3.0,0.0,5.0,4.0,3.0,4.0,4.0,1.0,4.0,0.0,4.0,2.0,5.0,3.0,3.0,3.0,2.0,3.0,2.0,2.0,2.0,5.0,0.0,2.0,4.0,2.0,2.0,2.0,1.0,5.0,1.0,null,2.0,4.0,3.0,0.0,0.0,3.0,3.0,5.0,0.0,5.0,2.0,2.0,2.0,5.0,5.0,4.0,2.0,1.0,5.0,2.0,4.0,3.0,3.0],\"y0\":\" \",\"yaxis\":\"y\",\"type\":\"box\"}],                        {\"template\":{\"data\":{\"histogram2dcontour\":[{\"type\":\"histogram2dcontour\",\"colorbar\":{\"outlinewidth\":0,\"ticks\":\"\"},\"colorscale\":[[0.0,\"#0d0887\"],[0.1111111111111111,\"#46039f\"],[0.2222222222222222,\"#7201a8\"],[0.3333333333333333,\"#9c179e\"],[0.4444444444444444,\"#bd3786\"],[0.5555555555555556,\"#d8576b\"],[0.6666666666666666,\"#ed7953\"],[0.7777777777777778,\"#fb9f3a\"],[0.8888888888888888,\"#fdca26\"],[1.0,\"#f0f921\"]]}],\"choropleth\":[{\"type\":\"choropleth\",\"colorbar\":{\"outlinewidth\":0,\"ticks\":\"\"}}],\"histogram2d\":[{\"type\":\"histogram2d\",\"colorbar\":{\"outlinewidth\":0,\"ticks\":\"\"},\"colorscale\":[[0.0,\"#0d0887\"],[0.1111111111111111,\"#46039f\"],[0.2222222222222222,\"#7201a8\"],[0.3333333333333333,\"#9c179e\"],[0.4444444444444444,\"#bd3786\"],[0.5555555555555556,\"#d8576b\"],[0.6666666666666666,\"#ed7953\"],[0.7777777777777778,\"#fb9f3a\"],[0.8888888888888888,\"#fdca26\"],[1.0,\"#f0f921\"]]}],\"heatmap\":[{\"type\":\"heatmap\",\"colorbar\":{\"outlinewidth\":0,\"ticks\":\"\"},\"colorscale\":[[0.0,\"#0d0887\"],[0.1111111111111111,\"#46039f\"],[0.2222222222222222,\"#7201a8\"],[0.3333333333333333,\"#9c179e\"],[0.4444444444444444,\"#bd3786\"],[0.5555555555555556,\"#d8576b\"],[0.6666666666666666,\"#ed7953\"],[0.7777777777777778,\"#fb9f3a\"],[0.8888888888888888,\"#fdca26\"],[1.0,\"#f0f921\"]]}],\"heatmapgl\":[{\"type\":\"heatmapgl\",\"colorbar\":{\"outlinewidth\":0,\"ticks\":\"\"},\"colorscale\":[[0.0,\"#0d0887\"],[0.1111111111111111,\"#46039f\"],[0.2222222222222222,\"#7201a8\"],[0.3333333333333333,\"#9c179e\"],[0.4444444444444444,\"#bd3786\"],[0.5555555555555556,\"#d8576b\"],[0.6666666666666666,\"#ed7953\"],[0.7777777777777778,\"#fb9f3a\"],[0.8888888888888888,\"#fdca26\"],[1.0,\"#f0f921\"]]}],\"contourcarpet\":[{\"type\":\"contourcarpet\",\"colorbar\":{\"outlinewidth\":0,\"ticks\":\"\"}}],\"contour\":[{\"type\":\"contour\",\"colorbar\":{\"outlinewidth\":0,\"ticks\":\"\"},\"colorscale\":[[0.0,\"#0d0887\"],[0.1111111111111111,\"#46039f\"],[0.2222222222222222,\"#7201a8\"],[0.3333333333333333,\"#9c179e\"],[0.4444444444444444,\"#bd3786\"],[0.5555555555555556,\"#d8576b\"],[0.6666666666666666,\"#ed7953\"],[0.7777777777777778,\"#fb9f3a\"],[0.8888888888888888,\"#fdca26\"],[1.0,\"#f0f921\"]]}],\"surface\":[{\"type\":\"surface\",\"colorbar\":{\"outlinewidth\":0,\"ticks\":\"\"},\"colorscale\":[[0.0,\"#0d0887\"],[0.1111111111111111,\"#46039f\"],[0.2222222222222222,\"#7201a8\"],[0.3333333333333333,\"#9c179e\"],[0.4444444444444444,\"#bd3786\"],[0.5555555555555556,\"#d8576b\"],[0.6666666666666666,\"#ed7953\"],[0.7777777777777778,\"#fb9f3a\"],[0.8888888888888888,\"#fdca26\"],[1.0,\"#f0f921\"]]}],\"mesh3d\":[{\"type\":\"mesh3d\",\"colorbar\":{\"outlinewidth\":0,\"ticks\":\"\"}}],\"scatter\":[{\"fillpattern\":{\"fillmode\":\"overlay\",\"size\":10,\"solidity\":0.2},\"type\":\"scatter\"}],\"parcoords\":[{\"type\":\"parcoords\",\"line\":{\"colorbar\":{\"outlinewidth\":0,\"ticks\":\"\"}}}],\"scatterpolargl\":[{\"type\":\"scatterpolargl\",\"marker\":{\"colorbar\":{\"outlinewidth\":0,\"ticks\":\"\"}}}],\"bar\":[{\"error_x\":{\"color\":\"#2a3f5f\"},\"error_y\":{\"color\":\"#2a3f5f\"},\"marker\":{\"line\":{\"color\":\"#E5ECF6\",\"width\":0.5},\"pattern\":{\"fillmode\":\"overlay\",\"size\":10,\"solidity\":0.2}},\"type\":\"bar\"}],\"scattergeo\":[{\"type\":\"scattergeo\",\"marker\":{\"colorbar\":{\"outlinewidth\":0,\"ticks\":\"\"}}}],\"scatterpolar\":[{\"type\":\"scatterpolar\",\"marker\":{\"colorbar\":{\"outlinewidth\":0,\"ticks\":\"\"}}}],\"histogram\":[{\"marker\":{\"pattern\":{\"fillmode\":\"overlay\",\"size\":10,\"solidity\":0.2}},\"type\":\"histogram\"}],\"scattergl\":[{\"type\":\"scattergl\",\"marker\":{\"colorbar\":{\"outlinewidth\":0,\"ticks\":\"\"}}}],\"scatter3d\":[{\"type\":\"scatter3d\",\"line\":{\"colorbar\":{\"outlinewidth\":0,\"ticks\":\"\"}},\"marker\":{\"colorbar\":{\"outlinewidth\":0,\"ticks\":\"\"}}}],\"scattermapbox\":[{\"type\":\"scattermapbox\",\"marker\":{\"colorbar\":{\"outlinewidth\":0,\"ticks\":\"\"}}}],\"scatterternary\":[{\"type\":\"scatterternary\",\"marker\":{\"colorbar\":{\"outlinewidth\":0,\"ticks\":\"\"}}}],\"scattercarpet\":[{\"type\":\"scattercarpet\",\"marker\":{\"colorbar\":{\"outlinewidth\":0,\"ticks\":\"\"}}}],\"carpet\":[{\"aaxis\":{\"endlinecolor\":\"#2a3f5f\",\"gridcolor\":\"white\",\"linecolor\":\"white\",\"minorgridcolor\":\"white\",\"startlinecolor\":\"#2a3f5f\"},\"baxis\":{\"endlinecolor\":\"#2a3f5f\",\"gridcolor\":\"white\",\"linecolor\":\"white\",\"minorgridcolor\":\"white\",\"startlinecolor\":\"#2a3f5f\"},\"type\":\"carpet\"}],\"table\":[{\"cells\":{\"fill\":{\"color\":\"#EBF0F8\"},\"line\":{\"color\":\"white\"}},\"header\":{\"fill\":{\"color\":\"#C8D4E3\"},\"line\":{\"color\":\"white\"}},\"type\":\"table\"}],\"barpolar\":[{\"marker\":{\"line\":{\"color\":\"#E5ECF6\",\"width\":0.5},\"pattern\":{\"fillmode\":\"overlay\",\"size\":10,\"solidity\":0.2}},\"type\":\"barpolar\"}],\"pie\":[{\"automargin\":true,\"type\":\"pie\"}]},\"layout\":{\"autotypenumbers\":\"strict\",\"colorway\":[\"#636efa\",\"#EF553B\",\"#00cc96\",\"#ab63fa\",\"#FFA15A\",\"#19d3f3\",\"#FF6692\",\"#B6E880\",\"#FF97FF\",\"#FECB52\"],\"font\":{\"color\":\"#2a3f5f\"},\"hovermode\":\"closest\",\"hoverlabel\":{\"align\":\"left\"},\"paper_bgcolor\":\"white\",\"plot_bgcolor\":\"#E5ECF6\",\"polar\":{\"bgcolor\":\"#E5ECF6\",\"angularaxis\":{\"gridcolor\":\"white\",\"linecolor\":\"white\",\"ticks\":\"\"},\"radialaxis\":{\"gridcolor\":\"white\",\"linecolor\":\"white\",\"ticks\":\"\"}},\"ternary\":{\"bgcolor\":\"#E5ECF6\",\"aaxis\":{\"gridcolor\":\"white\",\"linecolor\":\"white\",\"ticks\":\"\"},\"baxis\":{\"gridcolor\":\"white\",\"linecolor\":\"white\",\"ticks\":\"\"},\"caxis\":{\"gridcolor\":\"white\",\"linecolor\":\"white\",\"ticks\":\"\"}},\"coloraxis\":{\"colorbar\":{\"outlinewidth\":0,\"ticks\":\"\"}},\"colorscale\":{\"sequential\":[[0.0,\"#0d0887\"],[0.1111111111111111,\"#46039f\"],[0.2222222222222222,\"#7201a8\"],[0.3333333333333333,\"#9c179e\"],[0.4444444444444444,\"#bd3786\"],[0.5555555555555556,\"#d8576b\"],[0.6666666666666666,\"#ed7953\"],[0.7777777777777778,\"#fb9f3a\"],[0.8888888888888888,\"#fdca26\"],[1.0,\"#f0f921\"]],\"sequentialminus\":[[0.0,\"#0d0887\"],[0.1111111111111111,\"#46039f\"],[0.2222222222222222,\"#7201a8\"],[0.3333333333333333,\"#9c179e\"],[0.4444444444444444,\"#bd3786\"],[0.5555555555555556,\"#d8576b\"],[0.6666666666666666,\"#ed7953\"],[0.7777777777777778,\"#fb9f3a\"],[0.8888888888888888,\"#fdca26\"],[1.0,\"#f0f921\"]],\"diverging\":[[0,\"#8e0152\"],[0.1,\"#c51b7d\"],[0.2,\"#de77ae\"],[0.3,\"#f1b6da\"],[0.4,\"#fde0ef\"],[0.5,\"#f7f7f7\"],[0.6,\"#e6f5d0\"],[0.7,\"#b8e186\"],[0.8,\"#7fbc41\"],[0.9,\"#4d9221\"],[1,\"#276419\"]]},\"xaxis\":{\"gridcolor\":\"white\",\"linecolor\":\"white\",\"ticks\":\"\",\"title\":{\"standoff\":15},\"zerolinecolor\":\"white\",\"automargin\":true,\"zerolinewidth\":2},\"yaxis\":{\"gridcolor\":\"white\",\"linecolor\":\"white\",\"ticks\":\"\",\"title\":{\"standoff\":15},\"zerolinecolor\":\"white\",\"automargin\":true,\"zerolinewidth\":2},\"scene\":{\"xaxis\":{\"backgroundcolor\":\"#E5ECF6\",\"gridcolor\":\"white\",\"linecolor\":\"white\",\"showbackground\":true,\"ticks\":\"\",\"zerolinecolor\":\"white\",\"gridwidth\":2},\"yaxis\":{\"backgroundcolor\":\"#E5ECF6\",\"gridcolor\":\"white\",\"linecolor\":\"white\",\"showbackground\":true,\"ticks\":\"\",\"zerolinecolor\":\"white\",\"gridwidth\":2},\"zaxis\":{\"backgroundcolor\":\"#E5ECF6\",\"gridcolor\":\"white\",\"linecolor\":\"white\",\"showbackground\":true,\"ticks\":\"\",\"zerolinecolor\":\"white\",\"gridwidth\":2}},\"shapedefaults\":{\"line\":{\"color\":\"#2a3f5f\"}},\"annotationdefaults\":{\"arrowcolor\":\"#2a3f5f\",\"arrowhead\":0,\"arrowwidth\":1},\"geo\":{\"bgcolor\":\"white\",\"landcolor\":\"#E5ECF6\",\"subunitcolor\":\"white\",\"showland\":true,\"showlakes\":true,\"lakecolor\":\"white\"},\"title\":{\"x\":0.05},\"mapbox\":{\"style\":\"light\"}}},\"xaxis\":{\"anchor\":\"y\",\"domain\":[0.0,1.0],\"title\":{\"text\":\"Marital Status\"}},\"yaxis\":{\"anchor\":\"x\",\"domain\":[0.0,1.0],\"title\":{\"text\":\"Children\"}},\"legend\":{\"title\":{\"text\":\"Gender\"},\"tracegroupgap\":0},\"margin\":{\"t\":60},\"boxmode\":\"group\"},                        {\"responsive\": true}                    ).then(function(){\n",
       "                            \n",
       "var gd = document.getElementById('e203df29-b770-4eb4-97c8-5fafa5c44dd2');\n",
       "var x = new MutationObserver(function (mutations, observer) {{\n",
       "        var display = window.getComputedStyle(gd).display;\n",
       "        if (!display || display === 'none') {{\n",
       "            console.log([gd, 'removed!']);\n",
       "            Plotly.purge(gd);\n",
       "            observer.disconnect();\n",
       "        }}\n",
       "}});\n",
       "\n",
       "// Listen for the removal of the full notebook cells\n",
       "var notebookContainer = gd.closest('#notebook-container');\n",
       "if (notebookContainer) {{\n",
       "    x.observe(notebookContainer, {childList: true});\n",
       "}}\n",
       "\n",
       "// Listen for the clearing of the current output cell\n",
       "var outputEl = gd.closest('.output');\n",
       "if (outputEl) {{\n",
       "    x.observe(outputEl, {childList: true});\n",
       "}}\n",
       "\n",
       "                        })                };                });            </script>        </div>"
      ]
     },
     "metadata": {},
     "output_type": "display_data"
    }
   ],
   "source": [
    "#Dependiendo del numero de hijos se define si estas casado o no\n",
    "fig = px.box(df, y = 'Children', x = \"Marital Status\", color = \"Gender\")\n",
    "fig.show()"
   ]
  },
  {
   "cell_type": "code",
   "execution_count": 933,
   "id": "53baf4e4",
   "metadata": {},
   "outputs": [
    {
     "data": {
      "text/html": [
       "<div>\n",
       "<style scoped>\n",
       "    .dataframe tbody tr th:only-of-type {\n",
       "        vertical-align: middle;\n",
       "    }\n",
       "\n",
       "    .dataframe tbody tr th {\n",
       "        vertical-align: top;\n",
       "    }\n",
       "\n",
       "    .dataframe thead th {\n",
       "        text-align: right;\n",
       "    }\n",
       "</style>\n",
       "<table border=\"1\" class=\"dataframe\">\n",
       "  <thead>\n",
       "    <tr style=\"text-align: right;\">\n",
       "      <th></th>\n",
       "      <th>ID</th>\n",
       "      <th>Marital Status</th>\n",
       "      <th>Gender</th>\n",
       "      <th>Income</th>\n",
       "      <th>Children</th>\n",
       "      <th>Education</th>\n",
       "      <th>Occupation</th>\n",
       "      <th>Home Owner</th>\n",
       "      <th>Cars</th>\n",
       "      <th>Commute Distance</th>\n",
       "      <th>Region</th>\n",
       "      <th>Age</th>\n",
       "      <th>Purchased Bike</th>\n",
       "    </tr>\n",
       "  </thead>\n",
       "  <tbody>\n",
       "    <tr>\n",
       "      <th>3</th>\n",
       "      <td>24381</td>\n",
       "      <td>Single</td>\n",
       "      <td>NaN</td>\n",
       "      <td>70000.0</td>\n",
       "      <td>0.0</td>\n",
       "      <td>Bachelors</td>\n",
       "      <td>Professional</td>\n",
       "      <td>Yes</td>\n",
       "      <td>1.0</td>\n",
       "      <td>5-10 Miles</td>\n",
       "      <td>Pacific</td>\n",
       "      <td>41.0</td>\n",
       "      <td>Yes</td>\n",
       "    </tr>\n",
       "    <tr>\n",
       "      <th>154</th>\n",
       "      <td>23426</td>\n",
       "      <td>Single</td>\n",
       "      <td>NaN</td>\n",
       "      <td>80000.0</td>\n",
       "      <td>5.0</td>\n",
       "      <td>Graduate Degree</td>\n",
       "      <td>Management</td>\n",
       "      <td>Yes</td>\n",
       "      <td>3.0</td>\n",
       "      <td>0-1 Miles</td>\n",
       "      <td>Pacific</td>\n",
       "      <td>40.0</td>\n",
       "      <td>No</td>\n",
       "    </tr>\n",
       "    <tr>\n",
       "      <th>335</th>\n",
       "      <td>24369</td>\n",
       "      <td>Married</td>\n",
       "      <td>NaN</td>\n",
       "      <td>80000.0</td>\n",
       "      <td>5.0</td>\n",
       "      <td>Graduate Degree</td>\n",
       "      <td>Management</td>\n",
       "      <td>No</td>\n",
       "      <td>2.0</td>\n",
       "      <td>0-1 Miles</td>\n",
       "      <td>Pacific</td>\n",
       "      <td>39.0</td>\n",
       "      <td>No</td>\n",
       "    </tr>\n",
       "    <tr>\n",
       "      <th>601</th>\n",
       "      <td>29231</td>\n",
       "      <td>Single</td>\n",
       "      <td>NaN</td>\n",
       "      <td>80000.0</td>\n",
       "      <td>4.0</td>\n",
       "      <td>Partial College</td>\n",
       "      <td>Professional</td>\n",
       "      <td>No</td>\n",
       "      <td>2.0</td>\n",
       "      <td>0-1 Miles</td>\n",
       "      <td>North America</td>\n",
       "      <td>43.0</td>\n",
       "      <td>No</td>\n",
       "    </tr>\n",
       "    <tr>\n",
       "      <th>688</th>\n",
       "      <td>11699</td>\n",
       "      <td>Single</td>\n",
       "      <td>NaN</td>\n",
       "      <td>60000.0</td>\n",
       "      <td>NaN</td>\n",
       "      <td>Bachelors</td>\n",
       "      <td>Skilled Manual</td>\n",
       "      <td>No</td>\n",
       "      <td>2.0</td>\n",
       "      <td>0-1 Miles</td>\n",
       "      <td>North America</td>\n",
       "      <td>NaN</td>\n",
       "      <td>No</td>\n",
       "    </tr>\n",
       "    <tr>\n",
       "      <th>695</th>\n",
       "      <td>18390</td>\n",
       "      <td>Married</td>\n",
       "      <td>NaN</td>\n",
       "      <td>80000.0</td>\n",
       "      <td>5.0</td>\n",
       "      <td>Partial College</td>\n",
       "      <td>Professional</td>\n",
       "      <td>Yes</td>\n",
       "      <td>2.0</td>\n",
       "      <td>0-1 Miles</td>\n",
       "      <td>North America</td>\n",
       "      <td>44.0</td>\n",
       "      <td>No</td>\n",
       "    </tr>\n",
       "    <tr>\n",
       "      <th>867</th>\n",
       "      <td>26693</td>\n",
       "      <td>Married</td>\n",
       "      <td>NaN</td>\n",
       "      <td>70000.0</td>\n",
       "      <td>3.0</td>\n",
       "      <td>Partial College</td>\n",
       "      <td>Professional</td>\n",
       "      <td>Yes</td>\n",
       "      <td>1.0</td>\n",
       "      <td>5-10 Miles</td>\n",
       "      <td>North America</td>\n",
       "      <td>49.0</td>\n",
       "      <td>No</td>\n",
       "    </tr>\n",
       "    <tr>\n",
       "      <th>908</th>\n",
       "      <td>23195</td>\n",
       "      <td>Single</td>\n",
       "      <td>NaN</td>\n",
       "      <td>50000.0</td>\n",
       "      <td>3.0</td>\n",
       "      <td>Bachelors</td>\n",
       "      <td>Skilled Manual</td>\n",
       "      <td>Yes</td>\n",
       "      <td>2.0</td>\n",
       "      <td>2-5 Miles</td>\n",
       "      <td>North America</td>\n",
       "      <td>41.0</td>\n",
       "      <td>Yes</td>\n",
       "    </tr>\n",
       "    <tr>\n",
       "      <th>951</th>\n",
       "      <td>22296</td>\n",
       "      <td>Married</td>\n",
       "      <td>NaN</td>\n",
       "      <td>70000.0</td>\n",
       "      <td>0.0</td>\n",
       "      <td>Bachelors</td>\n",
       "      <td>Professional</td>\n",
       "      <td>No</td>\n",
       "      <td>1.0</td>\n",
       "      <td>0-1 Miles</td>\n",
       "      <td>North America</td>\n",
       "      <td>38.0</td>\n",
       "      <td>No</td>\n",
       "    </tr>\n",
       "    <tr>\n",
       "      <th>973</th>\n",
       "      <td>11734</td>\n",
       "      <td>Married</td>\n",
       "      <td>NaN</td>\n",
       "      <td>60000.0</td>\n",
       "      <td>1.0</td>\n",
       "      <td>Partial College</td>\n",
       "      <td>Skilled Manual</td>\n",
       "      <td>No</td>\n",
       "      <td>1.0</td>\n",
       "      <td>0-1 Miles</td>\n",
       "      <td>North America</td>\n",
       "      <td>47.0</td>\n",
       "      <td>No</td>\n",
       "    </tr>\n",
       "    <tr>\n",
       "      <th>997</th>\n",
       "      <td>11809</td>\n",
       "      <td>Married</td>\n",
       "      <td>NaN</td>\n",
       "      <td>60000.0</td>\n",
       "      <td>2.0</td>\n",
       "      <td>Bachelors</td>\n",
       "      <td>Skilled Manual</td>\n",
       "      <td>Yes</td>\n",
       "      <td>0.0</td>\n",
       "      <td>0-1 Miles</td>\n",
       "      <td>North America</td>\n",
       "      <td>38.0</td>\n",
       "      <td>Yes</td>\n",
       "    </tr>\n",
       "  </tbody>\n",
       "</table>\n",
       "</div>"
      ],
      "text/plain": [
       "        ID Marital Status Gender   Income  Children        Education  \\\n",
       "3    24381         Single    NaN  70000.0       0.0        Bachelors   \n",
       "154  23426         Single    NaN  80000.0       5.0  Graduate Degree   \n",
       "335  24369        Married    NaN  80000.0       5.0  Graduate Degree   \n",
       "601  29231         Single    NaN  80000.0       4.0  Partial College   \n",
       "688  11699         Single    NaN  60000.0       NaN        Bachelors   \n",
       "695  18390        Married    NaN  80000.0       5.0  Partial College   \n",
       "867  26693        Married    NaN  70000.0       3.0  Partial College   \n",
       "908  23195         Single    NaN  50000.0       3.0        Bachelors   \n",
       "951  22296        Married    NaN  70000.0       0.0        Bachelors   \n",
       "973  11734        Married    NaN  60000.0       1.0  Partial College   \n",
       "997  11809        Married    NaN  60000.0       2.0        Bachelors   \n",
       "\n",
       "         Occupation Home Owner  Cars Commute Distance         Region   Age  \\\n",
       "3      Professional        Yes   1.0       5-10 Miles        Pacific  41.0   \n",
       "154      Management        Yes   3.0        0-1 Miles        Pacific  40.0   \n",
       "335      Management         No   2.0        0-1 Miles        Pacific  39.0   \n",
       "601    Professional         No   2.0        0-1 Miles  North America  43.0   \n",
       "688  Skilled Manual         No   2.0        0-1 Miles  North America   NaN   \n",
       "695    Professional        Yes   2.0        0-1 Miles  North America  44.0   \n",
       "867    Professional        Yes   1.0       5-10 Miles  North America  49.0   \n",
       "908  Skilled Manual        Yes   2.0        2-5 Miles  North America  41.0   \n",
       "951    Professional         No   1.0        0-1 Miles  North America  38.0   \n",
       "973  Skilled Manual         No   1.0        0-1 Miles  North America  47.0   \n",
       "997  Skilled Manual        Yes   0.0        0-1 Miles  North America  38.0   \n",
       "\n",
       "    Purchased Bike  \n",
       "3              Yes  \n",
       "154             No  \n",
       "335             No  \n",
       "601             No  \n",
       "688             No  \n",
       "695             No  \n",
       "867             No  \n",
       "908            Yes  \n",
       "951             No  \n",
       "973             No  \n",
       "997            Yes  "
      ]
     },
     "execution_count": 933,
     "metadata": {},
     "output_type": "execute_result"
    }
   ],
   "source": [
    "na_values_gender = df[df['Gender'].isna()]\n",
    "na_values_gender"
   ]
  },
  {
   "cell_type": "code",
   "execution_count": 934,
   "id": "320c30c0",
   "metadata": {},
   "outputs": [
    {
     "data": {
      "text/html": [
       "<div>\n",
       "<style scoped>\n",
       "    .dataframe tbody tr th:only-of-type {\n",
       "        vertical-align: middle;\n",
       "    }\n",
       "\n",
       "    .dataframe tbody tr th {\n",
       "        vertical-align: top;\n",
       "    }\n",
       "\n",
       "    .dataframe thead th {\n",
       "        text-align: right;\n",
       "    }\n",
       "</style>\n",
       "<table border=\"1\" class=\"dataframe\">\n",
       "  <thead>\n",
       "    <tr style=\"text-align: right;\">\n",
       "      <th></th>\n",
       "      <th>ID</th>\n",
       "      <th>Marital Status</th>\n",
       "      <th>Gender</th>\n",
       "      <th>Income</th>\n",
       "      <th>Children</th>\n",
       "      <th>Education</th>\n",
       "      <th>Occupation</th>\n",
       "      <th>Home Owner</th>\n",
       "      <th>Cars</th>\n",
       "      <th>Commute Distance</th>\n",
       "      <th>Region</th>\n",
       "      <th>Age</th>\n",
       "      <th>Purchased Bike</th>\n",
       "    </tr>\n",
       "  </thead>\n",
       "  <tbody>\n",
       "    <tr>\n",
       "      <th>0</th>\n",
       "      <td>12496</td>\n",
       "      <td>Married</td>\n",
       "      <td>Female</td>\n",
       "      <td>40000.0</td>\n",
       "      <td>1.0</td>\n",
       "      <td>Bachelors</td>\n",
       "      <td>Skilled Manual</td>\n",
       "      <td>Yes</td>\n",
       "      <td>0.0</td>\n",
       "      <td>0-1 Miles</td>\n",
       "      <td>Europe</td>\n",
       "      <td>42.0</td>\n",
       "      <td>No</td>\n",
       "    </tr>\n",
       "    <tr>\n",
       "      <th>1</th>\n",
       "      <td>24107</td>\n",
       "      <td>Married</td>\n",
       "      <td>Male</td>\n",
       "      <td>30000.0</td>\n",
       "      <td>3.0</td>\n",
       "      <td>Partial College</td>\n",
       "      <td>Clerical</td>\n",
       "      <td>Yes</td>\n",
       "      <td>1.0</td>\n",
       "      <td>0-1 Miles</td>\n",
       "      <td>Europe</td>\n",
       "      <td>43.0</td>\n",
       "      <td>No</td>\n",
       "    </tr>\n",
       "    <tr>\n",
       "      <th>2</th>\n",
       "      <td>14177</td>\n",
       "      <td>Married</td>\n",
       "      <td>Male</td>\n",
       "      <td>80000.0</td>\n",
       "      <td>5.0</td>\n",
       "      <td>Partial College</td>\n",
       "      <td>Professional</td>\n",
       "      <td>No</td>\n",
       "      <td>2.0</td>\n",
       "      <td>2-5 Miles</td>\n",
       "      <td>Europe</td>\n",
       "      <td>60.0</td>\n",
       "      <td>No</td>\n",
       "    </tr>\n",
       "    <tr>\n",
       "      <th>4</th>\n",
       "      <td>25597</td>\n",
       "      <td>Single</td>\n",
       "      <td>Male</td>\n",
       "      <td>30000.0</td>\n",
       "      <td>0.0</td>\n",
       "      <td>Bachelors</td>\n",
       "      <td>Clerical</td>\n",
       "      <td>No</td>\n",
       "      <td>0.0</td>\n",
       "      <td>0-1 Miles</td>\n",
       "      <td>Europe</td>\n",
       "      <td>36.0</td>\n",
       "      <td>Yes</td>\n",
       "    </tr>\n",
       "    <tr>\n",
       "      <th>5</th>\n",
       "      <td>13507</td>\n",
       "      <td>Married</td>\n",
       "      <td>Female</td>\n",
       "      <td>10000.0</td>\n",
       "      <td>2.0</td>\n",
       "      <td>Partial College</td>\n",
       "      <td>Manual</td>\n",
       "      <td>Yes</td>\n",
       "      <td>0.0</td>\n",
       "      <td>1-2 Miles</td>\n",
       "      <td>Europe</td>\n",
       "      <td>50.0</td>\n",
       "      <td>No</td>\n",
       "    </tr>\n",
       "    <tr>\n",
       "      <th>...</th>\n",
       "      <td>...</td>\n",
       "      <td>...</td>\n",
       "      <td>...</td>\n",
       "      <td>...</td>\n",
       "      <td>...</td>\n",
       "      <td>...</td>\n",
       "      <td>...</td>\n",
       "      <td>...</td>\n",
       "      <td>...</td>\n",
       "      <td>...</td>\n",
       "      <td>...</td>\n",
       "      <td>...</td>\n",
       "      <td>...</td>\n",
       "    </tr>\n",
       "    <tr>\n",
       "      <th>994</th>\n",
       "      <td>13466</td>\n",
       "      <td>Married</td>\n",
       "      <td>Male</td>\n",
       "      <td>80000.0</td>\n",
       "      <td>5.0</td>\n",
       "      <td>Partial College</td>\n",
       "      <td>Professional</td>\n",
       "      <td>Yes</td>\n",
       "      <td>3.0</td>\n",
       "      <td>1-2 Miles</td>\n",
       "      <td>North America</td>\n",
       "      <td>46.0</td>\n",
       "      <td>No</td>\n",
       "    </tr>\n",
       "    <tr>\n",
       "      <th>995</th>\n",
       "      <td>23731</td>\n",
       "      <td>Married</td>\n",
       "      <td>Male</td>\n",
       "      <td>60000.0</td>\n",
       "      <td>2.0</td>\n",
       "      <td>High School</td>\n",
       "      <td>Professional</td>\n",
       "      <td>Yes</td>\n",
       "      <td>2.0</td>\n",
       "      <td>2-5 Miles</td>\n",
       "      <td>North America</td>\n",
       "      <td>54.0</td>\n",
       "      <td>Yes</td>\n",
       "    </tr>\n",
       "    <tr>\n",
       "      <th>996</th>\n",
       "      <td>28672</td>\n",
       "      <td>Single</td>\n",
       "      <td>Male</td>\n",
       "      <td>70000.0</td>\n",
       "      <td>4.0</td>\n",
       "      <td>Graduate Degree</td>\n",
       "      <td>Professional</td>\n",
       "      <td>Yes</td>\n",
       "      <td>0.0</td>\n",
       "      <td>2-5 Miles</td>\n",
       "      <td>North America</td>\n",
       "      <td>35.0</td>\n",
       "      <td>Yes</td>\n",
       "    </tr>\n",
       "    <tr>\n",
       "      <th>998</th>\n",
       "      <td>19664</td>\n",
       "      <td>Single</td>\n",
       "      <td>Male</td>\n",
       "      <td>100000.0</td>\n",
       "      <td>3.0</td>\n",
       "      <td>Bachelors</td>\n",
       "      <td>Management</td>\n",
       "      <td>No</td>\n",
       "      <td>3.0</td>\n",
       "      <td>1-2 Miles</td>\n",
       "      <td>North America</td>\n",
       "      <td>38.0</td>\n",
       "      <td>No</td>\n",
       "    </tr>\n",
       "    <tr>\n",
       "      <th>999</th>\n",
       "      <td>12121</td>\n",
       "      <td>Single</td>\n",
       "      <td>Male</td>\n",
       "      <td>60000.0</td>\n",
       "      <td>3.0</td>\n",
       "      <td>High School</td>\n",
       "      <td>Professional</td>\n",
       "      <td>Yes</td>\n",
       "      <td>2.0</td>\n",
       "      <td>10+ Miles</td>\n",
       "      <td>North America</td>\n",
       "      <td>53.0</td>\n",
       "      <td>Yes</td>\n",
       "    </tr>\n",
       "  </tbody>\n",
       "</table>\n",
       "<p>989 rows × 13 columns</p>\n",
       "</div>"
      ],
      "text/plain": [
       "        ID Marital Status  Gender    Income  Children        Education  \\\n",
       "0    12496        Married  Female   40000.0       1.0        Bachelors   \n",
       "1    24107        Married    Male   30000.0       3.0  Partial College   \n",
       "2    14177        Married    Male   80000.0       5.0  Partial College   \n",
       "4    25597         Single    Male   30000.0       0.0        Bachelors   \n",
       "5    13507        Married  Female   10000.0       2.0  Partial College   \n",
       "..     ...            ...     ...       ...       ...              ...   \n",
       "994  13466        Married    Male   80000.0       5.0  Partial College   \n",
       "995  23731        Married    Male   60000.0       2.0      High School   \n",
       "996  28672         Single    Male   70000.0       4.0  Graduate Degree   \n",
       "998  19664         Single    Male  100000.0       3.0        Bachelors   \n",
       "999  12121         Single    Male   60000.0       3.0      High School   \n",
       "\n",
       "         Occupation Home Owner  Cars Commute Distance         Region   Age  \\\n",
       "0    Skilled Manual        Yes   0.0        0-1 Miles         Europe  42.0   \n",
       "1          Clerical        Yes   1.0        0-1 Miles         Europe  43.0   \n",
       "2      Professional         No   2.0        2-5 Miles         Europe  60.0   \n",
       "4          Clerical         No   0.0        0-1 Miles         Europe  36.0   \n",
       "5            Manual        Yes   0.0        1-2 Miles         Europe  50.0   \n",
       "..              ...        ...   ...              ...            ...   ...   \n",
       "994    Professional        Yes   3.0        1-2 Miles  North America  46.0   \n",
       "995    Professional        Yes   2.0        2-5 Miles  North America  54.0   \n",
       "996    Professional        Yes   0.0        2-5 Miles  North America  35.0   \n",
       "998      Management         No   3.0        1-2 Miles  North America  38.0   \n",
       "999    Professional        Yes   2.0        10+ Miles  North America  53.0   \n",
       "\n",
       "    Purchased Bike  \n",
       "0               No  \n",
       "1               No  \n",
       "2               No  \n",
       "4              Yes  \n",
       "5               No  \n",
       "..             ...  \n",
       "994             No  \n",
       "995            Yes  \n",
       "996            Yes  \n",
       "998             No  \n",
       "999            Yes  \n",
       "\n",
       "[989 rows x 13 columns]"
      ]
     },
     "execution_count": 934,
     "metadata": {},
     "output_type": "execute_result"
    }
   ],
   "source": [
    "#Eliminamos los na's de la columna genero ya que no se puede inferir su valor con grafico de cajas \n",
    "\n",
    "#Puede ser aleatorio tambien\n",
    "df = df.dropna(subset=['Gender'], axis=0)\n",
    "df"
   ]
  },
  {
   "cell_type": "code",
   "execution_count": 935,
   "id": "08773260",
   "metadata": {},
   "outputs": [
    {
     "data": {
      "text/html": [
       "<div>\n",
       "<style scoped>\n",
       "    .dataframe tbody tr th:only-of-type {\n",
       "        vertical-align: middle;\n",
       "    }\n",
       "\n",
       "    .dataframe tbody tr th {\n",
       "        vertical-align: top;\n",
       "    }\n",
       "\n",
       "    .dataframe thead th {\n",
       "        text-align: right;\n",
       "    }\n",
       "</style>\n",
       "<table border=\"1\" class=\"dataframe\">\n",
       "  <thead>\n",
       "    <tr style=\"text-align: right;\">\n",
       "      <th></th>\n",
       "      <th>ID</th>\n",
       "      <th>Marital Status</th>\n",
       "      <th>Gender</th>\n",
       "      <th>Income</th>\n",
       "      <th>Children</th>\n",
       "      <th>Education</th>\n",
       "      <th>Occupation</th>\n",
       "      <th>Home Owner</th>\n",
       "      <th>Cars</th>\n",
       "      <th>Commute Distance</th>\n",
       "      <th>Region</th>\n",
       "      <th>Age</th>\n",
       "      <th>Purchased Bike</th>\n",
       "    </tr>\n",
       "  </thead>\n",
       "  <tbody>\n",
       "    <tr>\n",
       "      <th>9</th>\n",
       "      <td>19280</td>\n",
       "      <td>Married</td>\n",
       "      <td>Male</td>\n",
       "      <td>NaN</td>\n",
       "      <td>2.0</td>\n",
       "      <td>Partial College</td>\n",
       "      <td>Manual</td>\n",
       "      <td>Yes</td>\n",
       "      <td>1.0</td>\n",
       "      <td>0-1 Miles</td>\n",
       "      <td>Europe</td>\n",
       "      <td>NaN</td>\n",
       "      <td>Yes</td>\n",
       "    </tr>\n",
       "    <tr>\n",
       "      <th>110</th>\n",
       "      <td>21006</td>\n",
       "      <td>Single</td>\n",
       "      <td>Female</td>\n",
       "      <td>NaN</td>\n",
       "      <td>1.0</td>\n",
       "      <td>Partial College</td>\n",
       "      <td>Manual</td>\n",
       "      <td>No</td>\n",
       "      <td>0.0</td>\n",
       "      <td>0-1 Miles</td>\n",
       "      <td>Europe</td>\n",
       "      <td>46.0</td>\n",
       "      <td>Yes</td>\n",
       "    </tr>\n",
       "    <tr>\n",
       "      <th>191</th>\n",
       "      <td>26944</td>\n",
       "      <td>Single</td>\n",
       "      <td>Male</td>\n",
       "      <td>NaN</td>\n",
       "      <td>2.0</td>\n",
       "      <td>High School</td>\n",
       "      <td>Manual</td>\n",
       "      <td>Yes</td>\n",
       "      <td>0.0</td>\n",
       "      <td>0-1 Miles</td>\n",
       "      <td>Europe</td>\n",
       "      <td>36.0</td>\n",
       "      <td>Yes</td>\n",
       "    </tr>\n",
       "    <tr>\n",
       "      <th>301</th>\n",
       "      <td>17926</td>\n",
       "      <td>NaN</td>\n",
       "      <td>Female</td>\n",
       "      <td>NaN</td>\n",
       "      <td>0.0</td>\n",
       "      <td>Bachelors</td>\n",
       "      <td>Clerical</td>\n",
       "      <td>No</td>\n",
       "      <td>0.0</td>\n",
       "      <td>0-1 Miles</td>\n",
       "      <td>Pacific</td>\n",
       "      <td>28.0</td>\n",
       "      <td>Yes</td>\n",
       "    </tr>\n",
       "    <tr>\n",
       "      <th>441</th>\n",
       "      <td>11061</td>\n",
       "      <td>Married</td>\n",
       "      <td>Male</td>\n",
       "      <td>NaN</td>\n",
       "      <td>2.0</td>\n",
       "      <td>Partial College</td>\n",
       "      <td>Skilled Manual</td>\n",
       "      <td>Yes</td>\n",
       "      <td>2.0</td>\n",
       "      <td>5-10 Miles</td>\n",
       "      <td>Pacific</td>\n",
       "      <td>52.0</td>\n",
       "      <td>Yes</td>\n",
       "    </tr>\n",
       "    <tr>\n",
       "      <th>509</th>\n",
       "      <td>24357</td>\n",
       "      <td>Married</td>\n",
       "      <td>Male</td>\n",
       "      <td>NaN</td>\n",
       "      <td>3.0</td>\n",
       "      <td>Bachelors</td>\n",
       "      <td>Professional</td>\n",
       "      <td>Yes</td>\n",
       "      <td>1.0</td>\n",
       "      <td>2-5 Miles</td>\n",
       "      <td>North America</td>\n",
       "      <td>48.0</td>\n",
       "      <td>Yes</td>\n",
       "    </tr>\n",
       "  </tbody>\n",
       "</table>\n",
       "</div>"
      ],
      "text/plain": [
       "        ID Marital Status  Gender  Income  Children        Education  \\\n",
       "9    19280        Married    Male     NaN       2.0  Partial College   \n",
       "110  21006         Single  Female     NaN       1.0  Partial College   \n",
       "191  26944         Single    Male     NaN       2.0      High School   \n",
       "301  17926            NaN  Female     NaN       0.0        Bachelors   \n",
       "441  11061        Married    Male     NaN       2.0  Partial College   \n",
       "509  24357        Married    Male     NaN       3.0        Bachelors   \n",
       "\n",
       "         Occupation Home Owner  Cars Commute Distance         Region   Age  \\\n",
       "9            Manual        Yes   1.0        0-1 Miles         Europe   NaN   \n",
       "110          Manual         No   0.0        0-1 Miles         Europe  46.0   \n",
       "191          Manual        Yes   0.0        0-1 Miles         Europe  36.0   \n",
       "301        Clerical         No   0.0        0-1 Miles        Pacific  28.0   \n",
       "441  Skilled Manual        Yes   2.0       5-10 Miles        Pacific  52.0   \n",
       "509    Professional        Yes   1.0        2-5 Miles  North America  48.0   \n",
       "\n",
       "    Purchased Bike  \n",
       "9              Yes  \n",
       "110            Yes  \n",
       "191            Yes  \n",
       "301            Yes  \n",
       "441            Yes  \n",
       "509            Yes  "
      ]
     },
     "execution_count": 935,
     "metadata": {},
     "output_type": "execute_result"
    }
   ],
   "source": [
    "na_values_income = df[df['Income'].isna()]\n",
    "na_values_income"
   ]
  },
  {
   "cell_type": "code",
   "execution_count": 936,
   "id": "8cc42ce9",
   "metadata": {},
   "outputs": [
    {
     "data": {
      "application/vnd.plotly.v1+json": {
       "config": {
        "plotlyServerURL": "https://plot.ly"
       },
       "data": [
        {
         "alignmentgroup": "True",
         "hovertemplate": "Education=Bachelors<br>Occupation=%{x}<br>Income=%{y}<extra></extra>",
         "legendgroup": "Bachelors",
         "marker": {
          "color": "#636efa"
         },
         "name": "Bachelors",
         "notched": false,
         "offsetgroup": "Bachelors",
         "orientation": "v",
         "showlegend": true,
         "type": "box",
         "x": [
          "Skilled Manual",
          "Clerical",
          "Skilled Manual",
          "Professional",
          "Clerical",
          "Professional",
          "Clerical",
          "Professional",
          "Management",
          "Clerical",
          "Clerical",
          "Professional",
          "Clerical",
          "Professional",
          "Clerical",
          "Skilled Manual",
          "Professional",
          "Management",
          "Professional",
          "Clerical",
          "Professional",
          "Management",
          "Clerical",
          "Management",
          "Professional",
          "Professional",
          "Skilled Manual",
          "Professional",
          "Clerical",
          "Professional",
          "Professional",
          "Clerical",
          "Skilled Manual",
          "Management",
          "Management",
          "Professional",
          "Clerical",
          "Professional",
          "Clerical",
          "Professional",
          "Professional",
          "Management",
          "Professional",
          "Skilled Manual",
          "Professional",
          "Clerical",
          "Professional",
          "Management",
          "Management",
          "Manual",
          "Professional",
          "Professional",
          "Professional",
          "Professional",
          "Clerical",
          "Management",
          "Management",
          "Professional",
          "Professional",
          "Management",
          "Professional",
          "Clerical",
          "Professional",
          "Professional",
          "Professional",
          "Clerical",
          "Manual",
          "Professional",
          "Professional",
          "Clerical",
          "Clerical",
          "Professional",
          "Clerical",
          "Management",
          "Management",
          "Professional",
          "Professional",
          "Management",
          "Skilled Manual",
          "Professional",
          "Professional",
          "Clerical",
          "Clerical",
          "Management",
          "Clerical",
          "Skilled Manual",
          "Professional",
          "Clerical",
          "Clerical",
          "Skilled Manual",
          "Professional",
          "Clerical",
          "Management",
          "Professional",
          "Professional",
          "Clerical",
          "Clerical",
          "Professional",
          "Clerical",
          "Skilled Manual",
          "Professional",
          "Professional",
          "Clerical",
          "Clerical",
          "Skilled Manual",
          "Clerical",
          "Professional",
          "Professional",
          "Skilled Manual",
          "Management",
          "Clerical",
          "Professional",
          "Skilled Manual",
          "Professional",
          "Skilled Manual",
          "Clerical",
          "Professional",
          "Professional",
          "Clerical",
          "Professional",
          "Professional",
          "Professional",
          "Clerical",
          "Clerical",
          "Clerical",
          "Professional",
          "Clerical",
          "Management",
          "Management",
          "Clerical",
          "Clerical",
          "Skilled Manual",
          "Professional",
          "Professional",
          "Skilled Manual",
          "Management",
          "Management",
          "Management",
          "Clerical",
          "Professional",
          "Skilled Manual",
          "Skilled Manual",
          "Skilled Manual",
          "Skilled Manual",
          "Skilled Manual",
          "Professional",
          "Management",
          "Clerical",
          "Clerical",
          "Management",
          "Clerical",
          "Management",
          "Clerical",
          "Professional",
          "Clerical",
          "Professional",
          "Professional",
          "Clerical",
          "Skilled Manual",
          "Professional",
          "Clerical",
          "Professional",
          "Management",
          "Skilled Manual",
          "Professional",
          "Management",
          "Skilled Manual",
          "Professional",
          "Professional",
          "Professional",
          "Management",
          "Professional",
          "Professional",
          "Professional",
          "Management",
          "Management",
          "Professional",
          "Management",
          "Management",
          "Skilled Manual",
          "Professional",
          "Management",
          "Skilled Manual",
          "Skilled Manual",
          "Management",
          "Professional",
          "Management",
          "Professional",
          "Management",
          "Professional",
          "Management",
          "Management",
          "Skilled Manual",
          "Management",
          "Management",
          "Management",
          "Management",
          "Management",
          "Skilled Manual",
          "Management",
          "Management",
          "Skilled Manual",
          "Professional",
          "Management",
          "Management",
          "Professional",
          "Management",
          "Management",
          "Management",
          "Skilled Manual",
          "Management",
          "Professional",
          "Skilled Manual",
          "Management",
          "Management",
          "Management",
          "Management",
          "Skilled Manual",
          "Management",
          "Skilled Manual",
          "Professional",
          "Skilled Manual",
          "Management",
          "Professional",
          "Management",
          "Management",
          "Management",
          "Skilled Manual",
          "Management",
          "Management",
          "Professional",
          "Skilled Manual",
          "Management",
          "Management",
          "Management",
          "Management",
          "Professional",
          "Skilled Manual",
          "Management",
          "Skilled Manual",
          "Skilled Manual",
          "Management",
          "Management",
          "Management",
          "Professional",
          "Skilled Manual",
          "Skilled Manual",
          "Management",
          "Professional",
          "Management",
          "Management",
          "Management",
          "Management",
          "Skilled Manual",
          "Professional",
          "Professional",
          "Skilled Manual",
          "Skilled Manual",
          "Management",
          "Skilled Manual",
          "Professional",
          "Professional",
          "Management",
          "Management",
          "Management",
          "Skilled Manual",
          "Skilled Manual",
          "Skilled Manual",
          "Management",
          "Professional",
          "Skilled Manual",
          "Skilled Manual",
          "Management",
          "Skilled Manual",
          "Management",
          "Skilled Manual",
          "Skilled Manual",
          "Skilled Manual",
          "Management",
          "Management",
          "Management",
          "Skilled Manual",
          "Management",
          "Management",
          "Management",
          "Skilled Manual",
          "Skilled Manual",
          "Skilled Manual",
          "Management",
          "Management",
          "Professional",
          "Management",
          "Management",
          "Skilled Manual",
          "Management",
          "Management",
          "Skilled Manual",
          "Skilled Manual",
          "Management",
          "Skilled Manual",
          "Management"
         ],
         "x0": " ",
         "xaxis": "x",
         "y": [
          40000,
          30000,
          40000,
          90000,
          30000,
          80000,
          30000,
          100000,
          40000,
          20000,
          40000,
          80000,
          20000,
          70000,
          40000,
          40000,
          60000,
          40000,
          60000,
          30000,
          80000,
          40000,
          30000,
          40000,
          80000,
          60000,
          40000,
          60000,
          40000,
          40000,
          70000,
          20000,
          30000,
          80000,
          40000,
          80000,
          40000,
          80000,
          30000,
          60000,
          40000,
          40000,
          40000,
          40000,
          80000,
          30000,
          40000,
          100000,
          100000,
          10000,
          60000,
          60000,
          90000,
          70000,
          30000,
          80000,
          40000,
          90000,
          70000,
          80000,
          70000,
          20000,
          80000,
          60000,
          70000,
          30000,
          10000,
          60000,
          70000,
          40000,
          20000,
          90000,
          30000,
          120000,
          110000,
          70000,
          60000,
          150000,
          40000,
          70000,
          100000,
          30000,
          30000,
          100000,
          40000,
          40000,
          60000,
          null,
          30000,
          30000,
          90000,
          10000,
          120000,
          80000,
          70000,
          30000,
          30000,
          90000,
          20000,
          30000,
          80000,
          90000,
          20000,
          20000,
          40000,
          30000,
          80000,
          80000,
          40000,
          40000,
          40000,
          100000,
          40000,
          80000,
          40000,
          20000,
          60000,
          70000,
          30000,
          80000,
          70000,
          70000,
          20000,
          40000,
          30000,
          60000,
          30000,
          40000,
          110000,
          40000,
          30000,
          40000,
          90000,
          60000,
          30000,
          100000,
          40000,
          110000,
          10000,
          90000,
          40000,
          40000,
          40000,
          40000,
          40000,
          80000,
          120000,
          40000,
          30000,
          40000,
          30000,
          100000,
          30000,
          70000,
          30000,
          90000,
          70000,
          30000,
          40000,
          90000,
          40000,
          60000,
          70000,
          60000,
          60000,
          130000,
          70000,
          70000,
          null,
          70000,
          80000,
          40000,
          70000,
          60000,
          80000,
          80000,
          60000,
          60000,
          110000,
          50000,
          60000,
          60000,
          50000,
          80000,
          80000,
          70000,
          120000,
          60000,
          130000,
          70000,
          50000,
          80000,
          50000,
          60000,
          80000,
          120000,
          60000,
          60000,
          70000,
          120000,
          60000,
          40000,
          70000,
          80000,
          70000,
          60000,
          130000,
          60000,
          50000,
          60000,
          70000,
          70000,
          50000,
          60000,
          100000,
          80000,
          60000,
          60000,
          130000,
          50000,
          70000,
          60000,
          70000,
          40000,
          70000,
          70000,
          70000,
          70000,
          90000,
          110000,
          60000,
          60000,
          130000,
          130000,
          110000,
          60000,
          70000,
          40000,
          60000,
          50000,
          50000,
          100000,
          70000,
          80000,
          70000,
          60000,
          50000,
          70000,
          60000,
          70000,
          70000,
          110000,
          110000,
          80000,
          70000,
          70000,
          60000,
          80000,
          130000,
          50000,
          60000,
          40000,
          80000,
          80000,
          110000,
          50000,
          30000,
          70000,
          70000,
          60000,
          60000,
          70000,
          50000,
          50000,
          70000,
          60000,
          80000,
          60000,
          90000,
          50000,
          80000,
          60000,
          110000,
          60000,
          60000,
          60000,
          50000,
          50000,
          90000,
          70000,
          60000,
          120000,
          90000,
          50000,
          80000,
          60000,
          80000,
          50000,
          70000,
          60000,
          100000
         ],
         "y0": " ",
         "yaxis": "y"
        },
        {
         "alignmentgroup": "True",
         "hovertemplate": "Education=Partial College<br>Occupation=%{x}<br>Income=%{y}<extra></extra>",
         "legendgroup": "Partial College",
         "marker": {
          "color": "#EF553B"
         },
         "name": "Partial College",
         "notched": false,
         "offsetgroup": "Partial College",
         "orientation": "v",
         "showlegend": true,
         "type": "box",
         "x": [
          "Clerical",
          "Professional",
          "Manual",
          "Manual",
          "Professional",
          "Clerical",
          "Skilled Manual",
          "Clerical",
          "Clerical",
          "Clerical",
          "Clerical",
          "Clerical",
          "Skilled Manual",
          "Manual",
          "Manual",
          "Professional",
          "Manual",
          "Clerical",
          "Clerical",
          "Professional",
          "Skilled Manual",
          "Skilled Manual",
          "Clerical",
          "Clerical",
          "Professional",
          "Clerical",
          "Manual",
          "Manual",
          "Professional",
          "Clerical",
          "Clerical",
          "Clerical",
          "Clerical",
          "Professional",
          "Clerical",
          "Manual",
          "Skilled Manual",
          "Clerical",
          "Skilled Manual",
          "Skilled Manual",
          "Manual",
          "Clerical",
          "Clerical",
          "Management",
          "Clerical",
          "Manual",
          "Clerical",
          "Manual",
          "Clerical",
          "Manual",
          "Clerical",
          "Clerical",
          "Skilled Manual",
          "Professional",
          "Manual",
          "Manual",
          "Skilled Manual",
          "Manual",
          "Manual",
          "Professional",
          "Manual",
          "Skilled Manual",
          "Manual",
          "Professional",
          "Professional",
          "Clerical",
          "Professional",
          "Clerical",
          "Clerical",
          "Skilled Manual",
          "Professional",
          "Clerical",
          "Clerical",
          "Professional",
          "Manual",
          "Clerical",
          "Clerical",
          "Manual",
          "Management",
          "Manual",
          "Skilled Manual",
          "Clerical",
          "Professional",
          "Management",
          "Clerical",
          "Manual",
          "Clerical",
          "Skilled Manual",
          "Manual",
          "Manual",
          "Manual",
          "Skilled Manual",
          "Manual",
          "Skilled Manual",
          "Skilled Manual",
          "Manual",
          "Management",
          "Clerical",
          "Clerical",
          "Manual",
          "Skilled Manual",
          "Professional",
          "Clerical",
          "Clerical",
          "Clerical",
          "Clerical",
          "Skilled Manual",
          "Clerical",
          "Manual",
          "Professional",
          "Clerical",
          "Skilled Manual",
          "Professional",
          "Clerical",
          "Manual",
          "Professional",
          "Clerical",
          "Clerical",
          "Professional",
          "Manual",
          "Clerical",
          "Clerical",
          "Professional",
          "Manual",
          "Skilled Manual",
          "Clerical",
          "Clerical",
          "Clerical",
          "Manual",
          "Manual",
          "Management",
          "Clerical",
          "Clerical",
          "Manual",
          "Clerical",
          "Clerical",
          "Skilled Manual",
          "Skilled Manual",
          "Clerical",
          "Skilled Manual",
          "Professional",
          "Manual",
          "Clerical",
          "Clerical",
          "Clerical",
          "Clerical",
          "Professional",
          "Skilled Manual",
          "Skilled Manual",
          "Professional",
          "Clerical",
          "Skilled Manual",
          "Skilled Manual",
          "Professional",
          "Professional",
          "Skilled Manual",
          "Professional",
          "Skilled Manual",
          "Clerical",
          "Skilled Manual",
          "Professional",
          "Skilled Manual",
          "Clerical",
          "Skilled Manual",
          "Skilled Manual",
          "Professional",
          "Clerical",
          "Skilled Manual",
          "Professional",
          "Clerical",
          "Skilled Manual",
          "Professional",
          "Professional",
          "Professional",
          "Professional",
          "Skilled Manual",
          "Professional",
          "Professional",
          "Professional",
          "Professional",
          "Skilled Manual",
          "Skilled Manual",
          "Professional",
          "Professional",
          "Professional",
          "Professional",
          "Professional",
          "Professional",
          "Professional",
          "Clerical",
          "Skilled Manual",
          "Professional",
          "Skilled Manual",
          "Professional",
          "Clerical",
          "Skilled Manual",
          "Professional",
          "Clerical",
          "Skilled Manual",
          "Professional",
          "Professional",
          "Skilled Manual",
          "Skilled Manual",
          "Professional",
          "Skilled Manual",
          "Clerical",
          "Professional",
          "Clerical",
          "Clerical",
          "Professional",
          "Professional",
          "Professional",
          "Skilled Manual",
          "Skilled Manual",
          "Skilled Manual",
          "Professional",
          "Skilled Manual",
          "Professional",
          "Professional",
          "Professional",
          "Professional",
          "Skilled Manual",
          "Skilled Manual",
          "Professional",
          "Skilled Manual",
          "Skilled Manual",
          "Skilled Manual",
          "Skilled Manual",
          "Skilled Manual",
          "Professional",
          "Skilled Manual",
          "Professional",
          "Skilled Manual",
          "Professional",
          "Skilled Manual",
          "Skilled Manual",
          "Skilled Manual",
          "Skilled Manual",
          "Clerical",
          "Clerical",
          "Skilled Manual",
          "Professional",
          "Professional",
          "Professional",
          "Clerical",
          "Skilled Manual",
          "Skilled Manual",
          "Professional",
          "Clerical",
          "Professional",
          "Skilled Manual",
          "Professional",
          "Professional",
          "Professional",
          "Skilled Manual",
          "Professional",
          "Professional",
          "Clerical",
          "Professional",
          "Professional",
          "Professional"
         ],
         "x0": " ",
         "xaxis": "x",
         "y": [
          30000,
          80000,
          10000,
          null,
          170000,
          40000,
          60000,
          30000,
          40000,
          40000,
          40000,
          30000,
          70000,
          20000,
          10000,
          90000,
          10000,
          30000,
          30000,
          170000,
          60000,
          40000,
          30000,
          30000,
          130000,
          30000,
          20000,
          10000,
          130000,
          30000,
          30000,
          30000,
          30000,
          90000,
          30000,
          10000,
          60000,
          30000,
          70000,
          40000,
          null,
          40000,
          30000,
          100000,
          30000,
          10000,
          30000,
          10000,
          30000,
          10000,
          40000,
          30000,
          60000,
          130000,
          10000,
          20000,
          40000,
          10000,
          10000,
          130000,
          10000,
          80000,
          20000,
          110000,
          160000,
          30000,
          80000,
          30000,
          40000,
          60000,
          90000,
          30000,
          30000,
          80000,
          10000,
          30000,
          30000,
          20000,
          120000,
          10000,
          70000,
          30000,
          130000,
          100000,
          30000,
          10000,
          30000,
          70000,
          10000,
          10000,
          20000,
          70000,
          10000,
          60000,
          60000,
          20000,
          110000,
          30000,
          40000,
          20000,
          60000,
          130000,
          40000,
          40000,
          30000,
          30000,
          60000,
          30000,
          20000,
          80000,
          30000,
          60000,
          130000,
          30000,
          20000,
          130000,
          30000,
          30000,
          80000,
          10000,
          30000,
          40000,
          130000,
          20000,
          70000,
          40000,
          30000,
          30000,
          10000,
          10000,
          110000,
          30000,
          30000,
          20000,
          30000,
          30000,
          70000,
          null,
          30000,
          70000,
          80000,
          20000,
          40000,
          30000,
          30000,
          40000,
          60000,
          80000,
          40000,
          100000,
          40000,
          60000,
          60000,
          100000,
          80000,
          30000,
          60000,
          60000,
          40000,
          60000,
          40000,
          50000,
          40000,
          30000,
          30000,
          40000,
          40000,
          70000,
          60000,
          40000,
          40000,
          80000,
          70000,
          90000,
          60000,
          60000,
          110000,
          100000,
          100000,
          70000,
          70000,
          60000,
          80000,
          70000,
          120000,
          60000,
          70000,
          60000,
          70000,
          40000,
          70000,
          100000,
          60000,
          70000,
          40000,
          60000,
          90000,
          40000,
          30000,
          60000,
          90000,
          60000,
          70000,
          70000,
          30000,
          40000,
          60000,
          40000,
          40000,
          70000,
          70000,
          60000,
          40000,
          60000,
          70000,
          60000,
          80000,
          90000,
          80000,
          60000,
          70000,
          60000,
          40000,
          60000,
          60000,
          40000,
          40000,
          60000,
          40000,
          70000,
          60000,
          70000,
          60000,
          60000,
          30000,
          40000,
          30000,
          60000,
          40000,
          40000,
          70000,
          70000,
          40000,
          90000,
          40000,
          60000,
          60000,
          40000,
          40000,
          60000,
          60000,
          100000,
          60000,
          70000,
          60000,
          80000,
          110000,
          40000,
          90000,
          150000,
          80000
         ],
         "y0": " ",
         "yaxis": "y"
        },
        {
         "alignmentgroup": "True",
         "hovertemplate": "Education=High School<br>Occupation=%{x}<br>Income=%{y}<extra></extra>",
         "legendgroup": "High School",
         "marker": {
          "color": "#00cc96"
         },
         "name": "High School",
         "notched": false,
         "offsetgroup": "High School",
         "orientation": "v",
         "showlegend": true,
         "type": "box",
         "x": [
          "Management",
          "Skilled Manual",
          "Manual",
          "Management",
          "Manual",
          "Skilled Manual",
          "Manual",
          "Manual",
          "Management",
          "Professional",
          "Manual",
          "Manual",
          "Manual",
          "Manual",
          "Professional",
          "Skilled Manual",
          "Management",
          "Skilled Manual",
          "Manual",
          "Manual",
          "Skilled Manual",
          "Manual",
          "Manual",
          "Professional",
          "Manual",
          "Professional",
          "Manual",
          "Management",
          "Manual",
          "Manual",
          "Skilled Manual",
          "Manual",
          "Management",
          "Manual",
          "Management",
          "Skilled Manual",
          "Skilled Manual",
          "Manual",
          "Manual",
          "Professional",
          "Manual",
          "Management",
          "Manual",
          "Manual",
          "Management",
          "Skilled Manual",
          "Professional",
          "Manual",
          "Manual",
          "Manual",
          "Manual",
          "Management",
          "Skilled Manual",
          "Manual",
          "Professional",
          "Skilled Manual",
          "Skilled Manual",
          "Professional",
          "Professional",
          "Manual",
          "Manual",
          "Manual",
          "Manual",
          "Professional",
          "Management",
          "Manual",
          "Manual",
          "Skilled Manual",
          "Manual",
          "Skilled Manual",
          "Management",
          "Skilled Manual",
          "Skilled Manual",
          "Manual",
          "Manual",
          "Manual",
          "Professional",
          "Manual",
          "Manual",
          "Skilled Manual",
          "Skilled Manual",
          "Professional",
          "Skilled Manual",
          "Professional",
          "Professional",
          "Professional",
          "Skilled Manual",
          "Professional",
          "Professional",
          "Professional",
          "Skilled Manual",
          "Skilled Manual",
          "Professional",
          "Professional",
          "Professional",
          "Skilled Manual",
          "Professional",
          "Skilled Manual",
          "Skilled Manual",
          "Professional",
          "Skilled Manual",
          "Skilled Manual",
          "Skilled Manual",
          "Skilled Manual",
          "Skilled Manual",
          "Skilled Manual",
          "Skilled Manual",
          "Skilled Manual",
          "Professional",
          "Skilled Manual",
          "Professional",
          "Professional",
          "Skilled Manual",
          "Skilled Manual",
          "Skilled Manual",
          "Skilled Manual",
          "Professional",
          "Professional",
          "Professional",
          "Skilled Manual",
          "Professional",
          "Skilled Manual",
          "Manual",
          "Skilled Manual",
          "Professional",
          "Skilled Manual",
          "Skilled Manual",
          "Skilled Manual",
          "Professional",
          "Professional",
          "Clerical",
          "Professional",
          "Skilled Manual",
          "Manual",
          "Skilled Manual",
          "Professional",
          "Skilled Manual",
          "Clerical",
          "Clerical",
          "Professional",
          "Skilled Manual",
          "Skilled Manual",
          "Skilled Manual",
          "Skilled Manual",
          "Manual",
          "Skilled Manual",
          "Professional",
          "Professional",
          "Skilled Manual",
          "Skilled Manual",
          "Professional",
          "Professional",
          "Professional",
          "Professional",
          "Professional",
          "Skilled Manual",
          "Manual",
          "Skilled Manual",
          "Professional",
          "Professional",
          "Professional",
          "Skilled Manual",
          "Skilled Manual",
          "Professional",
          "Skilled Manual",
          "Professional",
          "Professional",
          "Professional",
          "Skilled Manual",
          "Skilled Manual",
          "Professional",
          "Skilled Manual",
          "Clerical",
          "Skilled Manual",
          "Professional",
          "Professional",
          "Skilled Manual",
          "Professional",
          "Professional"
         ],
         "x0": " ",
         "xaxis": "x",
         "y": [
          160000,
          30000,
          10000,
          80000,
          20000,
          80000,
          20000,
          20000,
          90000,
          80000,
          10000,
          10000,
          30000,
          20000,
          130000,
          20000,
          130000,
          80000,
          20000,
          20000,
          30000,
          20000,
          10000,
          70000,
          20000,
          150000,
          10000,
          90000,
          10000,
          20000,
          20000,
          20000,
          100000,
          10000,
          130000,
          30000,
          30000,
          null,
          10000,
          90000,
          20000,
          80000,
          30000,
          20000,
          100000,
          10000,
          130000,
          20000,
          20000,
          20000,
          10000,
          100000,
          30000,
          10000,
          90000,
          10000,
          20000,
          130000,
          120000,
          30000,
          30000,
          20000,
          10000,
          150000,
          90000,
          10000,
          20000,
          30000,
          30000,
          30000,
          110000,
          30000,
          80000,
          30000,
          10000,
          30000,
          120000,
          20000,
          30000,
          20000,
          70000,
          70000,
          40000,
          60000,
          40000,
          40000,
          40000,
          70000,
          60000,
          60000,
          30000,
          40000,
          60000,
          90000,
          40000,
          20000,
          40000,
          30000,
          40000,
          70000,
          40000,
          40000,
          40000,
          30000,
          40000,
          40000,
          30000,
          40000,
          60000,
          40000,
          40000,
          60000,
          40000,
          30000,
          30000,
          30000,
          120000,
          60000,
          40000,
          40000,
          40000,
          30000,
          20000,
          40000,
          60000,
          40000,
          30000,
          30000,
          40000,
          60000,
          30000,
          120000,
          40000,
          10000,
          40000,
          60000,
          40000,
          30000,
          30000,
          60000,
          30000,
          40000,
          40000,
          40000,
          10000,
          30000,
          40000,
          70000,
          40000,
          30000,
          70000,
          70000,
          60000,
          40000,
          40000,
          30000,
          20000,
          40000,
          60000,
          60000,
          90000,
          40000,
          40000,
          40000,
          30000,
          40000,
          60000,
          60000,
          40000,
          40000,
          90000,
          40000,
          30000,
          40000,
          60000,
          40000,
          30000,
          60000,
          60000
         ],
         "y0": " ",
         "yaxis": "y"
        },
        {
         "alignmentgroup": "True",
         "hovertemplate": "Education=Partial High School<br>Occupation=%{x}<br>Income=%{y}<extra></extra>",
         "legendgroup": "Partial High School",
         "marker": {
          "color": "#ab63fa"
         },
         "name": "Partial High School",
         "notched": false,
         "offsetgroup": "Partial High School",
         "orientation": "v",
         "showlegend": true,
         "type": "box",
         "x": [
          "Clerical",
          "Clerical",
          "Manual",
          "Manual",
          "Manual",
          "Manual",
          "Professional",
          "Manual",
          "Manual",
          "Manual",
          "Clerical",
          "Manual",
          "Manual",
          "Manual",
          "Manual",
          "Manual",
          "Clerical",
          "Manual",
          "Manual",
          "Manual",
          "Professional",
          "Clerical",
          "Manual",
          "Manual",
          "Manual",
          "Clerical",
          "Clerical",
          "Manual",
          "Skilled Manual",
          "Manual",
          "Manual",
          "Manual",
          "Manual",
          "Manual",
          "Manual",
          "Professional",
          "Manual",
          "Manual",
          "Clerical",
          "Manual",
          "Professional",
          "Manual",
          "Skilled Manual",
          "Manual",
          "Manual",
          "Skilled Manual",
          "Clerical",
          "Clerical",
          "Skilled Manual",
          "Skilled Manual",
          "Skilled Manual",
          "Skilled Manual",
          "Clerical",
          "Clerical",
          "Clerical",
          "Clerical",
          "Clerical",
          "Skilled Manual",
          "Skilled Manual",
          "Clerical",
          "Skilled Manual",
          "Clerical",
          "Skilled Manual",
          "Clerical",
          "Skilled Manual",
          "Skilled Manual",
          "Clerical",
          "Clerical",
          "Skilled Manual",
          "Clerical",
          "Clerical",
          "Clerical",
          "Skilled Manual",
          "Skilled Manual",
          "Clerical",
          "Skilled Manual"
         ],
         "x0": " ",
         "xaxis": "x",
         "y": [
          20000,
          20000,
          20000,
          10000,
          10000,
          10000,
          120000,
          10000,
          20000,
          10000,
          20000,
          20000,
          10000,
          10000,
          10000,
          20000,
          20000,
          20000,
          10000,
          10000,
          100000,
          20000,
          10000,
          10000,
          10000,
          10000,
          40000,
          10000,
          90000,
          10000,
          20000,
          20000,
          10000,
          10000,
          10000,
          120000,
          20000,
          10000,
          10000,
          10000,
          120000,
          20000,
          90000,
          10000,
          20000,
          70000,
          30000,
          20000,
          70000,
          40000,
          60000,
          60000,
          30000,
          20000,
          20000,
          30000,
          20000,
          80000,
          70000,
          20000,
          70000,
          20000,
          80000,
          40000,
          70000,
          80000,
          20000,
          40000,
          30000,
          30000,
          20000,
          30000,
          80000,
          70000,
          30000,
          60000
         ],
         "y0": " ",
         "yaxis": "y"
        },
        {
         "alignmentgroup": "True",
         "hovertemplate": "Education=Graduate Degree<br>Occupation=%{x}<br>Income=%{y}<extra></extra>",
         "legendgroup": "Graduate Degree",
         "marker": {
          "color": "#FFA15A"
         },
         "name": "Graduate Degree",
         "notched": false,
         "offsetgroup": "Graduate Degree",
         "orientation": "v",
         "showlegend": true,
         "type": "box",
         "x": [
          "Clerical",
          "Manual",
          "Clerical",
          "Clerical",
          "Clerical",
          "Management",
          "Manual",
          "Clerical",
          "Skilled Manual",
          "Manual",
          "Manual",
          "Skilled Manual",
          "Management",
          "Management",
          "Clerical",
          "Clerical",
          "Management",
          "Skilled Manual",
          "Clerical",
          "Clerical",
          "Clerical",
          "Clerical",
          "Manual",
          "Management",
          "Clerical",
          "Clerical",
          "Skilled Manual",
          "Clerical",
          "Skilled Manual",
          "Management",
          "Clerical",
          "Management",
          "Management",
          "Management",
          "Management",
          "Management",
          "Management",
          "Clerical",
          "Clerical",
          "Management",
          "Management",
          "Clerical",
          "Manual",
          "Clerical",
          "Clerical",
          "Management",
          "Management",
          "Skilled Manual",
          "Management",
          "Management",
          "Clerical",
          "Management",
          "Clerical",
          "Clerical",
          "Clerical",
          "Professional",
          "Skilled Manual",
          "Management",
          "Management",
          "Management",
          "Skilled Manual",
          "Skilled Manual",
          "Professional",
          "Professional",
          "Professional",
          "Management",
          "Management",
          "Management",
          "Management",
          "Skilled Manual",
          "Management",
          "Professional",
          "Management",
          "Management",
          "Professional",
          "Professional",
          "Skilled Manual",
          "Skilled Manual",
          "Management",
          "Management",
          "Skilled Manual",
          "Skilled Manual",
          "Management",
          "Management",
          "Professional",
          "Skilled Manual",
          "Skilled Manual",
          "Management",
          "Professional",
          "Professional",
          "Skilled Manual",
          "Management",
          "Professional",
          "Professional",
          "Professional",
          "Skilled Manual",
          "Skilled Manual",
          "Management",
          "Professional",
          "Skilled Manual",
          "Professional",
          "Skilled Manual",
          "Professional",
          "Professional",
          "Management",
          "Management",
          "Professional",
          "Professional",
          "Skilled Manual",
          "Management",
          "Professional",
          "Skilled Manual",
          "Professional",
          "Skilled Manual",
          "Skilled Manual",
          "Skilled Manual",
          "Skilled Manual",
          "Professional",
          "Management",
          "Skilled Manual",
          "Management",
          "Management",
          "Professional",
          "Professional",
          "Professional",
          "Management",
          "Professional",
          "Skilled Manual",
          "Professional",
          "Management",
          "Management",
          "Professional",
          "Skilled Manual",
          "Management",
          "Management",
          "Professional",
          "Management",
          "Skilled Manual",
          "Management",
          "Professional",
          "Skilled Manual",
          "Skilled Manual",
          "Management",
          "Professional",
          "Professional",
          "Professional",
          "Management",
          "Professional",
          "Skilled Manual",
          "Skilled Manual",
          "Management",
          "Professional",
          "Management",
          "Skilled Manual",
          "Professional",
          "Professional",
          "Professional",
          "Skilled Manual",
          "Skilled Manual",
          "Skilled Manual",
          "Professional",
          "Professional",
          "Professional",
          "Skilled Manual",
          "Professional",
          "Management",
          "Professional",
          "Management",
          "Management",
          "Management",
          "Professional",
          "Professional"
         ],
         "x0": " ",
         "xaxis": "x",
         "y": [
          40000,
          10000,
          40000,
          30000,
          40000,
          130000,
          10000,
          40000,
          50000,
          10000,
          10000,
          50000,
          60000,
          100000,
          30000,
          40000,
          80000,
          50000,
          20000,
          30000,
          10000,
          30000,
          10000,
          100000,
          30000,
          20000,
          50000,
          40000,
          50000,
          90000,
          30000,
          130000,
          100000,
          80000,
          50000,
          100000,
          160000,
          40000,
          40000,
          130000,
          80000,
          40000,
          10000,
          20000,
          40000,
          80000,
          90000,
          80000,
          80000,
          130000,
          30000,
          80000,
          40000,
          40000,
          10000,
          70000,
          50000,
          60000,
          80000,
          70000,
          50000,
          80000,
          60000,
          60000,
          70000,
          60000,
          50000,
          60000,
          60000,
          80000,
          130000,
          60000,
          80000,
          130000,
          60000,
          70000,
          60000,
          80000,
          60000,
          60000,
          50000,
          80000,
          70000,
          100000,
          70000,
          60000,
          60000,
          70000,
          60000,
          70000,
          80000,
          130000,
          60000,
          60000,
          70000,
          60000,
          80000,
          60000,
          80000,
          50000,
          60000,
          80000,
          70000,
          70000,
          70000,
          130000,
          70000,
          60000,
          60000,
          130000,
          60000,
          80000,
          60000,
          50000,
          60000,
          60000,
          60000,
          80000,
          50000,
          50000,
          70000,
          70000,
          60000,
          60000,
          70000,
          170000,
          60000,
          60000,
          80000,
          120000,
          130000,
          60000,
          50000,
          70000,
          50000,
          80000,
          80000,
          30000,
          80000,
          70000,
          50000,
          70000,
          100000,
          60000,
          70000,
          70000,
          90000,
          60000,
          60000,
          80000,
          60000,
          70000,
          70000,
          50000,
          70000,
          70000,
          70000,
          60000,
          60000,
          60000,
          70000,
          70000,
          90000,
          50000,
          60000,
          70000,
          70000,
          80000,
          130000,
          60000,
          60000,
          70000
         ],
         "y0": " ",
         "yaxis": "y"
        }
       ],
       "layout": {
        "boxmode": "group",
        "legend": {
         "title": {
          "text": "Education"
         },
         "tracegroupgap": 0
        },
        "margin": {
         "t": 60
        },
        "template": {
         "data": {
          "bar": [
           {
            "error_x": {
             "color": "#2a3f5f"
            },
            "error_y": {
             "color": "#2a3f5f"
            },
            "marker": {
             "line": {
              "color": "#E5ECF6",
              "width": 0.5
             },
             "pattern": {
              "fillmode": "overlay",
              "size": 10,
              "solidity": 0.2
             }
            },
            "type": "bar"
           }
          ],
          "barpolar": [
           {
            "marker": {
             "line": {
              "color": "#E5ECF6",
              "width": 0.5
             },
             "pattern": {
              "fillmode": "overlay",
              "size": 10,
              "solidity": 0.2
             }
            },
            "type": "barpolar"
           }
          ],
          "carpet": [
           {
            "aaxis": {
             "endlinecolor": "#2a3f5f",
             "gridcolor": "white",
             "linecolor": "white",
             "minorgridcolor": "white",
             "startlinecolor": "#2a3f5f"
            },
            "baxis": {
             "endlinecolor": "#2a3f5f",
             "gridcolor": "white",
             "linecolor": "white",
             "minorgridcolor": "white",
             "startlinecolor": "#2a3f5f"
            },
            "type": "carpet"
           }
          ],
          "choropleth": [
           {
            "colorbar": {
             "outlinewidth": 0,
             "ticks": ""
            },
            "type": "choropleth"
           }
          ],
          "contour": [
           {
            "colorbar": {
             "outlinewidth": 0,
             "ticks": ""
            },
            "colorscale": [
             [
              0,
              "#0d0887"
             ],
             [
              0.1111111111111111,
              "#46039f"
             ],
             [
              0.2222222222222222,
              "#7201a8"
             ],
             [
              0.3333333333333333,
              "#9c179e"
             ],
             [
              0.4444444444444444,
              "#bd3786"
             ],
             [
              0.5555555555555556,
              "#d8576b"
             ],
             [
              0.6666666666666666,
              "#ed7953"
             ],
             [
              0.7777777777777778,
              "#fb9f3a"
             ],
             [
              0.8888888888888888,
              "#fdca26"
             ],
             [
              1,
              "#f0f921"
             ]
            ],
            "type": "contour"
           }
          ],
          "contourcarpet": [
           {
            "colorbar": {
             "outlinewidth": 0,
             "ticks": ""
            },
            "type": "contourcarpet"
           }
          ],
          "heatmap": [
           {
            "colorbar": {
             "outlinewidth": 0,
             "ticks": ""
            },
            "colorscale": [
             [
              0,
              "#0d0887"
             ],
             [
              0.1111111111111111,
              "#46039f"
             ],
             [
              0.2222222222222222,
              "#7201a8"
             ],
             [
              0.3333333333333333,
              "#9c179e"
             ],
             [
              0.4444444444444444,
              "#bd3786"
             ],
             [
              0.5555555555555556,
              "#d8576b"
             ],
             [
              0.6666666666666666,
              "#ed7953"
             ],
             [
              0.7777777777777778,
              "#fb9f3a"
             ],
             [
              0.8888888888888888,
              "#fdca26"
             ],
             [
              1,
              "#f0f921"
             ]
            ],
            "type": "heatmap"
           }
          ],
          "heatmapgl": [
           {
            "colorbar": {
             "outlinewidth": 0,
             "ticks": ""
            },
            "colorscale": [
             [
              0,
              "#0d0887"
             ],
             [
              0.1111111111111111,
              "#46039f"
             ],
             [
              0.2222222222222222,
              "#7201a8"
             ],
             [
              0.3333333333333333,
              "#9c179e"
             ],
             [
              0.4444444444444444,
              "#bd3786"
             ],
             [
              0.5555555555555556,
              "#d8576b"
             ],
             [
              0.6666666666666666,
              "#ed7953"
             ],
             [
              0.7777777777777778,
              "#fb9f3a"
             ],
             [
              0.8888888888888888,
              "#fdca26"
             ],
             [
              1,
              "#f0f921"
             ]
            ],
            "type": "heatmapgl"
           }
          ],
          "histogram": [
           {
            "marker": {
             "pattern": {
              "fillmode": "overlay",
              "size": 10,
              "solidity": 0.2
             }
            },
            "type": "histogram"
           }
          ],
          "histogram2d": [
           {
            "colorbar": {
             "outlinewidth": 0,
             "ticks": ""
            },
            "colorscale": [
             [
              0,
              "#0d0887"
             ],
             [
              0.1111111111111111,
              "#46039f"
             ],
             [
              0.2222222222222222,
              "#7201a8"
             ],
             [
              0.3333333333333333,
              "#9c179e"
             ],
             [
              0.4444444444444444,
              "#bd3786"
             ],
             [
              0.5555555555555556,
              "#d8576b"
             ],
             [
              0.6666666666666666,
              "#ed7953"
             ],
             [
              0.7777777777777778,
              "#fb9f3a"
             ],
             [
              0.8888888888888888,
              "#fdca26"
             ],
             [
              1,
              "#f0f921"
             ]
            ],
            "type": "histogram2d"
           }
          ],
          "histogram2dcontour": [
           {
            "colorbar": {
             "outlinewidth": 0,
             "ticks": ""
            },
            "colorscale": [
             [
              0,
              "#0d0887"
             ],
             [
              0.1111111111111111,
              "#46039f"
             ],
             [
              0.2222222222222222,
              "#7201a8"
             ],
             [
              0.3333333333333333,
              "#9c179e"
             ],
             [
              0.4444444444444444,
              "#bd3786"
             ],
             [
              0.5555555555555556,
              "#d8576b"
             ],
             [
              0.6666666666666666,
              "#ed7953"
             ],
             [
              0.7777777777777778,
              "#fb9f3a"
             ],
             [
              0.8888888888888888,
              "#fdca26"
             ],
             [
              1,
              "#f0f921"
             ]
            ],
            "type": "histogram2dcontour"
           }
          ],
          "mesh3d": [
           {
            "colorbar": {
             "outlinewidth": 0,
             "ticks": ""
            },
            "type": "mesh3d"
           }
          ],
          "parcoords": [
           {
            "line": {
             "colorbar": {
              "outlinewidth": 0,
              "ticks": ""
             }
            },
            "type": "parcoords"
           }
          ],
          "pie": [
           {
            "automargin": true,
            "type": "pie"
           }
          ],
          "scatter": [
           {
            "fillpattern": {
             "fillmode": "overlay",
             "size": 10,
             "solidity": 0.2
            },
            "type": "scatter"
           }
          ],
          "scatter3d": [
           {
            "line": {
             "colorbar": {
              "outlinewidth": 0,
              "ticks": ""
             }
            },
            "marker": {
             "colorbar": {
              "outlinewidth": 0,
              "ticks": ""
             }
            },
            "type": "scatter3d"
           }
          ],
          "scattercarpet": [
           {
            "marker": {
             "colorbar": {
              "outlinewidth": 0,
              "ticks": ""
             }
            },
            "type": "scattercarpet"
           }
          ],
          "scattergeo": [
           {
            "marker": {
             "colorbar": {
              "outlinewidth": 0,
              "ticks": ""
             }
            },
            "type": "scattergeo"
           }
          ],
          "scattergl": [
           {
            "marker": {
             "colorbar": {
              "outlinewidth": 0,
              "ticks": ""
             }
            },
            "type": "scattergl"
           }
          ],
          "scattermapbox": [
           {
            "marker": {
             "colorbar": {
              "outlinewidth": 0,
              "ticks": ""
             }
            },
            "type": "scattermapbox"
           }
          ],
          "scatterpolar": [
           {
            "marker": {
             "colorbar": {
              "outlinewidth": 0,
              "ticks": ""
             }
            },
            "type": "scatterpolar"
           }
          ],
          "scatterpolargl": [
           {
            "marker": {
             "colorbar": {
              "outlinewidth": 0,
              "ticks": ""
             }
            },
            "type": "scatterpolargl"
           }
          ],
          "scatterternary": [
           {
            "marker": {
             "colorbar": {
              "outlinewidth": 0,
              "ticks": ""
             }
            },
            "type": "scatterternary"
           }
          ],
          "surface": [
           {
            "colorbar": {
             "outlinewidth": 0,
             "ticks": ""
            },
            "colorscale": [
             [
              0,
              "#0d0887"
             ],
             [
              0.1111111111111111,
              "#46039f"
             ],
             [
              0.2222222222222222,
              "#7201a8"
             ],
             [
              0.3333333333333333,
              "#9c179e"
             ],
             [
              0.4444444444444444,
              "#bd3786"
             ],
             [
              0.5555555555555556,
              "#d8576b"
             ],
             [
              0.6666666666666666,
              "#ed7953"
             ],
             [
              0.7777777777777778,
              "#fb9f3a"
             ],
             [
              0.8888888888888888,
              "#fdca26"
             ],
             [
              1,
              "#f0f921"
             ]
            ],
            "type": "surface"
           }
          ],
          "table": [
           {
            "cells": {
             "fill": {
              "color": "#EBF0F8"
             },
             "line": {
              "color": "white"
             }
            },
            "header": {
             "fill": {
              "color": "#C8D4E3"
             },
             "line": {
              "color": "white"
             }
            },
            "type": "table"
           }
          ]
         },
         "layout": {
          "annotationdefaults": {
           "arrowcolor": "#2a3f5f",
           "arrowhead": 0,
           "arrowwidth": 1
          },
          "autotypenumbers": "strict",
          "coloraxis": {
           "colorbar": {
            "outlinewidth": 0,
            "ticks": ""
           }
          },
          "colorscale": {
           "diverging": [
            [
             0,
             "#8e0152"
            ],
            [
             0.1,
             "#c51b7d"
            ],
            [
             0.2,
             "#de77ae"
            ],
            [
             0.3,
             "#f1b6da"
            ],
            [
             0.4,
             "#fde0ef"
            ],
            [
             0.5,
             "#f7f7f7"
            ],
            [
             0.6,
             "#e6f5d0"
            ],
            [
             0.7,
             "#b8e186"
            ],
            [
             0.8,
             "#7fbc41"
            ],
            [
             0.9,
             "#4d9221"
            ],
            [
             1,
             "#276419"
            ]
           ],
           "sequential": [
            [
             0,
             "#0d0887"
            ],
            [
             0.1111111111111111,
             "#46039f"
            ],
            [
             0.2222222222222222,
             "#7201a8"
            ],
            [
             0.3333333333333333,
             "#9c179e"
            ],
            [
             0.4444444444444444,
             "#bd3786"
            ],
            [
             0.5555555555555556,
             "#d8576b"
            ],
            [
             0.6666666666666666,
             "#ed7953"
            ],
            [
             0.7777777777777778,
             "#fb9f3a"
            ],
            [
             0.8888888888888888,
             "#fdca26"
            ],
            [
             1,
             "#f0f921"
            ]
           ],
           "sequentialminus": [
            [
             0,
             "#0d0887"
            ],
            [
             0.1111111111111111,
             "#46039f"
            ],
            [
             0.2222222222222222,
             "#7201a8"
            ],
            [
             0.3333333333333333,
             "#9c179e"
            ],
            [
             0.4444444444444444,
             "#bd3786"
            ],
            [
             0.5555555555555556,
             "#d8576b"
            ],
            [
             0.6666666666666666,
             "#ed7953"
            ],
            [
             0.7777777777777778,
             "#fb9f3a"
            ],
            [
             0.8888888888888888,
             "#fdca26"
            ],
            [
             1,
             "#f0f921"
            ]
           ]
          },
          "colorway": [
           "#636efa",
           "#EF553B",
           "#00cc96",
           "#ab63fa",
           "#FFA15A",
           "#19d3f3",
           "#FF6692",
           "#B6E880",
           "#FF97FF",
           "#FECB52"
          ],
          "font": {
           "color": "#2a3f5f"
          },
          "geo": {
           "bgcolor": "white",
           "lakecolor": "white",
           "landcolor": "#E5ECF6",
           "showlakes": true,
           "showland": true,
           "subunitcolor": "white"
          },
          "hoverlabel": {
           "align": "left"
          },
          "hovermode": "closest",
          "mapbox": {
           "style": "light"
          },
          "paper_bgcolor": "white",
          "plot_bgcolor": "#E5ECF6",
          "polar": {
           "angularaxis": {
            "gridcolor": "white",
            "linecolor": "white",
            "ticks": ""
           },
           "bgcolor": "#E5ECF6",
           "radialaxis": {
            "gridcolor": "white",
            "linecolor": "white",
            "ticks": ""
           }
          },
          "scene": {
           "xaxis": {
            "backgroundcolor": "#E5ECF6",
            "gridcolor": "white",
            "gridwidth": 2,
            "linecolor": "white",
            "showbackground": true,
            "ticks": "",
            "zerolinecolor": "white"
           },
           "yaxis": {
            "backgroundcolor": "#E5ECF6",
            "gridcolor": "white",
            "gridwidth": 2,
            "linecolor": "white",
            "showbackground": true,
            "ticks": "",
            "zerolinecolor": "white"
           },
           "zaxis": {
            "backgroundcolor": "#E5ECF6",
            "gridcolor": "white",
            "gridwidth": 2,
            "linecolor": "white",
            "showbackground": true,
            "ticks": "",
            "zerolinecolor": "white"
           }
          },
          "shapedefaults": {
           "line": {
            "color": "#2a3f5f"
           }
          },
          "ternary": {
           "aaxis": {
            "gridcolor": "white",
            "linecolor": "white",
            "ticks": ""
           },
           "baxis": {
            "gridcolor": "white",
            "linecolor": "white",
            "ticks": ""
           },
           "bgcolor": "#E5ECF6",
           "caxis": {
            "gridcolor": "white",
            "linecolor": "white",
            "ticks": ""
           }
          },
          "title": {
           "x": 0.05
          },
          "xaxis": {
           "automargin": true,
           "gridcolor": "white",
           "linecolor": "white",
           "ticks": "",
           "title": {
            "standoff": 15
           },
           "zerolinecolor": "white",
           "zerolinewidth": 2
          },
          "yaxis": {
           "automargin": true,
           "gridcolor": "white",
           "linecolor": "white",
           "ticks": "",
           "title": {
            "standoff": 15
           },
           "zerolinecolor": "white",
           "zerolinewidth": 2
          }
         }
        },
        "xaxis": {
         "anchor": "y",
         "domain": [
          0,
          1
         ],
         "title": {
          "text": "Occupation"
         }
        },
        "yaxis": {
         "anchor": "x",
         "domain": [
          0,
          1
         ],
         "title": {
          "text": "Income"
         }
        }
       }
      },
      "text/html": [
       "<div>                            <div id=\"e13b8dfd-4bb1-4193-9d48-6656908f7091\" class=\"plotly-graph-div\" style=\"height:525px; width:100%;\"></div>            <script type=\"text/javascript\">                require([\"plotly\"], function(Plotly) {                    window.PLOTLYENV=window.PLOTLYENV || {};                                    if (document.getElementById(\"e13b8dfd-4bb1-4193-9d48-6656908f7091\")) {                    Plotly.newPlot(                        \"e13b8dfd-4bb1-4193-9d48-6656908f7091\",                        [{\"alignmentgroup\":\"True\",\"hovertemplate\":\"Education=Bachelors\\u003cbr\\u003eOccupation=%{x}\\u003cbr\\u003eIncome=%{y}\\u003cextra\\u003e\\u003c\\u002fextra\\u003e\",\"legendgroup\":\"Bachelors\",\"marker\":{\"color\":\"#636efa\"},\"name\":\"Bachelors\",\"notched\":false,\"offsetgroup\":\"Bachelors\",\"orientation\":\"v\",\"showlegend\":true,\"x\":[\"Skilled Manual\",\"Clerical\",\"Skilled Manual\",\"Professional\",\"Clerical\",\"Professional\",\"Clerical\",\"Professional\",\"Management\",\"Clerical\",\"Clerical\",\"Professional\",\"Clerical\",\"Professional\",\"Clerical\",\"Skilled Manual\",\"Professional\",\"Management\",\"Professional\",\"Clerical\",\"Professional\",\"Management\",\"Clerical\",\"Management\",\"Professional\",\"Professional\",\"Skilled Manual\",\"Professional\",\"Clerical\",\"Professional\",\"Professional\",\"Clerical\",\"Skilled Manual\",\"Management\",\"Management\",\"Professional\",\"Clerical\",\"Professional\",\"Clerical\",\"Professional\",\"Professional\",\"Management\",\"Professional\",\"Skilled Manual\",\"Professional\",\"Clerical\",\"Professional\",\"Management\",\"Management\",\"Manual\",\"Professional\",\"Professional\",\"Professional\",\"Professional\",\"Clerical\",\"Management\",\"Management\",\"Professional\",\"Professional\",\"Management\",\"Professional\",\"Clerical\",\"Professional\",\"Professional\",\"Professional\",\"Clerical\",\"Manual\",\"Professional\",\"Professional\",\"Clerical\",\"Clerical\",\"Professional\",\"Clerical\",\"Management\",\"Management\",\"Professional\",\"Professional\",\"Management\",\"Skilled Manual\",\"Professional\",\"Professional\",\"Clerical\",\"Clerical\",\"Management\",\"Clerical\",\"Skilled Manual\",\"Professional\",\"Clerical\",\"Clerical\",\"Skilled Manual\",\"Professional\",\"Clerical\",\"Management\",\"Professional\",\"Professional\",\"Clerical\",\"Clerical\",\"Professional\",\"Clerical\",\"Skilled Manual\",\"Professional\",\"Professional\",\"Clerical\",\"Clerical\",\"Skilled Manual\",\"Clerical\",\"Professional\",\"Professional\",\"Skilled Manual\",\"Management\",\"Clerical\",\"Professional\",\"Skilled Manual\",\"Professional\",\"Skilled Manual\",\"Clerical\",\"Professional\",\"Professional\",\"Clerical\",\"Professional\",\"Professional\",\"Professional\",\"Clerical\",\"Clerical\",\"Clerical\",\"Professional\",\"Clerical\",\"Management\",\"Management\",\"Clerical\",\"Clerical\",\"Skilled Manual\",\"Professional\",\"Professional\",\"Skilled Manual\",\"Management\",\"Management\",\"Management\",\"Clerical\",\"Professional\",\"Skilled Manual\",\"Skilled Manual\",\"Skilled Manual\",\"Skilled Manual\",\"Skilled Manual\",\"Professional\",\"Management\",\"Clerical\",\"Clerical\",\"Management\",\"Clerical\",\"Management\",\"Clerical\",\"Professional\",\"Clerical\",\"Professional\",\"Professional\",\"Clerical\",\"Skilled Manual\",\"Professional\",\"Clerical\",\"Professional\",\"Management\",\"Skilled Manual\",\"Professional\",\"Management\",\"Skilled Manual\",\"Professional\",\"Professional\",\"Professional\",\"Management\",\"Professional\",\"Professional\",\"Professional\",\"Management\",\"Management\",\"Professional\",\"Management\",\"Management\",\"Skilled Manual\",\"Professional\",\"Management\",\"Skilled Manual\",\"Skilled Manual\",\"Management\",\"Professional\",\"Management\",\"Professional\",\"Management\",\"Professional\",\"Management\",\"Management\",\"Skilled Manual\",\"Management\",\"Management\",\"Management\",\"Management\",\"Management\",\"Skilled Manual\",\"Management\",\"Management\",\"Skilled Manual\",\"Professional\",\"Management\",\"Management\",\"Professional\",\"Management\",\"Management\",\"Management\",\"Skilled Manual\",\"Management\",\"Professional\",\"Skilled Manual\",\"Management\",\"Management\",\"Management\",\"Management\",\"Skilled Manual\",\"Management\",\"Skilled Manual\",\"Professional\",\"Skilled Manual\",\"Management\",\"Professional\",\"Management\",\"Management\",\"Management\",\"Skilled Manual\",\"Management\",\"Management\",\"Professional\",\"Skilled Manual\",\"Management\",\"Management\",\"Management\",\"Management\",\"Professional\",\"Skilled Manual\",\"Management\",\"Skilled Manual\",\"Skilled Manual\",\"Management\",\"Management\",\"Management\",\"Professional\",\"Skilled Manual\",\"Skilled Manual\",\"Management\",\"Professional\",\"Management\",\"Management\",\"Management\",\"Management\",\"Skilled Manual\",\"Professional\",\"Professional\",\"Skilled Manual\",\"Skilled Manual\",\"Management\",\"Skilled Manual\",\"Professional\",\"Professional\",\"Management\",\"Management\",\"Management\",\"Skilled Manual\",\"Skilled Manual\",\"Skilled Manual\",\"Management\",\"Professional\",\"Skilled Manual\",\"Skilled Manual\",\"Management\",\"Skilled Manual\",\"Management\",\"Skilled Manual\",\"Skilled Manual\",\"Skilled Manual\",\"Management\",\"Management\",\"Management\",\"Skilled Manual\",\"Management\",\"Management\",\"Management\",\"Skilled Manual\",\"Skilled Manual\",\"Skilled Manual\",\"Management\",\"Management\",\"Professional\",\"Management\",\"Management\",\"Skilled Manual\",\"Management\",\"Management\",\"Skilled Manual\",\"Skilled Manual\",\"Management\",\"Skilled Manual\",\"Management\"],\"x0\":\" \",\"xaxis\":\"x\",\"y\":[40000.0,30000.0,40000.0,90000.0,30000.0,80000.0,30000.0,100000.0,40000.0,20000.0,40000.0,80000.0,20000.0,70000.0,40000.0,40000.0,60000.0,40000.0,60000.0,30000.0,80000.0,40000.0,30000.0,40000.0,80000.0,60000.0,40000.0,60000.0,40000.0,40000.0,70000.0,20000.0,30000.0,80000.0,40000.0,80000.0,40000.0,80000.0,30000.0,60000.0,40000.0,40000.0,40000.0,40000.0,80000.0,30000.0,40000.0,100000.0,100000.0,10000.0,60000.0,60000.0,90000.0,70000.0,30000.0,80000.0,40000.0,90000.0,70000.0,80000.0,70000.0,20000.0,80000.0,60000.0,70000.0,30000.0,10000.0,60000.0,70000.0,40000.0,20000.0,90000.0,30000.0,120000.0,110000.0,70000.0,60000.0,150000.0,40000.0,70000.0,100000.0,30000.0,30000.0,100000.0,40000.0,40000.0,60000.0,null,30000.0,30000.0,90000.0,10000.0,120000.0,80000.0,70000.0,30000.0,30000.0,90000.0,20000.0,30000.0,80000.0,90000.0,20000.0,20000.0,40000.0,30000.0,80000.0,80000.0,40000.0,40000.0,40000.0,100000.0,40000.0,80000.0,40000.0,20000.0,60000.0,70000.0,30000.0,80000.0,70000.0,70000.0,20000.0,40000.0,30000.0,60000.0,30000.0,40000.0,110000.0,40000.0,30000.0,40000.0,90000.0,60000.0,30000.0,100000.0,40000.0,110000.0,10000.0,90000.0,40000.0,40000.0,40000.0,40000.0,40000.0,80000.0,120000.0,40000.0,30000.0,40000.0,30000.0,100000.0,30000.0,70000.0,30000.0,90000.0,70000.0,30000.0,40000.0,90000.0,40000.0,60000.0,70000.0,60000.0,60000.0,130000.0,70000.0,70000.0,null,70000.0,80000.0,40000.0,70000.0,60000.0,80000.0,80000.0,60000.0,60000.0,110000.0,50000.0,60000.0,60000.0,50000.0,80000.0,80000.0,70000.0,120000.0,60000.0,130000.0,70000.0,50000.0,80000.0,50000.0,60000.0,80000.0,120000.0,60000.0,60000.0,70000.0,120000.0,60000.0,40000.0,70000.0,80000.0,70000.0,60000.0,130000.0,60000.0,50000.0,60000.0,70000.0,70000.0,50000.0,60000.0,100000.0,80000.0,60000.0,60000.0,130000.0,50000.0,70000.0,60000.0,70000.0,40000.0,70000.0,70000.0,70000.0,70000.0,90000.0,110000.0,60000.0,60000.0,130000.0,130000.0,110000.0,60000.0,70000.0,40000.0,60000.0,50000.0,50000.0,100000.0,70000.0,80000.0,70000.0,60000.0,50000.0,70000.0,60000.0,70000.0,70000.0,110000.0,110000.0,80000.0,70000.0,70000.0,60000.0,80000.0,130000.0,50000.0,60000.0,40000.0,80000.0,80000.0,110000.0,50000.0,30000.0,70000.0,70000.0,60000.0,60000.0,70000.0,50000.0,50000.0,70000.0,60000.0,80000.0,60000.0,90000.0,50000.0,80000.0,60000.0,110000.0,60000.0,60000.0,60000.0,50000.0,50000.0,90000.0,70000.0,60000.0,120000.0,90000.0,50000.0,80000.0,60000.0,80000.0,50000.0,70000.0,60000.0,100000.0],\"y0\":\" \",\"yaxis\":\"y\",\"type\":\"box\"},{\"alignmentgroup\":\"True\",\"hovertemplate\":\"Education=Partial College\\u003cbr\\u003eOccupation=%{x}\\u003cbr\\u003eIncome=%{y}\\u003cextra\\u003e\\u003c\\u002fextra\\u003e\",\"legendgroup\":\"Partial College\",\"marker\":{\"color\":\"#EF553B\"},\"name\":\"Partial College\",\"notched\":false,\"offsetgroup\":\"Partial College\",\"orientation\":\"v\",\"showlegend\":true,\"x\":[\"Clerical\",\"Professional\",\"Manual\",\"Manual\",\"Professional\",\"Clerical\",\"Skilled Manual\",\"Clerical\",\"Clerical\",\"Clerical\",\"Clerical\",\"Clerical\",\"Skilled Manual\",\"Manual\",\"Manual\",\"Professional\",\"Manual\",\"Clerical\",\"Clerical\",\"Professional\",\"Skilled Manual\",\"Skilled Manual\",\"Clerical\",\"Clerical\",\"Professional\",\"Clerical\",\"Manual\",\"Manual\",\"Professional\",\"Clerical\",\"Clerical\",\"Clerical\",\"Clerical\",\"Professional\",\"Clerical\",\"Manual\",\"Skilled Manual\",\"Clerical\",\"Skilled Manual\",\"Skilled Manual\",\"Manual\",\"Clerical\",\"Clerical\",\"Management\",\"Clerical\",\"Manual\",\"Clerical\",\"Manual\",\"Clerical\",\"Manual\",\"Clerical\",\"Clerical\",\"Skilled Manual\",\"Professional\",\"Manual\",\"Manual\",\"Skilled Manual\",\"Manual\",\"Manual\",\"Professional\",\"Manual\",\"Skilled Manual\",\"Manual\",\"Professional\",\"Professional\",\"Clerical\",\"Professional\",\"Clerical\",\"Clerical\",\"Skilled Manual\",\"Professional\",\"Clerical\",\"Clerical\",\"Professional\",\"Manual\",\"Clerical\",\"Clerical\",\"Manual\",\"Management\",\"Manual\",\"Skilled Manual\",\"Clerical\",\"Professional\",\"Management\",\"Clerical\",\"Manual\",\"Clerical\",\"Skilled Manual\",\"Manual\",\"Manual\",\"Manual\",\"Skilled Manual\",\"Manual\",\"Skilled Manual\",\"Skilled Manual\",\"Manual\",\"Management\",\"Clerical\",\"Clerical\",\"Manual\",\"Skilled Manual\",\"Professional\",\"Clerical\",\"Clerical\",\"Clerical\",\"Clerical\",\"Skilled Manual\",\"Clerical\",\"Manual\",\"Professional\",\"Clerical\",\"Skilled Manual\",\"Professional\",\"Clerical\",\"Manual\",\"Professional\",\"Clerical\",\"Clerical\",\"Professional\",\"Manual\",\"Clerical\",\"Clerical\",\"Professional\",\"Manual\",\"Skilled Manual\",\"Clerical\",\"Clerical\",\"Clerical\",\"Manual\",\"Manual\",\"Management\",\"Clerical\",\"Clerical\",\"Manual\",\"Clerical\",\"Clerical\",\"Skilled Manual\",\"Skilled Manual\",\"Clerical\",\"Skilled Manual\",\"Professional\",\"Manual\",\"Clerical\",\"Clerical\",\"Clerical\",\"Clerical\",\"Professional\",\"Skilled Manual\",\"Skilled Manual\",\"Professional\",\"Clerical\",\"Skilled Manual\",\"Skilled Manual\",\"Professional\",\"Professional\",\"Skilled Manual\",\"Professional\",\"Skilled Manual\",\"Clerical\",\"Skilled Manual\",\"Professional\",\"Skilled Manual\",\"Clerical\",\"Skilled Manual\",\"Skilled Manual\",\"Professional\",\"Clerical\",\"Skilled Manual\",\"Professional\",\"Clerical\",\"Skilled Manual\",\"Professional\",\"Professional\",\"Professional\",\"Professional\",\"Skilled Manual\",\"Professional\",\"Professional\",\"Professional\",\"Professional\",\"Skilled Manual\",\"Skilled Manual\",\"Professional\",\"Professional\",\"Professional\",\"Professional\",\"Professional\",\"Professional\",\"Professional\",\"Clerical\",\"Skilled Manual\",\"Professional\",\"Skilled Manual\",\"Professional\",\"Clerical\",\"Skilled Manual\",\"Professional\",\"Clerical\",\"Skilled Manual\",\"Professional\",\"Professional\",\"Skilled Manual\",\"Skilled Manual\",\"Professional\",\"Skilled Manual\",\"Clerical\",\"Professional\",\"Clerical\",\"Clerical\",\"Professional\",\"Professional\",\"Professional\",\"Skilled Manual\",\"Skilled Manual\",\"Skilled Manual\",\"Professional\",\"Skilled Manual\",\"Professional\",\"Professional\",\"Professional\",\"Professional\",\"Skilled Manual\",\"Skilled Manual\",\"Professional\",\"Skilled Manual\",\"Skilled Manual\",\"Skilled Manual\",\"Skilled Manual\",\"Skilled Manual\",\"Professional\",\"Skilled Manual\",\"Professional\",\"Skilled Manual\",\"Professional\",\"Skilled Manual\",\"Skilled Manual\",\"Skilled Manual\",\"Skilled Manual\",\"Clerical\",\"Clerical\",\"Skilled Manual\",\"Professional\",\"Professional\",\"Professional\",\"Clerical\",\"Skilled Manual\",\"Skilled Manual\",\"Professional\",\"Clerical\",\"Professional\",\"Skilled Manual\",\"Professional\",\"Professional\",\"Professional\",\"Skilled Manual\",\"Professional\",\"Professional\",\"Clerical\",\"Professional\",\"Professional\",\"Professional\"],\"x0\":\" \",\"xaxis\":\"x\",\"y\":[30000.0,80000.0,10000.0,null,170000.0,40000.0,60000.0,30000.0,40000.0,40000.0,40000.0,30000.0,70000.0,20000.0,10000.0,90000.0,10000.0,30000.0,30000.0,170000.0,60000.0,40000.0,30000.0,30000.0,130000.0,30000.0,20000.0,10000.0,130000.0,30000.0,30000.0,30000.0,30000.0,90000.0,30000.0,10000.0,60000.0,30000.0,70000.0,40000.0,null,40000.0,30000.0,100000.0,30000.0,10000.0,30000.0,10000.0,30000.0,10000.0,40000.0,30000.0,60000.0,130000.0,10000.0,20000.0,40000.0,10000.0,10000.0,130000.0,10000.0,80000.0,20000.0,110000.0,160000.0,30000.0,80000.0,30000.0,40000.0,60000.0,90000.0,30000.0,30000.0,80000.0,10000.0,30000.0,30000.0,20000.0,120000.0,10000.0,70000.0,30000.0,130000.0,100000.0,30000.0,10000.0,30000.0,70000.0,10000.0,10000.0,20000.0,70000.0,10000.0,60000.0,60000.0,20000.0,110000.0,30000.0,40000.0,20000.0,60000.0,130000.0,40000.0,40000.0,30000.0,30000.0,60000.0,30000.0,20000.0,80000.0,30000.0,60000.0,130000.0,30000.0,20000.0,130000.0,30000.0,30000.0,80000.0,10000.0,30000.0,40000.0,130000.0,20000.0,70000.0,40000.0,30000.0,30000.0,10000.0,10000.0,110000.0,30000.0,30000.0,20000.0,30000.0,30000.0,70000.0,null,30000.0,70000.0,80000.0,20000.0,40000.0,30000.0,30000.0,40000.0,60000.0,80000.0,40000.0,100000.0,40000.0,60000.0,60000.0,100000.0,80000.0,30000.0,60000.0,60000.0,40000.0,60000.0,40000.0,50000.0,40000.0,30000.0,30000.0,40000.0,40000.0,70000.0,60000.0,40000.0,40000.0,80000.0,70000.0,90000.0,60000.0,60000.0,110000.0,100000.0,100000.0,70000.0,70000.0,60000.0,80000.0,70000.0,120000.0,60000.0,70000.0,60000.0,70000.0,40000.0,70000.0,100000.0,60000.0,70000.0,40000.0,60000.0,90000.0,40000.0,30000.0,60000.0,90000.0,60000.0,70000.0,70000.0,30000.0,40000.0,60000.0,40000.0,40000.0,70000.0,70000.0,60000.0,40000.0,60000.0,70000.0,60000.0,80000.0,90000.0,80000.0,60000.0,70000.0,60000.0,40000.0,60000.0,60000.0,40000.0,40000.0,60000.0,40000.0,70000.0,60000.0,70000.0,60000.0,60000.0,30000.0,40000.0,30000.0,60000.0,40000.0,40000.0,70000.0,70000.0,40000.0,90000.0,40000.0,60000.0,60000.0,40000.0,40000.0,60000.0,60000.0,100000.0,60000.0,70000.0,60000.0,80000.0,110000.0,40000.0,90000.0,150000.0,80000.0],\"y0\":\" \",\"yaxis\":\"y\",\"type\":\"box\"},{\"alignmentgroup\":\"True\",\"hovertemplate\":\"Education=High School\\u003cbr\\u003eOccupation=%{x}\\u003cbr\\u003eIncome=%{y}\\u003cextra\\u003e\\u003c\\u002fextra\\u003e\",\"legendgroup\":\"High School\",\"marker\":{\"color\":\"#00cc96\"},\"name\":\"High School\",\"notched\":false,\"offsetgroup\":\"High School\",\"orientation\":\"v\",\"showlegend\":true,\"x\":[\"Management\",\"Skilled Manual\",\"Manual\",\"Management\",\"Manual\",\"Skilled Manual\",\"Manual\",\"Manual\",\"Management\",\"Professional\",\"Manual\",\"Manual\",\"Manual\",\"Manual\",\"Professional\",\"Skilled Manual\",\"Management\",\"Skilled Manual\",\"Manual\",\"Manual\",\"Skilled Manual\",\"Manual\",\"Manual\",\"Professional\",\"Manual\",\"Professional\",\"Manual\",\"Management\",\"Manual\",\"Manual\",\"Skilled Manual\",\"Manual\",\"Management\",\"Manual\",\"Management\",\"Skilled Manual\",\"Skilled Manual\",\"Manual\",\"Manual\",\"Professional\",\"Manual\",\"Management\",\"Manual\",\"Manual\",\"Management\",\"Skilled Manual\",\"Professional\",\"Manual\",\"Manual\",\"Manual\",\"Manual\",\"Management\",\"Skilled Manual\",\"Manual\",\"Professional\",\"Skilled Manual\",\"Skilled Manual\",\"Professional\",\"Professional\",\"Manual\",\"Manual\",\"Manual\",\"Manual\",\"Professional\",\"Management\",\"Manual\",\"Manual\",\"Skilled Manual\",\"Manual\",\"Skilled Manual\",\"Management\",\"Skilled Manual\",\"Skilled Manual\",\"Manual\",\"Manual\",\"Manual\",\"Professional\",\"Manual\",\"Manual\",\"Skilled Manual\",\"Skilled Manual\",\"Professional\",\"Skilled Manual\",\"Professional\",\"Professional\",\"Professional\",\"Skilled Manual\",\"Professional\",\"Professional\",\"Professional\",\"Skilled Manual\",\"Skilled Manual\",\"Professional\",\"Professional\",\"Professional\",\"Skilled Manual\",\"Professional\",\"Skilled Manual\",\"Skilled Manual\",\"Professional\",\"Skilled Manual\",\"Skilled Manual\",\"Skilled Manual\",\"Skilled Manual\",\"Skilled Manual\",\"Skilled Manual\",\"Skilled Manual\",\"Skilled Manual\",\"Professional\",\"Skilled Manual\",\"Professional\",\"Professional\",\"Skilled Manual\",\"Skilled Manual\",\"Skilled Manual\",\"Skilled Manual\",\"Professional\",\"Professional\",\"Professional\",\"Skilled Manual\",\"Professional\",\"Skilled Manual\",\"Manual\",\"Skilled Manual\",\"Professional\",\"Skilled Manual\",\"Skilled Manual\",\"Skilled Manual\",\"Professional\",\"Professional\",\"Clerical\",\"Professional\",\"Skilled Manual\",\"Manual\",\"Skilled Manual\",\"Professional\",\"Skilled Manual\",\"Clerical\",\"Clerical\",\"Professional\",\"Skilled Manual\",\"Skilled Manual\",\"Skilled Manual\",\"Skilled Manual\",\"Manual\",\"Skilled Manual\",\"Professional\",\"Professional\",\"Skilled Manual\",\"Skilled Manual\",\"Professional\",\"Professional\",\"Professional\",\"Professional\",\"Professional\",\"Skilled Manual\",\"Manual\",\"Skilled Manual\",\"Professional\",\"Professional\",\"Professional\",\"Skilled Manual\",\"Skilled Manual\",\"Professional\",\"Skilled Manual\",\"Professional\",\"Professional\",\"Professional\",\"Skilled Manual\",\"Skilled Manual\",\"Professional\",\"Skilled Manual\",\"Clerical\",\"Skilled Manual\",\"Professional\",\"Professional\",\"Skilled Manual\",\"Professional\",\"Professional\"],\"x0\":\" \",\"xaxis\":\"x\",\"y\":[160000.0,30000.0,10000.0,80000.0,20000.0,80000.0,20000.0,20000.0,90000.0,80000.0,10000.0,10000.0,30000.0,20000.0,130000.0,20000.0,130000.0,80000.0,20000.0,20000.0,30000.0,20000.0,10000.0,70000.0,20000.0,150000.0,10000.0,90000.0,10000.0,20000.0,20000.0,20000.0,100000.0,10000.0,130000.0,30000.0,30000.0,null,10000.0,90000.0,20000.0,80000.0,30000.0,20000.0,100000.0,10000.0,130000.0,20000.0,20000.0,20000.0,10000.0,100000.0,30000.0,10000.0,90000.0,10000.0,20000.0,130000.0,120000.0,30000.0,30000.0,20000.0,10000.0,150000.0,90000.0,10000.0,20000.0,30000.0,30000.0,30000.0,110000.0,30000.0,80000.0,30000.0,10000.0,30000.0,120000.0,20000.0,30000.0,20000.0,70000.0,70000.0,40000.0,60000.0,40000.0,40000.0,40000.0,70000.0,60000.0,60000.0,30000.0,40000.0,60000.0,90000.0,40000.0,20000.0,40000.0,30000.0,40000.0,70000.0,40000.0,40000.0,40000.0,30000.0,40000.0,40000.0,30000.0,40000.0,60000.0,40000.0,40000.0,60000.0,40000.0,30000.0,30000.0,30000.0,120000.0,60000.0,40000.0,40000.0,40000.0,30000.0,20000.0,40000.0,60000.0,40000.0,30000.0,30000.0,40000.0,60000.0,30000.0,120000.0,40000.0,10000.0,40000.0,60000.0,40000.0,30000.0,30000.0,60000.0,30000.0,40000.0,40000.0,40000.0,10000.0,30000.0,40000.0,70000.0,40000.0,30000.0,70000.0,70000.0,60000.0,40000.0,40000.0,30000.0,20000.0,40000.0,60000.0,60000.0,90000.0,40000.0,40000.0,40000.0,30000.0,40000.0,60000.0,60000.0,40000.0,40000.0,90000.0,40000.0,30000.0,40000.0,60000.0,40000.0,30000.0,60000.0,60000.0],\"y0\":\" \",\"yaxis\":\"y\",\"type\":\"box\"},{\"alignmentgroup\":\"True\",\"hovertemplate\":\"Education=Partial High School\\u003cbr\\u003eOccupation=%{x}\\u003cbr\\u003eIncome=%{y}\\u003cextra\\u003e\\u003c\\u002fextra\\u003e\",\"legendgroup\":\"Partial High School\",\"marker\":{\"color\":\"#ab63fa\"},\"name\":\"Partial High School\",\"notched\":false,\"offsetgroup\":\"Partial High School\",\"orientation\":\"v\",\"showlegend\":true,\"x\":[\"Clerical\",\"Clerical\",\"Manual\",\"Manual\",\"Manual\",\"Manual\",\"Professional\",\"Manual\",\"Manual\",\"Manual\",\"Clerical\",\"Manual\",\"Manual\",\"Manual\",\"Manual\",\"Manual\",\"Clerical\",\"Manual\",\"Manual\",\"Manual\",\"Professional\",\"Clerical\",\"Manual\",\"Manual\",\"Manual\",\"Clerical\",\"Clerical\",\"Manual\",\"Skilled Manual\",\"Manual\",\"Manual\",\"Manual\",\"Manual\",\"Manual\",\"Manual\",\"Professional\",\"Manual\",\"Manual\",\"Clerical\",\"Manual\",\"Professional\",\"Manual\",\"Skilled Manual\",\"Manual\",\"Manual\",\"Skilled Manual\",\"Clerical\",\"Clerical\",\"Skilled Manual\",\"Skilled Manual\",\"Skilled Manual\",\"Skilled Manual\",\"Clerical\",\"Clerical\",\"Clerical\",\"Clerical\",\"Clerical\",\"Skilled Manual\",\"Skilled Manual\",\"Clerical\",\"Skilled Manual\",\"Clerical\",\"Skilled Manual\",\"Clerical\",\"Skilled Manual\",\"Skilled Manual\",\"Clerical\",\"Clerical\",\"Skilled Manual\",\"Clerical\",\"Clerical\",\"Clerical\",\"Skilled Manual\",\"Skilled Manual\",\"Clerical\",\"Skilled Manual\"],\"x0\":\" \",\"xaxis\":\"x\",\"y\":[20000.0,20000.0,20000.0,10000.0,10000.0,10000.0,120000.0,10000.0,20000.0,10000.0,20000.0,20000.0,10000.0,10000.0,10000.0,20000.0,20000.0,20000.0,10000.0,10000.0,100000.0,20000.0,10000.0,10000.0,10000.0,10000.0,40000.0,10000.0,90000.0,10000.0,20000.0,20000.0,10000.0,10000.0,10000.0,120000.0,20000.0,10000.0,10000.0,10000.0,120000.0,20000.0,90000.0,10000.0,20000.0,70000.0,30000.0,20000.0,70000.0,40000.0,60000.0,60000.0,30000.0,20000.0,20000.0,30000.0,20000.0,80000.0,70000.0,20000.0,70000.0,20000.0,80000.0,40000.0,70000.0,80000.0,20000.0,40000.0,30000.0,30000.0,20000.0,30000.0,80000.0,70000.0,30000.0,60000.0],\"y0\":\" \",\"yaxis\":\"y\",\"type\":\"box\"},{\"alignmentgroup\":\"True\",\"hovertemplate\":\"Education=Graduate Degree\\u003cbr\\u003eOccupation=%{x}\\u003cbr\\u003eIncome=%{y}\\u003cextra\\u003e\\u003c\\u002fextra\\u003e\",\"legendgroup\":\"Graduate Degree\",\"marker\":{\"color\":\"#FFA15A\"},\"name\":\"Graduate Degree\",\"notched\":false,\"offsetgroup\":\"Graduate Degree\",\"orientation\":\"v\",\"showlegend\":true,\"x\":[\"Clerical\",\"Manual\",\"Clerical\",\"Clerical\",\"Clerical\",\"Management\",\"Manual\",\"Clerical\",\"Skilled Manual\",\"Manual\",\"Manual\",\"Skilled Manual\",\"Management\",\"Management\",\"Clerical\",\"Clerical\",\"Management\",\"Skilled Manual\",\"Clerical\",\"Clerical\",\"Clerical\",\"Clerical\",\"Manual\",\"Management\",\"Clerical\",\"Clerical\",\"Skilled Manual\",\"Clerical\",\"Skilled Manual\",\"Management\",\"Clerical\",\"Management\",\"Management\",\"Management\",\"Management\",\"Management\",\"Management\",\"Clerical\",\"Clerical\",\"Management\",\"Management\",\"Clerical\",\"Manual\",\"Clerical\",\"Clerical\",\"Management\",\"Management\",\"Skilled Manual\",\"Management\",\"Management\",\"Clerical\",\"Management\",\"Clerical\",\"Clerical\",\"Clerical\",\"Professional\",\"Skilled Manual\",\"Management\",\"Management\",\"Management\",\"Skilled Manual\",\"Skilled Manual\",\"Professional\",\"Professional\",\"Professional\",\"Management\",\"Management\",\"Management\",\"Management\",\"Skilled Manual\",\"Management\",\"Professional\",\"Management\",\"Management\",\"Professional\",\"Professional\",\"Skilled Manual\",\"Skilled Manual\",\"Management\",\"Management\",\"Skilled Manual\",\"Skilled Manual\",\"Management\",\"Management\",\"Professional\",\"Skilled Manual\",\"Skilled Manual\",\"Management\",\"Professional\",\"Professional\",\"Skilled Manual\",\"Management\",\"Professional\",\"Professional\",\"Professional\",\"Skilled Manual\",\"Skilled Manual\",\"Management\",\"Professional\",\"Skilled Manual\",\"Professional\",\"Skilled Manual\",\"Professional\",\"Professional\",\"Management\",\"Management\",\"Professional\",\"Professional\",\"Skilled Manual\",\"Management\",\"Professional\",\"Skilled Manual\",\"Professional\",\"Skilled Manual\",\"Skilled Manual\",\"Skilled Manual\",\"Skilled Manual\",\"Professional\",\"Management\",\"Skilled Manual\",\"Management\",\"Management\",\"Professional\",\"Professional\",\"Professional\",\"Management\",\"Professional\",\"Skilled Manual\",\"Professional\",\"Management\",\"Management\",\"Professional\",\"Skilled Manual\",\"Management\",\"Management\",\"Professional\",\"Management\",\"Skilled Manual\",\"Management\",\"Professional\",\"Skilled Manual\",\"Skilled Manual\",\"Management\",\"Professional\",\"Professional\",\"Professional\",\"Management\",\"Professional\",\"Skilled Manual\",\"Skilled Manual\",\"Management\",\"Professional\",\"Management\",\"Skilled Manual\",\"Professional\",\"Professional\",\"Professional\",\"Skilled Manual\",\"Skilled Manual\",\"Skilled Manual\",\"Professional\",\"Professional\",\"Professional\",\"Skilled Manual\",\"Professional\",\"Management\",\"Professional\",\"Management\",\"Management\",\"Management\",\"Professional\",\"Professional\"],\"x0\":\" \",\"xaxis\":\"x\",\"y\":[40000.0,10000.0,40000.0,30000.0,40000.0,130000.0,10000.0,40000.0,50000.0,10000.0,10000.0,50000.0,60000.0,100000.0,30000.0,40000.0,80000.0,50000.0,20000.0,30000.0,10000.0,30000.0,10000.0,100000.0,30000.0,20000.0,50000.0,40000.0,50000.0,90000.0,30000.0,130000.0,100000.0,80000.0,50000.0,100000.0,160000.0,40000.0,40000.0,130000.0,80000.0,40000.0,10000.0,20000.0,40000.0,80000.0,90000.0,80000.0,80000.0,130000.0,30000.0,80000.0,40000.0,40000.0,10000.0,70000.0,50000.0,60000.0,80000.0,70000.0,50000.0,80000.0,60000.0,60000.0,70000.0,60000.0,50000.0,60000.0,60000.0,80000.0,130000.0,60000.0,80000.0,130000.0,60000.0,70000.0,60000.0,80000.0,60000.0,60000.0,50000.0,80000.0,70000.0,100000.0,70000.0,60000.0,60000.0,70000.0,60000.0,70000.0,80000.0,130000.0,60000.0,60000.0,70000.0,60000.0,80000.0,60000.0,80000.0,50000.0,60000.0,80000.0,70000.0,70000.0,70000.0,130000.0,70000.0,60000.0,60000.0,130000.0,60000.0,80000.0,60000.0,50000.0,60000.0,60000.0,60000.0,80000.0,50000.0,50000.0,70000.0,70000.0,60000.0,60000.0,70000.0,170000.0,60000.0,60000.0,80000.0,120000.0,130000.0,60000.0,50000.0,70000.0,50000.0,80000.0,80000.0,30000.0,80000.0,70000.0,50000.0,70000.0,100000.0,60000.0,70000.0,70000.0,90000.0,60000.0,60000.0,80000.0,60000.0,70000.0,70000.0,50000.0,70000.0,70000.0,70000.0,60000.0,60000.0,60000.0,70000.0,70000.0,90000.0,50000.0,60000.0,70000.0,70000.0,80000.0,130000.0,60000.0,60000.0,70000.0],\"y0\":\" \",\"yaxis\":\"y\",\"type\":\"box\"}],                        {\"template\":{\"data\":{\"histogram2dcontour\":[{\"type\":\"histogram2dcontour\",\"colorbar\":{\"outlinewidth\":0,\"ticks\":\"\"},\"colorscale\":[[0.0,\"#0d0887\"],[0.1111111111111111,\"#46039f\"],[0.2222222222222222,\"#7201a8\"],[0.3333333333333333,\"#9c179e\"],[0.4444444444444444,\"#bd3786\"],[0.5555555555555556,\"#d8576b\"],[0.6666666666666666,\"#ed7953\"],[0.7777777777777778,\"#fb9f3a\"],[0.8888888888888888,\"#fdca26\"],[1.0,\"#f0f921\"]]}],\"choropleth\":[{\"type\":\"choropleth\",\"colorbar\":{\"outlinewidth\":0,\"ticks\":\"\"}}],\"histogram2d\":[{\"type\":\"histogram2d\",\"colorbar\":{\"outlinewidth\":0,\"ticks\":\"\"},\"colorscale\":[[0.0,\"#0d0887\"],[0.1111111111111111,\"#46039f\"],[0.2222222222222222,\"#7201a8\"],[0.3333333333333333,\"#9c179e\"],[0.4444444444444444,\"#bd3786\"],[0.5555555555555556,\"#d8576b\"],[0.6666666666666666,\"#ed7953\"],[0.7777777777777778,\"#fb9f3a\"],[0.8888888888888888,\"#fdca26\"],[1.0,\"#f0f921\"]]}],\"heatmap\":[{\"type\":\"heatmap\",\"colorbar\":{\"outlinewidth\":0,\"ticks\":\"\"},\"colorscale\":[[0.0,\"#0d0887\"],[0.1111111111111111,\"#46039f\"],[0.2222222222222222,\"#7201a8\"],[0.3333333333333333,\"#9c179e\"],[0.4444444444444444,\"#bd3786\"],[0.5555555555555556,\"#d8576b\"],[0.6666666666666666,\"#ed7953\"],[0.7777777777777778,\"#fb9f3a\"],[0.8888888888888888,\"#fdca26\"],[1.0,\"#f0f921\"]]}],\"heatmapgl\":[{\"type\":\"heatmapgl\",\"colorbar\":{\"outlinewidth\":0,\"ticks\":\"\"},\"colorscale\":[[0.0,\"#0d0887\"],[0.1111111111111111,\"#46039f\"],[0.2222222222222222,\"#7201a8\"],[0.3333333333333333,\"#9c179e\"],[0.4444444444444444,\"#bd3786\"],[0.5555555555555556,\"#d8576b\"],[0.6666666666666666,\"#ed7953\"],[0.7777777777777778,\"#fb9f3a\"],[0.8888888888888888,\"#fdca26\"],[1.0,\"#f0f921\"]]}],\"contourcarpet\":[{\"type\":\"contourcarpet\",\"colorbar\":{\"outlinewidth\":0,\"ticks\":\"\"}}],\"contour\":[{\"type\":\"contour\",\"colorbar\":{\"outlinewidth\":0,\"ticks\":\"\"},\"colorscale\":[[0.0,\"#0d0887\"],[0.1111111111111111,\"#46039f\"],[0.2222222222222222,\"#7201a8\"],[0.3333333333333333,\"#9c179e\"],[0.4444444444444444,\"#bd3786\"],[0.5555555555555556,\"#d8576b\"],[0.6666666666666666,\"#ed7953\"],[0.7777777777777778,\"#fb9f3a\"],[0.8888888888888888,\"#fdca26\"],[1.0,\"#f0f921\"]]}],\"surface\":[{\"type\":\"surface\",\"colorbar\":{\"outlinewidth\":0,\"ticks\":\"\"},\"colorscale\":[[0.0,\"#0d0887\"],[0.1111111111111111,\"#46039f\"],[0.2222222222222222,\"#7201a8\"],[0.3333333333333333,\"#9c179e\"],[0.4444444444444444,\"#bd3786\"],[0.5555555555555556,\"#d8576b\"],[0.6666666666666666,\"#ed7953\"],[0.7777777777777778,\"#fb9f3a\"],[0.8888888888888888,\"#fdca26\"],[1.0,\"#f0f921\"]]}],\"mesh3d\":[{\"type\":\"mesh3d\",\"colorbar\":{\"outlinewidth\":0,\"ticks\":\"\"}}],\"scatter\":[{\"fillpattern\":{\"fillmode\":\"overlay\",\"size\":10,\"solidity\":0.2},\"type\":\"scatter\"}],\"parcoords\":[{\"type\":\"parcoords\",\"line\":{\"colorbar\":{\"outlinewidth\":0,\"ticks\":\"\"}}}],\"scatterpolargl\":[{\"type\":\"scatterpolargl\",\"marker\":{\"colorbar\":{\"outlinewidth\":0,\"ticks\":\"\"}}}],\"bar\":[{\"error_x\":{\"color\":\"#2a3f5f\"},\"error_y\":{\"color\":\"#2a3f5f\"},\"marker\":{\"line\":{\"color\":\"#E5ECF6\",\"width\":0.5},\"pattern\":{\"fillmode\":\"overlay\",\"size\":10,\"solidity\":0.2}},\"type\":\"bar\"}],\"scattergeo\":[{\"type\":\"scattergeo\",\"marker\":{\"colorbar\":{\"outlinewidth\":0,\"ticks\":\"\"}}}],\"scatterpolar\":[{\"type\":\"scatterpolar\",\"marker\":{\"colorbar\":{\"outlinewidth\":0,\"ticks\":\"\"}}}],\"histogram\":[{\"marker\":{\"pattern\":{\"fillmode\":\"overlay\",\"size\":10,\"solidity\":0.2}},\"type\":\"histogram\"}],\"scattergl\":[{\"type\":\"scattergl\",\"marker\":{\"colorbar\":{\"outlinewidth\":0,\"ticks\":\"\"}}}],\"scatter3d\":[{\"type\":\"scatter3d\",\"line\":{\"colorbar\":{\"outlinewidth\":0,\"ticks\":\"\"}},\"marker\":{\"colorbar\":{\"outlinewidth\":0,\"ticks\":\"\"}}}],\"scattermapbox\":[{\"type\":\"scattermapbox\",\"marker\":{\"colorbar\":{\"outlinewidth\":0,\"ticks\":\"\"}}}],\"scatterternary\":[{\"type\":\"scatterternary\",\"marker\":{\"colorbar\":{\"outlinewidth\":0,\"ticks\":\"\"}}}],\"scattercarpet\":[{\"type\":\"scattercarpet\",\"marker\":{\"colorbar\":{\"outlinewidth\":0,\"ticks\":\"\"}}}],\"carpet\":[{\"aaxis\":{\"endlinecolor\":\"#2a3f5f\",\"gridcolor\":\"white\",\"linecolor\":\"white\",\"minorgridcolor\":\"white\",\"startlinecolor\":\"#2a3f5f\"},\"baxis\":{\"endlinecolor\":\"#2a3f5f\",\"gridcolor\":\"white\",\"linecolor\":\"white\",\"minorgridcolor\":\"white\",\"startlinecolor\":\"#2a3f5f\"},\"type\":\"carpet\"}],\"table\":[{\"cells\":{\"fill\":{\"color\":\"#EBF0F8\"},\"line\":{\"color\":\"white\"}},\"header\":{\"fill\":{\"color\":\"#C8D4E3\"},\"line\":{\"color\":\"white\"}},\"type\":\"table\"}],\"barpolar\":[{\"marker\":{\"line\":{\"color\":\"#E5ECF6\",\"width\":0.5},\"pattern\":{\"fillmode\":\"overlay\",\"size\":10,\"solidity\":0.2}},\"type\":\"barpolar\"}],\"pie\":[{\"automargin\":true,\"type\":\"pie\"}]},\"layout\":{\"autotypenumbers\":\"strict\",\"colorway\":[\"#636efa\",\"#EF553B\",\"#00cc96\",\"#ab63fa\",\"#FFA15A\",\"#19d3f3\",\"#FF6692\",\"#B6E880\",\"#FF97FF\",\"#FECB52\"],\"font\":{\"color\":\"#2a3f5f\"},\"hovermode\":\"closest\",\"hoverlabel\":{\"align\":\"left\"},\"paper_bgcolor\":\"white\",\"plot_bgcolor\":\"#E5ECF6\",\"polar\":{\"bgcolor\":\"#E5ECF6\",\"angularaxis\":{\"gridcolor\":\"white\",\"linecolor\":\"white\",\"ticks\":\"\"},\"radialaxis\":{\"gridcolor\":\"white\",\"linecolor\":\"white\",\"ticks\":\"\"}},\"ternary\":{\"bgcolor\":\"#E5ECF6\",\"aaxis\":{\"gridcolor\":\"white\",\"linecolor\":\"white\",\"ticks\":\"\"},\"baxis\":{\"gridcolor\":\"white\",\"linecolor\":\"white\",\"ticks\":\"\"},\"caxis\":{\"gridcolor\":\"white\",\"linecolor\":\"white\",\"ticks\":\"\"}},\"coloraxis\":{\"colorbar\":{\"outlinewidth\":0,\"ticks\":\"\"}},\"colorscale\":{\"sequential\":[[0.0,\"#0d0887\"],[0.1111111111111111,\"#46039f\"],[0.2222222222222222,\"#7201a8\"],[0.3333333333333333,\"#9c179e\"],[0.4444444444444444,\"#bd3786\"],[0.5555555555555556,\"#d8576b\"],[0.6666666666666666,\"#ed7953\"],[0.7777777777777778,\"#fb9f3a\"],[0.8888888888888888,\"#fdca26\"],[1.0,\"#f0f921\"]],\"sequentialminus\":[[0.0,\"#0d0887\"],[0.1111111111111111,\"#46039f\"],[0.2222222222222222,\"#7201a8\"],[0.3333333333333333,\"#9c179e\"],[0.4444444444444444,\"#bd3786\"],[0.5555555555555556,\"#d8576b\"],[0.6666666666666666,\"#ed7953\"],[0.7777777777777778,\"#fb9f3a\"],[0.8888888888888888,\"#fdca26\"],[1.0,\"#f0f921\"]],\"diverging\":[[0,\"#8e0152\"],[0.1,\"#c51b7d\"],[0.2,\"#de77ae\"],[0.3,\"#f1b6da\"],[0.4,\"#fde0ef\"],[0.5,\"#f7f7f7\"],[0.6,\"#e6f5d0\"],[0.7,\"#b8e186\"],[0.8,\"#7fbc41\"],[0.9,\"#4d9221\"],[1,\"#276419\"]]},\"xaxis\":{\"gridcolor\":\"white\",\"linecolor\":\"white\",\"ticks\":\"\",\"title\":{\"standoff\":15},\"zerolinecolor\":\"white\",\"automargin\":true,\"zerolinewidth\":2},\"yaxis\":{\"gridcolor\":\"white\",\"linecolor\":\"white\",\"ticks\":\"\",\"title\":{\"standoff\":15},\"zerolinecolor\":\"white\",\"automargin\":true,\"zerolinewidth\":2},\"scene\":{\"xaxis\":{\"backgroundcolor\":\"#E5ECF6\",\"gridcolor\":\"white\",\"linecolor\":\"white\",\"showbackground\":true,\"ticks\":\"\",\"zerolinecolor\":\"white\",\"gridwidth\":2},\"yaxis\":{\"backgroundcolor\":\"#E5ECF6\",\"gridcolor\":\"white\",\"linecolor\":\"white\",\"showbackground\":true,\"ticks\":\"\",\"zerolinecolor\":\"white\",\"gridwidth\":2},\"zaxis\":{\"backgroundcolor\":\"#E5ECF6\",\"gridcolor\":\"white\",\"linecolor\":\"white\",\"showbackground\":true,\"ticks\":\"\",\"zerolinecolor\":\"white\",\"gridwidth\":2}},\"shapedefaults\":{\"line\":{\"color\":\"#2a3f5f\"}},\"annotationdefaults\":{\"arrowcolor\":\"#2a3f5f\",\"arrowhead\":0,\"arrowwidth\":1},\"geo\":{\"bgcolor\":\"white\",\"landcolor\":\"#E5ECF6\",\"subunitcolor\":\"white\",\"showland\":true,\"showlakes\":true,\"lakecolor\":\"white\"},\"title\":{\"x\":0.05},\"mapbox\":{\"style\":\"light\"}}},\"xaxis\":{\"anchor\":\"y\",\"domain\":[0.0,1.0],\"title\":{\"text\":\"Occupation\"}},\"yaxis\":{\"anchor\":\"x\",\"domain\":[0.0,1.0],\"title\":{\"text\":\"Income\"}},\"legend\":{\"title\":{\"text\":\"Education\"},\"tracegroupgap\":0},\"margin\":{\"t\":60},\"boxmode\":\"group\"},                        {\"responsive\": true}                    ).then(function(){\n",
       "                            \n",
       "var gd = document.getElementById('e13b8dfd-4bb1-4193-9d48-6656908f7091');\n",
       "var x = new MutationObserver(function (mutations, observer) {{\n",
       "        var display = window.getComputedStyle(gd).display;\n",
       "        if (!display || display === 'none') {{\n",
       "            console.log([gd, 'removed!']);\n",
       "            Plotly.purge(gd);\n",
       "            observer.disconnect();\n",
       "        }}\n",
       "}});\n",
       "\n",
       "// Listen for the removal of the full notebook cells\n",
       "var notebookContainer = gd.closest('#notebook-container');\n",
       "if (notebookContainer) {{\n",
       "    x.observe(notebookContainer, {childList: true});\n",
       "}}\n",
       "\n",
       "// Listen for the clearing of the current output cell\n",
       "var outputEl = gd.closest('.output');\n",
       "if (outputEl) {{\n",
       "    x.observe(outputEl, {childList: true});\n",
       "}}\n",
       "\n",
       "                        })                };                });            </script>        </div>"
      ]
     },
     "metadata": {},
     "output_type": "display_data"
    }
   ],
   "source": [
    "#Dependiendo de la educación y la ocupación se infiere la ganancia de los na's de la columna income\n",
    "fig = px.box(df, y = 'Income', x = \"Occupation\", color = \"Education\")\n",
    "fig.show()"
   ]
  },
  {
   "cell_type": "code",
   "execution_count": 937,
   "id": "960b24f4",
   "metadata": {},
   "outputs": [
    {
     "data": {
      "text/html": [
       "<div>\n",
       "<style scoped>\n",
       "    .dataframe tbody tr th:only-of-type {\n",
       "        vertical-align: middle;\n",
       "    }\n",
       "\n",
       "    .dataframe tbody tr th {\n",
       "        vertical-align: top;\n",
       "    }\n",
       "\n",
       "    .dataframe thead th {\n",
       "        text-align: right;\n",
       "    }\n",
       "</style>\n",
       "<table border=\"1\" class=\"dataframe\">\n",
       "  <thead>\n",
       "    <tr style=\"text-align: right;\">\n",
       "      <th></th>\n",
       "      <th>ID</th>\n",
       "      <th>Marital Status</th>\n",
       "      <th>Gender</th>\n",
       "      <th>Income</th>\n",
       "      <th>Children</th>\n",
       "      <th>Education</th>\n",
       "      <th>Occupation</th>\n",
       "      <th>Home Owner</th>\n",
       "      <th>Cars</th>\n",
       "      <th>Commute Distance</th>\n",
       "      <th>Region</th>\n",
       "      <th>Age</th>\n",
       "      <th>Purchased Bike</th>\n",
       "    </tr>\n",
       "  </thead>\n",
       "  <tbody>\n",
       "    <tr>\n",
       "      <th>117</th>\n",
       "      <td>24065</td>\n",
       "      <td>Single</td>\n",
       "      <td>Female</td>\n",
       "      <td>20000.0</td>\n",
       "      <td>NaN</td>\n",
       "      <td>High School</td>\n",
       "      <td>Manual</td>\n",
       "      <td>Yes</td>\n",
       "      <td>0.0</td>\n",
       "      <td>0-1 Miles</td>\n",
       "      <td>Europe</td>\n",
       "      <td>40.0</td>\n",
       "      <td>Yes</td>\n",
       "    </tr>\n",
       "    <tr>\n",
       "      <th>217</th>\n",
       "      <td>13673</td>\n",
       "      <td>Single</td>\n",
       "      <td>Female</td>\n",
       "      <td>20000.0</td>\n",
       "      <td>NaN</td>\n",
       "      <td>Partial High School</td>\n",
       "      <td>Manual</td>\n",
       "      <td>No</td>\n",
       "      <td>2.0</td>\n",
       "      <td>0-1 Miles</td>\n",
       "      <td>Europe</td>\n",
       "      <td>25.0</td>\n",
       "      <td>No</td>\n",
       "    </tr>\n",
       "    <tr>\n",
       "      <th>386</th>\n",
       "      <td>28957</td>\n",
       "      <td>Single</td>\n",
       "      <td>Female</td>\n",
       "      <td>120000.0</td>\n",
       "      <td>NaN</td>\n",
       "      <td>Partial High School</td>\n",
       "      <td>Professional</td>\n",
       "      <td>Yes</td>\n",
       "      <td>4.0</td>\n",
       "      <td>10+ Miles</td>\n",
       "      <td>Pacific</td>\n",
       "      <td>34.0</td>\n",
       "      <td>Yes</td>\n",
       "    </tr>\n",
       "    <tr>\n",
       "      <th>549</th>\n",
       "      <td>13453</td>\n",
       "      <td>Married</td>\n",
       "      <td>Female</td>\n",
       "      <td>130000.0</td>\n",
       "      <td>NaN</td>\n",
       "      <td>Bachelors</td>\n",
       "      <td>Management</td>\n",
       "      <td>Yes</td>\n",
       "      <td>3.0</td>\n",
       "      <td>0-1 Miles</td>\n",
       "      <td>North America</td>\n",
       "      <td>45.0</td>\n",
       "      <td>Yes</td>\n",
       "    </tr>\n",
       "    <tr>\n",
       "      <th>638</th>\n",
       "      <td>18949</td>\n",
       "      <td>Single</td>\n",
       "      <td>Male</td>\n",
       "      <td>70000.0</td>\n",
       "      <td>NaN</td>\n",
       "      <td>Graduate Degree</td>\n",
       "      <td>Management</td>\n",
       "      <td>Yes</td>\n",
       "      <td>2.0</td>\n",
       "      <td>5-10 Miles</td>\n",
       "      <td>North America</td>\n",
       "      <td>74.0</td>\n",
       "      <td>Yes</td>\n",
       "    </tr>\n",
       "    <tr>\n",
       "      <th>805</th>\n",
       "      <td>26778</td>\n",
       "      <td>Single</td>\n",
       "      <td>Female</td>\n",
       "      <td>40000.0</td>\n",
       "      <td>NaN</td>\n",
       "      <td>High School</td>\n",
       "      <td>Skilled Manual</td>\n",
       "      <td>Yes</td>\n",
       "      <td>2.0</td>\n",
       "      <td>5-10 Miles</td>\n",
       "      <td>North America</td>\n",
       "      <td>31.0</td>\n",
       "      <td>No</td>\n",
       "    </tr>\n",
       "    <tr>\n",
       "      <th>960</th>\n",
       "      <td>23491</td>\n",
       "      <td>Single</td>\n",
       "      <td>Male</td>\n",
       "      <td>100000.0</td>\n",
       "      <td>NaN</td>\n",
       "      <td>Partial College</td>\n",
       "      <td>Professional</td>\n",
       "      <td>No</td>\n",
       "      <td>4.0</td>\n",
       "      <td>1-2 Miles</td>\n",
       "      <td>North America</td>\n",
       "      <td>45.0</td>\n",
       "      <td>No</td>\n",
       "    </tr>\n",
       "  </tbody>\n",
       "</table>\n",
       "</div>"
      ],
      "text/plain": [
       "        ID Marital Status  Gender    Income  Children            Education  \\\n",
       "117  24065         Single  Female   20000.0       NaN          High School   \n",
       "217  13673         Single  Female   20000.0       NaN  Partial High School   \n",
       "386  28957         Single  Female  120000.0       NaN  Partial High School   \n",
       "549  13453        Married  Female  130000.0       NaN            Bachelors   \n",
       "638  18949         Single    Male   70000.0       NaN      Graduate Degree   \n",
       "805  26778         Single  Female   40000.0       NaN          High School   \n",
       "960  23491         Single    Male  100000.0       NaN      Partial College   \n",
       "\n",
       "         Occupation Home Owner  Cars Commute Distance         Region   Age  \\\n",
       "117          Manual        Yes   0.0        0-1 Miles         Europe  40.0   \n",
       "217          Manual         No   2.0        0-1 Miles         Europe  25.0   \n",
       "386    Professional        Yes   4.0        10+ Miles        Pacific  34.0   \n",
       "549      Management        Yes   3.0        0-1 Miles  North America  45.0   \n",
       "638      Management        Yes   2.0       5-10 Miles  North America  74.0   \n",
       "805  Skilled Manual        Yes   2.0       5-10 Miles  North America  31.0   \n",
       "960    Professional         No   4.0        1-2 Miles  North America  45.0   \n",
       "\n",
       "    Purchased Bike  \n",
       "117            Yes  \n",
       "217             No  \n",
       "386            Yes  \n",
       "549            Yes  \n",
       "638            Yes  \n",
       "805             No  \n",
       "960             No  "
      ]
     },
     "execution_count": 937,
     "metadata": {},
     "output_type": "execute_result"
    }
   ],
   "source": [
    "#Se verifican que datos contienen los na's de la columna children\n",
    "na_values_children = df[df['Children'].isna()]\n",
    "na_values_children"
   ]
  },
  {
   "cell_type": "code",
   "execution_count": 938,
   "id": "76d69529",
   "metadata": {},
   "outputs": [],
   "source": [
    "# Haciendo uso del gráfico de Marital Status, definimos la cantidad de hijos"
   ]
  },
  {
   "cell_type": "code",
   "execution_count": 939,
   "id": "38cd1ed6",
   "metadata": {},
   "outputs": [
    {
     "data": {
      "text/html": [
       "<div>\n",
       "<style scoped>\n",
       "    .dataframe tbody tr th:only-of-type {\n",
       "        vertical-align: middle;\n",
       "    }\n",
       "\n",
       "    .dataframe tbody tr th {\n",
       "        vertical-align: top;\n",
       "    }\n",
       "\n",
       "    .dataframe thead th {\n",
       "        text-align: right;\n",
       "    }\n",
       "</style>\n",
       "<table border=\"1\" class=\"dataframe\">\n",
       "  <thead>\n",
       "    <tr style=\"text-align: right;\">\n",
       "      <th></th>\n",
       "      <th>ID</th>\n",
       "      <th>Marital Status</th>\n",
       "      <th>Gender</th>\n",
       "      <th>Income</th>\n",
       "      <th>Children</th>\n",
       "      <th>Education</th>\n",
       "      <th>Occupation</th>\n",
       "      <th>Home Owner</th>\n",
       "      <th>Cars</th>\n",
       "      <th>Commute Distance</th>\n",
       "      <th>Region</th>\n",
       "      <th>Age</th>\n",
       "      <th>Purchased Bike</th>\n",
       "    </tr>\n",
       "  </thead>\n",
       "  <tbody>\n",
       "    <tr>\n",
       "      <th>6</th>\n",
       "      <td>27974</td>\n",
       "      <td>Single</td>\n",
       "      <td>Male</td>\n",
       "      <td>160000.0</td>\n",
       "      <td>2.0</td>\n",
       "      <td>High School</td>\n",
       "      <td>Management</td>\n",
       "      <td>NaN</td>\n",
       "      <td>4.0</td>\n",
       "      <td>0-1 Miles</td>\n",
       "      <td>Pacific</td>\n",
       "      <td>33.0</td>\n",
       "      <td>Yes</td>\n",
       "    </tr>\n",
       "    <tr>\n",
       "      <th>365</th>\n",
       "      <td>22636</td>\n",
       "      <td>Single</td>\n",
       "      <td>Female</td>\n",
       "      <td>40000.0</td>\n",
       "      <td>0.0</td>\n",
       "      <td>Bachelors</td>\n",
       "      <td>Clerical</td>\n",
       "      <td>NaN</td>\n",
       "      <td>0.0</td>\n",
       "      <td>0-1 Miles</td>\n",
       "      <td>Europe</td>\n",
       "      <td>38.0</td>\n",
       "      <td>Yes</td>\n",
       "    </tr>\n",
       "    <tr>\n",
       "      <th>646</th>\n",
       "      <td>16247</td>\n",
       "      <td>Single</td>\n",
       "      <td>Female</td>\n",
       "      <td>60000.0</td>\n",
       "      <td>4.0</td>\n",
       "      <td>Graduate Degree</td>\n",
       "      <td>Skilled Manual</td>\n",
       "      <td>NaN</td>\n",
       "      <td>0.0</td>\n",
       "      <td>1-2 Miles</td>\n",
       "      <td>North America</td>\n",
       "      <td>47.0</td>\n",
       "      <td>No</td>\n",
       "    </tr>\n",
       "    <tr>\n",
       "      <th>943</th>\n",
       "      <td>24322</td>\n",
       "      <td>Married</td>\n",
       "      <td>Female</td>\n",
       "      <td>60000.0</td>\n",
       "      <td>4.0</td>\n",
       "      <td>Bachelors</td>\n",
       "      <td>Skilled Manual</td>\n",
       "      <td>NaN</td>\n",
       "      <td>2.0</td>\n",
       "      <td>0-1 Miles</td>\n",
       "      <td>North America</td>\n",
       "      <td>42.0</td>\n",
       "      <td>No</td>\n",
       "    </tr>\n",
       "  </tbody>\n",
       "</table>\n",
       "</div>"
      ],
      "text/plain": [
       "        ID Marital Status  Gender    Income  Children        Education  \\\n",
       "6    27974         Single    Male  160000.0       2.0      High School   \n",
       "365  22636         Single  Female   40000.0       0.0        Bachelors   \n",
       "646  16247         Single  Female   60000.0       4.0  Graduate Degree   \n",
       "943  24322        Married  Female   60000.0       4.0        Bachelors   \n",
       "\n",
       "         Occupation Home Owner  Cars Commute Distance         Region   Age  \\\n",
       "6        Management        NaN   4.0        0-1 Miles        Pacific  33.0   \n",
       "365        Clerical        NaN   0.0        0-1 Miles         Europe  38.0   \n",
       "646  Skilled Manual        NaN   0.0        1-2 Miles  North America  47.0   \n",
       "943  Skilled Manual        NaN   2.0        0-1 Miles  North America  42.0   \n",
       "\n",
       "    Purchased Bike  \n",
       "6              Yes  \n",
       "365            Yes  \n",
       "646             No  \n",
       "943             No  "
      ]
     },
     "execution_count": 939,
     "metadata": {},
     "output_type": "execute_result"
    }
   ],
   "source": [
    "na_values_homeOwner = df[df['Home Owner'].isna()]\n",
    "na_values_homeOwner"
   ]
  },
  {
   "cell_type": "code",
   "execution_count": 940,
   "id": "89c21b8e",
   "metadata": {},
   "outputs": [
    {
     "data": {
      "application/vnd.plotly.v1+json": {
       "config": {
        "plotlyServerURL": "https://plot.ly"
       },
       "data": [
        {
         "alignmentgroup": "True",
         "hovertemplate": "Marital Status=Married<br>Home Owner=%{x}<br>Children=%{y}<extra></extra>",
         "legendgroup": "Married",
         "marker": {
          "color": "#636efa"
         },
         "name": "Married",
         "notched": false,
         "offsetgroup": "Married",
         "orientation": "v",
         "showlegend": true,
         "type": "box",
         "x": [
          "Yes",
          "Yes",
          "No",
          "Yes",
          "Yes",
          "Yes",
          "No",
          "Yes",
          "Yes",
          "Yes",
          "Yes",
          "No",
          "Yes",
          "Yes",
          "No",
          "Yes",
          "Yes",
          "No",
          "Yes",
          "Yes",
          "Yes",
          "No",
          "Yes",
          "Yes",
          "Yes",
          "No",
          "Yes",
          "Yes",
          "Yes",
          "Yes",
          "Yes",
          "No",
          "Yes",
          "Yes",
          "No",
          "Yes",
          "No",
          "Yes",
          "Yes",
          "Yes",
          "No",
          "Yes",
          "Yes",
          "Yes",
          "Yes",
          "Yes",
          "Yes",
          "Yes",
          "Yes",
          "Yes",
          "Yes",
          "Yes",
          "Yes",
          "Yes",
          "Yes",
          "Yes",
          "Yes",
          "Yes",
          "Yes",
          "Yes",
          "Yes",
          "No",
          "Yes",
          "No",
          "Yes",
          "Yes",
          "Yes",
          "Yes",
          "Yes",
          "Yes",
          "No",
          "Yes",
          "Yes",
          "Yes",
          "No",
          "Yes",
          "No",
          "Yes",
          "No",
          "No",
          "No",
          "Yes",
          "No",
          "Yes",
          "Yes",
          "Yes",
          "Yes",
          "Yes",
          "Yes",
          "Yes",
          "Yes",
          "Yes",
          "Yes",
          "Yes",
          "Yes",
          "No",
          "No",
          "Yes",
          "Yes",
          "Yes",
          "Yes",
          "Yes",
          "Yes",
          "Yes",
          "Yes",
          "No",
          "Yes",
          "Yes",
          "No",
          "Yes",
          "Yes",
          "Yes",
          "No",
          "No",
          "Yes",
          "Yes",
          "Yes",
          "Yes",
          "Yes",
          "Yes",
          "Yes",
          "Yes",
          "Yes",
          "No",
          "Yes",
          "Yes",
          "Yes",
          "Yes",
          "No",
          "Yes",
          "Yes",
          "Yes",
          "No",
          "Yes",
          "Yes",
          "No",
          "No",
          "Yes",
          "Yes",
          "Yes",
          "Yes",
          "Yes",
          "Yes",
          "Yes",
          "Yes",
          "Yes",
          "No",
          "Yes",
          "Yes",
          "No",
          "Yes",
          "Yes",
          "Yes",
          "No",
          "Yes",
          "Yes",
          "No",
          "Yes",
          "Yes",
          "Yes",
          "Yes",
          "Yes",
          "No",
          "Yes",
          "Yes",
          "Yes",
          "Yes",
          "Yes",
          "Yes",
          "Yes",
          "Yes",
          "Yes",
          "Yes",
          "Yes",
          "Yes",
          "Yes",
          "No",
          "No",
          "Yes",
          "Yes",
          "Yes",
          "Yes",
          "Yes",
          "Yes",
          "Yes",
          "Yes",
          "Yes",
          "Yes",
          "Yes",
          "Yes",
          "Yes",
          "Yes",
          "Yes",
          "Yes",
          "Yes",
          "Yes",
          "Yes",
          "Yes",
          "Yes",
          "Yes",
          "Yes",
          "Yes",
          "Yes",
          "Yes",
          "Yes",
          "Yes",
          "Yes",
          "Yes",
          "Yes",
          "Yes",
          "Yes",
          "Yes",
          "Yes",
          "Yes",
          "Yes",
          "Yes",
          "No",
          "No",
          "Yes",
          "Yes",
          "Yes",
          "Yes",
          "Yes",
          "Yes",
          "Yes",
          "Yes",
          "No",
          "No",
          "No",
          "Yes",
          "Yes",
          "Yes",
          "Yes",
          "Yes",
          "Yes",
          "Yes",
          "Yes",
          "Yes",
          "Yes",
          "Yes",
          "Yes",
          "Yes",
          "Yes",
          "Yes",
          "Yes",
          "Yes",
          "Yes",
          "Yes",
          "Yes",
          "No",
          "Yes",
          "Yes",
          "Yes",
          "Yes",
          "Yes",
          "Yes",
          "No",
          "Yes",
          "Yes",
          "Yes",
          "Yes",
          "Yes",
          "Yes",
          "Yes",
          "Yes",
          "Yes",
          "Yes",
          "Yes",
          "Yes",
          "Yes",
          "Yes",
          "Yes",
          "Yes",
          "No",
          "Yes",
          "Yes",
          "Yes",
          "Yes",
          "Yes",
          "No",
          "Yes",
          "No",
          "Yes",
          "Yes",
          "Yes",
          "Yes",
          "Yes",
          "Yes",
          "Yes",
          "Yes",
          "Yes",
          "Yes",
          "Yes",
          "Yes",
          "No",
          "Yes",
          "Yes",
          "No",
          "No",
          "Yes",
          "Yes",
          "Yes",
          "Yes",
          "No",
          "Yes",
          "Yes",
          "Yes",
          "No",
          "Yes",
          "Yes",
          "Yes",
          "Yes",
          "Yes",
          "Yes",
          "Yes",
          "Yes",
          "Yes",
          "Yes",
          "Yes",
          "Yes",
          "No",
          "Yes",
          "No",
          "Yes",
          "Yes",
          "Yes",
          "Yes",
          "Yes",
          "Yes",
          "No",
          "Yes",
          "No",
          "Yes",
          "Yes",
          "Yes",
          "Yes",
          "Yes",
          "Yes",
          "No",
          "Yes",
          "Yes",
          "Yes",
          "Yes",
          "Yes",
          "Yes",
          "No",
          "No",
          "Yes",
          "No",
          "No",
          "Yes",
          "Yes",
          "Yes",
          "Yes",
          "Yes",
          "No",
          "Yes",
          "Yes",
          "Yes",
          "Yes",
          "Yes",
          "Yes",
          "Yes",
          "Yes",
          "No",
          "Yes",
          "Yes",
          "Yes",
          "Yes",
          "Yes",
          "Yes",
          "No",
          "Yes",
          "Yes",
          "Yes",
          "No",
          "Yes",
          "No",
          "Yes",
          "No",
          "Yes",
          "Yes",
          "Yes",
          "Yes",
          "Yes",
          "Yes",
          "Yes",
          "Yes",
          "Yes",
          "Yes",
          "Yes",
          "No",
          "No",
          "Yes",
          "Yes",
          "No",
          "Yes",
          "Yes",
          "No",
          "Yes",
          "No",
          "No",
          "Yes",
          "Yes",
          "Yes",
          "Yes",
          "No",
          "Yes",
          "Yes",
          "Yes",
          "Yes",
          "No",
          "Yes",
          "Yes",
          "Yes",
          "Yes",
          "Yes",
          "Yes",
          "Yes",
          "No",
          "Yes",
          "Yes",
          "No",
          "Yes",
          "No",
          "Yes",
          "Yes",
          "Yes",
          "Yes",
          "Yes",
          "No",
          "Yes",
          "No",
          "Yes",
          "Yes",
          "Yes",
          "Yes",
          "Yes",
          "Yes",
          "Yes",
          "Yes",
          "No",
          "No",
          "Yes",
          "Yes",
          "Yes",
          "No",
          "Yes",
          "No",
          "Yes",
          "Yes",
          "Yes",
          "Yes",
          "Yes",
          "Yes",
          "Yes",
          "Yes",
          "Yes",
          "Yes",
          "Yes",
          "Yes",
          "Yes",
          "Yes",
          "Yes",
          "Yes",
          "Yes",
          "Yes",
          "Yes",
          "Yes",
          "Yes",
          "Yes",
          "Yes",
          "No",
          "Yes",
          "Yes",
          "Yes",
          "Yes",
          "Yes",
          "Yes",
          "Yes",
          "Yes",
          "Yes",
          "Yes",
          "Yes",
          "Yes",
          "No",
          "Yes",
          "Yes",
          "Yes",
          "No",
          "Yes",
          "Yes",
          "Yes",
          "Yes",
          "Yes",
          "Yes",
          "Yes",
          "Yes",
          null,
          "Yes",
          "Yes",
          "Yes",
          "No",
          "Yes",
          "Yes",
          "Yes",
          "Yes",
          "Yes",
          "Yes",
          "Yes",
          "Yes",
          "Yes",
          "Yes",
          "Yes",
          "No",
          "Yes",
          "Yes",
          "Yes",
          "Yes",
          "Yes",
          "Yes",
          "Yes",
          "Yes",
          "No",
          "Yes",
          "No",
          "No",
          "Yes",
          "Yes"
         ],
         "x0": " ",
         "xaxis": "x",
         "y": [
          1,
          3,
          5,
          2,
          1,
          2,
          3,
          5,
          2,
          1,
          0,
          5,
          5,
          2,
          0,
          2,
          1,
          4,
          3,
          1,
          1,
          2,
          1,
          4,
          0,
          4,
          1,
          2,
          2,
          1,
          0,
          0,
          0,
          3,
          3,
          0,
          2,
          4,
          0,
          5,
          1,
          1,
          1,
          3,
          2,
          2,
          0,
          0,
          1,
          5,
          2,
          2,
          5,
          1,
          2,
          4,
          0,
          2,
          2,
          1,
          0,
          2,
          0,
          0,
          4,
          1,
          5,
          1,
          2,
          0,
          0,
          1,
          4,
          5,
          0,
          0,
          4,
          0,
          3,
          2,
          4,
          1,
          3,
          0,
          1,
          3,
          5,
          2,
          1,
          3,
          4,
          0,
          1,
          2,
          1,
          3,
          2,
          1,
          3,
          1,
          4,
          0,
          4,
          0,
          1,
          0,
          5,
          1,
          3,
          5,
          3,
          0,
          5,
          5,
          4,
          3,
          1,
          0,
          1,
          2,
          0,
          5,
          4,
          0,
          1,
          2,
          2,
          0,
          5,
          1,
          0,
          3,
          0,
          1,
          1,
          4,
          2,
          1,
          4,
          2,
          2,
          2,
          2,
          4,
          1,
          4,
          5,
          2,
          0,
          4,
          3,
          0,
          4,
          0,
          1,
          5,
          0,
          3,
          2,
          0,
          1,
          1,
          1,
          2,
          4,
          3,
          4,
          0,
          1,
          2,
          1,
          3,
          4,
          1,
          1,
          1,
          3,
          3,
          3,
          2,
          4,
          0,
          1,
          0,
          0,
          0,
          1,
          2,
          1,
          1,
          1,
          3,
          0,
          1,
          3,
          2,
          5,
          0,
          5,
          1,
          2,
          2,
          2,
          4,
          0,
          3,
          2,
          5,
          2,
          1,
          1,
          0,
          1,
          3,
          1,
          1,
          2,
          4,
          1,
          0,
          1,
          0,
          2,
          5,
          1,
          0,
          2,
          4,
          2,
          0,
          1,
          1,
          1,
          4,
          0,
          0,
          4,
          2,
          4,
          2,
          1,
          5,
          0,
          0,
          1,
          2,
          4,
          4,
          1,
          0,
          3,
          1,
          5,
          2,
          0,
          5,
          3,
          1,
          1,
          2,
          0,
          3,
          4,
          3,
          1,
          4,
          1,
          0,
          2,
          4,
          2,
          null,
          4,
          3,
          2,
          4,
          3,
          3,
          0,
          2,
          2,
          3,
          2,
          1,
          1,
          3,
          2,
          3,
          1,
          4,
          3,
          0,
          4,
          3,
          2,
          0,
          2,
          1,
          4,
          4,
          4,
          1,
          2,
          2,
          1,
          0,
          3,
          0,
          1,
          0,
          3,
          4,
          4,
          4,
          5,
          4,
          3,
          0,
          3,
          1,
          0,
          1,
          3,
          2,
          2,
          4,
          3,
          3,
          5,
          5,
          3,
          2,
          1,
          1,
          5,
          0,
          1,
          1,
          5,
          0,
          2,
          2,
          2,
          3,
          2,
          4,
          5,
          4,
          0,
          3,
          5,
          1,
          0,
          1,
          1,
          0,
          2,
          4,
          1,
          4,
          1,
          5,
          0,
          2,
          2,
          0,
          1,
          4,
          5,
          2,
          2,
          2,
          1,
          0,
          3,
          2,
          0,
          2,
          2,
          4,
          1,
          1,
          4,
          4,
          2,
          2,
          2,
          2,
          1,
          0,
          4,
          3,
          1,
          5,
          1,
          0,
          4,
          2,
          1,
          4,
          1,
          1,
          1,
          3,
          2,
          5,
          3,
          2,
          4,
          4,
          1,
          2,
          0,
          1,
          2,
          5,
          4,
          0,
          0,
          0,
          2,
          4,
          0,
          2,
          0,
          3,
          3,
          0,
          0,
          0,
          3,
          4,
          2,
          4,
          0,
          0,
          1,
          4,
          2,
          1,
          5,
          4,
          5,
          0,
          0,
          1,
          0,
          2,
          2,
          0,
          2,
          1,
          2,
          3,
          1,
          5,
          2,
          4,
          2,
          4,
          0,
          1,
          4,
          2,
          3,
          0,
          1,
          2,
          1,
          3,
          4,
          1,
          0,
          5,
          4,
          1,
          4,
          0,
          4,
          5,
          3,
          3,
          0,
          4,
          2,
          3,
          0,
          2,
          2,
          5,
          1,
          2,
          1,
          4,
          4,
          0,
          1,
          3,
          4,
          1,
          5,
          2,
          4,
          1,
          4,
          4,
          0,
          5,
          1,
          2,
          2,
          5,
          0,
          3,
          0,
          0,
          1,
          3,
          3,
          3,
          5,
          5,
          2,
          2,
          5,
          4,
          2,
          5,
          2
         ],
         "y0": " ",
         "yaxis": "y"
        },
        {
         "alignmentgroup": "True",
         "hovertemplate": "Marital Status=Single<br>Home Owner=%{x}<br>Children=%{y}<extra></extra>",
         "legendgroup": "Single",
         "marker": {
          "color": "#EF553B"
         },
         "name": "Single",
         "notched": false,
         "offsetgroup": "Single",
         "orientation": "v",
         "showlegend": true,
         "type": "box",
         "x": [
          "No",
          null,
          "No",
          "No",
          "Yes",
          "No",
          "Yes",
          "Yes",
          "Yes",
          "Yes",
          "No",
          "Yes",
          "No",
          "No",
          "No",
          "No",
          "No",
          "No",
          "No",
          "No",
          "Yes",
          "No",
          "Yes",
          "Yes",
          "No",
          "No",
          "No",
          "No",
          "No",
          "Yes",
          "Yes",
          "Yes",
          "Yes",
          "Yes",
          "No",
          "No",
          "Yes",
          "No",
          "Yes",
          "Yes",
          "No",
          "No",
          "Yes",
          "No",
          "No",
          "No",
          "No",
          "Yes",
          "No",
          "Yes",
          "Yes",
          "Yes",
          "No",
          "Yes",
          "Yes",
          "No",
          "No",
          "No",
          "No",
          "No",
          "Yes",
          "No",
          "No",
          "Yes",
          "No",
          "No",
          "No",
          "No",
          "Yes",
          "Yes",
          "Yes",
          "Yes",
          "Yes",
          "No",
          "Yes",
          "No",
          "No",
          "No",
          "Yes",
          "No",
          "No",
          "No",
          "Yes",
          "No",
          "No",
          "Yes",
          "No",
          "No",
          "Yes",
          "Yes",
          "No",
          "Yes",
          "Yes",
          "Yes",
          "No",
          "Yes",
          "Yes",
          "No",
          "Yes",
          "Yes",
          "No",
          "Yes",
          "Yes",
          "No",
          "No",
          "No",
          "Yes",
          "Yes",
          "No",
          "No",
          "Yes",
          "Yes",
          "Yes",
          "No",
          "No",
          "No",
          "No",
          "Yes",
          "Yes",
          "No",
          "Yes",
          "Yes",
          "Yes",
          "Yes",
          "No",
          "Yes",
          "No",
          "No",
          "Yes",
          "No",
          "Yes",
          "Yes",
          "Yes",
          "Yes",
          "Yes",
          "Yes",
          "Yes",
          "Yes",
          "Yes",
          "No",
          "Yes",
          "No",
          "No",
          "No",
          "Yes",
          "No",
          "No",
          "Yes",
          "Yes",
          "No",
          "No",
          "No",
          "No",
          "Yes",
          "No",
          "No",
          "Yes",
          "Yes",
          "No",
          "No",
          "No",
          "Yes",
          "No",
          "No",
          "Yes",
          "Yes",
          "No",
          "No",
          "Yes",
          "Yes",
          "No",
          "Yes",
          "No",
          "No",
          "No",
          "No",
          "No",
          "Yes",
          "No",
          "No",
          "Yes",
          "Yes",
          "Yes",
          "No",
          "Yes",
          null,
          "No",
          "No",
          "Yes",
          "No",
          "Yes",
          "No",
          "No",
          "Yes",
          "Yes",
          "No",
          "No",
          "No",
          "No",
          "Yes",
          "Yes",
          "No",
          "Yes",
          "No",
          "Yes",
          "Yes",
          "No",
          "No",
          "No",
          "Yes",
          "No",
          "Yes",
          "Yes",
          "No",
          "Yes",
          "Yes",
          "Yes",
          "Yes",
          "No",
          "No",
          "Yes",
          "No",
          "No",
          "Yes",
          "No",
          "Yes",
          "Yes",
          "No",
          "No",
          "No",
          "Yes",
          "Yes",
          "Yes",
          "Yes",
          "No",
          "No",
          "No",
          "Yes",
          "Yes",
          "Yes",
          "No",
          "No",
          "Yes",
          "Yes",
          "Yes",
          "Yes",
          "Yes",
          "Yes",
          "No",
          "No",
          "Yes",
          "Yes",
          "No",
          "No",
          "No",
          "Yes",
          "No",
          "Yes",
          "Yes",
          "Yes",
          "Yes",
          "No",
          "Yes",
          "No",
          "Yes",
          "No",
          "No",
          "No",
          "No",
          "Yes",
          "No",
          "Yes",
          "Yes",
          "Yes",
          "Yes",
          "Yes",
          "Yes",
          "Yes",
          "Yes",
          "No",
          "No",
          "No",
          "Yes",
          "Yes",
          "Yes",
          "Yes",
          "No",
          "Yes",
          "Yes",
          "Yes",
          "Yes",
          "Yes",
          "Yes",
          "No",
          "Yes",
          "No",
          "Yes",
          "No",
          "No",
          "Yes",
          "Yes",
          "No",
          "Yes",
          "No",
          "Yes",
          "Yes",
          null,
          "Yes",
          "No",
          "No",
          "Yes",
          "No",
          "No",
          "No",
          "Yes",
          "Yes",
          "No",
          "No",
          "Yes",
          "Yes",
          "Yes",
          "No",
          "No",
          "Yes",
          "Yes",
          "No",
          "No",
          "No",
          "No",
          "No",
          "Yes",
          "Yes",
          "Yes",
          "No",
          "Yes",
          "Yes",
          "No",
          "Yes",
          "No",
          "Yes",
          "No",
          "Yes",
          "Yes",
          "Yes",
          "No",
          "No",
          "Yes",
          "No",
          "Yes",
          "No",
          "No",
          "Yes",
          "No",
          "Yes",
          "No",
          "Yes",
          "Yes",
          "Yes",
          "No",
          "Yes",
          "Yes",
          "Yes",
          "No",
          "No",
          "Yes",
          "No",
          "No",
          "Yes",
          "Yes",
          "No",
          "Yes",
          "Yes",
          "Yes",
          "No",
          "Yes",
          "Yes",
          "Yes",
          "Yes",
          "Yes",
          "Yes",
          "Yes",
          "No",
          "Yes",
          "Yes",
          "No",
          "No",
          "No",
          "Yes",
          "Yes",
          "Yes",
          "No",
          "Yes",
          "Yes",
          "No",
          "No",
          "No",
          "Yes",
          "No",
          "Yes",
          "Yes",
          "No",
          "Yes",
          "No",
          "Yes",
          "No",
          "Yes",
          "Yes",
          "No",
          "No",
          "Yes",
          "Yes",
          "Yes",
          "Yes",
          "Yes",
          "Yes",
          "No",
          "Yes",
          "Yes",
          "No",
          "No",
          "Yes",
          "Yes",
          "No",
          "Yes",
          "Yes",
          "Yes",
          "No",
          "Yes",
          "No",
          "Yes",
          "No",
          "No",
          "No",
          "Yes",
          "Yes",
          "No",
          "Yes",
          "No",
          "No",
          "No",
          "Yes",
          "Yes",
          "Yes",
          "No",
          "Yes",
          "Yes",
          "Yes",
          "No",
          "Yes",
          "No",
          "Yes",
          "No",
          "Yes"
         ],
         "x0": " ",
         "xaxis": "x",
         "y": [
          0,
          2,
          0,
          1,
          2,
          3,
          2,
          2,
          0,
          2,
          2,
          1,
          0,
          0,
          0,
          2,
          5,
          5,
          0,
          0,
          4,
          2,
          2,
          2,
          0,
          0,
          4,
          0,
          1,
          2,
          4,
          2,
          0,
          4,
          0,
          0,
          4,
          0,
          2,
          4,
          0,
          2,
          0,
          3,
          0,
          0,
          0,
          2,
          0,
          3,
          5,
          2,
          3,
          1,
          2,
          0,
          2,
          0,
          1,
          0,
          2,
          1,
          0,
          null,
          0,
          0,
          3,
          0,
          0,
          2,
          3,
          2,
          2,
          1,
          2,
          2,
          0,
          0,
          1,
          0,
          1,
          0,
          4,
          2,
          2,
          1,
          2,
          2,
          1,
          0,
          0,
          0,
          2,
          0,
          2,
          1,
          2,
          5,
          2,
          5,
          0,
          0,
          0,
          0,
          0,
          0,
          2,
          1,
          3,
          5,
          0,
          0,
          3,
          0,
          0,
          4,
          null,
          1,
          0,
          0,
          5,
          3,
          5,
          5,
          0,
          3,
          1,
          0,
          0,
          0,
          2,
          3,
          0,
          3,
          2,
          5,
          2,
          5,
          5,
          0,
          2,
          0,
          0,
          1,
          3,
          1,
          0,
          1,
          1,
          3,
          1,
          1,
          0,
          0,
          2,
          5,
          1,
          2,
          3,
          0,
          0,
          4,
          0,
          2,
          2,
          0,
          0,
          0,
          3,
          0,
          0,
          0,
          0,
          0,
          1,
          0,
          0,
          3,
          0,
          1,
          0,
          0,
          0,
          3,
          2,
          0,
          2,
          2,
          5,
          0,
          5,
          0,
          0,
          3,
          null,
          0,
          0,
          0,
          1,
          2,
          1,
          2,
          3,
          2,
          2,
          2,
          2,
          2,
          2,
          2,
          0,
          0,
          3,
          0,
          1,
          0,
          3,
          0,
          3,
          2,
          3,
          0,
          0,
          4,
          0,
          2,
          5,
          0,
          3,
          0,
          0,
          2,
          3,
          3,
          1,
          0,
          0,
          0,
          0,
          2,
          0,
          0,
          2,
          0,
          3,
          5,
          3,
          1,
          0,
          0,
          4,
          4,
          0,
          3,
          1,
          4,
          3,
          4,
          5,
          0,
          0,
          1,
          3,
          0,
          3,
          2,
          0,
          4,
          0,
          3,
          0,
          2,
          0,
          0,
          3,
          0,
          0,
          2,
          0,
          3,
          2,
          2,
          2,
          5,
          2,
          3,
          2,
          2,
          3,
          2,
          5,
          0,
          1,
          4,
          4,
          3,
          0,
          0,
          3,
          5,
          4,
          2,
          4,
          0,
          null,
          0,
          4,
          0,
          2,
          0,
          5,
          0,
          0,
          0,
          2,
          4,
          0,
          1,
          1,
          0,
          4,
          4,
          4,
          3,
          0,
          1,
          4,
          3,
          0,
          0,
          0,
          0,
          0,
          0,
          2,
          2,
          0,
          4,
          5,
          4,
          3,
          2,
          4,
          0,
          1,
          1,
          0,
          2,
          0,
          1,
          0,
          1,
          5,
          3,
          3,
          2,
          0,
          4,
          2,
          0,
          4,
          2,
          0,
          2,
          2,
          2,
          1,
          2,
          0,
          0,
          1,
          4,
          null,
          0,
          2,
          3,
          4,
          4,
          0,
          1,
          4,
          2,
          3,
          0,
          1,
          0,
          2,
          3,
          3,
          3,
          2,
          3,
          0,
          0,
          2,
          2,
          1,
          0,
          0,
          0,
          0,
          0,
          0,
          5,
          3,
          3,
          2,
          0,
          4,
          1,
          4,
          5,
          4,
          3,
          4,
          2,
          4,
          2,
          5,
          3,
          3,
          3,
          3,
          2,
          0,
          2,
          0,
          0,
          2,
          1,
          2,
          4,
          0,
          1,
          3,
          null,
          4,
          3,
          0,
          2,
          4,
          0,
          3,
          2,
          4,
          5,
          3,
          0,
          1,
          1,
          4,
          3,
          3
         ],
         "y0": " ",
         "yaxis": "y"
        }
       ],
       "layout": {
        "boxmode": "group",
        "legend": {
         "title": {
          "text": "Marital Status"
         },
         "tracegroupgap": 0
        },
        "margin": {
         "t": 60
        },
        "template": {
         "data": {
          "bar": [
           {
            "error_x": {
             "color": "#2a3f5f"
            },
            "error_y": {
             "color": "#2a3f5f"
            },
            "marker": {
             "line": {
              "color": "#E5ECF6",
              "width": 0.5
             },
             "pattern": {
              "fillmode": "overlay",
              "size": 10,
              "solidity": 0.2
             }
            },
            "type": "bar"
           }
          ],
          "barpolar": [
           {
            "marker": {
             "line": {
              "color": "#E5ECF6",
              "width": 0.5
             },
             "pattern": {
              "fillmode": "overlay",
              "size": 10,
              "solidity": 0.2
             }
            },
            "type": "barpolar"
           }
          ],
          "carpet": [
           {
            "aaxis": {
             "endlinecolor": "#2a3f5f",
             "gridcolor": "white",
             "linecolor": "white",
             "minorgridcolor": "white",
             "startlinecolor": "#2a3f5f"
            },
            "baxis": {
             "endlinecolor": "#2a3f5f",
             "gridcolor": "white",
             "linecolor": "white",
             "minorgridcolor": "white",
             "startlinecolor": "#2a3f5f"
            },
            "type": "carpet"
           }
          ],
          "choropleth": [
           {
            "colorbar": {
             "outlinewidth": 0,
             "ticks": ""
            },
            "type": "choropleth"
           }
          ],
          "contour": [
           {
            "colorbar": {
             "outlinewidth": 0,
             "ticks": ""
            },
            "colorscale": [
             [
              0,
              "#0d0887"
             ],
             [
              0.1111111111111111,
              "#46039f"
             ],
             [
              0.2222222222222222,
              "#7201a8"
             ],
             [
              0.3333333333333333,
              "#9c179e"
             ],
             [
              0.4444444444444444,
              "#bd3786"
             ],
             [
              0.5555555555555556,
              "#d8576b"
             ],
             [
              0.6666666666666666,
              "#ed7953"
             ],
             [
              0.7777777777777778,
              "#fb9f3a"
             ],
             [
              0.8888888888888888,
              "#fdca26"
             ],
             [
              1,
              "#f0f921"
             ]
            ],
            "type": "contour"
           }
          ],
          "contourcarpet": [
           {
            "colorbar": {
             "outlinewidth": 0,
             "ticks": ""
            },
            "type": "contourcarpet"
           }
          ],
          "heatmap": [
           {
            "colorbar": {
             "outlinewidth": 0,
             "ticks": ""
            },
            "colorscale": [
             [
              0,
              "#0d0887"
             ],
             [
              0.1111111111111111,
              "#46039f"
             ],
             [
              0.2222222222222222,
              "#7201a8"
             ],
             [
              0.3333333333333333,
              "#9c179e"
             ],
             [
              0.4444444444444444,
              "#bd3786"
             ],
             [
              0.5555555555555556,
              "#d8576b"
             ],
             [
              0.6666666666666666,
              "#ed7953"
             ],
             [
              0.7777777777777778,
              "#fb9f3a"
             ],
             [
              0.8888888888888888,
              "#fdca26"
             ],
             [
              1,
              "#f0f921"
             ]
            ],
            "type": "heatmap"
           }
          ],
          "heatmapgl": [
           {
            "colorbar": {
             "outlinewidth": 0,
             "ticks": ""
            },
            "colorscale": [
             [
              0,
              "#0d0887"
             ],
             [
              0.1111111111111111,
              "#46039f"
             ],
             [
              0.2222222222222222,
              "#7201a8"
             ],
             [
              0.3333333333333333,
              "#9c179e"
             ],
             [
              0.4444444444444444,
              "#bd3786"
             ],
             [
              0.5555555555555556,
              "#d8576b"
             ],
             [
              0.6666666666666666,
              "#ed7953"
             ],
             [
              0.7777777777777778,
              "#fb9f3a"
             ],
             [
              0.8888888888888888,
              "#fdca26"
             ],
             [
              1,
              "#f0f921"
             ]
            ],
            "type": "heatmapgl"
           }
          ],
          "histogram": [
           {
            "marker": {
             "pattern": {
              "fillmode": "overlay",
              "size": 10,
              "solidity": 0.2
             }
            },
            "type": "histogram"
           }
          ],
          "histogram2d": [
           {
            "colorbar": {
             "outlinewidth": 0,
             "ticks": ""
            },
            "colorscale": [
             [
              0,
              "#0d0887"
             ],
             [
              0.1111111111111111,
              "#46039f"
             ],
             [
              0.2222222222222222,
              "#7201a8"
             ],
             [
              0.3333333333333333,
              "#9c179e"
             ],
             [
              0.4444444444444444,
              "#bd3786"
             ],
             [
              0.5555555555555556,
              "#d8576b"
             ],
             [
              0.6666666666666666,
              "#ed7953"
             ],
             [
              0.7777777777777778,
              "#fb9f3a"
             ],
             [
              0.8888888888888888,
              "#fdca26"
             ],
             [
              1,
              "#f0f921"
             ]
            ],
            "type": "histogram2d"
           }
          ],
          "histogram2dcontour": [
           {
            "colorbar": {
             "outlinewidth": 0,
             "ticks": ""
            },
            "colorscale": [
             [
              0,
              "#0d0887"
             ],
             [
              0.1111111111111111,
              "#46039f"
             ],
             [
              0.2222222222222222,
              "#7201a8"
             ],
             [
              0.3333333333333333,
              "#9c179e"
             ],
             [
              0.4444444444444444,
              "#bd3786"
             ],
             [
              0.5555555555555556,
              "#d8576b"
             ],
             [
              0.6666666666666666,
              "#ed7953"
             ],
             [
              0.7777777777777778,
              "#fb9f3a"
             ],
             [
              0.8888888888888888,
              "#fdca26"
             ],
             [
              1,
              "#f0f921"
             ]
            ],
            "type": "histogram2dcontour"
           }
          ],
          "mesh3d": [
           {
            "colorbar": {
             "outlinewidth": 0,
             "ticks": ""
            },
            "type": "mesh3d"
           }
          ],
          "parcoords": [
           {
            "line": {
             "colorbar": {
              "outlinewidth": 0,
              "ticks": ""
             }
            },
            "type": "parcoords"
           }
          ],
          "pie": [
           {
            "automargin": true,
            "type": "pie"
           }
          ],
          "scatter": [
           {
            "fillpattern": {
             "fillmode": "overlay",
             "size": 10,
             "solidity": 0.2
            },
            "type": "scatter"
           }
          ],
          "scatter3d": [
           {
            "line": {
             "colorbar": {
              "outlinewidth": 0,
              "ticks": ""
             }
            },
            "marker": {
             "colorbar": {
              "outlinewidth": 0,
              "ticks": ""
             }
            },
            "type": "scatter3d"
           }
          ],
          "scattercarpet": [
           {
            "marker": {
             "colorbar": {
              "outlinewidth": 0,
              "ticks": ""
             }
            },
            "type": "scattercarpet"
           }
          ],
          "scattergeo": [
           {
            "marker": {
             "colorbar": {
              "outlinewidth": 0,
              "ticks": ""
             }
            },
            "type": "scattergeo"
           }
          ],
          "scattergl": [
           {
            "marker": {
             "colorbar": {
              "outlinewidth": 0,
              "ticks": ""
             }
            },
            "type": "scattergl"
           }
          ],
          "scattermapbox": [
           {
            "marker": {
             "colorbar": {
              "outlinewidth": 0,
              "ticks": ""
             }
            },
            "type": "scattermapbox"
           }
          ],
          "scatterpolar": [
           {
            "marker": {
             "colorbar": {
              "outlinewidth": 0,
              "ticks": ""
             }
            },
            "type": "scatterpolar"
           }
          ],
          "scatterpolargl": [
           {
            "marker": {
             "colorbar": {
              "outlinewidth": 0,
              "ticks": ""
             }
            },
            "type": "scatterpolargl"
           }
          ],
          "scatterternary": [
           {
            "marker": {
             "colorbar": {
              "outlinewidth": 0,
              "ticks": ""
             }
            },
            "type": "scatterternary"
           }
          ],
          "surface": [
           {
            "colorbar": {
             "outlinewidth": 0,
             "ticks": ""
            },
            "colorscale": [
             [
              0,
              "#0d0887"
             ],
             [
              0.1111111111111111,
              "#46039f"
             ],
             [
              0.2222222222222222,
              "#7201a8"
             ],
             [
              0.3333333333333333,
              "#9c179e"
             ],
             [
              0.4444444444444444,
              "#bd3786"
             ],
             [
              0.5555555555555556,
              "#d8576b"
             ],
             [
              0.6666666666666666,
              "#ed7953"
             ],
             [
              0.7777777777777778,
              "#fb9f3a"
             ],
             [
              0.8888888888888888,
              "#fdca26"
             ],
             [
              1,
              "#f0f921"
             ]
            ],
            "type": "surface"
           }
          ],
          "table": [
           {
            "cells": {
             "fill": {
              "color": "#EBF0F8"
             },
             "line": {
              "color": "white"
             }
            },
            "header": {
             "fill": {
              "color": "#C8D4E3"
             },
             "line": {
              "color": "white"
             }
            },
            "type": "table"
           }
          ]
         },
         "layout": {
          "annotationdefaults": {
           "arrowcolor": "#2a3f5f",
           "arrowhead": 0,
           "arrowwidth": 1
          },
          "autotypenumbers": "strict",
          "coloraxis": {
           "colorbar": {
            "outlinewidth": 0,
            "ticks": ""
           }
          },
          "colorscale": {
           "diverging": [
            [
             0,
             "#8e0152"
            ],
            [
             0.1,
             "#c51b7d"
            ],
            [
             0.2,
             "#de77ae"
            ],
            [
             0.3,
             "#f1b6da"
            ],
            [
             0.4,
             "#fde0ef"
            ],
            [
             0.5,
             "#f7f7f7"
            ],
            [
             0.6,
             "#e6f5d0"
            ],
            [
             0.7,
             "#b8e186"
            ],
            [
             0.8,
             "#7fbc41"
            ],
            [
             0.9,
             "#4d9221"
            ],
            [
             1,
             "#276419"
            ]
           ],
           "sequential": [
            [
             0,
             "#0d0887"
            ],
            [
             0.1111111111111111,
             "#46039f"
            ],
            [
             0.2222222222222222,
             "#7201a8"
            ],
            [
             0.3333333333333333,
             "#9c179e"
            ],
            [
             0.4444444444444444,
             "#bd3786"
            ],
            [
             0.5555555555555556,
             "#d8576b"
            ],
            [
             0.6666666666666666,
             "#ed7953"
            ],
            [
             0.7777777777777778,
             "#fb9f3a"
            ],
            [
             0.8888888888888888,
             "#fdca26"
            ],
            [
             1,
             "#f0f921"
            ]
           ],
           "sequentialminus": [
            [
             0,
             "#0d0887"
            ],
            [
             0.1111111111111111,
             "#46039f"
            ],
            [
             0.2222222222222222,
             "#7201a8"
            ],
            [
             0.3333333333333333,
             "#9c179e"
            ],
            [
             0.4444444444444444,
             "#bd3786"
            ],
            [
             0.5555555555555556,
             "#d8576b"
            ],
            [
             0.6666666666666666,
             "#ed7953"
            ],
            [
             0.7777777777777778,
             "#fb9f3a"
            ],
            [
             0.8888888888888888,
             "#fdca26"
            ],
            [
             1,
             "#f0f921"
            ]
           ]
          },
          "colorway": [
           "#636efa",
           "#EF553B",
           "#00cc96",
           "#ab63fa",
           "#FFA15A",
           "#19d3f3",
           "#FF6692",
           "#B6E880",
           "#FF97FF",
           "#FECB52"
          ],
          "font": {
           "color": "#2a3f5f"
          },
          "geo": {
           "bgcolor": "white",
           "lakecolor": "white",
           "landcolor": "#E5ECF6",
           "showlakes": true,
           "showland": true,
           "subunitcolor": "white"
          },
          "hoverlabel": {
           "align": "left"
          },
          "hovermode": "closest",
          "mapbox": {
           "style": "light"
          },
          "paper_bgcolor": "white",
          "plot_bgcolor": "#E5ECF6",
          "polar": {
           "angularaxis": {
            "gridcolor": "white",
            "linecolor": "white",
            "ticks": ""
           },
           "bgcolor": "#E5ECF6",
           "radialaxis": {
            "gridcolor": "white",
            "linecolor": "white",
            "ticks": ""
           }
          },
          "scene": {
           "xaxis": {
            "backgroundcolor": "#E5ECF6",
            "gridcolor": "white",
            "gridwidth": 2,
            "linecolor": "white",
            "showbackground": true,
            "ticks": "",
            "zerolinecolor": "white"
           },
           "yaxis": {
            "backgroundcolor": "#E5ECF6",
            "gridcolor": "white",
            "gridwidth": 2,
            "linecolor": "white",
            "showbackground": true,
            "ticks": "",
            "zerolinecolor": "white"
           },
           "zaxis": {
            "backgroundcolor": "#E5ECF6",
            "gridcolor": "white",
            "gridwidth": 2,
            "linecolor": "white",
            "showbackground": true,
            "ticks": "",
            "zerolinecolor": "white"
           }
          },
          "shapedefaults": {
           "line": {
            "color": "#2a3f5f"
           }
          },
          "ternary": {
           "aaxis": {
            "gridcolor": "white",
            "linecolor": "white",
            "ticks": ""
           },
           "baxis": {
            "gridcolor": "white",
            "linecolor": "white",
            "ticks": ""
           },
           "bgcolor": "#E5ECF6",
           "caxis": {
            "gridcolor": "white",
            "linecolor": "white",
            "ticks": ""
           }
          },
          "title": {
           "x": 0.05
          },
          "xaxis": {
           "automargin": true,
           "gridcolor": "white",
           "linecolor": "white",
           "ticks": "",
           "title": {
            "standoff": 15
           },
           "zerolinecolor": "white",
           "zerolinewidth": 2
          },
          "yaxis": {
           "automargin": true,
           "gridcolor": "white",
           "linecolor": "white",
           "ticks": "",
           "title": {
            "standoff": 15
           },
           "zerolinecolor": "white",
           "zerolinewidth": 2
          }
         }
        },
        "xaxis": {
         "anchor": "y",
         "domain": [
          0,
          1
         ],
         "title": {
          "text": "Home Owner"
         }
        },
        "yaxis": {
         "anchor": "x",
         "domain": [
          0,
          1
         ],
         "title": {
          "text": "Children"
         }
        }
       }
      },
      "text/html": [
       "<div>                            <div id=\"80fadca5-5bd0-4711-a12d-01bda7091525\" class=\"plotly-graph-div\" style=\"height:525px; width:100%;\"></div>            <script type=\"text/javascript\">                require([\"plotly\"], function(Plotly) {                    window.PLOTLYENV=window.PLOTLYENV || {};                                    if (document.getElementById(\"80fadca5-5bd0-4711-a12d-01bda7091525\")) {                    Plotly.newPlot(                        \"80fadca5-5bd0-4711-a12d-01bda7091525\",                        [{\"alignmentgroup\":\"True\",\"hovertemplate\":\"Marital Status=Married\\u003cbr\\u003eHome Owner=%{x}\\u003cbr\\u003eChildren=%{y}\\u003cextra\\u003e\\u003c\\u002fextra\\u003e\",\"legendgroup\":\"Married\",\"marker\":{\"color\":\"#636efa\"},\"name\":\"Married\",\"notched\":false,\"offsetgroup\":\"Married\",\"orientation\":\"v\",\"showlegend\":true,\"x\":[\"Yes\",\"Yes\",\"No\",\"Yes\",\"Yes\",\"Yes\",\"No\",\"Yes\",\"Yes\",\"Yes\",\"Yes\",\"No\",\"Yes\",\"Yes\",\"No\",\"Yes\",\"Yes\",\"No\",\"Yes\",\"Yes\",\"Yes\",\"No\",\"Yes\",\"Yes\",\"Yes\",\"No\",\"Yes\",\"Yes\",\"Yes\",\"Yes\",\"Yes\",\"No\",\"Yes\",\"Yes\",\"No\",\"Yes\",\"No\",\"Yes\",\"Yes\",\"Yes\",\"No\",\"Yes\",\"Yes\",\"Yes\",\"Yes\",\"Yes\",\"Yes\",\"Yes\",\"Yes\",\"Yes\",\"Yes\",\"Yes\",\"Yes\",\"Yes\",\"Yes\",\"Yes\",\"Yes\",\"Yes\",\"Yes\",\"Yes\",\"Yes\",\"No\",\"Yes\",\"No\",\"Yes\",\"Yes\",\"Yes\",\"Yes\",\"Yes\",\"Yes\",\"No\",\"Yes\",\"Yes\",\"Yes\",\"No\",\"Yes\",\"No\",\"Yes\",\"No\",\"No\",\"No\",\"Yes\",\"No\",\"Yes\",\"Yes\",\"Yes\",\"Yes\",\"Yes\",\"Yes\",\"Yes\",\"Yes\",\"Yes\",\"Yes\",\"Yes\",\"Yes\",\"No\",\"No\",\"Yes\",\"Yes\",\"Yes\",\"Yes\",\"Yes\",\"Yes\",\"Yes\",\"Yes\",\"No\",\"Yes\",\"Yes\",\"No\",\"Yes\",\"Yes\",\"Yes\",\"No\",\"No\",\"Yes\",\"Yes\",\"Yes\",\"Yes\",\"Yes\",\"Yes\",\"Yes\",\"Yes\",\"Yes\",\"No\",\"Yes\",\"Yes\",\"Yes\",\"Yes\",\"No\",\"Yes\",\"Yes\",\"Yes\",\"No\",\"Yes\",\"Yes\",\"No\",\"No\",\"Yes\",\"Yes\",\"Yes\",\"Yes\",\"Yes\",\"Yes\",\"Yes\",\"Yes\",\"Yes\",\"No\",\"Yes\",\"Yes\",\"No\",\"Yes\",\"Yes\",\"Yes\",\"No\",\"Yes\",\"Yes\",\"No\",\"Yes\",\"Yes\",\"Yes\",\"Yes\",\"Yes\",\"No\",\"Yes\",\"Yes\",\"Yes\",\"Yes\",\"Yes\",\"Yes\",\"Yes\",\"Yes\",\"Yes\",\"Yes\",\"Yes\",\"Yes\",\"Yes\",\"No\",\"No\",\"Yes\",\"Yes\",\"Yes\",\"Yes\",\"Yes\",\"Yes\",\"Yes\",\"Yes\",\"Yes\",\"Yes\",\"Yes\",\"Yes\",\"Yes\",\"Yes\",\"Yes\",\"Yes\",\"Yes\",\"Yes\",\"Yes\",\"Yes\",\"Yes\",\"Yes\",\"Yes\",\"Yes\",\"Yes\",\"Yes\",\"Yes\",\"Yes\",\"Yes\",\"Yes\",\"Yes\",\"Yes\",\"Yes\",\"Yes\",\"Yes\",\"Yes\",\"Yes\",\"Yes\",\"No\",\"No\",\"Yes\",\"Yes\",\"Yes\",\"Yes\",\"Yes\",\"Yes\",\"Yes\",\"Yes\",\"No\",\"No\",\"No\",\"Yes\",\"Yes\",\"Yes\",\"Yes\",\"Yes\",\"Yes\",\"Yes\",\"Yes\",\"Yes\",\"Yes\",\"Yes\",\"Yes\",\"Yes\",\"Yes\",\"Yes\",\"Yes\",\"Yes\",\"Yes\",\"Yes\",\"Yes\",\"No\",\"Yes\",\"Yes\",\"Yes\",\"Yes\",\"Yes\",\"Yes\",\"No\",\"Yes\",\"Yes\",\"Yes\",\"Yes\",\"Yes\",\"Yes\",\"Yes\",\"Yes\",\"Yes\",\"Yes\",\"Yes\",\"Yes\",\"Yes\",\"Yes\",\"Yes\",\"Yes\",\"No\",\"Yes\",\"Yes\",\"Yes\",\"Yes\",\"Yes\",\"No\",\"Yes\",\"No\",\"Yes\",\"Yes\",\"Yes\",\"Yes\",\"Yes\",\"Yes\",\"Yes\",\"Yes\",\"Yes\",\"Yes\",\"Yes\",\"Yes\",\"No\",\"Yes\",\"Yes\",\"No\",\"No\",\"Yes\",\"Yes\",\"Yes\",\"Yes\",\"No\",\"Yes\",\"Yes\",\"Yes\",\"No\",\"Yes\",\"Yes\",\"Yes\",\"Yes\",\"Yes\",\"Yes\",\"Yes\",\"Yes\",\"Yes\",\"Yes\",\"Yes\",\"Yes\",\"No\",\"Yes\",\"No\",\"Yes\",\"Yes\",\"Yes\",\"Yes\",\"Yes\",\"Yes\",\"No\",\"Yes\",\"No\",\"Yes\",\"Yes\",\"Yes\",\"Yes\",\"Yes\",\"Yes\",\"No\",\"Yes\",\"Yes\",\"Yes\",\"Yes\",\"Yes\",\"Yes\",\"No\",\"No\",\"Yes\",\"No\",\"No\",\"Yes\",\"Yes\",\"Yes\",\"Yes\",\"Yes\",\"No\",\"Yes\",\"Yes\",\"Yes\",\"Yes\",\"Yes\",\"Yes\",\"Yes\",\"Yes\",\"No\",\"Yes\",\"Yes\",\"Yes\",\"Yes\",\"Yes\",\"Yes\",\"No\",\"Yes\",\"Yes\",\"Yes\",\"No\",\"Yes\",\"No\",\"Yes\",\"No\",\"Yes\",\"Yes\",\"Yes\",\"Yes\",\"Yes\",\"Yes\",\"Yes\",\"Yes\",\"Yes\",\"Yes\",\"Yes\",\"No\",\"No\",\"Yes\",\"Yes\",\"No\",\"Yes\",\"Yes\",\"No\",\"Yes\",\"No\",\"No\",\"Yes\",\"Yes\",\"Yes\",\"Yes\",\"No\",\"Yes\",\"Yes\",\"Yes\",\"Yes\",\"No\",\"Yes\",\"Yes\",\"Yes\",\"Yes\",\"Yes\",\"Yes\",\"Yes\",\"No\",\"Yes\",\"Yes\",\"No\",\"Yes\",\"No\",\"Yes\",\"Yes\",\"Yes\",\"Yes\",\"Yes\",\"No\",\"Yes\",\"No\",\"Yes\",\"Yes\",\"Yes\",\"Yes\",\"Yes\",\"Yes\",\"Yes\",\"Yes\",\"No\",\"No\",\"Yes\",\"Yes\",\"Yes\",\"No\",\"Yes\",\"No\",\"Yes\",\"Yes\",\"Yes\",\"Yes\",\"Yes\",\"Yes\",\"Yes\",\"Yes\",\"Yes\",\"Yes\",\"Yes\",\"Yes\",\"Yes\",\"Yes\",\"Yes\",\"Yes\",\"Yes\",\"Yes\",\"Yes\",\"Yes\",\"Yes\",\"Yes\",\"Yes\",\"No\",\"Yes\",\"Yes\",\"Yes\",\"Yes\",\"Yes\",\"Yes\",\"Yes\",\"Yes\",\"Yes\",\"Yes\",\"Yes\",\"Yes\",\"No\",\"Yes\",\"Yes\",\"Yes\",\"No\",\"Yes\",\"Yes\",\"Yes\",\"Yes\",\"Yes\",\"Yes\",\"Yes\",\"Yes\",null,\"Yes\",\"Yes\",\"Yes\",\"No\",\"Yes\",\"Yes\",\"Yes\",\"Yes\",\"Yes\",\"Yes\",\"Yes\",\"Yes\",\"Yes\",\"Yes\",\"Yes\",\"No\",\"Yes\",\"Yes\",\"Yes\",\"Yes\",\"Yes\",\"Yes\",\"Yes\",\"Yes\",\"No\",\"Yes\",\"No\",\"No\",\"Yes\",\"Yes\"],\"x0\":\" \",\"xaxis\":\"x\",\"y\":[1.0,3.0,5.0,2.0,1.0,2.0,3.0,5.0,2.0,1.0,0.0,5.0,5.0,2.0,0.0,2.0,1.0,4.0,3.0,1.0,1.0,2.0,1.0,4.0,0.0,4.0,1.0,2.0,2.0,1.0,0.0,0.0,0.0,3.0,3.0,0.0,2.0,4.0,0.0,5.0,1.0,1.0,1.0,3.0,2.0,2.0,0.0,0.0,1.0,5.0,2.0,2.0,5.0,1.0,2.0,4.0,0.0,2.0,2.0,1.0,0.0,2.0,0.0,0.0,4.0,1.0,5.0,1.0,2.0,0.0,0.0,1.0,4.0,5.0,0.0,0.0,4.0,0.0,3.0,2.0,4.0,1.0,3.0,0.0,1.0,3.0,5.0,2.0,1.0,3.0,4.0,0.0,1.0,2.0,1.0,3.0,2.0,1.0,3.0,1.0,4.0,0.0,4.0,0.0,1.0,0.0,5.0,1.0,3.0,5.0,3.0,0.0,5.0,5.0,4.0,3.0,1.0,0.0,1.0,2.0,0.0,5.0,4.0,0.0,1.0,2.0,2.0,0.0,5.0,1.0,0.0,3.0,0.0,1.0,1.0,4.0,2.0,1.0,4.0,2.0,2.0,2.0,2.0,4.0,1.0,4.0,5.0,2.0,0.0,4.0,3.0,0.0,4.0,0.0,1.0,5.0,0.0,3.0,2.0,0.0,1.0,1.0,1.0,2.0,4.0,3.0,4.0,0.0,1.0,2.0,1.0,3.0,4.0,1.0,1.0,1.0,3.0,3.0,3.0,2.0,4.0,0.0,1.0,0.0,0.0,0.0,1.0,2.0,1.0,1.0,1.0,3.0,0.0,1.0,3.0,2.0,5.0,0.0,5.0,1.0,2.0,2.0,2.0,4.0,0.0,3.0,2.0,5.0,2.0,1.0,1.0,0.0,1.0,3.0,1.0,1.0,2.0,4.0,1.0,0.0,1.0,0.0,2.0,5.0,1.0,0.0,2.0,4.0,2.0,0.0,1.0,1.0,1.0,4.0,0.0,0.0,4.0,2.0,4.0,2.0,1.0,5.0,0.0,0.0,1.0,2.0,4.0,4.0,1.0,0.0,3.0,1.0,5.0,2.0,0.0,5.0,3.0,1.0,1.0,2.0,0.0,3.0,4.0,3.0,1.0,4.0,1.0,0.0,2.0,4.0,2.0,null,4.0,3.0,2.0,4.0,3.0,3.0,0.0,2.0,2.0,3.0,2.0,1.0,1.0,3.0,2.0,3.0,1.0,4.0,3.0,0.0,4.0,3.0,2.0,0.0,2.0,1.0,4.0,4.0,4.0,1.0,2.0,2.0,1.0,0.0,3.0,0.0,1.0,0.0,3.0,4.0,4.0,4.0,5.0,4.0,3.0,0.0,3.0,1.0,0.0,1.0,3.0,2.0,2.0,4.0,3.0,3.0,5.0,5.0,3.0,2.0,1.0,1.0,5.0,0.0,1.0,1.0,5.0,0.0,2.0,2.0,2.0,3.0,2.0,4.0,5.0,4.0,0.0,3.0,5.0,1.0,0.0,1.0,1.0,0.0,2.0,4.0,1.0,4.0,1.0,5.0,0.0,2.0,2.0,0.0,1.0,4.0,5.0,2.0,2.0,2.0,1.0,0.0,3.0,2.0,0.0,2.0,2.0,4.0,1.0,1.0,4.0,4.0,2.0,2.0,2.0,2.0,1.0,0.0,4.0,3.0,1.0,5.0,1.0,0.0,4.0,2.0,1.0,4.0,1.0,1.0,1.0,3.0,2.0,5.0,3.0,2.0,4.0,4.0,1.0,2.0,0.0,1.0,2.0,5.0,4.0,0.0,0.0,0.0,2.0,4.0,0.0,2.0,0.0,3.0,3.0,0.0,0.0,0.0,3.0,4.0,2.0,4.0,0.0,0.0,1.0,4.0,2.0,1.0,5.0,4.0,5.0,0.0,0.0,1.0,0.0,2.0,2.0,0.0,2.0,1.0,2.0,3.0,1.0,5.0,2.0,4.0,2.0,4.0,0.0,1.0,4.0,2.0,3.0,0.0,1.0,2.0,1.0,3.0,4.0,1.0,0.0,5.0,4.0,1.0,4.0,0.0,4.0,5.0,3.0,3.0,0.0,4.0,2.0,3.0,0.0,2.0,2.0,5.0,1.0,2.0,1.0,4.0,4.0,0.0,1.0,3.0,4.0,1.0,5.0,2.0,4.0,1.0,4.0,4.0,0.0,5.0,1.0,2.0,2.0,5.0,0.0,3.0,0.0,0.0,1.0,3.0,3.0,3.0,5.0,5.0,2.0,2.0,5.0,4.0,2.0,5.0,2.0],\"y0\":\" \",\"yaxis\":\"y\",\"type\":\"box\"},{\"alignmentgroup\":\"True\",\"hovertemplate\":\"Marital Status=Single\\u003cbr\\u003eHome Owner=%{x}\\u003cbr\\u003eChildren=%{y}\\u003cextra\\u003e\\u003c\\u002fextra\\u003e\",\"legendgroup\":\"Single\",\"marker\":{\"color\":\"#EF553B\"},\"name\":\"Single\",\"notched\":false,\"offsetgroup\":\"Single\",\"orientation\":\"v\",\"showlegend\":true,\"x\":[\"No\",null,\"No\",\"No\",\"Yes\",\"No\",\"Yes\",\"Yes\",\"Yes\",\"Yes\",\"No\",\"Yes\",\"No\",\"No\",\"No\",\"No\",\"No\",\"No\",\"No\",\"No\",\"Yes\",\"No\",\"Yes\",\"Yes\",\"No\",\"No\",\"No\",\"No\",\"No\",\"Yes\",\"Yes\",\"Yes\",\"Yes\",\"Yes\",\"No\",\"No\",\"Yes\",\"No\",\"Yes\",\"Yes\",\"No\",\"No\",\"Yes\",\"No\",\"No\",\"No\",\"No\",\"Yes\",\"No\",\"Yes\",\"Yes\",\"Yes\",\"No\",\"Yes\",\"Yes\",\"No\",\"No\",\"No\",\"No\",\"No\",\"Yes\",\"No\",\"No\",\"Yes\",\"No\",\"No\",\"No\",\"No\",\"Yes\",\"Yes\",\"Yes\",\"Yes\",\"Yes\",\"No\",\"Yes\",\"No\",\"No\",\"No\",\"Yes\",\"No\",\"No\",\"No\",\"Yes\",\"No\",\"No\",\"Yes\",\"No\",\"No\",\"Yes\",\"Yes\",\"No\",\"Yes\",\"Yes\",\"Yes\",\"No\",\"Yes\",\"Yes\",\"No\",\"Yes\",\"Yes\",\"No\",\"Yes\",\"Yes\",\"No\",\"No\",\"No\",\"Yes\",\"Yes\",\"No\",\"No\",\"Yes\",\"Yes\",\"Yes\",\"No\",\"No\",\"No\",\"No\",\"Yes\",\"Yes\",\"No\",\"Yes\",\"Yes\",\"Yes\",\"Yes\",\"No\",\"Yes\",\"No\",\"No\",\"Yes\",\"No\",\"Yes\",\"Yes\",\"Yes\",\"Yes\",\"Yes\",\"Yes\",\"Yes\",\"Yes\",\"Yes\",\"No\",\"Yes\",\"No\",\"No\",\"No\",\"Yes\",\"No\",\"No\",\"Yes\",\"Yes\",\"No\",\"No\",\"No\",\"No\",\"Yes\",\"No\",\"No\",\"Yes\",\"Yes\",\"No\",\"No\",\"No\",\"Yes\",\"No\",\"No\",\"Yes\",\"Yes\",\"No\",\"No\",\"Yes\",\"Yes\",\"No\",\"Yes\",\"No\",\"No\",\"No\",\"No\",\"No\",\"Yes\",\"No\",\"No\",\"Yes\",\"Yes\",\"Yes\",\"No\",\"Yes\",null,\"No\",\"No\",\"Yes\",\"No\",\"Yes\",\"No\",\"No\",\"Yes\",\"Yes\",\"No\",\"No\",\"No\",\"No\",\"Yes\",\"Yes\",\"No\",\"Yes\",\"No\",\"Yes\",\"Yes\",\"No\",\"No\",\"No\",\"Yes\",\"No\",\"Yes\",\"Yes\",\"No\",\"Yes\",\"Yes\",\"Yes\",\"Yes\",\"No\",\"No\",\"Yes\",\"No\",\"No\",\"Yes\",\"No\",\"Yes\",\"Yes\",\"No\",\"No\",\"No\",\"Yes\",\"Yes\",\"Yes\",\"Yes\",\"No\",\"No\",\"No\",\"Yes\",\"Yes\",\"Yes\",\"No\",\"No\",\"Yes\",\"Yes\",\"Yes\",\"Yes\",\"Yes\",\"Yes\",\"No\",\"No\",\"Yes\",\"Yes\",\"No\",\"No\",\"No\",\"Yes\",\"No\",\"Yes\",\"Yes\",\"Yes\",\"Yes\",\"No\",\"Yes\",\"No\",\"Yes\",\"No\",\"No\",\"No\",\"No\",\"Yes\",\"No\",\"Yes\",\"Yes\",\"Yes\",\"Yes\",\"Yes\",\"Yes\",\"Yes\",\"Yes\",\"No\",\"No\",\"No\",\"Yes\",\"Yes\",\"Yes\",\"Yes\",\"No\",\"Yes\",\"Yes\",\"Yes\",\"Yes\",\"Yes\",\"Yes\",\"No\",\"Yes\",\"No\",\"Yes\",\"No\",\"No\",\"Yes\",\"Yes\",\"No\",\"Yes\",\"No\",\"Yes\",\"Yes\",null,\"Yes\",\"No\",\"No\",\"Yes\",\"No\",\"No\",\"No\",\"Yes\",\"Yes\",\"No\",\"No\",\"Yes\",\"Yes\",\"Yes\",\"No\",\"No\",\"Yes\",\"Yes\",\"No\",\"No\",\"No\",\"No\",\"No\",\"Yes\",\"Yes\",\"Yes\",\"No\",\"Yes\",\"Yes\",\"No\",\"Yes\",\"No\",\"Yes\",\"No\",\"Yes\",\"Yes\",\"Yes\",\"No\",\"No\",\"Yes\",\"No\",\"Yes\",\"No\",\"No\",\"Yes\",\"No\",\"Yes\",\"No\",\"Yes\",\"Yes\",\"Yes\",\"No\",\"Yes\",\"Yes\",\"Yes\",\"No\",\"No\",\"Yes\",\"No\",\"No\",\"Yes\",\"Yes\",\"No\",\"Yes\",\"Yes\",\"Yes\",\"No\",\"Yes\",\"Yes\",\"Yes\",\"Yes\",\"Yes\",\"Yes\",\"Yes\",\"No\",\"Yes\",\"Yes\",\"No\",\"No\",\"No\",\"Yes\",\"Yes\",\"Yes\",\"No\",\"Yes\",\"Yes\",\"No\",\"No\",\"No\",\"Yes\",\"No\",\"Yes\",\"Yes\",\"No\",\"Yes\",\"No\",\"Yes\",\"No\",\"Yes\",\"Yes\",\"No\",\"No\",\"Yes\",\"Yes\",\"Yes\",\"Yes\",\"Yes\",\"Yes\",\"No\",\"Yes\",\"Yes\",\"No\",\"No\",\"Yes\",\"Yes\",\"No\",\"Yes\",\"Yes\",\"Yes\",\"No\",\"Yes\",\"No\",\"Yes\",\"No\",\"No\",\"No\",\"Yes\",\"Yes\",\"No\",\"Yes\",\"No\",\"No\",\"No\",\"Yes\",\"Yes\",\"Yes\",\"No\",\"Yes\",\"Yes\",\"Yes\",\"No\",\"Yes\",\"No\",\"Yes\",\"No\",\"Yes\"],\"x0\":\" \",\"xaxis\":\"x\",\"y\":[0.0,2.0,0.0,1.0,2.0,3.0,2.0,2.0,0.0,2.0,2.0,1.0,0.0,0.0,0.0,2.0,5.0,5.0,0.0,0.0,4.0,2.0,2.0,2.0,0.0,0.0,4.0,0.0,1.0,2.0,4.0,2.0,0.0,4.0,0.0,0.0,4.0,0.0,2.0,4.0,0.0,2.0,0.0,3.0,0.0,0.0,0.0,2.0,0.0,3.0,5.0,2.0,3.0,1.0,2.0,0.0,2.0,0.0,1.0,0.0,2.0,1.0,0.0,null,0.0,0.0,3.0,0.0,0.0,2.0,3.0,2.0,2.0,1.0,2.0,2.0,0.0,0.0,1.0,0.0,1.0,0.0,4.0,2.0,2.0,1.0,2.0,2.0,1.0,0.0,0.0,0.0,2.0,0.0,2.0,1.0,2.0,5.0,2.0,5.0,0.0,0.0,0.0,0.0,0.0,0.0,2.0,1.0,3.0,5.0,0.0,0.0,3.0,0.0,0.0,4.0,null,1.0,0.0,0.0,5.0,3.0,5.0,5.0,0.0,3.0,1.0,0.0,0.0,0.0,2.0,3.0,0.0,3.0,2.0,5.0,2.0,5.0,5.0,0.0,2.0,0.0,0.0,1.0,3.0,1.0,0.0,1.0,1.0,3.0,1.0,1.0,0.0,0.0,2.0,5.0,1.0,2.0,3.0,0.0,0.0,4.0,0.0,2.0,2.0,0.0,0.0,0.0,3.0,0.0,0.0,0.0,0.0,0.0,1.0,0.0,0.0,3.0,0.0,1.0,0.0,0.0,0.0,3.0,2.0,0.0,2.0,2.0,5.0,0.0,5.0,0.0,0.0,3.0,null,0.0,0.0,0.0,1.0,2.0,1.0,2.0,3.0,2.0,2.0,2.0,2.0,2.0,2.0,2.0,0.0,0.0,3.0,0.0,1.0,0.0,3.0,0.0,3.0,2.0,3.0,0.0,0.0,4.0,0.0,2.0,5.0,0.0,3.0,0.0,0.0,2.0,3.0,3.0,1.0,0.0,0.0,0.0,0.0,2.0,0.0,0.0,2.0,0.0,3.0,5.0,3.0,1.0,0.0,0.0,4.0,4.0,0.0,3.0,1.0,4.0,3.0,4.0,5.0,0.0,0.0,1.0,3.0,0.0,3.0,2.0,0.0,4.0,0.0,3.0,0.0,2.0,0.0,0.0,3.0,0.0,0.0,2.0,0.0,3.0,2.0,2.0,2.0,5.0,2.0,3.0,2.0,2.0,3.0,2.0,5.0,0.0,1.0,4.0,4.0,3.0,0.0,0.0,3.0,5.0,4.0,2.0,4.0,0.0,null,0.0,4.0,0.0,2.0,0.0,5.0,0.0,0.0,0.0,2.0,4.0,0.0,1.0,1.0,0.0,4.0,4.0,4.0,3.0,0.0,1.0,4.0,3.0,0.0,0.0,0.0,0.0,0.0,0.0,2.0,2.0,0.0,4.0,5.0,4.0,3.0,2.0,4.0,0.0,1.0,1.0,0.0,2.0,0.0,1.0,0.0,1.0,5.0,3.0,3.0,2.0,0.0,4.0,2.0,0.0,4.0,2.0,0.0,2.0,2.0,2.0,1.0,2.0,0.0,0.0,1.0,4.0,null,0.0,2.0,3.0,4.0,4.0,0.0,1.0,4.0,2.0,3.0,0.0,1.0,0.0,2.0,3.0,3.0,3.0,2.0,3.0,0.0,0.0,2.0,2.0,1.0,0.0,0.0,0.0,0.0,0.0,0.0,5.0,3.0,3.0,2.0,0.0,4.0,1.0,4.0,5.0,4.0,3.0,4.0,2.0,4.0,2.0,5.0,3.0,3.0,3.0,3.0,2.0,0.0,2.0,0.0,0.0,2.0,1.0,2.0,4.0,0.0,1.0,3.0,null,4.0,3.0,0.0,2.0,4.0,0.0,3.0,2.0,4.0,5.0,3.0,0.0,1.0,1.0,4.0,3.0,3.0],\"y0\":\" \",\"yaxis\":\"y\",\"type\":\"box\"}],                        {\"template\":{\"data\":{\"histogram2dcontour\":[{\"type\":\"histogram2dcontour\",\"colorbar\":{\"outlinewidth\":0,\"ticks\":\"\"},\"colorscale\":[[0.0,\"#0d0887\"],[0.1111111111111111,\"#46039f\"],[0.2222222222222222,\"#7201a8\"],[0.3333333333333333,\"#9c179e\"],[0.4444444444444444,\"#bd3786\"],[0.5555555555555556,\"#d8576b\"],[0.6666666666666666,\"#ed7953\"],[0.7777777777777778,\"#fb9f3a\"],[0.8888888888888888,\"#fdca26\"],[1.0,\"#f0f921\"]]}],\"choropleth\":[{\"type\":\"choropleth\",\"colorbar\":{\"outlinewidth\":0,\"ticks\":\"\"}}],\"histogram2d\":[{\"type\":\"histogram2d\",\"colorbar\":{\"outlinewidth\":0,\"ticks\":\"\"},\"colorscale\":[[0.0,\"#0d0887\"],[0.1111111111111111,\"#46039f\"],[0.2222222222222222,\"#7201a8\"],[0.3333333333333333,\"#9c179e\"],[0.4444444444444444,\"#bd3786\"],[0.5555555555555556,\"#d8576b\"],[0.6666666666666666,\"#ed7953\"],[0.7777777777777778,\"#fb9f3a\"],[0.8888888888888888,\"#fdca26\"],[1.0,\"#f0f921\"]]}],\"heatmap\":[{\"type\":\"heatmap\",\"colorbar\":{\"outlinewidth\":0,\"ticks\":\"\"},\"colorscale\":[[0.0,\"#0d0887\"],[0.1111111111111111,\"#46039f\"],[0.2222222222222222,\"#7201a8\"],[0.3333333333333333,\"#9c179e\"],[0.4444444444444444,\"#bd3786\"],[0.5555555555555556,\"#d8576b\"],[0.6666666666666666,\"#ed7953\"],[0.7777777777777778,\"#fb9f3a\"],[0.8888888888888888,\"#fdca26\"],[1.0,\"#f0f921\"]]}],\"heatmapgl\":[{\"type\":\"heatmapgl\",\"colorbar\":{\"outlinewidth\":0,\"ticks\":\"\"},\"colorscale\":[[0.0,\"#0d0887\"],[0.1111111111111111,\"#46039f\"],[0.2222222222222222,\"#7201a8\"],[0.3333333333333333,\"#9c179e\"],[0.4444444444444444,\"#bd3786\"],[0.5555555555555556,\"#d8576b\"],[0.6666666666666666,\"#ed7953\"],[0.7777777777777778,\"#fb9f3a\"],[0.8888888888888888,\"#fdca26\"],[1.0,\"#f0f921\"]]}],\"contourcarpet\":[{\"type\":\"contourcarpet\",\"colorbar\":{\"outlinewidth\":0,\"ticks\":\"\"}}],\"contour\":[{\"type\":\"contour\",\"colorbar\":{\"outlinewidth\":0,\"ticks\":\"\"},\"colorscale\":[[0.0,\"#0d0887\"],[0.1111111111111111,\"#46039f\"],[0.2222222222222222,\"#7201a8\"],[0.3333333333333333,\"#9c179e\"],[0.4444444444444444,\"#bd3786\"],[0.5555555555555556,\"#d8576b\"],[0.6666666666666666,\"#ed7953\"],[0.7777777777777778,\"#fb9f3a\"],[0.8888888888888888,\"#fdca26\"],[1.0,\"#f0f921\"]]}],\"surface\":[{\"type\":\"surface\",\"colorbar\":{\"outlinewidth\":0,\"ticks\":\"\"},\"colorscale\":[[0.0,\"#0d0887\"],[0.1111111111111111,\"#46039f\"],[0.2222222222222222,\"#7201a8\"],[0.3333333333333333,\"#9c179e\"],[0.4444444444444444,\"#bd3786\"],[0.5555555555555556,\"#d8576b\"],[0.6666666666666666,\"#ed7953\"],[0.7777777777777778,\"#fb9f3a\"],[0.8888888888888888,\"#fdca26\"],[1.0,\"#f0f921\"]]}],\"mesh3d\":[{\"type\":\"mesh3d\",\"colorbar\":{\"outlinewidth\":0,\"ticks\":\"\"}}],\"scatter\":[{\"fillpattern\":{\"fillmode\":\"overlay\",\"size\":10,\"solidity\":0.2},\"type\":\"scatter\"}],\"parcoords\":[{\"type\":\"parcoords\",\"line\":{\"colorbar\":{\"outlinewidth\":0,\"ticks\":\"\"}}}],\"scatterpolargl\":[{\"type\":\"scatterpolargl\",\"marker\":{\"colorbar\":{\"outlinewidth\":0,\"ticks\":\"\"}}}],\"bar\":[{\"error_x\":{\"color\":\"#2a3f5f\"},\"error_y\":{\"color\":\"#2a3f5f\"},\"marker\":{\"line\":{\"color\":\"#E5ECF6\",\"width\":0.5},\"pattern\":{\"fillmode\":\"overlay\",\"size\":10,\"solidity\":0.2}},\"type\":\"bar\"}],\"scattergeo\":[{\"type\":\"scattergeo\",\"marker\":{\"colorbar\":{\"outlinewidth\":0,\"ticks\":\"\"}}}],\"scatterpolar\":[{\"type\":\"scatterpolar\",\"marker\":{\"colorbar\":{\"outlinewidth\":0,\"ticks\":\"\"}}}],\"histogram\":[{\"marker\":{\"pattern\":{\"fillmode\":\"overlay\",\"size\":10,\"solidity\":0.2}},\"type\":\"histogram\"}],\"scattergl\":[{\"type\":\"scattergl\",\"marker\":{\"colorbar\":{\"outlinewidth\":0,\"ticks\":\"\"}}}],\"scatter3d\":[{\"type\":\"scatter3d\",\"line\":{\"colorbar\":{\"outlinewidth\":0,\"ticks\":\"\"}},\"marker\":{\"colorbar\":{\"outlinewidth\":0,\"ticks\":\"\"}}}],\"scattermapbox\":[{\"type\":\"scattermapbox\",\"marker\":{\"colorbar\":{\"outlinewidth\":0,\"ticks\":\"\"}}}],\"scatterternary\":[{\"type\":\"scatterternary\",\"marker\":{\"colorbar\":{\"outlinewidth\":0,\"ticks\":\"\"}}}],\"scattercarpet\":[{\"type\":\"scattercarpet\",\"marker\":{\"colorbar\":{\"outlinewidth\":0,\"ticks\":\"\"}}}],\"carpet\":[{\"aaxis\":{\"endlinecolor\":\"#2a3f5f\",\"gridcolor\":\"white\",\"linecolor\":\"white\",\"minorgridcolor\":\"white\",\"startlinecolor\":\"#2a3f5f\"},\"baxis\":{\"endlinecolor\":\"#2a3f5f\",\"gridcolor\":\"white\",\"linecolor\":\"white\",\"minorgridcolor\":\"white\",\"startlinecolor\":\"#2a3f5f\"},\"type\":\"carpet\"}],\"table\":[{\"cells\":{\"fill\":{\"color\":\"#EBF0F8\"},\"line\":{\"color\":\"white\"}},\"header\":{\"fill\":{\"color\":\"#C8D4E3\"},\"line\":{\"color\":\"white\"}},\"type\":\"table\"}],\"barpolar\":[{\"marker\":{\"line\":{\"color\":\"#E5ECF6\",\"width\":0.5},\"pattern\":{\"fillmode\":\"overlay\",\"size\":10,\"solidity\":0.2}},\"type\":\"barpolar\"}],\"pie\":[{\"automargin\":true,\"type\":\"pie\"}]},\"layout\":{\"autotypenumbers\":\"strict\",\"colorway\":[\"#636efa\",\"#EF553B\",\"#00cc96\",\"#ab63fa\",\"#FFA15A\",\"#19d3f3\",\"#FF6692\",\"#B6E880\",\"#FF97FF\",\"#FECB52\"],\"font\":{\"color\":\"#2a3f5f\"},\"hovermode\":\"closest\",\"hoverlabel\":{\"align\":\"left\"},\"paper_bgcolor\":\"white\",\"plot_bgcolor\":\"#E5ECF6\",\"polar\":{\"bgcolor\":\"#E5ECF6\",\"angularaxis\":{\"gridcolor\":\"white\",\"linecolor\":\"white\",\"ticks\":\"\"},\"radialaxis\":{\"gridcolor\":\"white\",\"linecolor\":\"white\",\"ticks\":\"\"}},\"ternary\":{\"bgcolor\":\"#E5ECF6\",\"aaxis\":{\"gridcolor\":\"white\",\"linecolor\":\"white\",\"ticks\":\"\"},\"baxis\":{\"gridcolor\":\"white\",\"linecolor\":\"white\",\"ticks\":\"\"},\"caxis\":{\"gridcolor\":\"white\",\"linecolor\":\"white\",\"ticks\":\"\"}},\"coloraxis\":{\"colorbar\":{\"outlinewidth\":0,\"ticks\":\"\"}},\"colorscale\":{\"sequential\":[[0.0,\"#0d0887\"],[0.1111111111111111,\"#46039f\"],[0.2222222222222222,\"#7201a8\"],[0.3333333333333333,\"#9c179e\"],[0.4444444444444444,\"#bd3786\"],[0.5555555555555556,\"#d8576b\"],[0.6666666666666666,\"#ed7953\"],[0.7777777777777778,\"#fb9f3a\"],[0.8888888888888888,\"#fdca26\"],[1.0,\"#f0f921\"]],\"sequentialminus\":[[0.0,\"#0d0887\"],[0.1111111111111111,\"#46039f\"],[0.2222222222222222,\"#7201a8\"],[0.3333333333333333,\"#9c179e\"],[0.4444444444444444,\"#bd3786\"],[0.5555555555555556,\"#d8576b\"],[0.6666666666666666,\"#ed7953\"],[0.7777777777777778,\"#fb9f3a\"],[0.8888888888888888,\"#fdca26\"],[1.0,\"#f0f921\"]],\"diverging\":[[0,\"#8e0152\"],[0.1,\"#c51b7d\"],[0.2,\"#de77ae\"],[0.3,\"#f1b6da\"],[0.4,\"#fde0ef\"],[0.5,\"#f7f7f7\"],[0.6,\"#e6f5d0\"],[0.7,\"#b8e186\"],[0.8,\"#7fbc41\"],[0.9,\"#4d9221\"],[1,\"#276419\"]]},\"xaxis\":{\"gridcolor\":\"white\",\"linecolor\":\"white\",\"ticks\":\"\",\"title\":{\"standoff\":15},\"zerolinecolor\":\"white\",\"automargin\":true,\"zerolinewidth\":2},\"yaxis\":{\"gridcolor\":\"white\",\"linecolor\":\"white\",\"ticks\":\"\",\"title\":{\"standoff\":15},\"zerolinecolor\":\"white\",\"automargin\":true,\"zerolinewidth\":2},\"scene\":{\"xaxis\":{\"backgroundcolor\":\"#E5ECF6\",\"gridcolor\":\"white\",\"linecolor\":\"white\",\"showbackground\":true,\"ticks\":\"\",\"zerolinecolor\":\"white\",\"gridwidth\":2},\"yaxis\":{\"backgroundcolor\":\"#E5ECF6\",\"gridcolor\":\"white\",\"linecolor\":\"white\",\"showbackground\":true,\"ticks\":\"\",\"zerolinecolor\":\"white\",\"gridwidth\":2},\"zaxis\":{\"backgroundcolor\":\"#E5ECF6\",\"gridcolor\":\"white\",\"linecolor\":\"white\",\"showbackground\":true,\"ticks\":\"\",\"zerolinecolor\":\"white\",\"gridwidth\":2}},\"shapedefaults\":{\"line\":{\"color\":\"#2a3f5f\"}},\"annotationdefaults\":{\"arrowcolor\":\"#2a3f5f\",\"arrowhead\":0,\"arrowwidth\":1},\"geo\":{\"bgcolor\":\"white\",\"landcolor\":\"#E5ECF6\",\"subunitcolor\":\"white\",\"showland\":true,\"showlakes\":true,\"lakecolor\":\"white\"},\"title\":{\"x\":0.05},\"mapbox\":{\"style\":\"light\"}}},\"xaxis\":{\"anchor\":\"y\",\"domain\":[0.0,1.0],\"title\":{\"text\":\"Home Owner\"}},\"yaxis\":{\"anchor\":\"x\",\"domain\":[0.0,1.0],\"title\":{\"text\":\"Children\"}},\"legend\":{\"title\":{\"text\":\"Marital Status\"},\"tracegroupgap\":0},\"margin\":{\"t\":60},\"boxmode\":\"group\"},                        {\"responsive\": true}                    ).then(function(){\n",
       "                            \n",
       "var gd = document.getElementById('80fadca5-5bd0-4711-a12d-01bda7091525');\n",
       "var x = new MutationObserver(function (mutations, observer) {{\n",
       "        var display = window.getComputedStyle(gd).display;\n",
       "        if (!display || display === 'none') {{\n",
       "            console.log([gd, 'removed!']);\n",
       "            Plotly.purge(gd);\n",
       "            observer.disconnect();\n",
       "        }}\n",
       "}});\n",
       "\n",
       "// Listen for the removal of the full notebook cells\n",
       "var notebookContainer = gd.closest('#notebook-container');\n",
       "if (notebookContainer) {{\n",
       "    x.observe(notebookContainer, {childList: true});\n",
       "}}\n",
       "\n",
       "// Listen for the clearing of the current output cell\n",
       "var outputEl = gd.closest('.output');\n",
       "if (outputEl) {{\n",
       "    x.observe(outputEl, {childList: true});\n",
       "}}\n",
       "\n",
       "                        })                };                });            </script>        </div>"
      ]
     },
     "metadata": {},
     "output_type": "display_data"
    }
   ],
   "source": [
    "#Dependiendo de la cantidad de hijos y el estado civil se infiere si tiene casa o no\n",
    "fig = px.box(df, y = 'Children', x = \"Home Owner\", color = \"Marital Status\")\n",
    "fig.show()"
   ]
  },
  {
   "cell_type": "code",
   "execution_count": 941,
   "id": "5801ef7f",
   "metadata": {},
   "outputs": [
    {
     "data": {
      "text/html": [
       "<div>\n",
       "<style scoped>\n",
       "    .dataframe tbody tr th:only-of-type {\n",
       "        vertical-align: middle;\n",
       "    }\n",
       "\n",
       "    .dataframe tbody tr th {\n",
       "        vertical-align: top;\n",
       "    }\n",
       "\n",
       "    .dataframe thead th {\n",
       "        text-align: right;\n",
       "    }\n",
       "</style>\n",
       "<table border=\"1\" class=\"dataframe\">\n",
       "  <thead>\n",
       "    <tr style=\"text-align: right;\">\n",
       "      <th></th>\n",
       "      <th>ID</th>\n",
       "      <th>Marital Status</th>\n",
       "      <th>Gender</th>\n",
       "      <th>Income</th>\n",
       "      <th>Children</th>\n",
       "      <th>Education</th>\n",
       "      <th>Occupation</th>\n",
       "      <th>Home Owner</th>\n",
       "      <th>Cars</th>\n",
       "      <th>Commute Distance</th>\n",
       "      <th>Region</th>\n",
       "      <th>Age</th>\n",
       "      <th>Purchased Bike</th>\n",
       "    </tr>\n",
       "  </thead>\n",
       "  <tbody>\n",
       "    <tr>\n",
       "      <th>12</th>\n",
       "      <td>11434</td>\n",
       "      <td>Married</td>\n",
       "      <td>Male</td>\n",
       "      <td>170000.0</td>\n",
       "      <td>5.0</td>\n",
       "      <td>Partial College</td>\n",
       "      <td>Professional</td>\n",
       "      <td>Yes</td>\n",
       "      <td>NaN</td>\n",
       "      <td>0-1 Miles</td>\n",
       "      <td>Europe</td>\n",
       "      <td>55.0</td>\n",
       "      <td>No</td>\n",
       "    </tr>\n",
       "    <tr>\n",
       "      <th>196</th>\n",
       "      <td>16209</td>\n",
       "      <td>Single</td>\n",
       "      <td>Female</td>\n",
       "      <td>50000.0</td>\n",
       "      <td>0.0</td>\n",
       "      <td>Graduate Degree</td>\n",
       "      <td>Skilled Manual</td>\n",
       "      <td>Yes</td>\n",
       "      <td>NaN</td>\n",
       "      <td>1-2 Miles</td>\n",
       "      <td>Europe</td>\n",
       "      <td>36.0</td>\n",
       "      <td>No</td>\n",
       "    </tr>\n",
       "    <tr>\n",
       "      <th>202</th>\n",
       "      <td>18626</td>\n",
       "      <td>Single</td>\n",
       "      <td>Male</td>\n",
       "      <td>40000.0</td>\n",
       "      <td>2.0</td>\n",
       "      <td>Partial College</td>\n",
       "      <td>Clerical</td>\n",
       "      <td>Yes</td>\n",
       "      <td>NaN</td>\n",
       "      <td>1-2 Miles</td>\n",
       "      <td>Europe</td>\n",
       "      <td>33.0</td>\n",
       "      <td>Yes</td>\n",
       "    </tr>\n",
       "    <tr>\n",
       "      <th>351</th>\n",
       "      <td>13572</td>\n",
       "      <td>Single</td>\n",
       "      <td>Male</td>\n",
       "      <td>10000.0</td>\n",
       "      <td>3.0</td>\n",
       "      <td>High School</td>\n",
       "      <td>Manual</td>\n",
       "      <td>Yes</td>\n",
       "      <td>NaN</td>\n",
       "      <td>0-1 Miles</td>\n",
       "      <td>Europe</td>\n",
       "      <td>37.0</td>\n",
       "      <td>Yes</td>\n",
       "    </tr>\n",
       "    <tr>\n",
       "      <th>448</th>\n",
       "      <td>11383</td>\n",
       "      <td>Married</td>\n",
       "      <td>Female</td>\n",
       "      <td>30000.0</td>\n",
       "      <td>3.0</td>\n",
       "      <td>Graduate Degree</td>\n",
       "      <td>Clerical</td>\n",
       "      <td>Yes</td>\n",
       "      <td>NaN</td>\n",
       "      <td>0-1 Miles</td>\n",
       "      <td>Europe</td>\n",
       "      <td>46.0</td>\n",
       "      <td>No</td>\n",
       "    </tr>\n",
       "    <tr>\n",
       "      <th>511</th>\n",
       "      <td>12207</td>\n",
       "      <td>Single</td>\n",
       "      <td>Male</td>\n",
       "      <td>80000.0</td>\n",
       "      <td>4.0</td>\n",
       "      <td>Bachelors</td>\n",
       "      <td>Management</td>\n",
       "      <td>Yes</td>\n",
       "      <td>NaN</td>\n",
       "      <td>5-10 Miles</td>\n",
       "      <td>North America</td>\n",
       "      <td>66.0</td>\n",
       "      <td>Yes</td>\n",
       "    </tr>\n",
       "    <tr>\n",
       "      <th>561</th>\n",
       "      <td>27218</td>\n",
       "      <td>Married</td>\n",
       "      <td>Female</td>\n",
       "      <td>20000.0</td>\n",
       "      <td>2.0</td>\n",
       "      <td>Partial High School</td>\n",
       "      <td>Clerical</td>\n",
       "      <td>No</td>\n",
       "      <td>NaN</td>\n",
       "      <td>0-1 Miles</td>\n",
       "      <td>North America</td>\n",
       "      <td>48.0</td>\n",
       "      <td>No</td>\n",
       "    </tr>\n",
       "    <tr>\n",
       "      <th>615</th>\n",
       "      <td>11538</td>\n",
       "      <td>Single</td>\n",
       "      <td>Female</td>\n",
       "      <td>60000.0</td>\n",
       "      <td>4.0</td>\n",
       "      <td>Graduate Degree</td>\n",
       "      <td>Skilled Manual</td>\n",
       "      <td>No</td>\n",
       "      <td>NaN</td>\n",
       "      <td>0-1 Miles</td>\n",
       "      <td>North America</td>\n",
       "      <td>47.0</td>\n",
       "      <td>Yes</td>\n",
       "    </tr>\n",
       "    <tr>\n",
       "      <th>933</th>\n",
       "      <td>11941</td>\n",
       "      <td>Single</td>\n",
       "      <td>Male</td>\n",
       "      <td>60000.0</td>\n",
       "      <td>0.0</td>\n",
       "      <td>Partial College</td>\n",
       "      <td>Skilled Manual</td>\n",
       "      <td>Yes</td>\n",
       "      <td>NaN</td>\n",
       "      <td>5-10 Miles</td>\n",
       "      <td>North America</td>\n",
       "      <td>29.0</td>\n",
       "      <td>No</td>\n",
       "    </tr>\n",
       "  </tbody>\n",
       "</table>\n",
       "</div>"
      ],
      "text/plain": [
       "        ID Marital Status  Gender    Income  Children            Education  \\\n",
       "12   11434        Married    Male  170000.0       5.0      Partial College   \n",
       "196  16209         Single  Female   50000.0       0.0      Graduate Degree   \n",
       "202  18626         Single    Male   40000.0       2.0      Partial College   \n",
       "351  13572         Single    Male   10000.0       3.0          High School   \n",
       "448  11383        Married  Female   30000.0       3.0      Graduate Degree   \n",
       "511  12207         Single    Male   80000.0       4.0            Bachelors   \n",
       "561  27218        Married  Female   20000.0       2.0  Partial High School   \n",
       "615  11538         Single  Female   60000.0       4.0      Graduate Degree   \n",
       "933  11941         Single    Male   60000.0       0.0      Partial College   \n",
       "\n",
       "         Occupation Home Owner  Cars Commute Distance         Region   Age  \\\n",
       "12     Professional        Yes   NaN        0-1 Miles         Europe  55.0   \n",
       "196  Skilled Manual        Yes   NaN        1-2 Miles         Europe  36.0   \n",
       "202        Clerical        Yes   NaN        1-2 Miles         Europe  33.0   \n",
       "351          Manual        Yes   NaN        0-1 Miles         Europe  37.0   \n",
       "448        Clerical        Yes   NaN        0-1 Miles         Europe  46.0   \n",
       "511      Management        Yes   NaN       5-10 Miles  North America  66.0   \n",
       "561        Clerical         No   NaN        0-1 Miles  North America  48.0   \n",
       "615  Skilled Manual         No   NaN        0-1 Miles  North America  47.0   \n",
       "933  Skilled Manual        Yes   NaN       5-10 Miles  North America  29.0   \n",
       "\n",
       "    Purchased Bike  \n",
       "12              No  \n",
       "196             No  \n",
       "202            Yes  \n",
       "351            Yes  \n",
       "448             No  \n",
       "511            Yes  \n",
       "561             No  \n",
       "615            Yes  \n",
       "933             No  "
      ]
     },
     "execution_count": 941,
     "metadata": {},
     "output_type": "execute_result"
    }
   ],
   "source": [
    "na_values_cars = df[df['Cars'].isna()]\n",
    "na_values_cars"
   ]
  },
  {
   "cell_type": "code",
   "execution_count": 942,
   "id": "2fe7d0be",
   "metadata": {},
   "outputs": [
    {
     "data": {
      "application/vnd.plotly.v1+json": {
       "config": {
        "plotlyServerURL": "https://plot.ly"
       },
       "data": [
        {
         "alignmentgroup": "True",
         "hovertemplate": "Home Owner=Yes<br>Cars=%{x}<br>Income=%{y}<extra></extra>",
         "legendgroup": "Yes",
         "marker": {
          "color": "#636efa"
         },
         "name": "Yes",
         "notched": false,
         "offsetgroup": "Yes",
         "orientation": "v",
         "showlegend": true,
         "type": "box",
         "x": [
          0,
          1,
          0,
          0,
          2,
          1,
          null,
          1,
          1,
          0,
          1,
          2,
          0,
          4,
          0,
          0,
          2,
          0,
          1,
          2,
          2,
          0,
          0,
          0,
          1,
          2,
          0,
          0,
          2,
          0,
          0,
          1,
          0,
          1,
          3,
          0,
          2,
          0,
          1,
          1,
          4,
          4,
          4,
          2,
          2,
          0,
          2,
          0,
          1,
          4,
          1,
          2,
          2,
          1,
          1,
          0,
          2,
          0,
          0,
          1,
          2,
          2,
          0,
          2,
          0,
          2,
          0,
          2,
          2,
          4,
          4,
          1,
          1,
          1,
          1,
          1,
          3,
          0,
          2,
          2,
          1,
          2,
          2,
          0,
          3,
          0,
          0,
          2,
          1,
          3,
          2,
          4,
          0,
          1,
          0,
          1,
          1,
          3,
          0,
          4,
          2,
          1,
          0,
          2,
          0,
          0,
          0,
          2,
          1,
          4,
          1,
          2,
          0,
          2,
          4,
          0,
          null,
          1,
          0,
          null,
          1,
          0,
          2,
          0,
          0,
          1,
          0,
          0,
          3,
          0,
          1,
          1,
          4,
          0,
          1,
          2,
          0,
          3,
          3,
          0,
          0,
          0,
          0,
          0,
          3,
          0,
          2,
          4,
          3,
          4,
          1,
          3,
          0,
          2,
          0,
          0,
          0,
          4,
          4,
          0,
          1,
          0,
          3,
          0,
          2,
          2,
          1,
          3,
          0,
          1,
          0,
          0,
          0,
          3,
          2,
          0,
          1,
          4,
          0,
          2,
          0,
          3,
          0,
          0,
          2,
          1,
          2,
          0,
          1,
          1,
          1,
          1,
          1,
          2,
          1,
          0,
          0,
          0,
          2,
          0,
          2,
          2,
          2,
          3,
          4,
          1,
          2,
          4,
          0,
          1,
          2,
          0,
          2,
          null,
          2,
          3,
          3,
          2,
          3,
          3,
          0,
          1,
          2,
          1,
          1,
          3,
          1,
          3,
          1,
          4,
          1,
          0,
          2,
          2,
          2,
          0,
          0,
          4,
          0,
          1,
          2,
          0,
          0,
          1,
          2,
          1,
          4,
          0,
          0,
          0,
          2,
          0,
          0,
          0,
          4,
          1,
          2,
          0,
          0,
          3,
          2,
          1,
          4,
          0,
          1,
          2,
          2,
          0,
          3,
          1,
          2,
          0,
          3,
          2,
          2,
          2,
          2,
          2,
          0,
          1,
          1,
          1,
          0,
          null,
          0,
          0,
          0,
          2,
          0,
          4,
          2,
          2,
          0,
          1,
          0,
          2,
          0,
          3,
          0,
          0,
          0,
          1,
          0,
          1,
          1,
          0,
          0,
          2,
          4,
          0,
          2,
          2,
          0,
          2,
          1,
          3,
          0,
          2,
          1,
          0,
          1,
          1,
          0,
          1,
          4,
          1,
          4,
          2,
          1,
          1,
          null,
          1,
          2,
          2,
          2,
          1,
          2,
          2,
          2,
          3,
          2,
          0,
          1,
          1,
          1,
          2,
          2,
          2,
          3,
          1,
          1,
          0,
          2,
          0,
          2,
          2,
          2,
          2,
          3,
          2,
          2,
          0,
          0,
          0,
          2,
          0,
          0,
          0,
          1,
          1,
          2,
          1,
          1,
          2,
          2,
          2,
          2,
          2,
          1,
          1,
          1,
          4,
          2,
          2,
          1,
          0,
          2,
          3,
          1,
          0,
          2,
          0,
          2,
          2,
          1,
          4,
          1,
          2,
          0,
          2,
          0,
          0,
          3,
          2,
          1,
          1,
          2,
          4,
          4,
          0,
          2,
          1,
          4,
          1,
          1,
          1,
          2,
          2,
          2,
          0,
          3,
          0,
          2,
          3,
          2,
          3,
          2,
          2,
          2,
          0,
          3,
          0,
          2,
          2,
          1,
          1,
          1,
          2,
          0,
          1,
          0,
          4,
          1,
          0,
          2,
          1,
          0,
          2,
          0,
          2,
          4,
          1,
          2,
          3,
          2,
          1,
          2,
          2,
          0,
          1,
          2,
          1,
          2,
          4,
          0,
          1,
          1,
          1,
          4,
          1,
          2,
          1,
          1,
          2,
          0,
          1,
          0,
          2,
          4,
          2,
          2,
          3,
          1,
          2,
          1,
          2,
          1,
          1,
          1,
          1,
          1,
          2,
          3,
          1,
          0,
          0,
          3,
          1,
          2,
          0,
          2,
          2,
          2,
          0,
          3,
          0,
          0,
          2,
          3,
          2,
          4,
          0,
          0,
          0,
          2,
          2,
          3,
          1,
          0,
          2,
          3,
          2,
          1,
          2,
          2,
          1,
          2,
          2,
          2,
          1,
          0,
          2,
          2,
          1,
          2,
          2,
          2,
          2,
          2,
          2,
          2,
          2,
          2,
          0,
          0,
          1,
          2,
          1,
          2,
          2,
          0,
          0,
          2,
          2,
          2,
          0,
          0,
          2,
          0,
          2,
          0,
          2,
          3,
          1,
          2,
          2,
          2,
          1,
          0,
          2,
          1,
          1,
          2,
          1,
          0,
          2,
          2,
          3,
          1,
          2,
          2,
          2,
          1,
          0,
          2,
          2,
          2,
          0,
          2,
          0,
          1,
          2,
          2,
          0,
          0,
          0,
          1,
          3,
          2,
          0,
          0,
          2,
          0,
          3,
          3,
          2,
          2,
          0,
          1,
          1,
          0,
          2,
          0,
          2,
          2,
          1,
          0,
          2,
          4,
          2,
          2,
          2,
          1,
          1,
          0,
          2,
          0,
          2,
          2,
          1,
          null,
          0,
          1,
          2,
          0,
          2,
          0,
          0,
          2,
          0,
          2,
          2,
          0,
          1,
          1,
          2,
          0,
          2,
          0,
          1,
          3,
          2,
          2,
          1,
          0,
          1,
          2,
          1,
          2,
          0,
          2,
          2,
          3,
          1,
          3,
          4,
          2,
          2,
          4,
          2,
          2,
          0,
          3,
          2,
          0,
          2
         ],
         "x0": " ",
         "xaxis": "x",
         "y": [
          40000,
          30000,
          10000,
          40000,
          20000,
          null,
          170000,
          40000,
          10000,
          30000,
          40000,
          20000,
          40000,
          80000,
          40000,
          30000,
          70000,
          20000,
          10000,
          10000,
          40000,
          10000,
          20000,
          20000,
          60000,
          40000,
          40000,
          20000,
          80000,
          40000,
          40000,
          60000,
          10000,
          40000,
          60000,
          30000,
          30000,
          40000,
          30000,
          20000,
          120000,
          130000,
          130000,
          80000,
          40000,
          30000,
          10000,
          30000,
          10000,
          80000,
          60000,
          30000,
          90000,
          30000,
          40000,
          40000,
          20000,
          10000,
          10000,
          60000,
          70000,
          70000,
          40000,
          40000,
          20000,
          30000,
          20000,
          80000,
          40000,
          150000,
          80000,
          30000,
          30000,
          10000,
          10000,
          60000,
          90000,
          40000,
          40000,
          30000,
          10000,
          20000,
          20000,
          40000,
          80000,
          30000,
          40000,
          20000,
          60000,
          100000,
          10000,
          130000,
          10000,
          60000,
          20000,
          10000,
          90000,
          100000,
          30000,
          130000,
          80000,
          10000,
          50000,
          80000,
          20000,
          10000,
          10000,
          40000,
          90000,
          70000,
          30000,
          30000,
          null,
          80000,
          70000,
          20000,
          50000,
          60000,
          10000,
          40000,
          60000,
          30000,
          20000,
          40000,
          30000,
          80000,
          50000,
          30000,
          20000,
          10000,
          10000,
          60000,
          70000,
          20000,
          20000,
          10000,
          20000,
          80000,
          120000,
          40000,
          30000,
          20000,
          10000,
          30000,
          70000,
          10000,
          30000,
          110000,
          130000,
          100000,
          70000,
          130000,
          100000,
          20000,
          30000,
          20000,
          50000,
          100000,
          150000,
          30000,
          40000,
          10000,
          70000,
          40000,
          30000,
          20000,
          100000,
          70000,
          10000,
          10000,
          90000,
          10000,
          10000,
          100000,
          10000,
          10000,
          60000,
          100000,
          130000,
          30000,
          40000,
          110000,
          100000,
          30000,
          30000,
          80000,
          10000,
          90000,
          10000,
          40000,
          20000,
          120000,
          60000,
          20000,
          50000,
          30000,
          30000,
          100000,
          10000,
          90000,
          30000,
          40000,
          90000,
          80000,
          130000,
          90000,
          10000,
          120000,
          20000,
          30000,
          10000,
          20000,
          20000,
          10000,
          80000,
          80000,
          150000,
          10000,
          90000,
          80000,
          130000,
          40000,
          40000,
          10000,
          60000,
          130000,
          100000,
          80000,
          40000,
          80000,
          40000,
          20000,
          60000,
          30000,
          80000,
          40000,
          30000,
          120000,
          30000,
          80000,
          10000,
          40000,
          30000,
          60000,
          10000,
          30000,
          110000,
          40000,
          10000,
          20000,
          30000,
          30000,
          40000,
          40000,
          130000,
          20000,
          70000,
          40000,
          40000,
          80000,
          30000,
          10000,
          100000,
          10000,
          30000,
          10000,
          40000,
          90000,
          110000,
          30000,
          30000,
          20000,
          110000,
          30000,
          80000,
          30000,
          70000,
          null,
          80000,
          40000,
          40000,
          130000,
          40000,
          30000,
          40000,
          10000,
          40000,
          70000,
          20000,
          120000,
          20000,
          120000,
          40000,
          20000,
          30000,
          40000,
          30000,
          80000,
          30000,
          40000,
          30000,
          70000,
          30000,
          40000,
          90000,
          40000,
          10000,
          30000,
          90000,
          40000,
          10000,
          20000,
          60000,
          70000,
          40000,
          70000,
          70000,
          60000,
          60000,
          70000,
          80000,
          60000,
          50000,
          40000,
          130000,
          70000,
          100000,
          70000,
          40000,
          null,
          80000,
          60000,
          60000,
          70000,
          60000,
          80000,
          80000,
          40000,
          80000,
          60000,
          110000,
          50000,
          30000,
          60000,
          60000,
          30000,
          60000,
          40000,
          50000,
          80000,
          40000,
          80000,
          70000,
          50000,
          40000,
          70000,
          60000,
          60000,
          130000,
          50000,
          60000,
          60000,
          80000,
          40000,
          50000,
          60000,
          60000,
          70000,
          30000,
          30000,
          60000,
          40000,
          70000,
          50000,
          70000,
          40000,
          30000,
          60000,
          80000,
          60000,
          40000,
          120000,
          60000,
          60000,
          40000,
          80000,
          60000,
          130000,
          90000,
          60000,
          80000,
          70000,
          80000,
          20000,
          90000,
          130000,
          60000,
          60000,
          60000,
          40000,
          70000,
          40000,
          70000,
          60000,
          60000,
          80000,
          30000,
          110000,
          100000,
          80000,
          40000,
          40000,
          100000,
          70000,
          60000,
          70000,
          60000,
          60000,
          60000,
          50000,
          70000,
          80000,
          130000,
          120000,
          70000,
          100000,
          60000,
          50000,
          70000,
          70000,
          60000,
          60000,
          40000,
          70000,
          40000,
          70000,
          50000,
          60000,
          60000,
          70000,
          80000,
          130000,
          60000,
          60000,
          60000,
          70000,
          60000,
          40000,
          70000,
          30000,
          100000,
          40000,
          60000,
          90000,
          60000,
          40000,
          30000,
          30000,
          50000,
          70000,
          20000,
          70000,
          30000,
          120000,
          50000,
          40000,
          70000,
          70000,
          70000,
          70000,
          60000,
          70000,
          70000,
          40000,
          60000,
          90000,
          70000,
          70000,
          110000,
          80000,
          30000,
          130000,
          70000,
          40000,
          60000,
          60000,
          60000,
          30000,
          40000,
          60000,
          40000,
          30000,
          110000,
          70000,
          60000,
          60000,
          130000,
          70000,
          30000,
          60000,
          60000,
          40000,
          30000,
          60000,
          60000,
          50000,
          50000,
          70000,
          50000,
          60000,
          100000,
          60000,
          60000,
          80000,
          70000,
          40000,
          90000,
          60000,
          80000,
          70000,
          60000,
          10000,
          50000,
          20000,
          40000,
          30000,
          50000,
          60000,
          70000,
          60000,
          50000,
          60000,
          70000,
          40000,
          40000,
          40000,
          10000,
          30000,
          40000,
          70000,
          70000,
          70000,
          70000,
          60000,
          60000,
          40000,
          40000,
          110000,
          60000,
          30000,
          70000,
          70000,
          80000,
          40000,
          70000,
          60000,
          60000,
          40000,
          60000,
          80000,
          80000,
          70000,
          120000,
          60000,
          40000,
          20000,
          40000,
          60000,
          60000,
          60000,
          40000,
          60000,
          30000,
          30000,
          50000,
          40000,
          60000,
          30000,
          60000,
          60000,
          70000,
          50000,
          30000,
          70000,
          70000,
          50000,
          90000,
          80000,
          80000,
          30000,
          60000,
          80000,
          20000,
          70000,
          50000,
          70000,
          40000,
          100000,
          70000,
          60000,
          70000,
          50000,
          50000,
          70000,
          70000,
          40000,
          60000,
          80000,
          90000,
          90000,
          60000,
          50000,
          60000,
          40000,
          80000,
          40000,
          60000,
          60000,
          110000,
          70000,
          40000,
          30000,
          70000,
          90000,
          50000,
          40000,
          70000,
          60000,
          60000,
          40000,
          60000,
          60000,
          60000,
          60000,
          70000,
          40000,
          60000,
          60000,
          40000,
          50000,
          90000,
          70000,
          70000,
          40000,
          60000,
          40000,
          70000,
          60000,
          90000,
          60000,
          120000,
          60000,
          90000,
          70000,
          50000,
          80000,
          60000,
          30000,
          70000,
          70000,
          60000,
          80000,
          80000,
          40000,
          80000,
          110000,
          130000,
          50000,
          40000,
          60000,
          70000,
          60000,
          80000,
          60000,
          70000,
          60000
         ],
         "y0": " ",
         "yaxis": "y"
        },
        {
         "alignmentgroup": "True",
         "hovertemplate": "Home Owner=No<br>Cars=%{x}<br>Income=%{y}<extra></extra>",
         "legendgroup": "No",
         "marker": {
          "color": "#EF553B"
         },
         "name": "No",
         "notched": false,
         "offsetgroup": "No",
         "orientation": "v",
         "showlegend": true,
         "type": "box",
         "x": [
          2,
          0,
          2,
          4,
          1,
          2,
          3,
          1,
          1,
          1,
          2,
          1,
          1,
          2,
          2,
          2,
          1,
          1,
          0,
          3,
          2,
          1,
          4,
          3,
          1,
          4,
          1,
          2,
          2,
          1,
          2,
          2,
          2,
          1,
          1,
          3,
          1,
          1,
          1,
          1,
          1,
          2,
          1,
          2,
          0,
          0,
          1,
          1,
          0,
          1,
          3,
          4,
          0,
          1,
          2,
          0,
          1,
          1,
          0,
          1,
          3,
          2,
          0,
          1,
          1,
          2,
          1,
          1,
          2,
          3,
          2,
          2,
          1,
          4,
          2,
          2,
          2,
          1,
          3,
          3,
          1,
          2,
          1,
          4,
          2,
          2,
          2,
          0,
          2,
          4,
          1,
          1,
          1,
          1,
          2,
          3,
          1,
          4,
          0,
          1,
          1,
          0,
          0,
          0,
          2,
          3,
          0,
          1,
          0,
          1,
          1,
          1,
          2,
          2,
          2,
          0,
          2,
          1,
          1,
          3,
          3,
          0,
          2,
          0,
          2,
          2,
          2,
          1,
          1,
          1,
          0,
          1,
          1,
          0,
          0,
          1,
          2,
          2,
          1,
          1,
          3,
          2,
          3,
          1,
          2,
          1,
          1,
          0,
          1,
          0,
          2,
          1,
          2,
          3,
          1,
          1,
          1,
          0,
          3,
          1,
          2,
          1,
          1,
          4,
          3,
          3,
          1,
          2,
          0,
          2,
          2,
          0,
          1,
          2,
          2,
          1,
          1,
          0,
          3,
          1,
          2,
          1,
          1,
          4,
          2,
          0,
          1,
          2,
          1,
          null,
          2,
          2,
          1,
          3,
          2,
          0,
          2,
          1,
          2,
          1,
          null,
          2,
          2,
          1,
          2,
          2,
          2,
          2,
          1,
          1,
          2,
          3,
          2,
          2,
          2,
          2,
          3,
          2,
          0,
          2,
          1,
          0,
          2,
          2,
          1,
          2,
          0,
          2,
          2,
          2,
          1,
          2,
          0,
          3,
          2,
          2,
          2,
          4,
          3,
          2,
          1,
          0,
          1,
          1,
          2,
          1,
          0,
          2,
          1,
          4,
          0,
          1,
          1,
          2,
          2,
          1,
          2,
          2,
          1,
          2,
          2,
          2,
          2,
          2,
          3,
          1,
          4,
          2,
          1,
          2,
          2,
          1,
          2,
          2,
          4,
          1,
          1,
          1,
          2,
          1,
          1,
          4,
          2,
          2,
          2,
          0,
          0,
          0,
          2,
          2,
          3,
          2,
          2,
          1,
          3,
          0,
          1,
          4,
          1,
          2,
          0,
          2,
          1,
          2,
          3,
          2,
          0,
          3,
          3
         ],
         "x0": " ",
         "xaxis": "x",
         "y": [
          80000,
          30000,
          30000,
          90000,
          60000,
          30000,
          80000,
          40000,
          30000,
          100000,
          20000,
          10000,
          20000,
          80000,
          90000,
          10000,
          30000,
          20000,
          30000,
          170000,
          30000,
          30000,
          80000,
          90000,
          70000,
          130000,
          10000,
          10000,
          10000,
          20000,
          20000,
          20000,
          80000,
          20000,
          40000,
          130000,
          30000,
          20000,
          30000,
          30000,
          30000,
          60000,
          30000,
          40000,
          40000,
          null,
          70000,
          130000,
          10000,
          30000,
          80000,
          100000,
          40000,
          10000,
          30000,
          40000,
          10000,
          40000,
          40000,
          30000,
          100000,
          20000,
          10000,
          20000,
          60000,
          40000,
          10000,
          70000,
          10000,
          110000,
          160000,
          30000,
          10000,
          130000,
          30000,
          80000,
          10000,
          100000,
          80000,
          60000,
          90000,
          90000,
          30000,
          70000,
          80000,
          20000,
          10000,
          30000,
          30000,
          90000,
          10000,
          30000,
          30000,
          20000,
          120000,
          10000,
          100000,
          60000,
          50000,
          20000,
          20000,
          30000,
          30000,
          20000,
          10000,
          70000,
          30000,
          60000,
          40000,
          10000,
          20000,
          60000,
          90000,
          30000,
          10000,
          null,
          40000,
          80000,
          70000,
          130000,
          160000,
          40000,
          40000,
          20000,
          10000,
          20000,
          20000,
          30000,
          30000,
          30000,
          40000,
          60000,
          30000,
          20000,
          40000,
          30000,
          30000,
          30000,
          20000,
          20000,
          130000,
          30000,
          70000,
          10000,
          20000,
          70000,
          70000,
          20000,
          40000,
          90000,
          30000,
          60000,
          30000,
          110000,
          30000,
          30000,
          10000,
          80000,
          90000,
          30000,
          30000,
          30000,
          80000,
          120000,
          80000,
          100000,
          30000,
          70000,
          90000,
          20000,
          70000,
          40000,
          30000,
          40000,
          60000,
          70000,
          40000,
          60000,
          100000,
          60000,
          80000,
          60000,
          70000,
          120000,
          60000,
          80000,
          70000,
          40000,
          50000,
          20000,
          40000,
          40000,
          70000,
          120000,
          60000,
          60000,
          40000,
          40000,
          30000,
          70000,
          60000,
          20000,
          70000,
          80000,
          40000,
          60000,
          30000,
          40000,
          70000,
          70000,
          60000,
          70000,
          30000,
          40000,
          60000,
          40000,
          100000,
          40000,
          60000,
          80000,
          60000,
          80000,
          20000,
          60000,
          130000,
          60000,
          80000,
          60000,
          30000,
          90000,
          60000,
          40000,
          80000,
          40000,
          70000,
          20000,
          60000,
          130000,
          130000,
          70000,
          40000,
          40000,
          70000,
          40000,
          60000,
          40000,
          80000,
          20000,
          60000,
          120000,
          60000,
          80000,
          70000,
          80000,
          40000,
          70000,
          60000,
          80000,
          30000,
          30000,
          40000,
          60000,
          60000,
          40000,
          110000,
          70000,
          170000,
          60000,
          70000,
          70000,
          80000,
          70000,
          130000,
          40000,
          130000,
          50000,
          30000,
          40000,
          20000,
          80000,
          80000,
          110000,
          30000,
          60000,
          30000,
          60000,
          80000,
          70000,
          40000,
          70000,
          70000,
          40000,
          80000,
          50000,
          90000,
          60000,
          70000,
          100000,
          50000,
          30000,
          60000,
          60000,
          40000,
          60000,
          60000,
          30000,
          90000,
          150000,
          100000
         ],
         "y0": " ",
         "yaxis": "y"
        }
       ],
       "layout": {
        "boxmode": "group",
        "legend": {
         "title": {
          "text": "Home Owner"
         },
         "tracegroupgap": 0
        },
        "margin": {
         "t": 60
        },
        "template": {
         "data": {
          "bar": [
           {
            "error_x": {
             "color": "#2a3f5f"
            },
            "error_y": {
             "color": "#2a3f5f"
            },
            "marker": {
             "line": {
              "color": "#E5ECF6",
              "width": 0.5
             },
             "pattern": {
              "fillmode": "overlay",
              "size": 10,
              "solidity": 0.2
             }
            },
            "type": "bar"
           }
          ],
          "barpolar": [
           {
            "marker": {
             "line": {
              "color": "#E5ECF6",
              "width": 0.5
             },
             "pattern": {
              "fillmode": "overlay",
              "size": 10,
              "solidity": 0.2
             }
            },
            "type": "barpolar"
           }
          ],
          "carpet": [
           {
            "aaxis": {
             "endlinecolor": "#2a3f5f",
             "gridcolor": "white",
             "linecolor": "white",
             "minorgridcolor": "white",
             "startlinecolor": "#2a3f5f"
            },
            "baxis": {
             "endlinecolor": "#2a3f5f",
             "gridcolor": "white",
             "linecolor": "white",
             "minorgridcolor": "white",
             "startlinecolor": "#2a3f5f"
            },
            "type": "carpet"
           }
          ],
          "choropleth": [
           {
            "colorbar": {
             "outlinewidth": 0,
             "ticks": ""
            },
            "type": "choropleth"
           }
          ],
          "contour": [
           {
            "colorbar": {
             "outlinewidth": 0,
             "ticks": ""
            },
            "colorscale": [
             [
              0,
              "#0d0887"
             ],
             [
              0.1111111111111111,
              "#46039f"
             ],
             [
              0.2222222222222222,
              "#7201a8"
             ],
             [
              0.3333333333333333,
              "#9c179e"
             ],
             [
              0.4444444444444444,
              "#bd3786"
             ],
             [
              0.5555555555555556,
              "#d8576b"
             ],
             [
              0.6666666666666666,
              "#ed7953"
             ],
             [
              0.7777777777777778,
              "#fb9f3a"
             ],
             [
              0.8888888888888888,
              "#fdca26"
             ],
             [
              1,
              "#f0f921"
             ]
            ],
            "type": "contour"
           }
          ],
          "contourcarpet": [
           {
            "colorbar": {
             "outlinewidth": 0,
             "ticks": ""
            },
            "type": "contourcarpet"
           }
          ],
          "heatmap": [
           {
            "colorbar": {
             "outlinewidth": 0,
             "ticks": ""
            },
            "colorscale": [
             [
              0,
              "#0d0887"
             ],
             [
              0.1111111111111111,
              "#46039f"
             ],
             [
              0.2222222222222222,
              "#7201a8"
             ],
             [
              0.3333333333333333,
              "#9c179e"
             ],
             [
              0.4444444444444444,
              "#bd3786"
             ],
             [
              0.5555555555555556,
              "#d8576b"
             ],
             [
              0.6666666666666666,
              "#ed7953"
             ],
             [
              0.7777777777777778,
              "#fb9f3a"
             ],
             [
              0.8888888888888888,
              "#fdca26"
             ],
             [
              1,
              "#f0f921"
             ]
            ],
            "type": "heatmap"
           }
          ],
          "heatmapgl": [
           {
            "colorbar": {
             "outlinewidth": 0,
             "ticks": ""
            },
            "colorscale": [
             [
              0,
              "#0d0887"
             ],
             [
              0.1111111111111111,
              "#46039f"
             ],
             [
              0.2222222222222222,
              "#7201a8"
             ],
             [
              0.3333333333333333,
              "#9c179e"
             ],
             [
              0.4444444444444444,
              "#bd3786"
             ],
             [
              0.5555555555555556,
              "#d8576b"
             ],
             [
              0.6666666666666666,
              "#ed7953"
             ],
             [
              0.7777777777777778,
              "#fb9f3a"
             ],
             [
              0.8888888888888888,
              "#fdca26"
             ],
             [
              1,
              "#f0f921"
             ]
            ],
            "type": "heatmapgl"
           }
          ],
          "histogram": [
           {
            "marker": {
             "pattern": {
              "fillmode": "overlay",
              "size": 10,
              "solidity": 0.2
             }
            },
            "type": "histogram"
           }
          ],
          "histogram2d": [
           {
            "colorbar": {
             "outlinewidth": 0,
             "ticks": ""
            },
            "colorscale": [
             [
              0,
              "#0d0887"
             ],
             [
              0.1111111111111111,
              "#46039f"
             ],
             [
              0.2222222222222222,
              "#7201a8"
             ],
             [
              0.3333333333333333,
              "#9c179e"
             ],
             [
              0.4444444444444444,
              "#bd3786"
             ],
             [
              0.5555555555555556,
              "#d8576b"
             ],
             [
              0.6666666666666666,
              "#ed7953"
             ],
             [
              0.7777777777777778,
              "#fb9f3a"
             ],
             [
              0.8888888888888888,
              "#fdca26"
             ],
             [
              1,
              "#f0f921"
             ]
            ],
            "type": "histogram2d"
           }
          ],
          "histogram2dcontour": [
           {
            "colorbar": {
             "outlinewidth": 0,
             "ticks": ""
            },
            "colorscale": [
             [
              0,
              "#0d0887"
             ],
             [
              0.1111111111111111,
              "#46039f"
             ],
             [
              0.2222222222222222,
              "#7201a8"
             ],
             [
              0.3333333333333333,
              "#9c179e"
             ],
             [
              0.4444444444444444,
              "#bd3786"
             ],
             [
              0.5555555555555556,
              "#d8576b"
             ],
             [
              0.6666666666666666,
              "#ed7953"
             ],
             [
              0.7777777777777778,
              "#fb9f3a"
             ],
             [
              0.8888888888888888,
              "#fdca26"
             ],
             [
              1,
              "#f0f921"
             ]
            ],
            "type": "histogram2dcontour"
           }
          ],
          "mesh3d": [
           {
            "colorbar": {
             "outlinewidth": 0,
             "ticks": ""
            },
            "type": "mesh3d"
           }
          ],
          "parcoords": [
           {
            "line": {
             "colorbar": {
              "outlinewidth": 0,
              "ticks": ""
             }
            },
            "type": "parcoords"
           }
          ],
          "pie": [
           {
            "automargin": true,
            "type": "pie"
           }
          ],
          "scatter": [
           {
            "fillpattern": {
             "fillmode": "overlay",
             "size": 10,
             "solidity": 0.2
            },
            "type": "scatter"
           }
          ],
          "scatter3d": [
           {
            "line": {
             "colorbar": {
              "outlinewidth": 0,
              "ticks": ""
             }
            },
            "marker": {
             "colorbar": {
              "outlinewidth": 0,
              "ticks": ""
             }
            },
            "type": "scatter3d"
           }
          ],
          "scattercarpet": [
           {
            "marker": {
             "colorbar": {
              "outlinewidth": 0,
              "ticks": ""
             }
            },
            "type": "scattercarpet"
           }
          ],
          "scattergeo": [
           {
            "marker": {
             "colorbar": {
              "outlinewidth": 0,
              "ticks": ""
             }
            },
            "type": "scattergeo"
           }
          ],
          "scattergl": [
           {
            "marker": {
             "colorbar": {
              "outlinewidth": 0,
              "ticks": ""
             }
            },
            "type": "scattergl"
           }
          ],
          "scattermapbox": [
           {
            "marker": {
             "colorbar": {
              "outlinewidth": 0,
              "ticks": ""
             }
            },
            "type": "scattermapbox"
           }
          ],
          "scatterpolar": [
           {
            "marker": {
             "colorbar": {
              "outlinewidth": 0,
              "ticks": ""
             }
            },
            "type": "scatterpolar"
           }
          ],
          "scatterpolargl": [
           {
            "marker": {
             "colorbar": {
              "outlinewidth": 0,
              "ticks": ""
             }
            },
            "type": "scatterpolargl"
           }
          ],
          "scatterternary": [
           {
            "marker": {
             "colorbar": {
              "outlinewidth": 0,
              "ticks": ""
             }
            },
            "type": "scatterternary"
           }
          ],
          "surface": [
           {
            "colorbar": {
             "outlinewidth": 0,
             "ticks": ""
            },
            "colorscale": [
             [
              0,
              "#0d0887"
             ],
             [
              0.1111111111111111,
              "#46039f"
             ],
             [
              0.2222222222222222,
              "#7201a8"
             ],
             [
              0.3333333333333333,
              "#9c179e"
             ],
             [
              0.4444444444444444,
              "#bd3786"
             ],
             [
              0.5555555555555556,
              "#d8576b"
             ],
             [
              0.6666666666666666,
              "#ed7953"
             ],
             [
              0.7777777777777778,
              "#fb9f3a"
             ],
             [
              0.8888888888888888,
              "#fdca26"
             ],
             [
              1,
              "#f0f921"
             ]
            ],
            "type": "surface"
           }
          ],
          "table": [
           {
            "cells": {
             "fill": {
              "color": "#EBF0F8"
             },
             "line": {
              "color": "white"
             }
            },
            "header": {
             "fill": {
              "color": "#C8D4E3"
             },
             "line": {
              "color": "white"
             }
            },
            "type": "table"
           }
          ]
         },
         "layout": {
          "annotationdefaults": {
           "arrowcolor": "#2a3f5f",
           "arrowhead": 0,
           "arrowwidth": 1
          },
          "autotypenumbers": "strict",
          "coloraxis": {
           "colorbar": {
            "outlinewidth": 0,
            "ticks": ""
           }
          },
          "colorscale": {
           "diverging": [
            [
             0,
             "#8e0152"
            ],
            [
             0.1,
             "#c51b7d"
            ],
            [
             0.2,
             "#de77ae"
            ],
            [
             0.3,
             "#f1b6da"
            ],
            [
             0.4,
             "#fde0ef"
            ],
            [
             0.5,
             "#f7f7f7"
            ],
            [
             0.6,
             "#e6f5d0"
            ],
            [
             0.7,
             "#b8e186"
            ],
            [
             0.8,
             "#7fbc41"
            ],
            [
             0.9,
             "#4d9221"
            ],
            [
             1,
             "#276419"
            ]
           ],
           "sequential": [
            [
             0,
             "#0d0887"
            ],
            [
             0.1111111111111111,
             "#46039f"
            ],
            [
             0.2222222222222222,
             "#7201a8"
            ],
            [
             0.3333333333333333,
             "#9c179e"
            ],
            [
             0.4444444444444444,
             "#bd3786"
            ],
            [
             0.5555555555555556,
             "#d8576b"
            ],
            [
             0.6666666666666666,
             "#ed7953"
            ],
            [
             0.7777777777777778,
             "#fb9f3a"
            ],
            [
             0.8888888888888888,
             "#fdca26"
            ],
            [
             1,
             "#f0f921"
            ]
           ],
           "sequentialminus": [
            [
             0,
             "#0d0887"
            ],
            [
             0.1111111111111111,
             "#46039f"
            ],
            [
             0.2222222222222222,
             "#7201a8"
            ],
            [
             0.3333333333333333,
             "#9c179e"
            ],
            [
             0.4444444444444444,
             "#bd3786"
            ],
            [
             0.5555555555555556,
             "#d8576b"
            ],
            [
             0.6666666666666666,
             "#ed7953"
            ],
            [
             0.7777777777777778,
             "#fb9f3a"
            ],
            [
             0.8888888888888888,
             "#fdca26"
            ],
            [
             1,
             "#f0f921"
            ]
           ]
          },
          "colorway": [
           "#636efa",
           "#EF553B",
           "#00cc96",
           "#ab63fa",
           "#FFA15A",
           "#19d3f3",
           "#FF6692",
           "#B6E880",
           "#FF97FF",
           "#FECB52"
          ],
          "font": {
           "color": "#2a3f5f"
          },
          "geo": {
           "bgcolor": "white",
           "lakecolor": "white",
           "landcolor": "#E5ECF6",
           "showlakes": true,
           "showland": true,
           "subunitcolor": "white"
          },
          "hoverlabel": {
           "align": "left"
          },
          "hovermode": "closest",
          "mapbox": {
           "style": "light"
          },
          "paper_bgcolor": "white",
          "plot_bgcolor": "#E5ECF6",
          "polar": {
           "angularaxis": {
            "gridcolor": "white",
            "linecolor": "white",
            "ticks": ""
           },
           "bgcolor": "#E5ECF6",
           "radialaxis": {
            "gridcolor": "white",
            "linecolor": "white",
            "ticks": ""
           }
          },
          "scene": {
           "xaxis": {
            "backgroundcolor": "#E5ECF6",
            "gridcolor": "white",
            "gridwidth": 2,
            "linecolor": "white",
            "showbackground": true,
            "ticks": "",
            "zerolinecolor": "white"
           },
           "yaxis": {
            "backgroundcolor": "#E5ECF6",
            "gridcolor": "white",
            "gridwidth": 2,
            "linecolor": "white",
            "showbackground": true,
            "ticks": "",
            "zerolinecolor": "white"
           },
           "zaxis": {
            "backgroundcolor": "#E5ECF6",
            "gridcolor": "white",
            "gridwidth": 2,
            "linecolor": "white",
            "showbackground": true,
            "ticks": "",
            "zerolinecolor": "white"
           }
          },
          "shapedefaults": {
           "line": {
            "color": "#2a3f5f"
           }
          },
          "ternary": {
           "aaxis": {
            "gridcolor": "white",
            "linecolor": "white",
            "ticks": ""
           },
           "baxis": {
            "gridcolor": "white",
            "linecolor": "white",
            "ticks": ""
           },
           "bgcolor": "#E5ECF6",
           "caxis": {
            "gridcolor": "white",
            "linecolor": "white",
            "ticks": ""
           }
          },
          "title": {
           "x": 0.05
          },
          "xaxis": {
           "automargin": true,
           "gridcolor": "white",
           "linecolor": "white",
           "ticks": "",
           "title": {
            "standoff": 15
           },
           "zerolinecolor": "white",
           "zerolinewidth": 2
          },
          "yaxis": {
           "automargin": true,
           "gridcolor": "white",
           "linecolor": "white",
           "ticks": "",
           "title": {
            "standoff": 15
           },
           "zerolinecolor": "white",
           "zerolinewidth": 2
          }
         }
        },
        "xaxis": {
         "anchor": "y",
         "domain": [
          0,
          1
         ],
         "title": {
          "text": "Cars"
         }
        },
        "yaxis": {
         "anchor": "x",
         "domain": [
          0,
          1
         ],
         "title": {
          "text": "Income"
         }
        }
       }
      },
      "text/html": [
       "<div>                            <div id=\"d87ac600-1224-49d4-a5a9-bb7df2325643\" class=\"plotly-graph-div\" style=\"height:525px; width:100%;\"></div>            <script type=\"text/javascript\">                require([\"plotly\"], function(Plotly) {                    window.PLOTLYENV=window.PLOTLYENV || {};                                    if (document.getElementById(\"d87ac600-1224-49d4-a5a9-bb7df2325643\")) {                    Plotly.newPlot(                        \"d87ac600-1224-49d4-a5a9-bb7df2325643\",                        [{\"alignmentgroup\":\"True\",\"hovertemplate\":\"Home Owner=Yes\\u003cbr\\u003eCars=%{x}\\u003cbr\\u003eIncome=%{y}\\u003cextra\\u003e\\u003c\\u002fextra\\u003e\",\"legendgroup\":\"Yes\",\"marker\":{\"color\":\"#636efa\"},\"name\":\"Yes\",\"notched\":false,\"offsetgroup\":\"Yes\",\"orientation\":\"v\",\"showlegend\":true,\"x\":[0.0,1.0,0.0,0.0,2.0,1.0,null,1.0,1.0,0.0,1.0,2.0,0.0,4.0,0.0,0.0,2.0,0.0,1.0,2.0,2.0,0.0,0.0,0.0,1.0,2.0,0.0,0.0,2.0,0.0,0.0,1.0,0.0,1.0,3.0,0.0,2.0,0.0,1.0,1.0,4.0,4.0,4.0,2.0,2.0,0.0,2.0,0.0,1.0,4.0,1.0,2.0,2.0,1.0,1.0,0.0,2.0,0.0,0.0,1.0,2.0,2.0,0.0,2.0,0.0,2.0,0.0,2.0,2.0,4.0,4.0,1.0,1.0,1.0,1.0,1.0,3.0,0.0,2.0,2.0,1.0,2.0,2.0,0.0,3.0,0.0,0.0,2.0,1.0,3.0,2.0,4.0,0.0,1.0,0.0,1.0,1.0,3.0,0.0,4.0,2.0,1.0,0.0,2.0,0.0,0.0,0.0,2.0,1.0,4.0,1.0,2.0,0.0,2.0,4.0,0.0,null,1.0,0.0,null,1.0,0.0,2.0,0.0,0.0,1.0,0.0,0.0,3.0,0.0,1.0,1.0,4.0,0.0,1.0,2.0,0.0,3.0,3.0,0.0,0.0,0.0,0.0,0.0,3.0,0.0,2.0,4.0,3.0,4.0,1.0,3.0,0.0,2.0,0.0,0.0,0.0,4.0,4.0,0.0,1.0,0.0,3.0,0.0,2.0,2.0,1.0,3.0,0.0,1.0,0.0,0.0,0.0,3.0,2.0,0.0,1.0,4.0,0.0,2.0,0.0,3.0,0.0,0.0,2.0,1.0,2.0,0.0,1.0,1.0,1.0,1.0,1.0,2.0,1.0,0.0,0.0,0.0,2.0,0.0,2.0,2.0,2.0,3.0,4.0,1.0,2.0,4.0,0.0,1.0,2.0,0.0,2.0,null,2.0,3.0,3.0,2.0,3.0,3.0,0.0,1.0,2.0,1.0,1.0,3.0,1.0,3.0,1.0,4.0,1.0,0.0,2.0,2.0,2.0,0.0,0.0,4.0,0.0,1.0,2.0,0.0,0.0,1.0,2.0,1.0,4.0,0.0,0.0,0.0,2.0,0.0,0.0,0.0,4.0,1.0,2.0,0.0,0.0,3.0,2.0,1.0,4.0,0.0,1.0,2.0,2.0,0.0,3.0,1.0,2.0,0.0,3.0,2.0,2.0,2.0,2.0,2.0,0.0,1.0,1.0,1.0,0.0,null,0.0,0.0,0.0,2.0,0.0,4.0,2.0,2.0,0.0,1.0,0.0,2.0,0.0,3.0,0.0,0.0,0.0,1.0,0.0,1.0,1.0,0.0,0.0,2.0,4.0,0.0,2.0,2.0,0.0,2.0,1.0,3.0,0.0,2.0,1.0,0.0,1.0,1.0,0.0,1.0,4.0,1.0,4.0,2.0,1.0,1.0,null,1.0,2.0,2.0,2.0,1.0,2.0,2.0,2.0,3.0,2.0,0.0,1.0,1.0,1.0,2.0,2.0,2.0,3.0,1.0,1.0,0.0,2.0,0.0,2.0,2.0,2.0,2.0,3.0,2.0,2.0,0.0,0.0,0.0,2.0,0.0,0.0,0.0,1.0,1.0,2.0,1.0,1.0,2.0,2.0,2.0,2.0,2.0,1.0,1.0,1.0,4.0,2.0,2.0,1.0,0.0,2.0,3.0,1.0,0.0,2.0,0.0,2.0,2.0,1.0,4.0,1.0,2.0,0.0,2.0,0.0,0.0,3.0,2.0,1.0,1.0,2.0,4.0,4.0,0.0,2.0,1.0,4.0,1.0,1.0,1.0,2.0,2.0,2.0,0.0,3.0,0.0,2.0,3.0,2.0,3.0,2.0,2.0,2.0,0.0,3.0,0.0,2.0,2.0,1.0,1.0,1.0,2.0,0.0,1.0,0.0,4.0,1.0,0.0,2.0,1.0,0.0,2.0,0.0,2.0,4.0,1.0,2.0,3.0,2.0,1.0,2.0,2.0,0.0,1.0,2.0,1.0,2.0,4.0,0.0,1.0,1.0,1.0,4.0,1.0,2.0,1.0,1.0,2.0,0.0,1.0,0.0,2.0,4.0,2.0,2.0,3.0,1.0,2.0,1.0,2.0,1.0,1.0,1.0,1.0,1.0,2.0,3.0,1.0,0.0,0.0,3.0,1.0,2.0,0.0,2.0,2.0,2.0,0.0,3.0,0.0,0.0,2.0,3.0,2.0,4.0,0.0,0.0,0.0,2.0,2.0,3.0,1.0,0.0,2.0,3.0,2.0,1.0,2.0,2.0,1.0,2.0,2.0,2.0,1.0,0.0,2.0,2.0,1.0,2.0,2.0,2.0,2.0,2.0,2.0,2.0,2.0,2.0,0.0,0.0,1.0,2.0,1.0,2.0,2.0,0.0,0.0,2.0,2.0,2.0,0.0,0.0,2.0,0.0,2.0,0.0,2.0,3.0,1.0,2.0,2.0,2.0,1.0,0.0,2.0,1.0,1.0,2.0,1.0,0.0,2.0,2.0,3.0,1.0,2.0,2.0,2.0,1.0,0.0,2.0,2.0,2.0,0.0,2.0,0.0,1.0,2.0,2.0,0.0,0.0,0.0,1.0,3.0,2.0,0.0,0.0,2.0,0.0,3.0,3.0,2.0,2.0,0.0,1.0,1.0,0.0,2.0,0.0,2.0,2.0,1.0,0.0,2.0,4.0,2.0,2.0,2.0,1.0,1.0,0.0,2.0,0.0,2.0,2.0,1.0,null,0.0,1.0,2.0,0.0,2.0,0.0,0.0,2.0,0.0,2.0,2.0,0.0,1.0,1.0,2.0,0.0,2.0,0.0,1.0,3.0,2.0,2.0,1.0,0.0,1.0,2.0,1.0,2.0,0.0,2.0,2.0,3.0,1.0,3.0,4.0,2.0,2.0,4.0,2.0,2.0,0.0,3.0,2.0,0.0,2.0],\"x0\":\" \",\"xaxis\":\"x\",\"y\":[40000.0,30000.0,10000.0,40000.0,20000.0,null,170000.0,40000.0,10000.0,30000.0,40000.0,20000.0,40000.0,80000.0,40000.0,30000.0,70000.0,20000.0,10000.0,10000.0,40000.0,10000.0,20000.0,20000.0,60000.0,40000.0,40000.0,20000.0,80000.0,40000.0,40000.0,60000.0,10000.0,40000.0,60000.0,30000.0,30000.0,40000.0,30000.0,20000.0,120000.0,130000.0,130000.0,80000.0,40000.0,30000.0,10000.0,30000.0,10000.0,80000.0,60000.0,30000.0,90000.0,30000.0,40000.0,40000.0,20000.0,10000.0,10000.0,60000.0,70000.0,70000.0,40000.0,40000.0,20000.0,30000.0,20000.0,80000.0,40000.0,150000.0,80000.0,30000.0,30000.0,10000.0,10000.0,60000.0,90000.0,40000.0,40000.0,30000.0,10000.0,20000.0,20000.0,40000.0,80000.0,30000.0,40000.0,20000.0,60000.0,100000.0,10000.0,130000.0,10000.0,60000.0,20000.0,10000.0,90000.0,100000.0,30000.0,130000.0,80000.0,10000.0,50000.0,80000.0,20000.0,10000.0,10000.0,40000.0,90000.0,70000.0,30000.0,30000.0,null,80000.0,70000.0,20000.0,50000.0,60000.0,10000.0,40000.0,60000.0,30000.0,20000.0,40000.0,30000.0,80000.0,50000.0,30000.0,20000.0,10000.0,10000.0,60000.0,70000.0,20000.0,20000.0,10000.0,20000.0,80000.0,120000.0,40000.0,30000.0,20000.0,10000.0,30000.0,70000.0,10000.0,30000.0,110000.0,130000.0,100000.0,70000.0,130000.0,100000.0,20000.0,30000.0,20000.0,50000.0,100000.0,150000.0,30000.0,40000.0,10000.0,70000.0,40000.0,30000.0,20000.0,100000.0,70000.0,10000.0,10000.0,90000.0,10000.0,10000.0,100000.0,10000.0,10000.0,60000.0,100000.0,130000.0,30000.0,40000.0,110000.0,100000.0,30000.0,30000.0,80000.0,10000.0,90000.0,10000.0,40000.0,20000.0,120000.0,60000.0,20000.0,50000.0,30000.0,30000.0,100000.0,10000.0,90000.0,30000.0,40000.0,90000.0,80000.0,130000.0,90000.0,10000.0,120000.0,20000.0,30000.0,10000.0,20000.0,20000.0,10000.0,80000.0,80000.0,150000.0,10000.0,90000.0,80000.0,130000.0,40000.0,40000.0,10000.0,60000.0,130000.0,100000.0,80000.0,40000.0,80000.0,40000.0,20000.0,60000.0,30000.0,80000.0,40000.0,30000.0,120000.0,30000.0,80000.0,10000.0,40000.0,30000.0,60000.0,10000.0,30000.0,110000.0,40000.0,10000.0,20000.0,30000.0,30000.0,40000.0,40000.0,130000.0,20000.0,70000.0,40000.0,40000.0,80000.0,30000.0,10000.0,100000.0,10000.0,30000.0,10000.0,40000.0,90000.0,110000.0,30000.0,30000.0,20000.0,110000.0,30000.0,80000.0,30000.0,70000.0,null,80000.0,40000.0,40000.0,130000.0,40000.0,30000.0,40000.0,10000.0,40000.0,70000.0,20000.0,120000.0,20000.0,120000.0,40000.0,20000.0,30000.0,40000.0,30000.0,80000.0,30000.0,40000.0,30000.0,70000.0,30000.0,40000.0,90000.0,40000.0,10000.0,30000.0,90000.0,40000.0,10000.0,20000.0,60000.0,70000.0,40000.0,70000.0,70000.0,60000.0,60000.0,70000.0,80000.0,60000.0,50000.0,40000.0,130000.0,70000.0,100000.0,70000.0,40000.0,null,80000.0,60000.0,60000.0,70000.0,60000.0,80000.0,80000.0,40000.0,80000.0,60000.0,110000.0,50000.0,30000.0,60000.0,60000.0,30000.0,60000.0,40000.0,50000.0,80000.0,40000.0,80000.0,70000.0,50000.0,40000.0,70000.0,60000.0,60000.0,130000.0,50000.0,60000.0,60000.0,80000.0,40000.0,50000.0,60000.0,60000.0,70000.0,30000.0,30000.0,60000.0,40000.0,70000.0,50000.0,70000.0,40000.0,30000.0,60000.0,80000.0,60000.0,40000.0,120000.0,60000.0,60000.0,40000.0,80000.0,60000.0,130000.0,90000.0,60000.0,80000.0,70000.0,80000.0,20000.0,90000.0,130000.0,60000.0,60000.0,60000.0,40000.0,70000.0,40000.0,70000.0,60000.0,60000.0,80000.0,30000.0,110000.0,100000.0,80000.0,40000.0,40000.0,100000.0,70000.0,60000.0,70000.0,60000.0,60000.0,60000.0,50000.0,70000.0,80000.0,130000.0,120000.0,70000.0,100000.0,60000.0,50000.0,70000.0,70000.0,60000.0,60000.0,40000.0,70000.0,40000.0,70000.0,50000.0,60000.0,60000.0,70000.0,80000.0,130000.0,60000.0,60000.0,60000.0,70000.0,60000.0,40000.0,70000.0,30000.0,100000.0,40000.0,60000.0,90000.0,60000.0,40000.0,30000.0,30000.0,50000.0,70000.0,20000.0,70000.0,30000.0,120000.0,50000.0,40000.0,70000.0,70000.0,70000.0,70000.0,60000.0,70000.0,70000.0,40000.0,60000.0,90000.0,70000.0,70000.0,110000.0,80000.0,30000.0,130000.0,70000.0,40000.0,60000.0,60000.0,60000.0,30000.0,40000.0,60000.0,40000.0,30000.0,110000.0,70000.0,60000.0,60000.0,130000.0,70000.0,30000.0,60000.0,60000.0,40000.0,30000.0,60000.0,60000.0,50000.0,50000.0,70000.0,50000.0,60000.0,100000.0,60000.0,60000.0,80000.0,70000.0,40000.0,90000.0,60000.0,80000.0,70000.0,60000.0,10000.0,50000.0,20000.0,40000.0,30000.0,50000.0,60000.0,70000.0,60000.0,50000.0,60000.0,70000.0,40000.0,40000.0,40000.0,10000.0,30000.0,40000.0,70000.0,70000.0,70000.0,70000.0,60000.0,60000.0,40000.0,40000.0,110000.0,60000.0,30000.0,70000.0,70000.0,80000.0,40000.0,70000.0,60000.0,60000.0,40000.0,60000.0,80000.0,80000.0,70000.0,120000.0,60000.0,40000.0,20000.0,40000.0,60000.0,60000.0,60000.0,40000.0,60000.0,30000.0,30000.0,50000.0,40000.0,60000.0,30000.0,60000.0,60000.0,70000.0,50000.0,30000.0,70000.0,70000.0,50000.0,90000.0,80000.0,80000.0,30000.0,60000.0,80000.0,20000.0,70000.0,50000.0,70000.0,40000.0,100000.0,70000.0,60000.0,70000.0,50000.0,50000.0,70000.0,70000.0,40000.0,60000.0,80000.0,90000.0,90000.0,60000.0,50000.0,60000.0,40000.0,80000.0,40000.0,60000.0,60000.0,110000.0,70000.0,40000.0,30000.0,70000.0,90000.0,50000.0,40000.0,70000.0,60000.0,60000.0,40000.0,60000.0,60000.0,60000.0,60000.0,70000.0,40000.0,60000.0,60000.0,40000.0,50000.0,90000.0,70000.0,70000.0,40000.0,60000.0,40000.0,70000.0,60000.0,90000.0,60000.0,120000.0,60000.0,90000.0,70000.0,50000.0,80000.0,60000.0,30000.0,70000.0,70000.0,60000.0,80000.0,80000.0,40000.0,80000.0,110000.0,130000.0,50000.0,40000.0,60000.0,70000.0,60000.0,80000.0,60000.0,70000.0,60000.0],\"y0\":\" \",\"yaxis\":\"y\",\"type\":\"box\"},{\"alignmentgroup\":\"True\",\"hovertemplate\":\"Home Owner=No\\u003cbr\\u003eCars=%{x}\\u003cbr\\u003eIncome=%{y}\\u003cextra\\u003e\\u003c\\u002fextra\\u003e\",\"legendgroup\":\"No\",\"marker\":{\"color\":\"#EF553B\"},\"name\":\"No\",\"notched\":false,\"offsetgroup\":\"No\",\"orientation\":\"v\",\"showlegend\":true,\"x\":[2.0,0.0,2.0,4.0,1.0,2.0,3.0,1.0,1.0,1.0,2.0,1.0,1.0,2.0,2.0,2.0,1.0,1.0,0.0,3.0,2.0,1.0,4.0,3.0,1.0,4.0,1.0,2.0,2.0,1.0,2.0,2.0,2.0,1.0,1.0,3.0,1.0,1.0,1.0,1.0,1.0,2.0,1.0,2.0,0.0,0.0,1.0,1.0,0.0,1.0,3.0,4.0,0.0,1.0,2.0,0.0,1.0,1.0,0.0,1.0,3.0,2.0,0.0,1.0,1.0,2.0,1.0,1.0,2.0,3.0,2.0,2.0,1.0,4.0,2.0,2.0,2.0,1.0,3.0,3.0,1.0,2.0,1.0,4.0,2.0,2.0,2.0,0.0,2.0,4.0,1.0,1.0,1.0,1.0,2.0,3.0,1.0,4.0,0.0,1.0,1.0,0.0,0.0,0.0,2.0,3.0,0.0,1.0,0.0,1.0,1.0,1.0,2.0,2.0,2.0,0.0,2.0,1.0,1.0,3.0,3.0,0.0,2.0,0.0,2.0,2.0,2.0,1.0,1.0,1.0,0.0,1.0,1.0,0.0,0.0,1.0,2.0,2.0,1.0,1.0,3.0,2.0,3.0,1.0,2.0,1.0,1.0,0.0,1.0,0.0,2.0,1.0,2.0,3.0,1.0,1.0,1.0,0.0,3.0,1.0,2.0,1.0,1.0,4.0,3.0,3.0,1.0,2.0,0.0,2.0,2.0,0.0,1.0,2.0,2.0,1.0,1.0,0.0,3.0,1.0,2.0,1.0,1.0,4.0,2.0,0.0,1.0,2.0,1.0,null,2.0,2.0,1.0,3.0,2.0,0.0,2.0,1.0,2.0,1.0,null,2.0,2.0,1.0,2.0,2.0,2.0,2.0,1.0,1.0,2.0,3.0,2.0,2.0,2.0,2.0,3.0,2.0,0.0,2.0,1.0,0.0,2.0,2.0,1.0,2.0,0.0,2.0,2.0,2.0,1.0,2.0,0.0,3.0,2.0,2.0,2.0,4.0,3.0,2.0,1.0,0.0,1.0,1.0,2.0,1.0,0.0,2.0,1.0,4.0,0.0,1.0,1.0,2.0,2.0,1.0,2.0,2.0,1.0,2.0,2.0,2.0,2.0,2.0,3.0,1.0,4.0,2.0,1.0,2.0,2.0,1.0,2.0,2.0,4.0,1.0,1.0,1.0,2.0,1.0,1.0,4.0,2.0,2.0,2.0,0.0,0.0,0.0,2.0,2.0,3.0,2.0,2.0,1.0,3.0,0.0,1.0,4.0,1.0,2.0,0.0,2.0,1.0,2.0,3.0,2.0,0.0,3.0,3.0],\"x0\":\" \",\"xaxis\":\"x\",\"y\":[80000.0,30000.0,30000.0,90000.0,60000.0,30000.0,80000.0,40000.0,30000.0,100000.0,20000.0,10000.0,20000.0,80000.0,90000.0,10000.0,30000.0,20000.0,30000.0,170000.0,30000.0,30000.0,80000.0,90000.0,70000.0,130000.0,10000.0,10000.0,10000.0,20000.0,20000.0,20000.0,80000.0,20000.0,40000.0,130000.0,30000.0,20000.0,30000.0,30000.0,30000.0,60000.0,30000.0,40000.0,40000.0,null,70000.0,130000.0,10000.0,30000.0,80000.0,100000.0,40000.0,10000.0,30000.0,40000.0,10000.0,40000.0,40000.0,30000.0,100000.0,20000.0,10000.0,20000.0,60000.0,40000.0,10000.0,70000.0,10000.0,110000.0,160000.0,30000.0,10000.0,130000.0,30000.0,80000.0,10000.0,100000.0,80000.0,60000.0,90000.0,90000.0,30000.0,70000.0,80000.0,20000.0,10000.0,30000.0,30000.0,90000.0,10000.0,30000.0,30000.0,20000.0,120000.0,10000.0,100000.0,60000.0,50000.0,20000.0,20000.0,30000.0,30000.0,20000.0,10000.0,70000.0,30000.0,60000.0,40000.0,10000.0,20000.0,60000.0,90000.0,30000.0,10000.0,null,40000.0,80000.0,70000.0,130000.0,160000.0,40000.0,40000.0,20000.0,10000.0,20000.0,20000.0,30000.0,30000.0,30000.0,40000.0,60000.0,30000.0,20000.0,40000.0,30000.0,30000.0,30000.0,20000.0,20000.0,130000.0,30000.0,70000.0,10000.0,20000.0,70000.0,70000.0,20000.0,40000.0,90000.0,30000.0,60000.0,30000.0,110000.0,30000.0,30000.0,10000.0,80000.0,90000.0,30000.0,30000.0,30000.0,80000.0,120000.0,80000.0,100000.0,30000.0,70000.0,90000.0,20000.0,70000.0,40000.0,30000.0,40000.0,60000.0,70000.0,40000.0,60000.0,100000.0,60000.0,80000.0,60000.0,70000.0,120000.0,60000.0,80000.0,70000.0,40000.0,50000.0,20000.0,40000.0,40000.0,70000.0,120000.0,60000.0,60000.0,40000.0,40000.0,30000.0,70000.0,60000.0,20000.0,70000.0,80000.0,40000.0,60000.0,30000.0,40000.0,70000.0,70000.0,60000.0,70000.0,30000.0,40000.0,60000.0,40000.0,100000.0,40000.0,60000.0,80000.0,60000.0,80000.0,20000.0,60000.0,130000.0,60000.0,80000.0,60000.0,30000.0,90000.0,60000.0,40000.0,80000.0,40000.0,70000.0,20000.0,60000.0,130000.0,130000.0,70000.0,40000.0,40000.0,70000.0,40000.0,60000.0,40000.0,80000.0,20000.0,60000.0,120000.0,60000.0,80000.0,70000.0,80000.0,40000.0,70000.0,60000.0,80000.0,30000.0,30000.0,40000.0,60000.0,60000.0,40000.0,110000.0,70000.0,170000.0,60000.0,70000.0,70000.0,80000.0,70000.0,130000.0,40000.0,130000.0,50000.0,30000.0,40000.0,20000.0,80000.0,80000.0,110000.0,30000.0,60000.0,30000.0,60000.0,80000.0,70000.0,40000.0,70000.0,70000.0,40000.0,80000.0,50000.0,90000.0,60000.0,70000.0,100000.0,50000.0,30000.0,60000.0,60000.0,40000.0,60000.0,60000.0,30000.0,90000.0,150000.0,100000.0],\"y0\":\" \",\"yaxis\":\"y\",\"type\":\"box\"}],                        {\"template\":{\"data\":{\"histogram2dcontour\":[{\"type\":\"histogram2dcontour\",\"colorbar\":{\"outlinewidth\":0,\"ticks\":\"\"},\"colorscale\":[[0.0,\"#0d0887\"],[0.1111111111111111,\"#46039f\"],[0.2222222222222222,\"#7201a8\"],[0.3333333333333333,\"#9c179e\"],[0.4444444444444444,\"#bd3786\"],[0.5555555555555556,\"#d8576b\"],[0.6666666666666666,\"#ed7953\"],[0.7777777777777778,\"#fb9f3a\"],[0.8888888888888888,\"#fdca26\"],[1.0,\"#f0f921\"]]}],\"choropleth\":[{\"type\":\"choropleth\",\"colorbar\":{\"outlinewidth\":0,\"ticks\":\"\"}}],\"histogram2d\":[{\"type\":\"histogram2d\",\"colorbar\":{\"outlinewidth\":0,\"ticks\":\"\"},\"colorscale\":[[0.0,\"#0d0887\"],[0.1111111111111111,\"#46039f\"],[0.2222222222222222,\"#7201a8\"],[0.3333333333333333,\"#9c179e\"],[0.4444444444444444,\"#bd3786\"],[0.5555555555555556,\"#d8576b\"],[0.6666666666666666,\"#ed7953\"],[0.7777777777777778,\"#fb9f3a\"],[0.8888888888888888,\"#fdca26\"],[1.0,\"#f0f921\"]]}],\"heatmap\":[{\"type\":\"heatmap\",\"colorbar\":{\"outlinewidth\":0,\"ticks\":\"\"},\"colorscale\":[[0.0,\"#0d0887\"],[0.1111111111111111,\"#46039f\"],[0.2222222222222222,\"#7201a8\"],[0.3333333333333333,\"#9c179e\"],[0.4444444444444444,\"#bd3786\"],[0.5555555555555556,\"#d8576b\"],[0.6666666666666666,\"#ed7953\"],[0.7777777777777778,\"#fb9f3a\"],[0.8888888888888888,\"#fdca26\"],[1.0,\"#f0f921\"]]}],\"heatmapgl\":[{\"type\":\"heatmapgl\",\"colorbar\":{\"outlinewidth\":0,\"ticks\":\"\"},\"colorscale\":[[0.0,\"#0d0887\"],[0.1111111111111111,\"#46039f\"],[0.2222222222222222,\"#7201a8\"],[0.3333333333333333,\"#9c179e\"],[0.4444444444444444,\"#bd3786\"],[0.5555555555555556,\"#d8576b\"],[0.6666666666666666,\"#ed7953\"],[0.7777777777777778,\"#fb9f3a\"],[0.8888888888888888,\"#fdca26\"],[1.0,\"#f0f921\"]]}],\"contourcarpet\":[{\"type\":\"contourcarpet\",\"colorbar\":{\"outlinewidth\":0,\"ticks\":\"\"}}],\"contour\":[{\"type\":\"contour\",\"colorbar\":{\"outlinewidth\":0,\"ticks\":\"\"},\"colorscale\":[[0.0,\"#0d0887\"],[0.1111111111111111,\"#46039f\"],[0.2222222222222222,\"#7201a8\"],[0.3333333333333333,\"#9c179e\"],[0.4444444444444444,\"#bd3786\"],[0.5555555555555556,\"#d8576b\"],[0.6666666666666666,\"#ed7953\"],[0.7777777777777778,\"#fb9f3a\"],[0.8888888888888888,\"#fdca26\"],[1.0,\"#f0f921\"]]}],\"surface\":[{\"type\":\"surface\",\"colorbar\":{\"outlinewidth\":0,\"ticks\":\"\"},\"colorscale\":[[0.0,\"#0d0887\"],[0.1111111111111111,\"#46039f\"],[0.2222222222222222,\"#7201a8\"],[0.3333333333333333,\"#9c179e\"],[0.4444444444444444,\"#bd3786\"],[0.5555555555555556,\"#d8576b\"],[0.6666666666666666,\"#ed7953\"],[0.7777777777777778,\"#fb9f3a\"],[0.8888888888888888,\"#fdca26\"],[1.0,\"#f0f921\"]]}],\"mesh3d\":[{\"type\":\"mesh3d\",\"colorbar\":{\"outlinewidth\":0,\"ticks\":\"\"}}],\"scatter\":[{\"fillpattern\":{\"fillmode\":\"overlay\",\"size\":10,\"solidity\":0.2},\"type\":\"scatter\"}],\"parcoords\":[{\"type\":\"parcoords\",\"line\":{\"colorbar\":{\"outlinewidth\":0,\"ticks\":\"\"}}}],\"scatterpolargl\":[{\"type\":\"scatterpolargl\",\"marker\":{\"colorbar\":{\"outlinewidth\":0,\"ticks\":\"\"}}}],\"bar\":[{\"error_x\":{\"color\":\"#2a3f5f\"},\"error_y\":{\"color\":\"#2a3f5f\"},\"marker\":{\"line\":{\"color\":\"#E5ECF6\",\"width\":0.5},\"pattern\":{\"fillmode\":\"overlay\",\"size\":10,\"solidity\":0.2}},\"type\":\"bar\"}],\"scattergeo\":[{\"type\":\"scattergeo\",\"marker\":{\"colorbar\":{\"outlinewidth\":0,\"ticks\":\"\"}}}],\"scatterpolar\":[{\"type\":\"scatterpolar\",\"marker\":{\"colorbar\":{\"outlinewidth\":0,\"ticks\":\"\"}}}],\"histogram\":[{\"marker\":{\"pattern\":{\"fillmode\":\"overlay\",\"size\":10,\"solidity\":0.2}},\"type\":\"histogram\"}],\"scattergl\":[{\"type\":\"scattergl\",\"marker\":{\"colorbar\":{\"outlinewidth\":0,\"ticks\":\"\"}}}],\"scatter3d\":[{\"type\":\"scatter3d\",\"line\":{\"colorbar\":{\"outlinewidth\":0,\"ticks\":\"\"}},\"marker\":{\"colorbar\":{\"outlinewidth\":0,\"ticks\":\"\"}}}],\"scattermapbox\":[{\"type\":\"scattermapbox\",\"marker\":{\"colorbar\":{\"outlinewidth\":0,\"ticks\":\"\"}}}],\"scatterternary\":[{\"type\":\"scatterternary\",\"marker\":{\"colorbar\":{\"outlinewidth\":0,\"ticks\":\"\"}}}],\"scattercarpet\":[{\"type\":\"scattercarpet\",\"marker\":{\"colorbar\":{\"outlinewidth\":0,\"ticks\":\"\"}}}],\"carpet\":[{\"aaxis\":{\"endlinecolor\":\"#2a3f5f\",\"gridcolor\":\"white\",\"linecolor\":\"white\",\"minorgridcolor\":\"white\",\"startlinecolor\":\"#2a3f5f\"},\"baxis\":{\"endlinecolor\":\"#2a3f5f\",\"gridcolor\":\"white\",\"linecolor\":\"white\",\"minorgridcolor\":\"white\",\"startlinecolor\":\"#2a3f5f\"},\"type\":\"carpet\"}],\"table\":[{\"cells\":{\"fill\":{\"color\":\"#EBF0F8\"},\"line\":{\"color\":\"white\"}},\"header\":{\"fill\":{\"color\":\"#C8D4E3\"},\"line\":{\"color\":\"white\"}},\"type\":\"table\"}],\"barpolar\":[{\"marker\":{\"line\":{\"color\":\"#E5ECF6\",\"width\":0.5},\"pattern\":{\"fillmode\":\"overlay\",\"size\":10,\"solidity\":0.2}},\"type\":\"barpolar\"}],\"pie\":[{\"automargin\":true,\"type\":\"pie\"}]},\"layout\":{\"autotypenumbers\":\"strict\",\"colorway\":[\"#636efa\",\"#EF553B\",\"#00cc96\",\"#ab63fa\",\"#FFA15A\",\"#19d3f3\",\"#FF6692\",\"#B6E880\",\"#FF97FF\",\"#FECB52\"],\"font\":{\"color\":\"#2a3f5f\"},\"hovermode\":\"closest\",\"hoverlabel\":{\"align\":\"left\"},\"paper_bgcolor\":\"white\",\"plot_bgcolor\":\"#E5ECF6\",\"polar\":{\"bgcolor\":\"#E5ECF6\",\"angularaxis\":{\"gridcolor\":\"white\",\"linecolor\":\"white\",\"ticks\":\"\"},\"radialaxis\":{\"gridcolor\":\"white\",\"linecolor\":\"white\",\"ticks\":\"\"}},\"ternary\":{\"bgcolor\":\"#E5ECF6\",\"aaxis\":{\"gridcolor\":\"white\",\"linecolor\":\"white\",\"ticks\":\"\"},\"baxis\":{\"gridcolor\":\"white\",\"linecolor\":\"white\",\"ticks\":\"\"},\"caxis\":{\"gridcolor\":\"white\",\"linecolor\":\"white\",\"ticks\":\"\"}},\"coloraxis\":{\"colorbar\":{\"outlinewidth\":0,\"ticks\":\"\"}},\"colorscale\":{\"sequential\":[[0.0,\"#0d0887\"],[0.1111111111111111,\"#46039f\"],[0.2222222222222222,\"#7201a8\"],[0.3333333333333333,\"#9c179e\"],[0.4444444444444444,\"#bd3786\"],[0.5555555555555556,\"#d8576b\"],[0.6666666666666666,\"#ed7953\"],[0.7777777777777778,\"#fb9f3a\"],[0.8888888888888888,\"#fdca26\"],[1.0,\"#f0f921\"]],\"sequentialminus\":[[0.0,\"#0d0887\"],[0.1111111111111111,\"#46039f\"],[0.2222222222222222,\"#7201a8\"],[0.3333333333333333,\"#9c179e\"],[0.4444444444444444,\"#bd3786\"],[0.5555555555555556,\"#d8576b\"],[0.6666666666666666,\"#ed7953\"],[0.7777777777777778,\"#fb9f3a\"],[0.8888888888888888,\"#fdca26\"],[1.0,\"#f0f921\"]],\"diverging\":[[0,\"#8e0152\"],[0.1,\"#c51b7d\"],[0.2,\"#de77ae\"],[0.3,\"#f1b6da\"],[0.4,\"#fde0ef\"],[0.5,\"#f7f7f7\"],[0.6,\"#e6f5d0\"],[0.7,\"#b8e186\"],[0.8,\"#7fbc41\"],[0.9,\"#4d9221\"],[1,\"#276419\"]]},\"xaxis\":{\"gridcolor\":\"white\",\"linecolor\":\"white\",\"ticks\":\"\",\"title\":{\"standoff\":15},\"zerolinecolor\":\"white\",\"automargin\":true,\"zerolinewidth\":2},\"yaxis\":{\"gridcolor\":\"white\",\"linecolor\":\"white\",\"ticks\":\"\",\"title\":{\"standoff\":15},\"zerolinecolor\":\"white\",\"automargin\":true,\"zerolinewidth\":2},\"scene\":{\"xaxis\":{\"backgroundcolor\":\"#E5ECF6\",\"gridcolor\":\"white\",\"linecolor\":\"white\",\"showbackground\":true,\"ticks\":\"\",\"zerolinecolor\":\"white\",\"gridwidth\":2},\"yaxis\":{\"backgroundcolor\":\"#E5ECF6\",\"gridcolor\":\"white\",\"linecolor\":\"white\",\"showbackground\":true,\"ticks\":\"\",\"zerolinecolor\":\"white\",\"gridwidth\":2},\"zaxis\":{\"backgroundcolor\":\"#E5ECF6\",\"gridcolor\":\"white\",\"linecolor\":\"white\",\"showbackground\":true,\"ticks\":\"\",\"zerolinecolor\":\"white\",\"gridwidth\":2}},\"shapedefaults\":{\"line\":{\"color\":\"#2a3f5f\"}},\"annotationdefaults\":{\"arrowcolor\":\"#2a3f5f\",\"arrowhead\":0,\"arrowwidth\":1},\"geo\":{\"bgcolor\":\"white\",\"landcolor\":\"#E5ECF6\",\"subunitcolor\":\"white\",\"showland\":true,\"showlakes\":true,\"lakecolor\":\"white\"},\"title\":{\"x\":0.05},\"mapbox\":{\"style\":\"light\"}}},\"xaxis\":{\"anchor\":\"y\",\"domain\":[0.0,1.0],\"title\":{\"text\":\"Cars\"}},\"yaxis\":{\"anchor\":\"x\",\"domain\":[0.0,1.0],\"title\":{\"text\":\"Income\"}},\"legend\":{\"title\":{\"text\":\"Home Owner\"},\"tracegroupgap\":0},\"margin\":{\"t\":60},\"boxmode\":\"group\"},                        {\"responsive\": true}                    ).then(function(){\n",
       "                            \n",
       "var gd = document.getElementById('d87ac600-1224-49d4-a5a9-bb7df2325643');\n",
       "var x = new MutationObserver(function (mutations, observer) {{\n",
       "        var display = window.getComputedStyle(gd).display;\n",
       "        if (!display || display === 'none') {{\n",
       "            console.log([gd, 'removed!']);\n",
       "            Plotly.purge(gd);\n",
       "            observer.disconnect();\n",
       "        }}\n",
       "}});\n",
       "\n",
       "// Listen for the removal of the full notebook cells\n",
       "var notebookContainer = gd.closest('#notebook-container');\n",
       "if (notebookContainer) {{\n",
       "    x.observe(notebookContainer, {childList: true});\n",
       "}}\n",
       "\n",
       "// Listen for the clearing of the current output cell\n",
       "var outputEl = gd.closest('.output');\n",
       "if (outputEl) {{\n",
       "    x.observe(outputEl, {childList: true});\n",
       "}}\n",
       "\n",
       "                        })                };                });            </script>        </div>"
      ]
     },
     "metadata": {},
     "output_type": "display_data"
    }
   ],
   "source": [
    "#Dependiendo de la cantidad de la ganancia de la personas y si tiene casa o no se infiere cuantos carros tiene\n",
    "fig = px.box(df, y = 'Income', x = \"Cars\", color = \"Home Owner\")\n",
    "fig.show()"
   ]
  },
  {
   "cell_type": "code",
   "execution_count": 943,
   "id": "fe7b55e8",
   "metadata": {},
   "outputs": [
    {
     "data": {
      "text/html": [
       "<div>\n",
       "<style scoped>\n",
       "    .dataframe tbody tr th:only-of-type {\n",
       "        vertical-align: middle;\n",
       "    }\n",
       "\n",
       "    .dataframe tbody tr th {\n",
       "        vertical-align: top;\n",
       "    }\n",
       "\n",
       "    .dataframe thead th {\n",
       "        text-align: right;\n",
       "    }\n",
       "</style>\n",
       "<table border=\"1\" class=\"dataframe\">\n",
       "  <thead>\n",
       "    <tr style=\"text-align: right;\">\n",
       "      <th></th>\n",
       "      <th>ID</th>\n",
       "      <th>Marital Status</th>\n",
       "      <th>Gender</th>\n",
       "      <th>Income</th>\n",
       "      <th>Children</th>\n",
       "      <th>Education</th>\n",
       "      <th>Occupation</th>\n",
       "      <th>Home Owner</th>\n",
       "      <th>Cars</th>\n",
       "      <th>Commute Distance</th>\n",
       "      <th>Region</th>\n",
       "      <th>Age</th>\n",
       "      <th>Purchased Bike</th>\n",
       "    </tr>\n",
       "  </thead>\n",
       "  <tbody>\n",
       "    <tr>\n",
       "      <th>9</th>\n",
       "      <td>19280</td>\n",
       "      <td>Married</td>\n",
       "      <td>Male</td>\n",
       "      <td>NaN</td>\n",
       "      <td>2.0</td>\n",
       "      <td>Partial College</td>\n",
       "      <td>Manual</td>\n",
       "      <td>Yes</td>\n",
       "      <td>1.0</td>\n",
       "      <td>0-1 Miles</td>\n",
       "      <td>Europe</td>\n",
       "      <td>NaN</td>\n",
       "      <td>Yes</td>\n",
       "    </tr>\n",
       "    <tr>\n",
       "      <th>98</th>\n",
       "      <td>19441</td>\n",
       "      <td>NaN</td>\n",
       "      <td>Male</td>\n",
       "      <td>40000.0</td>\n",
       "      <td>0.0</td>\n",
       "      <td>Graduate Degree</td>\n",
       "      <td>Clerical</td>\n",
       "      <td>Yes</td>\n",
       "      <td>0.0</td>\n",
       "      <td>0-1 Miles</td>\n",
       "      <td>Europe</td>\n",
       "      <td>NaN</td>\n",
       "      <td>Yes</td>\n",
       "    </tr>\n",
       "    <tr>\n",
       "      <th>225</th>\n",
       "      <td>14135</td>\n",
       "      <td>Married</td>\n",
       "      <td>Male</td>\n",
       "      <td>20000.0</td>\n",
       "      <td>1.0</td>\n",
       "      <td>Partial College</td>\n",
       "      <td>Manual</td>\n",
       "      <td>Yes</td>\n",
       "      <td>0.0</td>\n",
       "      <td>1-2 Miles</td>\n",
       "      <td>Europe</td>\n",
       "      <td>NaN</td>\n",
       "      <td>No</td>\n",
       "    </tr>\n",
       "    <tr>\n",
       "      <th>371</th>\n",
       "      <td>22918</td>\n",
       "      <td>Single</td>\n",
       "      <td>Male</td>\n",
       "      <td>80000.0</td>\n",
       "      <td>5.0</td>\n",
       "      <td>Graduate Degree</td>\n",
       "      <td>Management</td>\n",
       "      <td>Yes</td>\n",
       "      <td>3.0</td>\n",
       "      <td>0-1 Miles</td>\n",
       "      <td>Pacific</td>\n",
       "      <td>NaN</td>\n",
       "      <td>No</td>\n",
       "    </tr>\n",
       "    <tr>\n",
       "      <th>554</th>\n",
       "      <td>18580</td>\n",
       "      <td>Married</td>\n",
       "      <td>Female</td>\n",
       "      <td>60000.0</td>\n",
       "      <td>2.0</td>\n",
       "      <td>Graduate Degree</td>\n",
       "      <td>Professional</td>\n",
       "      <td>Yes</td>\n",
       "      <td>0.0</td>\n",
       "      <td>2-5 Miles</td>\n",
       "      <td>North America</td>\n",
       "      <td>NaN</td>\n",
       "      <td>Yes</td>\n",
       "    </tr>\n",
       "    <tr>\n",
       "      <th>770</th>\n",
       "      <td>17699</td>\n",
       "      <td>Married</td>\n",
       "      <td>Male</td>\n",
       "      <td>60000.0</td>\n",
       "      <td>1.0</td>\n",
       "      <td>Graduate Degree</td>\n",
       "      <td>Skilled Manual</td>\n",
       "      <td>No</td>\n",
       "      <td>0.0</td>\n",
       "      <td>0-1 Miles</td>\n",
       "      <td>North America</td>\n",
       "      <td>NaN</td>\n",
       "      <td>No</td>\n",
       "    </tr>\n",
       "    <tr>\n",
       "      <th>986</th>\n",
       "      <td>23704</td>\n",
       "      <td>Single</td>\n",
       "      <td>Male</td>\n",
       "      <td>40000.0</td>\n",
       "      <td>5.0</td>\n",
       "      <td>High School</td>\n",
       "      <td>Professional</td>\n",
       "      <td>Yes</td>\n",
       "      <td>4.0</td>\n",
       "      <td>10+ Miles</td>\n",
       "      <td>North America</td>\n",
       "      <td>NaN</td>\n",
       "      <td>Yes</td>\n",
       "    </tr>\n",
       "  </tbody>\n",
       "</table>\n",
       "</div>"
      ],
      "text/plain": [
       "        ID Marital Status  Gender   Income  Children        Education  \\\n",
       "9    19280        Married    Male      NaN       2.0  Partial College   \n",
       "98   19441            NaN    Male  40000.0       0.0  Graduate Degree   \n",
       "225  14135        Married    Male  20000.0       1.0  Partial College   \n",
       "371  22918         Single    Male  80000.0       5.0  Graduate Degree   \n",
       "554  18580        Married  Female  60000.0       2.0  Graduate Degree   \n",
       "770  17699        Married    Male  60000.0       1.0  Graduate Degree   \n",
       "986  23704         Single    Male  40000.0       5.0      High School   \n",
       "\n",
       "         Occupation Home Owner  Cars Commute Distance         Region  Age  \\\n",
       "9            Manual        Yes   1.0        0-1 Miles         Europe  NaN   \n",
       "98         Clerical        Yes   0.0        0-1 Miles         Europe  NaN   \n",
       "225          Manual        Yes   0.0        1-2 Miles         Europe  NaN   \n",
       "371      Management        Yes   3.0        0-1 Miles        Pacific  NaN   \n",
       "554    Professional        Yes   0.0        2-5 Miles  North America  NaN   \n",
       "770  Skilled Manual         No   0.0        0-1 Miles  North America  NaN   \n",
       "986    Professional        Yes   4.0        10+ Miles  North America  NaN   \n",
       "\n",
       "    Purchased Bike  \n",
       "9              Yes  \n",
       "98             Yes  \n",
       "225             No  \n",
       "371             No  \n",
       "554            Yes  \n",
       "770             No  \n",
       "986            Yes  "
      ]
     },
     "execution_count": 943,
     "metadata": {},
     "output_type": "execute_result"
    }
   ],
   "source": [
    "na_values_age = df[df['Age'].isna()]\n",
    "na_values_age"
   ]
  },
  {
   "cell_type": "code",
   "execution_count": 944,
   "id": "b26142d0",
   "metadata": {},
   "outputs": [
    {
     "data": {
      "application/vnd.plotly.v1+json": {
       "config": {
        "plotlyServerURL": "https://plot.ly"
       },
       "data": [
        {
         "alignmentgroup": "True",
         "hovertemplate": "Children=1.0<br>Marital Status=%{x}<br>Age=%{y}<extra></extra>",
         "legendgroup": "1.0",
         "marker": {
          "color": "#636efa"
         },
         "name": "1.0",
         "notched": false,
         "offsetgroup": "1.0",
         "orientation": "v",
         "showlegend": true,
         "type": "box",
         "x": [
          "Married",
          "Married",
          "Single",
          "Married",
          "Single",
          "Married",
          "Married",
          "Married",
          "Married",
          "Married",
          "Single",
          "Married",
          "Married",
          "Married",
          "Married",
          "Single",
          "Single",
          "Single",
          "Married",
          "Married",
          "Single",
          "Married",
          "Single",
          null,
          "Single",
          "Married",
          "Married",
          "Single",
          "Single",
          "Married",
          "Single",
          "Married",
          "Married",
          "Married",
          "Single",
          "Married",
          "Single",
          "Married",
          "Married",
          "Married",
          "Married",
          "Married",
          "Single",
          "Married",
          "Married",
          "Married",
          "Single",
          "Single",
          "Single",
          "Married",
          "Single",
          "Single",
          "Married",
          "Single",
          "Married",
          "Single",
          "Married",
          "Married",
          "Married",
          "Married",
          "Married",
          "Married",
          "Single",
          "Single",
          "Married",
          "Married",
          "Married",
          "Married",
          "Married",
          "Married",
          "Single",
          "Married",
          "Single",
          "Married",
          "Married",
          "Married",
          "Married",
          "Married",
          "Single",
          "Married",
          "Married",
          "Married",
          "Married",
          "Married",
          "Married",
          "Married",
          "Single",
          "Married",
          "Married",
          "Married",
          "Married",
          "Single",
          "Married",
          "Married",
          "Married",
          "Married",
          "Single",
          "Married",
          "Married",
          "Single",
          "Married",
          "Married",
          "Married",
          "Married",
          "Married",
          "Married",
          "Married",
          "Married",
          "Married",
          "Single",
          "Married",
          "Married",
          "Married",
          "Married",
          "Single",
          "Married",
          "Married",
          "Single",
          "Married",
          "Single",
          "Married",
          "Married",
          "Married",
          "Married",
          "Married",
          "Married",
          "Single",
          "Single",
          "Married",
          "Married",
          "Single",
          "Married",
          "Married",
          "Single",
          "Married",
          "Married",
          "Married",
          "Married",
          "Married",
          "Married",
          "Single",
          "Married",
          "Single",
          "Single",
          "Single",
          "Married",
          "Married",
          "Single",
          "Married",
          "Married",
          "Married",
          "Married",
          "Married",
          "Single",
          "Married",
          "Married",
          "Married",
          "Married",
          "Married",
          "Single",
          "Married",
          "Married",
          "Single",
          "Married",
          "Married",
          "Married",
          "Single",
          "Single"
         ],
         "x0": " ",
         "xaxis": "x",
         "y": [
          42,
          43,
          45,
          47,
          63,
          40,
          66,
          46,
          65,
          43,
          45,
          37,
          40,
          43,
          44,
          45,
          46,
          36,
          42,
          39,
          35,
          42,
          37,
          43,
          48,
          47,
          48,
          44,
          47,
          47,
          44,
          47,
          44,
          27,
          46,
          65,
          48,
          43,
          null,
          45,
          70,
          37,
          39,
          43,
          33,
          37,
          38,
          37,
          49,
          45,
          48,
          46,
          42,
          46,
          36,
          62,
          40,
          46,
          40,
          66,
          50,
          43,
          45,
          39,
          33,
          45,
          43,
          89,
          64,
          64,
          51,
          38,
          39,
          80,
          44,
          44,
          41,
          41,
          36,
          43,
          32,
          32,
          42,
          41,
          65,
          46,
          46,
          65,
          32,
          46,
          70,
          34,
          48,
          44,
          51,
          45,
          44,
          44,
          36,
          44,
          49,
          34,
          48,
          44,
          38,
          35,
          41,
          35,
          44,
          45,
          35,
          45,
          44,
          36,
          44,
          40,
          46,
          36,
          51,
          45,
          34,
          44,
          46,
          44,
          37,
          46,
          44,
          45,
          48,
          45,
          44,
          36,
          36,
          51,
          33,
          45,
          null,
          47,
          34,
          35,
          52,
          52,
          33,
          43,
          66,
          33,
          45,
          35,
          47,
          46,
          53,
          48,
          35,
          73,
          35,
          34,
          34,
          49,
          45,
          35,
          34,
          34,
          34,
          48,
          45,
          52,
          36,
          44
         ],
         "y0": " ",
         "yaxis": "y"
        },
        {
         "alignmentgroup": "True",
         "hovertemplate": "Children=3.0<br>Marital Status=%{x}<br>Age=%{y}<extra></extra>",
         "legendgroup": "3.0",
         "marker": {
          "color": "#EF553B"
         },
         "name": "3.0",
         "notched": false,
         "offsetgroup": "3.0",
         "orientation": "v",
         "showlegend": true,
         "type": "box",
         "x": [
          "Married",
          "Married",
          "Single",
          "Married",
          "Married",
          "Married",
          "Single",
          "Single",
          "Married",
          "Single",
          "Single",
          "Single",
          "Married",
          "Married",
          "Married",
          "Single",
          "Married",
          "Single",
          "Married",
          "Single",
          "Married",
          "Single",
          "Married",
          "Married",
          "Married",
          "Single",
          "Single",
          "Single",
          "Single",
          "Married",
          "Single",
          "Married",
          "Married",
          "Single",
          "Single",
          "Married",
          "Single",
          "Married",
          "Married",
          "Married",
          "Married",
          "Single",
          "Single",
          "Married",
          "Married",
          "Single",
          "Single",
          "Single",
          "Married",
          "Single",
          "Married",
          "Single",
          "Single",
          "Single",
          "Single",
          "Single",
          "Married",
          "Single",
          "Single",
          "Married",
          "Married",
          "Married",
          "Single",
          "Single",
          "Single",
          "Married",
          "Married",
          "Married",
          "Married",
          "Single",
          "Married",
          "Married",
          "Single",
          "Married",
          "Married",
          "Single",
          "Single",
          "Married",
          "Married",
          "Single",
          "Married",
          "Married",
          "Single",
          "Married",
          "Married",
          "Married",
          "Married",
          "Married",
          "Married",
          "Single",
          "Single",
          "Single",
          "Married",
          "Married",
          "Single",
          "Single",
          "Married",
          "Married",
          "Single",
          "Married",
          "Married",
          "Married",
          "Single",
          "Single",
          "Single",
          "Single",
          "Single",
          "Single",
          "Single",
          "Married",
          "Married",
          "Married",
          "Single",
          "Married",
          "Married",
          "Single",
          "Single",
          "Single",
          "Married",
          "Single",
          "Married",
          "Single",
          "Single",
          "Married",
          "Married",
          "Married",
          "Married",
          "Single",
          "Single",
          "Single",
          "Single"
         ],
         "x0": " ",
         "xaxis": "x",
         "y": [
          43,
          54,
          59,
          41,
          52,
          62,
          51,
          55,
          43,
          43,
          56,
          39,
          55,
          56,
          55,
          51,
          46,
          42,
          42,
          42,
          43,
          27,
          52,
          51,
          59,
          47,
          56,
          43,
          46,
          54,
          52,
          45,
          51,
          50,
          37,
          51,
          27,
          50,
          51,
          56,
          43,
          43,
          53,
          54,
          52,
          43,
          55,
          26,
          53,
          28,
          46,
          50,
          46,
          47,
          31,
          40,
          48,
          47,
          47,
          49,
          66,
          41,
          41,
          52,
          54,
          73,
          31,
          41,
          54,
          69,
          52,
          63,
          32,
          69,
          66,
          78,
          52,
          52,
          45,
          49,
          67,
          67,
          51,
          66,
          50,
          35,
          31,
          41,
          52,
          53,
          36,
          53,
          48,
          53,
          43,
          50,
          36,
          50,
          52,
          43,
          42,
          52,
          41,
          40,
          41,
          37,
          50,
          42,
          53,
          40,
          34,
          35,
          40,
          32,
          64,
          35,
          40,
          49,
          54,
          53,
          54,
          30,
          40,
          56,
          53,
          35,
          66,
          40,
          66,
          38,
          53
         ],
         "y0": " ",
         "yaxis": "y"
        },
        {
         "alignmentgroup": "True",
         "hovertemplate": "Children=5.0<br>Marital Status=%{x}<br>Age=%{y}<extra></extra>",
         "legendgroup": "5.0",
         "marker": {
          "color": "#00cc96"
         },
         "name": "5.0",
         "notched": false,
         "offsetgroup": "5.0",
         "orientation": "v",
         "showlegend": true,
         "type": "box",
         "x": [
          "Married",
          "Married",
          "Married",
          "Married",
          "Single",
          "Single",
          "Married",
          "Single",
          "Married",
          "Married",
          "Married",
          "Married",
          "Single",
          "Single",
          "Married",
          "Single",
          "Single",
          "Single",
          "Single",
          "Married",
          "Married",
          "Married",
          "Married",
          "Single",
          "Single",
          "Single",
          "Married",
          "Married",
          "Single",
          "Married",
          "Married",
          "Single",
          "Single",
          "Married",
          "Married",
          "Married",
          "Single",
          "Married",
          "Single",
          "Married",
          "Married",
          "Married",
          "Single",
          "Single",
          "Single",
          "Married",
          "Single",
          "Married",
          "Single",
          "Married",
          "Married",
          "Married",
          "Married",
          "Married",
          "Married",
          "Married",
          "Single",
          "Single",
          "Married",
          "Married",
          "Married",
          "Married",
          "Married",
          "Single",
          "Married",
          "Single",
          "Married",
          "Married",
          "Single",
          "Married",
          "Married",
          "Married",
          "Married",
          "Married",
          "Married",
          "Single",
          "Married",
          "Married"
         ],
         "x0": " ",
         "xaxis": "x",
         "y": [
          60,
          55,
          56,
          44,
          62,
          41,
          40,
          62,
          62,
          40,
          59,
          61,
          59,
          62,
          41,
          62,
          39,
          57,
          44,
          46,
          48,
          62,
          78,
          39,
          27,
          47,
          45,
          46,
          62,
          47,
          59,
          null,
          38,
          43,
          40,
          44,
          45,
          40,
          60,
          47,
          47,
          64,
          59,
          44,
          46,
          47,
          44,
          41,
          67,
          45,
          47,
          61,
          62,
          40,
          60,
          37,
          60,
          47,
          59,
          41,
          57,
          60,
          60,
          60,
          61,
          60,
          46,
          64,
          47,
          47,
          63,
          47,
          66,
          45,
          46,
          null,
          63,
          46
         ],
         "y0": " ",
         "yaxis": "y"
        },
        {
         "alignmentgroup": "True",
         "hovertemplate": "Children=0.0<br>Marital Status=%{x}<br>Age=%{y}<extra></extra>",
         "legendgroup": "0.0",
         "marker": {
          "color": "#ab63fa"
         },
         "name": "0.0",
         "notched": false,
         "offsetgroup": "0.0",
         "orientation": "v",
         "showlegend": true,
         "type": "box",
         "x": [
          "Single",
          "Single",
          "Married",
          "Single",
          "Single",
          null,
          "Single",
          "Married",
          "Single",
          "Single",
          "Single",
          null,
          "Single",
          "Single",
          "Single",
          "Married",
          "Married",
          "Single",
          "Married",
          "Married",
          "Single",
          "Single",
          "Single",
          "Married",
          "Married",
          "Single",
          "Single",
          "Single",
          "Single",
          "Single",
          "Single",
          null,
          "Single",
          "Married",
          "Single",
          "Single",
          "Married",
          "Single",
          "Single",
          "Single",
          "Single",
          "Single",
          "Married",
          "Single",
          "Single",
          "Married",
          "Married",
          "Married",
          "Single",
          "Single",
          "Married",
          "Married",
          "Single",
          "Single",
          "Married",
          "Married",
          "Single",
          "Single",
          "Married",
          "Married",
          "Single",
          "Single",
          "Single",
          "Single",
          "Single",
          "Single",
          "Single",
          "Single",
          "Married",
          "Single",
          "Single",
          "Single",
          "Single",
          "Married",
          "Married",
          null,
          "Married",
          "Single",
          "Single",
          "Married",
          "Single",
          "Single",
          "Single",
          "Married",
          "Married",
          "Single",
          "Single",
          "Single",
          "Married",
          "Married",
          "Single",
          "Married",
          "Married",
          "Single",
          "Single",
          null,
          "Single",
          "Married",
          "Married",
          "Single",
          "Single",
          "Married",
          "Single",
          "Married",
          "Single",
          "Single",
          "Married",
          "Single",
          "Single",
          "Single",
          "Single",
          "Single",
          "Single",
          "Single",
          "Single",
          "Single",
          "Single",
          "Married",
          "Single",
          "Single",
          "Single",
          "Single",
          "Married",
          "Single",
          "Single",
          "Married",
          "Single",
          "Single",
          "Married",
          "Married",
          "Married",
          "Married",
          "Single",
          "Single",
          "Single",
          "Single",
          "Single",
          "Married",
          "Single",
          "Single",
          "Single",
          "Married",
          "Single",
          "Married",
          "Single",
          "Single",
          "Married",
          "Single",
          "Single",
          "Single",
          "Married",
          "Single",
          "Married",
          "Single",
          "Single",
          "Married",
          "Single",
          "Married",
          "Single",
          "Married",
          "Married",
          "Married",
          "Single",
          "Single",
          "Married",
          "Single",
          "Married",
          "Single",
          "Single",
          "Married",
          "Single",
          "Single",
          "Single",
          "Married",
          "Single",
          "Single",
          "Single",
          "Single",
          "Single",
          "Married",
          "Married",
          "Married",
          "Married",
          "Married",
          "Single",
          "Single",
          "Single",
          "Married",
          "Married",
          "Single",
          "Single",
          "Single",
          "Single",
          "Single",
          "Single",
          "Single",
          "Single",
          "Married",
          "Married",
          "Single",
          "Married",
          "Single",
          "Married",
          "Single",
          "Married",
          "Single",
          "Single",
          "Single",
          "Single",
          "Single",
          "Married",
          "Married",
          "Single",
          "Married",
          "Single",
          "Single",
          "Married",
          "Single",
          "Married",
          "Single",
          "Married",
          "Single",
          "Single",
          "Single",
          "Married",
          "Single",
          "Single",
          "Married",
          "Married",
          "Married",
          "Single",
          "Married",
          "Married",
          "Married",
          "Single",
          "Married",
          "Married",
          "Single",
          "Married",
          "Single",
          "Married",
          "Single",
          "Single",
          "Married",
          "Married",
          "Single",
          "Single",
          "Married",
          "Single",
          "Married",
          "Single",
          "Single",
          "Single",
          "Single",
          "Married",
          "Married",
          "Married",
          "Married",
          "Married",
          "Single",
          "Married",
          "Single",
          "Single",
          "Married",
          "Single",
          "Married",
          "Married",
          "Single",
          "Married",
          "Married",
          "Single",
          "Single"
         ],
         "x0": " ",
         "xaxis": "x",
         "y": [
          36,
          36,
          36,
          35,
          29,
          40,
          32,
          26,
          31,
          30,
          28,
          39,
          28,
          35,
          42,
          38,
          37,
          33,
          30,
          36,
          35,
          36,
          26,
          29,
          47,
          29,
          26,
          29,
          29,
          30,
          33,
          null,
          30,
          38,
          39,
          38,
          26,
          30,
          29,
          31,
          38,
          32,
          40,
          40,
          26,
          32,
          37,
          40,
          27,
          32,
          25,
          25,
          35,
          41,
          33,
          27,
          37,
          29,
          37,
          32,
          32,
          25,
          36,
          39,
          33,
          31,
          26,
          37,
          36,
          30,
          31,
          26,
          35,
          38,
          27,
          35,
          26,
          34,
          29,
          34,
          37,
          31,
          36,
          37,
          37,
          37,
          28,
          30,
          36,
          35,
          34,
          48,
          38,
          36,
          32,
          28,
          41,
          35,
          40,
          47,
          37,
          26,
          32,
          30,
          35,
          34,
          32,
          30,
          32,
          35,
          32,
          31,
          29,
          28,
          38,
          32,
          33,
          30,
          48,
          38,
          30,
          30,
          37,
          28,
          34,
          41,
          38,
          41,
          32,
          38,
          37,
          35,
          32,
          34,
          28,
          31,
          28,
          34,
          40,
          34,
          32,
          48,
          34,
          32,
          33,
          31,
          39,
          28,
          43,
          38,
          47,
          42,
          35,
          36,
          31,
          39,
          34,
          32,
          31,
          34,
          29,
          29,
          37,
          45,
          34,
          28,
          27,
          28,
          37,
          29,
          29,
          42,
          39,
          40,
          28,
          27,
          30,
          34,
          31,
          28,
          40,
          27,
          43,
          34,
          27,
          30,
          27,
          29,
          30,
          30,
          39,
          31,
          38,
          32,
          31,
          31,
          28,
          40,
          40,
          30,
          33,
          30,
          26,
          30,
          28,
          43,
          26,
          33,
          42,
          33,
          32,
          28,
          40,
          27,
          38,
          26,
          31,
          30,
          32,
          27,
          27,
          34,
          27,
          28,
          28,
          27,
          25,
          27,
          28,
          27,
          32,
          31,
          30,
          30,
          30,
          33,
          32,
          26,
          39,
          37,
          28,
          29,
          38,
          32,
          32,
          31,
          27,
          42,
          32,
          32,
          38,
          31,
          38,
          26,
          32,
          32,
          28,
          39,
          34,
          33,
          39,
          27,
          29,
          27,
          40,
          30,
          33,
          27,
          39,
          31,
          31,
          26
         ],
         "y0": " ",
         "yaxis": "y"
        },
        {
         "alignmentgroup": "True",
         "hovertemplate": "Children=2.0<br>Marital Status=%{x}<br>Age=%{y}<extra></extra>",
         "legendgroup": "2.0",
         "marker": {
          "color": "#FFA15A"
         },
         "name": "2.0",
         "notched": false,
         "offsetgroup": "2.0",
         "orientation": "v",
         "showlegend": true,
         "type": "box",
         "x": [
          "Married",
          "Single",
          null,
          "Married",
          "Married",
          "Single",
          "Single",
          "Single",
          "Single",
          "Single",
          "Married",
          "Single",
          "Married",
          "Single",
          "Single",
          "Single",
          "Married",
          "Married",
          "Single",
          "Married",
          "Single",
          "Married",
          "Single",
          "Single",
          "Single",
          "Single",
          "Married",
          "Single",
          "Married",
          "Single",
          "Single",
          "Married",
          "Married",
          "Single",
          "Married",
          "Single",
          "Single",
          "Married",
          "Single",
          "Married",
          "Single",
          "Married",
          "Single",
          "Single",
          "Married",
          "Single",
          "Single",
          "Single",
          "Single",
          "Married",
          "Single",
          "Single",
          "Married",
          "Single",
          "Married",
          "Married",
          "Single",
          "Single",
          "Married",
          "Single",
          "Single",
          "Married",
          "Married",
          "Single",
          "Married",
          "Single",
          "Married",
          "Married",
          "Married",
          "Married",
          "Married",
          "Single",
          "Single",
          "Married",
          "Married",
          "Married",
          "Single",
          "Single",
          "Single",
          "Married",
          "Single",
          "Married",
          "Single",
          "Single",
          "Single",
          "Married",
          "Single",
          "Single",
          "Single",
          "Single",
          "Single",
          "Married",
          "Married",
          "Married",
          "Single",
          "Married",
          "Married",
          "Single",
          "Married",
          "Single",
          "Married",
          "Married",
          "Married",
          "Single",
          "Single",
          "Married",
          "Married",
          "Married",
          "Married",
          "Married",
          "Married",
          "Single",
          "Married",
          "Married",
          "Single",
          "Married",
          "Married",
          "Married",
          "Married",
          "Single",
          "Single",
          "Single",
          "Married",
          "Married",
          "Single",
          "Single",
          "Single",
          "Married",
          "Married",
          "Single",
          "Single",
          "Single",
          "Married",
          "Married",
          "Single",
          "Married",
          "Single",
          "Married",
          "Married",
          "Married",
          "Married",
          "Married",
          "Single",
          "Married",
          "Married",
          "Single",
          "Single",
          "Married",
          "Married",
          "Married",
          "Married",
          "Married",
          "Single",
          "Married",
          "Married",
          "Married",
          "Married",
          "Married",
          "Single",
          "Married",
          "Married",
          "Single",
          "Married",
          "Single",
          "Single",
          "Single",
          "Married",
          "Single",
          "Married",
          "Single",
          "Married",
          "Single",
          "Married",
          "Single",
          "Married",
          "Single",
          "Married",
          "Single",
          "Single",
          "Single",
          "Married",
          "Married",
          "Married",
          "Married",
          "Single",
          "Married",
          "Married",
          "Married",
          "Married",
          "Single",
          "Single",
          "Married",
          "Single",
          "Single",
          "Married",
          "Married",
          "Married",
          "Single",
          "Single",
          "Married",
          "Married",
          "Married",
          "Single",
          "Single",
          "Married",
          "Married",
          "Married",
          "Married"
         ],
         "x0": " ",
         "xaxis": "x",
         "y": [
          50,
          33,
          58,
          null,
          35,
          38,
          35,
          55,
          35,
          34,
          63,
          50,
          50,
          43,
          65,
          52,
          42,
          38,
          35,
          52,
          68,
          50,
          63,
          52,
          37,
          35,
          49,
          49,
          52,
          53,
          35,
          66,
          48,
          52,
          37,
          65,
          42,
          52,
          42,
          55,
          60,
          34,
          50,
          54,
          40,
          38,
          52,
          52,
          48,
          38,
          66,
          36,
          67,
          33,
          54,
          67,
          57,
          43,
          51,
          42,
          51,
          49,
          37,
          39,
          69,
          58,
          40,
          66,
          35,
          47,
          64,
          36,
          36,
          47,
          42,
          66,
          38,
          60,
          53,
          69,
          38,
          58,
          53,
          36,
          33,
          46,
          34,
          67,
          37,
          67,
          51,
          59,
          51,
          67,
          68,
          50,
          52,
          36,
          69,
          40,
          65,
          36,
          50,
          33,
          42,
          48,
          56,
          38,
          49,
          57,
          53,
          40,
          55,
          null,
          58,
          48,
          34,
          70,
          55,
          56,
          37,
          39,
          51,
          51,
          57,
          49,
          58,
          57,
          49,
          52,
          36,
          49,
          65,
          56,
          58,
          50,
          38,
          50,
          59,
          48,
          47,
          49,
          59,
          58,
          59,
          38,
          49,
          49,
          42,
          53,
          49,
          49,
          47,
          55,
          56,
          69,
          59,
          50,
          37,
          57,
          54,
          59,
          55,
          53,
          59,
          49,
          48,
          50,
          69,
          51,
          53,
          50,
          53,
          37,
          51,
          54,
          64,
          52,
          67,
          39,
          49,
          53,
          55,
          55,
          38,
          71,
          37,
          49,
          48,
          36,
          36,
          51,
          48,
          57,
          48,
          50,
          59,
          50,
          38,
          53,
          62,
          55,
          51,
          47,
          41,
          48,
          49,
          54
         ],
         "y0": " ",
         "yaxis": "y"
        },
        {
         "alignmentgroup": "True",
         "hovertemplate": "Children=4.0<br>Marital Status=%{x}<br>Age=%{y}<extra></extra>",
         "legendgroup": "4.0",
         "marker": {
          "color": "#19d3f3"
         },
         "name": "4.0",
         "notched": false,
         "offsetgroup": "4.0",
         "orientation": "v",
         "showlegend": true,
         "type": "box",
         "x": [
          "Single",
          "Married",
          "Single",
          "Married",
          "Married",
          "Single",
          "Single",
          "Single",
          "Married",
          "Single",
          "Married",
          "Married",
          "Single",
          "Married",
          "Married",
          "Married",
          "Married",
          "Single",
          "Married",
          "Married",
          "Married",
          "Married",
          "Married",
          "Married",
          "Married",
          "Married",
          "Married",
          "Single",
          "Married",
          "Married",
          "Married",
          "Married",
          "Married",
          "Married",
          "Single",
          "Married",
          "Married",
          "Married",
          "Married",
          "Married",
          "Married",
          "Married",
          "Single",
          "Single",
          "Single",
          "Single",
          "Married",
          "Married",
          "Married",
          "Single",
          "Married",
          "Married",
          "Married",
          "Married",
          "Married",
          "Married",
          "Married",
          "Single",
          "Single",
          "Married",
          "Married",
          "Married",
          "Married",
          "Single",
          "Single",
          "Married",
          "Single",
          "Single",
          "Single",
          "Married",
          "Married",
          "Single",
          "Single",
          "Single",
          "Married",
          "Married",
          "Single",
          "Married",
          "Single",
          "Single",
          "Married",
          "Married",
          "Married",
          "Married",
          "Married",
          "Married",
          "Single",
          "Married",
          "Single",
          "Married",
          "Single",
          "Married",
          "Married",
          "Single",
          "Single",
          "Single",
          "Married",
          "Married",
          "Married",
          "Married",
          "Married",
          "Married",
          "Married",
          "Single",
          "Single",
          "Married",
          "Married",
          "Single",
          "Single",
          "Single",
          "Married",
          "Married",
          "Married",
          "Married",
          "Married",
          "Married",
          "Single",
          "Married",
          "Married",
          "Married",
          "Single",
          "Single",
          "Single",
          "Married",
          "Single"
         ],
         "x0": " ",
         "xaxis": "x",
         "y": [
          40,
          48,
          56,
          54,
          61,
          41,
          43,
          31,
          45,
          40,
          56,
          60,
          41,
          61,
          55,
          58,
          36,
          54,
          56,
          45,
          55,
          40,
          54,
          36,
          47,
          58,
          54,
          41,
          38,
          53,
          58,
          46,
          53,
          48,
          36,
          53,
          60,
          58,
          46,
          51,
          40,
          42,
          66,
          61,
          62,
          67,
          64,
          42,
          43,
          48,
          63,
          42,
          59,
          47,
          61,
          70,
          45,
          47,
          47,
          44,
          41,
          58,
          55,
          48,
          43,
          64,
          47,
          63,
          35,
          47,
          60,
          47,
          42,
          41,
          59,
          59,
          38,
          36,
          42,
          41,
          30,
          56,
          47,
          59,
          42,
          40,
          47,
          43,
          43,
          42,
          43,
          73,
          69,
          61,
          62,
          50,
          36,
          43,
          53,
          56,
          45,
          72,
          68,
          42,
          43,
          64,
          44,
          42,
          73,
          38,
          63,
          46,
          61,
          60,
          36,
          42,
          45,
          59,
          43,
          35,
          56,
          65,
          42,
          42,
          35
         ],
         "y0": " ",
         "yaxis": "y"
        }
       ],
       "layout": {
        "boxmode": "group",
        "legend": {
         "title": {
          "text": "Children"
         },
         "tracegroupgap": 0
        },
        "margin": {
         "t": 60
        },
        "template": {
         "data": {
          "bar": [
           {
            "error_x": {
             "color": "#2a3f5f"
            },
            "error_y": {
             "color": "#2a3f5f"
            },
            "marker": {
             "line": {
              "color": "#E5ECF6",
              "width": 0.5
             },
             "pattern": {
              "fillmode": "overlay",
              "size": 10,
              "solidity": 0.2
             }
            },
            "type": "bar"
           }
          ],
          "barpolar": [
           {
            "marker": {
             "line": {
              "color": "#E5ECF6",
              "width": 0.5
             },
             "pattern": {
              "fillmode": "overlay",
              "size": 10,
              "solidity": 0.2
             }
            },
            "type": "barpolar"
           }
          ],
          "carpet": [
           {
            "aaxis": {
             "endlinecolor": "#2a3f5f",
             "gridcolor": "white",
             "linecolor": "white",
             "minorgridcolor": "white",
             "startlinecolor": "#2a3f5f"
            },
            "baxis": {
             "endlinecolor": "#2a3f5f",
             "gridcolor": "white",
             "linecolor": "white",
             "minorgridcolor": "white",
             "startlinecolor": "#2a3f5f"
            },
            "type": "carpet"
           }
          ],
          "choropleth": [
           {
            "colorbar": {
             "outlinewidth": 0,
             "ticks": ""
            },
            "type": "choropleth"
           }
          ],
          "contour": [
           {
            "colorbar": {
             "outlinewidth": 0,
             "ticks": ""
            },
            "colorscale": [
             [
              0,
              "#0d0887"
             ],
             [
              0.1111111111111111,
              "#46039f"
             ],
             [
              0.2222222222222222,
              "#7201a8"
             ],
             [
              0.3333333333333333,
              "#9c179e"
             ],
             [
              0.4444444444444444,
              "#bd3786"
             ],
             [
              0.5555555555555556,
              "#d8576b"
             ],
             [
              0.6666666666666666,
              "#ed7953"
             ],
             [
              0.7777777777777778,
              "#fb9f3a"
             ],
             [
              0.8888888888888888,
              "#fdca26"
             ],
             [
              1,
              "#f0f921"
             ]
            ],
            "type": "contour"
           }
          ],
          "contourcarpet": [
           {
            "colorbar": {
             "outlinewidth": 0,
             "ticks": ""
            },
            "type": "contourcarpet"
           }
          ],
          "heatmap": [
           {
            "colorbar": {
             "outlinewidth": 0,
             "ticks": ""
            },
            "colorscale": [
             [
              0,
              "#0d0887"
             ],
             [
              0.1111111111111111,
              "#46039f"
             ],
             [
              0.2222222222222222,
              "#7201a8"
             ],
             [
              0.3333333333333333,
              "#9c179e"
             ],
             [
              0.4444444444444444,
              "#bd3786"
             ],
             [
              0.5555555555555556,
              "#d8576b"
             ],
             [
              0.6666666666666666,
              "#ed7953"
             ],
             [
              0.7777777777777778,
              "#fb9f3a"
             ],
             [
              0.8888888888888888,
              "#fdca26"
             ],
             [
              1,
              "#f0f921"
             ]
            ],
            "type": "heatmap"
           }
          ],
          "heatmapgl": [
           {
            "colorbar": {
             "outlinewidth": 0,
             "ticks": ""
            },
            "colorscale": [
             [
              0,
              "#0d0887"
             ],
             [
              0.1111111111111111,
              "#46039f"
             ],
             [
              0.2222222222222222,
              "#7201a8"
             ],
             [
              0.3333333333333333,
              "#9c179e"
             ],
             [
              0.4444444444444444,
              "#bd3786"
             ],
             [
              0.5555555555555556,
              "#d8576b"
             ],
             [
              0.6666666666666666,
              "#ed7953"
             ],
             [
              0.7777777777777778,
              "#fb9f3a"
             ],
             [
              0.8888888888888888,
              "#fdca26"
             ],
             [
              1,
              "#f0f921"
             ]
            ],
            "type": "heatmapgl"
           }
          ],
          "histogram": [
           {
            "marker": {
             "pattern": {
              "fillmode": "overlay",
              "size": 10,
              "solidity": 0.2
             }
            },
            "type": "histogram"
           }
          ],
          "histogram2d": [
           {
            "colorbar": {
             "outlinewidth": 0,
             "ticks": ""
            },
            "colorscale": [
             [
              0,
              "#0d0887"
             ],
             [
              0.1111111111111111,
              "#46039f"
             ],
             [
              0.2222222222222222,
              "#7201a8"
             ],
             [
              0.3333333333333333,
              "#9c179e"
             ],
             [
              0.4444444444444444,
              "#bd3786"
             ],
             [
              0.5555555555555556,
              "#d8576b"
             ],
             [
              0.6666666666666666,
              "#ed7953"
             ],
             [
              0.7777777777777778,
              "#fb9f3a"
             ],
             [
              0.8888888888888888,
              "#fdca26"
             ],
             [
              1,
              "#f0f921"
             ]
            ],
            "type": "histogram2d"
           }
          ],
          "histogram2dcontour": [
           {
            "colorbar": {
             "outlinewidth": 0,
             "ticks": ""
            },
            "colorscale": [
             [
              0,
              "#0d0887"
             ],
             [
              0.1111111111111111,
              "#46039f"
             ],
             [
              0.2222222222222222,
              "#7201a8"
             ],
             [
              0.3333333333333333,
              "#9c179e"
             ],
             [
              0.4444444444444444,
              "#bd3786"
             ],
             [
              0.5555555555555556,
              "#d8576b"
             ],
             [
              0.6666666666666666,
              "#ed7953"
             ],
             [
              0.7777777777777778,
              "#fb9f3a"
             ],
             [
              0.8888888888888888,
              "#fdca26"
             ],
             [
              1,
              "#f0f921"
             ]
            ],
            "type": "histogram2dcontour"
           }
          ],
          "mesh3d": [
           {
            "colorbar": {
             "outlinewidth": 0,
             "ticks": ""
            },
            "type": "mesh3d"
           }
          ],
          "parcoords": [
           {
            "line": {
             "colorbar": {
              "outlinewidth": 0,
              "ticks": ""
             }
            },
            "type": "parcoords"
           }
          ],
          "pie": [
           {
            "automargin": true,
            "type": "pie"
           }
          ],
          "scatter": [
           {
            "fillpattern": {
             "fillmode": "overlay",
             "size": 10,
             "solidity": 0.2
            },
            "type": "scatter"
           }
          ],
          "scatter3d": [
           {
            "line": {
             "colorbar": {
              "outlinewidth": 0,
              "ticks": ""
             }
            },
            "marker": {
             "colorbar": {
              "outlinewidth": 0,
              "ticks": ""
             }
            },
            "type": "scatter3d"
           }
          ],
          "scattercarpet": [
           {
            "marker": {
             "colorbar": {
              "outlinewidth": 0,
              "ticks": ""
             }
            },
            "type": "scattercarpet"
           }
          ],
          "scattergeo": [
           {
            "marker": {
             "colorbar": {
              "outlinewidth": 0,
              "ticks": ""
             }
            },
            "type": "scattergeo"
           }
          ],
          "scattergl": [
           {
            "marker": {
             "colorbar": {
              "outlinewidth": 0,
              "ticks": ""
             }
            },
            "type": "scattergl"
           }
          ],
          "scattermapbox": [
           {
            "marker": {
             "colorbar": {
              "outlinewidth": 0,
              "ticks": ""
             }
            },
            "type": "scattermapbox"
           }
          ],
          "scatterpolar": [
           {
            "marker": {
             "colorbar": {
              "outlinewidth": 0,
              "ticks": ""
             }
            },
            "type": "scatterpolar"
           }
          ],
          "scatterpolargl": [
           {
            "marker": {
             "colorbar": {
              "outlinewidth": 0,
              "ticks": ""
             }
            },
            "type": "scatterpolargl"
           }
          ],
          "scatterternary": [
           {
            "marker": {
             "colorbar": {
              "outlinewidth": 0,
              "ticks": ""
             }
            },
            "type": "scatterternary"
           }
          ],
          "surface": [
           {
            "colorbar": {
             "outlinewidth": 0,
             "ticks": ""
            },
            "colorscale": [
             [
              0,
              "#0d0887"
             ],
             [
              0.1111111111111111,
              "#46039f"
             ],
             [
              0.2222222222222222,
              "#7201a8"
             ],
             [
              0.3333333333333333,
              "#9c179e"
             ],
             [
              0.4444444444444444,
              "#bd3786"
             ],
             [
              0.5555555555555556,
              "#d8576b"
             ],
             [
              0.6666666666666666,
              "#ed7953"
             ],
             [
              0.7777777777777778,
              "#fb9f3a"
             ],
             [
              0.8888888888888888,
              "#fdca26"
             ],
             [
              1,
              "#f0f921"
             ]
            ],
            "type": "surface"
           }
          ],
          "table": [
           {
            "cells": {
             "fill": {
              "color": "#EBF0F8"
             },
             "line": {
              "color": "white"
             }
            },
            "header": {
             "fill": {
              "color": "#C8D4E3"
             },
             "line": {
              "color": "white"
             }
            },
            "type": "table"
           }
          ]
         },
         "layout": {
          "annotationdefaults": {
           "arrowcolor": "#2a3f5f",
           "arrowhead": 0,
           "arrowwidth": 1
          },
          "autotypenumbers": "strict",
          "coloraxis": {
           "colorbar": {
            "outlinewidth": 0,
            "ticks": ""
           }
          },
          "colorscale": {
           "diverging": [
            [
             0,
             "#8e0152"
            ],
            [
             0.1,
             "#c51b7d"
            ],
            [
             0.2,
             "#de77ae"
            ],
            [
             0.3,
             "#f1b6da"
            ],
            [
             0.4,
             "#fde0ef"
            ],
            [
             0.5,
             "#f7f7f7"
            ],
            [
             0.6,
             "#e6f5d0"
            ],
            [
             0.7,
             "#b8e186"
            ],
            [
             0.8,
             "#7fbc41"
            ],
            [
             0.9,
             "#4d9221"
            ],
            [
             1,
             "#276419"
            ]
           ],
           "sequential": [
            [
             0,
             "#0d0887"
            ],
            [
             0.1111111111111111,
             "#46039f"
            ],
            [
             0.2222222222222222,
             "#7201a8"
            ],
            [
             0.3333333333333333,
             "#9c179e"
            ],
            [
             0.4444444444444444,
             "#bd3786"
            ],
            [
             0.5555555555555556,
             "#d8576b"
            ],
            [
             0.6666666666666666,
             "#ed7953"
            ],
            [
             0.7777777777777778,
             "#fb9f3a"
            ],
            [
             0.8888888888888888,
             "#fdca26"
            ],
            [
             1,
             "#f0f921"
            ]
           ],
           "sequentialminus": [
            [
             0,
             "#0d0887"
            ],
            [
             0.1111111111111111,
             "#46039f"
            ],
            [
             0.2222222222222222,
             "#7201a8"
            ],
            [
             0.3333333333333333,
             "#9c179e"
            ],
            [
             0.4444444444444444,
             "#bd3786"
            ],
            [
             0.5555555555555556,
             "#d8576b"
            ],
            [
             0.6666666666666666,
             "#ed7953"
            ],
            [
             0.7777777777777778,
             "#fb9f3a"
            ],
            [
             0.8888888888888888,
             "#fdca26"
            ],
            [
             1,
             "#f0f921"
            ]
           ]
          },
          "colorway": [
           "#636efa",
           "#EF553B",
           "#00cc96",
           "#ab63fa",
           "#FFA15A",
           "#19d3f3",
           "#FF6692",
           "#B6E880",
           "#FF97FF",
           "#FECB52"
          ],
          "font": {
           "color": "#2a3f5f"
          },
          "geo": {
           "bgcolor": "white",
           "lakecolor": "white",
           "landcolor": "#E5ECF6",
           "showlakes": true,
           "showland": true,
           "subunitcolor": "white"
          },
          "hoverlabel": {
           "align": "left"
          },
          "hovermode": "closest",
          "mapbox": {
           "style": "light"
          },
          "paper_bgcolor": "white",
          "plot_bgcolor": "#E5ECF6",
          "polar": {
           "angularaxis": {
            "gridcolor": "white",
            "linecolor": "white",
            "ticks": ""
           },
           "bgcolor": "#E5ECF6",
           "radialaxis": {
            "gridcolor": "white",
            "linecolor": "white",
            "ticks": ""
           }
          },
          "scene": {
           "xaxis": {
            "backgroundcolor": "#E5ECF6",
            "gridcolor": "white",
            "gridwidth": 2,
            "linecolor": "white",
            "showbackground": true,
            "ticks": "",
            "zerolinecolor": "white"
           },
           "yaxis": {
            "backgroundcolor": "#E5ECF6",
            "gridcolor": "white",
            "gridwidth": 2,
            "linecolor": "white",
            "showbackground": true,
            "ticks": "",
            "zerolinecolor": "white"
           },
           "zaxis": {
            "backgroundcolor": "#E5ECF6",
            "gridcolor": "white",
            "gridwidth": 2,
            "linecolor": "white",
            "showbackground": true,
            "ticks": "",
            "zerolinecolor": "white"
           }
          },
          "shapedefaults": {
           "line": {
            "color": "#2a3f5f"
           }
          },
          "ternary": {
           "aaxis": {
            "gridcolor": "white",
            "linecolor": "white",
            "ticks": ""
           },
           "baxis": {
            "gridcolor": "white",
            "linecolor": "white",
            "ticks": ""
           },
           "bgcolor": "#E5ECF6",
           "caxis": {
            "gridcolor": "white",
            "linecolor": "white",
            "ticks": ""
           }
          },
          "title": {
           "x": 0.05
          },
          "xaxis": {
           "automargin": true,
           "gridcolor": "white",
           "linecolor": "white",
           "ticks": "",
           "title": {
            "standoff": 15
           },
           "zerolinecolor": "white",
           "zerolinewidth": 2
          },
          "yaxis": {
           "automargin": true,
           "gridcolor": "white",
           "linecolor": "white",
           "ticks": "",
           "title": {
            "standoff": 15
           },
           "zerolinecolor": "white",
           "zerolinewidth": 2
          }
         }
        },
        "xaxis": {
         "anchor": "y",
         "domain": [
          0,
          1
         ],
         "title": {
          "text": "Marital Status"
         }
        },
        "yaxis": {
         "anchor": "x",
         "domain": [
          0,
          1
         ],
         "title": {
          "text": "Age"
         }
        }
       }
      },
      "text/html": [
       "<div>                            <div id=\"83a58a54-816e-46ec-a9f5-862d7a554c4d\" class=\"plotly-graph-div\" style=\"height:525px; width:100%;\"></div>            <script type=\"text/javascript\">                require([\"plotly\"], function(Plotly) {                    window.PLOTLYENV=window.PLOTLYENV || {};                                    if (document.getElementById(\"83a58a54-816e-46ec-a9f5-862d7a554c4d\")) {                    Plotly.newPlot(                        \"83a58a54-816e-46ec-a9f5-862d7a554c4d\",                        [{\"alignmentgroup\":\"True\",\"hovertemplate\":\"Children=1.0\\u003cbr\\u003eMarital Status=%{x}\\u003cbr\\u003eAge=%{y}\\u003cextra\\u003e\\u003c\\u002fextra\\u003e\",\"legendgroup\":\"1.0\",\"marker\":{\"color\":\"#636efa\"},\"name\":\"1.0\",\"notched\":false,\"offsetgroup\":\"1.0\",\"orientation\":\"v\",\"showlegend\":true,\"x\":[\"Married\",\"Married\",\"Single\",\"Married\",\"Single\",\"Married\",\"Married\",\"Married\",\"Married\",\"Married\",\"Single\",\"Married\",\"Married\",\"Married\",\"Married\",\"Single\",\"Single\",\"Single\",\"Married\",\"Married\",\"Single\",\"Married\",\"Single\",null,\"Single\",\"Married\",\"Married\",\"Single\",\"Single\",\"Married\",\"Single\",\"Married\",\"Married\",\"Married\",\"Single\",\"Married\",\"Single\",\"Married\",\"Married\",\"Married\",\"Married\",\"Married\",\"Single\",\"Married\",\"Married\",\"Married\",\"Single\",\"Single\",\"Single\",\"Married\",\"Single\",\"Single\",\"Married\",\"Single\",\"Married\",\"Single\",\"Married\",\"Married\",\"Married\",\"Married\",\"Married\",\"Married\",\"Single\",\"Single\",\"Married\",\"Married\",\"Married\",\"Married\",\"Married\",\"Married\",\"Single\",\"Married\",\"Single\",\"Married\",\"Married\",\"Married\",\"Married\",\"Married\",\"Single\",\"Married\",\"Married\",\"Married\",\"Married\",\"Married\",\"Married\",\"Married\",\"Single\",\"Married\",\"Married\",\"Married\",\"Married\",\"Single\",\"Married\",\"Married\",\"Married\",\"Married\",\"Single\",\"Married\",\"Married\",\"Single\",\"Married\",\"Married\",\"Married\",\"Married\",\"Married\",\"Married\",\"Married\",\"Married\",\"Married\",\"Single\",\"Married\",\"Married\",\"Married\",\"Married\",\"Single\",\"Married\",\"Married\",\"Single\",\"Married\",\"Single\",\"Married\",\"Married\",\"Married\",\"Married\",\"Married\",\"Married\",\"Single\",\"Single\",\"Married\",\"Married\",\"Single\",\"Married\",\"Married\",\"Single\",\"Married\",\"Married\",\"Married\",\"Married\",\"Married\",\"Married\",\"Single\",\"Married\",\"Single\",\"Single\",\"Single\",\"Married\",\"Married\",\"Single\",\"Married\",\"Married\",\"Married\",\"Married\",\"Married\",\"Single\",\"Married\",\"Married\",\"Married\",\"Married\",\"Married\",\"Single\",\"Married\",\"Married\",\"Single\",\"Married\",\"Married\",\"Married\",\"Single\",\"Single\"],\"x0\":\" \",\"xaxis\":\"x\",\"y\":[42.0,43.0,45.0,47.0,63.0,40.0,66.0,46.0,65.0,43.0,45.0,37.0,40.0,43.0,44.0,45.0,46.0,36.0,42.0,39.0,35.0,42.0,37.0,43.0,48.0,47.0,48.0,44.0,47.0,47.0,44.0,47.0,44.0,27.0,46.0,65.0,48.0,43.0,null,45.0,70.0,37.0,39.0,43.0,33.0,37.0,38.0,37.0,49.0,45.0,48.0,46.0,42.0,46.0,36.0,62.0,40.0,46.0,40.0,66.0,50.0,43.0,45.0,39.0,33.0,45.0,43.0,89.0,64.0,64.0,51.0,38.0,39.0,80.0,44.0,44.0,41.0,41.0,36.0,43.0,32.0,32.0,42.0,41.0,65.0,46.0,46.0,65.0,32.0,46.0,70.0,34.0,48.0,44.0,51.0,45.0,44.0,44.0,36.0,44.0,49.0,34.0,48.0,44.0,38.0,35.0,41.0,35.0,44.0,45.0,35.0,45.0,44.0,36.0,44.0,40.0,46.0,36.0,51.0,45.0,34.0,44.0,46.0,44.0,37.0,46.0,44.0,45.0,48.0,45.0,44.0,36.0,36.0,51.0,33.0,45.0,null,47.0,34.0,35.0,52.0,52.0,33.0,43.0,66.0,33.0,45.0,35.0,47.0,46.0,53.0,48.0,35.0,73.0,35.0,34.0,34.0,49.0,45.0,35.0,34.0,34.0,34.0,48.0,45.0,52.0,36.0,44.0],\"y0\":\" \",\"yaxis\":\"y\",\"type\":\"box\"},{\"alignmentgroup\":\"True\",\"hovertemplate\":\"Children=3.0\\u003cbr\\u003eMarital Status=%{x}\\u003cbr\\u003eAge=%{y}\\u003cextra\\u003e\\u003c\\u002fextra\\u003e\",\"legendgroup\":\"3.0\",\"marker\":{\"color\":\"#EF553B\"},\"name\":\"3.0\",\"notched\":false,\"offsetgroup\":\"3.0\",\"orientation\":\"v\",\"showlegend\":true,\"x\":[\"Married\",\"Married\",\"Single\",\"Married\",\"Married\",\"Married\",\"Single\",\"Single\",\"Married\",\"Single\",\"Single\",\"Single\",\"Married\",\"Married\",\"Married\",\"Single\",\"Married\",\"Single\",\"Married\",\"Single\",\"Married\",\"Single\",\"Married\",\"Married\",\"Married\",\"Single\",\"Single\",\"Single\",\"Single\",\"Married\",\"Single\",\"Married\",\"Married\",\"Single\",\"Single\",\"Married\",\"Single\",\"Married\",\"Married\",\"Married\",\"Married\",\"Single\",\"Single\",\"Married\",\"Married\",\"Single\",\"Single\",\"Single\",\"Married\",\"Single\",\"Married\",\"Single\",\"Single\",\"Single\",\"Single\",\"Single\",\"Married\",\"Single\",\"Single\",\"Married\",\"Married\",\"Married\",\"Single\",\"Single\",\"Single\",\"Married\",\"Married\",\"Married\",\"Married\",\"Single\",\"Married\",\"Married\",\"Single\",\"Married\",\"Married\",\"Single\",\"Single\",\"Married\",\"Married\",\"Single\",\"Married\",\"Married\",\"Single\",\"Married\",\"Married\",\"Married\",\"Married\",\"Married\",\"Married\",\"Single\",\"Single\",\"Single\",\"Married\",\"Married\",\"Single\",\"Single\",\"Married\",\"Married\",\"Single\",\"Married\",\"Married\",\"Married\",\"Single\",\"Single\",\"Single\",\"Single\",\"Single\",\"Single\",\"Single\",\"Married\",\"Married\",\"Married\",\"Single\",\"Married\",\"Married\",\"Single\",\"Single\",\"Single\",\"Married\",\"Single\",\"Married\",\"Single\",\"Single\",\"Married\",\"Married\",\"Married\",\"Married\",\"Single\",\"Single\",\"Single\",\"Single\"],\"x0\":\" \",\"xaxis\":\"x\",\"y\":[43.0,54.0,59.0,41.0,52.0,62.0,51.0,55.0,43.0,43.0,56.0,39.0,55.0,56.0,55.0,51.0,46.0,42.0,42.0,42.0,43.0,27.0,52.0,51.0,59.0,47.0,56.0,43.0,46.0,54.0,52.0,45.0,51.0,50.0,37.0,51.0,27.0,50.0,51.0,56.0,43.0,43.0,53.0,54.0,52.0,43.0,55.0,26.0,53.0,28.0,46.0,50.0,46.0,47.0,31.0,40.0,48.0,47.0,47.0,49.0,66.0,41.0,41.0,52.0,54.0,73.0,31.0,41.0,54.0,69.0,52.0,63.0,32.0,69.0,66.0,78.0,52.0,52.0,45.0,49.0,67.0,67.0,51.0,66.0,50.0,35.0,31.0,41.0,52.0,53.0,36.0,53.0,48.0,53.0,43.0,50.0,36.0,50.0,52.0,43.0,42.0,52.0,41.0,40.0,41.0,37.0,50.0,42.0,53.0,40.0,34.0,35.0,40.0,32.0,64.0,35.0,40.0,49.0,54.0,53.0,54.0,30.0,40.0,56.0,53.0,35.0,66.0,40.0,66.0,38.0,53.0],\"y0\":\" \",\"yaxis\":\"y\",\"type\":\"box\"},{\"alignmentgroup\":\"True\",\"hovertemplate\":\"Children=5.0\\u003cbr\\u003eMarital Status=%{x}\\u003cbr\\u003eAge=%{y}\\u003cextra\\u003e\\u003c\\u002fextra\\u003e\",\"legendgroup\":\"5.0\",\"marker\":{\"color\":\"#00cc96\"},\"name\":\"5.0\",\"notched\":false,\"offsetgroup\":\"5.0\",\"orientation\":\"v\",\"showlegend\":true,\"x\":[\"Married\",\"Married\",\"Married\",\"Married\",\"Single\",\"Single\",\"Married\",\"Single\",\"Married\",\"Married\",\"Married\",\"Married\",\"Single\",\"Single\",\"Married\",\"Single\",\"Single\",\"Single\",\"Single\",\"Married\",\"Married\",\"Married\",\"Married\",\"Single\",\"Single\",\"Single\",\"Married\",\"Married\",\"Single\",\"Married\",\"Married\",\"Single\",\"Single\",\"Married\",\"Married\",\"Married\",\"Single\",\"Married\",\"Single\",\"Married\",\"Married\",\"Married\",\"Single\",\"Single\",\"Single\",\"Married\",\"Single\",\"Married\",\"Single\",\"Married\",\"Married\",\"Married\",\"Married\",\"Married\",\"Married\",\"Married\",\"Single\",\"Single\",\"Married\",\"Married\",\"Married\",\"Married\",\"Married\",\"Single\",\"Married\",\"Single\",\"Married\",\"Married\",\"Single\",\"Married\",\"Married\",\"Married\",\"Married\",\"Married\",\"Married\",\"Single\",\"Married\",\"Married\"],\"x0\":\" \",\"xaxis\":\"x\",\"y\":[60.0,55.0,56.0,44.0,62.0,41.0,40.0,62.0,62.0,40.0,59.0,61.0,59.0,62.0,41.0,62.0,39.0,57.0,44.0,46.0,48.0,62.0,78.0,39.0,27.0,47.0,45.0,46.0,62.0,47.0,59.0,null,38.0,43.0,40.0,44.0,45.0,40.0,60.0,47.0,47.0,64.0,59.0,44.0,46.0,47.0,44.0,41.0,67.0,45.0,47.0,61.0,62.0,40.0,60.0,37.0,60.0,47.0,59.0,41.0,57.0,60.0,60.0,60.0,61.0,60.0,46.0,64.0,47.0,47.0,63.0,47.0,66.0,45.0,46.0,null,63.0,46.0],\"y0\":\" \",\"yaxis\":\"y\",\"type\":\"box\"},{\"alignmentgroup\":\"True\",\"hovertemplate\":\"Children=0.0\\u003cbr\\u003eMarital Status=%{x}\\u003cbr\\u003eAge=%{y}\\u003cextra\\u003e\\u003c\\u002fextra\\u003e\",\"legendgroup\":\"0.0\",\"marker\":{\"color\":\"#ab63fa\"},\"name\":\"0.0\",\"notched\":false,\"offsetgroup\":\"0.0\",\"orientation\":\"v\",\"showlegend\":true,\"x\":[\"Single\",\"Single\",\"Married\",\"Single\",\"Single\",null,\"Single\",\"Married\",\"Single\",\"Single\",\"Single\",null,\"Single\",\"Single\",\"Single\",\"Married\",\"Married\",\"Single\",\"Married\",\"Married\",\"Single\",\"Single\",\"Single\",\"Married\",\"Married\",\"Single\",\"Single\",\"Single\",\"Single\",\"Single\",\"Single\",null,\"Single\",\"Married\",\"Single\",\"Single\",\"Married\",\"Single\",\"Single\",\"Single\",\"Single\",\"Single\",\"Married\",\"Single\",\"Single\",\"Married\",\"Married\",\"Married\",\"Single\",\"Single\",\"Married\",\"Married\",\"Single\",\"Single\",\"Married\",\"Married\",\"Single\",\"Single\",\"Married\",\"Married\",\"Single\",\"Single\",\"Single\",\"Single\",\"Single\",\"Single\",\"Single\",\"Single\",\"Married\",\"Single\",\"Single\",\"Single\",\"Single\",\"Married\",\"Married\",null,\"Married\",\"Single\",\"Single\",\"Married\",\"Single\",\"Single\",\"Single\",\"Married\",\"Married\",\"Single\",\"Single\",\"Single\",\"Married\",\"Married\",\"Single\",\"Married\",\"Married\",\"Single\",\"Single\",null,\"Single\",\"Married\",\"Married\",\"Single\",\"Single\",\"Married\",\"Single\",\"Married\",\"Single\",\"Single\",\"Married\",\"Single\",\"Single\",\"Single\",\"Single\",\"Single\",\"Single\",\"Single\",\"Single\",\"Single\",\"Single\",\"Married\",\"Single\",\"Single\",\"Single\",\"Single\",\"Married\",\"Single\",\"Single\",\"Married\",\"Single\",\"Single\",\"Married\",\"Married\",\"Married\",\"Married\",\"Single\",\"Single\",\"Single\",\"Single\",\"Single\",\"Married\",\"Single\",\"Single\",\"Single\",\"Married\",\"Single\",\"Married\",\"Single\",\"Single\",\"Married\",\"Single\",\"Single\",\"Single\",\"Married\",\"Single\",\"Married\",\"Single\",\"Single\",\"Married\",\"Single\",\"Married\",\"Single\",\"Married\",\"Married\",\"Married\",\"Single\",\"Single\",\"Married\",\"Single\",\"Married\",\"Single\",\"Single\",\"Married\",\"Single\",\"Single\",\"Single\",\"Married\",\"Single\",\"Single\",\"Single\",\"Single\",\"Single\",\"Married\",\"Married\",\"Married\",\"Married\",\"Married\",\"Single\",\"Single\",\"Single\",\"Married\",\"Married\",\"Single\",\"Single\",\"Single\",\"Single\",\"Single\",\"Single\",\"Single\",\"Single\",\"Married\",\"Married\",\"Single\",\"Married\",\"Single\",\"Married\",\"Single\",\"Married\",\"Single\",\"Single\",\"Single\",\"Single\",\"Single\",\"Married\",\"Married\",\"Single\",\"Married\",\"Single\",\"Single\",\"Married\",\"Single\",\"Married\",\"Single\",\"Married\",\"Single\",\"Single\",\"Single\",\"Married\",\"Single\",\"Single\",\"Married\",\"Married\",\"Married\",\"Single\",\"Married\",\"Married\",\"Married\",\"Single\",\"Married\",\"Married\",\"Single\",\"Married\",\"Single\",\"Married\",\"Single\",\"Single\",\"Married\",\"Married\",\"Single\",\"Single\",\"Married\",\"Single\",\"Married\",\"Single\",\"Single\",\"Single\",\"Single\",\"Married\",\"Married\",\"Married\",\"Married\",\"Married\",\"Single\",\"Married\",\"Single\",\"Single\",\"Married\",\"Single\",\"Married\",\"Married\",\"Single\",\"Married\",\"Married\",\"Single\",\"Single\"],\"x0\":\" \",\"xaxis\":\"x\",\"y\":[36.0,36.0,36.0,35.0,29.0,40.0,32.0,26.0,31.0,30.0,28.0,39.0,28.0,35.0,42.0,38.0,37.0,33.0,30.0,36.0,35.0,36.0,26.0,29.0,47.0,29.0,26.0,29.0,29.0,30.0,33.0,null,30.0,38.0,39.0,38.0,26.0,30.0,29.0,31.0,38.0,32.0,40.0,40.0,26.0,32.0,37.0,40.0,27.0,32.0,25.0,25.0,35.0,41.0,33.0,27.0,37.0,29.0,37.0,32.0,32.0,25.0,36.0,39.0,33.0,31.0,26.0,37.0,36.0,30.0,31.0,26.0,35.0,38.0,27.0,35.0,26.0,34.0,29.0,34.0,37.0,31.0,36.0,37.0,37.0,37.0,28.0,30.0,36.0,35.0,34.0,48.0,38.0,36.0,32.0,28.0,41.0,35.0,40.0,47.0,37.0,26.0,32.0,30.0,35.0,34.0,32.0,30.0,32.0,35.0,32.0,31.0,29.0,28.0,38.0,32.0,33.0,30.0,48.0,38.0,30.0,30.0,37.0,28.0,34.0,41.0,38.0,41.0,32.0,38.0,37.0,35.0,32.0,34.0,28.0,31.0,28.0,34.0,40.0,34.0,32.0,48.0,34.0,32.0,33.0,31.0,39.0,28.0,43.0,38.0,47.0,42.0,35.0,36.0,31.0,39.0,34.0,32.0,31.0,34.0,29.0,29.0,37.0,45.0,34.0,28.0,27.0,28.0,37.0,29.0,29.0,42.0,39.0,40.0,28.0,27.0,30.0,34.0,31.0,28.0,40.0,27.0,43.0,34.0,27.0,30.0,27.0,29.0,30.0,30.0,39.0,31.0,38.0,32.0,31.0,31.0,28.0,40.0,40.0,30.0,33.0,30.0,26.0,30.0,28.0,43.0,26.0,33.0,42.0,33.0,32.0,28.0,40.0,27.0,38.0,26.0,31.0,30.0,32.0,27.0,27.0,34.0,27.0,28.0,28.0,27.0,25.0,27.0,28.0,27.0,32.0,31.0,30.0,30.0,30.0,33.0,32.0,26.0,39.0,37.0,28.0,29.0,38.0,32.0,32.0,31.0,27.0,42.0,32.0,32.0,38.0,31.0,38.0,26.0,32.0,32.0,28.0,39.0,34.0,33.0,39.0,27.0,29.0,27.0,40.0,30.0,33.0,27.0,39.0,31.0,31.0,26.0],\"y0\":\" \",\"yaxis\":\"y\",\"type\":\"box\"},{\"alignmentgroup\":\"True\",\"hovertemplate\":\"Children=2.0\\u003cbr\\u003eMarital Status=%{x}\\u003cbr\\u003eAge=%{y}\\u003cextra\\u003e\\u003c\\u002fextra\\u003e\",\"legendgroup\":\"2.0\",\"marker\":{\"color\":\"#FFA15A\"},\"name\":\"2.0\",\"notched\":false,\"offsetgroup\":\"2.0\",\"orientation\":\"v\",\"showlegend\":true,\"x\":[\"Married\",\"Single\",null,\"Married\",\"Married\",\"Single\",\"Single\",\"Single\",\"Single\",\"Single\",\"Married\",\"Single\",\"Married\",\"Single\",\"Single\",\"Single\",\"Married\",\"Married\",\"Single\",\"Married\",\"Single\",\"Married\",\"Single\",\"Single\",\"Single\",\"Single\",\"Married\",\"Single\",\"Married\",\"Single\",\"Single\",\"Married\",\"Married\",\"Single\",\"Married\",\"Single\",\"Single\",\"Married\",\"Single\",\"Married\",\"Single\",\"Married\",\"Single\",\"Single\",\"Married\",\"Single\",\"Single\",\"Single\",\"Single\",\"Married\",\"Single\",\"Single\",\"Married\",\"Single\",\"Married\",\"Married\",\"Single\",\"Single\",\"Married\",\"Single\",\"Single\",\"Married\",\"Married\",\"Single\",\"Married\",\"Single\",\"Married\",\"Married\",\"Married\",\"Married\",\"Married\",\"Single\",\"Single\",\"Married\",\"Married\",\"Married\",\"Single\",\"Single\",\"Single\",\"Married\",\"Single\",\"Married\",\"Single\",\"Single\",\"Single\",\"Married\",\"Single\",\"Single\",\"Single\",\"Single\",\"Single\",\"Married\",\"Married\",\"Married\",\"Single\",\"Married\",\"Married\",\"Single\",\"Married\",\"Single\",\"Married\",\"Married\",\"Married\",\"Single\",\"Single\",\"Married\",\"Married\",\"Married\",\"Married\",\"Married\",\"Married\",\"Single\",\"Married\",\"Married\",\"Single\",\"Married\",\"Married\",\"Married\",\"Married\",\"Single\",\"Single\",\"Single\",\"Married\",\"Married\",\"Single\",\"Single\",\"Single\",\"Married\",\"Married\",\"Single\",\"Single\",\"Single\",\"Married\",\"Married\",\"Single\",\"Married\",\"Single\",\"Married\",\"Married\",\"Married\",\"Married\",\"Married\",\"Single\",\"Married\",\"Married\",\"Single\",\"Single\",\"Married\",\"Married\",\"Married\",\"Married\",\"Married\",\"Single\",\"Married\",\"Married\",\"Married\",\"Married\",\"Married\",\"Single\",\"Married\",\"Married\",\"Single\",\"Married\",\"Single\",\"Single\",\"Single\",\"Married\",\"Single\",\"Married\",\"Single\",\"Married\",\"Single\",\"Married\",\"Single\",\"Married\",\"Single\",\"Married\",\"Single\",\"Single\",\"Single\",\"Married\",\"Married\",\"Married\",\"Married\",\"Single\",\"Married\",\"Married\",\"Married\",\"Married\",\"Single\",\"Single\",\"Married\",\"Single\",\"Single\",\"Married\",\"Married\",\"Married\",\"Single\",\"Single\",\"Married\",\"Married\",\"Married\",\"Single\",\"Single\",\"Married\",\"Married\",\"Married\",\"Married\"],\"x0\":\" \",\"xaxis\":\"x\",\"y\":[50.0,33.0,58.0,null,35.0,38.0,35.0,55.0,35.0,34.0,63.0,50.0,50.0,43.0,65.0,52.0,42.0,38.0,35.0,52.0,68.0,50.0,63.0,52.0,37.0,35.0,49.0,49.0,52.0,53.0,35.0,66.0,48.0,52.0,37.0,65.0,42.0,52.0,42.0,55.0,60.0,34.0,50.0,54.0,40.0,38.0,52.0,52.0,48.0,38.0,66.0,36.0,67.0,33.0,54.0,67.0,57.0,43.0,51.0,42.0,51.0,49.0,37.0,39.0,69.0,58.0,40.0,66.0,35.0,47.0,64.0,36.0,36.0,47.0,42.0,66.0,38.0,60.0,53.0,69.0,38.0,58.0,53.0,36.0,33.0,46.0,34.0,67.0,37.0,67.0,51.0,59.0,51.0,67.0,68.0,50.0,52.0,36.0,69.0,40.0,65.0,36.0,50.0,33.0,42.0,48.0,56.0,38.0,49.0,57.0,53.0,40.0,55.0,null,58.0,48.0,34.0,70.0,55.0,56.0,37.0,39.0,51.0,51.0,57.0,49.0,58.0,57.0,49.0,52.0,36.0,49.0,65.0,56.0,58.0,50.0,38.0,50.0,59.0,48.0,47.0,49.0,59.0,58.0,59.0,38.0,49.0,49.0,42.0,53.0,49.0,49.0,47.0,55.0,56.0,69.0,59.0,50.0,37.0,57.0,54.0,59.0,55.0,53.0,59.0,49.0,48.0,50.0,69.0,51.0,53.0,50.0,53.0,37.0,51.0,54.0,64.0,52.0,67.0,39.0,49.0,53.0,55.0,55.0,38.0,71.0,37.0,49.0,48.0,36.0,36.0,51.0,48.0,57.0,48.0,50.0,59.0,50.0,38.0,53.0,62.0,55.0,51.0,47.0,41.0,48.0,49.0,54.0],\"y0\":\" \",\"yaxis\":\"y\",\"type\":\"box\"},{\"alignmentgroup\":\"True\",\"hovertemplate\":\"Children=4.0\\u003cbr\\u003eMarital Status=%{x}\\u003cbr\\u003eAge=%{y}\\u003cextra\\u003e\\u003c\\u002fextra\\u003e\",\"legendgroup\":\"4.0\",\"marker\":{\"color\":\"#19d3f3\"},\"name\":\"4.0\",\"notched\":false,\"offsetgroup\":\"4.0\",\"orientation\":\"v\",\"showlegend\":true,\"x\":[\"Single\",\"Married\",\"Single\",\"Married\",\"Married\",\"Single\",\"Single\",\"Single\",\"Married\",\"Single\",\"Married\",\"Married\",\"Single\",\"Married\",\"Married\",\"Married\",\"Married\",\"Single\",\"Married\",\"Married\",\"Married\",\"Married\",\"Married\",\"Married\",\"Married\",\"Married\",\"Married\",\"Single\",\"Married\",\"Married\",\"Married\",\"Married\",\"Married\",\"Married\",\"Single\",\"Married\",\"Married\",\"Married\",\"Married\",\"Married\",\"Married\",\"Married\",\"Single\",\"Single\",\"Single\",\"Single\",\"Married\",\"Married\",\"Married\",\"Single\",\"Married\",\"Married\",\"Married\",\"Married\",\"Married\",\"Married\",\"Married\",\"Single\",\"Single\",\"Married\",\"Married\",\"Married\",\"Married\",\"Single\",\"Single\",\"Married\",\"Single\",\"Single\",\"Single\",\"Married\",\"Married\",\"Single\",\"Single\",\"Single\",\"Married\",\"Married\",\"Single\",\"Married\",\"Single\",\"Single\",\"Married\",\"Married\",\"Married\",\"Married\",\"Married\",\"Married\",\"Single\",\"Married\",\"Single\",\"Married\",\"Single\",\"Married\",\"Married\",\"Single\",\"Single\",\"Single\",\"Married\",\"Married\",\"Married\",\"Married\",\"Married\",\"Married\",\"Married\",\"Single\",\"Single\",\"Married\",\"Married\",\"Single\",\"Single\",\"Single\",\"Married\",\"Married\",\"Married\",\"Married\",\"Married\",\"Married\",\"Single\",\"Married\",\"Married\",\"Married\",\"Single\",\"Single\",\"Single\",\"Married\",\"Single\"],\"x0\":\" \",\"xaxis\":\"x\",\"y\":[40.0,48.0,56.0,54.0,61.0,41.0,43.0,31.0,45.0,40.0,56.0,60.0,41.0,61.0,55.0,58.0,36.0,54.0,56.0,45.0,55.0,40.0,54.0,36.0,47.0,58.0,54.0,41.0,38.0,53.0,58.0,46.0,53.0,48.0,36.0,53.0,60.0,58.0,46.0,51.0,40.0,42.0,66.0,61.0,62.0,67.0,64.0,42.0,43.0,48.0,63.0,42.0,59.0,47.0,61.0,70.0,45.0,47.0,47.0,44.0,41.0,58.0,55.0,48.0,43.0,64.0,47.0,63.0,35.0,47.0,60.0,47.0,42.0,41.0,59.0,59.0,38.0,36.0,42.0,41.0,30.0,56.0,47.0,59.0,42.0,40.0,47.0,43.0,43.0,42.0,43.0,73.0,69.0,61.0,62.0,50.0,36.0,43.0,53.0,56.0,45.0,72.0,68.0,42.0,43.0,64.0,44.0,42.0,73.0,38.0,63.0,46.0,61.0,60.0,36.0,42.0,45.0,59.0,43.0,35.0,56.0,65.0,42.0,42.0,35.0],\"y0\":\" \",\"yaxis\":\"y\",\"type\":\"box\"}],                        {\"template\":{\"data\":{\"histogram2dcontour\":[{\"type\":\"histogram2dcontour\",\"colorbar\":{\"outlinewidth\":0,\"ticks\":\"\"},\"colorscale\":[[0.0,\"#0d0887\"],[0.1111111111111111,\"#46039f\"],[0.2222222222222222,\"#7201a8\"],[0.3333333333333333,\"#9c179e\"],[0.4444444444444444,\"#bd3786\"],[0.5555555555555556,\"#d8576b\"],[0.6666666666666666,\"#ed7953\"],[0.7777777777777778,\"#fb9f3a\"],[0.8888888888888888,\"#fdca26\"],[1.0,\"#f0f921\"]]}],\"choropleth\":[{\"type\":\"choropleth\",\"colorbar\":{\"outlinewidth\":0,\"ticks\":\"\"}}],\"histogram2d\":[{\"type\":\"histogram2d\",\"colorbar\":{\"outlinewidth\":0,\"ticks\":\"\"},\"colorscale\":[[0.0,\"#0d0887\"],[0.1111111111111111,\"#46039f\"],[0.2222222222222222,\"#7201a8\"],[0.3333333333333333,\"#9c179e\"],[0.4444444444444444,\"#bd3786\"],[0.5555555555555556,\"#d8576b\"],[0.6666666666666666,\"#ed7953\"],[0.7777777777777778,\"#fb9f3a\"],[0.8888888888888888,\"#fdca26\"],[1.0,\"#f0f921\"]]}],\"heatmap\":[{\"type\":\"heatmap\",\"colorbar\":{\"outlinewidth\":0,\"ticks\":\"\"},\"colorscale\":[[0.0,\"#0d0887\"],[0.1111111111111111,\"#46039f\"],[0.2222222222222222,\"#7201a8\"],[0.3333333333333333,\"#9c179e\"],[0.4444444444444444,\"#bd3786\"],[0.5555555555555556,\"#d8576b\"],[0.6666666666666666,\"#ed7953\"],[0.7777777777777778,\"#fb9f3a\"],[0.8888888888888888,\"#fdca26\"],[1.0,\"#f0f921\"]]}],\"heatmapgl\":[{\"type\":\"heatmapgl\",\"colorbar\":{\"outlinewidth\":0,\"ticks\":\"\"},\"colorscale\":[[0.0,\"#0d0887\"],[0.1111111111111111,\"#46039f\"],[0.2222222222222222,\"#7201a8\"],[0.3333333333333333,\"#9c179e\"],[0.4444444444444444,\"#bd3786\"],[0.5555555555555556,\"#d8576b\"],[0.6666666666666666,\"#ed7953\"],[0.7777777777777778,\"#fb9f3a\"],[0.8888888888888888,\"#fdca26\"],[1.0,\"#f0f921\"]]}],\"contourcarpet\":[{\"type\":\"contourcarpet\",\"colorbar\":{\"outlinewidth\":0,\"ticks\":\"\"}}],\"contour\":[{\"type\":\"contour\",\"colorbar\":{\"outlinewidth\":0,\"ticks\":\"\"},\"colorscale\":[[0.0,\"#0d0887\"],[0.1111111111111111,\"#46039f\"],[0.2222222222222222,\"#7201a8\"],[0.3333333333333333,\"#9c179e\"],[0.4444444444444444,\"#bd3786\"],[0.5555555555555556,\"#d8576b\"],[0.6666666666666666,\"#ed7953\"],[0.7777777777777778,\"#fb9f3a\"],[0.8888888888888888,\"#fdca26\"],[1.0,\"#f0f921\"]]}],\"surface\":[{\"type\":\"surface\",\"colorbar\":{\"outlinewidth\":0,\"ticks\":\"\"},\"colorscale\":[[0.0,\"#0d0887\"],[0.1111111111111111,\"#46039f\"],[0.2222222222222222,\"#7201a8\"],[0.3333333333333333,\"#9c179e\"],[0.4444444444444444,\"#bd3786\"],[0.5555555555555556,\"#d8576b\"],[0.6666666666666666,\"#ed7953\"],[0.7777777777777778,\"#fb9f3a\"],[0.8888888888888888,\"#fdca26\"],[1.0,\"#f0f921\"]]}],\"mesh3d\":[{\"type\":\"mesh3d\",\"colorbar\":{\"outlinewidth\":0,\"ticks\":\"\"}}],\"scatter\":[{\"fillpattern\":{\"fillmode\":\"overlay\",\"size\":10,\"solidity\":0.2},\"type\":\"scatter\"}],\"parcoords\":[{\"type\":\"parcoords\",\"line\":{\"colorbar\":{\"outlinewidth\":0,\"ticks\":\"\"}}}],\"scatterpolargl\":[{\"type\":\"scatterpolargl\",\"marker\":{\"colorbar\":{\"outlinewidth\":0,\"ticks\":\"\"}}}],\"bar\":[{\"error_x\":{\"color\":\"#2a3f5f\"},\"error_y\":{\"color\":\"#2a3f5f\"},\"marker\":{\"line\":{\"color\":\"#E5ECF6\",\"width\":0.5},\"pattern\":{\"fillmode\":\"overlay\",\"size\":10,\"solidity\":0.2}},\"type\":\"bar\"}],\"scattergeo\":[{\"type\":\"scattergeo\",\"marker\":{\"colorbar\":{\"outlinewidth\":0,\"ticks\":\"\"}}}],\"scatterpolar\":[{\"type\":\"scatterpolar\",\"marker\":{\"colorbar\":{\"outlinewidth\":0,\"ticks\":\"\"}}}],\"histogram\":[{\"marker\":{\"pattern\":{\"fillmode\":\"overlay\",\"size\":10,\"solidity\":0.2}},\"type\":\"histogram\"}],\"scattergl\":[{\"type\":\"scattergl\",\"marker\":{\"colorbar\":{\"outlinewidth\":0,\"ticks\":\"\"}}}],\"scatter3d\":[{\"type\":\"scatter3d\",\"line\":{\"colorbar\":{\"outlinewidth\":0,\"ticks\":\"\"}},\"marker\":{\"colorbar\":{\"outlinewidth\":0,\"ticks\":\"\"}}}],\"scattermapbox\":[{\"type\":\"scattermapbox\",\"marker\":{\"colorbar\":{\"outlinewidth\":0,\"ticks\":\"\"}}}],\"scatterternary\":[{\"type\":\"scatterternary\",\"marker\":{\"colorbar\":{\"outlinewidth\":0,\"ticks\":\"\"}}}],\"scattercarpet\":[{\"type\":\"scattercarpet\",\"marker\":{\"colorbar\":{\"outlinewidth\":0,\"ticks\":\"\"}}}],\"carpet\":[{\"aaxis\":{\"endlinecolor\":\"#2a3f5f\",\"gridcolor\":\"white\",\"linecolor\":\"white\",\"minorgridcolor\":\"white\",\"startlinecolor\":\"#2a3f5f\"},\"baxis\":{\"endlinecolor\":\"#2a3f5f\",\"gridcolor\":\"white\",\"linecolor\":\"white\",\"minorgridcolor\":\"white\",\"startlinecolor\":\"#2a3f5f\"},\"type\":\"carpet\"}],\"table\":[{\"cells\":{\"fill\":{\"color\":\"#EBF0F8\"},\"line\":{\"color\":\"white\"}},\"header\":{\"fill\":{\"color\":\"#C8D4E3\"},\"line\":{\"color\":\"white\"}},\"type\":\"table\"}],\"barpolar\":[{\"marker\":{\"line\":{\"color\":\"#E5ECF6\",\"width\":0.5},\"pattern\":{\"fillmode\":\"overlay\",\"size\":10,\"solidity\":0.2}},\"type\":\"barpolar\"}],\"pie\":[{\"automargin\":true,\"type\":\"pie\"}]},\"layout\":{\"autotypenumbers\":\"strict\",\"colorway\":[\"#636efa\",\"#EF553B\",\"#00cc96\",\"#ab63fa\",\"#FFA15A\",\"#19d3f3\",\"#FF6692\",\"#B6E880\",\"#FF97FF\",\"#FECB52\"],\"font\":{\"color\":\"#2a3f5f\"},\"hovermode\":\"closest\",\"hoverlabel\":{\"align\":\"left\"},\"paper_bgcolor\":\"white\",\"plot_bgcolor\":\"#E5ECF6\",\"polar\":{\"bgcolor\":\"#E5ECF6\",\"angularaxis\":{\"gridcolor\":\"white\",\"linecolor\":\"white\",\"ticks\":\"\"},\"radialaxis\":{\"gridcolor\":\"white\",\"linecolor\":\"white\",\"ticks\":\"\"}},\"ternary\":{\"bgcolor\":\"#E5ECF6\",\"aaxis\":{\"gridcolor\":\"white\",\"linecolor\":\"white\",\"ticks\":\"\"},\"baxis\":{\"gridcolor\":\"white\",\"linecolor\":\"white\",\"ticks\":\"\"},\"caxis\":{\"gridcolor\":\"white\",\"linecolor\":\"white\",\"ticks\":\"\"}},\"coloraxis\":{\"colorbar\":{\"outlinewidth\":0,\"ticks\":\"\"}},\"colorscale\":{\"sequential\":[[0.0,\"#0d0887\"],[0.1111111111111111,\"#46039f\"],[0.2222222222222222,\"#7201a8\"],[0.3333333333333333,\"#9c179e\"],[0.4444444444444444,\"#bd3786\"],[0.5555555555555556,\"#d8576b\"],[0.6666666666666666,\"#ed7953\"],[0.7777777777777778,\"#fb9f3a\"],[0.8888888888888888,\"#fdca26\"],[1.0,\"#f0f921\"]],\"sequentialminus\":[[0.0,\"#0d0887\"],[0.1111111111111111,\"#46039f\"],[0.2222222222222222,\"#7201a8\"],[0.3333333333333333,\"#9c179e\"],[0.4444444444444444,\"#bd3786\"],[0.5555555555555556,\"#d8576b\"],[0.6666666666666666,\"#ed7953\"],[0.7777777777777778,\"#fb9f3a\"],[0.8888888888888888,\"#fdca26\"],[1.0,\"#f0f921\"]],\"diverging\":[[0,\"#8e0152\"],[0.1,\"#c51b7d\"],[0.2,\"#de77ae\"],[0.3,\"#f1b6da\"],[0.4,\"#fde0ef\"],[0.5,\"#f7f7f7\"],[0.6,\"#e6f5d0\"],[0.7,\"#b8e186\"],[0.8,\"#7fbc41\"],[0.9,\"#4d9221\"],[1,\"#276419\"]]},\"xaxis\":{\"gridcolor\":\"white\",\"linecolor\":\"white\",\"ticks\":\"\",\"title\":{\"standoff\":15},\"zerolinecolor\":\"white\",\"automargin\":true,\"zerolinewidth\":2},\"yaxis\":{\"gridcolor\":\"white\",\"linecolor\":\"white\",\"ticks\":\"\",\"title\":{\"standoff\":15},\"zerolinecolor\":\"white\",\"automargin\":true,\"zerolinewidth\":2},\"scene\":{\"xaxis\":{\"backgroundcolor\":\"#E5ECF6\",\"gridcolor\":\"white\",\"linecolor\":\"white\",\"showbackground\":true,\"ticks\":\"\",\"zerolinecolor\":\"white\",\"gridwidth\":2},\"yaxis\":{\"backgroundcolor\":\"#E5ECF6\",\"gridcolor\":\"white\",\"linecolor\":\"white\",\"showbackground\":true,\"ticks\":\"\",\"zerolinecolor\":\"white\",\"gridwidth\":2},\"zaxis\":{\"backgroundcolor\":\"#E5ECF6\",\"gridcolor\":\"white\",\"linecolor\":\"white\",\"showbackground\":true,\"ticks\":\"\",\"zerolinecolor\":\"white\",\"gridwidth\":2}},\"shapedefaults\":{\"line\":{\"color\":\"#2a3f5f\"}},\"annotationdefaults\":{\"arrowcolor\":\"#2a3f5f\",\"arrowhead\":0,\"arrowwidth\":1},\"geo\":{\"bgcolor\":\"white\",\"landcolor\":\"#E5ECF6\",\"subunitcolor\":\"white\",\"showland\":true,\"showlakes\":true,\"lakecolor\":\"white\"},\"title\":{\"x\":0.05},\"mapbox\":{\"style\":\"light\"}}},\"xaxis\":{\"anchor\":\"y\",\"domain\":[0.0,1.0],\"title\":{\"text\":\"Marital Status\"}},\"yaxis\":{\"anchor\":\"x\",\"domain\":[0.0,1.0],\"title\":{\"text\":\"Age\"}},\"legend\":{\"title\":{\"text\":\"Children\"},\"tracegroupgap\":0},\"margin\":{\"t\":60},\"boxmode\":\"group\"},                        {\"responsive\": true}                    ).then(function(){\n",
       "                            \n",
       "var gd = document.getElementById('83a58a54-816e-46ec-a9f5-862d7a554c4d');\n",
       "var x = new MutationObserver(function (mutations, observer) {{\n",
       "        var display = window.getComputedStyle(gd).display;\n",
       "        if (!display || display === 'none') {{\n",
       "            console.log([gd, 'removed!']);\n",
       "            Plotly.purge(gd);\n",
       "            observer.disconnect();\n",
       "        }}\n",
       "}});\n",
       "\n",
       "// Listen for the removal of the full notebook cells\n",
       "var notebookContainer = gd.closest('#notebook-container');\n",
       "if (notebookContainer) {{\n",
       "    x.observe(notebookContainer, {childList: true});\n",
       "}}\n",
       "\n",
       "// Listen for the clearing of the current output cell\n",
       "var outputEl = gd.closest('.output');\n",
       "if (outputEl) {{\n",
       "    x.observe(outputEl, {childList: true});\n",
       "}}\n",
       "\n",
       "                        })                };                });            </script>        </div>"
      ]
     },
     "metadata": {},
     "output_type": "display_data"
    }
   ],
   "source": [
    "# Se infiere la edad en función de Marital Status y la cantidad de hijos\n",
    "fig = px.box(df, y = 'Age', x = \"Marital Status\", color = \"Children\")\n",
    "fig.show()"
   ]
  },
  {
   "cell_type": "markdown",
   "id": "2586577d",
   "metadata": {},
   "source": [
    "# Preparación de los Datos"
   ]
  },
  {
   "cell_type": "code",
   "execution_count": 945,
   "id": "d61a5d0e",
   "metadata": {},
   "outputs": [
    {
     "name": "stdout",
     "output_type": "stream",
     "text": [
      "Gender  Marital Status\n",
      "Female  Single            0.509240\n",
      "        Married           0.490760\n",
      "Male    Married           0.585859\n",
      "        Single            0.414141\n",
      "Name: Marital Status, dtype: float64\n"
     ]
    }
   ],
   "source": [
    "#Para reemplazar los valores NA de Marital Status, primero obtenemos el porcentaje de Marital Status por Gender\n",
    "distribucion_marital_status = df.groupby('Gender')['Marital Status'].value_counts(normalize=True)\n",
    "\n",
    "print(distribucion_marital_status)"
   ]
  },
  {
   "cell_type": "code",
   "execution_count": 946,
   "id": "3524adb9",
   "metadata": {},
   "outputs": [],
   "source": [
    "#Reemplazo de valores NA en Marital Status Según Género y cantidad de hijos\n",
    "def fill_marital_status(row):\n",
    "    if pd.isnull(row['Marital Status']):\n",
    "        if row['Children'] <= 1:\n",
    "            return 'Single'\n",
    "        elif row['Children'] <= 3:\n",
    "            return 'Married'\n",
    "        elif row['Children'] <= 4 and row['Gender'] == 'Male':\n",
    "            return 'Married'\n",
    "        else:\n",
    "            return 'Single'\n",
    "    else:\n",
    "        return row['Marital Status']\n",
    "df['Marital Status'] = df.apply(fill_marital_status, axis=1)"
   ]
  },
  {
   "cell_type": "code",
   "execution_count": 947,
   "id": "b62560cd",
   "metadata": {},
   "outputs": [
    {
     "data": {
      "text/html": [
       "<div>\n",
       "<style scoped>\n",
       "    .dataframe tbody tr th:only-of-type {\n",
       "        vertical-align: middle;\n",
       "    }\n",
       "\n",
       "    .dataframe tbody tr th {\n",
       "        vertical-align: top;\n",
       "    }\n",
       "\n",
       "    .dataframe thead th {\n",
       "        text-align: right;\n",
       "    }\n",
       "</style>\n",
       "<table border=\"1\" class=\"dataframe\">\n",
       "  <thead>\n",
       "    <tr style=\"text-align: right;\">\n",
       "      <th></th>\n",
       "      <th>ID</th>\n",
       "      <th>Marital Status</th>\n",
       "      <th>Gender</th>\n",
       "      <th>Income</th>\n",
       "      <th>Children</th>\n",
       "      <th>Education</th>\n",
       "      <th>Occupation</th>\n",
       "      <th>Home Owner</th>\n",
       "      <th>Cars</th>\n",
       "      <th>Commute Distance</th>\n",
       "      <th>Region</th>\n",
       "      <th>Age</th>\n",
       "      <th>Purchased Bike</th>\n",
       "    </tr>\n",
       "  </thead>\n",
       "  <tbody>\n",
       "  </tbody>\n",
       "</table>\n",
       "</div>"
      ],
      "text/plain": [
       "Empty DataFrame\n",
       "Columns: [ID, Marital Status, Gender, Income, Children, Education, Occupation, Home Owner, Cars, Commute Distance, Region, Age, Purchased Bike]\n",
       "Index: []"
      ]
     },
     "execution_count": 947,
     "metadata": {},
     "output_type": "execute_result"
    }
   ],
   "source": [
    "#Verificamos el reemplazo de todos los NA en Marital Status\n",
    "na_values = df[df['Marital Status'].isna()]\n",
    "na_values"
   ]
  },
  {
   "cell_type": "code",
   "execution_count": 948,
   "id": "31b398b7",
   "metadata": {},
   "outputs": [
    {
     "name": "stdout",
     "output_type": "stream",
     "text": [
      "Gender  Marital Status\n",
      "Female  Single            0.511247\n",
      "        Married           0.488753\n",
      "Male    Married           0.582000\n",
      "        Single            0.418000\n",
      "Name: Marital Status, dtype: float64\n"
     ]
    }
   ],
   "source": [
    "#Verificamos que no hemos modificado valores diferentes a NA\n",
    "distribucion_marital_status = df.groupby('Gender')['Marital Status'].value_counts(normalize=True)\n",
    "\n",
    "print(distribucion_marital_status)"
   ]
  },
  {
   "cell_type": "code",
   "execution_count": 949,
   "id": "dc6b20c5",
   "metadata": {},
   "outputs": [
    {
     "data": {
      "text/plain": [
       "count       983.000000\n",
       "mean      56124.109868\n",
       "std       31193.712788\n",
       "min       10000.000000\n",
       "25%       30000.000000\n",
       "50%       60000.000000\n",
       "75%       70000.000000\n",
       "max      170000.000000\n",
       "Name: Income, dtype: float64"
      ]
     },
     "execution_count": 949,
     "metadata": {},
     "output_type": "execute_result"
    }
   ],
   "source": [
    "df[\"Income\"].describe()"
   ]
  },
  {
   "cell_type": "code",
   "execution_count": 950,
   "id": "7581ae59",
   "metadata": {},
   "outputs": [],
   "source": [
    "# Calcular la media de 'Income' por 'Occupation' y 'Education'\n",
    "media_income = df.groupby(['Occupation', 'Education'])['Income'].transform('mean')\n",
    "df['Income'].fillna(media_income, inplace=True)"
   ]
  },
  {
   "cell_type": "code",
   "execution_count": 951,
   "id": "773a7d56",
   "metadata": {},
   "outputs": [
    {
     "data": {
      "text/html": [
       "<div>\n",
       "<style scoped>\n",
       "    .dataframe tbody tr th:only-of-type {\n",
       "        vertical-align: middle;\n",
       "    }\n",
       "\n",
       "    .dataframe tbody tr th {\n",
       "        vertical-align: top;\n",
       "    }\n",
       "\n",
       "    .dataframe thead th {\n",
       "        text-align: right;\n",
       "    }\n",
       "</style>\n",
       "<table border=\"1\" class=\"dataframe\">\n",
       "  <thead>\n",
       "    <tr style=\"text-align: right;\">\n",
       "      <th></th>\n",
       "      <th>ID</th>\n",
       "      <th>Marital Status</th>\n",
       "      <th>Gender</th>\n",
       "      <th>Income</th>\n",
       "      <th>Children</th>\n",
       "      <th>Education</th>\n",
       "      <th>Occupation</th>\n",
       "      <th>Home Owner</th>\n",
       "      <th>Cars</th>\n",
       "      <th>Commute Distance</th>\n",
       "      <th>Region</th>\n",
       "      <th>Age</th>\n",
       "      <th>Purchased Bike</th>\n",
       "    </tr>\n",
       "  </thead>\n",
       "  <tbody>\n",
       "  </tbody>\n",
       "</table>\n",
       "</div>"
      ],
      "text/plain": [
       "Empty DataFrame\n",
       "Columns: [ID, Marital Status, Gender, Income, Children, Education, Occupation, Home Owner, Cars, Commute Distance, Region, Age, Purchased Bike]\n",
       "Index: []"
      ]
     },
     "execution_count": 951,
     "metadata": {},
     "output_type": "execute_result"
    }
   ],
   "source": [
    "#Verificamos el reemplazo de todos los NA en Income\n",
    "na_values = df[df['Income'].isna()]\n",
    "na_values"
   ]
  },
  {
   "cell_type": "code",
   "execution_count": 952,
   "id": "f08e426c",
   "metadata": {},
   "outputs": [
    {
     "data": {
      "text/plain": [
       "count       989.000000\n",
       "mean      55987.508017\n",
       "std       31194.558980\n",
       "min       10000.000000\n",
       "25%       30000.000000\n",
       "50%       60000.000000\n",
       "75%       70000.000000\n",
       "max      170000.000000\n",
       "Name: Income, dtype: float64"
      ]
     },
     "execution_count": 952,
     "metadata": {},
     "output_type": "execute_result"
    }
   ],
   "source": [
    "#Verificamos que no se hallan modificado valores ajenos a los NA en Income\n",
    "df[\"Income\"].describe()"
   ]
  },
  {
   "cell_type": "code",
   "execution_count": 953,
   "id": "c2291867",
   "metadata": {},
   "outputs": [
    {
     "data": {
      "text/plain": [
       "count    982.000000\n",
       "mean       1.901222\n",
       "std        1.621535\n",
       "min        0.000000\n",
       "25%        0.000000\n",
       "50%        2.000000\n",
       "75%        3.000000\n",
       "max        5.000000\n",
       "Name: Children, dtype: float64"
      ]
     },
     "execution_count": 953,
     "metadata": {},
     "output_type": "execute_result"
    }
   ],
   "source": [
    "#Información detallada de Children\n",
    "df[\"Children\"].describe()"
   ]
  },
  {
   "cell_type": "code",
   "execution_count": 954,
   "id": "f3c982f6",
   "metadata": {},
   "outputs": [],
   "source": [
    "# Calcular la media de 'Children' por 'Gender' y 'Marital Status'\n",
    "media_children = df.groupby(['Gender', 'Marital Status'])['Children'].transform('mean')\n",
    "df['Children'].fillna(media_children, inplace=True)"
   ]
  },
  {
   "cell_type": "code",
   "execution_count": 955,
   "id": "7b078c0e",
   "metadata": {},
   "outputs": [
    {
     "data": {
      "text/html": [
       "<div>\n",
       "<style scoped>\n",
       "    .dataframe tbody tr th:only-of-type {\n",
       "        vertical-align: middle;\n",
       "    }\n",
       "\n",
       "    .dataframe tbody tr th {\n",
       "        vertical-align: top;\n",
       "    }\n",
       "\n",
       "    .dataframe thead th {\n",
       "        text-align: right;\n",
       "    }\n",
       "</style>\n",
       "<table border=\"1\" class=\"dataframe\">\n",
       "  <thead>\n",
       "    <tr style=\"text-align: right;\">\n",
       "      <th></th>\n",
       "      <th>ID</th>\n",
       "      <th>Marital Status</th>\n",
       "      <th>Gender</th>\n",
       "      <th>Income</th>\n",
       "      <th>Children</th>\n",
       "      <th>Education</th>\n",
       "      <th>Occupation</th>\n",
       "      <th>Home Owner</th>\n",
       "      <th>Cars</th>\n",
       "      <th>Commute Distance</th>\n",
       "      <th>Region</th>\n",
       "      <th>Age</th>\n",
       "      <th>Purchased Bike</th>\n",
       "    </tr>\n",
       "  </thead>\n",
       "  <tbody>\n",
       "  </tbody>\n",
       "</table>\n",
       "</div>"
      ],
      "text/plain": [
       "Empty DataFrame\n",
       "Columns: [ID, Marital Status, Gender, Income, Children, Education, Occupation, Home Owner, Cars, Commute Distance, Region, Age, Purchased Bike]\n",
       "Index: []"
      ]
     },
     "execution_count": 955,
     "metadata": {},
     "output_type": "execute_result"
    }
   ],
   "source": [
    "#Verificamos el correcto reemplazo\n",
    "na_values = df[df['Children'].isna()]\n",
    "na_values"
   ]
  },
  {
   "cell_type": "code",
   "execution_count": 956,
   "id": "a8fafca6",
   "metadata": {},
   "outputs": [
    {
     "data": {
      "text/plain": [
       "count    989.000000\n",
       "mean       1.900143\n",
       "std        1.615904\n",
       "min        0.000000\n",
       "25%        0.000000\n",
       "50%        2.000000\n",
       "75%        3.000000\n",
       "max        5.000000\n",
       "Name: Children, dtype: float64"
      ]
     },
     "execution_count": 956,
     "metadata": {},
     "output_type": "execute_result"
    }
   ],
   "source": [
    "#Verificamos que no se hayan modificado valores ajenos a NA\n",
    "df[\"Children\"].describe()"
   ]
  },
  {
   "cell_type": "code",
   "execution_count": 957,
   "id": "dcb60ee6",
   "metadata": {},
   "outputs": [
    {
     "data": {
      "text/plain": [
       "count     985\n",
       "unique      2\n",
       "top       Yes\n",
       "freq      676\n",
       "Name: Home Owner, dtype: object"
      ]
     },
     "execution_count": 957,
     "metadata": {},
     "output_type": "execute_result"
    }
   ],
   "source": [
    "#Visualizamos mejor la data de Home Owner\n",
    "df[\"Home Owner\"].describe()"
   ]
  },
  {
   "cell_type": "code",
   "execution_count": 958,
   "id": "f7c98089",
   "metadata": {},
   "outputs": [],
   "source": [
    "#calculamos la media de Home Owner en función de Children y Marital Status\n",
    "media_home_owner = df.groupby(['Children', 'Marital Status'])['Home Owner'].transform(lambda x: x.mode().iloc[0])"
   ]
  },
  {
   "cell_type": "code",
   "execution_count": 959,
   "id": "1cd5e096",
   "metadata": {},
   "outputs": [],
   "source": [
    "#reemplazamos los NA\n",
    "df['Home Owner'].fillna(media_home_owner, inplace=True)"
   ]
  },
  {
   "cell_type": "code",
   "execution_count": 960,
   "id": "af51d967",
   "metadata": {},
   "outputs": [
    {
     "data": {
      "text/html": [
       "<div>\n",
       "<style scoped>\n",
       "    .dataframe tbody tr th:only-of-type {\n",
       "        vertical-align: middle;\n",
       "    }\n",
       "\n",
       "    .dataframe tbody tr th {\n",
       "        vertical-align: top;\n",
       "    }\n",
       "\n",
       "    .dataframe thead th {\n",
       "        text-align: right;\n",
       "    }\n",
       "</style>\n",
       "<table border=\"1\" class=\"dataframe\">\n",
       "  <thead>\n",
       "    <tr style=\"text-align: right;\">\n",
       "      <th></th>\n",
       "      <th>ID</th>\n",
       "      <th>Marital Status</th>\n",
       "      <th>Gender</th>\n",
       "      <th>Income</th>\n",
       "      <th>Children</th>\n",
       "      <th>Education</th>\n",
       "      <th>Occupation</th>\n",
       "      <th>Home Owner</th>\n",
       "      <th>Cars</th>\n",
       "      <th>Commute Distance</th>\n",
       "      <th>Region</th>\n",
       "      <th>Age</th>\n",
       "      <th>Purchased Bike</th>\n",
       "    </tr>\n",
       "  </thead>\n",
       "  <tbody>\n",
       "  </tbody>\n",
       "</table>\n",
       "</div>"
      ],
      "text/plain": [
       "Empty DataFrame\n",
       "Columns: [ID, Marital Status, Gender, Income, Children, Education, Occupation, Home Owner, Cars, Commute Distance, Region, Age, Purchased Bike]\n",
       "Index: []"
      ]
     },
     "execution_count": 960,
     "metadata": {},
     "output_type": "execute_result"
    }
   ],
   "source": [
    "#Verificamos el reemplazo\n",
    "na_values = df[df['Home Owner'].isna()]\n",
    "na_values"
   ]
  },
  {
   "cell_type": "code",
   "execution_count": 961,
   "id": "9078c55f",
   "metadata": {},
   "outputs": [
    {
     "data": {
      "text/plain": [
       "count     989\n",
       "unique      2\n",
       "top       Yes\n",
       "freq      679\n",
       "Name: Home Owner, dtype: object"
      ]
     },
     "execution_count": 961,
     "metadata": {},
     "output_type": "execute_result"
    }
   ],
   "source": [
    "#Verificamos la data de 'Home Owner'\n",
    "df[\"Home Owner\"].describe()"
   ]
  },
  {
   "cell_type": "code",
   "execution_count": 962,
   "id": "d0a983b4",
   "metadata": {},
   "outputs": [
    {
     "data": {
      "text/plain": [
       "count    980.000000\n",
       "mean       1.454082\n",
       "std        1.124949\n",
       "min        0.000000\n",
       "25%        1.000000\n",
       "50%        1.000000\n",
       "75%        2.000000\n",
       "max        4.000000\n",
       "Name: Cars, dtype: float64"
      ]
     },
     "execution_count": 962,
     "metadata": {},
     "output_type": "execute_result"
    }
   ],
   "source": [
    "#Obtenemos datos detallados de Cars\n",
    "df[\"Cars\"].describe()"
   ]
  },
  {
   "cell_type": "code",
   "execution_count": 963,
   "id": "639422c8",
   "metadata": {},
   "outputs": [],
   "source": [
    "#Definimos la cantidad de Cars en función de Income y de Home Owner\n",
    "media_cars = df.groupby(['Income', 'Home Owner'])['Cars'].transform('mean')\n",
    "df['Cars'].fillna(media_cars, inplace=True)"
   ]
  },
  {
   "cell_type": "code",
   "execution_count": 964,
   "id": "1e6b43ff",
   "metadata": {},
   "outputs": [
    {
     "data": {
      "text/html": [
       "<div>\n",
       "<style scoped>\n",
       "    .dataframe tbody tr th:only-of-type {\n",
       "        vertical-align: middle;\n",
       "    }\n",
       "\n",
       "    .dataframe tbody tr th {\n",
       "        vertical-align: top;\n",
       "    }\n",
       "\n",
       "    .dataframe thead th {\n",
       "        text-align: right;\n",
       "    }\n",
       "</style>\n",
       "<table border=\"1\" class=\"dataframe\">\n",
       "  <thead>\n",
       "    <tr style=\"text-align: right;\">\n",
       "      <th></th>\n",
       "      <th>ID</th>\n",
       "      <th>Marital Status</th>\n",
       "      <th>Gender</th>\n",
       "      <th>Income</th>\n",
       "      <th>Children</th>\n",
       "      <th>Education</th>\n",
       "      <th>Occupation</th>\n",
       "      <th>Home Owner</th>\n",
       "      <th>Cars</th>\n",
       "      <th>Commute Distance</th>\n",
       "      <th>Region</th>\n",
       "      <th>Age</th>\n",
       "      <th>Purchased Bike</th>\n",
       "    </tr>\n",
       "  </thead>\n",
       "  <tbody>\n",
       "    <tr>\n",
       "      <th>12</th>\n",
       "      <td>11434</td>\n",
       "      <td>Married</td>\n",
       "      <td>Male</td>\n",
       "      <td>170000.0</td>\n",
       "      <td>5.0</td>\n",
       "      <td>Partial College</td>\n",
       "      <td>Professional</td>\n",
       "      <td>Yes</td>\n",
       "      <td>NaN</td>\n",
       "      <td>0-1 Miles</td>\n",
       "      <td>Europe</td>\n",
       "      <td>55.0</td>\n",
       "      <td>No</td>\n",
       "    </tr>\n",
       "  </tbody>\n",
       "</table>\n",
       "</div>"
      ],
      "text/plain": [
       "       ID Marital Status Gender    Income  Children        Education  \\\n",
       "12  11434        Married   Male  170000.0       5.0  Partial College   \n",
       "\n",
       "      Occupation Home Owner  Cars Commute Distance  Region   Age  \\\n",
       "12  Professional        Yes   NaN        0-1 Miles  Europe  55.0   \n",
       "\n",
       "   Purchased Bike  \n",
       "12             No  "
      ]
     },
     "execution_count": 964,
     "metadata": {},
     "output_type": "execute_result"
    }
   ],
   "source": [
    "#Verificamos el correcto reemplazo\n",
    "na_values = df[df['Cars'].isna()]\n",
    "na_values"
   ]
  },
  {
   "cell_type": "code",
   "execution_count": 965,
   "id": "e112e1fe",
   "metadata": {},
   "outputs": [
    {
     "data": {
      "text/html": [
       "<div>\n",
       "<style scoped>\n",
       "    .dataframe tbody tr th:only-of-type {\n",
       "        vertical-align: middle;\n",
       "    }\n",
       "\n",
       "    .dataframe tbody tr th {\n",
       "        vertical-align: top;\n",
       "    }\n",
       "\n",
       "    .dataframe thead th {\n",
       "        text-align: right;\n",
       "    }\n",
       "</style>\n",
       "<table border=\"1\" class=\"dataframe\">\n",
       "  <thead>\n",
       "    <tr style=\"text-align: right;\">\n",
       "      <th></th>\n",
       "      <th>ID</th>\n",
       "      <th>Marital Status</th>\n",
       "      <th>Gender</th>\n",
       "      <th>Income</th>\n",
       "      <th>Children</th>\n",
       "      <th>Education</th>\n",
       "      <th>Occupation</th>\n",
       "      <th>Home Owner</th>\n",
       "      <th>Cars</th>\n",
       "      <th>Commute Distance</th>\n",
       "      <th>Region</th>\n",
       "      <th>Age</th>\n",
       "      <th>Purchased Bike</th>\n",
       "    </tr>\n",
       "  </thead>\n",
       "  <tbody>\n",
       "    <tr>\n",
       "      <th>12</th>\n",
       "      <td>11434</td>\n",
       "      <td>Married</td>\n",
       "      <td>Male</td>\n",
       "      <td>170000.0</td>\n",
       "      <td>5.0</td>\n",
       "      <td>Partial College</td>\n",
       "      <td>Professional</td>\n",
       "      <td>Yes</td>\n",
       "      <td>NaN</td>\n",
       "      <td>0-1 Miles</td>\n",
       "      <td>Europe</td>\n",
       "      <td>55.0</td>\n",
       "      <td>No</td>\n",
       "    </tr>\n",
       "    <tr>\n",
       "      <th>43</th>\n",
       "      <td>17185</td>\n",
       "      <td>Married</td>\n",
       "      <td>Female</td>\n",
       "      <td>170000.0</td>\n",
       "      <td>4.0</td>\n",
       "      <td>Partial College</td>\n",
       "      <td>Professional</td>\n",
       "      <td>No</td>\n",
       "      <td>3.0</td>\n",
       "      <td>5-10 Miles</td>\n",
       "      <td>Europe</td>\n",
       "      <td>48.0</td>\n",
       "      <td>Yes</td>\n",
       "    </tr>\n",
       "    <tr>\n",
       "      <th>829</th>\n",
       "      <td>16009</td>\n",
       "      <td>Single</td>\n",
       "      <td>Male</td>\n",
       "      <td>170000.0</td>\n",
       "      <td>1.0</td>\n",
       "      <td>Graduate Degree</td>\n",
       "      <td>Management</td>\n",
       "      <td>No</td>\n",
       "      <td>4.0</td>\n",
       "      <td>0-1 Miles</td>\n",
       "      <td>North America</td>\n",
       "      <td>66.0</td>\n",
       "      <td>No</td>\n",
       "    </tr>\n",
       "    <tr>\n",
       "      <th>6</th>\n",
       "      <td>27974</td>\n",
       "      <td>Single</td>\n",
       "      <td>Male</td>\n",
       "      <td>160000.0</td>\n",
       "      <td>2.0</td>\n",
       "      <td>High School</td>\n",
       "      <td>Management</td>\n",
       "      <td>Yes</td>\n",
       "      <td>4.0</td>\n",
       "      <td>0-1 Miles</td>\n",
       "      <td>Pacific</td>\n",
       "      <td>33.0</td>\n",
       "      <td>Yes</td>\n",
       "    </tr>\n",
       "    <tr>\n",
       "      <th>178</th>\n",
       "      <td>14191</td>\n",
       "      <td>Married</td>\n",
       "      <td>Male</td>\n",
       "      <td>160000.0</td>\n",
       "      <td>4.0</td>\n",
       "      <td>Partial College</td>\n",
       "      <td>Professional</td>\n",
       "      <td>No</td>\n",
       "      <td>2.0</td>\n",
       "      <td>10+ Miles</td>\n",
       "      <td>Europe</td>\n",
       "      <td>55.0</td>\n",
       "      <td>Yes</td>\n",
       "    </tr>\n",
       "  </tbody>\n",
       "</table>\n",
       "</div>"
      ],
      "text/plain": [
       "        ID Marital Status  Gender    Income  Children        Education  \\\n",
       "12   11434        Married    Male  170000.0       5.0  Partial College   \n",
       "43   17185        Married  Female  170000.0       4.0  Partial College   \n",
       "829  16009         Single    Male  170000.0       1.0  Graduate Degree   \n",
       "6    27974         Single    Male  160000.0       2.0      High School   \n",
       "178  14191        Married    Male  160000.0       4.0  Partial College   \n",
       "\n",
       "       Occupation Home Owner  Cars Commute Distance         Region   Age  \\\n",
       "12   Professional        Yes   NaN        0-1 Miles         Europe  55.0   \n",
       "43   Professional         No   3.0       5-10 Miles         Europe  48.0   \n",
       "829    Management         No   4.0        0-1 Miles  North America  66.0   \n",
       "6      Management        Yes   4.0        0-1 Miles        Pacific  33.0   \n",
       "178  Professional         No   2.0        10+ Miles         Europe  55.0   \n",
       "\n",
       "    Purchased Bike  \n",
       "12              No  \n",
       "43             Yes  \n",
       "829             No  \n",
       "6              Yes  \n",
       "178            Yes  "
      ]
     },
     "execution_count": 965,
     "metadata": {},
     "output_type": "execute_result"
    }
   ],
   "source": [
    "#Visualizamos que no se reemplazó un NA debido a la falta de datos de personas con Income tan alto\n",
    "#Ante esta situación, buscamos cuáles son las personas con mayores ingresos\n",
    "personas_ingreso_alto = df.nlargest(5, 'Income')\n",
    "personas_ingreso_alto"
   ]
  },
  {
   "cell_type": "code",
   "execution_count": 966,
   "id": "7f61b0bf",
   "metadata": {},
   "outputs": [],
   "source": [
    "#Definimos la cantidad de Cars en 4, habiendo analizado la cantidad de hijos, el Income y Home Owner\n",
    "df.loc[df['ID'] == 11434, 'Cars'] = 4.0"
   ]
  },
  {
   "cell_type": "code",
   "execution_count": 967,
   "id": "cf92c636",
   "metadata": {},
   "outputs": [
    {
     "data": {
      "text/html": [
       "<div>\n",
       "<style scoped>\n",
       "    .dataframe tbody tr th:only-of-type {\n",
       "        vertical-align: middle;\n",
       "    }\n",
       "\n",
       "    .dataframe tbody tr th {\n",
       "        vertical-align: top;\n",
       "    }\n",
       "\n",
       "    .dataframe thead th {\n",
       "        text-align: right;\n",
       "    }\n",
       "</style>\n",
       "<table border=\"1\" class=\"dataframe\">\n",
       "  <thead>\n",
       "    <tr style=\"text-align: right;\">\n",
       "      <th></th>\n",
       "      <th>ID</th>\n",
       "      <th>Marital Status</th>\n",
       "      <th>Gender</th>\n",
       "      <th>Income</th>\n",
       "      <th>Children</th>\n",
       "      <th>Education</th>\n",
       "      <th>Occupation</th>\n",
       "      <th>Home Owner</th>\n",
       "      <th>Cars</th>\n",
       "      <th>Commute Distance</th>\n",
       "      <th>Region</th>\n",
       "      <th>Age</th>\n",
       "      <th>Purchased Bike</th>\n",
       "    </tr>\n",
       "  </thead>\n",
       "  <tbody>\n",
       "  </tbody>\n",
       "</table>\n",
       "</div>"
      ],
      "text/plain": [
       "Empty DataFrame\n",
       "Columns: [ID, Marital Status, Gender, Income, Children, Education, Occupation, Home Owner, Cars, Commute Distance, Region, Age, Purchased Bike]\n",
       "Index: []"
      ]
     },
     "execution_count": 967,
     "metadata": {},
     "output_type": "execute_result"
    }
   ],
   "source": [
    "#Verificamos el correcto reemplazo\n",
    "na_values = df[df['Cars'].isna()]\n",
    "na_values"
   ]
  },
  {
   "cell_type": "code",
   "execution_count": 968,
   "id": "98bba2bb",
   "metadata": {},
   "outputs": [
    {
     "data": {
      "text/plain": [
       "count    989.000000\n",
       "mean       1.454721\n",
       "std        1.123220\n",
       "min        0.000000\n",
       "25%        1.000000\n",
       "50%        1.000000\n",
       "75%        2.000000\n",
       "max        4.000000\n",
       "Name: Cars, dtype: float64"
      ]
     },
     "execution_count": 968,
     "metadata": {},
     "output_type": "execute_result"
    }
   ],
   "source": [
    "df[\"Cars\"].describe()"
   ]
  },
  {
   "cell_type": "code",
   "execution_count": 969,
   "id": "c2914278",
   "metadata": {},
   "outputs": [
    {
     "data": {
      "text/plain": [
       "count    982.000000\n",
       "mean      44.203666\n",
       "std       11.411998\n",
       "min       25.000000\n",
       "25%       35.000000\n",
       "50%       43.000000\n",
       "75%       52.000000\n",
       "max       89.000000\n",
       "Name: Age, dtype: float64"
      ]
     },
     "execution_count": 969,
     "metadata": {},
     "output_type": "execute_result"
    }
   ],
   "source": [
    "df['Age'].describe()"
   ]
  },
  {
   "cell_type": "code",
   "execution_count": 970,
   "id": "be1adc5b",
   "metadata": {},
   "outputs": [],
   "source": [
    "#Cálculo de la media de edad según Marital Status y Children\n",
    "media_age = df.groupby(['Marital Status', 'Children'])['Age'].transform('mean')\n",
    "df['Age'].fillna(media_age, inplace=True)"
   ]
  },
  {
   "cell_type": "code",
   "execution_count": 971,
   "id": "f291693c",
   "metadata": {},
   "outputs": [
    {
     "data": {
      "text/html": [
       "<div>\n",
       "<style scoped>\n",
       "    .dataframe tbody tr th:only-of-type {\n",
       "        vertical-align: middle;\n",
       "    }\n",
       "\n",
       "    .dataframe tbody tr th {\n",
       "        vertical-align: top;\n",
       "    }\n",
       "\n",
       "    .dataframe thead th {\n",
       "        text-align: right;\n",
       "    }\n",
       "</style>\n",
       "<table border=\"1\" class=\"dataframe\">\n",
       "  <thead>\n",
       "    <tr style=\"text-align: right;\">\n",
       "      <th></th>\n",
       "      <th>ID</th>\n",
       "      <th>Marital Status</th>\n",
       "      <th>Gender</th>\n",
       "      <th>Income</th>\n",
       "      <th>Children</th>\n",
       "      <th>Education</th>\n",
       "      <th>Occupation</th>\n",
       "      <th>Home Owner</th>\n",
       "      <th>Cars</th>\n",
       "      <th>Commute Distance</th>\n",
       "      <th>Region</th>\n",
       "      <th>Age</th>\n",
       "      <th>Purchased Bike</th>\n",
       "    </tr>\n",
       "  </thead>\n",
       "  <tbody>\n",
       "  </tbody>\n",
       "</table>\n",
       "</div>"
      ],
      "text/plain": [
       "Empty DataFrame\n",
       "Columns: [ID, Marital Status, Gender, Income, Children, Education, Occupation, Home Owner, Cars, Commute Distance, Region, Age, Purchased Bike]\n",
       "Index: []"
      ]
     },
     "execution_count": 971,
     "metadata": {},
     "output_type": "execute_result"
    }
   ],
   "source": [
    "#Verificamos el correcto reemplazo\n",
    "na_values = df[df['Age'].isna()]\n",
    "na_values"
   ]
  },
  {
   "cell_type": "code",
   "execution_count": 972,
   "id": "b0d7ce04",
   "metadata": {},
   "outputs": [
    {
     "data": {
      "text/plain": [
       "count    989.000000\n",
       "mean      44.224367\n",
       "std       11.388127\n",
       "min       25.000000\n",
       "25%       35.000000\n",
       "50%       43.000000\n",
       "75%       52.000000\n",
       "max       89.000000\n",
       "Name: Age, dtype: float64"
      ]
     },
     "execution_count": 972,
     "metadata": {},
     "output_type": "execute_result"
    }
   ],
   "source": [
    "#Verificamos que no se hayan modificado valores ajenos a NA\n",
    "df['Age'].describe()"
   ]
  },
  {
   "cell_type": "code",
   "execution_count": 973,
   "id": "45fba423",
   "metadata": {},
   "outputs": [
    {
     "data": {
      "text/plain": [
       "[]"
      ]
     },
     "execution_count": 973,
     "metadata": {},
     "output_type": "execute_result"
    }
   ],
   "source": [
    "#Verificamos que ninguna variable contenga NA's\n",
    "variables_con_na = df.columns[df.isna().any()].tolist()\n",
    "variables_con_na"
   ]
  },
  {
   "cell_type": "code",
   "execution_count": 974,
   "id": "c3d9ee1e",
   "metadata": {},
   "outputs": [
    {
     "name": "stdout",
     "output_type": "stream",
     "text": [
      "<class 'pandas.core.frame.DataFrame'>\n",
      "Int64Index: 989 entries, 0 to 999\n",
      "Data columns (total 13 columns):\n",
      " #   Column            Non-Null Count  Dtype  \n",
      "---  ------            --------------  -----  \n",
      " 0   ID                989 non-null    int64  \n",
      " 1   Marital Status    989 non-null    object \n",
      " 2   Gender            989 non-null    object \n",
      " 3   Income            989 non-null    float64\n",
      " 4   Children          989 non-null    float64\n",
      " 5   Education         989 non-null    object \n",
      " 6   Occupation        989 non-null    object \n",
      " 7   Home Owner        989 non-null    object \n",
      " 8   Cars              989 non-null    float64\n",
      " 9   Commute Distance  989 non-null    object \n",
      " 10  Region            989 non-null    object \n",
      " 11  Age               989 non-null    float64\n",
      " 12  Purchased Bike    989 non-null    object \n",
      "dtypes: float64(4), int64(1), object(8)\n",
      "memory usage: 108.2+ KB\n"
     ]
    }
   ],
   "source": [
    "df.info()"
   ]
  },
  {
   "cell_type": "code",
   "execution_count": 975,
   "id": "f7b03539",
   "metadata": {},
   "outputs": [
    {
     "data": {
      "application/vnd.plotly.v1+json": {
       "config": {
        "plotlyServerURL": "https://plot.ly"
       },
       "data": [
        {
         "alignmentgroup": "True",
         "hovertemplate": "Income=%{x}<extra></extra>",
         "legendgroup": "",
         "marker": {
          "color": "#636efa"
         },
         "name": "",
         "notched": false,
         "offsetgroup": "",
         "orientation": "h",
         "showlegend": false,
         "type": "box",
         "x": [
          40000,
          30000,
          80000,
          30000,
          10000,
          160000,
          40000,
          20000,
          13823.529411764706,
          30000,
          90000,
          170000,
          40000,
          60000,
          10000,
          30000,
          30000,
          40000,
          20000,
          40000,
          80000,
          40000,
          80000,
          40000,
          30000,
          30000,
          100000,
          70000,
          20000,
          20000,
          10000,
          20000,
          80000,
          90000,
          10000,
          10000,
          30000,
          20000,
          10000,
          30000,
          40000,
          10000,
          170000,
          20000,
          20000,
          60000,
          40000,
          30000,
          40000,
          30000,
          80000,
          20000,
          90000,
          70000,
          80000,
          40000,
          130000,
          40000,
          60000,
          10000,
          10000,
          40000,
          60000,
          30000,
          30000,
          40000,
          30000,
          20000,
          10000,
          120000,
          10000,
          130000,
          20000,
          20000,
          130000,
          20000,
          80000,
          80000,
          40000,
          30000,
          10000,
          30000,
          20000,
          40000,
          10000,
          130000,
          80000,
          30000,
          20000,
          30000,
          30000,
          60000,
          30000,
          30000,
          90000,
          30000,
          40000,
          40000,
          20000,
          10000,
          60000,
          10000,
          60000,
          70000,
          30000,
          70000,
          40000,
          40000,
          40000,
          13823.529411764706,
          70000,
          40000,
          130000,
          20000,
          10000,
          30000,
          20000,
          80000,
          30000,
          40000,
          150000,
          80000,
          100000,
          40000,
          80000,
          30000,
          30000,
          10000,
          10000,
          60000,
          90000,
          40000,
          40000,
          30000,
          10000,
          10000,
          20000,
          20000,
          30000,
          40000,
          10000,
          40000,
          80000,
          30000,
          40000,
          40000,
          40000,
          20000,
          30000,
          60000,
          100000,
          20000,
          100000,
          10000,
          130000,
          10000,
          20000,
          10000,
          60000,
          20000,
          60000,
          40000,
          10000,
          10000,
          90000,
          100000,
          70000,
          30000,
          130000,
          80000,
          10000,
          10000,
          50000,
          80000,
          20000,
          110000,
          160000,
          10000,
          10000,
          30000,
          10000,
          40000,
          130000,
          90000,
          30000,
          80000,
          70000,
          30000,
          30000,
          18372.093023255813,
          80000,
          70000,
          10000,
          20000,
          50000,
          60000,
          100000,
          80000,
          60000,
          10000,
          40000,
          60000,
          90000,
          30000,
          90000,
          20000,
          40000,
          30000,
          80000,
          50000,
          30000,
          70000,
          30000,
          80000,
          20000,
          20000,
          10000,
          10000,
          60000,
          10000,
          30000,
          70000,
          30000,
          20000,
          20000,
          10000,
          20000,
          80000,
          120000,
          40000,
          30000,
          20000,
          90000,
          10000,
          30000,
          10000,
          70000,
          30000,
          10000,
          30000,
          30000,
          20000,
          120000,
          110000,
          130000,
          100000,
          10000,
          70000,
          100000,
          130000,
          60000,
          100000,
          20000,
          30000,
          20000,
          50000,
          100000,
          150000,
          30000,
          40000,
          10000,
          70000,
          40000,
          30000,
          20000,
          100000,
          70000,
          50000,
          10000,
          20000,
          10000,
          20000,
          30000,
          90000,
          10000,
          10000,
          100000,
          30000,
          10000,
          20000,
          10000,
          70000,
          10000,
          60000,
          100000,
          30000,
          130000,
          30000,
          60000,
          40000,
          40000,
          10000,
          20000,
          110000,
          60000,
          100000,
          90000,
          30000,
          10000,
          29375,
          30000,
          30000,
          80000,
          10000,
          90000,
          10000,
          40000,
          20000,
          120000,
          60000,
          20000,
          40000,
          80000,
          70000,
          50000,
          30000,
          130000,
          30000,
          100000,
          160000,
          10000,
          40000,
          90000,
          40000,
          20000,
          30000,
          40000,
          90000,
          80000,
          10000,
          20000,
          130000,
          90000,
          20000,
          10000,
          120000,
          20000,
          30000,
          30000,
          10000,
          30000,
          30000,
          20000,
          40000,
          60000,
          20000,
          30000,
          20000,
          10000,
          80000,
          40000,
          30000,
          80000,
          150000,
          10000,
          90000,
          80000,
          130000,
          30000,
          40000,
          40000,
          10000,
          40000,
          60000,
          130000,
          30000,
          20000,
          100000,
          80000,
          40000,
          20000,
          80000,
          40000,
          20000,
          130000,
          30000,
          60000,
          70000,
          30000,
          80000,
          40000,
          10000,
          30000,
          120000,
          20000,
          30000,
          80000,
          70000,
          70000,
          20000,
          10000,
          40000,
          30000,
          60000,
          10000,
          30000,
          40000,
          110000,
          40000,
          10000,
          20000,
          30000,
          30000,
          40000,
          90000,
          40000,
          130000,
          20000,
          70000,
          40000,
          30000,
          40000,
          80000,
          60000,
          30000,
          30000,
          10000,
          100000,
          10000,
          110000,
          30000,
          10000,
          40000,
          30000,
          90000,
          110000,
          30000,
          30000,
          20000,
          110000,
          30000,
          30000,
          10000,
          80000,
          30000,
          80000,
          70000,
          90000,
          56363.63636363636,
          80000,
          40000,
          30000,
          40000,
          130000,
          40000,
          30000,
          40000,
          10000,
          40000,
          30000,
          70000,
          30000,
          80000,
          120000,
          20000,
          120000,
          80000,
          20000,
          120000,
          40000,
          20000,
          30000,
          40000,
          30000,
          100000,
          80000,
          30000,
          30000,
          70000,
          40000,
          30000,
          90000,
          20000,
          70000,
          70000,
          30000,
          40000,
          90000,
          40000,
          40000,
          10000,
          30000,
          30000,
          90000,
          40000,
          10000,
          20000,
          60000,
          70000,
          40000,
          70000,
          70000,
          60000,
          60000,
          70000,
          80000,
          40000,
          60000,
          50000,
          40000,
          130000,
          70000,
          100000,
          70000,
          40000,
          60000,
          69887.6404494382,
          70000,
          80000,
          60000,
          60000,
          40000,
          70000,
          60000,
          60000,
          80000,
          80000,
          100000,
          40000,
          60000,
          80000,
          80000,
          60000,
          110000,
          50000,
          30000,
          60000,
          60000,
          30000,
          60000,
          60000,
          40000,
          50000,
          80000,
          40000,
          80000,
          70000,
          70000,
          50000,
          40000,
          70000,
          120000,
          60000,
          60000,
          60000,
          80000,
          130000,
          70000,
          50000,
          60000,
          40000,
          60000,
          50000,
          80000,
          40000,
          50000,
          60000,
          60000,
          20000,
          70000,
          30000,
          30000,
          40000,
          60000,
          40000,
          70000,
          50000,
          70000,
          40000,
          30000,
          60000,
          80000,
          60000,
          40000,
          120000,
          60000,
          40000,
          60000,
          40000,
          80000,
          60000,
          70000,
          120000,
          60000,
          130000,
          90000,
          60000,
          60000,
          40000,
          80000,
          70000,
          80000,
          20000,
          90000,
          40000,
          130000,
          60000,
          30000,
          60000,
          60000,
          40000,
          70000,
          40000,
          70000,
          60000,
          70000,
          60000,
          80000,
          30000,
          110000,
          100000,
          60000,
          80000,
          40000,
          20000,
          40000,
          100000,
          70000,
          60000,
          70000,
          70000,
          60000,
          60000,
          60000,
          80000,
          50000,
          40000,
          70000,
          80000,
          130000,
          60000,
          30000,
          120000,
          40000,
          70000,
          100000,
          60000,
          50000,
          70000,
          70000,
          60000,
          60000,
          60000,
          40000,
          70000,
          70000,
          70000,
          60000,
          70000,
          30000,
          40000,
          40000,
          60000,
          70000,
          50000,
          60000,
          60000,
          40000,
          100000,
          70000,
          80000,
          130000,
          60000,
          40000,
          60000,
          60000,
          70000,
          60000,
          40000,
          70000,
          30000,
          100000,
          40000,
          60000,
          80000,
          60000,
          60000,
          80000,
          20000,
          90000,
          60000,
          60000,
          40000,
          30000,
          30000,
          130000,
          50000,
          70000,
          60000,
          80000,
          60000,
          30000,
          20000,
          90000,
          70000,
          30000,
          120000,
          50000,
          40000,
          70000,
          60000,
          70000,
          70000,
          70000,
          60000,
          70000,
          40000,
          70000,
          40000,
          60000,
          80000,
          90000,
          70000,
          70000,
          40000,
          110000,
          70000,
          80000,
          30000,
          130000,
          20000,
          70000,
          40000,
          60000,
          60000,
          60000,
          60000,
          130000,
          130000,
          30000,
          40000,
          70000,
          40000,
          60000,
          40000,
          40000,
          30000,
          110000,
          70000,
          60000,
          60000,
          70000,
          130000,
          70000,
          30000,
          60000,
          60000,
          40000,
          40000,
          60000,
          40000,
          30000,
          80000,
          60000,
          20000,
          60000,
          50000,
          50000,
          60000,
          70000,
          50000,
          60000,
          120000,
          100000,
          60000,
          80000,
          60000,
          60000,
          80000,
          70000,
          70000,
          40000,
          90000,
          80000,
          60000,
          80000,
          70000,
          60000,
          10000,
          40000,
          50000,
          70000,
          20000,
          60000,
          80000,
          40000,
          30000,
          30000,
          50000,
          60000,
          70000,
          60000,
          30000,
          50000,
          60000,
          70000,
          40000,
          40000,
          40000,
          40000,
          10000,
          60000,
          30000,
          40000,
          70000,
          60000,
          70000,
          70000,
          70000,
          40000,
          60000,
          60000,
          40000,
          40000,
          110000,
          60000,
          30000,
          70000,
          110000,
          70000,
          70000,
          80000,
          40000,
          170000,
          60000,
          70000,
          60000,
          70000,
          70000,
          60000,
          40000,
          60000,
          80000,
          80000,
          70000,
          120000,
          60000,
          80000,
          40000,
          20000,
          70000,
          40000,
          130000,
          40000,
          130000,
          60000,
          50000,
          60000,
          60000,
          30000,
          40000,
          60000,
          40000,
          30000,
          30000,
          20000,
          50000,
          80000,
          40000,
          80000,
          60000,
          30000,
          110000,
          60000,
          60000,
          70000,
          50000,
          30000,
          70000,
          30000,
          70000,
          50000,
          90000,
          80000,
          80000,
          30000,
          60000,
          80000,
          20000,
          70000,
          50000,
          60000,
          70000,
          40000,
          100000,
          70000,
          60000,
          70000,
          50000,
          50000,
          30000,
          70000,
          70000,
          40000,
          60000,
          80000,
          90000,
          60000,
          90000,
          60000,
          50000,
          60000,
          40000,
          80000,
          40000,
          60000,
          80000,
          60000,
          70000,
          110000,
          70000,
          40000,
          30000,
          70000,
          40000,
          70000,
          90000,
          50000,
          40000,
          70000,
          60000,
          60000,
          70000,
          40000,
          40000,
          60000,
          60000,
          60000,
          60000,
          70000,
          40000,
          80000,
          60000,
          60000,
          40000,
          60000,
          50000,
          50000,
          90000,
          90000,
          60000,
          70000,
          70000,
          70000,
          40000,
          60000,
          40000,
          70000,
          60000,
          90000,
          60000,
          100000,
          120000,
          60000,
          90000,
          70000,
          50000,
          50000,
          80000,
          30000,
          60000,
          60000,
          60000,
          30000,
          70000,
          70000,
          60000,
          80000,
          80000,
          40000,
          80000,
          110000,
          40000,
          130000,
          60000,
          50000,
          40000,
          60000,
          70000,
          60000,
          30000,
          60000,
          90000,
          150000,
          80000,
          60000,
          70000,
          100000,
          60000
         ],
         "x0": " ",
         "xaxis": "x",
         "y0": " ",
         "yaxis": "y"
        }
       ],
       "layout": {
        "boxmode": "group",
        "legend": {
         "tracegroupgap": 0
        },
        "margin": {
         "t": 60
        },
        "template": {
         "data": {
          "bar": [
           {
            "error_x": {
             "color": "#2a3f5f"
            },
            "error_y": {
             "color": "#2a3f5f"
            },
            "marker": {
             "line": {
              "color": "#E5ECF6",
              "width": 0.5
             },
             "pattern": {
              "fillmode": "overlay",
              "size": 10,
              "solidity": 0.2
             }
            },
            "type": "bar"
           }
          ],
          "barpolar": [
           {
            "marker": {
             "line": {
              "color": "#E5ECF6",
              "width": 0.5
             },
             "pattern": {
              "fillmode": "overlay",
              "size": 10,
              "solidity": 0.2
             }
            },
            "type": "barpolar"
           }
          ],
          "carpet": [
           {
            "aaxis": {
             "endlinecolor": "#2a3f5f",
             "gridcolor": "white",
             "linecolor": "white",
             "minorgridcolor": "white",
             "startlinecolor": "#2a3f5f"
            },
            "baxis": {
             "endlinecolor": "#2a3f5f",
             "gridcolor": "white",
             "linecolor": "white",
             "minorgridcolor": "white",
             "startlinecolor": "#2a3f5f"
            },
            "type": "carpet"
           }
          ],
          "choropleth": [
           {
            "colorbar": {
             "outlinewidth": 0,
             "ticks": ""
            },
            "type": "choropleth"
           }
          ],
          "contour": [
           {
            "colorbar": {
             "outlinewidth": 0,
             "ticks": ""
            },
            "colorscale": [
             [
              0,
              "#0d0887"
             ],
             [
              0.1111111111111111,
              "#46039f"
             ],
             [
              0.2222222222222222,
              "#7201a8"
             ],
             [
              0.3333333333333333,
              "#9c179e"
             ],
             [
              0.4444444444444444,
              "#bd3786"
             ],
             [
              0.5555555555555556,
              "#d8576b"
             ],
             [
              0.6666666666666666,
              "#ed7953"
             ],
             [
              0.7777777777777778,
              "#fb9f3a"
             ],
             [
              0.8888888888888888,
              "#fdca26"
             ],
             [
              1,
              "#f0f921"
             ]
            ],
            "type": "contour"
           }
          ],
          "contourcarpet": [
           {
            "colorbar": {
             "outlinewidth": 0,
             "ticks": ""
            },
            "type": "contourcarpet"
           }
          ],
          "heatmap": [
           {
            "colorbar": {
             "outlinewidth": 0,
             "ticks": ""
            },
            "colorscale": [
             [
              0,
              "#0d0887"
             ],
             [
              0.1111111111111111,
              "#46039f"
             ],
             [
              0.2222222222222222,
              "#7201a8"
             ],
             [
              0.3333333333333333,
              "#9c179e"
             ],
             [
              0.4444444444444444,
              "#bd3786"
             ],
             [
              0.5555555555555556,
              "#d8576b"
             ],
             [
              0.6666666666666666,
              "#ed7953"
             ],
             [
              0.7777777777777778,
              "#fb9f3a"
             ],
             [
              0.8888888888888888,
              "#fdca26"
             ],
             [
              1,
              "#f0f921"
             ]
            ],
            "type": "heatmap"
           }
          ],
          "heatmapgl": [
           {
            "colorbar": {
             "outlinewidth": 0,
             "ticks": ""
            },
            "colorscale": [
             [
              0,
              "#0d0887"
             ],
             [
              0.1111111111111111,
              "#46039f"
             ],
             [
              0.2222222222222222,
              "#7201a8"
             ],
             [
              0.3333333333333333,
              "#9c179e"
             ],
             [
              0.4444444444444444,
              "#bd3786"
             ],
             [
              0.5555555555555556,
              "#d8576b"
             ],
             [
              0.6666666666666666,
              "#ed7953"
             ],
             [
              0.7777777777777778,
              "#fb9f3a"
             ],
             [
              0.8888888888888888,
              "#fdca26"
             ],
             [
              1,
              "#f0f921"
             ]
            ],
            "type": "heatmapgl"
           }
          ],
          "histogram": [
           {
            "marker": {
             "pattern": {
              "fillmode": "overlay",
              "size": 10,
              "solidity": 0.2
             }
            },
            "type": "histogram"
           }
          ],
          "histogram2d": [
           {
            "colorbar": {
             "outlinewidth": 0,
             "ticks": ""
            },
            "colorscale": [
             [
              0,
              "#0d0887"
             ],
             [
              0.1111111111111111,
              "#46039f"
             ],
             [
              0.2222222222222222,
              "#7201a8"
             ],
             [
              0.3333333333333333,
              "#9c179e"
             ],
             [
              0.4444444444444444,
              "#bd3786"
             ],
             [
              0.5555555555555556,
              "#d8576b"
             ],
             [
              0.6666666666666666,
              "#ed7953"
             ],
             [
              0.7777777777777778,
              "#fb9f3a"
             ],
             [
              0.8888888888888888,
              "#fdca26"
             ],
             [
              1,
              "#f0f921"
             ]
            ],
            "type": "histogram2d"
           }
          ],
          "histogram2dcontour": [
           {
            "colorbar": {
             "outlinewidth": 0,
             "ticks": ""
            },
            "colorscale": [
             [
              0,
              "#0d0887"
             ],
             [
              0.1111111111111111,
              "#46039f"
             ],
             [
              0.2222222222222222,
              "#7201a8"
             ],
             [
              0.3333333333333333,
              "#9c179e"
             ],
             [
              0.4444444444444444,
              "#bd3786"
             ],
             [
              0.5555555555555556,
              "#d8576b"
             ],
             [
              0.6666666666666666,
              "#ed7953"
             ],
             [
              0.7777777777777778,
              "#fb9f3a"
             ],
             [
              0.8888888888888888,
              "#fdca26"
             ],
             [
              1,
              "#f0f921"
             ]
            ],
            "type": "histogram2dcontour"
           }
          ],
          "mesh3d": [
           {
            "colorbar": {
             "outlinewidth": 0,
             "ticks": ""
            },
            "type": "mesh3d"
           }
          ],
          "parcoords": [
           {
            "line": {
             "colorbar": {
              "outlinewidth": 0,
              "ticks": ""
             }
            },
            "type": "parcoords"
           }
          ],
          "pie": [
           {
            "automargin": true,
            "type": "pie"
           }
          ],
          "scatter": [
           {
            "fillpattern": {
             "fillmode": "overlay",
             "size": 10,
             "solidity": 0.2
            },
            "type": "scatter"
           }
          ],
          "scatter3d": [
           {
            "line": {
             "colorbar": {
              "outlinewidth": 0,
              "ticks": ""
             }
            },
            "marker": {
             "colorbar": {
              "outlinewidth": 0,
              "ticks": ""
             }
            },
            "type": "scatter3d"
           }
          ],
          "scattercarpet": [
           {
            "marker": {
             "colorbar": {
              "outlinewidth": 0,
              "ticks": ""
             }
            },
            "type": "scattercarpet"
           }
          ],
          "scattergeo": [
           {
            "marker": {
             "colorbar": {
              "outlinewidth": 0,
              "ticks": ""
             }
            },
            "type": "scattergeo"
           }
          ],
          "scattergl": [
           {
            "marker": {
             "colorbar": {
              "outlinewidth": 0,
              "ticks": ""
             }
            },
            "type": "scattergl"
           }
          ],
          "scattermapbox": [
           {
            "marker": {
             "colorbar": {
              "outlinewidth": 0,
              "ticks": ""
             }
            },
            "type": "scattermapbox"
           }
          ],
          "scatterpolar": [
           {
            "marker": {
             "colorbar": {
              "outlinewidth": 0,
              "ticks": ""
             }
            },
            "type": "scatterpolar"
           }
          ],
          "scatterpolargl": [
           {
            "marker": {
             "colorbar": {
              "outlinewidth": 0,
              "ticks": ""
             }
            },
            "type": "scatterpolargl"
           }
          ],
          "scatterternary": [
           {
            "marker": {
             "colorbar": {
              "outlinewidth": 0,
              "ticks": ""
             }
            },
            "type": "scatterternary"
           }
          ],
          "surface": [
           {
            "colorbar": {
             "outlinewidth": 0,
             "ticks": ""
            },
            "colorscale": [
             [
              0,
              "#0d0887"
             ],
             [
              0.1111111111111111,
              "#46039f"
             ],
             [
              0.2222222222222222,
              "#7201a8"
             ],
             [
              0.3333333333333333,
              "#9c179e"
             ],
             [
              0.4444444444444444,
              "#bd3786"
             ],
             [
              0.5555555555555556,
              "#d8576b"
             ],
             [
              0.6666666666666666,
              "#ed7953"
             ],
             [
              0.7777777777777778,
              "#fb9f3a"
             ],
             [
              0.8888888888888888,
              "#fdca26"
             ],
             [
              1,
              "#f0f921"
             ]
            ],
            "type": "surface"
           }
          ],
          "table": [
           {
            "cells": {
             "fill": {
              "color": "#EBF0F8"
             },
             "line": {
              "color": "white"
             }
            },
            "header": {
             "fill": {
              "color": "#C8D4E3"
             },
             "line": {
              "color": "white"
             }
            },
            "type": "table"
           }
          ]
         },
         "layout": {
          "annotationdefaults": {
           "arrowcolor": "#2a3f5f",
           "arrowhead": 0,
           "arrowwidth": 1
          },
          "autotypenumbers": "strict",
          "coloraxis": {
           "colorbar": {
            "outlinewidth": 0,
            "ticks": ""
           }
          },
          "colorscale": {
           "diverging": [
            [
             0,
             "#8e0152"
            ],
            [
             0.1,
             "#c51b7d"
            ],
            [
             0.2,
             "#de77ae"
            ],
            [
             0.3,
             "#f1b6da"
            ],
            [
             0.4,
             "#fde0ef"
            ],
            [
             0.5,
             "#f7f7f7"
            ],
            [
             0.6,
             "#e6f5d0"
            ],
            [
             0.7,
             "#b8e186"
            ],
            [
             0.8,
             "#7fbc41"
            ],
            [
             0.9,
             "#4d9221"
            ],
            [
             1,
             "#276419"
            ]
           ],
           "sequential": [
            [
             0,
             "#0d0887"
            ],
            [
             0.1111111111111111,
             "#46039f"
            ],
            [
             0.2222222222222222,
             "#7201a8"
            ],
            [
             0.3333333333333333,
             "#9c179e"
            ],
            [
             0.4444444444444444,
             "#bd3786"
            ],
            [
             0.5555555555555556,
             "#d8576b"
            ],
            [
             0.6666666666666666,
             "#ed7953"
            ],
            [
             0.7777777777777778,
             "#fb9f3a"
            ],
            [
             0.8888888888888888,
             "#fdca26"
            ],
            [
             1,
             "#f0f921"
            ]
           ],
           "sequentialminus": [
            [
             0,
             "#0d0887"
            ],
            [
             0.1111111111111111,
             "#46039f"
            ],
            [
             0.2222222222222222,
             "#7201a8"
            ],
            [
             0.3333333333333333,
             "#9c179e"
            ],
            [
             0.4444444444444444,
             "#bd3786"
            ],
            [
             0.5555555555555556,
             "#d8576b"
            ],
            [
             0.6666666666666666,
             "#ed7953"
            ],
            [
             0.7777777777777778,
             "#fb9f3a"
            ],
            [
             0.8888888888888888,
             "#fdca26"
            ],
            [
             1,
             "#f0f921"
            ]
           ]
          },
          "colorway": [
           "#636efa",
           "#EF553B",
           "#00cc96",
           "#ab63fa",
           "#FFA15A",
           "#19d3f3",
           "#FF6692",
           "#B6E880",
           "#FF97FF",
           "#FECB52"
          ],
          "font": {
           "color": "#2a3f5f"
          },
          "geo": {
           "bgcolor": "white",
           "lakecolor": "white",
           "landcolor": "#E5ECF6",
           "showlakes": true,
           "showland": true,
           "subunitcolor": "white"
          },
          "hoverlabel": {
           "align": "left"
          },
          "hovermode": "closest",
          "mapbox": {
           "style": "light"
          },
          "paper_bgcolor": "white",
          "plot_bgcolor": "#E5ECF6",
          "polar": {
           "angularaxis": {
            "gridcolor": "white",
            "linecolor": "white",
            "ticks": ""
           },
           "bgcolor": "#E5ECF6",
           "radialaxis": {
            "gridcolor": "white",
            "linecolor": "white",
            "ticks": ""
           }
          },
          "scene": {
           "xaxis": {
            "backgroundcolor": "#E5ECF6",
            "gridcolor": "white",
            "gridwidth": 2,
            "linecolor": "white",
            "showbackground": true,
            "ticks": "",
            "zerolinecolor": "white"
           },
           "yaxis": {
            "backgroundcolor": "#E5ECF6",
            "gridcolor": "white",
            "gridwidth": 2,
            "linecolor": "white",
            "showbackground": true,
            "ticks": "",
            "zerolinecolor": "white"
           },
           "zaxis": {
            "backgroundcolor": "#E5ECF6",
            "gridcolor": "white",
            "gridwidth": 2,
            "linecolor": "white",
            "showbackground": true,
            "ticks": "",
            "zerolinecolor": "white"
           }
          },
          "shapedefaults": {
           "line": {
            "color": "#2a3f5f"
           }
          },
          "ternary": {
           "aaxis": {
            "gridcolor": "white",
            "linecolor": "white",
            "ticks": ""
           },
           "baxis": {
            "gridcolor": "white",
            "linecolor": "white",
            "ticks": ""
           },
           "bgcolor": "#E5ECF6",
           "caxis": {
            "gridcolor": "white",
            "linecolor": "white",
            "ticks": ""
           }
          },
          "title": {
           "x": 0.05
          },
          "xaxis": {
           "automargin": true,
           "gridcolor": "white",
           "linecolor": "white",
           "ticks": "",
           "title": {
            "standoff": 15
           },
           "zerolinecolor": "white",
           "zerolinewidth": 2
          },
          "yaxis": {
           "automargin": true,
           "gridcolor": "white",
           "linecolor": "white",
           "ticks": "",
           "title": {
            "standoff": 15
           },
           "zerolinecolor": "white",
           "zerolinewidth": 2
          }
         }
        },
        "xaxis": {
         "anchor": "y",
         "domain": [
          0,
          1
         ],
         "title": {
          "text": "Income"
         }
        },
        "yaxis": {
         "anchor": "x",
         "domain": [
          0,
          1
         ]
        }
       }
      },
      "text/html": [
       "<div>                            <div id=\"45380790-1591-4813-a9d3-0d50e13a4c93\" class=\"plotly-graph-div\" style=\"height:525px; width:100%;\"></div>            <script type=\"text/javascript\">                require([\"plotly\"], function(Plotly) {                    window.PLOTLYENV=window.PLOTLYENV || {};                                    if (document.getElementById(\"45380790-1591-4813-a9d3-0d50e13a4c93\")) {                    Plotly.newPlot(                        \"45380790-1591-4813-a9d3-0d50e13a4c93\",                        [{\"alignmentgroup\":\"True\",\"hovertemplate\":\"Income=%{x}\\u003cextra\\u003e\\u003c\\u002fextra\\u003e\",\"legendgroup\":\"\",\"marker\":{\"color\":\"#636efa\"},\"name\":\"\",\"notched\":false,\"offsetgroup\":\"\",\"orientation\":\"h\",\"showlegend\":false,\"x\":[40000.0,30000.0,80000.0,30000.0,10000.0,160000.0,40000.0,20000.0,13823.529411764706,30000.0,90000.0,170000.0,40000.0,60000.0,10000.0,30000.0,30000.0,40000.0,20000.0,40000.0,80000.0,40000.0,80000.0,40000.0,30000.0,30000.0,100000.0,70000.0,20000.0,20000.0,10000.0,20000.0,80000.0,90000.0,10000.0,10000.0,30000.0,20000.0,10000.0,30000.0,40000.0,10000.0,170000.0,20000.0,20000.0,60000.0,40000.0,30000.0,40000.0,30000.0,80000.0,20000.0,90000.0,70000.0,80000.0,40000.0,130000.0,40000.0,60000.0,10000.0,10000.0,40000.0,60000.0,30000.0,30000.0,40000.0,30000.0,20000.0,10000.0,120000.0,10000.0,130000.0,20000.0,20000.0,130000.0,20000.0,80000.0,80000.0,40000.0,30000.0,10000.0,30000.0,20000.0,40000.0,10000.0,130000.0,80000.0,30000.0,20000.0,30000.0,30000.0,60000.0,30000.0,30000.0,90000.0,30000.0,40000.0,40000.0,20000.0,10000.0,60000.0,10000.0,60000.0,70000.0,30000.0,70000.0,40000.0,40000.0,40000.0,13823.529411764706,70000.0,40000.0,130000.0,20000.0,10000.0,30000.0,20000.0,80000.0,30000.0,40000.0,150000.0,80000.0,100000.0,40000.0,80000.0,30000.0,30000.0,10000.0,10000.0,60000.0,90000.0,40000.0,40000.0,30000.0,10000.0,10000.0,20000.0,20000.0,30000.0,40000.0,10000.0,40000.0,80000.0,30000.0,40000.0,40000.0,40000.0,20000.0,30000.0,60000.0,100000.0,20000.0,100000.0,10000.0,130000.0,10000.0,20000.0,10000.0,60000.0,20000.0,60000.0,40000.0,10000.0,10000.0,90000.0,100000.0,70000.0,30000.0,130000.0,80000.0,10000.0,10000.0,50000.0,80000.0,20000.0,110000.0,160000.0,10000.0,10000.0,30000.0,10000.0,40000.0,130000.0,90000.0,30000.0,80000.0,70000.0,30000.0,30000.0,18372.093023255813,80000.0,70000.0,10000.0,20000.0,50000.0,60000.0,100000.0,80000.0,60000.0,10000.0,40000.0,60000.0,90000.0,30000.0,90000.0,20000.0,40000.0,30000.0,80000.0,50000.0,30000.0,70000.0,30000.0,80000.0,20000.0,20000.0,10000.0,10000.0,60000.0,10000.0,30000.0,70000.0,30000.0,20000.0,20000.0,10000.0,20000.0,80000.0,120000.0,40000.0,30000.0,20000.0,90000.0,10000.0,30000.0,10000.0,70000.0,30000.0,10000.0,30000.0,30000.0,20000.0,120000.0,110000.0,130000.0,100000.0,10000.0,70000.0,100000.0,130000.0,60000.0,100000.0,20000.0,30000.0,20000.0,50000.0,100000.0,150000.0,30000.0,40000.0,10000.0,70000.0,40000.0,30000.0,20000.0,100000.0,70000.0,50000.0,10000.0,20000.0,10000.0,20000.0,30000.0,90000.0,10000.0,10000.0,100000.0,30000.0,10000.0,20000.0,10000.0,70000.0,10000.0,60000.0,100000.0,30000.0,130000.0,30000.0,60000.0,40000.0,40000.0,10000.0,20000.0,110000.0,60000.0,100000.0,90000.0,30000.0,10000.0,29375.0,30000.0,30000.0,80000.0,10000.0,90000.0,10000.0,40000.0,20000.0,120000.0,60000.0,20000.0,40000.0,80000.0,70000.0,50000.0,30000.0,130000.0,30000.0,100000.0,160000.0,10000.0,40000.0,90000.0,40000.0,20000.0,30000.0,40000.0,90000.0,80000.0,10000.0,20000.0,130000.0,90000.0,20000.0,10000.0,120000.0,20000.0,30000.0,30000.0,10000.0,30000.0,30000.0,20000.0,40000.0,60000.0,20000.0,30000.0,20000.0,10000.0,80000.0,40000.0,30000.0,80000.0,150000.0,10000.0,90000.0,80000.0,130000.0,30000.0,40000.0,40000.0,10000.0,40000.0,60000.0,130000.0,30000.0,20000.0,100000.0,80000.0,40000.0,20000.0,80000.0,40000.0,20000.0,130000.0,30000.0,60000.0,70000.0,30000.0,80000.0,40000.0,10000.0,30000.0,120000.0,20000.0,30000.0,80000.0,70000.0,70000.0,20000.0,10000.0,40000.0,30000.0,60000.0,10000.0,30000.0,40000.0,110000.0,40000.0,10000.0,20000.0,30000.0,30000.0,40000.0,90000.0,40000.0,130000.0,20000.0,70000.0,40000.0,30000.0,40000.0,80000.0,60000.0,30000.0,30000.0,10000.0,100000.0,10000.0,110000.0,30000.0,10000.0,40000.0,30000.0,90000.0,110000.0,30000.0,30000.0,20000.0,110000.0,30000.0,30000.0,10000.0,80000.0,30000.0,80000.0,70000.0,90000.0,56363.63636363636,80000.0,40000.0,30000.0,40000.0,130000.0,40000.0,30000.0,40000.0,10000.0,40000.0,30000.0,70000.0,30000.0,80000.0,120000.0,20000.0,120000.0,80000.0,20000.0,120000.0,40000.0,20000.0,30000.0,40000.0,30000.0,100000.0,80000.0,30000.0,30000.0,70000.0,40000.0,30000.0,90000.0,20000.0,70000.0,70000.0,30000.0,40000.0,90000.0,40000.0,40000.0,10000.0,30000.0,30000.0,90000.0,40000.0,10000.0,20000.0,60000.0,70000.0,40000.0,70000.0,70000.0,60000.0,60000.0,70000.0,80000.0,40000.0,60000.0,50000.0,40000.0,130000.0,70000.0,100000.0,70000.0,40000.0,60000.0,69887.6404494382,70000.0,80000.0,60000.0,60000.0,40000.0,70000.0,60000.0,60000.0,80000.0,80000.0,100000.0,40000.0,60000.0,80000.0,80000.0,60000.0,110000.0,50000.0,30000.0,60000.0,60000.0,30000.0,60000.0,60000.0,40000.0,50000.0,80000.0,40000.0,80000.0,70000.0,70000.0,50000.0,40000.0,70000.0,120000.0,60000.0,60000.0,60000.0,80000.0,130000.0,70000.0,50000.0,60000.0,40000.0,60000.0,50000.0,80000.0,40000.0,50000.0,60000.0,60000.0,20000.0,70000.0,30000.0,30000.0,40000.0,60000.0,40000.0,70000.0,50000.0,70000.0,40000.0,30000.0,60000.0,80000.0,60000.0,40000.0,120000.0,60000.0,40000.0,60000.0,40000.0,80000.0,60000.0,70000.0,120000.0,60000.0,130000.0,90000.0,60000.0,60000.0,40000.0,80000.0,70000.0,80000.0,20000.0,90000.0,40000.0,130000.0,60000.0,30000.0,60000.0,60000.0,40000.0,70000.0,40000.0,70000.0,60000.0,70000.0,60000.0,80000.0,30000.0,110000.0,100000.0,60000.0,80000.0,40000.0,20000.0,40000.0,100000.0,70000.0,60000.0,70000.0,70000.0,60000.0,60000.0,60000.0,80000.0,50000.0,40000.0,70000.0,80000.0,130000.0,60000.0,30000.0,120000.0,40000.0,70000.0,100000.0,60000.0,50000.0,70000.0,70000.0,60000.0,60000.0,60000.0,40000.0,70000.0,70000.0,70000.0,60000.0,70000.0,30000.0,40000.0,40000.0,60000.0,70000.0,50000.0,60000.0,60000.0,40000.0,100000.0,70000.0,80000.0,130000.0,60000.0,40000.0,60000.0,60000.0,70000.0,60000.0,40000.0,70000.0,30000.0,100000.0,40000.0,60000.0,80000.0,60000.0,60000.0,80000.0,20000.0,90000.0,60000.0,60000.0,40000.0,30000.0,30000.0,130000.0,50000.0,70000.0,60000.0,80000.0,60000.0,30000.0,20000.0,90000.0,70000.0,30000.0,120000.0,50000.0,40000.0,70000.0,60000.0,70000.0,70000.0,70000.0,60000.0,70000.0,40000.0,70000.0,40000.0,60000.0,80000.0,90000.0,70000.0,70000.0,40000.0,110000.0,70000.0,80000.0,30000.0,130000.0,20000.0,70000.0,40000.0,60000.0,60000.0,60000.0,60000.0,130000.0,130000.0,30000.0,40000.0,70000.0,40000.0,60000.0,40000.0,40000.0,30000.0,110000.0,70000.0,60000.0,60000.0,70000.0,130000.0,70000.0,30000.0,60000.0,60000.0,40000.0,40000.0,60000.0,40000.0,30000.0,80000.0,60000.0,20000.0,60000.0,50000.0,50000.0,60000.0,70000.0,50000.0,60000.0,120000.0,100000.0,60000.0,80000.0,60000.0,60000.0,80000.0,70000.0,70000.0,40000.0,90000.0,80000.0,60000.0,80000.0,70000.0,60000.0,10000.0,40000.0,50000.0,70000.0,20000.0,60000.0,80000.0,40000.0,30000.0,30000.0,50000.0,60000.0,70000.0,60000.0,30000.0,50000.0,60000.0,70000.0,40000.0,40000.0,40000.0,40000.0,10000.0,60000.0,30000.0,40000.0,70000.0,60000.0,70000.0,70000.0,70000.0,40000.0,60000.0,60000.0,40000.0,40000.0,110000.0,60000.0,30000.0,70000.0,110000.0,70000.0,70000.0,80000.0,40000.0,170000.0,60000.0,70000.0,60000.0,70000.0,70000.0,60000.0,40000.0,60000.0,80000.0,80000.0,70000.0,120000.0,60000.0,80000.0,40000.0,20000.0,70000.0,40000.0,130000.0,40000.0,130000.0,60000.0,50000.0,60000.0,60000.0,30000.0,40000.0,60000.0,40000.0,30000.0,30000.0,20000.0,50000.0,80000.0,40000.0,80000.0,60000.0,30000.0,110000.0,60000.0,60000.0,70000.0,50000.0,30000.0,70000.0,30000.0,70000.0,50000.0,90000.0,80000.0,80000.0,30000.0,60000.0,80000.0,20000.0,70000.0,50000.0,60000.0,70000.0,40000.0,100000.0,70000.0,60000.0,70000.0,50000.0,50000.0,30000.0,70000.0,70000.0,40000.0,60000.0,80000.0,90000.0,60000.0,90000.0,60000.0,50000.0,60000.0,40000.0,80000.0,40000.0,60000.0,80000.0,60000.0,70000.0,110000.0,70000.0,40000.0,30000.0,70000.0,40000.0,70000.0,90000.0,50000.0,40000.0,70000.0,60000.0,60000.0,70000.0,40000.0,40000.0,60000.0,60000.0,60000.0,60000.0,70000.0,40000.0,80000.0,60000.0,60000.0,40000.0,60000.0,50000.0,50000.0,90000.0,90000.0,60000.0,70000.0,70000.0,70000.0,40000.0,60000.0,40000.0,70000.0,60000.0,90000.0,60000.0,100000.0,120000.0,60000.0,90000.0,70000.0,50000.0,50000.0,80000.0,30000.0,60000.0,60000.0,60000.0,30000.0,70000.0,70000.0,60000.0,80000.0,80000.0,40000.0,80000.0,110000.0,40000.0,130000.0,60000.0,50000.0,40000.0,60000.0,70000.0,60000.0,30000.0,60000.0,90000.0,150000.0,80000.0,60000.0,70000.0,100000.0,60000.0],\"x0\":\" \",\"xaxis\":\"x\",\"y0\":\" \",\"yaxis\":\"y\",\"type\":\"box\"}],                        {\"template\":{\"data\":{\"histogram2dcontour\":[{\"type\":\"histogram2dcontour\",\"colorbar\":{\"outlinewidth\":0,\"ticks\":\"\"},\"colorscale\":[[0.0,\"#0d0887\"],[0.1111111111111111,\"#46039f\"],[0.2222222222222222,\"#7201a8\"],[0.3333333333333333,\"#9c179e\"],[0.4444444444444444,\"#bd3786\"],[0.5555555555555556,\"#d8576b\"],[0.6666666666666666,\"#ed7953\"],[0.7777777777777778,\"#fb9f3a\"],[0.8888888888888888,\"#fdca26\"],[1.0,\"#f0f921\"]]}],\"choropleth\":[{\"type\":\"choropleth\",\"colorbar\":{\"outlinewidth\":0,\"ticks\":\"\"}}],\"histogram2d\":[{\"type\":\"histogram2d\",\"colorbar\":{\"outlinewidth\":0,\"ticks\":\"\"},\"colorscale\":[[0.0,\"#0d0887\"],[0.1111111111111111,\"#46039f\"],[0.2222222222222222,\"#7201a8\"],[0.3333333333333333,\"#9c179e\"],[0.4444444444444444,\"#bd3786\"],[0.5555555555555556,\"#d8576b\"],[0.6666666666666666,\"#ed7953\"],[0.7777777777777778,\"#fb9f3a\"],[0.8888888888888888,\"#fdca26\"],[1.0,\"#f0f921\"]]}],\"heatmap\":[{\"type\":\"heatmap\",\"colorbar\":{\"outlinewidth\":0,\"ticks\":\"\"},\"colorscale\":[[0.0,\"#0d0887\"],[0.1111111111111111,\"#46039f\"],[0.2222222222222222,\"#7201a8\"],[0.3333333333333333,\"#9c179e\"],[0.4444444444444444,\"#bd3786\"],[0.5555555555555556,\"#d8576b\"],[0.6666666666666666,\"#ed7953\"],[0.7777777777777778,\"#fb9f3a\"],[0.8888888888888888,\"#fdca26\"],[1.0,\"#f0f921\"]]}],\"heatmapgl\":[{\"type\":\"heatmapgl\",\"colorbar\":{\"outlinewidth\":0,\"ticks\":\"\"},\"colorscale\":[[0.0,\"#0d0887\"],[0.1111111111111111,\"#46039f\"],[0.2222222222222222,\"#7201a8\"],[0.3333333333333333,\"#9c179e\"],[0.4444444444444444,\"#bd3786\"],[0.5555555555555556,\"#d8576b\"],[0.6666666666666666,\"#ed7953\"],[0.7777777777777778,\"#fb9f3a\"],[0.8888888888888888,\"#fdca26\"],[1.0,\"#f0f921\"]]}],\"contourcarpet\":[{\"type\":\"contourcarpet\",\"colorbar\":{\"outlinewidth\":0,\"ticks\":\"\"}}],\"contour\":[{\"type\":\"contour\",\"colorbar\":{\"outlinewidth\":0,\"ticks\":\"\"},\"colorscale\":[[0.0,\"#0d0887\"],[0.1111111111111111,\"#46039f\"],[0.2222222222222222,\"#7201a8\"],[0.3333333333333333,\"#9c179e\"],[0.4444444444444444,\"#bd3786\"],[0.5555555555555556,\"#d8576b\"],[0.6666666666666666,\"#ed7953\"],[0.7777777777777778,\"#fb9f3a\"],[0.8888888888888888,\"#fdca26\"],[1.0,\"#f0f921\"]]}],\"surface\":[{\"type\":\"surface\",\"colorbar\":{\"outlinewidth\":0,\"ticks\":\"\"},\"colorscale\":[[0.0,\"#0d0887\"],[0.1111111111111111,\"#46039f\"],[0.2222222222222222,\"#7201a8\"],[0.3333333333333333,\"#9c179e\"],[0.4444444444444444,\"#bd3786\"],[0.5555555555555556,\"#d8576b\"],[0.6666666666666666,\"#ed7953\"],[0.7777777777777778,\"#fb9f3a\"],[0.8888888888888888,\"#fdca26\"],[1.0,\"#f0f921\"]]}],\"mesh3d\":[{\"type\":\"mesh3d\",\"colorbar\":{\"outlinewidth\":0,\"ticks\":\"\"}}],\"scatter\":[{\"fillpattern\":{\"fillmode\":\"overlay\",\"size\":10,\"solidity\":0.2},\"type\":\"scatter\"}],\"parcoords\":[{\"type\":\"parcoords\",\"line\":{\"colorbar\":{\"outlinewidth\":0,\"ticks\":\"\"}}}],\"scatterpolargl\":[{\"type\":\"scatterpolargl\",\"marker\":{\"colorbar\":{\"outlinewidth\":0,\"ticks\":\"\"}}}],\"bar\":[{\"error_x\":{\"color\":\"#2a3f5f\"},\"error_y\":{\"color\":\"#2a3f5f\"},\"marker\":{\"line\":{\"color\":\"#E5ECF6\",\"width\":0.5},\"pattern\":{\"fillmode\":\"overlay\",\"size\":10,\"solidity\":0.2}},\"type\":\"bar\"}],\"scattergeo\":[{\"type\":\"scattergeo\",\"marker\":{\"colorbar\":{\"outlinewidth\":0,\"ticks\":\"\"}}}],\"scatterpolar\":[{\"type\":\"scatterpolar\",\"marker\":{\"colorbar\":{\"outlinewidth\":0,\"ticks\":\"\"}}}],\"histogram\":[{\"marker\":{\"pattern\":{\"fillmode\":\"overlay\",\"size\":10,\"solidity\":0.2}},\"type\":\"histogram\"}],\"scattergl\":[{\"type\":\"scattergl\",\"marker\":{\"colorbar\":{\"outlinewidth\":0,\"ticks\":\"\"}}}],\"scatter3d\":[{\"type\":\"scatter3d\",\"line\":{\"colorbar\":{\"outlinewidth\":0,\"ticks\":\"\"}},\"marker\":{\"colorbar\":{\"outlinewidth\":0,\"ticks\":\"\"}}}],\"scattermapbox\":[{\"type\":\"scattermapbox\",\"marker\":{\"colorbar\":{\"outlinewidth\":0,\"ticks\":\"\"}}}],\"scatterternary\":[{\"type\":\"scatterternary\",\"marker\":{\"colorbar\":{\"outlinewidth\":0,\"ticks\":\"\"}}}],\"scattercarpet\":[{\"type\":\"scattercarpet\",\"marker\":{\"colorbar\":{\"outlinewidth\":0,\"ticks\":\"\"}}}],\"carpet\":[{\"aaxis\":{\"endlinecolor\":\"#2a3f5f\",\"gridcolor\":\"white\",\"linecolor\":\"white\",\"minorgridcolor\":\"white\",\"startlinecolor\":\"#2a3f5f\"},\"baxis\":{\"endlinecolor\":\"#2a3f5f\",\"gridcolor\":\"white\",\"linecolor\":\"white\",\"minorgridcolor\":\"white\",\"startlinecolor\":\"#2a3f5f\"},\"type\":\"carpet\"}],\"table\":[{\"cells\":{\"fill\":{\"color\":\"#EBF0F8\"},\"line\":{\"color\":\"white\"}},\"header\":{\"fill\":{\"color\":\"#C8D4E3\"},\"line\":{\"color\":\"white\"}},\"type\":\"table\"}],\"barpolar\":[{\"marker\":{\"line\":{\"color\":\"#E5ECF6\",\"width\":0.5},\"pattern\":{\"fillmode\":\"overlay\",\"size\":10,\"solidity\":0.2}},\"type\":\"barpolar\"}],\"pie\":[{\"automargin\":true,\"type\":\"pie\"}]},\"layout\":{\"autotypenumbers\":\"strict\",\"colorway\":[\"#636efa\",\"#EF553B\",\"#00cc96\",\"#ab63fa\",\"#FFA15A\",\"#19d3f3\",\"#FF6692\",\"#B6E880\",\"#FF97FF\",\"#FECB52\"],\"font\":{\"color\":\"#2a3f5f\"},\"hovermode\":\"closest\",\"hoverlabel\":{\"align\":\"left\"},\"paper_bgcolor\":\"white\",\"plot_bgcolor\":\"#E5ECF6\",\"polar\":{\"bgcolor\":\"#E5ECF6\",\"angularaxis\":{\"gridcolor\":\"white\",\"linecolor\":\"white\",\"ticks\":\"\"},\"radialaxis\":{\"gridcolor\":\"white\",\"linecolor\":\"white\",\"ticks\":\"\"}},\"ternary\":{\"bgcolor\":\"#E5ECF6\",\"aaxis\":{\"gridcolor\":\"white\",\"linecolor\":\"white\",\"ticks\":\"\"},\"baxis\":{\"gridcolor\":\"white\",\"linecolor\":\"white\",\"ticks\":\"\"},\"caxis\":{\"gridcolor\":\"white\",\"linecolor\":\"white\",\"ticks\":\"\"}},\"coloraxis\":{\"colorbar\":{\"outlinewidth\":0,\"ticks\":\"\"}},\"colorscale\":{\"sequential\":[[0.0,\"#0d0887\"],[0.1111111111111111,\"#46039f\"],[0.2222222222222222,\"#7201a8\"],[0.3333333333333333,\"#9c179e\"],[0.4444444444444444,\"#bd3786\"],[0.5555555555555556,\"#d8576b\"],[0.6666666666666666,\"#ed7953\"],[0.7777777777777778,\"#fb9f3a\"],[0.8888888888888888,\"#fdca26\"],[1.0,\"#f0f921\"]],\"sequentialminus\":[[0.0,\"#0d0887\"],[0.1111111111111111,\"#46039f\"],[0.2222222222222222,\"#7201a8\"],[0.3333333333333333,\"#9c179e\"],[0.4444444444444444,\"#bd3786\"],[0.5555555555555556,\"#d8576b\"],[0.6666666666666666,\"#ed7953\"],[0.7777777777777778,\"#fb9f3a\"],[0.8888888888888888,\"#fdca26\"],[1.0,\"#f0f921\"]],\"diverging\":[[0,\"#8e0152\"],[0.1,\"#c51b7d\"],[0.2,\"#de77ae\"],[0.3,\"#f1b6da\"],[0.4,\"#fde0ef\"],[0.5,\"#f7f7f7\"],[0.6,\"#e6f5d0\"],[0.7,\"#b8e186\"],[0.8,\"#7fbc41\"],[0.9,\"#4d9221\"],[1,\"#276419\"]]},\"xaxis\":{\"gridcolor\":\"white\",\"linecolor\":\"white\",\"ticks\":\"\",\"title\":{\"standoff\":15},\"zerolinecolor\":\"white\",\"automargin\":true,\"zerolinewidth\":2},\"yaxis\":{\"gridcolor\":\"white\",\"linecolor\":\"white\",\"ticks\":\"\",\"title\":{\"standoff\":15},\"zerolinecolor\":\"white\",\"automargin\":true,\"zerolinewidth\":2},\"scene\":{\"xaxis\":{\"backgroundcolor\":\"#E5ECF6\",\"gridcolor\":\"white\",\"linecolor\":\"white\",\"showbackground\":true,\"ticks\":\"\",\"zerolinecolor\":\"white\",\"gridwidth\":2},\"yaxis\":{\"backgroundcolor\":\"#E5ECF6\",\"gridcolor\":\"white\",\"linecolor\":\"white\",\"showbackground\":true,\"ticks\":\"\",\"zerolinecolor\":\"white\",\"gridwidth\":2},\"zaxis\":{\"backgroundcolor\":\"#E5ECF6\",\"gridcolor\":\"white\",\"linecolor\":\"white\",\"showbackground\":true,\"ticks\":\"\",\"zerolinecolor\":\"white\",\"gridwidth\":2}},\"shapedefaults\":{\"line\":{\"color\":\"#2a3f5f\"}},\"annotationdefaults\":{\"arrowcolor\":\"#2a3f5f\",\"arrowhead\":0,\"arrowwidth\":1},\"geo\":{\"bgcolor\":\"white\",\"landcolor\":\"#E5ECF6\",\"subunitcolor\":\"white\",\"showland\":true,\"showlakes\":true,\"lakecolor\":\"white\"},\"title\":{\"x\":0.05},\"mapbox\":{\"style\":\"light\"}}},\"xaxis\":{\"anchor\":\"y\",\"domain\":[0.0,1.0],\"title\":{\"text\":\"Income\"}},\"yaxis\":{\"anchor\":\"x\",\"domain\":[0.0,1.0]},\"legend\":{\"tracegroupgap\":0},\"margin\":{\"t\":60},\"boxmode\":\"group\"},                        {\"responsive\": true}                    ).then(function(){\n",
       "                            \n",
       "var gd = document.getElementById('45380790-1591-4813-a9d3-0d50e13a4c93');\n",
       "var x = new MutationObserver(function (mutations, observer) {{\n",
       "        var display = window.getComputedStyle(gd).display;\n",
       "        if (!display || display === 'none') {{\n",
       "            console.log([gd, 'removed!']);\n",
       "            Plotly.purge(gd);\n",
       "            observer.disconnect();\n",
       "        }}\n",
       "}});\n",
       "\n",
       "// Listen for the removal of the full notebook cells\n",
       "var notebookContainer = gd.closest('#notebook-container');\n",
       "if (notebookContainer) {{\n",
       "    x.observe(notebookContainer, {childList: true});\n",
       "}}\n",
       "\n",
       "// Listen for the clearing of the current output cell\n",
       "var outputEl = gd.closest('.output');\n",
       "if (outputEl) {{\n",
       "    x.observe(outputEl, {childList: true});\n",
       "}}\n",
       "\n",
       "                        })                };                });            </script>        </div>"
      ]
     },
     "metadata": {},
     "output_type": "display_data"
    }
   ],
   "source": [
    "#Ahora veremos los gráficos de cada variable del data set\n",
    "fig = px.box(df, x = \"Income\")\n",
    "fig.show()"
   ]
  },
  {
   "cell_type": "code",
   "execution_count": 976,
   "id": "047a4086",
   "metadata": {},
   "outputs": [
    {
     "data": {
      "application/vnd.plotly.v1+json": {
       "config": {
        "plotlyServerURL": "https://plot.ly"
       },
       "data": [
        {
         "alignmentgroup": "True",
         "hovertemplate": "Children=%{x}<extra></extra>",
         "legendgroup": "",
         "marker": {
          "color": "#636efa"
         },
         "name": "",
         "notched": false,
         "offsetgroup": "",
         "orientation": "h",
         "showlegend": false,
         "type": "box",
         "x": [
          1,
          3,
          5,
          0,
          2,
          2,
          1,
          2,
          2,
          3,
          0,
          5,
          2,
          1,
          2,
          3,
          1,
          2,
          2,
          0,
          0,
          2,
          5,
          2,
          1,
          0,
          0,
          5,
          0,
          2,
          0,
          0,
          2,
          5,
          5,
          2,
          0,
          0,
          4,
          2,
          2,
          1,
          4,
          3,
          1,
          1,
          2,
          2,
          0,
          0,
          0,
          1,
          4,
          0,
          4,
          0,
          4,
          1,
          2,
          1,
          2,
          2,
          4,
          1,
          2,
          0,
          0,
          4,
          0,
          0,
          0,
          3,
          0,
          3,
          4,
          0,
          0,
          2,
          2,
          4,
          4,
          0,
          0,
          2,
          0,
          3,
          5,
          0,
          1,
          0,
          0,
          2,
          0,
          3,
          5,
          1,
          1,
          0,
          3,
          2,
          3,
          2,
          1,
          2,
          0,
          2,
          2,
          0,
          0,
          1,
          0,
          2,
          1,
          0,
          0,
          1,
          1.7967479674796747,
          5,
          0,
          2,
          2,
          0,
          3,
          0,
          5,
          0,
          1,
          2,
          3,
          2,
          4,
          0,
          2,
          2,
          2,
          1,
          2,
          2,
          2,
          0,
          0,
          1,
          0,
          1,
          2,
          0,
          0,
          4,
          0,
          1,
          1,
          0,
          1,
          4,
          5,
          2,
          2,
          1,
          1,
          2,
          2,
          2,
          0,
          0,
          1,
          0,
          0,
          1,
          4,
          5,
          0,
          0,
          0,
          2,
          0,
          2,
          4,
          0,
          1,
          3,
          2,
          2,
          4,
          1,
          3,
          5,
          0,
          1,
          3,
          2,
          5,
          5,
          0,
          0,
          0,
          2,
          0,
          0,
          0,
          1,
          2,
          1,
          3,
          3,
          5,
          0,
          0,
          3,
          4,
          0,
          0,
          0,
          1,
          4,
          2,
          1.7967479674796747,
          1,
          0,
          1,
          0,
          3,
          5,
          2,
          1,
          3,
          3,
          1,
          5,
          4,
          0,
          4,
          0,
          0,
          1,
          5,
          0,
          5,
          0,
          1,
          3,
          1,
          0,
          3,
          5,
          3,
          0,
          5,
          0,
          5,
          4,
          0,
          3,
          2,
          3,
          1,
          0,
          3,
          0,
          2,
          1,
          2,
          5,
          0,
          2,
          5,
          5,
          5,
          0,
          2,
          0,
          4,
          0,
          0,
          1,
          2,
          2,
          0,
          1,
          3,
          1,
          0,
          5,
          1,
          1,
          1,
          3,
          0,
          3,
          1,
          0,
          1,
          1,
          0,
          0,
          2,
          1,
          4,
          2,
          5,
          0,
          1,
          1,
          4,
          2,
          2,
          2,
          2,
          2,
          4,
          1,
          4,
          3,
          5,
          0,
          2,
          0,
          4,
          3,
          0,
          0,
          4,
          0,
          4,
          2,
          0,
          1,
          2,
          5,
          0,
          0,
          0,
          3,
          2,
          0,
          0,
          3,
          1,
          0,
          0,
          0,
          0,
          0,
          1,
          1,
          1,
          2,
          0,
          0,
          3,
          4,
          0,
          1,
          0,
          3,
          0,
          4,
          0,
          0,
          3,
          1,
          2,
          2,
          0,
          1,
          3,
          2,
          2,
          4,
          5,
          1,
          0,
          5,
          1,
          1,
          3,
          3,
          3,
          0,
          2,
          4,
          0,
          0,
          3,
          1.7967479674796747,
          0,
          1,
          0,
          0,
          0,
          1,
          0,
          0,
          1,
          2,
          2,
          1,
          2,
          3,
          1,
          1,
          1,
          3,
          0,
          1,
          2,
          2,
          3,
          2,
          5,
          2,
          2,
          0,
          5,
          2,
          2,
          1,
          2,
          2,
          2,
          0,
          0,
          3,
          2,
          0,
          1,
          4,
          0,
          3,
          0,
          0,
          3,
          3,
          2,
          2,
          3,
          0,
          5,
          0,
          2,
          4,
          1,
          0,
          1,
          0,
          1,
          3,
          1,
          2,
          1,
          2,
          5,
          0,
          4,
          3,
          1,
          0,
          0,
          0,
          1,
          0,
          2,
          3,
          2,
          3,
          1,
          5,
          1,
          0,
          0,
          0,
          0,
          2,
          4,
          0,
          2,
          0,
          1,
          1,
          2,
          0,
          1,
          0,
          2,
          4,
          0,
          0,
          0,
          4,
          2,
          3,
          5,
          4,
          2,
          3,
          1,
          1,
          0,
          5,
          0,
          0,
          1,
          2,
          4,
          4,
          1,
          0,
          3,
          0,
          4,
          1,
          4,
          0,
          5,
          2,
          3,
          0,
          5,
          1,
          4,
          3,
          3,
          4,
          5,
          1,
          1,
          0,
          2,
          0,
          0,
          1,
          3,
          4,
          3,
          3,
          1,
          4,
          0,
          3,
          1,
          0,
          2,
          2,
          0,
          4,
          2,
          4,
          2.0588235294117645,
          0,
          4,
          3,
          3,
          2,
          0,
          4,
          3,
          3,
          2,
          0,
          2,
          2,
          0,
          0,
          3,
          2,
          1,
          1,
          3,
          3,
          2,
          0,
          3,
          0,
          2,
          0,
          1,
          4,
          3,
          3,
          0,
          4,
          3,
          2,
          2,
          2,
          0,
          2,
          2,
          1,
          4,
          5,
          2,
          4,
          3,
          4,
          2,
          1,
          2,
          2,
          2,
          1,
          0,
          3,
          2,
          5,
          3,
          0,
          1,
          0,
          0,
          1,
          3,
          4,
          4,
          4,
          3,
          0,
          4,
          4,
          5,
          4,
          0,
          3,
          0,
          3,
          3,
          1,
          0,
          5,
          4,
          1,
          3,
          2,
          4,
          0,
          1.497584541062802,
          2,
          2,
          4,
          3,
          3,
          5,
          0,
          4,
          0,
          2,
          0,
          5,
          0,
          5,
          0,
          0,
          3,
          2,
          1,
          2,
          4,
          1,
          0,
          1,
          5,
          0,
          1,
          1,
          5,
          0,
          2,
          2,
          1,
          0,
          4,
          2,
          3,
          2,
          4,
          5,
          4,
          0,
          4,
          3,
          5,
          4,
          3,
          1,
          0,
          0,
          1,
          1,
          1,
          4,
          3,
          0,
          0,
          2,
          0,
          4,
          0,
          1,
          0,
          0,
          4,
          0,
          1,
          5,
          2,
          0,
          2,
          2,
          2,
          0,
          1,
          0,
          4,
          4,
          5,
          5,
          4,
          3,
          2,
          2,
          2,
          2,
          1,
          0,
          3,
          4,
          2,
          0,
          1,
          1,
          0,
          0,
          2,
          2,
          2,
          4,
          1,
          0,
          1,
          4,
          4,
          2,
          1,
          2,
          2,
          2,
          1,
          0,
          0,
          4,
          3,
          1,
          1,
          5,
          3,
          3,
          5,
          2,
          1,
          0,
          0,
          4,
          2,
          1,
          4,
          1,
          1,
          4,
          1,
          3,
          2,
          2,
          0,
          5,
          3,
          2,
          4,
          4,
          4,
          2,
          0,
          1,
          2,
          2,
          2,
          2,
          0,
          1,
          1,
          2,
          2,
          5,
          0,
          0,
          1,
          4,
          4,
          0,
          0,
          0,
          1.7967479674796747,
          2,
          0,
          2,
          4,
          3,
          0,
          4,
          2,
          4,
          0,
          3,
          3,
          0,
          0,
          1,
          0,
          0,
          4,
          2,
          3,
          4,
          3,
          0,
          1,
          2,
          4,
          0,
          0,
          2,
          3,
          0,
          1,
          3,
          3,
          4,
          2,
          1,
          2,
          5,
          3,
          4,
          0,
          0,
          5,
          2,
          0,
          2,
          1,
          0,
          0,
          0,
          1,
          0,
          2,
          0,
          2,
          0,
          0,
          0,
          0,
          2,
          5,
          3,
          1,
          2,
          3,
          3,
          1,
          2,
          0,
          5,
          2,
          4,
          2,
          4,
          0,
          1,
          4,
          2,
          3,
          0,
          4,
          1,
          2,
          1,
          4,
          1,
          3,
          4,
          1,
          0,
          5,
          5,
          4,
          4,
          3,
          4,
          2,
          4,
          1,
          4,
          0,
          4,
          5,
          3,
          2,
          5,
          3,
          3,
          3,
          0,
          4,
          2,
          3,
          3,
          3,
          2,
          0,
          2,
          0,
          2,
          2,
          5,
          1,
          0,
          0,
          2,
          1,
          4,
          4,
          0,
          2,
          1,
          1,
          3,
          4,
          1,
          2,
          5,
          4,
          0,
          2,
          1,
          4,
          3,
          1,
          4,
          4,
          0,
          5,
          1,
          1.497584541062802,
          2,
          2,
          5,
          4,
          3,
          0,
          3,
          0,
          0,
          0,
          2,
          1,
          3,
          3,
          3,
          4,
          5,
          0,
          3,
          5,
          2,
          2,
          2,
          4,
          5,
          3,
          5,
          4,
          0,
          1,
          2,
          1,
          5,
          2,
          4,
          3,
          3
         ],
         "x0": " ",
         "xaxis": "x",
         "y0": " ",
         "yaxis": "y"
        }
       ],
       "layout": {
        "boxmode": "group",
        "legend": {
         "tracegroupgap": 0
        },
        "margin": {
         "t": 60
        },
        "template": {
         "data": {
          "bar": [
           {
            "error_x": {
             "color": "#2a3f5f"
            },
            "error_y": {
             "color": "#2a3f5f"
            },
            "marker": {
             "line": {
              "color": "#E5ECF6",
              "width": 0.5
             },
             "pattern": {
              "fillmode": "overlay",
              "size": 10,
              "solidity": 0.2
             }
            },
            "type": "bar"
           }
          ],
          "barpolar": [
           {
            "marker": {
             "line": {
              "color": "#E5ECF6",
              "width": 0.5
             },
             "pattern": {
              "fillmode": "overlay",
              "size": 10,
              "solidity": 0.2
             }
            },
            "type": "barpolar"
           }
          ],
          "carpet": [
           {
            "aaxis": {
             "endlinecolor": "#2a3f5f",
             "gridcolor": "white",
             "linecolor": "white",
             "minorgridcolor": "white",
             "startlinecolor": "#2a3f5f"
            },
            "baxis": {
             "endlinecolor": "#2a3f5f",
             "gridcolor": "white",
             "linecolor": "white",
             "minorgridcolor": "white",
             "startlinecolor": "#2a3f5f"
            },
            "type": "carpet"
           }
          ],
          "choropleth": [
           {
            "colorbar": {
             "outlinewidth": 0,
             "ticks": ""
            },
            "type": "choropleth"
           }
          ],
          "contour": [
           {
            "colorbar": {
             "outlinewidth": 0,
             "ticks": ""
            },
            "colorscale": [
             [
              0,
              "#0d0887"
             ],
             [
              0.1111111111111111,
              "#46039f"
             ],
             [
              0.2222222222222222,
              "#7201a8"
             ],
             [
              0.3333333333333333,
              "#9c179e"
             ],
             [
              0.4444444444444444,
              "#bd3786"
             ],
             [
              0.5555555555555556,
              "#d8576b"
             ],
             [
              0.6666666666666666,
              "#ed7953"
             ],
             [
              0.7777777777777778,
              "#fb9f3a"
             ],
             [
              0.8888888888888888,
              "#fdca26"
             ],
             [
              1,
              "#f0f921"
             ]
            ],
            "type": "contour"
           }
          ],
          "contourcarpet": [
           {
            "colorbar": {
             "outlinewidth": 0,
             "ticks": ""
            },
            "type": "contourcarpet"
           }
          ],
          "heatmap": [
           {
            "colorbar": {
             "outlinewidth": 0,
             "ticks": ""
            },
            "colorscale": [
             [
              0,
              "#0d0887"
             ],
             [
              0.1111111111111111,
              "#46039f"
             ],
             [
              0.2222222222222222,
              "#7201a8"
             ],
             [
              0.3333333333333333,
              "#9c179e"
             ],
             [
              0.4444444444444444,
              "#bd3786"
             ],
             [
              0.5555555555555556,
              "#d8576b"
             ],
             [
              0.6666666666666666,
              "#ed7953"
             ],
             [
              0.7777777777777778,
              "#fb9f3a"
             ],
             [
              0.8888888888888888,
              "#fdca26"
             ],
             [
              1,
              "#f0f921"
             ]
            ],
            "type": "heatmap"
           }
          ],
          "heatmapgl": [
           {
            "colorbar": {
             "outlinewidth": 0,
             "ticks": ""
            },
            "colorscale": [
             [
              0,
              "#0d0887"
             ],
             [
              0.1111111111111111,
              "#46039f"
             ],
             [
              0.2222222222222222,
              "#7201a8"
             ],
             [
              0.3333333333333333,
              "#9c179e"
             ],
             [
              0.4444444444444444,
              "#bd3786"
             ],
             [
              0.5555555555555556,
              "#d8576b"
             ],
             [
              0.6666666666666666,
              "#ed7953"
             ],
             [
              0.7777777777777778,
              "#fb9f3a"
             ],
             [
              0.8888888888888888,
              "#fdca26"
             ],
             [
              1,
              "#f0f921"
             ]
            ],
            "type": "heatmapgl"
           }
          ],
          "histogram": [
           {
            "marker": {
             "pattern": {
              "fillmode": "overlay",
              "size": 10,
              "solidity": 0.2
             }
            },
            "type": "histogram"
           }
          ],
          "histogram2d": [
           {
            "colorbar": {
             "outlinewidth": 0,
             "ticks": ""
            },
            "colorscale": [
             [
              0,
              "#0d0887"
             ],
             [
              0.1111111111111111,
              "#46039f"
             ],
             [
              0.2222222222222222,
              "#7201a8"
             ],
             [
              0.3333333333333333,
              "#9c179e"
             ],
             [
              0.4444444444444444,
              "#bd3786"
             ],
             [
              0.5555555555555556,
              "#d8576b"
             ],
             [
              0.6666666666666666,
              "#ed7953"
             ],
             [
              0.7777777777777778,
              "#fb9f3a"
             ],
             [
              0.8888888888888888,
              "#fdca26"
             ],
             [
              1,
              "#f0f921"
             ]
            ],
            "type": "histogram2d"
           }
          ],
          "histogram2dcontour": [
           {
            "colorbar": {
             "outlinewidth": 0,
             "ticks": ""
            },
            "colorscale": [
             [
              0,
              "#0d0887"
             ],
             [
              0.1111111111111111,
              "#46039f"
             ],
             [
              0.2222222222222222,
              "#7201a8"
             ],
             [
              0.3333333333333333,
              "#9c179e"
             ],
             [
              0.4444444444444444,
              "#bd3786"
             ],
             [
              0.5555555555555556,
              "#d8576b"
             ],
             [
              0.6666666666666666,
              "#ed7953"
             ],
             [
              0.7777777777777778,
              "#fb9f3a"
             ],
             [
              0.8888888888888888,
              "#fdca26"
             ],
             [
              1,
              "#f0f921"
             ]
            ],
            "type": "histogram2dcontour"
           }
          ],
          "mesh3d": [
           {
            "colorbar": {
             "outlinewidth": 0,
             "ticks": ""
            },
            "type": "mesh3d"
           }
          ],
          "parcoords": [
           {
            "line": {
             "colorbar": {
              "outlinewidth": 0,
              "ticks": ""
             }
            },
            "type": "parcoords"
           }
          ],
          "pie": [
           {
            "automargin": true,
            "type": "pie"
           }
          ],
          "scatter": [
           {
            "fillpattern": {
             "fillmode": "overlay",
             "size": 10,
             "solidity": 0.2
            },
            "type": "scatter"
           }
          ],
          "scatter3d": [
           {
            "line": {
             "colorbar": {
              "outlinewidth": 0,
              "ticks": ""
             }
            },
            "marker": {
             "colorbar": {
              "outlinewidth": 0,
              "ticks": ""
             }
            },
            "type": "scatter3d"
           }
          ],
          "scattercarpet": [
           {
            "marker": {
             "colorbar": {
              "outlinewidth": 0,
              "ticks": ""
             }
            },
            "type": "scattercarpet"
           }
          ],
          "scattergeo": [
           {
            "marker": {
             "colorbar": {
              "outlinewidth": 0,
              "ticks": ""
             }
            },
            "type": "scattergeo"
           }
          ],
          "scattergl": [
           {
            "marker": {
             "colorbar": {
              "outlinewidth": 0,
              "ticks": ""
             }
            },
            "type": "scattergl"
           }
          ],
          "scattermapbox": [
           {
            "marker": {
             "colorbar": {
              "outlinewidth": 0,
              "ticks": ""
             }
            },
            "type": "scattermapbox"
           }
          ],
          "scatterpolar": [
           {
            "marker": {
             "colorbar": {
              "outlinewidth": 0,
              "ticks": ""
             }
            },
            "type": "scatterpolar"
           }
          ],
          "scatterpolargl": [
           {
            "marker": {
             "colorbar": {
              "outlinewidth": 0,
              "ticks": ""
             }
            },
            "type": "scatterpolargl"
           }
          ],
          "scatterternary": [
           {
            "marker": {
             "colorbar": {
              "outlinewidth": 0,
              "ticks": ""
             }
            },
            "type": "scatterternary"
           }
          ],
          "surface": [
           {
            "colorbar": {
             "outlinewidth": 0,
             "ticks": ""
            },
            "colorscale": [
             [
              0,
              "#0d0887"
             ],
             [
              0.1111111111111111,
              "#46039f"
             ],
             [
              0.2222222222222222,
              "#7201a8"
             ],
             [
              0.3333333333333333,
              "#9c179e"
             ],
             [
              0.4444444444444444,
              "#bd3786"
             ],
             [
              0.5555555555555556,
              "#d8576b"
             ],
             [
              0.6666666666666666,
              "#ed7953"
             ],
             [
              0.7777777777777778,
              "#fb9f3a"
             ],
             [
              0.8888888888888888,
              "#fdca26"
             ],
             [
              1,
              "#f0f921"
             ]
            ],
            "type": "surface"
           }
          ],
          "table": [
           {
            "cells": {
             "fill": {
              "color": "#EBF0F8"
             },
             "line": {
              "color": "white"
             }
            },
            "header": {
             "fill": {
              "color": "#C8D4E3"
             },
             "line": {
              "color": "white"
             }
            },
            "type": "table"
           }
          ]
         },
         "layout": {
          "annotationdefaults": {
           "arrowcolor": "#2a3f5f",
           "arrowhead": 0,
           "arrowwidth": 1
          },
          "autotypenumbers": "strict",
          "coloraxis": {
           "colorbar": {
            "outlinewidth": 0,
            "ticks": ""
           }
          },
          "colorscale": {
           "diverging": [
            [
             0,
             "#8e0152"
            ],
            [
             0.1,
             "#c51b7d"
            ],
            [
             0.2,
             "#de77ae"
            ],
            [
             0.3,
             "#f1b6da"
            ],
            [
             0.4,
             "#fde0ef"
            ],
            [
             0.5,
             "#f7f7f7"
            ],
            [
             0.6,
             "#e6f5d0"
            ],
            [
             0.7,
             "#b8e186"
            ],
            [
             0.8,
             "#7fbc41"
            ],
            [
             0.9,
             "#4d9221"
            ],
            [
             1,
             "#276419"
            ]
           ],
           "sequential": [
            [
             0,
             "#0d0887"
            ],
            [
             0.1111111111111111,
             "#46039f"
            ],
            [
             0.2222222222222222,
             "#7201a8"
            ],
            [
             0.3333333333333333,
             "#9c179e"
            ],
            [
             0.4444444444444444,
             "#bd3786"
            ],
            [
             0.5555555555555556,
             "#d8576b"
            ],
            [
             0.6666666666666666,
             "#ed7953"
            ],
            [
             0.7777777777777778,
             "#fb9f3a"
            ],
            [
             0.8888888888888888,
             "#fdca26"
            ],
            [
             1,
             "#f0f921"
            ]
           ],
           "sequentialminus": [
            [
             0,
             "#0d0887"
            ],
            [
             0.1111111111111111,
             "#46039f"
            ],
            [
             0.2222222222222222,
             "#7201a8"
            ],
            [
             0.3333333333333333,
             "#9c179e"
            ],
            [
             0.4444444444444444,
             "#bd3786"
            ],
            [
             0.5555555555555556,
             "#d8576b"
            ],
            [
             0.6666666666666666,
             "#ed7953"
            ],
            [
             0.7777777777777778,
             "#fb9f3a"
            ],
            [
             0.8888888888888888,
             "#fdca26"
            ],
            [
             1,
             "#f0f921"
            ]
           ]
          },
          "colorway": [
           "#636efa",
           "#EF553B",
           "#00cc96",
           "#ab63fa",
           "#FFA15A",
           "#19d3f3",
           "#FF6692",
           "#B6E880",
           "#FF97FF",
           "#FECB52"
          ],
          "font": {
           "color": "#2a3f5f"
          },
          "geo": {
           "bgcolor": "white",
           "lakecolor": "white",
           "landcolor": "#E5ECF6",
           "showlakes": true,
           "showland": true,
           "subunitcolor": "white"
          },
          "hoverlabel": {
           "align": "left"
          },
          "hovermode": "closest",
          "mapbox": {
           "style": "light"
          },
          "paper_bgcolor": "white",
          "plot_bgcolor": "#E5ECF6",
          "polar": {
           "angularaxis": {
            "gridcolor": "white",
            "linecolor": "white",
            "ticks": ""
           },
           "bgcolor": "#E5ECF6",
           "radialaxis": {
            "gridcolor": "white",
            "linecolor": "white",
            "ticks": ""
           }
          },
          "scene": {
           "xaxis": {
            "backgroundcolor": "#E5ECF6",
            "gridcolor": "white",
            "gridwidth": 2,
            "linecolor": "white",
            "showbackground": true,
            "ticks": "",
            "zerolinecolor": "white"
           },
           "yaxis": {
            "backgroundcolor": "#E5ECF6",
            "gridcolor": "white",
            "gridwidth": 2,
            "linecolor": "white",
            "showbackground": true,
            "ticks": "",
            "zerolinecolor": "white"
           },
           "zaxis": {
            "backgroundcolor": "#E5ECF6",
            "gridcolor": "white",
            "gridwidth": 2,
            "linecolor": "white",
            "showbackground": true,
            "ticks": "",
            "zerolinecolor": "white"
           }
          },
          "shapedefaults": {
           "line": {
            "color": "#2a3f5f"
           }
          },
          "ternary": {
           "aaxis": {
            "gridcolor": "white",
            "linecolor": "white",
            "ticks": ""
           },
           "baxis": {
            "gridcolor": "white",
            "linecolor": "white",
            "ticks": ""
           },
           "bgcolor": "#E5ECF6",
           "caxis": {
            "gridcolor": "white",
            "linecolor": "white",
            "ticks": ""
           }
          },
          "title": {
           "x": 0.05
          },
          "xaxis": {
           "automargin": true,
           "gridcolor": "white",
           "linecolor": "white",
           "ticks": "",
           "title": {
            "standoff": 15
           },
           "zerolinecolor": "white",
           "zerolinewidth": 2
          },
          "yaxis": {
           "automargin": true,
           "gridcolor": "white",
           "linecolor": "white",
           "ticks": "",
           "title": {
            "standoff": 15
           },
           "zerolinecolor": "white",
           "zerolinewidth": 2
          }
         }
        },
        "xaxis": {
         "anchor": "y",
         "domain": [
          0,
          1
         ],
         "title": {
          "text": "Children"
         }
        },
        "yaxis": {
         "anchor": "x",
         "domain": [
          0,
          1
         ]
        }
       }
      },
      "text/html": [
       "<div>                            <div id=\"23a58f81-9758-4543-b452-2f8397c6de21\" class=\"plotly-graph-div\" style=\"height:525px; width:100%;\"></div>            <script type=\"text/javascript\">                require([\"plotly\"], function(Plotly) {                    window.PLOTLYENV=window.PLOTLYENV || {};                                    if (document.getElementById(\"23a58f81-9758-4543-b452-2f8397c6de21\")) {                    Plotly.newPlot(                        \"23a58f81-9758-4543-b452-2f8397c6de21\",                        [{\"alignmentgroup\":\"True\",\"hovertemplate\":\"Children=%{x}\\u003cextra\\u003e\\u003c\\u002fextra\\u003e\",\"legendgroup\":\"\",\"marker\":{\"color\":\"#636efa\"},\"name\":\"\",\"notched\":false,\"offsetgroup\":\"\",\"orientation\":\"h\",\"showlegend\":false,\"x\":[1.0,3.0,5.0,0.0,2.0,2.0,1.0,2.0,2.0,3.0,0.0,5.0,2.0,1.0,2.0,3.0,1.0,2.0,2.0,0.0,0.0,2.0,5.0,2.0,1.0,0.0,0.0,5.0,0.0,2.0,0.0,0.0,2.0,5.0,5.0,2.0,0.0,0.0,4.0,2.0,2.0,1.0,4.0,3.0,1.0,1.0,2.0,2.0,0.0,0.0,0.0,1.0,4.0,0.0,4.0,0.0,4.0,1.0,2.0,1.0,2.0,2.0,4.0,1.0,2.0,0.0,0.0,4.0,0.0,0.0,0.0,3.0,0.0,3.0,4.0,0.0,0.0,2.0,2.0,4.0,4.0,0.0,0.0,2.0,0.0,3.0,5.0,0.0,1.0,0.0,0.0,2.0,0.0,3.0,5.0,1.0,1.0,0.0,3.0,2.0,3.0,2.0,1.0,2.0,0.0,2.0,2.0,0.0,0.0,1.0,0.0,2.0,1.0,0.0,0.0,1.0,1.7967479674796747,5.0,0.0,2.0,2.0,0.0,3.0,0.0,5.0,0.0,1.0,2.0,3.0,2.0,4.0,0.0,2.0,2.0,2.0,1.0,2.0,2.0,2.0,0.0,0.0,1.0,0.0,1.0,2.0,0.0,0.0,4.0,0.0,1.0,1.0,0.0,1.0,4.0,5.0,2.0,2.0,1.0,1.0,2.0,2.0,2.0,0.0,0.0,1.0,0.0,0.0,1.0,4.0,5.0,0.0,0.0,0.0,2.0,0.0,2.0,4.0,0.0,1.0,3.0,2.0,2.0,4.0,1.0,3.0,5.0,0.0,1.0,3.0,2.0,5.0,5.0,0.0,0.0,0.0,2.0,0.0,0.0,0.0,1.0,2.0,1.0,3.0,3.0,5.0,0.0,0.0,3.0,4.0,0.0,0.0,0.0,1.0,4.0,2.0,1.7967479674796747,1.0,0.0,1.0,0.0,3.0,5.0,2.0,1.0,3.0,3.0,1.0,5.0,4.0,0.0,4.0,0.0,0.0,1.0,5.0,0.0,5.0,0.0,1.0,3.0,1.0,0.0,3.0,5.0,3.0,0.0,5.0,0.0,5.0,4.0,0.0,3.0,2.0,3.0,1.0,0.0,3.0,0.0,2.0,1.0,2.0,5.0,0.0,2.0,5.0,5.0,5.0,0.0,2.0,0.0,4.0,0.0,0.0,1.0,2.0,2.0,0.0,1.0,3.0,1.0,0.0,5.0,1.0,1.0,1.0,3.0,0.0,3.0,1.0,0.0,1.0,1.0,0.0,0.0,2.0,1.0,4.0,2.0,5.0,0.0,1.0,1.0,4.0,2.0,2.0,2.0,2.0,2.0,4.0,1.0,4.0,3.0,5.0,0.0,2.0,0.0,4.0,3.0,0.0,0.0,4.0,0.0,4.0,2.0,0.0,1.0,2.0,5.0,0.0,0.0,0.0,3.0,2.0,0.0,0.0,3.0,1.0,0.0,0.0,0.0,0.0,0.0,1.0,1.0,1.0,2.0,0.0,0.0,3.0,4.0,0.0,1.0,0.0,3.0,0.0,4.0,0.0,0.0,3.0,1.0,2.0,2.0,0.0,1.0,3.0,2.0,2.0,4.0,5.0,1.0,0.0,5.0,1.0,1.0,3.0,3.0,3.0,0.0,2.0,4.0,0.0,0.0,3.0,1.7967479674796747,0.0,1.0,0.0,0.0,0.0,1.0,0.0,0.0,1.0,2.0,2.0,1.0,2.0,3.0,1.0,1.0,1.0,3.0,0.0,1.0,2.0,2.0,3.0,2.0,5.0,2.0,2.0,0.0,5.0,2.0,2.0,1.0,2.0,2.0,2.0,0.0,0.0,3.0,2.0,0.0,1.0,4.0,0.0,3.0,0.0,0.0,3.0,3.0,2.0,2.0,3.0,0.0,5.0,0.0,2.0,4.0,1.0,0.0,1.0,0.0,1.0,3.0,1.0,2.0,1.0,2.0,5.0,0.0,4.0,3.0,1.0,0.0,0.0,0.0,1.0,0.0,2.0,3.0,2.0,3.0,1.0,5.0,1.0,0.0,0.0,0.0,0.0,2.0,4.0,0.0,2.0,0.0,1.0,1.0,2.0,0.0,1.0,0.0,2.0,4.0,0.0,0.0,0.0,4.0,2.0,3.0,5.0,4.0,2.0,3.0,1.0,1.0,0.0,5.0,0.0,0.0,1.0,2.0,4.0,4.0,1.0,0.0,3.0,0.0,4.0,1.0,4.0,0.0,5.0,2.0,3.0,0.0,5.0,1.0,4.0,3.0,3.0,4.0,5.0,1.0,1.0,0.0,2.0,0.0,0.0,1.0,3.0,4.0,3.0,3.0,1.0,4.0,0.0,3.0,1.0,0.0,2.0,2.0,0.0,4.0,2.0,4.0,2.0588235294117645,0.0,4.0,3.0,3.0,2.0,0.0,4.0,3.0,3.0,2.0,0.0,2.0,2.0,0.0,0.0,3.0,2.0,1.0,1.0,3.0,3.0,2.0,0.0,3.0,0.0,2.0,0.0,1.0,4.0,3.0,3.0,0.0,4.0,3.0,2.0,2.0,2.0,0.0,2.0,2.0,1.0,4.0,5.0,2.0,4.0,3.0,4.0,2.0,1.0,2.0,2.0,2.0,1.0,0.0,3.0,2.0,5.0,3.0,0.0,1.0,0.0,0.0,1.0,3.0,4.0,4.0,4.0,3.0,0.0,4.0,4.0,5.0,4.0,0.0,3.0,0.0,3.0,3.0,1.0,0.0,5.0,4.0,1.0,3.0,2.0,4.0,0.0,1.497584541062802,2.0,2.0,4.0,3.0,3.0,5.0,0.0,4.0,0.0,2.0,0.0,5.0,0.0,5.0,0.0,0.0,3.0,2.0,1.0,2.0,4.0,1.0,0.0,1.0,5.0,0.0,1.0,1.0,5.0,0.0,2.0,2.0,1.0,0.0,4.0,2.0,3.0,2.0,4.0,5.0,4.0,0.0,4.0,3.0,5.0,4.0,3.0,1.0,0.0,0.0,1.0,1.0,1.0,4.0,3.0,0.0,0.0,2.0,0.0,4.0,0.0,1.0,0.0,0.0,4.0,0.0,1.0,5.0,2.0,0.0,2.0,2.0,2.0,0.0,1.0,0.0,4.0,4.0,5.0,5.0,4.0,3.0,2.0,2.0,2.0,2.0,1.0,0.0,3.0,4.0,2.0,0.0,1.0,1.0,0.0,0.0,2.0,2.0,2.0,4.0,1.0,0.0,1.0,4.0,4.0,2.0,1.0,2.0,2.0,2.0,1.0,0.0,0.0,4.0,3.0,1.0,1.0,5.0,3.0,3.0,5.0,2.0,1.0,0.0,0.0,4.0,2.0,1.0,4.0,1.0,1.0,4.0,1.0,3.0,2.0,2.0,0.0,5.0,3.0,2.0,4.0,4.0,4.0,2.0,0.0,1.0,2.0,2.0,2.0,2.0,0.0,1.0,1.0,2.0,2.0,5.0,0.0,0.0,1.0,4.0,4.0,0.0,0.0,0.0,1.7967479674796747,2.0,0.0,2.0,4.0,3.0,0.0,4.0,2.0,4.0,0.0,3.0,3.0,0.0,0.0,1.0,0.0,0.0,4.0,2.0,3.0,4.0,3.0,0.0,1.0,2.0,4.0,0.0,0.0,2.0,3.0,0.0,1.0,3.0,3.0,4.0,2.0,1.0,2.0,5.0,3.0,4.0,0.0,0.0,5.0,2.0,0.0,2.0,1.0,0.0,0.0,0.0,1.0,0.0,2.0,0.0,2.0,0.0,0.0,0.0,0.0,2.0,5.0,3.0,1.0,2.0,3.0,3.0,1.0,2.0,0.0,5.0,2.0,4.0,2.0,4.0,0.0,1.0,4.0,2.0,3.0,0.0,4.0,1.0,2.0,1.0,4.0,1.0,3.0,4.0,1.0,0.0,5.0,5.0,4.0,4.0,3.0,4.0,2.0,4.0,1.0,4.0,0.0,4.0,5.0,3.0,2.0,5.0,3.0,3.0,3.0,0.0,4.0,2.0,3.0,3.0,3.0,2.0,0.0,2.0,0.0,2.0,2.0,5.0,1.0,0.0,0.0,2.0,1.0,4.0,4.0,0.0,2.0,1.0,1.0,3.0,4.0,1.0,2.0,5.0,4.0,0.0,2.0,1.0,4.0,3.0,1.0,4.0,4.0,0.0,5.0,1.0,1.497584541062802,2.0,2.0,5.0,4.0,3.0,0.0,3.0,0.0,0.0,0.0,2.0,1.0,3.0,3.0,3.0,4.0,5.0,0.0,3.0,5.0,2.0,2.0,2.0,4.0,5.0,3.0,5.0,4.0,0.0,1.0,2.0,1.0,5.0,2.0,4.0,3.0,3.0],\"x0\":\" \",\"xaxis\":\"x\",\"y0\":\" \",\"yaxis\":\"y\",\"type\":\"box\"}],                        {\"template\":{\"data\":{\"histogram2dcontour\":[{\"type\":\"histogram2dcontour\",\"colorbar\":{\"outlinewidth\":0,\"ticks\":\"\"},\"colorscale\":[[0.0,\"#0d0887\"],[0.1111111111111111,\"#46039f\"],[0.2222222222222222,\"#7201a8\"],[0.3333333333333333,\"#9c179e\"],[0.4444444444444444,\"#bd3786\"],[0.5555555555555556,\"#d8576b\"],[0.6666666666666666,\"#ed7953\"],[0.7777777777777778,\"#fb9f3a\"],[0.8888888888888888,\"#fdca26\"],[1.0,\"#f0f921\"]]}],\"choropleth\":[{\"type\":\"choropleth\",\"colorbar\":{\"outlinewidth\":0,\"ticks\":\"\"}}],\"histogram2d\":[{\"type\":\"histogram2d\",\"colorbar\":{\"outlinewidth\":0,\"ticks\":\"\"},\"colorscale\":[[0.0,\"#0d0887\"],[0.1111111111111111,\"#46039f\"],[0.2222222222222222,\"#7201a8\"],[0.3333333333333333,\"#9c179e\"],[0.4444444444444444,\"#bd3786\"],[0.5555555555555556,\"#d8576b\"],[0.6666666666666666,\"#ed7953\"],[0.7777777777777778,\"#fb9f3a\"],[0.8888888888888888,\"#fdca26\"],[1.0,\"#f0f921\"]]}],\"heatmap\":[{\"type\":\"heatmap\",\"colorbar\":{\"outlinewidth\":0,\"ticks\":\"\"},\"colorscale\":[[0.0,\"#0d0887\"],[0.1111111111111111,\"#46039f\"],[0.2222222222222222,\"#7201a8\"],[0.3333333333333333,\"#9c179e\"],[0.4444444444444444,\"#bd3786\"],[0.5555555555555556,\"#d8576b\"],[0.6666666666666666,\"#ed7953\"],[0.7777777777777778,\"#fb9f3a\"],[0.8888888888888888,\"#fdca26\"],[1.0,\"#f0f921\"]]}],\"heatmapgl\":[{\"type\":\"heatmapgl\",\"colorbar\":{\"outlinewidth\":0,\"ticks\":\"\"},\"colorscale\":[[0.0,\"#0d0887\"],[0.1111111111111111,\"#46039f\"],[0.2222222222222222,\"#7201a8\"],[0.3333333333333333,\"#9c179e\"],[0.4444444444444444,\"#bd3786\"],[0.5555555555555556,\"#d8576b\"],[0.6666666666666666,\"#ed7953\"],[0.7777777777777778,\"#fb9f3a\"],[0.8888888888888888,\"#fdca26\"],[1.0,\"#f0f921\"]]}],\"contourcarpet\":[{\"type\":\"contourcarpet\",\"colorbar\":{\"outlinewidth\":0,\"ticks\":\"\"}}],\"contour\":[{\"type\":\"contour\",\"colorbar\":{\"outlinewidth\":0,\"ticks\":\"\"},\"colorscale\":[[0.0,\"#0d0887\"],[0.1111111111111111,\"#46039f\"],[0.2222222222222222,\"#7201a8\"],[0.3333333333333333,\"#9c179e\"],[0.4444444444444444,\"#bd3786\"],[0.5555555555555556,\"#d8576b\"],[0.6666666666666666,\"#ed7953\"],[0.7777777777777778,\"#fb9f3a\"],[0.8888888888888888,\"#fdca26\"],[1.0,\"#f0f921\"]]}],\"surface\":[{\"type\":\"surface\",\"colorbar\":{\"outlinewidth\":0,\"ticks\":\"\"},\"colorscale\":[[0.0,\"#0d0887\"],[0.1111111111111111,\"#46039f\"],[0.2222222222222222,\"#7201a8\"],[0.3333333333333333,\"#9c179e\"],[0.4444444444444444,\"#bd3786\"],[0.5555555555555556,\"#d8576b\"],[0.6666666666666666,\"#ed7953\"],[0.7777777777777778,\"#fb9f3a\"],[0.8888888888888888,\"#fdca26\"],[1.0,\"#f0f921\"]]}],\"mesh3d\":[{\"type\":\"mesh3d\",\"colorbar\":{\"outlinewidth\":0,\"ticks\":\"\"}}],\"scatter\":[{\"fillpattern\":{\"fillmode\":\"overlay\",\"size\":10,\"solidity\":0.2},\"type\":\"scatter\"}],\"parcoords\":[{\"type\":\"parcoords\",\"line\":{\"colorbar\":{\"outlinewidth\":0,\"ticks\":\"\"}}}],\"scatterpolargl\":[{\"type\":\"scatterpolargl\",\"marker\":{\"colorbar\":{\"outlinewidth\":0,\"ticks\":\"\"}}}],\"bar\":[{\"error_x\":{\"color\":\"#2a3f5f\"},\"error_y\":{\"color\":\"#2a3f5f\"},\"marker\":{\"line\":{\"color\":\"#E5ECF6\",\"width\":0.5},\"pattern\":{\"fillmode\":\"overlay\",\"size\":10,\"solidity\":0.2}},\"type\":\"bar\"}],\"scattergeo\":[{\"type\":\"scattergeo\",\"marker\":{\"colorbar\":{\"outlinewidth\":0,\"ticks\":\"\"}}}],\"scatterpolar\":[{\"type\":\"scatterpolar\",\"marker\":{\"colorbar\":{\"outlinewidth\":0,\"ticks\":\"\"}}}],\"histogram\":[{\"marker\":{\"pattern\":{\"fillmode\":\"overlay\",\"size\":10,\"solidity\":0.2}},\"type\":\"histogram\"}],\"scattergl\":[{\"type\":\"scattergl\",\"marker\":{\"colorbar\":{\"outlinewidth\":0,\"ticks\":\"\"}}}],\"scatter3d\":[{\"type\":\"scatter3d\",\"line\":{\"colorbar\":{\"outlinewidth\":0,\"ticks\":\"\"}},\"marker\":{\"colorbar\":{\"outlinewidth\":0,\"ticks\":\"\"}}}],\"scattermapbox\":[{\"type\":\"scattermapbox\",\"marker\":{\"colorbar\":{\"outlinewidth\":0,\"ticks\":\"\"}}}],\"scatterternary\":[{\"type\":\"scatterternary\",\"marker\":{\"colorbar\":{\"outlinewidth\":0,\"ticks\":\"\"}}}],\"scattercarpet\":[{\"type\":\"scattercarpet\",\"marker\":{\"colorbar\":{\"outlinewidth\":0,\"ticks\":\"\"}}}],\"carpet\":[{\"aaxis\":{\"endlinecolor\":\"#2a3f5f\",\"gridcolor\":\"white\",\"linecolor\":\"white\",\"minorgridcolor\":\"white\",\"startlinecolor\":\"#2a3f5f\"},\"baxis\":{\"endlinecolor\":\"#2a3f5f\",\"gridcolor\":\"white\",\"linecolor\":\"white\",\"minorgridcolor\":\"white\",\"startlinecolor\":\"#2a3f5f\"},\"type\":\"carpet\"}],\"table\":[{\"cells\":{\"fill\":{\"color\":\"#EBF0F8\"},\"line\":{\"color\":\"white\"}},\"header\":{\"fill\":{\"color\":\"#C8D4E3\"},\"line\":{\"color\":\"white\"}},\"type\":\"table\"}],\"barpolar\":[{\"marker\":{\"line\":{\"color\":\"#E5ECF6\",\"width\":0.5},\"pattern\":{\"fillmode\":\"overlay\",\"size\":10,\"solidity\":0.2}},\"type\":\"barpolar\"}],\"pie\":[{\"automargin\":true,\"type\":\"pie\"}]},\"layout\":{\"autotypenumbers\":\"strict\",\"colorway\":[\"#636efa\",\"#EF553B\",\"#00cc96\",\"#ab63fa\",\"#FFA15A\",\"#19d3f3\",\"#FF6692\",\"#B6E880\",\"#FF97FF\",\"#FECB52\"],\"font\":{\"color\":\"#2a3f5f\"},\"hovermode\":\"closest\",\"hoverlabel\":{\"align\":\"left\"},\"paper_bgcolor\":\"white\",\"plot_bgcolor\":\"#E5ECF6\",\"polar\":{\"bgcolor\":\"#E5ECF6\",\"angularaxis\":{\"gridcolor\":\"white\",\"linecolor\":\"white\",\"ticks\":\"\"},\"radialaxis\":{\"gridcolor\":\"white\",\"linecolor\":\"white\",\"ticks\":\"\"}},\"ternary\":{\"bgcolor\":\"#E5ECF6\",\"aaxis\":{\"gridcolor\":\"white\",\"linecolor\":\"white\",\"ticks\":\"\"},\"baxis\":{\"gridcolor\":\"white\",\"linecolor\":\"white\",\"ticks\":\"\"},\"caxis\":{\"gridcolor\":\"white\",\"linecolor\":\"white\",\"ticks\":\"\"}},\"coloraxis\":{\"colorbar\":{\"outlinewidth\":0,\"ticks\":\"\"}},\"colorscale\":{\"sequential\":[[0.0,\"#0d0887\"],[0.1111111111111111,\"#46039f\"],[0.2222222222222222,\"#7201a8\"],[0.3333333333333333,\"#9c179e\"],[0.4444444444444444,\"#bd3786\"],[0.5555555555555556,\"#d8576b\"],[0.6666666666666666,\"#ed7953\"],[0.7777777777777778,\"#fb9f3a\"],[0.8888888888888888,\"#fdca26\"],[1.0,\"#f0f921\"]],\"sequentialminus\":[[0.0,\"#0d0887\"],[0.1111111111111111,\"#46039f\"],[0.2222222222222222,\"#7201a8\"],[0.3333333333333333,\"#9c179e\"],[0.4444444444444444,\"#bd3786\"],[0.5555555555555556,\"#d8576b\"],[0.6666666666666666,\"#ed7953\"],[0.7777777777777778,\"#fb9f3a\"],[0.8888888888888888,\"#fdca26\"],[1.0,\"#f0f921\"]],\"diverging\":[[0,\"#8e0152\"],[0.1,\"#c51b7d\"],[0.2,\"#de77ae\"],[0.3,\"#f1b6da\"],[0.4,\"#fde0ef\"],[0.5,\"#f7f7f7\"],[0.6,\"#e6f5d0\"],[0.7,\"#b8e186\"],[0.8,\"#7fbc41\"],[0.9,\"#4d9221\"],[1,\"#276419\"]]},\"xaxis\":{\"gridcolor\":\"white\",\"linecolor\":\"white\",\"ticks\":\"\",\"title\":{\"standoff\":15},\"zerolinecolor\":\"white\",\"automargin\":true,\"zerolinewidth\":2},\"yaxis\":{\"gridcolor\":\"white\",\"linecolor\":\"white\",\"ticks\":\"\",\"title\":{\"standoff\":15},\"zerolinecolor\":\"white\",\"automargin\":true,\"zerolinewidth\":2},\"scene\":{\"xaxis\":{\"backgroundcolor\":\"#E5ECF6\",\"gridcolor\":\"white\",\"linecolor\":\"white\",\"showbackground\":true,\"ticks\":\"\",\"zerolinecolor\":\"white\",\"gridwidth\":2},\"yaxis\":{\"backgroundcolor\":\"#E5ECF6\",\"gridcolor\":\"white\",\"linecolor\":\"white\",\"showbackground\":true,\"ticks\":\"\",\"zerolinecolor\":\"white\",\"gridwidth\":2},\"zaxis\":{\"backgroundcolor\":\"#E5ECF6\",\"gridcolor\":\"white\",\"linecolor\":\"white\",\"showbackground\":true,\"ticks\":\"\",\"zerolinecolor\":\"white\",\"gridwidth\":2}},\"shapedefaults\":{\"line\":{\"color\":\"#2a3f5f\"}},\"annotationdefaults\":{\"arrowcolor\":\"#2a3f5f\",\"arrowhead\":0,\"arrowwidth\":1},\"geo\":{\"bgcolor\":\"white\",\"landcolor\":\"#E5ECF6\",\"subunitcolor\":\"white\",\"showland\":true,\"showlakes\":true,\"lakecolor\":\"white\"},\"title\":{\"x\":0.05},\"mapbox\":{\"style\":\"light\"}}},\"xaxis\":{\"anchor\":\"y\",\"domain\":[0.0,1.0],\"title\":{\"text\":\"Children\"}},\"yaxis\":{\"anchor\":\"x\",\"domain\":[0.0,1.0]},\"legend\":{\"tracegroupgap\":0},\"margin\":{\"t\":60},\"boxmode\":\"group\"},                        {\"responsive\": true}                    ).then(function(){\n",
       "                            \n",
       "var gd = document.getElementById('23a58f81-9758-4543-b452-2f8397c6de21');\n",
       "var x = new MutationObserver(function (mutations, observer) {{\n",
       "        var display = window.getComputedStyle(gd).display;\n",
       "        if (!display || display === 'none') {{\n",
       "            console.log([gd, 'removed!']);\n",
       "            Plotly.purge(gd);\n",
       "            observer.disconnect();\n",
       "        }}\n",
       "}});\n",
       "\n",
       "// Listen for the removal of the full notebook cells\n",
       "var notebookContainer = gd.closest('#notebook-container');\n",
       "if (notebookContainer) {{\n",
       "    x.observe(notebookContainer, {childList: true});\n",
       "}}\n",
       "\n",
       "// Listen for the clearing of the current output cell\n",
       "var outputEl = gd.closest('.output');\n",
       "if (outputEl) {{\n",
       "    x.observe(outputEl, {childList: true});\n",
       "}}\n",
       "\n",
       "                        })                };                });            </script>        </div>"
      ]
     },
     "metadata": {},
     "output_type": "display_data"
    }
   ],
   "source": [
    "#Variable children\n",
    "fig = px.box(df, x = \"Children\")\n",
    "fig.show()"
   ]
  },
  {
   "cell_type": "code",
   "execution_count": 977,
   "id": "faf4b300",
   "metadata": {},
   "outputs": [
    {
     "data": {
      "application/vnd.plotly.v1+json": {
       "config": {
        "plotlyServerURL": "https://plot.ly"
       },
       "data": [
        {
         "alignmentgroup": "True",
         "hovertemplate": "Cars=%{x}<extra></extra>",
         "legendgroup": "",
         "marker": {
          "color": "#636efa"
         },
         "name": "",
         "notched": false,
         "offsetgroup": "",
         "orientation": "h",
         "showlegend": false,
         "type": "box",
         "x": [
          0,
          1,
          2,
          0,
          0,
          4,
          0,
          2,
          1,
          2,
          4,
          4,
          1,
          1,
          1,
          2,
          0,
          1,
          2,
          0,
          4,
          0,
          3,
          1,
          0,
          1,
          1,
          2,
          2,
          0,
          1,
          1,
          2,
          2,
          2,
          1,
          1,
          1,
          2,
          0,
          2,
          0,
          3,
          0,
          0,
          1,
          2,
          2,
          0,
          1,
          4,
          0,
          3,
          1,
          2,
          0,
          4,
          0,
          1,
          1,
          0,
          1,
          3,
          0,
          2,
          0,
          1,
          1,
          2,
          4,
          2,
          4,
          1,
          2,
          4,
          2,
          2,
          2,
          2,
          0,
          2,
          0,
          1,
          1,
          1,
          3,
          4,
          1,
          1,
          1,
          1,
          1,
          1,
          2,
          2,
          1,
          1,
          0,
          2,
          0,
          2,
          0,
          1,
          2,
          1,
          2,
          2,
          0,
          0,
          0,
          1,
          2,
          1,
          0,
          0,
          2,
          0,
          2,
          1,
          2,
          4,
          3,
          4,
          0,
          4,
          1,
          1,
          1,
          1,
          1,
          3,
          0,
          2,
          2,
          1,
          1,
          2,
          2,
          2,
          0,
          1,
          0,
          3,
          0,
          1,
          0,
          0,
          2,
          1,
          1,
          3,
          2,
          3,
          2,
          4,
          0,
          1,
          0,
          1,
          0,
          1,
          2,
          1,
          1,
          1,
          3,
          1,
          0,
          4,
          2,
          2,
          1,
          0,
          2,
          0,
          3,
          2,
          0,
          0,
          2,
          1,
          2,
          4,
          1,
          2,
          2,
          4,
          1,
          2,
          0,
          2,
          4,
          2,
          0,
          0.8787878787878788,
          1,
          1,
          3,
          3,
          0,
          1.0925925925925926,
          1,
          1,
          0,
          2,
          2,
          0,
          0,
          1,
          0,
          1,
          4,
          0,
          2,
          3,
          2,
          0,
          1,
          1,
          2,
          0,
          4,
          2,
          0,
          1,
          2,
          0,
          3,
          3,
          0,
          0,
          0,
          4,
          0,
          0,
          1,
          3,
          1,
          0,
          2,
          1,
          1,
          2,
          4,
          3,
          4,
          3,
          1,
          1,
          3,
          4,
          0,
          2,
          0,
          0,
          0,
          4,
          4,
          0,
          1,
          0,
          3,
          0,
          2,
          2,
          1,
          3,
          0,
          0,
          1,
          1,
          1,
          0,
          0,
          0,
          0,
          3,
          0,
          2,
          0,
          2,
          3,
          0,
          1,
          4,
          0,
          0,
          2,
          1,
          0,
          0,
          1,
          1,
          3,
          1,
          0,
          2,
          2,
          2,
          0,
          0,
          2,
          1,
          2,
          0,
          1,
          1,
          1,
          1,
          1,
          2,
          2,
          1,
          1,
          1,
          0,
          3,
          0,
          0,
          3,
          2,
          0,
          0,
          2,
          0,
          2,
          2,
          2,
          3,
          2,
          2,
          4,
          1,
          2,
          2,
          4,
          0,
          1,
          1,
          2,
          1,
          1,
          0,
          0,
          1,
          2,
          1,
          0,
          0.9,
          2,
          0,
          1,
          3,
          3,
          2,
          3,
          3,
          0,
          2,
          1,
          2,
          1,
          0,
          1,
          3,
          2,
          1,
          1,
          3,
          1,
          1,
          4,
          1,
          0,
          3,
          2,
          2,
          3,
          2,
          2,
          0,
          1,
          0,
          4,
          2,
          0,
          1,
          1,
          1,
          0,
          2,
          0,
          0,
          1,
          2,
          1,
          1,
          4,
          0,
          0,
          0,
          2,
          0,
          0,
          0,
          0,
          4,
          1,
          2,
          0,
          2,
          0,
          3,
          1,
          2,
          2,
          1,
          4,
          0,
          3,
          1,
          2,
          2,
          1,
          0,
          3,
          1,
          2,
          0,
          3,
          1,
          2,
          1,
          2,
          2,
          0,
          2,
          3,
          2,
          0,
          1,
          1,
          1,
          1,
          0,
          1.0897435897435896,
          0,
          0,
          0,
          2,
          2,
          1,
          1,
          4,
          0,
          4,
          3,
          2,
          2,
          0,
          1,
          0,
          2,
          0,
          3,
          3,
          0,
          1,
          2,
          0,
          0,
          0,
          2,
          1,
          2,
          0,
          1,
          1,
          0,
          0,
          0,
          1,
          2,
          4,
          0,
          2,
          2,
          0,
          2,
          1,
          3,
          0,
          2,
          1,
          0,
          1,
          2,
          1,
          0,
          1,
          4,
          1,
          4,
          2,
          1,
          2,
          1,
          1,
          1.75,
          1,
          2,
          1,
          2,
          2,
          0,
          1,
          2,
          3,
          2,
          1,
          2,
          2,
          3,
          2,
          0,
          1,
          1,
          1,
          2,
          1,
          2,
          2,
          3,
          1,
          1,
          0,
          1,
          2,
          0,
          2,
          2,
          4,
          2,
          2,
          2,
          0,
          3,
          1,
          2,
          2,
          2,
          0,
          1,
          0,
          0,
          2,
          0,
          0,
          1.3333333333333333,
          0,
          1,
          1,
          2,
          2,
          1,
          1,
          2,
          2,
          2,
          2,
          2,
          1,
          1,
          1,
          4,
          2,
          2,
          2,
          1,
          0,
          2,
          1,
          3,
          2,
          3,
          1,
          0,
          0,
          2,
          2,
          0,
          2,
          2,
          1,
          1,
          4,
          1,
          2,
          2,
          0,
          2,
          0,
          0,
          3,
          2,
          1,
          1,
          1,
          2,
          4,
          4,
          1.475,
          0,
          2,
          2,
          1,
          4,
          1,
          1,
          1,
          2,
          2,
          2,
          2,
          1,
          0,
          2,
          3,
          0,
          2,
          2,
          2,
          3,
          2,
          2,
          3,
          2,
          2,
          2,
          0,
          3,
          0,
          0,
          2,
          1,
          1,
          2,
          2,
          3,
          2,
          2,
          1,
          2,
          1,
          1,
          2,
          0,
          2,
          3,
          1,
          0,
          4,
          1,
          2,
          0,
          2,
          1,
          0,
          2,
          0,
          2,
          4,
          1,
          0,
          2,
          2,
          1,
          0,
          2,
          3,
          2,
          2,
          1,
          2,
          2,
          1,
          0,
          1,
          2,
          0,
          2,
          2,
          2,
          2,
          1,
          2,
          4,
          0,
          1,
          1,
          1,
          1,
          4,
          1,
          2,
          1,
          2,
          1,
          2,
          0,
          0,
          1,
          0,
          2,
          3,
          4,
          2,
          2,
          2,
          3,
          2,
          1,
          2,
          1,
          2,
          2,
          1,
          4,
          3,
          1,
          1,
          2,
          1,
          1,
          0,
          1,
          2,
          3,
          1,
          0,
          0,
          1,
          3,
          1,
          2,
          0,
          2,
          1,
          2,
          2,
          1,
          2,
          0,
          0,
          2,
          3,
          0,
          0,
          1,
          2,
          3,
          2,
          4,
          4,
          0,
          1,
          0,
          0,
          0,
          2,
          1,
          2,
          3,
          2,
          1,
          0,
          2,
          3,
          2,
          2,
          1,
          1,
          2,
          2,
          2,
          2,
          1,
          1,
          2,
          2,
          2,
          1,
          2,
          0,
          2,
          2,
          1,
          2,
          2,
          2,
          2,
          2,
          2,
          2,
          2,
          2,
          2,
          2,
          2,
          2,
          0,
          0,
          1,
          2,
          1,
          2,
          2,
          0,
          3,
          1,
          0,
          2,
          2,
          4,
          2,
          2,
          0,
          1,
          2,
          0,
          2,
          0,
          2,
          0,
          2,
          3,
          1,
          2,
          2,
          2,
          1,
          2,
          2,
          2,
          4,
          1,
          1,
          0,
          2,
          1,
          1,
          1,
          1,
          2,
          1,
          2,
          0,
          1,
          2,
          1,
          2,
          3,
          4,
          1,
          2,
          2,
          2,
          1,
          0,
          2,
          2,
          2,
          2,
          0,
          2,
          0,
          1,
          2,
          2,
          0,
          0,
          2,
          0,
          1,
          3,
          2,
          0,
          0,
          2,
          0,
          2,
          3,
          3,
          2,
          2,
          0,
          1,
          0,
          1,
          0,
          2,
          0,
          2,
          2,
          1,
          0,
          0,
          2,
          0,
          4,
          2,
          2,
          2,
          1,
          2,
          2,
          1,
          0,
          2,
          0,
          2,
          2,
          3,
          1,
          2,
          1.2,
          0,
          1,
          2,
          0,
          2,
          2,
          0,
          0,
          2,
          2,
          0,
          1,
          2,
          3,
          0,
          2,
          0,
          1,
          1,
          1,
          2,
          0,
          2,
          0,
          1,
          4,
          3,
          2,
          2,
          1,
          1,
          0,
          1,
          2,
          0,
          2,
          2,
          1,
          2,
          0,
          2,
          2,
          3,
          1,
          3,
          4,
          1,
          2,
          2,
          2,
          4,
          2,
          2,
          3,
          2,
          0,
          0,
          3,
          3,
          2,
          0,
          3,
          2
         ],
         "x0": " ",
         "xaxis": "x",
         "y0": " ",
         "yaxis": "y"
        }
       ],
       "layout": {
        "boxmode": "group",
        "legend": {
         "tracegroupgap": 0
        },
        "margin": {
         "t": 60
        },
        "template": {
         "data": {
          "bar": [
           {
            "error_x": {
             "color": "#2a3f5f"
            },
            "error_y": {
             "color": "#2a3f5f"
            },
            "marker": {
             "line": {
              "color": "#E5ECF6",
              "width": 0.5
             },
             "pattern": {
              "fillmode": "overlay",
              "size": 10,
              "solidity": 0.2
             }
            },
            "type": "bar"
           }
          ],
          "barpolar": [
           {
            "marker": {
             "line": {
              "color": "#E5ECF6",
              "width": 0.5
             },
             "pattern": {
              "fillmode": "overlay",
              "size": 10,
              "solidity": 0.2
             }
            },
            "type": "barpolar"
           }
          ],
          "carpet": [
           {
            "aaxis": {
             "endlinecolor": "#2a3f5f",
             "gridcolor": "white",
             "linecolor": "white",
             "minorgridcolor": "white",
             "startlinecolor": "#2a3f5f"
            },
            "baxis": {
             "endlinecolor": "#2a3f5f",
             "gridcolor": "white",
             "linecolor": "white",
             "minorgridcolor": "white",
             "startlinecolor": "#2a3f5f"
            },
            "type": "carpet"
           }
          ],
          "choropleth": [
           {
            "colorbar": {
             "outlinewidth": 0,
             "ticks": ""
            },
            "type": "choropleth"
           }
          ],
          "contour": [
           {
            "colorbar": {
             "outlinewidth": 0,
             "ticks": ""
            },
            "colorscale": [
             [
              0,
              "#0d0887"
             ],
             [
              0.1111111111111111,
              "#46039f"
             ],
             [
              0.2222222222222222,
              "#7201a8"
             ],
             [
              0.3333333333333333,
              "#9c179e"
             ],
             [
              0.4444444444444444,
              "#bd3786"
             ],
             [
              0.5555555555555556,
              "#d8576b"
             ],
             [
              0.6666666666666666,
              "#ed7953"
             ],
             [
              0.7777777777777778,
              "#fb9f3a"
             ],
             [
              0.8888888888888888,
              "#fdca26"
             ],
             [
              1,
              "#f0f921"
             ]
            ],
            "type": "contour"
           }
          ],
          "contourcarpet": [
           {
            "colorbar": {
             "outlinewidth": 0,
             "ticks": ""
            },
            "type": "contourcarpet"
           }
          ],
          "heatmap": [
           {
            "colorbar": {
             "outlinewidth": 0,
             "ticks": ""
            },
            "colorscale": [
             [
              0,
              "#0d0887"
             ],
             [
              0.1111111111111111,
              "#46039f"
             ],
             [
              0.2222222222222222,
              "#7201a8"
             ],
             [
              0.3333333333333333,
              "#9c179e"
             ],
             [
              0.4444444444444444,
              "#bd3786"
             ],
             [
              0.5555555555555556,
              "#d8576b"
             ],
             [
              0.6666666666666666,
              "#ed7953"
             ],
             [
              0.7777777777777778,
              "#fb9f3a"
             ],
             [
              0.8888888888888888,
              "#fdca26"
             ],
             [
              1,
              "#f0f921"
             ]
            ],
            "type": "heatmap"
           }
          ],
          "heatmapgl": [
           {
            "colorbar": {
             "outlinewidth": 0,
             "ticks": ""
            },
            "colorscale": [
             [
              0,
              "#0d0887"
             ],
             [
              0.1111111111111111,
              "#46039f"
             ],
             [
              0.2222222222222222,
              "#7201a8"
             ],
             [
              0.3333333333333333,
              "#9c179e"
             ],
             [
              0.4444444444444444,
              "#bd3786"
             ],
             [
              0.5555555555555556,
              "#d8576b"
             ],
             [
              0.6666666666666666,
              "#ed7953"
             ],
             [
              0.7777777777777778,
              "#fb9f3a"
             ],
             [
              0.8888888888888888,
              "#fdca26"
             ],
             [
              1,
              "#f0f921"
             ]
            ],
            "type": "heatmapgl"
           }
          ],
          "histogram": [
           {
            "marker": {
             "pattern": {
              "fillmode": "overlay",
              "size": 10,
              "solidity": 0.2
             }
            },
            "type": "histogram"
           }
          ],
          "histogram2d": [
           {
            "colorbar": {
             "outlinewidth": 0,
             "ticks": ""
            },
            "colorscale": [
             [
              0,
              "#0d0887"
             ],
             [
              0.1111111111111111,
              "#46039f"
             ],
             [
              0.2222222222222222,
              "#7201a8"
             ],
             [
              0.3333333333333333,
              "#9c179e"
             ],
             [
              0.4444444444444444,
              "#bd3786"
             ],
             [
              0.5555555555555556,
              "#d8576b"
             ],
             [
              0.6666666666666666,
              "#ed7953"
             ],
             [
              0.7777777777777778,
              "#fb9f3a"
             ],
             [
              0.8888888888888888,
              "#fdca26"
             ],
             [
              1,
              "#f0f921"
             ]
            ],
            "type": "histogram2d"
           }
          ],
          "histogram2dcontour": [
           {
            "colorbar": {
             "outlinewidth": 0,
             "ticks": ""
            },
            "colorscale": [
             [
              0,
              "#0d0887"
             ],
             [
              0.1111111111111111,
              "#46039f"
             ],
             [
              0.2222222222222222,
              "#7201a8"
             ],
             [
              0.3333333333333333,
              "#9c179e"
             ],
             [
              0.4444444444444444,
              "#bd3786"
             ],
             [
              0.5555555555555556,
              "#d8576b"
             ],
             [
              0.6666666666666666,
              "#ed7953"
             ],
             [
              0.7777777777777778,
              "#fb9f3a"
             ],
             [
              0.8888888888888888,
              "#fdca26"
             ],
             [
              1,
              "#f0f921"
             ]
            ],
            "type": "histogram2dcontour"
           }
          ],
          "mesh3d": [
           {
            "colorbar": {
             "outlinewidth": 0,
             "ticks": ""
            },
            "type": "mesh3d"
           }
          ],
          "parcoords": [
           {
            "line": {
             "colorbar": {
              "outlinewidth": 0,
              "ticks": ""
             }
            },
            "type": "parcoords"
           }
          ],
          "pie": [
           {
            "automargin": true,
            "type": "pie"
           }
          ],
          "scatter": [
           {
            "fillpattern": {
             "fillmode": "overlay",
             "size": 10,
             "solidity": 0.2
            },
            "type": "scatter"
           }
          ],
          "scatter3d": [
           {
            "line": {
             "colorbar": {
              "outlinewidth": 0,
              "ticks": ""
             }
            },
            "marker": {
             "colorbar": {
              "outlinewidth": 0,
              "ticks": ""
             }
            },
            "type": "scatter3d"
           }
          ],
          "scattercarpet": [
           {
            "marker": {
             "colorbar": {
              "outlinewidth": 0,
              "ticks": ""
             }
            },
            "type": "scattercarpet"
           }
          ],
          "scattergeo": [
           {
            "marker": {
             "colorbar": {
              "outlinewidth": 0,
              "ticks": ""
             }
            },
            "type": "scattergeo"
           }
          ],
          "scattergl": [
           {
            "marker": {
             "colorbar": {
              "outlinewidth": 0,
              "ticks": ""
             }
            },
            "type": "scattergl"
           }
          ],
          "scattermapbox": [
           {
            "marker": {
             "colorbar": {
              "outlinewidth": 0,
              "ticks": ""
             }
            },
            "type": "scattermapbox"
           }
          ],
          "scatterpolar": [
           {
            "marker": {
             "colorbar": {
              "outlinewidth": 0,
              "ticks": ""
             }
            },
            "type": "scatterpolar"
           }
          ],
          "scatterpolargl": [
           {
            "marker": {
             "colorbar": {
              "outlinewidth": 0,
              "ticks": ""
             }
            },
            "type": "scatterpolargl"
           }
          ],
          "scatterternary": [
           {
            "marker": {
             "colorbar": {
              "outlinewidth": 0,
              "ticks": ""
             }
            },
            "type": "scatterternary"
           }
          ],
          "surface": [
           {
            "colorbar": {
             "outlinewidth": 0,
             "ticks": ""
            },
            "colorscale": [
             [
              0,
              "#0d0887"
             ],
             [
              0.1111111111111111,
              "#46039f"
             ],
             [
              0.2222222222222222,
              "#7201a8"
             ],
             [
              0.3333333333333333,
              "#9c179e"
             ],
             [
              0.4444444444444444,
              "#bd3786"
             ],
             [
              0.5555555555555556,
              "#d8576b"
             ],
             [
              0.6666666666666666,
              "#ed7953"
             ],
             [
              0.7777777777777778,
              "#fb9f3a"
             ],
             [
              0.8888888888888888,
              "#fdca26"
             ],
             [
              1,
              "#f0f921"
             ]
            ],
            "type": "surface"
           }
          ],
          "table": [
           {
            "cells": {
             "fill": {
              "color": "#EBF0F8"
             },
             "line": {
              "color": "white"
             }
            },
            "header": {
             "fill": {
              "color": "#C8D4E3"
             },
             "line": {
              "color": "white"
             }
            },
            "type": "table"
           }
          ]
         },
         "layout": {
          "annotationdefaults": {
           "arrowcolor": "#2a3f5f",
           "arrowhead": 0,
           "arrowwidth": 1
          },
          "autotypenumbers": "strict",
          "coloraxis": {
           "colorbar": {
            "outlinewidth": 0,
            "ticks": ""
           }
          },
          "colorscale": {
           "diverging": [
            [
             0,
             "#8e0152"
            ],
            [
             0.1,
             "#c51b7d"
            ],
            [
             0.2,
             "#de77ae"
            ],
            [
             0.3,
             "#f1b6da"
            ],
            [
             0.4,
             "#fde0ef"
            ],
            [
             0.5,
             "#f7f7f7"
            ],
            [
             0.6,
             "#e6f5d0"
            ],
            [
             0.7,
             "#b8e186"
            ],
            [
             0.8,
             "#7fbc41"
            ],
            [
             0.9,
             "#4d9221"
            ],
            [
             1,
             "#276419"
            ]
           ],
           "sequential": [
            [
             0,
             "#0d0887"
            ],
            [
             0.1111111111111111,
             "#46039f"
            ],
            [
             0.2222222222222222,
             "#7201a8"
            ],
            [
             0.3333333333333333,
             "#9c179e"
            ],
            [
             0.4444444444444444,
             "#bd3786"
            ],
            [
             0.5555555555555556,
             "#d8576b"
            ],
            [
             0.6666666666666666,
             "#ed7953"
            ],
            [
             0.7777777777777778,
             "#fb9f3a"
            ],
            [
             0.8888888888888888,
             "#fdca26"
            ],
            [
             1,
             "#f0f921"
            ]
           ],
           "sequentialminus": [
            [
             0,
             "#0d0887"
            ],
            [
             0.1111111111111111,
             "#46039f"
            ],
            [
             0.2222222222222222,
             "#7201a8"
            ],
            [
             0.3333333333333333,
             "#9c179e"
            ],
            [
             0.4444444444444444,
             "#bd3786"
            ],
            [
             0.5555555555555556,
             "#d8576b"
            ],
            [
             0.6666666666666666,
             "#ed7953"
            ],
            [
             0.7777777777777778,
             "#fb9f3a"
            ],
            [
             0.8888888888888888,
             "#fdca26"
            ],
            [
             1,
             "#f0f921"
            ]
           ]
          },
          "colorway": [
           "#636efa",
           "#EF553B",
           "#00cc96",
           "#ab63fa",
           "#FFA15A",
           "#19d3f3",
           "#FF6692",
           "#B6E880",
           "#FF97FF",
           "#FECB52"
          ],
          "font": {
           "color": "#2a3f5f"
          },
          "geo": {
           "bgcolor": "white",
           "lakecolor": "white",
           "landcolor": "#E5ECF6",
           "showlakes": true,
           "showland": true,
           "subunitcolor": "white"
          },
          "hoverlabel": {
           "align": "left"
          },
          "hovermode": "closest",
          "mapbox": {
           "style": "light"
          },
          "paper_bgcolor": "white",
          "plot_bgcolor": "#E5ECF6",
          "polar": {
           "angularaxis": {
            "gridcolor": "white",
            "linecolor": "white",
            "ticks": ""
           },
           "bgcolor": "#E5ECF6",
           "radialaxis": {
            "gridcolor": "white",
            "linecolor": "white",
            "ticks": ""
           }
          },
          "scene": {
           "xaxis": {
            "backgroundcolor": "#E5ECF6",
            "gridcolor": "white",
            "gridwidth": 2,
            "linecolor": "white",
            "showbackground": true,
            "ticks": "",
            "zerolinecolor": "white"
           },
           "yaxis": {
            "backgroundcolor": "#E5ECF6",
            "gridcolor": "white",
            "gridwidth": 2,
            "linecolor": "white",
            "showbackground": true,
            "ticks": "",
            "zerolinecolor": "white"
           },
           "zaxis": {
            "backgroundcolor": "#E5ECF6",
            "gridcolor": "white",
            "gridwidth": 2,
            "linecolor": "white",
            "showbackground": true,
            "ticks": "",
            "zerolinecolor": "white"
           }
          },
          "shapedefaults": {
           "line": {
            "color": "#2a3f5f"
           }
          },
          "ternary": {
           "aaxis": {
            "gridcolor": "white",
            "linecolor": "white",
            "ticks": ""
           },
           "baxis": {
            "gridcolor": "white",
            "linecolor": "white",
            "ticks": ""
           },
           "bgcolor": "#E5ECF6",
           "caxis": {
            "gridcolor": "white",
            "linecolor": "white",
            "ticks": ""
           }
          },
          "title": {
           "x": 0.05
          },
          "xaxis": {
           "automargin": true,
           "gridcolor": "white",
           "linecolor": "white",
           "ticks": "",
           "title": {
            "standoff": 15
           },
           "zerolinecolor": "white",
           "zerolinewidth": 2
          },
          "yaxis": {
           "automargin": true,
           "gridcolor": "white",
           "linecolor": "white",
           "ticks": "",
           "title": {
            "standoff": 15
           },
           "zerolinecolor": "white",
           "zerolinewidth": 2
          }
         }
        },
        "xaxis": {
         "anchor": "y",
         "domain": [
          0,
          1
         ],
         "title": {
          "text": "Cars"
         }
        },
        "yaxis": {
         "anchor": "x",
         "domain": [
          0,
          1
         ]
        }
       }
      },
      "text/html": [
       "<div>                            <div id=\"cf384012-5cdd-478b-a16e-50c0e0e71f6e\" class=\"plotly-graph-div\" style=\"height:525px; width:100%;\"></div>            <script type=\"text/javascript\">                require([\"plotly\"], function(Plotly) {                    window.PLOTLYENV=window.PLOTLYENV || {};                                    if (document.getElementById(\"cf384012-5cdd-478b-a16e-50c0e0e71f6e\")) {                    Plotly.newPlot(                        \"cf384012-5cdd-478b-a16e-50c0e0e71f6e\",                        [{\"alignmentgroup\":\"True\",\"hovertemplate\":\"Cars=%{x}\\u003cextra\\u003e\\u003c\\u002fextra\\u003e\",\"legendgroup\":\"\",\"marker\":{\"color\":\"#636efa\"},\"name\":\"\",\"notched\":false,\"offsetgroup\":\"\",\"orientation\":\"h\",\"showlegend\":false,\"x\":[0.0,1.0,2.0,0.0,0.0,4.0,0.0,2.0,1.0,2.0,4.0,4.0,1.0,1.0,1.0,2.0,0.0,1.0,2.0,0.0,4.0,0.0,3.0,1.0,0.0,1.0,1.0,2.0,2.0,0.0,1.0,1.0,2.0,2.0,2.0,1.0,1.0,1.0,2.0,0.0,2.0,0.0,3.0,0.0,0.0,1.0,2.0,2.0,0.0,1.0,4.0,0.0,3.0,1.0,2.0,0.0,4.0,0.0,1.0,1.0,0.0,1.0,3.0,0.0,2.0,0.0,1.0,1.0,2.0,4.0,2.0,4.0,1.0,2.0,4.0,2.0,2.0,2.0,2.0,0.0,2.0,0.0,1.0,1.0,1.0,3.0,4.0,1.0,1.0,1.0,1.0,1.0,1.0,2.0,2.0,1.0,1.0,0.0,2.0,0.0,2.0,0.0,1.0,2.0,1.0,2.0,2.0,0.0,0.0,0.0,1.0,2.0,1.0,0.0,0.0,2.0,0.0,2.0,1.0,2.0,4.0,3.0,4.0,0.0,4.0,1.0,1.0,1.0,1.0,1.0,3.0,0.0,2.0,2.0,1.0,1.0,2.0,2.0,2.0,0.0,1.0,0.0,3.0,0.0,1.0,0.0,0.0,2.0,1.0,1.0,3.0,2.0,3.0,2.0,4.0,0.0,1.0,0.0,1.0,0.0,1.0,2.0,1.0,1.0,1.0,3.0,1.0,0.0,4.0,2.0,2.0,1.0,0.0,2.0,0.0,3.0,2.0,0.0,0.0,2.0,1.0,2.0,4.0,1.0,2.0,2.0,4.0,1.0,2.0,0.0,2.0,4.0,2.0,0.0,0.8787878787878788,1.0,1.0,3.0,3.0,0.0,1.0925925925925926,1.0,1.0,0.0,2.0,2.0,0.0,0.0,1.0,0.0,1.0,4.0,0.0,2.0,3.0,2.0,0.0,1.0,1.0,2.0,0.0,4.0,2.0,0.0,1.0,2.0,0.0,3.0,3.0,0.0,0.0,0.0,4.0,0.0,0.0,1.0,3.0,1.0,0.0,2.0,1.0,1.0,2.0,4.0,3.0,4.0,3.0,1.0,1.0,3.0,4.0,0.0,2.0,0.0,0.0,0.0,4.0,4.0,0.0,1.0,0.0,3.0,0.0,2.0,2.0,1.0,3.0,0.0,0.0,1.0,1.0,1.0,0.0,0.0,0.0,0.0,3.0,0.0,2.0,0.0,2.0,3.0,0.0,1.0,4.0,0.0,0.0,2.0,1.0,0.0,0.0,1.0,1.0,3.0,1.0,0.0,2.0,2.0,2.0,0.0,0.0,2.0,1.0,2.0,0.0,1.0,1.0,1.0,1.0,1.0,2.0,2.0,1.0,1.0,1.0,0.0,3.0,0.0,0.0,3.0,2.0,0.0,0.0,2.0,0.0,2.0,2.0,2.0,3.0,2.0,2.0,4.0,1.0,2.0,2.0,4.0,0.0,1.0,1.0,2.0,1.0,1.0,0.0,0.0,1.0,2.0,1.0,0.0,0.9,2.0,0.0,1.0,3.0,3.0,2.0,3.0,3.0,0.0,2.0,1.0,2.0,1.0,0.0,1.0,3.0,2.0,1.0,1.0,3.0,1.0,1.0,4.0,1.0,0.0,3.0,2.0,2.0,3.0,2.0,2.0,0.0,1.0,0.0,4.0,2.0,0.0,1.0,1.0,1.0,0.0,2.0,0.0,0.0,1.0,2.0,1.0,1.0,4.0,0.0,0.0,0.0,2.0,0.0,0.0,0.0,0.0,4.0,1.0,2.0,0.0,2.0,0.0,3.0,1.0,2.0,2.0,1.0,4.0,0.0,3.0,1.0,2.0,2.0,1.0,0.0,3.0,1.0,2.0,0.0,3.0,1.0,2.0,1.0,2.0,2.0,0.0,2.0,3.0,2.0,0.0,1.0,1.0,1.0,1.0,0.0,1.0897435897435896,0.0,0.0,0.0,2.0,2.0,1.0,1.0,4.0,0.0,4.0,3.0,2.0,2.0,0.0,1.0,0.0,2.0,0.0,3.0,3.0,0.0,1.0,2.0,0.0,0.0,0.0,2.0,1.0,2.0,0.0,1.0,1.0,0.0,0.0,0.0,1.0,2.0,4.0,0.0,2.0,2.0,0.0,2.0,1.0,3.0,0.0,2.0,1.0,0.0,1.0,2.0,1.0,0.0,1.0,4.0,1.0,4.0,2.0,1.0,2.0,1.0,1.0,1.75,1.0,2.0,1.0,2.0,2.0,0.0,1.0,2.0,3.0,2.0,1.0,2.0,2.0,3.0,2.0,0.0,1.0,1.0,1.0,2.0,1.0,2.0,2.0,3.0,1.0,1.0,0.0,1.0,2.0,0.0,2.0,2.0,4.0,2.0,2.0,2.0,0.0,3.0,1.0,2.0,2.0,2.0,0.0,1.0,0.0,0.0,2.0,0.0,0.0,1.3333333333333333,0.0,1.0,1.0,2.0,2.0,1.0,1.0,2.0,2.0,2.0,2.0,2.0,1.0,1.0,1.0,4.0,2.0,2.0,2.0,1.0,0.0,2.0,1.0,3.0,2.0,3.0,1.0,0.0,0.0,2.0,2.0,0.0,2.0,2.0,1.0,1.0,4.0,1.0,2.0,2.0,0.0,2.0,0.0,0.0,3.0,2.0,1.0,1.0,1.0,2.0,4.0,4.0,1.475,0.0,2.0,2.0,1.0,4.0,1.0,1.0,1.0,2.0,2.0,2.0,2.0,1.0,0.0,2.0,3.0,0.0,2.0,2.0,2.0,3.0,2.0,2.0,3.0,2.0,2.0,2.0,0.0,3.0,0.0,0.0,2.0,1.0,1.0,2.0,2.0,3.0,2.0,2.0,1.0,2.0,1.0,1.0,2.0,0.0,2.0,3.0,1.0,0.0,4.0,1.0,2.0,0.0,2.0,1.0,0.0,2.0,0.0,2.0,4.0,1.0,0.0,2.0,2.0,1.0,0.0,2.0,3.0,2.0,2.0,1.0,2.0,2.0,1.0,0.0,1.0,2.0,0.0,2.0,2.0,2.0,2.0,1.0,2.0,4.0,0.0,1.0,1.0,1.0,1.0,4.0,1.0,2.0,1.0,2.0,1.0,2.0,0.0,0.0,1.0,0.0,2.0,3.0,4.0,2.0,2.0,2.0,3.0,2.0,1.0,2.0,1.0,2.0,2.0,1.0,4.0,3.0,1.0,1.0,2.0,1.0,1.0,0.0,1.0,2.0,3.0,1.0,0.0,0.0,1.0,3.0,1.0,2.0,0.0,2.0,1.0,2.0,2.0,1.0,2.0,0.0,0.0,2.0,3.0,0.0,0.0,1.0,2.0,3.0,2.0,4.0,4.0,0.0,1.0,0.0,0.0,0.0,2.0,1.0,2.0,3.0,2.0,1.0,0.0,2.0,3.0,2.0,2.0,1.0,1.0,2.0,2.0,2.0,2.0,1.0,1.0,2.0,2.0,2.0,1.0,2.0,0.0,2.0,2.0,1.0,2.0,2.0,2.0,2.0,2.0,2.0,2.0,2.0,2.0,2.0,2.0,2.0,2.0,0.0,0.0,1.0,2.0,1.0,2.0,2.0,0.0,3.0,1.0,0.0,2.0,2.0,4.0,2.0,2.0,0.0,1.0,2.0,0.0,2.0,0.0,2.0,0.0,2.0,3.0,1.0,2.0,2.0,2.0,1.0,2.0,2.0,2.0,4.0,1.0,1.0,0.0,2.0,1.0,1.0,1.0,1.0,2.0,1.0,2.0,0.0,1.0,2.0,1.0,2.0,3.0,4.0,1.0,2.0,2.0,2.0,1.0,0.0,2.0,2.0,2.0,2.0,0.0,2.0,0.0,1.0,2.0,2.0,0.0,0.0,2.0,0.0,1.0,3.0,2.0,0.0,0.0,2.0,0.0,2.0,3.0,3.0,2.0,2.0,0.0,1.0,0.0,1.0,0.0,2.0,0.0,2.0,2.0,1.0,0.0,0.0,2.0,0.0,4.0,2.0,2.0,2.0,1.0,2.0,2.0,1.0,0.0,2.0,0.0,2.0,2.0,3.0,1.0,2.0,1.2,0.0,1.0,2.0,0.0,2.0,2.0,0.0,0.0,2.0,2.0,0.0,1.0,2.0,3.0,0.0,2.0,0.0,1.0,1.0,1.0,2.0,0.0,2.0,0.0,1.0,4.0,3.0,2.0,2.0,1.0,1.0,0.0,1.0,2.0,0.0,2.0,2.0,1.0,2.0,0.0,2.0,2.0,3.0,1.0,3.0,4.0,1.0,2.0,2.0,2.0,4.0,2.0,2.0,3.0,2.0,0.0,0.0,3.0,3.0,2.0,0.0,3.0,2.0],\"x0\":\" \",\"xaxis\":\"x\",\"y0\":\" \",\"yaxis\":\"y\",\"type\":\"box\"}],                        {\"template\":{\"data\":{\"histogram2dcontour\":[{\"type\":\"histogram2dcontour\",\"colorbar\":{\"outlinewidth\":0,\"ticks\":\"\"},\"colorscale\":[[0.0,\"#0d0887\"],[0.1111111111111111,\"#46039f\"],[0.2222222222222222,\"#7201a8\"],[0.3333333333333333,\"#9c179e\"],[0.4444444444444444,\"#bd3786\"],[0.5555555555555556,\"#d8576b\"],[0.6666666666666666,\"#ed7953\"],[0.7777777777777778,\"#fb9f3a\"],[0.8888888888888888,\"#fdca26\"],[1.0,\"#f0f921\"]]}],\"choropleth\":[{\"type\":\"choropleth\",\"colorbar\":{\"outlinewidth\":0,\"ticks\":\"\"}}],\"histogram2d\":[{\"type\":\"histogram2d\",\"colorbar\":{\"outlinewidth\":0,\"ticks\":\"\"},\"colorscale\":[[0.0,\"#0d0887\"],[0.1111111111111111,\"#46039f\"],[0.2222222222222222,\"#7201a8\"],[0.3333333333333333,\"#9c179e\"],[0.4444444444444444,\"#bd3786\"],[0.5555555555555556,\"#d8576b\"],[0.6666666666666666,\"#ed7953\"],[0.7777777777777778,\"#fb9f3a\"],[0.8888888888888888,\"#fdca26\"],[1.0,\"#f0f921\"]]}],\"heatmap\":[{\"type\":\"heatmap\",\"colorbar\":{\"outlinewidth\":0,\"ticks\":\"\"},\"colorscale\":[[0.0,\"#0d0887\"],[0.1111111111111111,\"#46039f\"],[0.2222222222222222,\"#7201a8\"],[0.3333333333333333,\"#9c179e\"],[0.4444444444444444,\"#bd3786\"],[0.5555555555555556,\"#d8576b\"],[0.6666666666666666,\"#ed7953\"],[0.7777777777777778,\"#fb9f3a\"],[0.8888888888888888,\"#fdca26\"],[1.0,\"#f0f921\"]]}],\"heatmapgl\":[{\"type\":\"heatmapgl\",\"colorbar\":{\"outlinewidth\":0,\"ticks\":\"\"},\"colorscale\":[[0.0,\"#0d0887\"],[0.1111111111111111,\"#46039f\"],[0.2222222222222222,\"#7201a8\"],[0.3333333333333333,\"#9c179e\"],[0.4444444444444444,\"#bd3786\"],[0.5555555555555556,\"#d8576b\"],[0.6666666666666666,\"#ed7953\"],[0.7777777777777778,\"#fb9f3a\"],[0.8888888888888888,\"#fdca26\"],[1.0,\"#f0f921\"]]}],\"contourcarpet\":[{\"type\":\"contourcarpet\",\"colorbar\":{\"outlinewidth\":0,\"ticks\":\"\"}}],\"contour\":[{\"type\":\"contour\",\"colorbar\":{\"outlinewidth\":0,\"ticks\":\"\"},\"colorscale\":[[0.0,\"#0d0887\"],[0.1111111111111111,\"#46039f\"],[0.2222222222222222,\"#7201a8\"],[0.3333333333333333,\"#9c179e\"],[0.4444444444444444,\"#bd3786\"],[0.5555555555555556,\"#d8576b\"],[0.6666666666666666,\"#ed7953\"],[0.7777777777777778,\"#fb9f3a\"],[0.8888888888888888,\"#fdca26\"],[1.0,\"#f0f921\"]]}],\"surface\":[{\"type\":\"surface\",\"colorbar\":{\"outlinewidth\":0,\"ticks\":\"\"},\"colorscale\":[[0.0,\"#0d0887\"],[0.1111111111111111,\"#46039f\"],[0.2222222222222222,\"#7201a8\"],[0.3333333333333333,\"#9c179e\"],[0.4444444444444444,\"#bd3786\"],[0.5555555555555556,\"#d8576b\"],[0.6666666666666666,\"#ed7953\"],[0.7777777777777778,\"#fb9f3a\"],[0.8888888888888888,\"#fdca26\"],[1.0,\"#f0f921\"]]}],\"mesh3d\":[{\"type\":\"mesh3d\",\"colorbar\":{\"outlinewidth\":0,\"ticks\":\"\"}}],\"scatter\":[{\"fillpattern\":{\"fillmode\":\"overlay\",\"size\":10,\"solidity\":0.2},\"type\":\"scatter\"}],\"parcoords\":[{\"type\":\"parcoords\",\"line\":{\"colorbar\":{\"outlinewidth\":0,\"ticks\":\"\"}}}],\"scatterpolargl\":[{\"type\":\"scatterpolargl\",\"marker\":{\"colorbar\":{\"outlinewidth\":0,\"ticks\":\"\"}}}],\"bar\":[{\"error_x\":{\"color\":\"#2a3f5f\"},\"error_y\":{\"color\":\"#2a3f5f\"},\"marker\":{\"line\":{\"color\":\"#E5ECF6\",\"width\":0.5},\"pattern\":{\"fillmode\":\"overlay\",\"size\":10,\"solidity\":0.2}},\"type\":\"bar\"}],\"scattergeo\":[{\"type\":\"scattergeo\",\"marker\":{\"colorbar\":{\"outlinewidth\":0,\"ticks\":\"\"}}}],\"scatterpolar\":[{\"type\":\"scatterpolar\",\"marker\":{\"colorbar\":{\"outlinewidth\":0,\"ticks\":\"\"}}}],\"histogram\":[{\"marker\":{\"pattern\":{\"fillmode\":\"overlay\",\"size\":10,\"solidity\":0.2}},\"type\":\"histogram\"}],\"scattergl\":[{\"type\":\"scattergl\",\"marker\":{\"colorbar\":{\"outlinewidth\":0,\"ticks\":\"\"}}}],\"scatter3d\":[{\"type\":\"scatter3d\",\"line\":{\"colorbar\":{\"outlinewidth\":0,\"ticks\":\"\"}},\"marker\":{\"colorbar\":{\"outlinewidth\":0,\"ticks\":\"\"}}}],\"scattermapbox\":[{\"type\":\"scattermapbox\",\"marker\":{\"colorbar\":{\"outlinewidth\":0,\"ticks\":\"\"}}}],\"scatterternary\":[{\"type\":\"scatterternary\",\"marker\":{\"colorbar\":{\"outlinewidth\":0,\"ticks\":\"\"}}}],\"scattercarpet\":[{\"type\":\"scattercarpet\",\"marker\":{\"colorbar\":{\"outlinewidth\":0,\"ticks\":\"\"}}}],\"carpet\":[{\"aaxis\":{\"endlinecolor\":\"#2a3f5f\",\"gridcolor\":\"white\",\"linecolor\":\"white\",\"minorgridcolor\":\"white\",\"startlinecolor\":\"#2a3f5f\"},\"baxis\":{\"endlinecolor\":\"#2a3f5f\",\"gridcolor\":\"white\",\"linecolor\":\"white\",\"minorgridcolor\":\"white\",\"startlinecolor\":\"#2a3f5f\"},\"type\":\"carpet\"}],\"table\":[{\"cells\":{\"fill\":{\"color\":\"#EBF0F8\"},\"line\":{\"color\":\"white\"}},\"header\":{\"fill\":{\"color\":\"#C8D4E3\"},\"line\":{\"color\":\"white\"}},\"type\":\"table\"}],\"barpolar\":[{\"marker\":{\"line\":{\"color\":\"#E5ECF6\",\"width\":0.5},\"pattern\":{\"fillmode\":\"overlay\",\"size\":10,\"solidity\":0.2}},\"type\":\"barpolar\"}],\"pie\":[{\"automargin\":true,\"type\":\"pie\"}]},\"layout\":{\"autotypenumbers\":\"strict\",\"colorway\":[\"#636efa\",\"#EF553B\",\"#00cc96\",\"#ab63fa\",\"#FFA15A\",\"#19d3f3\",\"#FF6692\",\"#B6E880\",\"#FF97FF\",\"#FECB52\"],\"font\":{\"color\":\"#2a3f5f\"},\"hovermode\":\"closest\",\"hoverlabel\":{\"align\":\"left\"},\"paper_bgcolor\":\"white\",\"plot_bgcolor\":\"#E5ECF6\",\"polar\":{\"bgcolor\":\"#E5ECF6\",\"angularaxis\":{\"gridcolor\":\"white\",\"linecolor\":\"white\",\"ticks\":\"\"},\"radialaxis\":{\"gridcolor\":\"white\",\"linecolor\":\"white\",\"ticks\":\"\"}},\"ternary\":{\"bgcolor\":\"#E5ECF6\",\"aaxis\":{\"gridcolor\":\"white\",\"linecolor\":\"white\",\"ticks\":\"\"},\"baxis\":{\"gridcolor\":\"white\",\"linecolor\":\"white\",\"ticks\":\"\"},\"caxis\":{\"gridcolor\":\"white\",\"linecolor\":\"white\",\"ticks\":\"\"}},\"coloraxis\":{\"colorbar\":{\"outlinewidth\":0,\"ticks\":\"\"}},\"colorscale\":{\"sequential\":[[0.0,\"#0d0887\"],[0.1111111111111111,\"#46039f\"],[0.2222222222222222,\"#7201a8\"],[0.3333333333333333,\"#9c179e\"],[0.4444444444444444,\"#bd3786\"],[0.5555555555555556,\"#d8576b\"],[0.6666666666666666,\"#ed7953\"],[0.7777777777777778,\"#fb9f3a\"],[0.8888888888888888,\"#fdca26\"],[1.0,\"#f0f921\"]],\"sequentialminus\":[[0.0,\"#0d0887\"],[0.1111111111111111,\"#46039f\"],[0.2222222222222222,\"#7201a8\"],[0.3333333333333333,\"#9c179e\"],[0.4444444444444444,\"#bd3786\"],[0.5555555555555556,\"#d8576b\"],[0.6666666666666666,\"#ed7953\"],[0.7777777777777778,\"#fb9f3a\"],[0.8888888888888888,\"#fdca26\"],[1.0,\"#f0f921\"]],\"diverging\":[[0,\"#8e0152\"],[0.1,\"#c51b7d\"],[0.2,\"#de77ae\"],[0.3,\"#f1b6da\"],[0.4,\"#fde0ef\"],[0.5,\"#f7f7f7\"],[0.6,\"#e6f5d0\"],[0.7,\"#b8e186\"],[0.8,\"#7fbc41\"],[0.9,\"#4d9221\"],[1,\"#276419\"]]},\"xaxis\":{\"gridcolor\":\"white\",\"linecolor\":\"white\",\"ticks\":\"\",\"title\":{\"standoff\":15},\"zerolinecolor\":\"white\",\"automargin\":true,\"zerolinewidth\":2},\"yaxis\":{\"gridcolor\":\"white\",\"linecolor\":\"white\",\"ticks\":\"\",\"title\":{\"standoff\":15},\"zerolinecolor\":\"white\",\"automargin\":true,\"zerolinewidth\":2},\"scene\":{\"xaxis\":{\"backgroundcolor\":\"#E5ECF6\",\"gridcolor\":\"white\",\"linecolor\":\"white\",\"showbackground\":true,\"ticks\":\"\",\"zerolinecolor\":\"white\",\"gridwidth\":2},\"yaxis\":{\"backgroundcolor\":\"#E5ECF6\",\"gridcolor\":\"white\",\"linecolor\":\"white\",\"showbackground\":true,\"ticks\":\"\",\"zerolinecolor\":\"white\",\"gridwidth\":2},\"zaxis\":{\"backgroundcolor\":\"#E5ECF6\",\"gridcolor\":\"white\",\"linecolor\":\"white\",\"showbackground\":true,\"ticks\":\"\",\"zerolinecolor\":\"white\",\"gridwidth\":2}},\"shapedefaults\":{\"line\":{\"color\":\"#2a3f5f\"}},\"annotationdefaults\":{\"arrowcolor\":\"#2a3f5f\",\"arrowhead\":0,\"arrowwidth\":1},\"geo\":{\"bgcolor\":\"white\",\"landcolor\":\"#E5ECF6\",\"subunitcolor\":\"white\",\"showland\":true,\"showlakes\":true,\"lakecolor\":\"white\"},\"title\":{\"x\":0.05},\"mapbox\":{\"style\":\"light\"}}},\"xaxis\":{\"anchor\":\"y\",\"domain\":[0.0,1.0],\"title\":{\"text\":\"Cars\"}},\"yaxis\":{\"anchor\":\"x\",\"domain\":[0.0,1.0]},\"legend\":{\"tracegroupgap\":0},\"margin\":{\"t\":60},\"boxmode\":\"group\"},                        {\"responsive\": true}                    ).then(function(){\n",
       "                            \n",
       "var gd = document.getElementById('cf384012-5cdd-478b-a16e-50c0e0e71f6e');\n",
       "var x = new MutationObserver(function (mutations, observer) {{\n",
       "        var display = window.getComputedStyle(gd).display;\n",
       "        if (!display || display === 'none') {{\n",
       "            console.log([gd, 'removed!']);\n",
       "            Plotly.purge(gd);\n",
       "            observer.disconnect();\n",
       "        }}\n",
       "}});\n",
       "\n",
       "// Listen for the removal of the full notebook cells\n",
       "var notebookContainer = gd.closest('#notebook-container');\n",
       "if (notebookContainer) {{\n",
       "    x.observe(notebookContainer, {childList: true});\n",
       "}}\n",
       "\n",
       "// Listen for the clearing of the current output cell\n",
       "var outputEl = gd.closest('.output');\n",
       "if (outputEl) {{\n",
       "    x.observe(outputEl, {childList: true});\n",
       "}}\n",
       "\n",
       "                        })                };                });            </script>        </div>"
      ]
     },
     "metadata": {},
     "output_type": "display_data"
    }
   ],
   "source": [
    "#Variable cars\n",
    "fig = px.box(df, x = \"Cars\")\n",
    "fig.show()"
   ]
  },
  {
   "cell_type": "code",
   "execution_count": 978,
   "id": "78590da9",
   "metadata": {},
   "outputs": [
    {
     "data": {
      "application/vnd.plotly.v1+json": {
       "config": {
        "plotlyServerURL": "https://plot.ly"
       },
       "data": [
        {
         "alignmentgroup": "True",
         "hovertemplate": "Age=%{x}<extra></extra>",
         "legendgroup": "",
         "marker": {
          "color": "#636efa"
         },
         "name": "",
         "notched": false,
         "offsetgroup": "",
         "orientation": "h",
         "showlegend": false,
         "type": "box",
         "x": [
          42,
          43,
          60,
          36,
          50,
          33,
          43,
          58,
          52.440366972477065,
          54,
          36,
          55,
          35,
          45,
          38,
          59,
          47,
          35,
          55,
          36,
          35,
          35,
          56,
          34,
          63,
          29,
          40,
          44,
          32,
          63,
          26,
          31,
          50,
          62,
          41,
          50,
          30,
          28,
          40,
          43,
          65,
          40,
          48,
          41,
          66,
          46,
          52,
          42,
          39,
          28,
          35,
          65,
          56,
          42,
          54,
          38,
          61,
          43,
          38,
          45,
          35,
          52,
          41,
          37,
          68,
          37,
          33,
          43,
          30,
          36,
          35,
          52,
          36,
          62,
          31,
          26,
          29,
          50,
          63,
          45,
          40,
          47,
          29,
          52,
          26,
          51,
          40,
          29,
          40,
          29,
          30,
          37,
          33,
          55,
          62,
          43,
          44,
          32.76923076923077,
          43,
          35,
          43,
          49,
          45,
          49,
          30,
          52,
          53,
          38,
          39,
          46,
          38,
          35,
          36,
          26,
          30,
          42,
          40,
          62,
          29,
          66,
          48,
          31,
          56,
          38,
          40,
          32,
          39,
          52,
          39,
          37,
          56,
          40,
          65,
          42,
          52,
          35,
          42,
          55,
          60,
          40,
          26,
          42,
          32,
          37,
          34,
          37,
          40,
          60,
          27,
          43,
          48,
          32,
          47,
          41,
          59,
          50,
          54,
          48,
          44,
          40,
          38,
          52,
          25,
          25,
          47,
          35,
          41,
          47,
          61,
          61,
          33,
          27,
          37,
          52,
          29,
          48,
          55,
          37,
          44,
          55,
          38,
          66,
          58,
          47,
          56,
          59,
          32,
          44,
          55,
          36,
          62,
          41,
          32,
          25,
          36,
          67,
          39,
          33,
          31,
          27,
          33,
          46,
          51,
          46,
          62,
          26,
          37,
          42,
          36,
          36,
          30,
          31,
          65,
          54,
          54,
          25,
          48,
          26,
          43,
          35,
          42,
          39,
          67,
          44.58620689655172,
          42,
          43,
          45,
          57,
          56,
          38,
          45,
          27,
          35,
          70,
          44,
          26,
          46,
          34,
          37,
          27,
          39,
          29,
          52,
          48,
          51,
          34,
          62,
          37,
          78,
          55,
          31,
          59,
          57,
          47,
          43,
          36,
          56,
          37,
          43,
          33,
          51,
          39,
          37,
          42,
          27,
          47,
          45,
          37,
          51,
          28,
          40,
          30,
          36,
          37,
          49,
          37,
          35,
          38,
          43,
          37,
          34,
          46,
          49,
          45,
          48,
          46,
          48,
          54,
          46,
          38,
          42,
          46,
          36,
          32,
          39,
          36,
          54,
          69,
          62,
          28,
          62,
          40,
          36,
          58,
          40,
          66,
          35,
          47,
          47,
          46,
          58,
          52,
          47,
          41,
          64,
          35,
          54,
          45,
          40,
          47,
          41,
          37,
          38,
          36,
          26,
          40,
          36,
          59,
          32,
          30,
          35,
          51,
          47,
          34,
          32,
          50,
          66,
          30,
          32,
          35,
          32,
          31,
          50,
          43,
          45,
          42,
          29,
          28,
          37,
          53,
          38,
          39,
          32,
          51,
          33,
          58,
          30,
          48,
          27,
          33,
          66,
          38,
          38,
          45,
          50,
          60,
          53,
          46,
          51.53846153846154,
          43,
          30,
          38,
          89,
          64,
          51,
          56,
          43,
          30,
          69,
          53,
          37,
          28,
          43,
          34,
          34,
          64,
          41,
          38,
          41,
          51,
          32,
          38,
          38,
          38,
          58,
          39,
          53,
          53,
          80,
          44,
          44,
          54,
          37,
          41,
          36,
          33,
          52,
          46,
          43,
          34,
          67,
          35,
          40,
          37,
          67,
          41,
          51,
          59,
          51,
          32,
          34,
          43,
          67,
          28,
          36,
          48,
          31,
          55,
          28,
          34,
          26,
          53,
          68,
          50,
          28,
          40,
          44,
          34,
          52,
          36,
          43,
          32,
          32,
          48,
          32,
          46,
          42,
          36,
          41,
          69,
          45,
          34,
          53,
          50,
          65,
          32,
          33,
          31,
          46,
          39,
          40,
          46,
          65,
          47,
          46,
          40,
          65,
          28,
          43,
          38,
          47,
          36,
          60,
          42,
          50,
          35,
          32,
          46,
          33,
          36,
          70,
          31,
          42,
          58,
          39,
          34,
          32,
          46,
          48,
          31,
          60,
          51,
          56,
          40,
          34,
          48,
          31,
          47,
          34,
          29,
          44,
          38,
          40,
          42,
          51,
          29,
          48,
          37,
          66,
          45,
          61,
          45,
          47,
          49,
          47,
          34,
          64,
          44,
          62,
          47,
          49,
          67,
          59,
          44,
          36,
          28,
          57,
          27,
          28,
          44,
          66,
          64,
          41,
          41,
          49,
          42,
          37,
          52,
          34,
          29,
          53,
          40,
          29,
          43,
          55,
          48,
          45,
          42,
          63,
          54,
          73,
          52.440366972477065,
          39,
          42,
          31,
          41,
          58,
          40,
          48,
          34,
          28,
          27,
          54,
          70,
          48,
          44,
          69,
          52,
          55,
          30,
          63,
          34,
          56,
          31,
          38,
          59,
          32,
          69,
          28,
          47,
          66,
          37,
          39,
          51,
          40,
          51,
          57,
          35,
          61,
          44,
          49,
          70,
          78,
          45,
          58,
          41,
          57,
          49,
          52,
          35,
          27,
          52,
          36,
          46,
          52,
          43,
          44,
          34,
          27,
          45,
          45,
          47,
          47,
          44,
          49,
          30,
          41,
          58,
          47,
          55,
          27,
          67,
          29,
          67,
          51,
          35,
          30,
          44,
          48,
          45,
          66,
          49,
          43,
          30,
          74,
          65,
          56,
          64,
          50,
          35,
          41,
          39,
          47,
          31,
          58,
          38,
          67,
          32,
          45,
          31,
          31,
          31,
          50,
          44,
          38,
          63,
          36,
          28,
          44,
          47,
          40,
          40,
          46,
          61,
          40,
          50,
          59,
          36,
          30,
          35,
          48,
          41,
          47,
          47,
          62,
          60,
          33,
          47,
          52,
          40,
          42,
          53,
          51,
          30,
          26,
          45,
          34,
          44,
          41,
          36,
          30,
          28,
          49,
          43,
          59,
          26,
          46,
          33,
          42,
          59,
          33,
          44,
          60,
          59,
          32,
          58,
          59,
          38,
          28,
          37,
          40,
          38,
          36,
          37,
          60,
          42,
          53,
          49,
          49,
          42,
          53,
          46,
          27,
          48,
          41,
          49,
          38,
          44,
          45,
          26,
          31,
          49,
          47,
          55,
          30,
          48,
          30,
          45,
          56,
          47,
          56,
          44,
          69,
          59,
          50,
          36,
          32,
          27,
          59,
          53,
          36,
          51,
          47,
          43,
          50,
          59,
          37,
          33,
          27,
          34,
          42,
          57,
          45,
          40,
          44.58620689655172,
          47,
          47,
          34,
          36,
          54,
          59,
          27,
          41,
          50,
          55,
          43,
          43,
          42,
          53,
          28,
          35,
          59,
          49,
          48,
          50,
          28,
          52,
          52,
          69,
          51,
          57,
          27,
          25,
          33,
          43,
          73,
          27,
          28,
          27,
          31,
          53,
          32,
          50,
          69,
          52,
          31,
          61,
          53,
          62,
          30,
          43,
          42,
          30,
          30,
          43,
          33,
          32,
          50,
          37,
          52,
          36,
          41,
          26,
          66,
          51,
          43,
          39,
          37,
          54,
          40,
          28,
          33,
          41,
          37,
          53,
          64,
          45,
          52,
          60,
          50,
          56,
          29,
          38,
          60,
          67,
          32,
          39,
          35,
          32,
          31,
          27,
          47,
          42,
          49,
          32,
          53,
          32,
          38,
          31,
          38,
          55,
          60,
          42,
          46,
          55,
          53,
          40,
          53,
          38,
          26,
          61,
          71,
          45,
          37,
          72,
          32,
          48,
          68,
          49,
          34,
          32,
          42,
          35,
          48,
          73,
          43,
          35,
          35,
          64,
          34,
          28,
          60,
          46,
          44,
          42,
          40,
          73,
          36,
          38,
          34,
          63,
          39,
          46,
          64,
          32,
          36,
          47,
          64,
          35,
          40,
          34,
          61,
          51,
          49,
          54,
          53,
          48,
          33,
          57,
          39,
          48,
          50,
          47,
          49,
          27,
          29,
          59,
          45,
          60,
          36,
          27,
          50,
          35,
          34,
          54,
          42,
          34,
          38,
          63,
          45,
          40,
          53,
          34,
          59,
          30,
          48,
          43,
          35,
          30,
          47,
          45,
          45,
          62,
          55,
          66,
          56,
          40,
          33,
          56,
          27,
          39,
          31,
          51,
          52,
          53,
          35,
          66,
          65,
          45,
          31,
          40,
          46,
          47,
          41,
          48,
          42,
          51.53846153846154,
          66,
          63,
          42,
          26,
          36,
          49,
          44,
          46,
          54,
          35,
          38,
          53
         ],
         "x0": " ",
         "xaxis": "x",
         "y0": " ",
         "yaxis": "y"
        }
       ],
       "layout": {
        "boxmode": "group",
        "legend": {
         "tracegroupgap": 0
        },
        "margin": {
         "t": 60
        },
        "template": {
         "data": {
          "bar": [
           {
            "error_x": {
             "color": "#2a3f5f"
            },
            "error_y": {
             "color": "#2a3f5f"
            },
            "marker": {
             "line": {
              "color": "#E5ECF6",
              "width": 0.5
             },
             "pattern": {
              "fillmode": "overlay",
              "size": 10,
              "solidity": 0.2
             }
            },
            "type": "bar"
           }
          ],
          "barpolar": [
           {
            "marker": {
             "line": {
              "color": "#E5ECF6",
              "width": 0.5
             },
             "pattern": {
              "fillmode": "overlay",
              "size": 10,
              "solidity": 0.2
             }
            },
            "type": "barpolar"
           }
          ],
          "carpet": [
           {
            "aaxis": {
             "endlinecolor": "#2a3f5f",
             "gridcolor": "white",
             "linecolor": "white",
             "minorgridcolor": "white",
             "startlinecolor": "#2a3f5f"
            },
            "baxis": {
             "endlinecolor": "#2a3f5f",
             "gridcolor": "white",
             "linecolor": "white",
             "minorgridcolor": "white",
             "startlinecolor": "#2a3f5f"
            },
            "type": "carpet"
           }
          ],
          "choropleth": [
           {
            "colorbar": {
             "outlinewidth": 0,
             "ticks": ""
            },
            "type": "choropleth"
           }
          ],
          "contour": [
           {
            "colorbar": {
             "outlinewidth": 0,
             "ticks": ""
            },
            "colorscale": [
             [
              0,
              "#0d0887"
             ],
             [
              0.1111111111111111,
              "#46039f"
             ],
             [
              0.2222222222222222,
              "#7201a8"
             ],
             [
              0.3333333333333333,
              "#9c179e"
             ],
             [
              0.4444444444444444,
              "#bd3786"
             ],
             [
              0.5555555555555556,
              "#d8576b"
             ],
             [
              0.6666666666666666,
              "#ed7953"
             ],
             [
              0.7777777777777778,
              "#fb9f3a"
             ],
             [
              0.8888888888888888,
              "#fdca26"
             ],
             [
              1,
              "#f0f921"
             ]
            ],
            "type": "contour"
           }
          ],
          "contourcarpet": [
           {
            "colorbar": {
             "outlinewidth": 0,
             "ticks": ""
            },
            "type": "contourcarpet"
           }
          ],
          "heatmap": [
           {
            "colorbar": {
             "outlinewidth": 0,
             "ticks": ""
            },
            "colorscale": [
             [
              0,
              "#0d0887"
             ],
             [
              0.1111111111111111,
              "#46039f"
             ],
             [
              0.2222222222222222,
              "#7201a8"
             ],
             [
              0.3333333333333333,
              "#9c179e"
             ],
             [
              0.4444444444444444,
              "#bd3786"
             ],
             [
              0.5555555555555556,
              "#d8576b"
             ],
             [
              0.6666666666666666,
              "#ed7953"
             ],
             [
              0.7777777777777778,
              "#fb9f3a"
             ],
             [
              0.8888888888888888,
              "#fdca26"
             ],
             [
              1,
              "#f0f921"
             ]
            ],
            "type": "heatmap"
           }
          ],
          "heatmapgl": [
           {
            "colorbar": {
             "outlinewidth": 0,
             "ticks": ""
            },
            "colorscale": [
             [
              0,
              "#0d0887"
             ],
             [
              0.1111111111111111,
              "#46039f"
             ],
             [
              0.2222222222222222,
              "#7201a8"
             ],
             [
              0.3333333333333333,
              "#9c179e"
             ],
             [
              0.4444444444444444,
              "#bd3786"
             ],
             [
              0.5555555555555556,
              "#d8576b"
             ],
             [
              0.6666666666666666,
              "#ed7953"
             ],
             [
              0.7777777777777778,
              "#fb9f3a"
             ],
             [
              0.8888888888888888,
              "#fdca26"
             ],
             [
              1,
              "#f0f921"
             ]
            ],
            "type": "heatmapgl"
           }
          ],
          "histogram": [
           {
            "marker": {
             "pattern": {
              "fillmode": "overlay",
              "size": 10,
              "solidity": 0.2
             }
            },
            "type": "histogram"
           }
          ],
          "histogram2d": [
           {
            "colorbar": {
             "outlinewidth": 0,
             "ticks": ""
            },
            "colorscale": [
             [
              0,
              "#0d0887"
             ],
             [
              0.1111111111111111,
              "#46039f"
             ],
             [
              0.2222222222222222,
              "#7201a8"
             ],
             [
              0.3333333333333333,
              "#9c179e"
             ],
             [
              0.4444444444444444,
              "#bd3786"
             ],
             [
              0.5555555555555556,
              "#d8576b"
             ],
             [
              0.6666666666666666,
              "#ed7953"
             ],
             [
              0.7777777777777778,
              "#fb9f3a"
             ],
             [
              0.8888888888888888,
              "#fdca26"
             ],
             [
              1,
              "#f0f921"
             ]
            ],
            "type": "histogram2d"
           }
          ],
          "histogram2dcontour": [
           {
            "colorbar": {
             "outlinewidth": 0,
             "ticks": ""
            },
            "colorscale": [
             [
              0,
              "#0d0887"
             ],
             [
              0.1111111111111111,
              "#46039f"
             ],
             [
              0.2222222222222222,
              "#7201a8"
             ],
             [
              0.3333333333333333,
              "#9c179e"
             ],
             [
              0.4444444444444444,
              "#bd3786"
             ],
             [
              0.5555555555555556,
              "#d8576b"
             ],
             [
              0.6666666666666666,
              "#ed7953"
             ],
             [
              0.7777777777777778,
              "#fb9f3a"
             ],
             [
              0.8888888888888888,
              "#fdca26"
             ],
             [
              1,
              "#f0f921"
             ]
            ],
            "type": "histogram2dcontour"
           }
          ],
          "mesh3d": [
           {
            "colorbar": {
             "outlinewidth": 0,
             "ticks": ""
            },
            "type": "mesh3d"
           }
          ],
          "parcoords": [
           {
            "line": {
             "colorbar": {
              "outlinewidth": 0,
              "ticks": ""
             }
            },
            "type": "parcoords"
           }
          ],
          "pie": [
           {
            "automargin": true,
            "type": "pie"
           }
          ],
          "scatter": [
           {
            "fillpattern": {
             "fillmode": "overlay",
             "size": 10,
             "solidity": 0.2
            },
            "type": "scatter"
           }
          ],
          "scatter3d": [
           {
            "line": {
             "colorbar": {
              "outlinewidth": 0,
              "ticks": ""
             }
            },
            "marker": {
             "colorbar": {
              "outlinewidth": 0,
              "ticks": ""
             }
            },
            "type": "scatter3d"
           }
          ],
          "scattercarpet": [
           {
            "marker": {
             "colorbar": {
              "outlinewidth": 0,
              "ticks": ""
             }
            },
            "type": "scattercarpet"
           }
          ],
          "scattergeo": [
           {
            "marker": {
             "colorbar": {
              "outlinewidth": 0,
              "ticks": ""
             }
            },
            "type": "scattergeo"
           }
          ],
          "scattergl": [
           {
            "marker": {
             "colorbar": {
              "outlinewidth": 0,
              "ticks": ""
             }
            },
            "type": "scattergl"
           }
          ],
          "scattermapbox": [
           {
            "marker": {
             "colorbar": {
              "outlinewidth": 0,
              "ticks": ""
             }
            },
            "type": "scattermapbox"
           }
          ],
          "scatterpolar": [
           {
            "marker": {
             "colorbar": {
              "outlinewidth": 0,
              "ticks": ""
             }
            },
            "type": "scatterpolar"
           }
          ],
          "scatterpolargl": [
           {
            "marker": {
             "colorbar": {
              "outlinewidth": 0,
              "ticks": ""
             }
            },
            "type": "scatterpolargl"
           }
          ],
          "scatterternary": [
           {
            "marker": {
             "colorbar": {
              "outlinewidth": 0,
              "ticks": ""
             }
            },
            "type": "scatterternary"
           }
          ],
          "surface": [
           {
            "colorbar": {
             "outlinewidth": 0,
             "ticks": ""
            },
            "colorscale": [
             [
              0,
              "#0d0887"
             ],
             [
              0.1111111111111111,
              "#46039f"
             ],
             [
              0.2222222222222222,
              "#7201a8"
             ],
             [
              0.3333333333333333,
              "#9c179e"
             ],
             [
              0.4444444444444444,
              "#bd3786"
             ],
             [
              0.5555555555555556,
              "#d8576b"
             ],
             [
              0.6666666666666666,
              "#ed7953"
             ],
             [
              0.7777777777777778,
              "#fb9f3a"
             ],
             [
              0.8888888888888888,
              "#fdca26"
             ],
             [
              1,
              "#f0f921"
             ]
            ],
            "type": "surface"
           }
          ],
          "table": [
           {
            "cells": {
             "fill": {
              "color": "#EBF0F8"
             },
             "line": {
              "color": "white"
             }
            },
            "header": {
             "fill": {
              "color": "#C8D4E3"
             },
             "line": {
              "color": "white"
             }
            },
            "type": "table"
           }
          ]
         },
         "layout": {
          "annotationdefaults": {
           "arrowcolor": "#2a3f5f",
           "arrowhead": 0,
           "arrowwidth": 1
          },
          "autotypenumbers": "strict",
          "coloraxis": {
           "colorbar": {
            "outlinewidth": 0,
            "ticks": ""
           }
          },
          "colorscale": {
           "diverging": [
            [
             0,
             "#8e0152"
            ],
            [
             0.1,
             "#c51b7d"
            ],
            [
             0.2,
             "#de77ae"
            ],
            [
             0.3,
             "#f1b6da"
            ],
            [
             0.4,
             "#fde0ef"
            ],
            [
             0.5,
             "#f7f7f7"
            ],
            [
             0.6,
             "#e6f5d0"
            ],
            [
             0.7,
             "#b8e186"
            ],
            [
             0.8,
             "#7fbc41"
            ],
            [
             0.9,
             "#4d9221"
            ],
            [
             1,
             "#276419"
            ]
           ],
           "sequential": [
            [
             0,
             "#0d0887"
            ],
            [
             0.1111111111111111,
             "#46039f"
            ],
            [
             0.2222222222222222,
             "#7201a8"
            ],
            [
             0.3333333333333333,
             "#9c179e"
            ],
            [
             0.4444444444444444,
             "#bd3786"
            ],
            [
             0.5555555555555556,
             "#d8576b"
            ],
            [
             0.6666666666666666,
             "#ed7953"
            ],
            [
             0.7777777777777778,
             "#fb9f3a"
            ],
            [
             0.8888888888888888,
             "#fdca26"
            ],
            [
             1,
             "#f0f921"
            ]
           ],
           "sequentialminus": [
            [
             0,
             "#0d0887"
            ],
            [
             0.1111111111111111,
             "#46039f"
            ],
            [
             0.2222222222222222,
             "#7201a8"
            ],
            [
             0.3333333333333333,
             "#9c179e"
            ],
            [
             0.4444444444444444,
             "#bd3786"
            ],
            [
             0.5555555555555556,
             "#d8576b"
            ],
            [
             0.6666666666666666,
             "#ed7953"
            ],
            [
             0.7777777777777778,
             "#fb9f3a"
            ],
            [
             0.8888888888888888,
             "#fdca26"
            ],
            [
             1,
             "#f0f921"
            ]
           ]
          },
          "colorway": [
           "#636efa",
           "#EF553B",
           "#00cc96",
           "#ab63fa",
           "#FFA15A",
           "#19d3f3",
           "#FF6692",
           "#B6E880",
           "#FF97FF",
           "#FECB52"
          ],
          "font": {
           "color": "#2a3f5f"
          },
          "geo": {
           "bgcolor": "white",
           "lakecolor": "white",
           "landcolor": "#E5ECF6",
           "showlakes": true,
           "showland": true,
           "subunitcolor": "white"
          },
          "hoverlabel": {
           "align": "left"
          },
          "hovermode": "closest",
          "mapbox": {
           "style": "light"
          },
          "paper_bgcolor": "white",
          "plot_bgcolor": "#E5ECF6",
          "polar": {
           "angularaxis": {
            "gridcolor": "white",
            "linecolor": "white",
            "ticks": ""
           },
           "bgcolor": "#E5ECF6",
           "radialaxis": {
            "gridcolor": "white",
            "linecolor": "white",
            "ticks": ""
           }
          },
          "scene": {
           "xaxis": {
            "backgroundcolor": "#E5ECF6",
            "gridcolor": "white",
            "gridwidth": 2,
            "linecolor": "white",
            "showbackground": true,
            "ticks": "",
            "zerolinecolor": "white"
           },
           "yaxis": {
            "backgroundcolor": "#E5ECF6",
            "gridcolor": "white",
            "gridwidth": 2,
            "linecolor": "white",
            "showbackground": true,
            "ticks": "",
            "zerolinecolor": "white"
           },
           "zaxis": {
            "backgroundcolor": "#E5ECF6",
            "gridcolor": "white",
            "gridwidth": 2,
            "linecolor": "white",
            "showbackground": true,
            "ticks": "",
            "zerolinecolor": "white"
           }
          },
          "shapedefaults": {
           "line": {
            "color": "#2a3f5f"
           }
          },
          "ternary": {
           "aaxis": {
            "gridcolor": "white",
            "linecolor": "white",
            "ticks": ""
           },
           "baxis": {
            "gridcolor": "white",
            "linecolor": "white",
            "ticks": ""
           },
           "bgcolor": "#E5ECF6",
           "caxis": {
            "gridcolor": "white",
            "linecolor": "white",
            "ticks": ""
           }
          },
          "title": {
           "x": 0.05
          },
          "xaxis": {
           "automargin": true,
           "gridcolor": "white",
           "linecolor": "white",
           "ticks": "",
           "title": {
            "standoff": 15
           },
           "zerolinecolor": "white",
           "zerolinewidth": 2
          },
          "yaxis": {
           "automargin": true,
           "gridcolor": "white",
           "linecolor": "white",
           "ticks": "",
           "title": {
            "standoff": 15
           },
           "zerolinecolor": "white",
           "zerolinewidth": 2
          }
         }
        },
        "xaxis": {
         "anchor": "y",
         "domain": [
          0,
          1
         ],
         "title": {
          "text": "Age"
         }
        },
        "yaxis": {
         "anchor": "x",
         "domain": [
          0,
          1
         ]
        }
       }
      },
      "text/html": [
       "<div>                            <div id=\"ff15129f-5afe-43b2-8018-fdb14028291f\" class=\"plotly-graph-div\" style=\"height:525px; width:100%;\"></div>            <script type=\"text/javascript\">                require([\"plotly\"], function(Plotly) {                    window.PLOTLYENV=window.PLOTLYENV || {};                                    if (document.getElementById(\"ff15129f-5afe-43b2-8018-fdb14028291f\")) {                    Plotly.newPlot(                        \"ff15129f-5afe-43b2-8018-fdb14028291f\",                        [{\"alignmentgroup\":\"True\",\"hovertemplate\":\"Age=%{x}\\u003cextra\\u003e\\u003c\\u002fextra\\u003e\",\"legendgroup\":\"\",\"marker\":{\"color\":\"#636efa\"},\"name\":\"\",\"notched\":false,\"offsetgroup\":\"\",\"orientation\":\"h\",\"showlegend\":false,\"x\":[42.0,43.0,60.0,36.0,50.0,33.0,43.0,58.0,52.440366972477065,54.0,36.0,55.0,35.0,45.0,38.0,59.0,47.0,35.0,55.0,36.0,35.0,35.0,56.0,34.0,63.0,29.0,40.0,44.0,32.0,63.0,26.0,31.0,50.0,62.0,41.0,50.0,30.0,28.0,40.0,43.0,65.0,40.0,48.0,41.0,66.0,46.0,52.0,42.0,39.0,28.0,35.0,65.0,56.0,42.0,54.0,38.0,61.0,43.0,38.0,45.0,35.0,52.0,41.0,37.0,68.0,37.0,33.0,43.0,30.0,36.0,35.0,52.0,36.0,62.0,31.0,26.0,29.0,50.0,63.0,45.0,40.0,47.0,29.0,52.0,26.0,51.0,40.0,29.0,40.0,29.0,30.0,37.0,33.0,55.0,62.0,43.0,44.0,32.76923076923077,43.0,35.0,43.0,49.0,45.0,49.0,30.0,52.0,53.0,38.0,39.0,46.0,38.0,35.0,36.0,26.0,30.0,42.0,40.0,62.0,29.0,66.0,48.0,31.0,56.0,38.0,40.0,32.0,39.0,52.0,39.0,37.0,56.0,40.0,65.0,42.0,52.0,35.0,42.0,55.0,60.0,40.0,26.0,42.0,32.0,37.0,34.0,37.0,40.0,60.0,27.0,43.0,48.0,32.0,47.0,41.0,59.0,50.0,54.0,48.0,44.0,40.0,38.0,52.0,25.0,25.0,47.0,35.0,41.0,47.0,61.0,61.0,33.0,27.0,37.0,52.0,29.0,48.0,55.0,37.0,44.0,55.0,38.0,66.0,58.0,47.0,56.0,59.0,32.0,44.0,55.0,36.0,62.0,41.0,32.0,25.0,36.0,67.0,39.0,33.0,31.0,27.0,33.0,46.0,51.0,46.0,62.0,26.0,37.0,42.0,36.0,36.0,30.0,31.0,65.0,54.0,54.0,25.0,48.0,26.0,43.0,35.0,42.0,39.0,67.0,44.58620689655172,42.0,43.0,45.0,57.0,56.0,38.0,45.0,27.0,35.0,70.0,44.0,26.0,46.0,34.0,37.0,27.0,39.0,29.0,52.0,48.0,51.0,34.0,62.0,37.0,78.0,55.0,31.0,59.0,57.0,47.0,43.0,36.0,56.0,37.0,43.0,33.0,51.0,39.0,37.0,42.0,27.0,47.0,45.0,37.0,51.0,28.0,40.0,30.0,36.0,37.0,49.0,37.0,35.0,38.0,43.0,37.0,34.0,46.0,49.0,45.0,48.0,46.0,48.0,54.0,46.0,38.0,42.0,46.0,36.0,32.0,39.0,36.0,54.0,69.0,62.0,28.0,62.0,40.0,36.0,58.0,40.0,66.0,35.0,47.0,47.0,46.0,58.0,52.0,47.0,41.0,64.0,35.0,54.0,45.0,40.0,47.0,41.0,37.0,38.0,36.0,26.0,40.0,36.0,59.0,32.0,30.0,35.0,51.0,47.0,34.0,32.0,50.0,66.0,30.0,32.0,35.0,32.0,31.0,50.0,43.0,45.0,42.0,29.0,28.0,37.0,53.0,38.0,39.0,32.0,51.0,33.0,58.0,30.0,48.0,27.0,33.0,66.0,38.0,38.0,45.0,50.0,60.0,53.0,46.0,51.53846153846154,43.0,30.0,38.0,89.0,64.0,51.0,56.0,43.0,30.0,69.0,53.0,37.0,28.0,43.0,34.0,34.0,64.0,41.0,38.0,41.0,51.0,32.0,38.0,38.0,38.0,58.0,39.0,53.0,53.0,80.0,44.0,44.0,54.0,37.0,41.0,36.0,33.0,52.0,46.0,43.0,34.0,67.0,35.0,40.0,37.0,67.0,41.0,51.0,59.0,51.0,32.0,34.0,43.0,67.0,28.0,36.0,48.0,31.0,55.0,28.0,34.0,26.0,53.0,68.0,50.0,28.0,40.0,44.0,34.0,52.0,36.0,43.0,32.0,32.0,48.0,32.0,46.0,42.0,36.0,41.0,69.0,45.0,34.0,53.0,50.0,65.0,32.0,33.0,31.0,46.0,39.0,40.0,46.0,65.0,47.0,46.0,40.0,65.0,28.0,43.0,38.0,47.0,36.0,60.0,42.0,50.0,35.0,32.0,46.0,33.0,36.0,70.0,31.0,42.0,58.0,39.0,34.0,32.0,46.0,48.0,31.0,60.0,51.0,56.0,40.0,34.0,48.0,31.0,47.0,34.0,29.0,44.0,38.0,40.0,42.0,51.0,29.0,48.0,37.0,66.0,45.0,61.0,45.0,47.0,49.0,47.0,34.0,64.0,44.0,62.0,47.0,49.0,67.0,59.0,44.0,36.0,28.0,57.0,27.0,28.0,44.0,66.0,64.0,41.0,41.0,49.0,42.0,37.0,52.0,34.0,29.0,53.0,40.0,29.0,43.0,55.0,48.0,45.0,42.0,63.0,54.0,73.0,52.440366972477065,39.0,42.0,31.0,41.0,58.0,40.0,48.0,34.0,28.0,27.0,54.0,70.0,48.0,44.0,69.0,52.0,55.0,30.0,63.0,34.0,56.0,31.0,38.0,59.0,32.0,69.0,28.0,47.0,66.0,37.0,39.0,51.0,40.0,51.0,57.0,35.0,61.0,44.0,49.0,70.0,78.0,45.0,58.0,41.0,57.0,49.0,52.0,35.0,27.0,52.0,36.0,46.0,52.0,43.0,44.0,34.0,27.0,45.0,45.0,47.0,47.0,44.0,49.0,30.0,41.0,58.0,47.0,55.0,27.0,67.0,29.0,67.0,51.0,35.0,30.0,44.0,48.0,45.0,66.0,49.0,43.0,30.0,74.0,65.0,56.0,64.0,50.0,35.0,41.0,39.0,47.0,31.0,58.0,38.0,67.0,32.0,45.0,31.0,31.0,31.0,50.0,44.0,38.0,63.0,36.0,28.0,44.0,47.0,40.0,40.0,46.0,61.0,40.0,50.0,59.0,36.0,30.0,35.0,48.0,41.0,47.0,47.0,62.0,60.0,33.0,47.0,52.0,40.0,42.0,53.0,51.0,30.0,26.0,45.0,34.0,44.0,41.0,36.0,30.0,28.0,49.0,43.0,59.0,26.0,46.0,33.0,42.0,59.0,33.0,44.0,60.0,59.0,32.0,58.0,59.0,38.0,28.0,37.0,40.0,38.0,36.0,37.0,60.0,42.0,53.0,49.0,49.0,42.0,53.0,46.0,27.0,48.0,41.0,49.0,38.0,44.0,45.0,26.0,31.0,49.0,47.0,55.0,30.0,48.0,30.0,45.0,56.0,47.0,56.0,44.0,69.0,59.0,50.0,36.0,32.0,27.0,59.0,53.0,36.0,51.0,47.0,43.0,50.0,59.0,37.0,33.0,27.0,34.0,42.0,57.0,45.0,40.0,44.58620689655172,47.0,47.0,34.0,36.0,54.0,59.0,27.0,41.0,50.0,55.0,43.0,43.0,42.0,53.0,28.0,35.0,59.0,49.0,48.0,50.0,28.0,52.0,52.0,69.0,51.0,57.0,27.0,25.0,33.0,43.0,73.0,27.0,28.0,27.0,31.0,53.0,32.0,50.0,69.0,52.0,31.0,61.0,53.0,62.0,30.0,43.0,42.0,30.0,30.0,43.0,33.0,32.0,50.0,37.0,52.0,36.0,41.0,26.0,66.0,51.0,43.0,39.0,37.0,54.0,40.0,28.0,33.0,41.0,37.0,53.0,64.0,45.0,52.0,60.0,50.0,56.0,29.0,38.0,60.0,67.0,32.0,39.0,35.0,32.0,31.0,27.0,47.0,42.0,49.0,32.0,53.0,32.0,38.0,31.0,38.0,55.0,60.0,42.0,46.0,55.0,53.0,40.0,53.0,38.0,26.0,61.0,71.0,45.0,37.0,72.0,32.0,48.0,68.0,49.0,34.0,32.0,42.0,35.0,48.0,73.0,43.0,35.0,35.0,64.0,34.0,28.0,60.0,46.0,44.0,42.0,40.0,73.0,36.0,38.0,34.0,63.0,39.0,46.0,64.0,32.0,36.0,47.0,64.0,35.0,40.0,34.0,61.0,51.0,49.0,54.0,53.0,48.0,33.0,57.0,39.0,48.0,50.0,47.0,49.0,27.0,29.0,59.0,45.0,60.0,36.0,27.0,50.0,35.0,34.0,54.0,42.0,34.0,38.0,63.0,45.0,40.0,53.0,34.0,59.0,30.0,48.0,43.0,35.0,30.0,47.0,45.0,45.0,62.0,55.0,66.0,56.0,40.0,33.0,56.0,27.0,39.0,31.0,51.0,52.0,53.0,35.0,66.0,65.0,45.0,31.0,40.0,46.0,47.0,41.0,48.0,42.0,51.53846153846154,66.0,63.0,42.0,26.0,36.0,49.0,44.0,46.0,54.0,35.0,38.0,53.0],\"x0\":\" \",\"xaxis\":\"x\",\"y0\":\" \",\"yaxis\":\"y\",\"type\":\"box\"}],                        {\"template\":{\"data\":{\"histogram2dcontour\":[{\"type\":\"histogram2dcontour\",\"colorbar\":{\"outlinewidth\":0,\"ticks\":\"\"},\"colorscale\":[[0.0,\"#0d0887\"],[0.1111111111111111,\"#46039f\"],[0.2222222222222222,\"#7201a8\"],[0.3333333333333333,\"#9c179e\"],[0.4444444444444444,\"#bd3786\"],[0.5555555555555556,\"#d8576b\"],[0.6666666666666666,\"#ed7953\"],[0.7777777777777778,\"#fb9f3a\"],[0.8888888888888888,\"#fdca26\"],[1.0,\"#f0f921\"]]}],\"choropleth\":[{\"type\":\"choropleth\",\"colorbar\":{\"outlinewidth\":0,\"ticks\":\"\"}}],\"histogram2d\":[{\"type\":\"histogram2d\",\"colorbar\":{\"outlinewidth\":0,\"ticks\":\"\"},\"colorscale\":[[0.0,\"#0d0887\"],[0.1111111111111111,\"#46039f\"],[0.2222222222222222,\"#7201a8\"],[0.3333333333333333,\"#9c179e\"],[0.4444444444444444,\"#bd3786\"],[0.5555555555555556,\"#d8576b\"],[0.6666666666666666,\"#ed7953\"],[0.7777777777777778,\"#fb9f3a\"],[0.8888888888888888,\"#fdca26\"],[1.0,\"#f0f921\"]]}],\"heatmap\":[{\"type\":\"heatmap\",\"colorbar\":{\"outlinewidth\":0,\"ticks\":\"\"},\"colorscale\":[[0.0,\"#0d0887\"],[0.1111111111111111,\"#46039f\"],[0.2222222222222222,\"#7201a8\"],[0.3333333333333333,\"#9c179e\"],[0.4444444444444444,\"#bd3786\"],[0.5555555555555556,\"#d8576b\"],[0.6666666666666666,\"#ed7953\"],[0.7777777777777778,\"#fb9f3a\"],[0.8888888888888888,\"#fdca26\"],[1.0,\"#f0f921\"]]}],\"heatmapgl\":[{\"type\":\"heatmapgl\",\"colorbar\":{\"outlinewidth\":0,\"ticks\":\"\"},\"colorscale\":[[0.0,\"#0d0887\"],[0.1111111111111111,\"#46039f\"],[0.2222222222222222,\"#7201a8\"],[0.3333333333333333,\"#9c179e\"],[0.4444444444444444,\"#bd3786\"],[0.5555555555555556,\"#d8576b\"],[0.6666666666666666,\"#ed7953\"],[0.7777777777777778,\"#fb9f3a\"],[0.8888888888888888,\"#fdca26\"],[1.0,\"#f0f921\"]]}],\"contourcarpet\":[{\"type\":\"contourcarpet\",\"colorbar\":{\"outlinewidth\":0,\"ticks\":\"\"}}],\"contour\":[{\"type\":\"contour\",\"colorbar\":{\"outlinewidth\":0,\"ticks\":\"\"},\"colorscale\":[[0.0,\"#0d0887\"],[0.1111111111111111,\"#46039f\"],[0.2222222222222222,\"#7201a8\"],[0.3333333333333333,\"#9c179e\"],[0.4444444444444444,\"#bd3786\"],[0.5555555555555556,\"#d8576b\"],[0.6666666666666666,\"#ed7953\"],[0.7777777777777778,\"#fb9f3a\"],[0.8888888888888888,\"#fdca26\"],[1.0,\"#f0f921\"]]}],\"surface\":[{\"type\":\"surface\",\"colorbar\":{\"outlinewidth\":0,\"ticks\":\"\"},\"colorscale\":[[0.0,\"#0d0887\"],[0.1111111111111111,\"#46039f\"],[0.2222222222222222,\"#7201a8\"],[0.3333333333333333,\"#9c179e\"],[0.4444444444444444,\"#bd3786\"],[0.5555555555555556,\"#d8576b\"],[0.6666666666666666,\"#ed7953\"],[0.7777777777777778,\"#fb9f3a\"],[0.8888888888888888,\"#fdca26\"],[1.0,\"#f0f921\"]]}],\"mesh3d\":[{\"type\":\"mesh3d\",\"colorbar\":{\"outlinewidth\":0,\"ticks\":\"\"}}],\"scatter\":[{\"fillpattern\":{\"fillmode\":\"overlay\",\"size\":10,\"solidity\":0.2},\"type\":\"scatter\"}],\"parcoords\":[{\"type\":\"parcoords\",\"line\":{\"colorbar\":{\"outlinewidth\":0,\"ticks\":\"\"}}}],\"scatterpolargl\":[{\"type\":\"scatterpolargl\",\"marker\":{\"colorbar\":{\"outlinewidth\":0,\"ticks\":\"\"}}}],\"bar\":[{\"error_x\":{\"color\":\"#2a3f5f\"},\"error_y\":{\"color\":\"#2a3f5f\"},\"marker\":{\"line\":{\"color\":\"#E5ECF6\",\"width\":0.5},\"pattern\":{\"fillmode\":\"overlay\",\"size\":10,\"solidity\":0.2}},\"type\":\"bar\"}],\"scattergeo\":[{\"type\":\"scattergeo\",\"marker\":{\"colorbar\":{\"outlinewidth\":0,\"ticks\":\"\"}}}],\"scatterpolar\":[{\"type\":\"scatterpolar\",\"marker\":{\"colorbar\":{\"outlinewidth\":0,\"ticks\":\"\"}}}],\"histogram\":[{\"marker\":{\"pattern\":{\"fillmode\":\"overlay\",\"size\":10,\"solidity\":0.2}},\"type\":\"histogram\"}],\"scattergl\":[{\"type\":\"scattergl\",\"marker\":{\"colorbar\":{\"outlinewidth\":0,\"ticks\":\"\"}}}],\"scatter3d\":[{\"type\":\"scatter3d\",\"line\":{\"colorbar\":{\"outlinewidth\":0,\"ticks\":\"\"}},\"marker\":{\"colorbar\":{\"outlinewidth\":0,\"ticks\":\"\"}}}],\"scattermapbox\":[{\"type\":\"scattermapbox\",\"marker\":{\"colorbar\":{\"outlinewidth\":0,\"ticks\":\"\"}}}],\"scatterternary\":[{\"type\":\"scatterternary\",\"marker\":{\"colorbar\":{\"outlinewidth\":0,\"ticks\":\"\"}}}],\"scattercarpet\":[{\"type\":\"scattercarpet\",\"marker\":{\"colorbar\":{\"outlinewidth\":0,\"ticks\":\"\"}}}],\"carpet\":[{\"aaxis\":{\"endlinecolor\":\"#2a3f5f\",\"gridcolor\":\"white\",\"linecolor\":\"white\",\"minorgridcolor\":\"white\",\"startlinecolor\":\"#2a3f5f\"},\"baxis\":{\"endlinecolor\":\"#2a3f5f\",\"gridcolor\":\"white\",\"linecolor\":\"white\",\"minorgridcolor\":\"white\",\"startlinecolor\":\"#2a3f5f\"},\"type\":\"carpet\"}],\"table\":[{\"cells\":{\"fill\":{\"color\":\"#EBF0F8\"},\"line\":{\"color\":\"white\"}},\"header\":{\"fill\":{\"color\":\"#C8D4E3\"},\"line\":{\"color\":\"white\"}},\"type\":\"table\"}],\"barpolar\":[{\"marker\":{\"line\":{\"color\":\"#E5ECF6\",\"width\":0.5},\"pattern\":{\"fillmode\":\"overlay\",\"size\":10,\"solidity\":0.2}},\"type\":\"barpolar\"}],\"pie\":[{\"automargin\":true,\"type\":\"pie\"}]},\"layout\":{\"autotypenumbers\":\"strict\",\"colorway\":[\"#636efa\",\"#EF553B\",\"#00cc96\",\"#ab63fa\",\"#FFA15A\",\"#19d3f3\",\"#FF6692\",\"#B6E880\",\"#FF97FF\",\"#FECB52\"],\"font\":{\"color\":\"#2a3f5f\"},\"hovermode\":\"closest\",\"hoverlabel\":{\"align\":\"left\"},\"paper_bgcolor\":\"white\",\"plot_bgcolor\":\"#E5ECF6\",\"polar\":{\"bgcolor\":\"#E5ECF6\",\"angularaxis\":{\"gridcolor\":\"white\",\"linecolor\":\"white\",\"ticks\":\"\"},\"radialaxis\":{\"gridcolor\":\"white\",\"linecolor\":\"white\",\"ticks\":\"\"}},\"ternary\":{\"bgcolor\":\"#E5ECF6\",\"aaxis\":{\"gridcolor\":\"white\",\"linecolor\":\"white\",\"ticks\":\"\"},\"baxis\":{\"gridcolor\":\"white\",\"linecolor\":\"white\",\"ticks\":\"\"},\"caxis\":{\"gridcolor\":\"white\",\"linecolor\":\"white\",\"ticks\":\"\"}},\"coloraxis\":{\"colorbar\":{\"outlinewidth\":0,\"ticks\":\"\"}},\"colorscale\":{\"sequential\":[[0.0,\"#0d0887\"],[0.1111111111111111,\"#46039f\"],[0.2222222222222222,\"#7201a8\"],[0.3333333333333333,\"#9c179e\"],[0.4444444444444444,\"#bd3786\"],[0.5555555555555556,\"#d8576b\"],[0.6666666666666666,\"#ed7953\"],[0.7777777777777778,\"#fb9f3a\"],[0.8888888888888888,\"#fdca26\"],[1.0,\"#f0f921\"]],\"sequentialminus\":[[0.0,\"#0d0887\"],[0.1111111111111111,\"#46039f\"],[0.2222222222222222,\"#7201a8\"],[0.3333333333333333,\"#9c179e\"],[0.4444444444444444,\"#bd3786\"],[0.5555555555555556,\"#d8576b\"],[0.6666666666666666,\"#ed7953\"],[0.7777777777777778,\"#fb9f3a\"],[0.8888888888888888,\"#fdca26\"],[1.0,\"#f0f921\"]],\"diverging\":[[0,\"#8e0152\"],[0.1,\"#c51b7d\"],[0.2,\"#de77ae\"],[0.3,\"#f1b6da\"],[0.4,\"#fde0ef\"],[0.5,\"#f7f7f7\"],[0.6,\"#e6f5d0\"],[0.7,\"#b8e186\"],[0.8,\"#7fbc41\"],[0.9,\"#4d9221\"],[1,\"#276419\"]]},\"xaxis\":{\"gridcolor\":\"white\",\"linecolor\":\"white\",\"ticks\":\"\",\"title\":{\"standoff\":15},\"zerolinecolor\":\"white\",\"automargin\":true,\"zerolinewidth\":2},\"yaxis\":{\"gridcolor\":\"white\",\"linecolor\":\"white\",\"ticks\":\"\",\"title\":{\"standoff\":15},\"zerolinecolor\":\"white\",\"automargin\":true,\"zerolinewidth\":2},\"scene\":{\"xaxis\":{\"backgroundcolor\":\"#E5ECF6\",\"gridcolor\":\"white\",\"linecolor\":\"white\",\"showbackground\":true,\"ticks\":\"\",\"zerolinecolor\":\"white\",\"gridwidth\":2},\"yaxis\":{\"backgroundcolor\":\"#E5ECF6\",\"gridcolor\":\"white\",\"linecolor\":\"white\",\"showbackground\":true,\"ticks\":\"\",\"zerolinecolor\":\"white\",\"gridwidth\":2},\"zaxis\":{\"backgroundcolor\":\"#E5ECF6\",\"gridcolor\":\"white\",\"linecolor\":\"white\",\"showbackground\":true,\"ticks\":\"\",\"zerolinecolor\":\"white\",\"gridwidth\":2}},\"shapedefaults\":{\"line\":{\"color\":\"#2a3f5f\"}},\"annotationdefaults\":{\"arrowcolor\":\"#2a3f5f\",\"arrowhead\":0,\"arrowwidth\":1},\"geo\":{\"bgcolor\":\"white\",\"landcolor\":\"#E5ECF6\",\"subunitcolor\":\"white\",\"showland\":true,\"showlakes\":true,\"lakecolor\":\"white\"},\"title\":{\"x\":0.05},\"mapbox\":{\"style\":\"light\"}}},\"xaxis\":{\"anchor\":\"y\",\"domain\":[0.0,1.0],\"title\":{\"text\":\"Age\"}},\"yaxis\":{\"anchor\":\"x\",\"domain\":[0.0,1.0]},\"legend\":{\"tracegroupgap\":0},\"margin\":{\"t\":60},\"boxmode\":\"group\"},                        {\"responsive\": true}                    ).then(function(){\n",
       "                            \n",
       "var gd = document.getElementById('ff15129f-5afe-43b2-8018-fdb14028291f');\n",
       "var x = new MutationObserver(function (mutations, observer) {{\n",
       "        var display = window.getComputedStyle(gd).display;\n",
       "        if (!display || display === 'none') {{\n",
       "            console.log([gd, 'removed!']);\n",
       "            Plotly.purge(gd);\n",
       "            observer.disconnect();\n",
       "        }}\n",
       "}});\n",
       "\n",
       "// Listen for the removal of the full notebook cells\n",
       "var notebookContainer = gd.closest('#notebook-container');\n",
       "if (notebookContainer) {{\n",
       "    x.observe(notebookContainer, {childList: true});\n",
       "}}\n",
       "\n",
       "// Listen for the clearing of the current output cell\n",
       "var outputEl = gd.closest('.output');\n",
       "if (outputEl) {{\n",
       "    x.observe(outputEl, {childList: true});\n",
       "}}\n",
       "\n",
       "                        })                };                });            </script>        </div>"
      ]
     },
     "metadata": {},
     "output_type": "display_data"
    }
   ],
   "source": [
    "#Variable Age\n",
    "fig = px.box(df, x = \"Age\")\n",
    "fig.show()"
   ]
  },
  {
   "cell_type": "markdown",
   "id": "ce79c702",
   "metadata": {},
   "source": [
    "## Construir Datos"
   ]
  },
  {
   "cell_type": "markdown",
   "id": "fb332f44",
   "metadata": {},
   "source": [
    "1. Crearemos nuevas columnas de ser necesario a partir de las variables existentes.\n",
    "\n",
    "2. Realizaremos transformaciónes de valores para atributos existentes."
   ]
  },
  {
   "cell_type": "markdown",
   "id": "46e74a5a",
   "metadata": {},
   "source": [
    "## Requerimientos"
   ]
  },
  {
   "cell_type": "markdown",
   "id": "f97677da",
   "metadata": {},
   "source": [
    "A partir de los datos limpios se dará respuesta a las siguientes preguntas acompañado de una visualización"
   ]
  },
  {
   "cell_type": "markdown",
   "id": "148dbe92",
   "metadata": {},
   "source": [
    "1. ¿Cuánto es el promedio de ingresos de acuerdo con si la bicicleta fue comprada o no por el cliente?"
   ]
  },
  {
   "cell_type": "code",
   "execution_count": 979,
   "id": "ed8e0654",
   "metadata": {},
   "outputs": [
    {
     "name": "stdout",
     "output_type": "stream",
     "text": [
      "<class 'pandas.core.frame.DataFrame'>\n",
      "Int64Index: 989 entries, 0 to 999\n",
      "Data columns (total 13 columns):\n",
      " #   Column            Non-Null Count  Dtype  \n",
      "---  ------            --------------  -----  \n",
      " 0   ID                989 non-null    int64  \n",
      " 1   Marital Status    989 non-null    object \n",
      " 2   Gender            989 non-null    object \n",
      " 3   Income            989 non-null    float64\n",
      " 4   Children          989 non-null    float64\n",
      " 5   Education         989 non-null    object \n",
      " 6   Occupation        989 non-null    object \n",
      " 7   Home Owner        989 non-null    object \n",
      " 8   Cars              989 non-null    float64\n",
      " 9   Commute Distance  989 non-null    object \n",
      " 10  Region            989 non-null    object \n",
      " 11  Age               989 non-null    float64\n",
      " 12  Purchased Bike    989 non-null    object \n",
      "dtypes: float64(4), int64(1), object(8)\n",
      "memory usage: 108.2+ KB\n"
     ]
    }
   ],
   "source": [
    "df.info()"
   ]
  },
  {
   "cell_type": "code",
   "execution_count": 980,
   "id": "f826fbdb",
   "metadata": {},
   "outputs": [
    {
     "data": {
      "text/plain": [
       "Purchased Bike\n",
       "No     54598.825832\n",
       "Yes    57472.061566\n",
       "Name: Income, dtype: float64"
      ]
     },
     "execution_count": 980,
     "metadata": {},
     "output_type": "execute_result"
    }
   ],
   "source": [
    "df.groupby(\"Purchased Bike\")[\"Income\"].mean()"
   ]
  },
  {
   "cell_type": "markdown",
   "id": "44e01afd",
   "metadata": {},
   "source": [
    "2. ¿Cuánto es el promedio de ingresos según el estado civil del cliente?"
   ]
  },
  {
   "cell_type": "code",
   "execution_count": 981,
   "id": "4325060c",
   "metadata": {},
   "outputs": [
    {
     "data": {
      "text/plain": [
       "Marital Status\n",
       "Married    58377.499634\n",
       "Single     53227.822707\n",
       "Name: Income, dtype: float64"
      ]
     },
     "execution_count": 981,
     "metadata": {},
     "output_type": "execute_result"
    }
   ],
   "source": [
    "df.groupby(\"Marital Status\")[\"Income\"].mean()"
   ]
  },
  {
   "cell_type": "markdown",
   "id": "2a6bb8ee",
   "metadata": {},
   "source": [
    "3. Crear una nueva variable llamado Con_hijos, dónde Si: Children > 0, No: Children=0, para los clientes que si tienen hijos ¿Cuánto es el promedio de hijos según el nivel educativo del cliente?"
   ]
  },
  {
   "cell_type": "code",
   "execution_count": 982,
   "id": "c026cc86",
   "metadata": {},
   "outputs": [
    {
     "data": {
      "text/html": [
       "<div>\n",
       "<style scoped>\n",
       "    .dataframe tbody tr th:only-of-type {\n",
       "        vertical-align: middle;\n",
       "    }\n",
       "\n",
       "    .dataframe tbody tr th {\n",
       "        vertical-align: top;\n",
       "    }\n",
       "\n",
       "    .dataframe thead th {\n",
       "        text-align: right;\n",
       "    }\n",
       "</style>\n",
       "<table border=\"1\" class=\"dataframe\">\n",
       "  <thead>\n",
       "    <tr style=\"text-align: right;\">\n",
       "      <th></th>\n",
       "      <th>ID</th>\n",
       "      <th>Marital Status</th>\n",
       "      <th>Gender</th>\n",
       "      <th>Income</th>\n",
       "      <th>Children</th>\n",
       "      <th>Education</th>\n",
       "      <th>Occupation</th>\n",
       "      <th>Home Owner</th>\n",
       "      <th>Cars</th>\n",
       "      <th>Commute Distance</th>\n",
       "      <th>Region</th>\n",
       "      <th>Age</th>\n",
       "      <th>Purchased Bike</th>\n",
       "      <th>Con_hijos</th>\n",
       "    </tr>\n",
       "  </thead>\n",
       "  <tbody>\n",
       "    <tr>\n",
       "      <th>0</th>\n",
       "      <td>12496</td>\n",
       "      <td>Married</td>\n",
       "      <td>Female</td>\n",
       "      <td>40000.0</td>\n",
       "      <td>1.0</td>\n",
       "      <td>Bachelors</td>\n",
       "      <td>Skilled Manual</td>\n",
       "      <td>Yes</td>\n",
       "      <td>0.0</td>\n",
       "      <td>0-1 Miles</td>\n",
       "      <td>Europe</td>\n",
       "      <td>42.0</td>\n",
       "      <td>No</td>\n",
       "      <td>Si</td>\n",
       "    </tr>\n",
       "    <tr>\n",
       "      <th>1</th>\n",
       "      <td>24107</td>\n",
       "      <td>Married</td>\n",
       "      <td>Male</td>\n",
       "      <td>30000.0</td>\n",
       "      <td>3.0</td>\n",
       "      <td>Partial College</td>\n",
       "      <td>Clerical</td>\n",
       "      <td>Yes</td>\n",
       "      <td>1.0</td>\n",
       "      <td>0-1 Miles</td>\n",
       "      <td>Europe</td>\n",
       "      <td>43.0</td>\n",
       "      <td>No</td>\n",
       "      <td>Si</td>\n",
       "    </tr>\n",
       "    <tr>\n",
       "      <th>2</th>\n",
       "      <td>14177</td>\n",
       "      <td>Married</td>\n",
       "      <td>Male</td>\n",
       "      <td>80000.0</td>\n",
       "      <td>5.0</td>\n",
       "      <td>Partial College</td>\n",
       "      <td>Professional</td>\n",
       "      <td>No</td>\n",
       "      <td>2.0</td>\n",
       "      <td>2-5 Miles</td>\n",
       "      <td>Europe</td>\n",
       "      <td>60.0</td>\n",
       "      <td>No</td>\n",
       "      <td>Si</td>\n",
       "    </tr>\n",
       "    <tr>\n",
       "      <th>4</th>\n",
       "      <td>25597</td>\n",
       "      <td>Single</td>\n",
       "      <td>Male</td>\n",
       "      <td>30000.0</td>\n",
       "      <td>0.0</td>\n",
       "      <td>Bachelors</td>\n",
       "      <td>Clerical</td>\n",
       "      <td>No</td>\n",
       "      <td>0.0</td>\n",
       "      <td>0-1 Miles</td>\n",
       "      <td>Europe</td>\n",
       "      <td>36.0</td>\n",
       "      <td>Yes</td>\n",
       "      <td>No</td>\n",
       "    </tr>\n",
       "    <tr>\n",
       "      <th>5</th>\n",
       "      <td>13507</td>\n",
       "      <td>Married</td>\n",
       "      <td>Female</td>\n",
       "      <td>10000.0</td>\n",
       "      <td>2.0</td>\n",
       "      <td>Partial College</td>\n",
       "      <td>Manual</td>\n",
       "      <td>Yes</td>\n",
       "      <td>0.0</td>\n",
       "      <td>1-2 Miles</td>\n",
       "      <td>Europe</td>\n",
       "      <td>50.0</td>\n",
       "      <td>No</td>\n",
       "      <td>Si</td>\n",
       "    </tr>\n",
       "    <tr>\n",
       "      <th>...</th>\n",
       "      <td>...</td>\n",
       "      <td>...</td>\n",
       "      <td>...</td>\n",
       "      <td>...</td>\n",
       "      <td>...</td>\n",
       "      <td>...</td>\n",
       "      <td>...</td>\n",
       "      <td>...</td>\n",
       "      <td>...</td>\n",
       "      <td>...</td>\n",
       "      <td>...</td>\n",
       "      <td>...</td>\n",
       "      <td>...</td>\n",
       "      <td>...</td>\n",
       "    </tr>\n",
       "    <tr>\n",
       "      <th>994</th>\n",
       "      <td>13466</td>\n",
       "      <td>Married</td>\n",
       "      <td>Male</td>\n",
       "      <td>80000.0</td>\n",
       "      <td>5.0</td>\n",
       "      <td>Partial College</td>\n",
       "      <td>Professional</td>\n",
       "      <td>Yes</td>\n",
       "      <td>3.0</td>\n",
       "      <td>1-2 Miles</td>\n",
       "      <td>North America</td>\n",
       "      <td>46.0</td>\n",
       "      <td>No</td>\n",
       "      <td>Si</td>\n",
       "    </tr>\n",
       "    <tr>\n",
       "      <th>995</th>\n",
       "      <td>23731</td>\n",
       "      <td>Married</td>\n",
       "      <td>Male</td>\n",
       "      <td>60000.0</td>\n",
       "      <td>2.0</td>\n",
       "      <td>High School</td>\n",
       "      <td>Professional</td>\n",
       "      <td>Yes</td>\n",
       "      <td>2.0</td>\n",
       "      <td>2-5 Miles</td>\n",
       "      <td>North America</td>\n",
       "      <td>54.0</td>\n",
       "      <td>Yes</td>\n",
       "      <td>Si</td>\n",
       "    </tr>\n",
       "    <tr>\n",
       "      <th>996</th>\n",
       "      <td>28672</td>\n",
       "      <td>Single</td>\n",
       "      <td>Male</td>\n",
       "      <td>70000.0</td>\n",
       "      <td>4.0</td>\n",
       "      <td>Graduate Degree</td>\n",
       "      <td>Professional</td>\n",
       "      <td>Yes</td>\n",
       "      <td>0.0</td>\n",
       "      <td>2-5 Miles</td>\n",
       "      <td>North America</td>\n",
       "      <td>35.0</td>\n",
       "      <td>Yes</td>\n",
       "      <td>Si</td>\n",
       "    </tr>\n",
       "    <tr>\n",
       "      <th>998</th>\n",
       "      <td>19664</td>\n",
       "      <td>Single</td>\n",
       "      <td>Male</td>\n",
       "      <td>100000.0</td>\n",
       "      <td>3.0</td>\n",
       "      <td>Bachelors</td>\n",
       "      <td>Management</td>\n",
       "      <td>No</td>\n",
       "      <td>3.0</td>\n",
       "      <td>1-2 Miles</td>\n",
       "      <td>North America</td>\n",
       "      <td>38.0</td>\n",
       "      <td>No</td>\n",
       "      <td>Si</td>\n",
       "    </tr>\n",
       "    <tr>\n",
       "      <th>999</th>\n",
       "      <td>12121</td>\n",
       "      <td>Single</td>\n",
       "      <td>Male</td>\n",
       "      <td>60000.0</td>\n",
       "      <td>3.0</td>\n",
       "      <td>High School</td>\n",
       "      <td>Professional</td>\n",
       "      <td>Yes</td>\n",
       "      <td>2.0</td>\n",
       "      <td>10+ Miles</td>\n",
       "      <td>North America</td>\n",
       "      <td>53.0</td>\n",
       "      <td>Yes</td>\n",
       "      <td>Si</td>\n",
       "    </tr>\n",
       "  </tbody>\n",
       "</table>\n",
       "<p>989 rows × 14 columns</p>\n",
       "</div>"
      ],
      "text/plain": [
       "        ID Marital Status  Gender    Income  Children        Education  \\\n",
       "0    12496        Married  Female   40000.0       1.0        Bachelors   \n",
       "1    24107        Married    Male   30000.0       3.0  Partial College   \n",
       "2    14177        Married    Male   80000.0       5.0  Partial College   \n",
       "4    25597         Single    Male   30000.0       0.0        Bachelors   \n",
       "5    13507        Married  Female   10000.0       2.0  Partial College   \n",
       "..     ...            ...     ...       ...       ...              ...   \n",
       "994  13466        Married    Male   80000.0       5.0  Partial College   \n",
       "995  23731        Married    Male   60000.0       2.0      High School   \n",
       "996  28672         Single    Male   70000.0       4.0  Graduate Degree   \n",
       "998  19664         Single    Male  100000.0       3.0        Bachelors   \n",
       "999  12121         Single    Male   60000.0       3.0      High School   \n",
       "\n",
       "         Occupation Home Owner  Cars Commute Distance         Region   Age  \\\n",
       "0    Skilled Manual        Yes   0.0        0-1 Miles         Europe  42.0   \n",
       "1          Clerical        Yes   1.0        0-1 Miles         Europe  43.0   \n",
       "2      Professional         No   2.0        2-5 Miles         Europe  60.0   \n",
       "4          Clerical         No   0.0        0-1 Miles         Europe  36.0   \n",
       "5            Manual        Yes   0.0        1-2 Miles         Europe  50.0   \n",
       "..              ...        ...   ...              ...            ...   ...   \n",
       "994    Professional        Yes   3.0        1-2 Miles  North America  46.0   \n",
       "995    Professional        Yes   2.0        2-5 Miles  North America  54.0   \n",
       "996    Professional        Yes   0.0        2-5 Miles  North America  35.0   \n",
       "998      Management         No   3.0        1-2 Miles  North America  38.0   \n",
       "999    Professional        Yes   2.0        10+ Miles  North America  53.0   \n",
       "\n",
       "    Purchased Bike Con_hijos  \n",
       "0               No        Si  \n",
       "1               No        Si  \n",
       "2               No        Si  \n",
       "4              Yes        No  \n",
       "5               No        Si  \n",
       "..             ...       ...  \n",
       "994             No        Si  \n",
       "995            Yes        Si  \n",
       "996            Yes        Si  \n",
       "998             No        Si  \n",
       "999            Yes        Si  \n",
       "\n",
       "[989 rows x 14 columns]"
      ]
     },
     "execution_count": 982,
     "metadata": {},
     "output_type": "execute_result"
    }
   ],
   "source": [
    "df[\"Con_hijos\"] = df['Children'].apply(lambda x: 'Si' if x > 0 else 'No')\n",
    "df"
   ]
  },
  {
   "cell_type": "markdown",
   "id": "c63ff98d",
   "metadata": {},
   "source": [
    "4. Crear una nueva variable llamado Con_vehiculo, dónde Si: Cars>0, No: Cars=0, para los clientes que si tienen vehículo ¿Cuánto es el promedio de vehículos según la ocupación del cliente?"
   ]
  },
  {
   "cell_type": "code",
   "execution_count": 983,
   "id": "de7bee21",
   "metadata": {},
   "outputs": [
    {
     "data": {
      "text/html": [
       "<div>\n",
       "<style scoped>\n",
       "    .dataframe tbody tr th:only-of-type {\n",
       "        vertical-align: middle;\n",
       "    }\n",
       "\n",
       "    .dataframe tbody tr th {\n",
       "        vertical-align: top;\n",
       "    }\n",
       "\n",
       "    .dataframe thead th {\n",
       "        text-align: right;\n",
       "    }\n",
       "</style>\n",
       "<table border=\"1\" class=\"dataframe\">\n",
       "  <thead>\n",
       "    <tr style=\"text-align: right;\">\n",
       "      <th></th>\n",
       "      <th>ID</th>\n",
       "      <th>Marital Status</th>\n",
       "      <th>Gender</th>\n",
       "      <th>Income</th>\n",
       "      <th>Children</th>\n",
       "      <th>Education</th>\n",
       "      <th>Occupation</th>\n",
       "      <th>Home Owner</th>\n",
       "      <th>Cars</th>\n",
       "      <th>Commute Distance</th>\n",
       "      <th>Region</th>\n",
       "      <th>Age</th>\n",
       "      <th>Purchased Bike</th>\n",
       "      <th>Con_hijos</th>\n",
       "      <th>Con_vehiculo</th>\n",
       "    </tr>\n",
       "  </thead>\n",
       "  <tbody>\n",
       "    <tr>\n",
       "      <th>0</th>\n",
       "      <td>12496</td>\n",
       "      <td>Married</td>\n",
       "      <td>Female</td>\n",
       "      <td>40000.0</td>\n",
       "      <td>1.0</td>\n",
       "      <td>Bachelors</td>\n",
       "      <td>Skilled Manual</td>\n",
       "      <td>Yes</td>\n",
       "      <td>0.0</td>\n",
       "      <td>0-1 Miles</td>\n",
       "      <td>Europe</td>\n",
       "      <td>42.0</td>\n",
       "      <td>No</td>\n",
       "      <td>Si</td>\n",
       "      <td>No</td>\n",
       "    </tr>\n",
       "    <tr>\n",
       "      <th>1</th>\n",
       "      <td>24107</td>\n",
       "      <td>Married</td>\n",
       "      <td>Male</td>\n",
       "      <td>30000.0</td>\n",
       "      <td>3.0</td>\n",
       "      <td>Partial College</td>\n",
       "      <td>Clerical</td>\n",
       "      <td>Yes</td>\n",
       "      <td>1.0</td>\n",
       "      <td>0-1 Miles</td>\n",
       "      <td>Europe</td>\n",
       "      <td>43.0</td>\n",
       "      <td>No</td>\n",
       "      <td>Si</td>\n",
       "      <td>Si</td>\n",
       "    </tr>\n",
       "    <tr>\n",
       "      <th>2</th>\n",
       "      <td>14177</td>\n",
       "      <td>Married</td>\n",
       "      <td>Male</td>\n",
       "      <td>80000.0</td>\n",
       "      <td>5.0</td>\n",
       "      <td>Partial College</td>\n",
       "      <td>Professional</td>\n",
       "      <td>No</td>\n",
       "      <td>2.0</td>\n",
       "      <td>2-5 Miles</td>\n",
       "      <td>Europe</td>\n",
       "      <td>60.0</td>\n",
       "      <td>No</td>\n",
       "      <td>Si</td>\n",
       "      <td>Si</td>\n",
       "    </tr>\n",
       "    <tr>\n",
       "      <th>4</th>\n",
       "      <td>25597</td>\n",
       "      <td>Single</td>\n",
       "      <td>Male</td>\n",
       "      <td>30000.0</td>\n",
       "      <td>0.0</td>\n",
       "      <td>Bachelors</td>\n",
       "      <td>Clerical</td>\n",
       "      <td>No</td>\n",
       "      <td>0.0</td>\n",
       "      <td>0-1 Miles</td>\n",
       "      <td>Europe</td>\n",
       "      <td>36.0</td>\n",
       "      <td>Yes</td>\n",
       "      <td>No</td>\n",
       "      <td>No</td>\n",
       "    </tr>\n",
       "    <tr>\n",
       "      <th>5</th>\n",
       "      <td>13507</td>\n",
       "      <td>Married</td>\n",
       "      <td>Female</td>\n",
       "      <td>10000.0</td>\n",
       "      <td>2.0</td>\n",
       "      <td>Partial College</td>\n",
       "      <td>Manual</td>\n",
       "      <td>Yes</td>\n",
       "      <td>0.0</td>\n",
       "      <td>1-2 Miles</td>\n",
       "      <td>Europe</td>\n",
       "      <td>50.0</td>\n",
       "      <td>No</td>\n",
       "      <td>Si</td>\n",
       "      <td>No</td>\n",
       "    </tr>\n",
       "    <tr>\n",
       "      <th>...</th>\n",
       "      <td>...</td>\n",
       "      <td>...</td>\n",
       "      <td>...</td>\n",
       "      <td>...</td>\n",
       "      <td>...</td>\n",
       "      <td>...</td>\n",
       "      <td>...</td>\n",
       "      <td>...</td>\n",
       "      <td>...</td>\n",
       "      <td>...</td>\n",
       "      <td>...</td>\n",
       "      <td>...</td>\n",
       "      <td>...</td>\n",
       "      <td>...</td>\n",
       "      <td>...</td>\n",
       "    </tr>\n",
       "    <tr>\n",
       "      <th>994</th>\n",
       "      <td>13466</td>\n",
       "      <td>Married</td>\n",
       "      <td>Male</td>\n",
       "      <td>80000.0</td>\n",
       "      <td>5.0</td>\n",
       "      <td>Partial College</td>\n",
       "      <td>Professional</td>\n",
       "      <td>Yes</td>\n",
       "      <td>3.0</td>\n",
       "      <td>1-2 Miles</td>\n",
       "      <td>North America</td>\n",
       "      <td>46.0</td>\n",
       "      <td>No</td>\n",
       "      <td>Si</td>\n",
       "      <td>Si</td>\n",
       "    </tr>\n",
       "    <tr>\n",
       "      <th>995</th>\n",
       "      <td>23731</td>\n",
       "      <td>Married</td>\n",
       "      <td>Male</td>\n",
       "      <td>60000.0</td>\n",
       "      <td>2.0</td>\n",
       "      <td>High School</td>\n",
       "      <td>Professional</td>\n",
       "      <td>Yes</td>\n",
       "      <td>2.0</td>\n",
       "      <td>2-5 Miles</td>\n",
       "      <td>North America</td>\n",
       "      <td>54.0</td>\n",
       "      <td>Yes</td>\n",
       "      <td>Si</td>\n",
       "      <td>Si</td>\n",
       "    </tr>\n",
       "    <tr>\n",
       "      <th>996</th>\n",
       "      <td>28672</td>\n",
       "      <td>Single</td>\n",
       "      <td>Male</td>\n",
       "      <td>70000.0</td>\n",
       "      <td>4.0</td>\n",
       "      <td>Graduate Degree</td>\n",
       "      <td>Professional</td>\n",
       "      <td>Yes</td>\n",
       "      <td>0.0</td>\n",
       "      <td>2-5 Miles</td>\n",
       "      <td>North America</td>\n",
       "      <td>35.0</td>\n",
       "      <td>Yes</td>\n",
       "      <td>Si</td>\n",
       "      <td>No</td>\n",
       "    </tr>\n",
       "    <tr>\n",
       "      <th>998</th>\n",
       "      <td>19664</td>\n",
       "      <td>Single</td>\n",
       "      <td>Male</td>\n",
       "      <td>100000.0</td>\n",
       "      <td>3.0</td>\n",
       "      <td>Bachelors</td>\n",
       "      <td>Management</td>\n",
       "      <td>No</td>\n",
       "      <td>3.0</td>\n",
       "      <td>1-2 Miles</td>\n",
       "      <td>North America</td>\n",
       "      <td>38.0</td>\n",
       "      <td>No</td>\n",
       "      <td>Si</td>\n",
       "      <td>Si</td>\n",
       "    </tr>\n",
       "    <tr>\n",
       "      <th>999</th>\n",
       "      <td>12121</td>\n",
       "      <td>Single</td>\n",
       "      <td>Male</td>\n",
       "      <td>60000.0</td>\n",
       "      <td>3.0</td>\n",
       "      <td>High School</td>\n",
       "      <td>Professional</td>\n",
       "      <td>Yes</td>\n",
       "      <td>2.0</td>\n",
       "      <td>10+ Miles</td>\n",
       "      <td>North America</td>\n",
       "      <td>53.0</td>\n",
       "      <td>Yes</td>\n",
       "      <td>Si</td>\n",
       "      <td>Si</td>\n",
       "    </tr>\n",
       "  </tbody>\n",
       "</table>\n",
       "<p>989 rows × 15 columns</p>\n",
       "</div>"
      ],
      "text/plain": [
       "        ID Marital Status  Gender    Income  Children        Education  \\\n",
       "0    12496        Married  Female   40000.0       1.0        Bachelors   \n",
       "1    24107        Married    Male   30000.0       3.0  Partial College   \n",
       "2    14177        Married    Male   80000.0       5.0  Partial College   \n",
       "4    25597         Single    Male   30000.0       0.0        Bachelors   \n",
       "5    13507        Married  Female   10000.0       2.0  Partial College   \n",
       "..     ...            ...     ...       ...       ...              ...   \n",
       "994  13466        Married    Male   80000.0       5.0  Partial College   \n",
       "995  23731        Married    Male   60000.0       2.0      High School   \n",
       "996  28672         Single    Male   70000.0       4.0  Graduate Degree   \n",
       "998  19664         Single    Male  100000.0       3.0        Bachelors   \n",
       "999  12121         Single    Male   60000.0       3.0      High School   \n",
       "\n",
       "         Occupation Home Owner  Cars Commute Distance         Region   Age  \\\n",
       "0    Skilled Manual        Yes   0.0        0-1 Miles         Europe  42.0   \n",
       "1          Clerical        Yes   1.0        0-1 Miles         Europe  43.0   \n",
       "2      Professional         No   2.0        2-5 Miles         Europe  60.0   \n",
       "4          Clerical         No   0.0        0-1 Miles         Europe  36.0   \n",
       "5            Manual        Yes   0.0        1-2 Miles         Europe  50.0   \n",
       "..              ...        ...   ...              ...            ...   ...   \n",
       "994    Professional        Yes   3.0        1-2 Miles  North America  46.0   \n",
       "995    Professional        Yes   2.0        2-5 Miles  North America  54.0   \n",
       "996    Professional        Yes   0.0        2-5 Miles  North America  35.0   \n",
       "998      Management         No   3.0        1-2 Miles  North America  38.0   \n",
       "999    Professional        Yes   2.0        10+ Miles  North America  53.0   \n",
       "\n",
       "    Purchased Bike Con_hijos Con_vehiculo  \n",
       "0               No        Si           No  \n",
       "1               No        Si           Si  \n",
       "2               No        Si           Si  \n",
       "4              Yes        No           No  \n",
       "5               No        Si           No  \n",
       "..             ...       ...          ...  \n",
       "994             No        Si           Si  \n",
       "995            Yes        Si           Si  \n",
       "996            Yes        Si           No  \n",
       "998             No        Si           Si  \n",
       "999            Yes        Si           Si  \n",
       "\n",
       "[989 rows x 15 columns]"
      ]
     },
     "execution_count": 983,
     "metadata": {},
     "output_type": "execute_result"
    }
   ],
   "source": [
    "df[\"Con_vehiculo\"] = df['Cars'].apply(lambda x: 'Si' if x > 0 else 'No')\n",
    "df"
   ]
  },
  {
   "cell_type": "markdown",
   "id": "8c23aca7",
   "metadata": {},
   "source": [
    "5. ¿Cuánto es el promedio de edad de acuerdo con si el cliente es o no propietario de una vivienda?"
   ]
  },
  {
   "cell_type": "code",
   "execution_count": 984,
   "id": "fbb912d2",
   "metadata": {},
   "outputs": [
    {
     "data": {
      "text/plain": [
       "Home Owner\n",
       "No     42.305117\n",
       "Yes    45.100608\n",
       "Name: Age, dtype: float64"
      ]
     },
     "execution_count": 984,
     "metadata": {},
     "output_type": "execute_result"
    }
   ],
   "source": [
    "df.groupby(\"Home Owner\")[\"Age\"].mean()"
   ]
  },
  {
   "attachments": {},
   "cell_type": "markdown",
   "id": "c70004d3",
   "metadata": {},
   "source": [
    "# Requerimientos"
   ]
  },
  {
   "attachments": {},
   "cell_type": "markdown",
   "id": "cfda7ffb",
   "metadata": {},
   "source": [
    "## ¿Cuánto es el promedio de ingresos de acuerdo con si la bicicleta fue comprada o no por el cliente?"
   ]
  },
  {
   "cell_type": "code",
   "execution_count": 985,
   "id": "f9515b0c",
   "metadata": {},
   "outputs": [
    {
     "data": {
      "application/vnd.plotly.v1+json": {
       "config": {
        "plotlyServerURL": "https://plot.ly"
       },
       "data": [
        {
         "alignmentgroup": "True",
         "hovertemplate": "Purchased Bike=%{x}<br>Income=%{y}<extra></extra>",
         "legendgroup": "",
         "marker": {
          "color": "#636efa",
          "pattern": {
           "shape": ""
          }
         },
         "name": "",
         "offsetgroup": "",
         "orientation": "v",
         "showlegend": false,
         "textposition": "auto",
         "type": "bar",
         "x": [
          "No",
          "Yes"
         ],
         "xaxis": "x",
         "y": [
          54598.82583170255,
          57472.06156623401
         ],
         "yaxis": "y"
        }
       ],
       "layout": {
        "barmode": "relative",
        "legend": {
         "tracegroupgap": 0
        },
        "template": {
         "data": {
          "bar": [
           {
            "error_x": {
             "color": "#2a3f5f"
            },
            "error_y": {
             "color": "#2a3f5f"
            },
            "marker": {
             "line": {
              "color": "#E5ECF6",
              "width": 0.5
             },
             "pattern": {
              "fillmode": "overlay",
              "size": 10,
              "solidity": 0.2
             }
            },
            "type": "bar"
           }
          ],
          "barpolar": [
           {
            "marker": {
             "line": {
              "color": "#E5ECF6",
              "width": 0.5
             },
             "pattern": {
              "fillmode": "overlay",
              "size": 10,
              "solidity": 0.2
             }
            },
            "type": "barpolar"
           }
          ],
          "carpet": [
           {
            "aaxis": {
             "endlinecolor": "#2a3f5f",
             "gridcolor": "white",
             "linecolor": "white",
             "minorgridcolor": "white",
             "startlinecolor": "#2a3f5f"
            },
            "baxis": {
             "endlinecolor": "#2a3f5f",
             "gridcolor": "white",
             "linecolor": "white",
             "minorgridcolor": "white",
             "startlinecolor": "#2a3f5f"
            },
            "type": "carpet"
           }
          ],
          "choropleth": [
           {
            "colorbar": {
             "outlinewidth": 0,
             "ticks": ""
            },
            "type": "choropleth"
           }
          ],
          "contour": [
           {
            "colorbar": {
             "outlinewidth": 0,
             "ticks": ""
            },
            "colorscale": [
             [
              0,
              "#0d0887"
             ],
             [
              0.1111111111111111,
              "#46039f"
             ],
             [
              0.2222222222222222,
              "#7201a8"
             ],
             [
              0.3333333333333333,
              "#9c179e"
             ],
             [
              0.4444444444444444,
              "#bd3786"
             ],
             [
              0.5555555555555556,
              "#d8576b"
             ],
             [
              0.6666666666666666,
              "#ed7953"
             ],
             [
              0.7777777777777778,
              "#fb9f3a"
             ],
             [
              0.8888888888888888,
              "#fdca26"
             ],
             [
              1,
              "#f0f921"
             ]
            ],
            "type": "contour"
           }
          ],
          "contourcarpet": [
           {
            "colorbar": {
             "outlinewidth": 0,
             "ticks": ""
            },
            "type": "contourcarpet"
           }
          ],
          "heatmap": [
           {
            "colorbar": {
             "outlinewidth": 0,
             "ticks": ""
            },
            "colorscale": [
             [
              0,
              "#0d0887"
             ],
             [
              0.1111111111111111,
              "#46039f"
             ],
             [
              0.2222222222222222,
              "#7201a8"
             ],
             [
              0.3333333333333333,
              "#9c179e"
             ],
             [
              0.4444444444444444,
              "#bd3786"
             ],
             [
              0.5555555555555556,
              "#d8576b"
             ],
             [
              0.6666666666666666,
              "#ed7953"
             ],
             [
              0.7777777777777778,
              "#fb9f3a"
             ],
             [
              0.8888888888888888,
              "#fdca26"
             ],
             [
              1,
              "#f0f921"
             ]
            ],
            "type": "heatmap"
           }
          ],
          "heatmapgl": [
           {
            "colorbar": {
             "outlinewidth": 0,
             "ticks": ""
            },
            "colorscale": [
             [
              0,
              "#0d0887"
             ],
             [
              0.1111111111111111,
              "#46039f"
             ],
             [
              0.2222222222222222,
              "#7201a8"
             ],
             [
              0.3333333333333333,
              "#9c179e"
             ],
             [
              0.4444444444444444,
              "#bd3786"
             ],
             [
              0.5555555555555556,
              "#d8576b"
             ],
             [
              0.6666666666666666,
              "#ed7953"
             ],
             [
              0.7777777777777778,
              "#fb9f3a"
             ],
             [
              0.8888888888888888,
              "#fdca26"
             ],
             [
              1,
              "#f0f921"
             ]
            ],
            "type": "heatmapgl"
           }
          ],
          "histogram": [
           {
            "marker": {
             "pattern": {
              "fillmode": "overlay",
              "size": 10,
              "solidity": 0.2
             }
            },
            "type": "histogram"
           }
          ],
          "histogram2d": [
           {
            "colorbar": {
             "outlinewidth": 0,
             "ticks": ""
            },
            "colorscale": [
             [
              0,
              "#0d0887"
             ],
             [
              0.1111111111111111,
              "#46039f"
             ],
             [
              0.2222222222222222,
              "#7201a8"
             ],
             [
              0.3333333333333333,
              "#9c179e"
             ],
             [
              0.4444444444444444,
              "#bd3786"
             ],
             [
              0.5555555555555556,
              "#d8576b"
             ],
             [
              0.6666666666666666,
              "#ed7953"
             ],
             [
              0.7777777777777778,
              "#fb9f3a"
             ],
             [
              0.8888888888888888,
              "#fdca26"
             ],
             [
              1,
              "#f0f921"
             ]
            ],
            "type": "histogram2d"
           }
          ],
          "histogram2dcontour": [
           {
            "colorbar": {
             "outlinewidth": 0,
             "ticks": ""
            },
            "colorscale": [
             [
              0,
              "#0d0887"
             ],
             [
              0.1111111111111111,
              "#46039f"
             ],
             [
              0.2222222222222222,
              "#7201a8"
             ],
             [
              0.3333333333333333,
              "#9c179e"
             ],
             [
              0.4444444444444444,
              "#bd3786"
             ],
             [
              0.5555555555555556,
              "#d8576b"
             ],
             [
              0.6666666666666666,
              "#ed7953"
             ],
             [
              0.7777777777777778,
              "#fb9f3a"
             ],
             [
              0.8888888888888888,
              "#fdca26"
             ],
             [
              1,
              "#f0f921"
             ]
            ],
            "type": "histogram2dcontour"
           }
          ],
          "mesh3d": [
           {
            "colorbar": {
             "outlinewidth": 0,
             "ticks": ""
            },
            "type": "mesh3d"
           }
          ],
          "parcoords": [
           {
            "line": {
             "colorbar": {
              "outlinewidth": 0,
              "ticks": ""
             }
            },
            "type": "parcoords"
           }
          ],
          "pie": [
           {
            "automargin": true,
            "type": "pie"
           }
          ],
          "scatter": [
           {
            "fillpattern": {
             "fillmode": "overlay",
             "size": 10,
             "solidity": 0.2
            },
            "type": "scatter"
           }
          ],
          "scatter3d": [
           {
            "line": {
             "colorbar": {
              "outlinewidth": 0,
              "ticks": ""
             }
            },
            "marker": {
             "colorbar": {
              "outlinewidth": 0,
              "ticks": ""
             }
            },
            "type": "scatter3d"
           }
          ],
          "scattercarpet": [
           {
            "marker": {
             "colorbar": {
              "outlinewidth": 0,
              "ticks": ""
             }
            },
            "type": "scattercarpet"
           }
          ],
          "scattergeo": [
           {
            "marker": {
             "colorbar": {
              "outlinewidth": 0,
              "ticks": ""
             }
            },
            "type": "scattergeo"
           }
          ],
          "scattergl": [
           {
            "marker": {
             "colorbar": {
              "outlinewidth": 0,
              "ticks": ""
             }
            },
            "type": "scattergl"
           }
          ],
          "scattermapbox": [
           {
            "marker": {
             "colorbar": {
              "outlinewidth": 0,
              "ticks": ""
             }
            },
            "type": "scattermapbox"
           }
          ],
          "scatterpolar": [
           {
            "marker": {
             "colorbar": {
              "outlinewidth": 0,
              "ticks": ""
             }
            },
            "type": "scatterpolar"
           }
          ],
          "scatterpolargl": [
           {
            "marker": {
             "colorbar": {
              "outlinewidth": 0,
              "ticks": ""
             }
            },
            "type": "scatterpolargl"
           }
          ],
          "scatterternary": [
           {
            "marker": {
             "colorbar": {
              "outlinewidth": 0,
              "ticks": ""
             }
            },
            "type": "scatterternary"
           }
          ],
          "surface": [
           {
            "colorbar": {
             "outlinewidth": 0,
             "ticks": ""
            },
            "colorscale": [
             [
              0,
              "#0d0887"
             ],
             [
              0.1111111111111111,
              "#46039f"
             ],
             [
              0.2222222222222222,
              "#7201a8"
             ],
             [
              0.3333333333333333,
              "#9c179e"
             ],
             [
              0.4444444444444444,
              "#bd3786"
             ],
             [
              0.5555555555555556,
              "#d8576b"
             ],
             [
              0.6666666666666666,
              "#ed7953"
             ],
             [
              0.7777777777777778,
              "#fb9f3a"
             ],
             [
              0.8888888888888888,
              "#fdca26"
             ],
             [
              1,
              "#f0f921"
             ]
            ],
            "type": "surface"
           }
          ],
          "table": [
           {
            "cells": {
             "fill": {
              "color": "#EBF0F8"
             },
             "line": {
              "color": "white"
             }
            },
            "header": {
             "fill": {
              "color": "#C8D4E3"
             },
             "line": {
              "color": "white"
             }
            },
            "type": "table"
           }
          ]
         },
         "layout": {
          "annotationdefaults": {
           "arrowcolor": "#2a3f5f",
           "arrowhead": 0,
           "arrowwidth": 1
          },
          "autotypenumbers": "strict",
          "coloraxis": {
           "colorbar": {
            "outlinewidth": 0,
            "ticks": ""
           }
          },
          "colorscale": {
           "diverging": [
            [
             0,
             "#8e0152"
            ],
            [
             0.1,
             "#c51b7d"
            ],
            [
             0.2,
             "#de77ae"
            ],
            [
             0.3,
             "#f1b6da"
            ],
            [
             0.4,
             "#fde0ef"
            ],
            [
             0.5,
             "#f7f7f7"
            ],
            [
             0.6,
             "#e6f5d0"
            ],
            [
             0.7,
             "#b8e186"
            ],
            [
             0.8,
             "#7fbc41"
            ],
            [
             0.9,
             "#4d9221"
            ],
            [
             1,
             "#276419"
            ]
           ],
           "sequential": [
            [
             0,
             "#0d0887"
            ],
            [
             0.1111111111111111,
             "#46039f"
            ],
            [
             0.2222222222222222,
             "#7201a8"
            ],
            [
             0.3333333333333333,
             "#9c179e"
            ],
            [
             0.4444444444444444,
             "#bd3786"
            ],
            [
             0.5555555555555556,
             "#d8576b"
            ],
            [
             0.6666666666666666,
             "#ed7953"
            ],
            [
             0.7777777777777778,
             "#fb9f3a"
            ],
            [
             0.8888888888888888,
             "#fdca26"
            ],
            [
             1,
             "#f0f921"
            ]
           ],
           "sequentialminus": [
            [
             0,
             "#0d0887"
            ],
            [
             0.1111111111111111,
             "#46039f"
            ],
            [
             0.2222222222222222,
             "#7201a8"
            ],
            [
             0.3333333333333333,
             "#9c179e"
            ],
            [
             0.4444444444444444,
             "#bd3786"
            ],
            [
             0.5555555555555556,
             "#d8576b"
            ],
            [
             0.6666666666666666,
             "#ed7953"
            ],
            [
             0.7777777777777778,
             "#fb9f3a"
            ],
            [
             0.8888888888888888,
             "#fdca26"
            ],
            [
             1,
             "#f0f921"
            ]
           ]
          },
          "colorway": [
           "#636efa",
           "#EF553B",
           "#00cc96",
           "#ab63fa",
           "#FFA15A",
           "#19d3f3",
           "#FF6692",
           "#B6E880",
           "#FF97FF",
           "#FECB52"
          ],
          "font": {
           "color": "#2a3f5f"
          },
          "geo": {
           "bgcolor": "white",
           "lakecolor": "white",
           "landcolor": "#E5ECF6",
           "showlakes": true,
           "showland": true,
           "subunitcolor": "white"
          },
          "hoverlabel": {
           "align": "left"
          },
          "hovermode": "closest",
          "mapbox": {
           "style": "light"
          },
          "paper_bgcolor": "white",
          "plot_bgcolor": "#E5ECF6",
          "polar": {
           "angularaxis": {
            "gridcolor": "white",
            "linecolor": "white",
            "ticks": ""
           },
           "bgcolor": "#E5ECF6",
           "radialaxis": {
            "gridcolor": "white",
            "linecolor": "white",
            "ticks": ""
           }
          },
          "scene": {
           "xaxis": {
            "backgroundcolor": "#E5ECF6",
            "gridcolor": "white",
            "gridwidth": 2,
            "linecolor": "white",
            "showbackground": true,
            "ticks": "",
            "zerolinecolor": "white"
           },
           "yaxis": {
            "backgroundcolor": "#E5ECF6",
            "gridcolor": "white",
            "gridwidth": 2,
            "linecolor": "white",
            "showbackground": true,
            "ticks": "",
            "zerolinecolor": "white"
           },
           "zaxis": {
            "backgroundcolor": "#E5ECF6",
            "gridcolor": "white",
            "gridwidth": 2,
            "linecolor": "white",
            "showbackground": true,
            "ticks": "",
            "zerolinecolor": "white"
           }
          },
          "shapedefaults": {
           "line": {
            "color": "#2a3f5f"
           }
          },
          "ternary": {
           "aaxis": {
            "gridcolor": "white",
            "linecolor": "white",
            "ticks": ""
           },
           "baxis": {
            "gridcolor": "white",
            "linecolor": "white",
            "ticks": ""
           },
           "bgcolor": "#E5ECF6",
           "caxis": {
            "gridcolor": "white",
            "linecolor": "white",
            "ticks": ""
           }
          },
          "title": {
           "x": 0.05
          },
          "xaxis": {
           "automargin": true,
           "gridcolor": "white",
           "linecolor": "white",
           "ticks": "",
           "title": {
            "standoff": 15
           },
           "zerolinecolor": "white",
           "zerolinewidth": 2
          },
          "yaxis": {
           "automargin": true,
           "gridcolor": "white",
           "linecolor": "white",
           "ticks": "",
           "title": {
            "standoff": 15
           },
           "zerolinecolor": "white",
           "zerolinewidth": 2
          }
         }
        },
        "title": {
         "text": "Promedio de ingresos según compra de bicicleta"
        },
        "xaxis": {
         "anchor": "y",
         "domain": [
          0,
          1
         ],
         "title": {
          "text": "Purchased Bike"
         }
        },
        "yaxis": {
         "anchor": "x",
         "domain": [
          0,
          1
         ],
         "title": {
          "text": "Income"
         }
        }
       }
      },
      "text/html": [
       "<div>                            <div id=\"09def111-1f18-471b-9ba7-15e7ada186b1\" class=\"plotly-graph-div\" style=\"height:525px; width:100%;\"></div>            <script type=\"text/javascript\">                require([\"plotly\"], function(Plotly) {                    window.PLOTLYENV=window.PLOTLYENV || {};                                    if (document.getElementById(\"09def111-1f18-471b-9ba7-15e7ada186b1\")) {                    Plotly.newPlot(                        \"09def111-1f18-471b-9ba7-15e7ada186b1\",                        [{\"alignmentgroup\":\"True\",\"hovertemplate\":\"Purchased Bike=%{x}\\u003cbr\\u003eIncome=%{y}\\u003cextra\\u003e\\u003c\\u002fextra\\u003e\",\"legendgroup\":\"\",\"marker\":{\"color\":\"#636efa\",\"pattern\":{\"shape\":\"\"}},\"name\":\"\",\"offsetgroup\":\"\",\"orientation\":\"v\",\"showlegend\":false,\"textposition\":\"auto\",\"x\":[\"No\",\"Yes\"],\"xaxis\":\"x\",\"y\":[54598.82583170255,57472.06156623401],\"yaxis\":\"y\",\"type\":\"bar\"}],                        {\"template\":{\"data\":{\"histogram2dcontour\":[{\"type\":\"histogram2dcontour\",\"colorbar\":{\"outlinewidth\":0,\"ticks\":\"\"},\"colorscale\":[[0.0,\"#0d0887\"],[0.1111111111111111,\"#46039f\"],[0.2222222222222222,\"#7201a8\"],[0.3333333333333333,\"#9c179e\"],[0.4444444444444444,\"#bd3786\"],[0.5555555555555556,\"#d8576b\"],[0.6666666666666666,\"#ed7953\"],[0.7777777777777778,\"#fb9f3a\"],[0.8888888888888888,\"#fdca26\"],[1.0,\"#f0f921\"]]}],\"choropleth\":[{\"type\":\"choropleth\",\"colorbar\":{\"outlinewidth\":0,\"ticks\":\"\"}}],\"histogram2d\":[{\"type\":\"histogram2d\",\"colorbar\":{\"outlinewidth\":0,\"ticks\":\"\"},\"colorscale\":[[0.0,\"#0d0887\"],[0.1111111111111111,\"#46039f\"],[0.2222222222222222,\"#7201a8\"],[0.3333333333333333,\"#9c179e\"],[0.4444444444444444,\"#bd3786\"],[0.5555555555555556,\"#d8576b\"],[0.6666666666666666,\"#ed7953\"],[0.7777777777777778,\"#fb9f3a\"],[0.8888888888888888,\"#fdca26\"],[1.0,\"#f0f921\"]]}],\"heatmap\":[{\"type\":\"heatmap\",\"colorbar\":{\"outlinewidth\":0,\"ticks\":\"\"},\"colorscale\":[[0.0,\"#0d0887\"],[0.1111111111111111,\"#46039f\"],[0.2222222222222222,\"#7201a8\"],[0.3333333333333333,\"#9c179e\"],[0.4444444444444444,\"#bd3786\"],[0.5555555555555556,\"#d8576b\"],[0.6666666666666666,\"#ed7953\"],[0.7777777777777778,\"#fb9f3a\"],[0.8888888888888888,\"#fdca26\"],[1.0,\"#f0f921\"]]}],\"heatmapgl\":[{\"type\":\"heatmapgl\",\"colorbar\":{\"outlinewidth\":0,\"ticks\":\"\"},\"colorscale\":[[0.0,\"#0d0887\"],[0.1111111111111111,\"#46039f\"],[0.2222222222222222,\"#7201a8\"],[0.3333333333333333,\"#9c179e\"],[0.4444444444444444,\"#bd3786\"],[0.5555555555555556,\"#d8576b\"],[0.6666666666666666,\"#ed7953\"],[0.7777777777777778,\"#fb9f3a\"],[0.8888888888888888,\"#fdca26\"],[1.0,\"#f0f921\"]]}],\"contourcarpet\":[{\"type\":\"contourcarpet\",\"colorbar\":{\"outlinewidth\":0,\"ticks\":\"\"}}],\"contour\":[{\"type\":\"contour\",\"colorbar\":{\"outlinewidth\":0,\"ticks\":\"\"},\"colorscale\":[[0.0,\"#0d0887\"],[0.1111111111111111,\"#46039f\"],[0.2222222222222222,\"#7201a8\"],[0.3333333333333333,\"#9c179e\"],[0.4444444444444444,\"#bd3786\"],[0.5555555555555556,\"#d8576b\"],[0.6666666666666666,\"#ed7953\"],[0.7777777777777778,\"#fb9f3a\"],[0.8888888888888888,\"#fdca26\"],[1.0,\"#f0f921\"]]}],\"surface\":[{\"type\":\"surface\",\"colorbar\":{\"outlinewidth\":0,\"ticks\":\"\"},\"colorscale\":[[0.0,\"#0d0887\"],[0.1111111111111111,\"#46039f\"],[0.2222222222222222,\"#7201a8\"],[0.3333333333333333,\"#9c179e\"],[0.4444444444444444,\"#bd3786\"],[0.5555555555555556,\"#d8576b\"],[0.6666666666666666,\"#ed7953\"],[0.7777777777777778,\"#fb9f3a\"],[0.8888888888888888,\"#fdca26\"],[1.0,\"#f0f921\"]]}],\"mesh3d\":[{\"type\":\"mesh3d\",\"colorbar\":{\"outlinewidth\":0,\"ticks\":\"\"}}],\"scatter\":[{\"fillpattern\":{\"fillmode\":\"overlay\",\"size\":10,\"solidity\":0.2},\"type\":\"scatter\"}],\"parcoords\":[{\"type\":\"parcoords\",\"line\":{\"colorbar\":{\"outlinewidth\":0,\"ticks\":\"\"}}}],\"scatterpolargl\":[{\"type\":\"scatterpolargl\",\"marker\":{\"colorbar\":{\"outlinewidth\":0,\"ticks\":\"\"}}}],\"bar\":[{\"error_x\":{\"color\":\"#2a3f5f\"},\"error_y\":{\"color\":\"#2a3f5f\"},\"marker\":{\"line\":{\"color\":\"#E5ECF6\",\"width\":0.5},\"pattern\":{\"fillmode\":\"overlay\",\"size\":10,\"solidity\":0.2}},\"type\":\"bar\"}],\"scattergeo\":[{\"type\":\"scattergeo\",\"marker\":{\"colorbar\":{\"outlinewidth\":0,\"ticks\":\"\"}}}],\"scatterpolar\":[{\"type\":\"scatterpolar\",\"marker\":{\"colorbar\":{\"outlinewidth\":0,\"ticks\":\"\"}}}],\"histogram\":[{\"marker\":{\"pattern\":{\"fillmode\":\"overlay\",\"size\":10,\"solidity\":0.2}},\"type\":\"histogram\"}],\"scattergl\":[{\"type\":\"scattergl\",\"marker\":{\"colorbar\":{\"outlinewidth\":0,\"ticks\":\"\"}}}],\"scatter3d\":[{\"type\":\"scatter3d\",\"line\":{\"colorbar\":{\"outlinewidth\":0,\"ticks\":\"\"}},\"marker\":{\"colorbar\":{\"outlinewidth\":0,\"ticks\":\"\"}}}],\"scattermapbox\":[{\"type\":\"scattermapbox\",\"marker\":{\"colorbar\":{\"outlinewidth\":0,\"ticks\":\"\"}}}],\"scatterternary\":[{\"type\":\"scatterternary\",\"marker\":{\"colorbar\":{\"outlinewidth\":0,\"ticks\":\"\"}}}],\"scattercarpet\":[{\"type\":\"scattercarpet\",\"marker\":{\"colorbar\":{\"outlinewidth\":0,\"ticks\":\"\"}}}],\"carpet\":[{\"aaxis\":{\"endlinecolor\":\"#2a3f5f\",\"gridcolor\":\"white\",\"linecolor\":\"white\",\"minorgridcolor\":\"white\",\"startlinecolor\":\"#2a3f5f\"},\"baxis\":{\"endlinecolor\":\"#2a3f5f\",\"gridcolor\":\"white\",\"linecolor\":\"white\",\"minorgridcolor\":\"white\",\"startlinecolor\":\"#2a3f5f\"},\"type\":\"carpet\"}],\"table\":[{\"cells\":{\"fill\":{\"color\":\"#EBF0F8\"},\"line\":{\"color\":\"white\"}},\"header\":{\"fill\":{\"color\":\"#C8D4E3\"},\"line\":{\"color\":\"white\"}},\"type\":\"table\"}],\"barpolar\":[{\"marker\":{\"line\":{\"color\":\"#E5ECF6\",\"width\":0.5},\"pattern\":{\"fillmode\":\"overlay\",\"size\":10,\"solidity\":0.2}},\"type\":\"barpolar\"}],\"pie\":[{\"automargin\":true,\"type\":\"pie\"}]},\"layout\":{\"autotypenumbers\":\"strict\",\"colorway\":[\"#636efa\",\"#EF553B\",\"#00cc96\",\"#ab63fa\",\"#FFA15A\",\"#19d3f3\",\"#FF6692\",\"#B6E880\",\"#FF97FF\",\"#FECB52\"],\"font\":{\"color\":\"#2a3f5f\"},\"hovermode\":\"closest\",\"hoverlabel\":{\"align\":\"left\"},\"paper_bgcolor\":\"white\",\"plot_bgcolor\":\"#E5ECF6\",\"polar\":{\"bgcolor\":\"#E5ECF6\",\"angularaxis\":{\"gridcolor\":\"white\",\"linecolor\":\"white\",\"ticks\":\"\"},\"radialaxis\":{\"gridcolor\":\"white\",\"linecolor\":\"white\",\"ticks\":\"\"}},\"ternary\":{\"bgcolor\":\"#E5ECF6\",\"aaxis\":{\"gridcolor\":\"white\",\"linecolor\":\"white\",\"ticks\":\"\"},\"baxis\":{\"gridcolor\":\"white\",\"linecolor\":\"white\",\"ticks\":\"\"},\"caxis\":{\"gridcolor\":\"white\",\"linecolor\":\"white\",\"ticks\":\"\"}},\"coloraxis\":{\"colorbar\":{\"outlinewidth\":0,\"ticks\":\"\"}},\"colorscale\":{\"sequential\":[[0.0,\"#0d0887\"],[0.1111111111111111,\"#46039f\"],[0.2222222222222222,\"#7201a8\"],[0.3333333333333333,\"#9c179e\"],[0.4444444444444444,\"#bd3786\"],[0.5555555555555556,\"#d8576b\"],[0.6666666666666666,\"#ed7953\"],[0.7777777777777778,\"#fb9f3a\"],[0.8888888888888888,\"#fdca26\"],[1.0,\"#f0f921\"]],\"sequentialminus\":[[0.0,\"#0d0887\"],[0.1111111111111111,\"#46039f\"],[0.2222222222222222,\"#7201a8\"],[0.3333333333333333,\"#9c179e\"],[0.4444444444444444,\"#bd3786\"],[0.5555555555555556,\"#d8576b\"],[0.6666666666666666,\"#ed7953\"],[0.7777777777777778,\"#fb9f3a\"],[0.8888888888888888,\"#fdca26\"],[1.0,\"#f0f921\"]],\"diverging\":[[0,\"#8e0152\"],[0.1,\"#c51b7d\"],[0.2,\"#de77ae\"],[0.3,\"#f1b6da\"],[0.4,\"#fde0ef\"],[0.5,\"#f7f7f7\"],[0.6,\"#e6f5d0\"],[0.7,\"#b8e186\"],[0.8,\"#7fbc41\"],[0.9,\"#4d9221\"],[1,\"#276419\"]]},\"xaxis\":{\"gridcolor\":\"white\",\"linecolor\":\"white\",\"ticks\":\"\",\"title\":{\"standoff\":15},\"zerolinecolor\":\"white\",\"automargin\":true,\"zerolinewidth\":2},\"yaxis\":{\"gridcolor\":\"white\",\"linecolor\":\"white\",\"ticks\":\"\",\"title\":{\"standoff\":15},\"zerolinecolor\":\"white\",\"automargin\":true,\"zerolinewidth\":2},\"scene\":{\"xaxis\":{\"backgroundcolor\":\"#E5ECF6\",\"gridcolor\":\"white\",\"linecolor\":\"white\",\"showbackground\":true,\"ticks\":\"\",\"zerolinecolor\":\"white\",\"gridwidth\":2},\"yaxis\":{\"backgroundcolor\":\"#E5ECF6\",\"gridcolor\":\"white\",\"linecolor\":\"white\",\"showbackground\":true,\"ticks\":\"\",\"zerolinecolor\":\"white\",\"gridwidth\":2},\"zaxis\":{\"backgroundcolor\":\"#E5ECF6\",\"gridcolor\":\"white\",\"linecolor\":\"white\",\"showbackground\":true,\"ticks\":\"\",\"zerolinecolor\":\"white\",\"gridwidth\":2}},\"shapedefaults\":{\"line\":{\"color\":\"#2a3f5f\"}},\"annotationdefaults\":{\"arrowcolor\":\"#2a3f5f\",\"arrowhead\":0,\"arrowwidth\":1},\"geo\":{\"bgcolor\":\"white\",\"landcolor\":\"#E5ECF6\",\"subunitcolor\":\"white\",\"showland\":true,\"showlakes\":true,\"lakecolor\":\"white\"},\"title\":{\"x\":0.05},\"mapbox\":{\"style\":\"light\"}}},\"xaxis\":{\"anchor\":\"y\",\"domain\":[0.0,1.0],\"title\":{\"text\":\"Purchased Bike\"}},\"yaxis\":{\"anchor\":\"x\",\"domain\":[0.0,1.0],\"title\":{\"text\":\"Income\"}},\"legend\":{\"tracegroupgap\":0},\"title\":{\"text\":\"Promedio de ingresos seg\\u00fan compra de bicicleta\"},\"barmode\":\"relative\"},                        {\"responsive\": true}                    ).then(function(){\n",
       "                            \n",
       "var gd = document.getElementById('09def111-1f18-471b-9ba7-15e7ada186b1');\n",
       "var x = new MutationObserver(function (mutations, observer) {{\n",
       "        var display = window.getComputedStyle(gd).display;\n",
       "        if (!display || display === 'none') {{\n",
       "            console.log([gd, 'removed!']);\n",
       "            Plotly.purge(gd);\n",
       "            observer.disconnect();\n",
       "        }}\n",
       "}});\n",
       "\n",
       "// Listen for the removal of the full notebook cells\n",
       "var notebookContainer = gd.closest('#notebook-container');\n",
       "if (notebookContainer) {{\n",
       "    x.observe(notebookContainer, {childList: true});\n",
       "}}\n",
       "\n",
       "// Listen for the clearing of the current output cell\n",
       "var outputEl = gd.closest('.output');\n",
       "if (outputEl) {{\n",
       "    x.observe(outputEl, {childList: true});\n",
       "}}\n",
       "\n",
       "                        })                };                });            </script>        </div>"
      ]
     },
     "metadata": {},
     "output_type": "display_data"
    }
   ],
   "source": [
    "# 1. Promedio de ingresos según si la bicicleta fue comprada o no\n",
    "promedio_ingresos_compra = df.groupby('Purchased Bike')['Income'].mean()\n",
    "\n",
    "# Visualización con Plotly\n",
    "fig = px.bar(promedio_ingresos_compra, x=promedio_ingresos_compra.index, y='Income',\n",
    "             labels={'x': 'Compra de bicicleta', 'y': 'Promedio de ingresos'},\n",
    "             title='Promedio de ingresos según compra de bicicleta')\n",
    "fig.show()"
   ]
  },
  {
   "attachments": {},
   "cell_type": "markdown",
   "id": "b67ffd49",
   "metadata": {},
   "source": [
    "## ¿Cuánto es el promedio de ingresos según el estado civil del cliente?"
   ]
  },
  {
   "cell_type": "code",
   "execution_count": 986,
   "id": "03fd97e9",
   "metadata": {},
   "outputs": [
    {
     "data": {
      "application/vnd.plotly.v1+json": {
       "config": {
        "plotlyServerURL": "https://plot.ly"
       },
       "data": [
        {
         "alignmentgroup": "True",
         "hovertemplate": "Marital Status=%{x}<br>Income=%{y}<extra></extra>",
         "legendgroup": "",
         "marker": {
          "color": "#636efa",
          "pattern": {
           "shape": ""
          }
         },
         "name": "",
         "offsetgroup": "",
         "orientation": "v",
         "showlegend": false,
         "textposition": "auto",
         "type": "bar",
         "x": [
          "Married",
          "Single"
         ],
         "xaxis": "x",
         "y": [
          58377.499634386484,
          53227.82270683011
         ],
         "yaxis": "y"
        }
       ],
       "layout": {
        "barmode": "group",
        "legend": {
         "tracegroupgap": 0
        },
        "template": {
         "data": {
          "bar": [
           {
            "error_x": {
             "color": "#2a3f5f"
            },
            "error_y": {
             "color": "#2a3f5f"
            },
            "marker": {
             "line": {
              "color": "#E5ECF6",
              "width": 0.5
             },
             "pattern": {
              "fillmode": "overlay",
              "size": 10,
              "solidity": 0.2
             }
            },
            "type": "bar"
           }
          ],
          "barpolar": [
           {
            "marker": {
             "line": {
              "color": "#E5ECF6",
              "width": 0.5
             },
             "pattern": {
              "fillmode": "overlay",
              "size": 10,
              "solidity": 0.2
             }
            },
            "type": "barpolar"
           }
          ],
          "carpet": [
           {
            "aaxis": {
             "endlinecolor": "#2a3f5f",
             "gridcolor": "white",
             "linecolor": "white",
             "minorgridcolor": "white",
             "startlinecolor": "#2a3f5f"
            },
            "baxis": {
             "endlinecolor": "#2a3f5f",
             "gridcolor": "white",
             "linecolor": "white",
             "minorgridcolor": "white",
             "startlinecolor": "#2a3f5f"
            },
            "type": "carpet"
           }
          ],
          "choropleth": [
           {
            "colorbar": {
             "outlinewidth": 0,
             "ticks": ""
            },
            "type": "choropleth"
           }
          ],
          "contour": [
           {
            "colorbar": {
             "outlinewidth": 0,
             "ticks": ""
            },
            "colorscale": [
             [
              0,
              "#0d0887"
             ],
             [
              0.1111111111111111,
              "#46039f"
             ],
             [
              0.2222222222222222,
              "#7201a8"
             ],
             [
              0.3333333333333333,
              "#9c179e"
             ],
             [
              0.4444444444444444,
              "#bd3786"
             ],
             [
              0.5555555555555556,
              "#d8576b"
             ],
             [
              0.6666666666666666,
              "#ed7953"
             ],
             [
              0.7777777777777778,
              "#fb9f3a"
             ],
             [
              0.8888888888888888,
              "#fdca26"
             ],
             [
              1,
              "#f0f921"
             ]
            ],
            "type": "contour"
           }
          ],
          "contourcarpet": [
           {
            "colorbar": {
             "outlinewidth": 0,
             "ticks": ""
            },
            "type": "contourcarpet"
           }
          ],
          "heatmap": [
           {
            "colorbar": {
             "outlinewidth": 0,
             "ticks": ""
            },
            "colorscale": [
             [
              0,
              "#0d0887"
             ],
             [
              0.1111111111111111,
              "#46039f"
             ],
             [
              0.2222222222222222,
              "#7201a8"
             ],
             [
              0.3333333333333333,
              "#9c179e"
             ],
             [
              0.4444444444444444,
              "#bd3786"
             ],
             [
              0.5555555555555556,
              "#d8576b"
             ],
             [
              0.6666666666666666,
              "#ed7953"
             ],
             [
              0.7777777777777778,
              "#fb9f3a"
             ],
             [
              0.8888888888888888,
              "#fdca26"
             ],
             [
              1,
              "#f0f921"
             ]
            ],
            "type": "heatmap"
           }
          ],
          "heatmapgl": [
           {
            "colorbar": {
             "outlinewidth": 0,
             "ticks": ""
            },
            "colorscale": [
             [
              0,
              "#0d0887"
             ],
             [
              0.1111111111111111,
              "#46039f"
             ],
             [
              0.2222222222222222,
              "#7201a8"
             ],
             [
              0.3333333333333333,
              "#9c179e"
             ],
             [
              0.4444444444444444,
              "#bd3786"
             ],
             [
              0.5555555555555556,
              "#d8576b"
             ],
             [
              0.6666666666666666,
              "#ed7953"
             ],
             [
              0.7777777777777778,
              "#fb9f3a"
             ],
             [
              0.8888888888888888,
              "#fdca26"
             ],
             [
              1,
              "#f0f921"
             ]
            ],
            "type": "heatmapgl"
           }
          ],
          "histogram": [
           {
            "marker": {
             "pattern": {
              "fillmode": "overlay",
              "size": 10,
              "solidity": 0.2
             }
            },
            "type": "histogram"
           }
          ],
          "histogram2d": [
           {
            "colorbar": {
             "outlinewidth": 0,
             "ticks": ""
            },
            "colorscale": [
             [
              0,
              "#0d0887"
             ],
             [
              0.1111111111111111,
              "#46039f"
             ],
             [
              0.2222222222222222,
              "#7201a8"
             ],
             [
              0.3333333333333333,
              "#9c179e"
             ],
             [
              0.4444444444444444,
              "#bd3786"
             ],
             [
              0.5555555555555556,
              "#d8576b"
             ],
             [
              0.6666666666666666,
              "#ed7953"
             ],
             [
              0.7777777777777778,
              "#fb9f3a"
             ],
             [
              0.8888888888888888,
              "#fdca26"
             ],
             [
              1,
              "#f0f921"
             ]
            ],
            "type": "histogram2d"
           }
          ],
          "histogram2dcontour": [
           {
            "colorbar": {
             "outlinewidth": 0,
             "ticks": ""
            },
            "colorscale": [
             [
              0,
              "#0d0887"
             ],
             [
              0.1111111111111111,
              "#46039f"
             ],
             [
              0.2222222222222222,
              "#7201a8"
             ],
             [
              0.3333333333333333,
              "#9c179e"
             ],
             [
              0.4444444444444444,
              "#bd3786"
             ],
             [
              0.5555555555555556,
              "#d8576b"
             ],
             [
              0.6666666666666666,
              "#ed7953"
             ],
             [
              0.7777777777777778,
              "#fb9f3a"
             ],
             [
              0.8888888888888888,
              "#fdca26"
             ],
             [
              1,
              "#f0f921"
             ]
            ],
            "type": "histogram2dcontour"
           }
          ],
          "mesh3d": [
           {
            "colorbar": {
             "outlinewidth": 0,
             "ticks": ""
            },
            "type": "mesh3d"
           }
          ],
          "parcoords": [
           {
            "line": {
             "colorbar": {
              "outlinewidth": 0,
              "ticks": ""
             }
            },
            "type": "parcoords"
           }
          ],
          "pie": [
           {
            "automargin": true,
            "type": "pie"
           }
          ],
          "scatter": [
           {
            "fillpattern": {
             "fillmode": "overlay",
             "size": 10,
             "solidity": 0.2
            },
            "type": "scatter"
           }
          ],
          "scatter3d": [
           {
            "line": {
             "colorbar": {
              "outlinewidth": 0,
              "ticks": ""
             }
            },
            "marker": {
             "colorbar": {
              "outlinewidth": 0,
              "ticks": ""
             }
            },
            "type": "scatter3d"
           }
          ],
          "scattercarpet": [
           {
            "marker": {
             "colorbar": {
              "outlinewidth": 0,
              "ticks": ""
             }
            },
            "type": "scattercarpet"
           }
          ],
          "scattergeo": [
           {
            "marker": {
             "colorbar": {
              "outlinewidth": 0,
              "ticks": ""
             }
            },
            "type": "scattergeo"
           }
          ],
          "scattergl": [
           {
            "marker": {
             "colorbar": {
              "outlinewidth": 0,
              "ticks": ""
             }
            },
            "type": "scattergl"
           }
          ],
          "scattermapbox": [
           {
            "marker": {
             "colorbar": {
              "outlinewidth": 0,
              "ticks": ""
             }
            },
            "type": "scattermapbox"
           }
          ],
          "scatterpolar": [
           {
            "marker": {
             "colorbar": {
              "outlinewidth": 0,
              "ticks": ""
             }
            },
            "type": "scatterpolar"
           }
          ],
          "scatterpolargl": [
           {
            "marker": {
             "colorbar": {
              "outlinewidth": 0,
              "ticks": ""
             }
            },
            "type": "scatterpolargl"
           }
          ],
          "scatterternary": [
           {
            "marker": {
             "colorbar": {
              "outlinewidth": 0,
              "ticks": ""
             }
            },
            "type": "scatterternary"
           }
          ],
          "surface": [
           {
            "colorbar": {
             "outlinewidth": 0,
             "ticks": ""
            },
            "colorscale": [
             [
              0,
              "#0d0887"
             ],
             [
              0.1111111111111111,
              "#46039f"
             ],
             [
              0.2222222222222222,
              "#7201a8"
             ],
             [
              0.3333333333333333,
              "#9c179e"
             ],
             [
              0.4444444444444444,
              "#bd3786"
             ],
             [
              0.5555555555555556,
              "#d8576b"
             ],
             [
              0.6666666666666666,
              "#ed7953"
             ],
             [
              0.7777777777777778,
              "#fb9f3a"
             ],
             [
              0.8888888888888888,
              "#fdca26"
             ],
             [
              1,
              "#f0f921"
             ]
            ],
            "type": "surface"
           }
          ],
          "table": [
           {
            "cells": {
             "fill": {
              "color": "#EBF0F8"
             },
             "line": {
              "color": "white"
             }
            },
            "header": {
             "fill": {
              "color": "#C8D4E3"
             },
             "line": {
              "color": "white"
             }
            },
            "type": "table"
           }
          ]
         },
         "layout": {
          "annotationdefaults": {
           "arrowcolor": "#2a3f5f",
           "arrowhead": 0,
           "arrowwidth": 1
          },
          "autotypenumbers": "strict",
          "coloraxis": {
           "colorbar": {
            "outlinewidth": 0,
            "ticks": ""
           }
          },
          "colorscale": {
           "diverging": [
            [
             0,
             "#8e0152"
            ],
            [
             0.1,
             "#c51b7d"
            ],
            [
             0.2,
             "#de77ae"
            ],
            [
             0.3,
             "#f1b6da"
            ],
            [
             0.4,
             "#fde0ef"
            ],
            [
             0.5,
             "#f7f7f7"
            ],
            [
             0.6,
             "#e6f5d0"
            ],
            [
             0.7,
             "#b8e186"
            ],
            [
             0.8,
             "#7fbc41"
            ],
            [
             0.9,
             "#4d9221"
            ],
            [
             1,
             "#276419"
            ]
           ],
           "sequential": [
            [
             0,
             "#0d0887"
            ],
            [
             0.1111111111111111,
             "#46039f"
            ],
            [
             0.2222222222222222,
             "#7201a8"
            ],
            [
             0.3333333333333333,
             "#9c179e"
            ],
            [
             0.4444444444444444,
             "#bd3786"
            ],
            [
             0.5555555555555556,
             "#d8576b"
            ],
            [
             0.6666666666666666,
             "#ed7953"
            ],
            [
             0.7777777777777778,
             "#fb9f3a"
            ],
            [
             0.8888888888888888,
             "#fdca26"
            ],
            [
             1,
             "#f0f921"
            ]
           ],
           "sequentialminus": [
            [
             0,
             "#0d0887"
            ],
            [
             0.1111111111111111,
             "#46039f"
            ],
            [
             0.2222222222222222,
             "#7201a8"
            ],
            [
             0.3333333333333333,
             "#9c179e"
            ],
            [
             0.4444444444444444,
             "#bd3786"
            ],
            [
             0.5555555555555556,
             "#d8576b"
            ],
            [
             0.6666666666666666,
             "#ed7953"
            ],
            [
             0.7777777777777778,
             "#fb9f3a"
            ],
            [
             0.8888888888888888,
             "#fdca26"
            ],
            [
             1,
             "#f0f921"
            ]
           ]
          },
          "colorway": [
           "#636efa",
           "#EF553B",
           "#00cc96",
           "#ab63fa",
           "#FFA15A",
           "#19d3f3",
           "#FF6692",
           "#B6E880",
           "#FF97FF",
           "#FECB52"
          ],
          "font": {
           "color": "#2a3f5f"
          },
          "geo": {
           "bgcolor": "white",
           "lakecolor": "white",
           "landcolor": "#E5ECF6",
           "showlakes": true,
           "showland": true,
           "subunitcolor": "white"
          },
          "hoverlabel": {
           "align": "left"
          },
          "hovermode": "closest",
          "mapbox": {
           "style": "light"
          },
          "paper_bgcolor": "white",
          "plot_bgcolor": "#E5ECF6",
          "polar": {
           "angularaxis": {
            "gridcolor": "white",
            "linecolor": "white",
            "ticks": ""
           },
           "bgcolor": "#E5ECF6",
           "radialaxis": {
            "gridcolor": "white",
            "linecolor": "white",
            "ticks": ""
           }
          },
          "scene": {
           "xaxis": {
            "backgroundcolor": "#E5ECF6",
            "gridcolor": "white",
            "gridwidth": 2,
            "linecolor": "white",
            "showbackground": true,
            "ticks": "",
            "zerolinecolor": "white"
           },
           "yaxis": {
            "backgroundcolor": "#E5ECF6",
            "gridcolor": "white",
            "gridwidth": 2,
            "linecolor": "white",
            "showbackground": true,
            "ticks": "",
            "zerolinecolor": "white"
           },
           "zaxis": {
            "backgroundcolor": "#E5ECF6",
            "gridcolor": "white",
            "gridwidth": 2,
            "linecolor": "white",
            "showbackground": true,
            "ticks": "",
            "zerolinecolor": "white"
           }
          },
          "shapedefaults": {
           "line": {
            "color": "#2a3f5f"
           }
          },
          "ternary": {
           "aaxis": {
            "gridcolor": "white",
            "linecolor": "white",
            "ticks": ""
           },
           "baxis": {
            "gridcolor": "white",
            "linecolor": "white",
            "ticks": ""
           },
           "bgcolor": "#E5ECF6",
           "caxis": {
            "gridcolor": "white",
            "linecolor": "white",
            "ticks": ""
           }
          },
          "title": {
           "x": 0.05
          },
          "xaxis": {
           "automargin": true,
           "gridcolor": "white",
           "linecolor": "white",
           "ticks": "",
           "title": {
            "standoff": 15
           },
           "zerolinecolor": "white",
           "zerolinewidth": 2
          },
          "yaxis": {
           "automargin": true,
           "gridcolor": "white",
           "linecolor": "white",
           "ticks": "",
           "title": {
            "standoff": 15
           },
           "zerolinecolor": "white",
           "zerolinewidth": 2
          }
         }
        },
        "title": {
         "text": "Promedio de ingresos según estado civil"
        },
        "xaxis": {
         "anchor": "y",
         "domain": [
          0,
          1
         ],
         "title": {
          "text": "Marital Status"
         }
        },
        "yaxis": {
         "anchor": "x",
         "domain": [
          0,
          1
         ],
         "title": {
          "text": "Income"
         }
        }
       }
      },
      "text/html": [
       "<div>                            <div id=\"9f51d5cf-b692-4bc1-8c01-9cb3f9a69a5a\" class=\"plotly-graph-div\" style=\"height:525px; width:100%;\"></div>            <script type=\"text/javascript\">                require([\"plotly\"], function(Plotly) {                    window.PLOTLYENV=window.PLOTLYENV || {};                                    if (document.getElementById(\"9f51d5cf-b692-4bc1-8c01-9cb3f9a69a5a\")) {                    Plotly.newPlot(                        \"9f51d5cf-b692-4bc1-8c01-9cb3f9a69a5a\",                        [{\"alignmentgroup\":\"True\",\"hovertemplate\":\"Marital Status=%{x}\\u003cbr\\u003eIncome=%{y}\\u003cextra\\u003e\\u003c\\u002fextra\\u003e\",\"legendgroup\":\"\",\"marker\":{\"color\":\"#636efa\",\"pattern\":{\"shape\":\"\"}},\"name\":\"\",\"offsetgroup\":\"\",\"orientation\":\"v\",\"showlegend\":false,\"textposition\":\"auto\",\"x\":[\"Married\",\"Single\"],\"xaxis\":\"x\",\"y\":[58377.499634386484,53227.82270683011],\"yaxis\":\"y\",\"type\":\"bar\"}],                        {\"template\":{\"data\":{\"histogram2dcontour\":[{\"type\":\"histogram2dcontour\",\"colorbar\":{\"outlinewidth\":0,\"ticks\":\"\"},\"colorscale\":[[0.0,\"#0d0887\"],[0.1111111111111111,\"#46039f\"],[0.2222222222222222,\"#7201a8\"],[0.3333333333333333,\"#9c179e\"],[0.4444444444444444,\"#bd3786\"],[0.5555555555555556,\"#d8576b\"],[0.6666666666666666,\"#ed7953\"],[0.7777777777777778,\"#fb9f3a\"],[0.8888888888888888,\"#fdca26\"],[1.0,\"#f0f921\"]]}],\"choropleth\":[{\"type\":\"choropleth\",\"colorbar\":{\"outlinewidth\":0,\"ticks\":\"\"}}],\"histogram2d\":[{\"type\":\"histogram2d\",\"colorbar\":{\"outlinewidth\":0,\"ticks\":\"\"},\"colorscale\":[[0.0,\"#0d0887\"],[0.1111111111111111,\"#46039f\"],[0.2222222222222222,\"#7201a8\"],[0.3333333333333333,\"#9c179e\"],[0.4444444444444444,\"#bd3786\"],[0.5555555555555556,\"#d8576b\"],[0.6666666666666666,\"#ed7953\"],[0.7777777777777778,\"#fb9f3a\"],[0.8888888888888888,\"#fdca26\"],[1.0,\"#f0f921\"]]}],\"heatmap\":[{\"type\":\"heatmap\",\"colorbar\":{\"outlinewidth\":0,\"ticks\":\"\"},\"colorscale\":[[0.0,\"#0d0887\"],[0.1111111111111111,\"#46039f\"],[0.2222222222222222,\"#7201a8\"],[0.3333333333333333,\"#9c179e\"],[0.4444444444444444,\"#bd3786\"],[0.5555555555555556,\"#d8576b\"],[0.6666666666666666,\"#ed7953\"],[0.7777777777777778,\"#fb9f3a\"],[0.8888888888888888,\"#fdca26\"],[1.0,\"#f0f921\"]]}],\"heatmapgl\":[{\"type\":\"heatmapgl\",\"colorbar\":{\"outlinewidth\":0,\"ticks\":\"\"},\"colorscale\":[[0.0,\"#0d0887\"],[0.1111111111111111,\"#46039f\"],[0.2222222222222222,\"#7201a8\"],[0.3333333333333333,\"#9c179e\"],[0.4444444444444444,\"#bd3786\"],[0.5555555555555556,\"#d8576b\"],[0.6666666666666666,\"#ed7953\"],[0.7777777777777778,\"#fb9f3a\"],[0.8888888888888888,\"#fdca26\"],[1.0,\"#f0f921\"]]}],\"contourcarpet\":[{\"type\":\"contourcarpet\",\"colorbar\":{\"outlinewidth\":0,\"ticks\":\"\"}}],\"contour\":[{\"type\":\"contour\",\"colorbar\":{\"outlinewidth\":0,\"ticks\":\"\"},\"colorscale\":[[0.0,\"#0d0887\"],[0.1111111111111111,\"#46039f\"],[0.2222222222222222,\"#7201a8\"],[0.3333333333333333,\"#9c179e\"],[0.4444444444444444,\"#bd3786\"],[0.5555555555555556,\"#d8576b\"],[0.6666666666666666,\"#ed7953\"],[0.7777777777777778,\"#fb9f3a\"],[0.8888888888888888,\"#fdca26\"],[1.0,\"#f0f921\"]]}],\"surface\":[{\"type\":\"surface\",\"colorbar\":{\"outlinewidth\":0,\"ticks\":\"\"},\"colorscale\":[[0.0,\"#0d0887\"],[0.1111111111111111,\"#46039f\"],[0.2222222222222222,\"#7201a8\"],[0.3333333333333333,\"#9c179e\"],[0.4444444444444444,\"#bd3786\"],[0.5555555555555556,\"#d8576b\"],[0.6666666666666666,\"#ed7953\"],[0.7777777777777778,\"#fb9f3a\"],[0.8888888888888888,\"#fdca26\"],[1.0,\"#f0f921\"]]}],\"mesh3d\":[{\"type\":\"mesh3d\",\"colorbar\":{\"outlinewidth\":0,\"ticks\":\"\"}}],\"scatter\":[{\"fillpattern\":{\"fillmode\":\"overlay\",\"size\":10,\"solidity\":0.2},\"type\":\"scatter\"}],\"parcoords\":[{\"type\":\"parcoords\",\"line\":{\"colorbar\":{\"outlinewidth\":0,\"ticks\":\"\"}}}],\"scatterpolargl\":[{\"type\":\"scatterpolargl\",\"marker\":{\"colorbar\":{\"outlinewidth\":0,\"ticks\":\"\"}}}],\"bar\":[{\"error_x\":{\"color\":\"#2a3f5f\"},\"error_y\":{\"color\":\"#2a3f5f\"},\"marker\":{\"line\":{\"color\":\"#E5ECF6\",\"width\":0.5},\"pattern\":{\"fillmode\":\"overlay\",\"size\":10,\"solidity\":0.2}},\"type\":\"bar\"}],\"scattergeo\":[{\"type\":\"scattergeo\",\"marker\":{\"colorbar\":{\"outlinewidth\":0,\"ticks\":\"\"}}}],\"scatterpolar\":[{\"type\":\"scatterpolar\",\"marker\":{\"colorbar\":{\"outlinewidth\":0,\"ticks\":\"\"}}}],\"histogram\":[{\"marker\":{\"pattern\":{\"fillmode\":\"overlay\",\"size\":10,\"solidity\":0.2}},\"type\":\"histogram\"}],\"scattergl\":[{\"type\":\"scattergl\",\"marker\":{\"colorbar\":{\"outlinewidth\":0,\"ticks\":\"\"}}}],\"scatter3d\":[{\"type\":\"scatter3d\",\"line\":{\"colorbar\":{\"outlinewidth\":0,\"ticks\":\"\"}},\"marker\":{\"colorbar\":{\"outlinewidth\":0,\"ticks\":\"\"}}}],\"scattermapbox\":[{\"type\":\"scattermapbox\",\"marker\":{\"colorbar\":{\"outlinewidth\":0,\"ticks\":\"\"}}}],\"scatterternary\":[{\"type\":\"scatterternary\",\"marker\":{\"colorbar\":{\"outlinewidth\":0,\"ticks\":\"\"}}}],\"scattercarpet\":[{\"type\":\"scattercarpet\",\"marker\":{\"colorbar\":{\"outlinewidth\":0,\"ticks\":\"\"}}}],\"carpet\":[{\"aaxis\":{\"endlinecolor\":\"#2a3f5f\",\"gridcolor\":\"white\",\"linecolor\":\"white\",\"minorgridcolor\":\"white\",\"startlinecolor\":\"#2a3f5f\"},\"baxis\":{\"endlinecolor\":\"#2a3f5f\",\"gridcolor\":\"white\",\"linecolor\":\"white\",\"minorgridcolor\":\"white\",\"startlinecolor\":\"#2a3f5f\"},\"type\":\"carpet\"}],\"table\":[{\"cells\":{\"fill\":{\"color\":\"#EBF0F8\"},\"line\":{\"color\":\"white\"}},\"header\":{\"fill\":{\"color\":\"#C8D4E3\"},\"line\":{\"color\":\"white\"}},\"type\":\"table\"}],\"barpolar\":[{\"marker\":{\"line\":{\"color\":\"#E5ECF6\",\"width\":0.5},\"pattern\":{\"fillmode\":\"overlay\",\"size\":10,\"solidity\":0.2}},\"type\":\"barpolar\"}],\"pie\":[{\"automargin\":true,\"type\":\"pie\"}]},\"layout\":{\"autotypenumbers\":\"strict\",\"colorway\":[\"#636efa\",\"#EF553B\",\"#00cc96\",\"#ab63fa\",\"#FFA15A\",\"#19d3f3\",\"#FF6692\",\"#B6E880\",\"#FF97FF\",\"#FECB52\"],\"font\":{\"color\":\"#2a3f5f\"},\"hovermode\":\"closest\",\"hoverlabel\":{\"align\":\"left\"},\"paper_bgcolor\":\"white\",\"plot_bgcolor\":\"#E5ECF6\",\"polar\":{\"bgcolor\":\"#E5ECF6\",\"angularaxis\":{\"gridcolor\":\"white\",\"linecolor\":\"white\",\"ticks\":\"\"},\"radialaxis\":{\"gridcolor\":\"white\",\"linecolor\":\"white\",\"ticks\":\"\"}},\"ternary\":{\"bgcolor\":\"#E5ECF6\",\"aaxis\":{\"gridcolor\":\"white\",\"linecolor\":\"white\",\"ticks\":\"\"},\"baxis\":{\"gridcolor\":\"white\",\"linecolor\":\"white\",\"ticks\":\"\"},\"caxis\":{\"gridcolor\":\"white\",\"linecolor\":\"white\",\"ticks\":\"\"}},\"coloraxis\":{\"colorbar\":{\"outlinewidth\":0,\"ticks\":\"\"}},\"colorscale\":{\"sequential\":[[0.0,\"#0d0887\"],[0.1111111111111111,\"#46039f\"],[0.2222222222222222,\"#7201a8\"],[0.3333333333333333,\"#9c179e\"],[0.4444444444444444,\"#bd3786\"],[0.5555555555555556,\"#d8576b\"],[0.6666666666666666,\"#ed7953\"],[0.7777777777777778,\"#fb9f3a\"],[0.8888888888888888,\"#fdca26\"],[1.0,\"#f0f921\"]],\"sequentialminus\":[[0.0,\"#0d0887\"],[0.1111111111111111,\"#46039f\"],[0.2222222222222222,\"#7201a8\"],[0.3333333333333333,\"#9c179e\"],[0.4444444444444444,\"#bd3786\"],[0.5555555555555556,\"#d8576b\"],[0.6666666666666666,\"#ed7953\"],[0.7777777777777778,\"#fb9f3a\"],[0.8888888888888888,\"#fdca26\"],[1.0,\"#f0f921\"]],\"diverging\":[[0,\"#8e0152\"],[0.1,\"#c51b7d\"],[0.2,\"#de77ae\"],[0.3,\"#f1b6da\"],[0.4,\"#fde0ef\"],[0.5,\"#f7f7f7\"],[0.6,\"#e6f5d0\"],[0.7,\"#b8e186\"],[0.8,\"#7fbc41\"],[0.9,\"#4d9221\"],[1,\"#276419\"]]},\"xaxis\":{\"gridcolor\":\"white\",\"linecolor\":\"white\",\"ticks\":\"\",\"title\":{\"standoff\":15},\"zerolinecolor\":\"white\",\"automargin\":true,\"zerolinewidth\":2},\"yaxis\":{\"gridcolor\":\"white\",\"linecolor\":\"white\",\"ticks\":\"\",\"title\":{\"standoff\":15},\"zerolinecolor\":\"white\",\"automargin\":true,\"zerolinewidth\":2},\"scene\":{\"xaxis\":{\"backgroundcolor\":\"#E5ECF6\",\"gridcolor\":\"white\",\"linecolor\":\"white\",\"showbackground\":true,\"ticks\":\"\",\"zerolinecolor\":\"white\",\"gridwidth\":2},\"yaxis\":{\"backgroundcolor\":\"#E5ECF6\",\"gridcolor\":\"white\",\"linecolor\":\"white\",\"showbackground\":true,\"ticks\":\"\",\"zerolinecolor\":\"white\",\"gridwidth\":2},\"zaxis\":{\"backgroundcolor\":\"#E5ECF6\",\"gridcolor\":\"white\",\"linecolor\":\"white\",\"showbackground\":true,\"ticks\":\"\",\"zerolinecolor\":\"white\",\"gridwidth\":2}},\"shapedefaults\":{\"line\":{\"color\":\"#2a3f5f\"}},\"annotationdefaults\":{\"arrowcolor\":\"#2a3f5f\",\"arrowhead\":0,\"arrowwidth\":1},\"geo\":{\"bgcolor\":\"white\",\"landcolor\":\"#E5ECF6\",\"subunitcolor\":\"white\",\"showland\":true,\"showlakes\":true,\"lakecolor\":\"white\"},\"title\":{\"x\":0.05},\"mapbox\":{\"style\":\"light\"}}},\"xaxis\":{\"anchor\":\"y\",\"domain\":[0.0,1.0],\"title\":{\"text\":\"Marital Status\"}},\"yaxis\":{\"anchor\":\"x\",\"domain\":[0.0,1.0],\"title\":{\"text\":\"Income\"}},\"legend\":{\"tracegroupgap\":0},\"title\":{\"text\":\"Promedio de ingresos seg\\u00fan estado civil\"},\"barmode\":\"group\"},                        {\"responsive\": true}                    ).then(function(){\n",
       "                            \n",
       "var gd = document.getElementById('9f51d5cf-b692-4bc1-8c01-9cb3f9a69a5a');\n",
       "var x = new MutationObserver(function (mutations, observer) {{\n",
       "        var display = window.getComputedStyle(gd).display;\n",
       "        if (!display || display === 'none') {{\n",
       "            console.log([gd, 'removed!']);\n",
       "            Plotly.purge(gd);\n",
       "            observer.disconnect();\n",
       "        }}\n",
       "}});\n",
       "\n",
       "// Listen for the removal of the full notebook cells\n",
       "var notebookContainer = gd.closest('#notebook-container');\n",
       "if (notebookContainer) {{\n",
       "    x.observe(notebookContainer, {childList: true});\n",
       "}}\n",
       "\n",
       "// Listen for the clearing of the current output cell\n",
       "var outputEl = gd.closest('.output');\n",
       "if (outputEl) {{\n",
       "    x.observe(outputEl, {childList: true});\n",
       "}}\n",
       "\n",
       "                        })                };                });            </script>        </div>"
      ]
     },
     "metadata": {},
     "output_type": "display_data"
    }
   ],
   "source": [
    "# 2. Promedio de ingresos según el estado civil\n",
    "promedio_ingresos_estado_civil = df.groupby('Marital Status')['Income'].mean()\n",
    "\n",
    "# Visualización con Plotly: Gráfico de barras agrupadas\n",
    "fig = px.bar(promedio_ingresos_estado_civil, x=promedio_ingresos_estado_civil.index, y='Income',\n",
    "             labels={'x': 'Estado civil', 'y': 'Promedio de ingresos'},\n",
    "             title='Promedio de ingresos según estado civil',\n",
    "             barmode='group')\n",
    "fig.show()"
   ]
  },
  {
   "attachments": {},
   "cell_type": "markdown",
   "id": "cffd48bc",
   "metadata": {},
   "source": [
    " ## Crear una nueva variable llamado Con_hijos, dónde Si: Children > 0, No: Children=0, para los clientes que si tienen hijos ¿Cuánto es el promedio de hijos según el nivel educativo del cliente?"
   ]
  },
  {
   "cell_type": "code",
   "execution_count": 987,
   "id": "249b8a82",
   "metadata": {},
   "outputs": [
    {
     "data": {
      "application/vnd.plotly.v1+json": {
       "config": {
        "plotlyServerURL": "https://plot.ly"
       },
       "data": [
        {
         "hovertemplate": "Education=%{x}<br>Children=%{y}<extra></extra>",
         "legendgroup": "",
         "marker": {
          "color": "#636efa",
          "symbol": "circle"
         },
         "mode": "markers",
         "name": "",
         "orientation": "v",
         "showlegend": false,
         "type": "scatter",
         "x": [
          "Bachelors",
          "Graduate Degree",
          "High School",
          "Partial College",
          "Partial High School"
         ],
         "xaxis": "x",
         "y": [
          1.9503615399648229,
          1.9796371194247837,
          1.9586228823182088,
          1.8371554963259111,
          1.5999144201968336
         ],
         "yaxis": "y"
        }
       ],
       "layout": {
        "legend": {
         "tracegroupgap": 0
        },
        "template": {
         "data": {
          "bar": [
           {
            "error_x": {
             "color": "#2a3f5f"
            },
            "error_y": {
             "color": "#2a3f5f"
            },
            "marker": {
             "line": {
              "color": "#E5ECF6",
              "width": 0.5
             },
             "pattern": {
              "fillmode": "overlay",
              "size": 10,
              "solidity": 0.2
             }
            },
            "type": "bar"
           }
          ],
          "barpolar": [
           {
            "marker": {
             "line": {
              "color": "#E5ECF6",
              "width": 0.5
             },
             "pattern": {
              "fillmode": "overlay",
              "size": 10,
              "solidity": 0.2
             }
            },
            "type": "barpolar"
           }
          ],
          "carpet": [
           {
            "aaxis": {
             "endlinecolor": "#2a3f5f",
             "gridcolor": "white",
             "linecolor": "white",
             "minorgridcolor": "white",
             "startlinecolor": "#2a3f5f"
            },
            "baxis": {
             "endlinecolor": "#2a3f5f",
             "gridcolor": "white",
             "linecolor": "white",
             "minorgridcolor": "white",
             "startlinecolor": "#2a3f5f"
            },
            "type": "carpet"
           }
          ],
          "choropleth": [
           {
            "colorbar": {
             "outlinewidth": 0,
             "ticks": ""
            },
            "type": "choropleth"
           }
          ],
          "contour": [
           {
            "colorbar": {
             "outlinewidth": 0,
             "ticks": ""
            },
            "colorscale": [
             [
              0,
              "#0d0887"
             ],
             [
              0.1111111111111111,
              "#46039f"
             ],
             [
              0.2222222222222222,
              "#7201a8"
             ],
             [
              0.3333333333333333,
              "#9c179e"
             ],
             [
              0.4444444444444444,
              "#bd3786"
             ],
             [
              0.5555555555555556,
              "#d8576b"
             ],
             [
              0.6666666666666666,
              "#ed7953"
             ],
             [
              0.7777777777777778,
              "#fb9f3a"
             ],
             [
              0.8888888888888888,
              "#fdca26"
             ],
             [
              1,
              "#f0f921"
             ]
            ],
            "type": "contour"
           }
          ],
          "contourcarpet": [
           {
            "colorbar": {
             "outlinewidth": 0,
             "ticks": ""
            },
            "type": "contourcarpet"
           }
          ],
          "heatmap": [
           {
            "colorbar": {
             "outlinewidth": 0,
             "ticks": ""
            },
            "colorscale": [
             [
              0,
              "#0d0887"
             ],
             [
              0.1111111111111111,
              "#46039f"
             ],
             [
              0.2222222222222222,
              "#7201a8"
             ],
             [
              0.3333333333333333,
              "#9c179e"
             ],
             [
              0.4444444444444444,
              "#bd3786"
             ],
             [
              0.5555555555555556,
              "#d8576b"
             ],
             [
              0.6666666666666666,
              "#ed7953"
             ],
             [
              0.7777777777777778,
              "#fb9f3a"
             ],
             [
              0.8888888888888888,
              "#fdca26"
             ],
             [
              1,
              "#f0f921"
             ]
            ],
            "type": "heatmap"
           }
          ],
          "heatmapgl": [
           {
            "colorbar": {
             "outlinewidth": 0,
             "ticks": ""
            },
            "colorscale": [
             [
              0,
              "#0d0887"
             ],
             [
              0.1111111111111111,
              "#46039f"
             ],
             [
              0.2222222222222222,
              "#7201a8"
             ],
             [
              0.3333333333333333,
              "#9c179e"
             ],
             [
              0.4444444444444444,
              "#bd3786"
             ],
             [
              0.5555555555555556,
              "#d8576b"
             ],
             [
              0.6666666666666666,
              "#ed7953"
             ],
             [
              0.7777777777777778,
              "#fb9f3a"
             ],
             [
              0.8888888888888888,
              "#fdca26"
             ],
             [
              1,
              "#f0f921"
             ]
            ],
            "type": "heatmapgl"
           }
          ],
          "histogram": [
           {
            "marker": {
             "pattern": {
              "fillmode": "overlay",
              "size": 10,
              "solidity": 0.2
             }
            },
            "type": "histogram"
           }
          ],
          "histogram2d": [
           {
            "colorbar": {
             "outlinewidth": 0,
             "ticks": ""
            },
            "colorscale": [
             [
              0,
              "#0d0887"
             ],
             [
              0.1111111111111111,
              "#46039f"
             ],
             [
              0.2222222222222222,
              "#7201a8"
             ],
             [
              0.3333333333333333,
              "#9c179e"
             ],
             [
              0.4444444444444444,
              "#bd3786"
             ],
             [
              0.5555555555555556,
              "#d8576b"
             ],
             [
              0.6666666666666666,
              "#ed7953"
             ],
             [
              0.7777777777777778,
              "#fb9f3a"
             ],
             [
              0.8888888888888888,
              "#fdca26"
             ],
             [
              1,
              "#f0f921"
             ]
            ],
            "type": "histogram2d"
           }
          ],
          "histogram2dcontour": [
           {
            "colorbar": {
             "outlinewidth": 0,
             "ticks": ""
            },
            "colorscale": [
             [
              0,
              "#0d0887"
             ],
             [
              0.1111111111111111,
              "#46039f"
             ],
             [
              0.2222222222222222,
              "#7201a8"
             ],
             [
              0.3333333333333333,
              "#9c179e"
             ],
             [
              0.4444444444444444,
              "#bd3786"
             ],
             [
              0.5555555555555556,
              "#d8576b"
             ],
             [
              0.6666666666666666,
              "#ed7953"
             ],
             [
              0.7777777777777778,
              "#fb9f3a"
             ],
             [
              0.8888888888888888,
              "#fdca26"
             ],
             [
              1,
              "#f0f921"
             ]
            ],
            "type": "histogram2dcontour"
           }
          ],
          "mesh3d": [
           {
            "colorbar": {
             "outlinewidth": 0,
             "ticks": ""
            },
            "type": "mesh3d"
           }
          ],
          "parcoords": [
           {
            "line": {
             "colorbar": {
              "outlinewidth": 0,
              "ticks": ""
             }
            },
            "type": "parcoords"
           }
          ],
          "pie": [
           {
            "automargin": true,
            "type": "pie"
           }
          ],
          "scatter": [
           {
            "fillpattern": {
             "fillmode": "overlay",
             "size": 10,
             "solidity": 0.2
            },
            "type": "scatter"
           }
          ],
          "scatter3d": [
           {
            "line": {
             "colorbar": {
              "outlinewidth": 0,
              "ticks": ""
             }
            },
            "marker": {
             "colorbar": {
              "outlinewidth": 0,
              "ticks": ""
             }
            },
            "type": "scatter3d"
           }
          ],
          "scattercarpet": [
           {
            "marker": {
             "colorbar": {
              "outlinewidth": 0,
              "ticks": ""
             }
            },
            "type": "scattercarpet"
           }
          ],
          "scattergeo": [
           {
            "marker": {
             "colorbar": {
              "outlinewidth": 0,
              "ticks": ""
             }
            },
            "type": "scattergeo"
           }
          ],
          "scattergl": [
           {
            "marker": {
             "colorbar": {
              "outlinewidth": 0,
              "ticks": ""
             }
            },
            "type": "scattergl"
           }
          ],
          "scattermapbox": [
           {
            "marker": {
             "colorbar": {
              "outlinewidth": 0,
              "ticks": ""
             }
            },
            "type": "scattermapbox"
           }
          ],
          "scatterpolar": [
           {
            "marker": {
             "colorbar": {
              "outlinewidth": 0,
              "ticks": ""
             }
            },
            "type": "scatterpolar"
           }
          ],
          "scatterpolargl": [
           {
            "marker": {
             "colorbar": {
              "outlinewidth": 0,
              "ticks": ""
             }
            },
            "type": "scatterpolargl"
           }
          ],
          "scatterternary": [
           {
            "marker": {
             "colorbar": {
              "outlinewidth": 0,
              "ticks": ""
             }
            },
            "type": "scatterternary"
           }
          ],
          "surface": [
           {
            "colorbar": {
             "outlinewidth": 0,
             "ticks": ""
            },
            "colorscale": [
             [
              0,
              "#0d0887"
             ],
             [
              0.1111111111111111,
              "#46039f"
             ],
             [
              0.2222222222222222,
              "#7201a8"
             ],
             [
              0.3333333333333333,
              "#9c179e"
             ],
             [
              0.4444444444444444,
              "#bd3786"
             ],
             [
              0.5555555555555556,
              "#d8576b"
             ],
             [
              0.6666666666666666,
              "#ed7953"
             ],
             [
              0.7777777777777778,
              "#fb9f3a"
             ],
             [
              0.8888888888888888,
              "#fdca26"
             ],
             [
              1,
              "#f0f921"
             ]
            ],
            "type": "surface"
           }
          ],
          "table": [
           {
            "cells": {
             "fill": {
              "color": "#EBF0F8"
             },
             "line": {
              "color": "white"
             }
            },
            "header": {
             "fill": {
              "color": "#C8D4E3"
             },
             "line": {
              "color": "white"
             }
            },
            "type": "table"
           }
          ]
         },
         "layout": {
          "annotationdefaults": {
           "arrowcolor": "#2a3f5f",
           "arrowhead": 0,
           "arrowwidth": 1
          },
          "autotypenumbers": "strict",
          "coloraxis": {
           "colorbar": {
            "outlinewidth": 0,
            "ticks": ""
           }
          },
          "colorscale": {
           "diverging": [
            [
             0,
             "#8e0152"
            ],
            [
             0.1,
             "#c51b7d"
            ],
            [
             0.2,
             "#de77ae"
            ],
            [
             0.3,
             "#f1b6da"
            ],
            [
             0.4,
             "#fde0ef"
            ],
            [
             0.5,
             "#f7f7f7"
            ],
            [
             0.6,
             "#e6f5d0"
            ],
            [
             0.7,
             "#b8e186"
            ],
            [
             0.8,
             "#7fbc41"
            ],
            [
             0.9,
             "#4d9221"
            ],
            [
             1,
             "#276419"
            ]
           ],
           "sequential": [
            [
             0,
             "#0d0887"
            ],
            [
             0.1111111111111111,
             "#46039f"
            ],
            [
             0.2222222222222222,
             "#7201a8"
            ],
            [
             0.3333333333333333,
             "#9c179e"
            ],
            [
             0.4444444444444444,
             "#bd3786"
            ],
            [
             0.5555555555555556,
             "#d8576b"
            ],
            [
             0.6666666666666666,
             "#ed7953"
            ],
            [
             0.7777777777777778,
             "#fb9f3a"
            ],
            [
             0.8888888888888888,
             "#fdca26"
            ],
            [
             1,
             "#f0f921"
            ]
           ],
           "sequentialminus": [
            [
             0,
             "#0d0887"
            ],
            [
             0.1111111111111111,
             "#46039f"
            ],
            [
             0.2222222222222222,
             "#7201a8"
            ],
            [
             0.3333333333333333,
             "#9c179e"
            ],
            [
             0.4444444444444444,
             "#bd3786"
            ],
            [
             0.5555555555555556,
             "#d8576b"
            ],
            [
             0.6666666666666666,
             "#ed7953"
            ],
            [
             0.7777777777777778,
             "#fb9f3a"
            ],
            [
             0.8888888888888888,
             "#fdca26"
            ],
            [
             1,
             "#f0f921"
            ]
           ]
          },
          "colorway": [
           "#636efa",
           "#EF553B",
           "#00cc96",
           "#ab63fa",
           "#FFA15A",
           "#19d3f3",
           "#FF6692",
           "#B6E880",
           "#FF97FF",
           "#FECB52"
          ],
          "font": {
           "color": "#2a3f5f"
          },
          "geo": {
           "bgcolor": "white",
           "lakecolor": "white",
           "landcolor": "#E5ECF6",
           "showlakes": true,
           "showland": true,
           "subunitcolor": "white"
          },
          "hoverlabel": {
           "align": "left"
          },
          "hovermode": "closest",
          "mapbox": {
           "style": "light"
          },
          "paper_bgcolor": "white",
          "plot_bgcolor": "#E5ECF6",
          "polar": {
           "angularaxis": {
            "gridcolor": "white",
            "linecolor": "white",
            "ticks": ""
           },
           "bgcolor": "#E5ECF6",
           "radialaxis": {
            "gridcolor": "white",
            "linecolor": "white",
            "ticks": ""
           }
          },
          "scene": {
           "xaxis": {
            "backgroundcolor": "#E5ECF6",
            "gridcolor": "white",
            "gridwidth": 2,
            "linecolor": "white",
            "showbackground": true,
            "ticks": "",
            "zerolinecolor": "white"
           },
           "yaxis": {
            "backgroundcolor": "#E5ECF6",
            "gridcolor": "white",
            "gridwidth": 2,
            "linecolor": "white",
            "showbackground": true,
            "ticks": "",
            "zerolinecolor": "white"
           },
           "zaxis": {
            "backgroundcolor": "#E5ECF6",
            "gridcolor": "white",
            "gridwidth": 2,
            "linecolor": "white",
            "showbackground": true,
            "ticks": "",
            "zerolinecolor": "white"
           }
          },
          "shapedefaults": {
           "line": {
            "color": "#2a3f5f"
           }
          },
          "ternary": {
           "aaxis": {
            "gridcolor": "white",
            "linecolor": "white",
            "ticks": ""
           },
           "baxis": {
            "gridcolor": "white",
            "linecolor": "white",
            "ticks": ""
           },
           "bgcolor": "#E5ECF6",
           "caxis": {
            "gridcolor": "white",
            "linecolor": "white",
            "ticks": ""
           }
          },
          "title": {
           "x": 0.05
          },
          "xaxis": {
           "automargin": true,
           "gridcolor": "white",
           "linecolor": "white",
           "ticks": "",
           "title": {
            "standoff": 15
           },
           "zerolinecolor": "white",
           "zerolinewidth": 2
          },
          "yaxis": {
           "automargin": true,
           "gridcolor": "white",
           "linecolor": "white",
           "ticks": "",
           "title": {
            "standoff": 15
           },
           "zerolinecolor": "white",
           "zerolinewidth": 2
          }
         }
        },
        "title": {
         "text": "Promedio de hijos según nivel educativo"
        },
        "xaxis": {
         "anchor": "y",
         "domain": [
          0,
          1
         ],
         "title": {
          "text": "Education"
         }
        },
        "yaxis": {
         "anchor": "x",
         "domain": [
          0,
          1
         ],
         "title": {
          "text": "Children"
         }
        }
       }
      },
      "text/html": [
       "<div>                            <div id=\"4268d058-04b7-48a1-ae4a-bfa733aff929\" class=\"plotly-graph-div\" style=\"height:525px; width:100%;\"></div>            <script type=\"text/javascript\">                require([\"plotly\"], function(Plotly) {                    window.PLOTLYENV=window.PLOTLYENV || {};                                    if (document.getElementById(\"4268d058-04b7-48a1-ae4a-bfa733aff929\")) {                    Plotly.newPlot(                        \"4268d058-04b7-48a1-ae4a-bfa733aff929\",                        [{\"hovertemplate\":\"Education=%{x}\\u003cbr\\u003eChildren=%{y}\\u003cextra\\u003e\\u003c\\u002fextra\\u003e\",\"legendgroup\":\"\",\"marker\":{\"color\":\"#636efa\",\"symbol\":\"circle\"},\"mode\":\"markers\",\"name\":\"\",\"orientation\":\"v\",\"showlegend\":false,\"x\":[\"Bachelors\",\"Graduate Degree\",\"High School\",\"Partial College\",\"Partial High School\"],\"xaxis\":\"x\",\"y\":[1.9503615399648229,1.9796371194247837,1.9586228823182088,1.8371554963259111,1.5999144201968336],\"yaxis\":\"y\",\"type\":\"scatter\"}],                        {\"template\":{\"data\":{\"histogram2dcontour\":[{\"type\":\"histogram2dcontour\",\"colorbar\":{\"outlinewidth\":0,\"ticks\":\"\"},\"colorscale\":[[0.0,\"#0d0887\"],[0.1111111111111111,\"#46039f\"],[0.2222222222222222,\"#7201a8\"],[0.3333333333333333,\"#9c179e\"],[0.4444444444444444,\"#bd3786\"],[0.5555555555555556,\"#d8576b\"],[0.6666666666666666,\"#ed7953\"],[0.7777777777777778,\"#fb9f3a\"],[0.8888888888888888,\"#fdca26\"],[1.0,\"#f0f921\"]]}],\"choropleth\":[{\"type\":\"choropleth\",\"colorbar\":{\"outlinewidth\":0,\"ticks\":\"\"}}],\"histogram2d\":[{\"type\":\"histogram2d\",\"colorbar\":{\"outlinewidth\":0,\"ticks\":\"\"},\"colorscale\":[[0.0,\"#0d0887\"],[0.1111111111111111,\"#46039f\"],[0.2222222222222222,\"#7201a8\"],[0.3333333333333333,\"#9c179e\"],[0.4444444444444444,\"#bd3786\"],[0.5555555555555556,\"#d8576b\"],[0.6666666666666666,\"#ed7953\"],[0.7777777777777778,\"#fb9f3a\"],[0.8888888888888888,\"#fdca26\"],[1.0,\"#f0f921\"]]}],\"heatmap\":[{\"type\":\"heatmap\",\"colorbar\":{\"outlinewidth\":0,\"ticks\":\"\"},\"colorscale\":[[0.0,\"#0d0887\"],[0.1111111111111111,\"#46039f\"],[0.2222222222222222,\"#7201a8\"],[0.3333333333333333,\"#9c179e\"],[0.4444444444444444,\"#bd3786\"],[0.5555555555555556,\"#d8576b\"],[0.6666666666666666,\"#ed7953\"],[0.7777777777777778,\"#fb9f3a\"],[0.8888888888888888,\"#fdca26\"],[1.0,\"#f0f921\"]]}],\"heatmapgl\":[{\"type\":\"heatmapgl\",\"colorbar\":{\"outlinewidth\":0,\"ticks\":\"\"},\"colorscale\":[[0.0,\"#0d0887\"],[0.1111111111111111,\"#46039f\"],[0.2222222222222222,\"#7201a8\"],[0.3333333333333333,\"#9c179e\"],[0.4444444444444444,\"#bd3786\"],[0.5555555555555556,\"#d8576b\"],[0.6666666666666666,\"#ed7953\"],[0.7777777777777778,\"#fb9f3a\"],[0.8888888888888888,\"#fdca26\"],[1.0,\"#f0f921\"]]}],\"contourcarpet\":[{\"type\":\"contourcarpet\",\"colorbar\":{\"outlinewidth\":0,\"ticks\":\"\"}}],\"contour\":[{\"type\":\"contour\",\"colorbar\":{\"outlinewidth\":0,\"ticks\":\"\"},\"colorscale\":[[0.0,\"#0d0887\"],[0.1111111111111111,\"#46039f\"],[0.2222222222222222,\"#7201a8\"],[0.3333333333333333,\"#9c179e\"],[0.4444444444444444,\"#bd3786\"],[0.5555555555555556,\"#d8576b\"],[0.6666666666666666,\"#ed7953\"],[0.7777777777777778,\"#fb9f3a\"],[0.8888888888888888,\"#fdca26\"],[1.0,\"#f0f921\"]]}],\"surface\":[{\"type\":\"surface\",\"colorbar\":{\"outlinewidth\":0,\"ticks\":\"\"},\"colorscale\":[[0.0,\"#0d0887\"],[0.1111111111111111,\"#46039f\"],[0.2222222222222222,\"#7201a8\"],[0.3333333333333333,\"#9c179e\"],[0.4444444444444444,\"#bd3786\"],[0.5555555555555556,\"#d8576b\"],[0.6666666666666666,\"#ed7953\"],[0.7777777777777778,\"#fb9f3a\"],[0.8888888888888888,\"#fdca26\"],[1.0,\"#f0f921\"]]}],\"mesh3d\":[{\"type\":\"mesh3d\",\"colorbar\":{\"outlinewidth\":0,\"ticks\":\"\"}}],\"scatter\":[{\"fillpattern\":{\"fillmode\":\"overlay\",\"size\":10,\"solidity\":0.2},\"type\":\"scatter\"}],\"parcoords\":[{\"type\":\"parcoords\",\"line\":{\"colorbar\":{\"outlinewidth\":0,\"ticks\":\"\"}}}],\"scatterpolargl\":[{\"type\":\"scatterpolargl\",\"marker\":{\"colorbar\":{\"outlinewidth\":0,\"ticks\":\"\"}}}],\"bar\":[{\"error_x\":{\"color\":\"#2a3f5f\"},\"error_y\":{\"color\":\"#2a3f5f\"},\"marker\":{\"line\":{\"color\":\"#E5ECF6\",\"width\":0.5},\"pattern\":{\"fillmode\":\"overlay\",\"size\":10,\"solidity\":0.2}},\"type\":\"bar\"}],\"scattergeo\":[{\"type\":\"scattergeo\",\"marker\":{\"colorbar\":{\"outlinewidth\":0,\"ticks\":\"\"}}}],\"scatterpolar\":[{\"type\":\"scatterpolar\",\"marker\":{\"colorbar\":{\"outlinewidth\":0,\"ticks\":\"\"}}}],\"histogram\":[{\"marker\":{\"pattern\":{\"fillmode\":\"overlay\",\"size\":10,\"solidity\":0.2}},\"type\":\"histogram\"}],\"scattergl\":[{\"type\":\"scattergl\",\"marker\":{\"colorbar\":{\"outlinewidth\":0,\"ticks\":\"\"}}}],\"scatter3d\":[{\"type\":\"scatter3d\",\"line\":{\"colorbar\":{\"outlinewidth\":0,\"ticks\":\"\"}},\"marker\":{\"colorbar\":{\"outlinewidth\":0,\"ticks\":\"\"}}}],\"scattermapbox\":[{\"type\":\"scattermapbox\",\"marker\":{\"colorbar\":{\"outlinewidth\":0,\"ticks\":\"\"}}}],\"scatterternary\":[{\"type\":\"scatterternary\",\"marker\":{\"colorbar\":{\"outlinewidth\":0,\"ticks\":\"\"}}}],\"scattercarpet\":[{\"type\":\"scattercarpet\",\"marker\":{\"colorbar\":{\"outlinewidth\":0,\"ticks\":\"\"}}}],\"carpet\":[{\"aaxis\":{\"endlinecolor\":\"#2a3f5f\",\"gridcolor\":\"white\",\"linecolor\":\"white\",\"minorgridcolor\":\"white\",\"startlinecolor\":\"#2a3f5f\"},\"baxis\":{\"endlinecolor\":\"#2a3f5f\",\"gridcolor\":\"white\",\"linecolor\":\"white\",\"minorgridcolor\":\"white\",\"startlinecolor\":\"#2a3f5f\"},\"type\":\"carpet\"}],\"table\":[{\"cells\":{\"fill\":{\"color\":\"#EBF0F8\"},\"line\":{\"color\":\"white\"}},\"header\":{\"fill\":{\"color\":\"#C8D4E3\"},\"line\":{\"color\":\"white\"}},\"type\":\"table\"}],\"barpolar\":[{\"marker\":{\"line\":{\"color\":\"#E5ECF6\",\"width\":0.5},\"pattern\":{\"fillmode\":\"overlay\",\"size\":10,\"solidity\":0.2}},\"type\":\"barpolar\"}],\"pie\":[{\"automargin\":true,\"type\":\"pie\"}]},\"layout\":{\"autotypenumbers\":\"strict\",\"colorway\":[\"#636efa\",\"#EF553B\",\"#00cc96\",\"#ab63fa\",\"#FFA15A\",\"#19d3f3\",\"#FF6692\",\"#B6E880\",\"#FF97FF\",\"#FECB52\"],\"font\":{\"color\":\"#2a3f5f\"},\"hovermode\":\"closest\",\"hoverlabel\":{\"align\":\"left\"},\"paper_bgcolor\":\"white\",\"plot_bgcolor\":\"#E5ECF6\",\"polar\":{\"bgcolor\":\"#E5ECF6\",\"angularaxis\":{\"gridcolor\":\"white\",\"linecolor\":\"white\",\"ticks\":\"\"},\"radialaxis\":{\"gridcolor\":\"white\",\"linecolor\":\"white\",\"ticks\":\"\"}},\"ternary\":{\"bgcolor\":\"#E5ECF6\",\"aaxis\":{\"gridcolor\":\"white\",\"linecolor\":\"white\",\"ticks\":\"\"},\"baxis\":{\"gridcolor\":\"white\",\"linecolor\":\"white\",\"ticks\":\"\"},\"caxis\":{\"gridcolor\":\"white\",\"linecolor\":\"white\",\"ticks\":\"\"}},\"coloraxis\":{\"colorbar\":{\"outlinewidth\":0,\"ticks\":\"\"}},\"colorscale\":{\"sequential\":[[0.0,\"#0d0887\"],[0.1111111111111111,\"#46039f\"],[0.2222222222222222,\"#7201a8\"],[0.3333333333333333,\"#9c179e\"],[0.4444444444444444,\"#bd3786\"],[0.5555555555555556,\"#d8576b\"],[0.6666666666666666,\"#ed7953\"],[0.7777777777777778,\"#fb9f3a\"],[0.8888888888888888,\"#fdca26\"],[1.0,\"#f0f921\"]],\"sequentialminus\":[[0.0,\"#0d0887\"],[0.1111111111111111,\"#46039f\"],[0.2222222222222222,\"#7201a8\"],[0.3333333333333333,\"#9c179e\"],[0.4444444444444444,\"#bd3786\"],[0.5555555555555556,\"#d8576b\"],[0.6666666666666666,\"#ed7953\"],[0.7777777777777778,\"#fb9f3a\"],[0.8888888888888888,\"#fdca26\"],[1.0,\"#f0f921\"]],\"diverging\":[[0,\"#8e0152\"],[0.1,\"#c51b7d\"],[0.2,\"#de77ae\"],[0.3,\"#f1b6da\"],[0.4,\"#fde0ef\"],[0.5,\"#f7f7f7\"],[0.6,\"#e6f5d0\"],[0.7,\"#b8e186\"],[0.8,\"#7fbc41\"],[0.9,\"#4d9221\"],[1,\"#276419\"]]},\"xaxis\":{\"gridcolor\":\"white\",\"linecolor\":\"white\",\"ticks\":\"\",\"title\":{\"standoff\":15},\"zerolinecolor\":\"white\",\"automargin\":true,\"zerolinewidth\":2},\"yaxis\":{\"gridcolor\":\"white\",\"linecolor\":\"white\",\"ticks\":\"\",\"title\":{\"standoff\":15},\"zerolinecolor\":\"white\",\"automargin\":true,\"zerolinewidth\":2},\"scene\":{\"xaxis\":{\"backgroundcolor\":\"#E5ECF6\",\"gridcolor\":\"white\",\"linecolor\":\"white\",\"showbackground\":true,\"ticks\":\"\",\"zerolinecolor\":\"white\",\"gridwidth\":2},\"yaxis\":{\"backgroundcolor\":\"#E5ECF6\",\"gridcolor\":\"white\",\"linecolor\":\"white\",\"showbackground\":true,\"ticks\":\"\",\"zerolinecolor\":\"white\",\"gridwidth\":2},\"zaxis\":{\"backgroundcolor\":\"#E5ECF6\",\"gridcolor\":\"white\",\"linecolor\":\"white\",\"showbackground\":true,\"ticks\":\"\",\"zerolinecolor\":\"white\",\"gridwidth\":2}},\"shapedefaults\":{\"line\":{\"color\":\"#2a3f5f\"}},\"annotationdefaults\":{\"arrowcolor\":\"#2a3f5f\",\"arrowhead\":0,\"arrowwidth\":1},\"geo\":{\"bgcolor\":\"white\",\"landcolor\":\"#E5ECF6\",\"subunitcolor\":\"white\",\"showland\":true,\"showlakes\":true,\"lakecolor\":\"white\"},\"title\":{\"x\":0.05},\"mapbox\":{\"style\":\"light\"}}},\"xaxis\":{\"anchor\":\"y\",\"domain\":[0.0,1.0],\"title\":{\"text\":\"Education\"}},\"yaxis\":{\"anchor\":\"x\",\"domain\":[0.0,1.0],\"title\":{\"text\":\"Children\"}},\"legend\":{\"tracegroupgap\":0},\"title\":{\"text\":\"Promedio de hijos seg\\u00fan nivel educativo\"}},                        {\"responsive\": true}                    ).then(function(){\n",
       "                            \n",
       "var gd = document.getElementById('4268d058-04b7-48a1-ae4a-bfa733aff929');\n",
       "var x = new MutationObserver(function (mutations, observer) {{\n",
       "        var display = window.getComputedStyle(gd).display;\n",
       "        if (!display || display === 'none') {{\n",
       "            console.log([gd, 'removed!']);\n",
       "            Plotly.purge(gd);\n",
       "            observer.disconnect();\n",
       "        }}\n",
       "}});\n",
       "\n",
       "// Listen for the removal of the full notebook cells\n",
       "var notebookContainer = gd.closest('#notebook-container');\n",
       "if (notebookContainer) {{\n",
       "    x.observe(notebookContainer, {childList: true});\n",
       "}}\n",
       "\n",
       "// Listen for the clearing of the current output cell\n",
       "var outputEl = gd.closest('.output');\n",
       "if (outputEl) {{\n",
       "    x.observe(outputEl, {childList: true});\n",
       "}}\n",
       "\n",
       "                        })                };                });            </script>        </div>"
      ]
     },
     "metadata": {},
     "output_type": "display_data"
    }
   ],
   "source": [
    "# 3. Crear la variable 'Con_hijos' y calcular el promedio de hijos según el nivel educativo\n",
    "df3 = df.copy()\n",
    "df3['Con_hijos'] = df['Children'].apply(lambda x: 'Si' if x > 0 else 'No')\n",
    "promedio_hijos_nivel_educativo = df3.groupby('Education')['Children'].mean()\n",
    "\n",
    "# Visualización con Plotly: Gráfico de dispersión\n",
    "fig = px.scatter(promedio_hijos_nivel_educativo, x=promedio_hijos_nivel_educativo.index, y='Children',\n",
    "                 labels={'x': 'Nivel educativo', 'y': 'Promedio de hijos'},\n",
    "                 title='Promedio de hijos según nivel educativo')\n",
    "fig.show()\n"
   ]
  },
  {
   "attachments": {},
   "cell_type": "markdown",
   "id": "84315ddf",
   "metadata": {},
   "source": [
    "## Crear una nueva variable llamado Con_vehiculo, dónde Si: Cars>0, No: Cars=0, para los clientes que si tienen vehículo ¿Cuánto es el promedio de vehículos según la ocupación del cliente?"
   ]
  },
  {
   "cell_type": "code",
   "execution_count": 988,
   "id": "84eeab28",
   "metadata": {},
   "outputs": [
    {
     "data": {
      "application/vnd.plotly.v1+json": {
       "config": {
        "plotlyServerURL": "https://plot.ly"
       },
       "data": [
        {
         "fillpattern": {
          "shape": ""
         },
         "hovertemplate": "Occupation=%{x}<br>Cars=%{y}<extra></extra>",
         "legendgroup": "",
         "line": {
          "color": "#636efa"
         },
         "marker": {
          "symbol": "circle"
         },
         "mode": "lines",
         "name": "",
         "orientation": "v",
         "showlegend": false,
         "stackgroup": "1",
         "type": "scatter",
         "x": [
          "Clerical",
          "Management",
          "Manual",
          "Professional",
          "Skilled Manual"
         ],
         "xaxis": "x",
         "y": [
          0.8390715791845735,
          2.1564327485380117,
          1.0411764705882354,
          1.7269372693726937,
          1.312963298321864
         ],
         "yaxis": "y"
        }
       ],
       "layout": {
        "legend": {
         "tracegroupgap": 0
        },
        "template": {
         "data": {
          "bar": [
           {
            "error_x": {
             "color": "#2a3f5f"
            },
            "error_y": {
             "color": "#2a3f5f"
            },
            "marker": {
             "line": {
              "color": "#E5ECF6",
              "width": 0.5
             },
             "pattern": {
              "fillmode": "overlay",
              "size": 10,
              "solidity": 0.2
             }
            },
            "type": "bar"
           }
          ],
          "barpolar": [
           {
            "marker": {
             "line": {
              "color": "#E5ECF6",
              "width": 0.5
             },
             "pattern": {
              "fillmode": "overlay",
              "size": 10,
              "solidity": 0.2
             }
            },
            "type": "barpolar"
           }
          ],
          "carpet": [
           {
            "aaxis": {
             "endlinecolor": "#2a3f5f",
             "gridcolor": "white",
             "linecolor": "white",
             "minorgridcolor": "white",
             "startlinecolor": "#2a3f5f"
            },
            "baxis": {
             "endlinecolor": "#2a3f5f",
             "gridcolor": "white",
             "linecolor": "white",
             "minorgridcolor": "white",
             "startlinecolor": "#2a3f5f"
            },
            "type": "carpet"
           }
          ],
          "choropleth": [
           {
            "colorbar": {
             "outlinewidth": 0,
             "ticks": ""
            },
            "type": "choropleth"
           }
          ],
          "contour": [
           {
            "colorbar": {
             "outlinewidth": 0,
             "ticks": ""
            },
            "colorscale": [
             [
              0,
              "#0d0887"
             ],
             [
              0.1111111111111111,
              "#46039f"
             ],
             [
              0.2222222222222222,
              "#7201a8"
             ],
             [
              0.3333333333333333,
              "#9c179e"
             ],
             [
              0.4444444444444444,
              "#bd3786"
             ],
             [
              0.5555555555555556,
              "#d8576b"
             ],
             [
              0.6666666666666666,
              "#ed7953"
             ],
             [
              0.7777777777777778,
              "#fb9f3a"
             ],
             [
              0.8888888888888888,
              "#fdca26"
             ],
             [
              1,
              "#f0f921"
             ]
            ],
            "type": "contour"
           }
          ],
          "contourcarpet": [
           {
            "colorbar": {
             "outlinewidth": 0,
             "ticks": ""
            },
            "type": "contourcarpet"
           }
          ],
          "heatmap": [
           {
            "colorbar": {
             "outlinewidth": 0,
             "ticks": ""
            },
            "colorscale": [
             [
              0,
              "#0d0887"
             ],
             [
              0.1111111111111111,
              "#46039f"
             ],
             [
              0.2222222222222222,
              "#7201a8"
             ],
             [
              0.3333333333333333,
              "#9c179e"
             ],
             [
              0.4444444444444444,
              "#bd3786"
             ],
             [
              0.5555555555555556,
              "#d8576b"
             ],
             [
              0.6666666666666666,
              "#ed7953"
             ],
             [
              0.7777777777777778,
              "#fb9f3a"
             ],
             [
              0.8888888888888888,
              "#fdca26"
             ],
             [
              1,
              "#f0f921"
             ]
            ],
            "type": "heatmap"
           }
          ],
          "heatmapgl": [
           {
            "colorbar": {
             "outlinewidth": 0,
             "ticks": ""
            },
            "colorscale": [
             [
              0,
              "#0d0887"
             ],
             [
              0.1111111111111111,
              "#46039f"
             ],
             [
              0.2222222222222222,
              "#7201a8"
             ],
             [
              0.3333333333333333,
              "#9c179e"
             ],
             [
              0.4444444444444444,
              "#bd3786"
             ],
             [
              0.5555555555555556,
              "#d8576b"
             ],
             [
              0.6666666666666666,
              "#ed7953"
             ],
             [
              0.7777777777777778,
              "#fb9f3a"
             ],
             [
              0.8888888888888888,
              "#fdca26"
             ],
             [
              1,
              "#f0f921"
             ]
            ],
            "type": "heatmapgl"
           }
          ],
          "histogram": [
           {
            "marker": {
             "pattern": {
              "fillmode": "overlay",
              "size": 10,
              "solidity": 0.2
             }
            },
            "type": "histogram"
           }
          ],
          "histogram2d": [
           {
            "colorbar": {
             "outlinewidth": 0,
             "ticks": ""
            },
            "colorscale": [
             [
              0,
              "#0d0887"
             ],
             [
              0.1111111111111111,
              "#46039f"
             ],
             [
              0.2222222222222222,
              "#7201a8"
             ],
             [
              0.3333333333333333,
              "#9c179e"
             ],
             [
              0.4444444444444444,
              "#bd3786"
             ],
             [
              0.5555555555555556,
              "#d8576b"
             ],
             [
              0.6666666666666666,
              "#ed7953"
             ],
             [
              0.7777777777777778,
              "#fb9f3a"
             ],
             [
              0.8888888888888888,
              "#fdca26"
             ],
             [
              1,
              "#f0f921"
             ]
            ],
            "type": "histogram2d"
           }
          ],
          "histogram2dcontour": [
           {
            "colorbar": {
             "outlinewidth": 0,
             "ticks": ""
            },
            "colorscale": [
             [
              0,
              "#0d0887"
             ],
             [
              0.1111111111111111,
              "#46039f"
             ],
             [
              0.2222222222222222,
              "#7201a8"
             ],
             [
              0.3333333333333333,
              "#9c179e"
             ],
             [
              0.4444444444444444,
              "#bd3786"
             ],
             [
              0.5555555555555556,
              "#d8576b"
             ],
             [
              0.6666666666666666,
              "#ed7953"
             ],
             [
              0.7777777777777778,
              "#fb9f3a"
             ],
             [
              0.8888888888888888,
              "#fdca26"
             ],
             [
              1,
              "#f0f921"
             ]
            ],
            "type": "histogram2dcontour"
           }
          ],
          "mesh3d": [
           {
            "colorbar": {
             "outlinewidth": 0,
             "ticks": ""
            },
            "type": "mesh3d"
           }
          ],
          "parcoords": [
           {
            "line": {
             "colorbar": {
              "outlinewidth": 0,
              "ticks": ""
             }
            },
            "type": "parcoords"
           }
          ],
          "pie": [
           {
            "automargin": true,
            "type": "pie"
           }
          ],
          "scatter": [
           {
            "fillpattern": {
             "fillmode": "overlay",
             "size": 10,
             "solidity": 0.2
            },
            "type": "scatter"
           }
          ],
          "scatter3d": [
           {
            "line": {
             "colorbar": {
              "outlinewidth": 0,
              "ticks": ""
             }
            },
            "marker": {
             "colorbar": {
              "outlinewidth": 0,
              "ticks": ""
             }
            },
            "type": "scatter3d"
           }
          ],
          "scattercarpet": [
           {
            "marker": {
             "colorbar": {
              "outlinewidth": 0,
              "ticks": ""
             }
            },
            "type": "scattercarpet"
           }
          ],
          "scattergeo": [
           {
            "marker": {
             "colorbar": {
              "outlinewidth": 0,
              "ticks": ""
             }
            },
            "type": "scattergeo"
           }
          ],
          "scattergl": [
           {
            "marker": {
             "colorbar": {
              "outlinewidth": 0,
              "ticks": ""
             }
            },
            "type": "scattergl"
           }
          ],
          "scattermapbox": [
           {
            "marker": {
             "colorbar": {
              "outlinewidth": 0,
              "ticks": ""
             }
            },
            "type": "scattermapbox"
           }
          ],
          "scatterpolar": [
           {
            "marker": {
             "colorbar": {
              "outlinewidth": 0,
              "ticks": ""
             }
            },
            "type": "scatterpolar"
           }
          ],
          "scatterpolargl": [
           {
            "marker": {
             "colorbar": {
              "outlinewidth": 0,
              "ticks": ""
             }
            },
            "type": "scatterpolargl"
           }
          ],
          "scatterternary": [
           {
            "marker": {
             "colorbar": {
              "outlinewidth": 0,
              "ticks": ""
             }
            },
            "type": "scatterternary"
           }
          ],
          "surface": [
           {
            "colorbar": {
             "outlinewidth": 0,
             "ticks": ""
            },
            "colorscale": [
             [
              0,
              "#0d0887"
             ],
             [
              0.1111111111111111,
              "#46039f"
             ],
             [
              0.2222222222222222,
              "#7201a8"
             ],
             [
              0.3333333333333333,
              "#9c179e"
             ],
             [
              0.4444444444444444,
              "#bd3786"
             ],
             [
              0.5555555555555556,
              "#d8576b"
             ],
             [
              0.6666666666666666,
              "#ed7953"
             ],
             [
              0.7777777777777778,
              "#fb9f3a"
             ],
             [
              0.8888888888888888,
              "#fdca26"
             ],
             [
              1,
              "#f0f921"
             ]
            ],
            "type": "surface"
           }
          ],
          "table": [
           {
            "cells": {
             "fill": {
              "color": "#EBF0F8"
             },
             "line": {
              "color": "white"
             }
            },
            "header": {
             "fill": {
              "color": "#C8D4E3"
             },
             "line": {
              "color": "white"
             }
            },
            "type": "table"
           }
          ]
         },
         "layout": {
          "annotationdefaults": {
           "arrowcolor": "#2a3f5f",
           "arrowhead": 0,
           "arrowwidth": 1
          },
          "autotypenumbers": "strict",
          "coloraxis": {
           "colorbar": {
            "outlinewidth": 0,
            "ticks": ""
           }
          },
          "colorscale": {
           "diverging": [
            [
             0,
             "#8e0152"
            ],
            [
             0.1,
             "#c51b7d"
            ],
            [
             0.2,
             "#de77ae"
            ],
            [
             0.3,
             "#f1b6da"
            ],
            [
             0.4,
             "#fde0ef"
            ],
            [
             0.5,
             "#f7f7f7"
            ],
            [
             0.6,
             "#e6f5d0"
            ],
            [
             0.7,
             "#b8e186"
            ],
            [
             0.8,
             "#7fbc41"
            ],
            [
             0.9,
             "#4d9221"
            ],
            [
             1,
             "#276419"
            ]
           ],
           "sequential": [
            [
             0,
             "#0d0887"
            ],
            [
             0.1111111111111111,
             "#46039f"
            ],
            [
             0.2222222222222222,
             "#7201a8"
            ],
            [
             0.3333333333333333,
             "#9c179e"
            ],
            [
             0.4444444444444444,
             "#bd3786"
            ],
            [
             0.5555555555555556,
             "#d8576b"
            ],
            [
             0.6666666666666666,
             "#ed7953"
            ],
            [
             0.7777777777777778,
             "#fb9f3a"
            ],
            [
             0.8888888888888888,
             "#fdca26"
            ],
            [
             1,
             "#f0f921"
            ]
           ],
           "sequentialminus": [
            [
             0,
             "#0d0887"
            ],
            [
             0.1111111111111111,
             "#46039f"
            ],
            [
             0.2222222222222222,
             "#7201a8"
            ],
            [
             0.3333333333333333,
             "#9c179e"
            ],
            [
             0.4444444444444444,
             "#bd3786"
            ],
            [
             0.5555555555555556,
             "#d8576b"
            ],
            [
             0.6666666666666666,
             "#ed7953"
            ],
            [
             0.7777777777777778,
             "#fb9f3a"
            ],
            [
             0.8888888888888888,
             "#fdca26"
            ],
            [
             1,
             "#f0f921"
            ]
           ]
          },
          "colorway": [
           "#636efa",
           "#EF553B",
           "#00cc96",
           "#ab63fa",
           "#FFA15A",
           "#19d3f3",
           "#FF6692",
           "#B6E880",
           "#FF97FF",
           "#FECB52"
          ],
          "font": {
           "color": "#2a3f5f"
          },
          "geo": {
           "bgcolor": "white",
           "lakecolor": "white",
           "landcolor": "#E5ECF6",
           "showlakes": true,
           "showland": true,
           "subunitcolor": "white"
          },
          "hoverlabel": {
           "align": "left"
          },
          "hovermode": "closest",
          "mapbox": {
           "style": "light"
          },
          "paper_bgcolor": "white",
          "plot_bgcolor": "#E5ECF6",
          "polar": {
           "angularaxis": {
            "gridcolor": "white",
            "linecolor": "white",
            "ticks": ""
           },
           "bgcolor": "#E5ECF6",
           "radialaxis": {
            "gridcolor": "white",
            "linecolor": "white",
            "ticks": ""
           }
          },
          "scene": {
           "xaxis": {
            "backgroundcolor": "#E5ECF6",
            "gridcolor": "white",
            "gridwidth": 2,
            "linecolor": "white",
            "showbackground": true,
            "ticks": "",
            "zerolinecolor": "white"
           },
           "yaxis": {
            "backgroundcolor": "#E5ECF6",
            "gridcolor": "white",
            "gridwidth": 2,
            "linecolor": "white",
            "showbackground": true,
            "ticks": "",
            "zerolinecolor": "white"
           },
           "zaxis": {
            "backgroundcolor": "#E5ECF6",
            "gridcolor": "white",
            "gridwidth": 2,
            "linecolor": "white",
            "showbackground": true,
            "ticks": "",
            "zerolinecolor": "white"
           }
          },
          "shapedefaults": {
           "line": {
            "color": "#2a3f5f"
           }
          },
          "ternary": {
           "aaxis": {
            "gridcolor": "white",
            "linecolor": "white",
            "ticks": ""
           },
           "baxis": {
            "gridcolor": "white",
            "linecolor": "white",
            "ticks": ""
           },
           "bgcolor": "#E5ECF6",
           "caxis": {
            "gridcolor": "white",
            "linecolor": "white",
            "ticks": ""
           }
          },
          "title": {
           "x": 0.05
          },
          "xaxis": {
           "automargin": true,
           "gridcolor": "white",
           "linecolor": "white",
           "ticks": "",
           "title": {
            "standoff": 15
           },
           "zerolinecolor": "white",
           "zerolinewidth": 2
          },
          "yaxis": {
           "automargin": true,
           "gridcolor": "white",
           "linecolor": "white",
           "ticks": "",
           "title": {
            "standoff": 15
           },
           "zerolinecolor": "white",
           "zerolinewidth": 2
          }
         }
        },
        "title": {
         "text": "Promedio de vehículos según ocupación"
        },
        "xaxis": {
         "anchor": "y",
         "domain": [
          0,
          1
         ],
         "title": {
          "text": "Occupation"
         }
        },
        "yaxis": {
         "anchor": "x",
         "domain": [
          0,
          1
         ],
         "title": {
          "text": "Cars"
         }
        }
       }
      },
      "text/html": [
       "<div>                            <div id=\"88b494fe-bda4-4fcd-831b-6b5ad51aa74b\" class=\"plotly-graph-div\" style=\"height:525px; width:100%;\"></div>            <script type=\"text/javascript\">                require([\"plotly\"], function(Plotly) {                    window.PLOTLYENV=window.PLOTLYENV || {};                                    if (document.getElementById(\"88b494fe-bda4-4fcd-831b-6b5ad51aa74b\")) {                    Plotly.newPlot(                        \"88b494fe-bda4-4fcd-831b-6b5ad51aa74b\",                        [{\"fillpattern\":{\"shape\":\"\"},\"hovertemplate\":\"Occupation=%{x}\\u003cbr\\u003eCars=%{y}\\u003cextra\\u003e\\u003c\\u002fextra\\u003e\",\"legendgroup\":\"\",\"line\":{\"color\":\"#636efa\"},\"marker\":{\"symbol\":\"circle\"},\"mode\":\"lines\",\"name\":\"\",\"orientation\":\"v\",\"showlegend\":false,\"stackgroup\":\"1\",\"x\":[\"Clerical\",\"Management\",\"Manual\",\"Professional\",\"Skilled Manual\"],\"xaxis\":\"x\",\"y\":[0.8390715791845735,2.1564327485380117,1.0411764705882354,1.7269372693726937,1.312963298321864],\"yaxis\":\"y\",\"type\":\"scatter\"}],                        {\"template\":{\"data\":{\"histogram2dcontour\":[{\"type\":\"histogram2dcontour\",\"colorbar\":{\"outlinewidth\":0,\"ticks\":\"\"},\"colorscale\":[[0.0,\"#0d0887\"],[0.1111111111111111,\"#46039f\"],[0.2222222222222222,\"#7201a8\"],[0.3333333333333333,\"#9c179e\"],[0.4444444444444444,\"#bd3786\"],[0.5555555555555556,\"#d8576b\"],[0.6666666666666666,\"#ed7953\"],[0.7777777777777778,\"#fb9f3a\"],[0.8888888888888888,\"#fdca26\"],[1.0,\"#f0f921\"]]}],\"choropleth\":[{\"type\":\"choropleth\",\"colorbar\":{\"outlinewidth\":0,\"ticks\":\"\"}}],\"histogram2d\":[{\"type\":\"histogram2d\",\"colorbar\":{\"outlinewidth\":0,\"ticks\":\"\"},\"colorscale\":[[0.0,\"#0d0887\"],[0.1111111111111111,\"#46039f\"],[0.2222222222222222,\"#7201a8\"],[0.3333333333333333,\"#9c179e\"],[0.4444444444444444,\"#bd3786\"],[0.5555555555555556,\"#d8576b\"],[0.6666666666666666,\"#ed7953\"],[0.7777777777777778,\"#fb9f3a\"],[0.8888888888888888,\"#fdca26\"],[1.0,\"#f0f921\"]]}],\"heatmap\":[{\"type\":\"heatmap\",\"colorbar\":{\"outlinewidth\":0,\"ticks\":\"\"},\"colorscale\":[[0.0,\"#0d0887\"],[0.1111111111111111,\"#46039f\"],[0.2222222222222222,\"#7201a8\"],[0.3333333333333333,\"#9c179e\"],[0.4444444444444444,\"#bd3786\"],[0.5555555555555556,\"#d8576b\"],[0.6666666666666666,\"#ed7953\"],[0.7777777777777778,\"#fb9f3a\"],[0.8888888888888888,\"#fdca26\"],[1.0,\"#f0f921\"]]}],\"heatmapgl\":[{\"type\":\"heatmapgl\",\"colorbar\":{\"outlinewidth\":0,\"ticks\":\"\"},\"colorscale\":[[0.0,\"#0d0887\"],[0.1111111111111111,\"#46039f\"],[0.2222222222222222,\"#7201a8\"],[0.3333333333333333,\"#9c179e\"],[0.4444444444444444,\"#bd3786\"],[0.5555555555555556,\"#d8576b\"],[0.6666666666666666,\"#ed7953\"],[0.7777777777777778,\"#fb9f3a\"],[0.8888888888888888,\"#fdca26\"],[1.0,\"#f0f921\"]]}],\"contourcarpet\":[{\"type\":\"contourcarpet\",\"colorbar\":{\"outlinewidth\":0,\"ticks\":\"\"}}],\"contour\":[{\"type\":\"contour\",\"colorbar\":{\"outlinewidth\":0,\"ticks\":\"\"},\"colorscale\":[[0.0,\"#0d0887\"],[0.1111111111111111,\"#46039f\"],[0.2222222222222222,\"#7201a8\"],[0.3333333333333333,\"#9c179e\"],[0.4444444444444444,\"#bd3786\"],[0.5555555555555556,\"#d8576b\"],[0.6666666666666666,\"#ed7953\"],[0.7777777777777778,\"#fb9f3a\"],[0.8888888888888888,\"#fdca26\"],[1.0,\"#f0f921\"]]}],\"surface\":[{\"type\":\"surface\",\"colorbar\":{\"outlinewidth\":0,\"ticks\":\"\"},\"colorscale\":[[0.0,\"#0d0887\"],[0.1111111111111111,\"#46039f\"],[0.2222222222222222,\"#7201a8\"],[0.3333333333333333,\"#9c179e\"],[0.4444444444444444,\"#bd3786\"],[0.5555555555555556,\"#d8576b\"],[0.6666666666666666,\"#ed7953\"],[0.7777777777777778,\"#fb9f3a\"],[0.8888888888888888,\"#fdca26\"],[1.0,\"#f0f921\"]]}],\"mesh3d\":[{\"type\":\"mesh3d\",\"colorbar\":{\"outlinewidth\":0,\"ticks\":\"\"}}],\"scatter\":[{\"fillpattern\":{\"fillmode\":\"overlay\",\"size\":10,\"solidity\":0.2},\"type\":\"scatter\"}],\"parcoords\":[{\"type\":\"parcoords\",\"line\":{\"colorbar\":{\"outlinewidth\":0,\"ticks\":\"\"}}}],\"scatterpolargl\":[{\"type\":\"scatterpolargl\",\"marker\":{\"colorbar\":{\"outlinewidth\":0,\"ticks\":\"\"}}}],\"bar\":[{\"error_x\":{\"color\":\"#2a3f5f\"},\"error_y\":{\"color\":\"#2a3f5f\"},\"marker\":{\"line\":{\"color\":\"#E5ECF6\",\"width\":0.5},\"pattern\":{\"fillmode\":\"overlay\",\"size\":10,\"solidity\":0.2}},\"type\":\"bar\"}],\"scattergeo\":[{\"type\":\"scattergeo\",\"marker\":{\"colorbar\":{\"outlinewidth\":0,\"ticks\":\"\"}}}],\"scatterpolar\":[{\"type\":\"scatterpolar\",\"marker\":{\"colorbar\":{\"outlinewidth\":0,\"ticks\":\"\"}}}],\"histogram\":[{\"marker\":{\"pattern\":{\"fillmode\":\"overlay\",\"size\":10,\"solidity\":0.2}},\"type\":\"histogram\"}],\"scattergl\":[{\"type\":\"scattergl\",\"marker\":{\"colorbar\":{\"outlinewidth\":0,\"ticks\":\"\"}}}],\"scatter3d\":[{\"type\":\"scatter3d\",\"line\":{\"colorbar\":{\"outlinewidth\":0,\"ticks\":\"\"}},\"marker\":{\"colorbar\":{\"outlinewidth\":0,\"ticks\":\"\"}}}],\"scattermapbox\":[{\"type\":\"scattermapbox\",\"marker\":{\"colorbar\":{\"outlinewidth\":0,\"ticks\":\"\"}}}],\"scatterternary\":[{\"type\":\"scatterternary\",\"marker\":{\"colorbar\":{\"outlinewidth\":0,\"ticks\":\"\"}}}],\"scattercarpet\":[{\"type\":\"scattercarpet\",\"marker\":{\"colorbar\":{\"outlinewidth\":0,\"ticks\":\"\"}}}],\"carpet\":[{\"aaxis\":{\"endlinecolor\":\"#2a3f5f\",\"gridcolor\":\"white\",\"linecolor\":\"white\",\"minorgridcolor\":\"white\",\"startlinecolor\":\"#2a3f5f\"},\"baxis\":{\"endlinecolor\":\"#2a3f5f\",\"gridcolor\":\"white\",\"linecolor\":\"white\",\"minorgridcolor\":\"white\",\"startlinecolor\":\"#2a3f5f\"},\"type\":\"carpet\"}],\"table\":[{\"cells\":{\"fill\":{\"color\":\"#EBF0F8\"},\"line\":{\"color\":\"white\"}},\"header\":{\"fill\":{\"color\":\"#C8D4E3\"},\"line\":{\"color\":\"white\"}},\"type\":\"table\"}],\"barpolar\":[{\"marker\":{\"line\":{\"color\":\"#E5ECF6\",\"width\":0.5},\"pattern\":{\"fillmode\":\"overlay\",\"size\":10,\"solidity\":0.2}},\"type\":\"barpolar\"}],\"pie\":[{\"automargin\":true,\"type\":\"pie\"}]},\"layout\":{\"autotypenumbers\":\"strict\",\"colorway\":[\"#636efa\",\"#EF553B\",\"#00cc96\",\"#ab63fa\",\"#FFA15A\",\"#19d3f3\",\"#FF6692\",\"#B6E880\",\"#FF97FF\",\"#FECB52\"],\"font\":{\"color\":\"#2a3f5f\"},\"hovermode\":\"closest\",\"hoverlabel\":{\"align\":\"left\"},\"paper_bgcolor\":\"white\",\"plot_bgcolor\":\"#E5ECF6\",\"polar\":{\"bgcolor\":\"#E5ECF6\",\"angularaxis\":{\"gridcolor\":\"white\",\"linecolor\":\"white\",\"ticks\":\"\"},\"radialaxis\":{\"gridcolor\":\"white\",\"linecolor\":\"white\",\"ticks\":\"\"}},\"ternary\":{\"bgcolor\":\"#E5ECF6\",\"aaxis\":{\"gridcolor\":\"white\",\"linecolor\":\"white\",\"ticks\":\"\"},\"baxis\":{\"gridcolor\":\"white\",\"linecolor\":\"white\",\"ticks\":\"\"},\"caxis\":{\"gridcolor\":\"white\",\"linecolor\":\"white\",\"ticks\":\"\"}},\"coloraxis\":{\"colorbar\":{\"outlinewidth\":0,\"ticks\":\"\"}},\"colorscale\":{\"sequential\":[[0.0,\"#0d0887\"],[0.1111111111111111,\"#46039f\"],[0.2222222222222222,\"#7201a8\"],[0.3333333333333333,\"#9c179e\"],[0.4444444444444444,\"#bd3786\"],[0.5555555555555556,\"#d8576b\"],[0.6666666666666666,\"#ed7953\"],[0.7777777777777778,\"#fb9f3a\"],[0.8888888888888888,\"#fdca26\"],[1.0,\"#f0f921\"]],\"sequentialminus\":[[0.0,\"#0d0887\"],[0.1111111111111111,\"#46039f\"],[0.2222222222222222,\"#7201a8\"],[0.3333333333333333,\"#9c179e\"],[0.4444444444444444,\"#bd3786\"],[0.5555555555555556,\"#d8576b\"],[0.6666666666666666,\"#ed7953\"],[0.7777777777777778,\"#fb9f3a\"],[0.8888888888888888,\"#fdca26\"],[1.0,\"#f0f921\"]],\"diverging\":[[0,\"#8e0152\"],[0.1,\"#c51b7d\"],[0.2,\"#de77ae\"],[0.3,\"#f1b6da\"],[0.4,\"#fde0ef\"],[0.5,\"#f7f7f7\"],[0.6,\"#e6f5d0\"],[0.7,\"#b8e186\"],[0.8,\"#7fbc41\"],[0.9,\"#4d9221\"],[1,\"#276419\"]]},\"xaxis\":{\"gridcolor\":\"white\",\"linecolor\":\"white\",\"ticks\":\"\",\"title\":{\"standoff\":15},\"zerolinecolor\":\"white\",\"automargin\":true,\"zerolinewidth\":2},\"yaxis\":{\"gridcolor\":\"white\",\"linecolor\":\"white\",\"ticks\":\"\",\"title\":{\"standoff\":15},\"zerolinecolor\":\"white\",\"automargin\":true,\"zerolinewidth\":2},\"scene\":{\"xaxis\":{\"backgroundcolor\":\"#E5ECF6\",\"gridcolor\":\"white\",\"linecolor\":\"white\",\"showbackground\":true,\"ticks\":\"\",\"zerolinecolor\":\"white\",\"gridwidth\":2},\"yaxis\":{\"backgroundcolor\":\"#E5ECF6\",\"gridcolor\":\"white\",\"linecolor\":\"white\",\"showbackground\":true,\"ticks\":\"\",\"zerolinecolor\":\"white\",\"gridwidth\":2},\"zaxis\":{\"backgroundcolor\":\"#E5ECF6\",\"gridcolor\":\"white\",\"linecolor\":\"white\",\"showbackground\":true,\"ticks\":\"\",\"zerolinecolor\":\"white\",\"gridwidth\":2}},\"shapedefaults\":{\"line\":{\"color\":\"#2a3f5f\"}},\"annotationdefaults\":{\"arrowcolor\":\"#2a3f5f\",\"arrowhead\":0,\"arrowwidth\":1},\"geo\":{\"bgcolor\":\"white\",\"landcolor\":\"#E5ECF6\",\"subunitcolor\":\"white\",\"showland\":true,\"showlakes\":true,\"lakecolor\":\"white\"},\"title\":{\"x\":0.05},\"mapbox\":{\"style\":\"light\"}}},\"xaxis\":{\"anchor\":\"y\",\"domain\":[0.0,1.0],\"title\":{\"text\":\"Occupation\"}},\"yaxis\":{\"anchor\":\"x\",\"domain\":[0.0,1.0],\"title\":{\"text\":\"Cars\"}},\"legend\":{\"tracegroupgap\":0},\"title\":{\"text\":\"Promedio de veh\\u00edculos seg\\u00fan ocupaci\\u00f3n\"}},                        {\"responsive\": true}                    ).then(function(){\n",
       "                            \n",
       "var gd = document.getElementById('88b494fe-bda4-4fcd-831b-6b5ad51aa74b');\n",
       "var x = new MutationObserver(function (mutations, observer) {{\n",
       "        var display = window.getComputedStyle(gd).display;\n",
       "        if (!display || display === 'none') {{\n",
       "            console.log([gd, 'removed!']);\n",
       "            Plotly.purge(gd);\n",
       "            observer.disconnect();\n",
       "        }}\n",
       "}});\n",
       "\n",
       "// Listen for the removal of the full notebook cells\n",
       "var notebookContainer = gd.closest('#notebook-container');\n",
       "if (notebookContainer) {{\n",
       "    x.observe(notebookContainer, {childList: true});\n",
       "}}\n",
       "\n",
       "// Listen for the clearing of the current output cell\n",
       "var outputEl = gd.closest('.output');\n",
       "if (outputEl) {{\n",
       "    x.observe(outputEl, {childList: true});\n",
       "}}\n",
       "\n",
       "                        })                };                });            </script>        </div>"
      ]
     },
     "metadata": {},
     "output_type": "display_data"
    }
   ],
   "source": [
    "# 4. Crear la variable 'Con_vehiculo' y calcular el promedio de vehículos según la ocupación\n",
    "df4 = df.copy()\n",
    "df4['Con_vehiculo'] = df['Cars'].apply(lambda x: 'Si' if x > 0 else 'No')\n",
    "promedio_vehiculos_ocupacion = df4.groupby('Occupation')['Cars'].mean()\n",
    "\n",
    "# Visualización con Plotly: Gráfico de área\n",
    "fig = px.area(promedio_vehiculos_ocupacion, x=promedio_vehiculos_ocupacion.index, y='Cars',\n",
    "              labels={'x': 'Ocupación', 'y': 'Promedio de vehículos'},\n",
    "              title='Promedio de vehículos según ocupación')\n",
    "fig.show()"
   ]
  },
  {
   "attachments": {},
   "cell_type": "markdown",
   "id": "0df18a68",
   "metadata": {},
   "source": [
    "## ¿Cuánto es el promedio de edad de acuerdo con si el cliente es o no propietario de una vivienda?"
   ]
  },
  {
   "cell_type": "code",
   "execution_count": 989,
   "metadata": {},
   "outputs": [
    {
     "data": {
      "application/vnd.plotly.v1+json": {
       "config": {
        "plotlyServerURL": "https://plot.ly"
       },
       "data": [
        {
         "hovertemplate": "Home Owner=%{x}<br>Promedio de edad=%{y}<extra></extra>",
         "legendgroup": "",
         "line": {
          "color": "#636efa",
          "dash": "solid"
         },
         "marker": {
          "symbol": "circle"
         },
         "mode": "lines",
         "name": "",
         "orientation": "v",
         "showlegend": false,
         "type": "scatter",
         "x": [
          "No",
          "Yes"
         ],
         "xaxis": "x",
         "y": [
          42.305116796440494,
          45.10060838687431
         ],
         "yaxis": "y"
        }
       ],
       "layout": {
        "legend": {
         "tracegroupgap": 0
        },
        "template": {
         "data": {
          "bar": [
           {
            "error_x": {
             "color": "#2a3f5f"
            },
            "error_y": {
             "color": "#2a3f5f"
            },
            "marker": {
             "line": {
              "color": "#E5ECF6",
              "width": 0.5
             },
             "pattern": {
              "fillmode": "overlay",
              "size": 10,
              "solidity": 0.2
             }
            },
            "type": "bar"
           }
          ],
          "barpolar": [
           {
            "marker": {
             "line": {
              "color": "#E5ECF6",
              "width": 0.5
             },
             "pattern": {
              "fillmode": "overlay",
              "size": 10,
              "solidity": 0.2
             }
            },
            "type": "barpolar"
           }
          ],
          "carpet": [
           {
            "aaxis": {
             "endlinecolor": "#2a3f5f",
             "gridcolor": "white",
             "linecolor": "white",
             "minorgridcolor": "white",
             "startlinecolor": "#2a3f5f"
            },
            "baxis": {
             "endlinecolor": "#2a3f5f",
             "gridcolor": "white",
             "linecolor": "white",
             "minorgridcolor": "white",
             "startlinecolor": "#2a3f5f"
            },
            "type": "carpet"
           }
          ],
          "choropleth": [
           {
            "colorbar": {
             "outlinewidth": 0,
             "ticks": ""
            },
            "type": "choropleth"
           }
          ],
          "contour": [
           {
            "colorbar": {
             "outlinewidth": 0,
             "ticks": ""
            },
            "colorscale": [
             [
              0,
              "#0d0887"
             ],
             [
              0.1111111111111111,
              "#46039f"
             ],
             [
              0.2222222222222222,
              "#7201a8"
             ],
             [
              0.3333333333333333,
              "#9c179e"
             ],
             [
              0.4444444444444444,
              "#bd3786"
             ],
             [
              0.5555555555555556,
              "#d8576b"
             ],
             [
              0.6666666666666666,
              "#ed7953"
             ],
             [
              0.7777777777777778,
              "#fb9f3a"
             ],
             [
              0.8888888888888888,
              "#fdca26"
             ],
             [
              1,
              "#f0f921"
             ]
            ],
            "type": "contour"
           }
          ],
          "contourcarpet": [
           {
            "colorbar": {
             "outlinewidth": 0,
             "ticks": ""
            },
            "type": "contourcarpet"
           }
          ],
          "heatmap": [
           {
            "colorbar": {
             "outlinewidth": 0,
             "ticks": ""
            },
            "colorscale": [
             [
              0,
              "#0d0887"
             ],
             [
              0.1111111111111111,
              "#46039f"
             ],
             [
              0.2222222222222222,
              "#7201a8"
             ],
             [
              0.3333333333333333,
              "#9c179e"
             ],
             [
              0.4444444444444444,
              "#bd3786"
             ],
             [
              0.5555555555555556,
              "#d8576b"
             ],
             [
              0.6666666666666666,
              "#ed7953"
             ],
             [
              0.7777777777777778,
              "#fb9f3a"
             ],
             [
              0.8888888888888888,
              "#fdca26"
             ],
             [
              1,
              "#f0f921"
             ]
            ],
            "type": "heatmap"
           }
          ],
          "heatmapgl": [
           {
            "colorbar": {
             "outlinewidth": 0,
             "ticks": ""
            },
            "colorscale": [
             [
              0,
              "#0d0887"
             ],
             [
              0.1111111111111111,
              "#46039f"
             ],
             [
              0.2222222222222222,
              "#7201a8"
             ],
             [
              0.3333333333333333,
              "#9c179e"
             ],
             [
              0.4444444444444444,
              "#bd3786"
             ],
             [
              0.5555555555555556,
              "#d8576b"
             ],
             [
              0.6666666666666666,
              "#ed7953"
             ],
             [
              0.7777777777777778,
              "#fb9f3a"
             ],
             [
              0.8888888888888888,
              "#fdca26"
             ],
             [
              1,
              "#f0f921"
             ]
            ],
            "type": "heatmapgl"
           }
          ],
          "histogram": [
           {
            "marker": {
             "pattern": {
              "fillmode": "overlay",
              "size": 10,
              "solidity": 0.2
             }
            },
            "type": "histogram"
           }
          ],
          "histogram2d": [
           {
            "colorbar": {
             "outlinewidth": 0,
             "ticks": ""
            },
            "colorscale": [
             [
              0,
              "#0d0887"
             ],
             [
              0.1111111111111111,
              "#46039f"
             ],
             [
              0.2222222222222222,
              "#7201a8"
             ],
             [
              0.3333333333333333,
              "#9c179e"
             ],
             [
              0.4444444444444444,
              "#bd3786"
             ],
             [
              0.5555555555555556,
              "#d8576b"
             ],
             [
              0.6666666666666666,
              "#ed7953"
             ],
             [
              0.7777777777777778,
              "#fb9f3a"
             ],
             [
              0.8888888888888888,
              "#fdca26"
             ],
             [
              1,
              "#f0f921"
             ]
            ],
            "type": "histogram2d"
           }
          ],
          "histogram2dcontour": [
           {
            "colorbar": {
             "outlinewidth": 0,
             "ticks": ""
            },
            "colorscale": [
             [
              0,
              "#0d0887"
             ],
             [
              0.1111111111111111,
              "#46039f"
             ],
             [
              0.2222222222222222,
              "#7201a8"
             ],
             [
              0.3333333333333333,
              "#9c179e"
             ],
             [
              0.4444444444444444,
              "#bd3786"
             ],
             [
              0.5555555555555556,
              "#d8576b"
             ],
             [
              0.6666666666666666,
              "#ed7953"
             ],
             [
              0.7777777777777778,
              "#fb9f3a"
             ],
             [
              0.8888888888888888,
              "#fdca26"
             ],
             [
              1,
              "#f0f921"
             ]
            ],
            "type": "histogram2dcontour"
           }
          ],
          "mesh3d": [
           {
            "colorbar": {
             "outlinewidth": 0,
             "ticks": ""
            },
            "type": "mesh3d"
           }
          ],
          "parcoords": [
           {
            "line": {
             "colorbar": {
              "outlinewidth": 0,
              "ticks": ""
             }
            },
            "type": "parcoords"
           }
          ],
          "pie": [
           {
            "automargin": true,
            "type": "pie"
           }
          ],
          "scatter": [
           {
            "fillpattern": {
             "fillmode": "overlay",
             "size": 10,
             "solidity": 0.2
            },
            "type": "scatter"
           }
          ],
          "scatter3d": [
           {
            "line": {
             "colorbar": {
              "outlinewidth": 0,
              "ticks": ""
             }
            },
            "marker": {
             "colorbar": {
              "outlinewidth": 0,
              "ticks": ""
             }
            },
            "type": "scatter3d"
           }
          ],
          "scattercarpet": [
           {
            "marker": {
             "colorbar": {
              "outlinewidth": 0,
              "ticks": ""
             }
            },
            "type": "scattercarpet"
           }
          ],
          "scattergeo": [
           {
            "marker": {
             "colorbar": {
              "outlinewidth": 0,
              "ticks": ""
             }
            },
            "type": "scattergeo"
           }
          ],
          "scattergl": [
           {
            "marker": {
             "colorbar": {
              "outlinewidth": 0,
              "ticks": ""
             }
            },
            "type": "scattergl"
           }
          ],
          "scattermapbox": [
           {
            "marker": {
             "colorbar": {
              "outlinewidth": 0,
              "ticks": ""
             }
            },
            "type": "scattermapbox"
           }
          ],
          "scatterpolar": [
           {
            "marker": {
             "colorbar": {
              "outlinewidth": 0,
              "ticks": ""
             }
            },
            "type": "scatterpolar"
           }
          ],
          "scatterpolargl": [
           {
            "marker": {
             "colorbar": {
              "outlinewidth": 0,
              "ticks": ""
             }
            },
            "type": "scatterpolargl"
           }
          ],
          "scatterternary": [
           {
            "marker": {
             "colorbar": {
              "outlinewidth": 0,
              "ticks": ""
             }
            },
            "type": "scatterternary"
           }
          ],
          "surface": [
           {
            "colorbar": {
             "outlinewidth": 0,
             "ticks": ""
            },
            "colorscale": [
             [
              0,
              "#0d0887"
             ],
             [
              0.1111111111111111,
              "#46039f"
             ],
             [
              0.2222222222222222,
              "#7201a8"
             ],
             [
              0.3333333333333333,
              "#9c179e"
             ],
             [
              0.4444444444444444,
              "#bd3786"
             ],
             [
              0.5555555555555556,
              "#d8576b"
             ],
             [
              0.6666666666666666,
              "#ed7953"
             ],
             [
              0.7777777777777778,
              "#fb9f3a"
             ],
             [
              0.8888888888888888,
              "#fdca26"
             ],
             [
              1,
              "#f0f921"
             ]
            ],
            "type": "surface"
           }
          ],
          "table": [
           {
            "cells": {
             "fill": {
              "color": "#EBF0F8"
             },
             "line": {
              "color": "white"
             }
            },
            "header": {
             "fill": {
              "color": "#C8D4E3"
             },
             "line": {
              "color": "white"
             }
            },
            "type": "table"
           }
          ]
         },
         "layout": {
          "annotationdefaults": {
           "arrowcolor": "#2a3f5f",
           "arrowhead": 0,
           "arrowwidth": 1
          },
          "autotypenumbers": "strict",
          "coloraxis": {
           "colorbar": {
            "outlinewidth": 0,
            "ticks": ""
           }
          },
          "colorscale": {
           "diverging": [
            [
             0,
             "#8e0152"
            ],
            [
             0.1,
             "#c51b7d"
            ],
            [
             0.2,
             "#de77ae"
            ],
            [
             0.3,
             "#f1b6da"
            ],
            [
             0.4,
             "#fde0ef"
            ],
            [
             0.5,
             "#f7f7f7"
            ],
            [
             0.6,
             "#e6f5d0"
            ],
            [
             0.7,
             "#b8e186"
            ],
            [
             0.8,
             "#7fbc41"
            ],
            [
             0.9,
             "#4d9221"
            ],
            [
             1,
             "#276419"
            ]
           ],
           "sequential": [
            [
             0,
             "#0d0887"
            ],
            [
             0.1111111111111111,
             "#46039f"
            ],
            [
             0.2222222222222222,
             "#7201a8"
            ],
            [
             0.3333333333333333,
             "#9c179e"
            ],
            [
             0.4444444444444444,
             "#bd3786"
            ],
            [
             0.5555555555555556,
             "#d8576b"
            ],
            [
             0.6666666666666666,
             "#ed7953"
            ],
            [
             0.7777777777777778,
             "#fb9f3a"
            ],
            [
             0.8888888888888888,
             "#fdca26"
            ],
            [
             1,
             "#f0f921"
            ]
           ],
           "sequentialminus": [
            [
             0,
             "#0d0887"
            ],
            [
             0.1111111111111111,
             "#46039f"
            ],
            [
             0.2222222222222222,
             "#7201a8"
            ],
            [
             0.3333333333333333,
             "#9c179e"
            ],
            [
             0.4444444444444444,
             "#bd3786"
            ],
            [
             0.5555555555555556,
             "#d8576b"
            ],
            [
             0.6666666666666666,
             "#ed7953"
            ],
            [
             0.7777777777777778,
             "#fb9f3a"
            ],
            [
             0.8888888888888888,
             "#fdca26"
            ],
            [
             1,
             "#f0f921"
            ]
           ]
          },
          "colorway": [
           "#636efa",
           "#EF553B",
           "#00cc96",
           "#ab63fa",
           "#FFA15A",
           "#19d3f3",
           "#FF6692",
           "#B6E880",
           "#FF97FF",
           "#FECB52"
          ],
          "font": {
           "color": "#2a3f5f"
          },
          "geo": {
           "bgcolor": "white",
           "lakecolor": "white",
           "landcolor": "#E5ECF6",
           "showlakes": true,
           "showland": true,
           "subunitcolor": "white"
          },
          "hoverlabel": {
           "align": "left"
          },
          "hovermode": "closest",
          "mapbox": {
           "style": "light"
          },
          "paper_bgcolor": "white",
          "plot_bgcolor": "#E5ECF6",
          "polar": {
           "angularaxis": {
            "gridcolor": "white",
            "linecolor": "white",
            "ticks": ""
           },
           "bgcolor": "#E5ECF6",
           "radialaxis": {
            "gridcolor": "white",
            "linecolor": "white",
            "ticks": ""
           }
          },
          "scene": {
           "xaxis": {
            "backgroundcolor": "#E5ECF6",
            "gridcolor": "white",
            "gridwidth": 2,
            "linecolor": "white",
            "showbackground": true,
            "ticks": "",
            "zerolinecolor": "white"
           },
           "yaxis": {
            "backgroundcolor": "#E5ECF6",
            "gridcolor": "white",
            "gridwidth": 2,
            "linecolor": "white",
            "showbackground": true,
            "ticks": "",
            "zerolinecolor": "white"
           },
           "zaxis": {
            "backgroundcolor": "#E5ECF6",
            "gridcolor": "white",
            "gridwidth": 2,
            "linecolor": "white",
            "showbackground": true,
            "ticks": "",
            "zerolinecolor": "white"
           }
          },
          "shapedefaults": {
           "line": {
            "color": "#2a3f5f"
           }
          },
          "ternary": {
           "aaxis": {
            "gridcolor": "white",
            "linecolor": "white",
            "ticks": ""
           },
           "baxis": {
            "gridcolor": "white",
            "linecolor": "white",
            "ticks": ""
           },
           "bgcolor": "#E5ECF6",
           "caxis": {
            "gridcolor": "white",
            "linecolor": "white",
            "ticks": ""
           }
          },
          "title": {
           "x": 0.05
          },
          "xaxis": {
           "automargin": true,
           "gridcolor": "white",
           "linecolor": "white",
           "ticks": "",
           "title": {
            "standoff": 15
           },
           "zerolinecolor": "white",
           "zerolinewidth": 2
          },
          "yaxis": {
           "automargin": true,
           "gridcolor": "white",
           "linecolor": "white",
           "ticks": "",
           "title": {
            "standoff": 15
           },
           "zerolinecolor": "white",
           "zerolinewidth": 2
          }
         }
        },
        "title": {
         "text": "Promedio de edad según propietario de vivienda"
        },
        "xaxis": {
         "anchor": "y",
         "domain": [
          0,
          1
         ],
         "title": {
          "text": "Home Owner"
         }
        },
        "yaxis": {
         "anchor": "x",
         "domain": [
          0,
          1
         ],
         "title": {
          "text": "Promedio de edad"
         }
        }
       }
      },
      "text/html": [
       "<div>                            <div id=\"cda2703e-4b1e-43e5-bee4-48742b6d3022\" class=\"plotly-graph-div\" style=\"height:525px; width:100%;\"></div>            <script type=\"text/javascript\">                require([\"plotly\"], function(Plotly) {                    window.PLOTLYENV=window.PLOTLYENV || {};                                    if (document.getElementById(\"cda2703e-4b1e-43e5-bee4-48742b6d3022\")) {                    Plotly.newPlot(                        \"cda2703e-4b1e-43e5-bee4-48742b6d3022\",                        [{\"hovertemplate\":\"Home Owner=%{x}\\u003cbr\\u003ePromedio de edad=%{y}\\u003cextra\\u003e\\u003c\\u002fextra\\u003e\",\"legendgroup\":\"\",\"line\":{\"color\":\"#636efa\",\"dash\":\"solid\"},\"marker\":{\"symbol\":\"circle\"},\"mode\":\"lines\",\"name\":\"\",\"orientation\":\"v\",\"showlegend\":false,\"x\":[\"No\",\"Yes\"],\"xaxis\":\"x\",\"y\":[42.305116796440494,45.10060838687431],\"yaxis\":\"y\",\"type\":\"scatter\"}],                        {\"template\":{\"data\":{\"histogram2dcontour\":[{\"type\":\"histogram2dcontour\",\"colorbar\":{\"outlinewidth\":0,\"ticks\":\"\"},\"colorscale\":[[0.0,\"#0d0887\"],[0.1111111111111111,\"#46039f\"],[0.2222222222222222,\"#7201a8\"],[0.3333333333333333,\"#9c179e\"],[0.4444444444444444,\"#bd3786\"],[0.5555555555555556,\"#d8576b\"],[0.6666666666666666,\"#ed7953\"],[0.7777777777777778,\"#fb9f3a\"],[0.8888888888888888,\"#fdca26\"],[1.0,\"#f0f921\"]]}],\"choropleth\":[{\"type\":\"choropleth\",\"colorbar\":{\"outlinewidth\":0,\"ticks\":\"\"}}],\"histogram2d\":[{\"type\":\"histogram2d\",\"colorbar\":{\"outlinewidth\":0,\"ticks\":\"\"},\"colorscale\":[[0.0,\"#0d0887\"],[0.1111111111111111,\"#46039f\"],[0.2222222222222222,\"#7201a8\"],[0.3333333333333333,\"#9c179e\"],[0.4444444444444444,\"#bd3786\"],[0.5555555555555556,\"#d8576b\"],[0.6666666666666666,\"#ed7953\"],[0.7777777777777778,\"#fb9f3a\"],[0.8888888888888888,\"#fdca26\"],[1.0,\"#f0f921\"]]}],\"heatmap\":[{\"type\":\"heatmap\",\"colorbar\":{\"outlinewidth\":0,\"ticks\":\"\"},\"colorscale\":[[0.0,\"#0d0887\"],[0.1111111111111111,\"#46039f\"],[0.2222222222222222,\"#7201a8\"],[0.3333333333333333,\"#9c179e\"],[0.4444444444444444,\"#bd3786\"],[0.5555555555555556,\"#d8576b\"],[0.6666666666666666,\"#ed7953\"],[0.7777777777777778,\"#fb9f3a\"],[0.8888888888888888,\"#fdca26\"],[1.0,\"#f0f921\"]]}],\"heatmapgl\":[{\"type\":\"heatmapgl\",\"colorbar\":{\"outlinewidth\":0,\"ticks\":\"\"},\"colorscale\":[[0.0,\"#0d0887\"],[0.1111111111111111,\"#46039f\"],[0.2222222222222222,\"#7201a8\"],[0.3333333333333333,\"#9c179e\"],[0.4444444444444444,\"#bd3786\"],[0.5555555555555556,\"#d8576b\"],[0.6666666666666666,\"#ed7953\"],[0.7777777777777778,\"#fb9f3a\"],[0.8888888888888888,\"#fdca26\"],[1.0,\"#f0f921\"]]}],\"contourcarpet\":[{\"type\":\"contourcarpet\",\"colorbar\":{\"outlinewidth\":0,\"ticks\":\"\"}}],\"contour\":[{\"type\":\"contour\",\"colorbar\":{\"outlinewidth\":0,\"ticks\":\"\"},\"colorscale\":[[0.0,\"#0d0887\"],[0.1111111111111111,\"#46039f\"],[0.2222222222222222,\"#7201a8\"],[0.3333333333333333,\"#9c179e\"],[0.4444444444444444,\"#bd3786\"],[0.5555555555555556,\"#d8576b\"],[0.6666666666666666,\"#ed7953\"],[0.7777777777777778,\"#fb9f3a\"],[0.8888888888888888,\"#fdca26\"],[1.0,\"#f0f921\"]]}],\"surface\":[{\"type\":\"surface\",\"colorbar\":{\"outlinewidth\":0,\"ticks\":\"\"},\"colorscale\":[[0.0,\"#0d0887\"],[0.1111111111111111,\"#46039f\"],[0.2222222222222222,\"#7201a8\"],[0.3333333333333333,\"#9c179e\"],[0.4444444444444444,\"#bd3786\"],[0.5555555555555556,\"#d8576b\"],[0.6666666666666666,\"#ed7953\"],[0.7777777777777778,\"#fb9f3a\"],[0.8888888888888888,\"#fdca26\"],[1.0,\"#f0f921\"]]}],\"mesh3d\":[{\"type\":\"mesh3d\",\"colorbar\":{\"outlinewidth\":0,\"ticks\":\"\"}}],\"scatter\":[{\"fillpattern\":{\"fillmode\":\"overlay\",\"size\":10,\"solidity\":0.2},\"type\":\"scatter\"}],\"parcoords\":[{\"type\":\"parcoords\",\"line\":{\"colorbar\":{\"outlinewidth\":0,\"ticks\":\"\"}}}],\"scatterpolargl\":[{\"type\":\"scatterpolargl\",\"marker\":{\"colorbar\":{\"outlinewidth\":0,\"ticks\":\"\"}}}],\"bar\":[{\"error_x\":{\"color\":\"#2a3f5f\"},\"error_y\":{\"color\":\"#2a3f5f\"},\"marker\":{\"line\":{\"color\":\"#E5ECF6\",\"width\":0.5},\"pattern\":{\"fillmode\":\"overlay\",\"size\":10,\"solidity\":0.2}},\"type\":\"bar\"}],\"scattergeo\":[{\"type\":\"scattergeo\",\"marker\":{\"colorbar\":{\"outlinewidth\":0,\"ticks\":\"\"}}}],\"scatterpolar\":[{\"type\":\"scatterpolar\",\"marker\":{\"colorbar\":{\"outlinewidth\":0,\"ticks\":\"\"}}}],\"histogram\":[{\"marker\":{\"pattern\":{\"fillmode\":\"overlay\",\"size\":10,\"solidity\":0.2}},\"type\":\"histogram\"}],\"scattergl\":[{\"type\":\"scattergl\",\"marker\":{\"colorbar\":{\"outlinewidth\":0,\"ticks\":\"\"}}}],\"scatter3d\":[{\"type\":\"scatter3d\",\"line\":{\"colorbar\":{\"outlinewidth\":0,\"ticks\":\"\"}},\"marker\":{\"colorbar\":{\"outlinewidth\":0,\"ticks\":\"\"}}}],\"scattermapbox\":[{\"type\":\"scattermapbox\",\"marker\":{\"colorbar\":{\"outlinewidth\":0,\"ticks\":\"\"}}}],\"scatterternary\":[{\"type\":\"scatterternary\",\"marker\":{\"colorbar\":{\"outlinewidth\":0,\"ticks\":\"\"}}}],\"scattercarpet\":[{\"type\":\"scattercarpet\",\"marker\":{\"colorbar\":{\"outlinewidth\":0,\"ticks\":\"\"}}}],\"carpet\":[{\"aaxis\":{\"endlinecolor\":\"#2a3f5f\",\"gridcolor\":\"white\",\"linecolor\":\"white\",\"minorgridcolor\":\"white\",\"startlinecolor\":\"#2a3f5f\"},\"baxis\":{\"endlinecolor\":\"#2a3f5f\",\"gridcolor\":\"white\",\"linecolor\":\"white\",\"minorgridcolor\":\"white\",\"startlinecolor\":\"#2a3f5f\"},\"type\":\"carpet\"}],\"table\":[{\"cells\":{\"fill\":{\"color\":\"#EBF0F8\"},\"line\":{\"color\":\"white\"}},\"header\":{\"fill\":{\"color\":\"#C8D4E3\"},\"line\":{\"color\":\"white\"}},\"type\":\"table\"}],\"barpolar\":[{\"marker\":{\"line\":{\"color\":\"#E5ECF6\",\"width\":0.5},\"pattern\":{\"fillmode\":\"overlay\",\"size\":10,\"solidity\":0.2}},\"type\":\"barpolar\"}],\"pie\":[{\"automargin\":true,\"type\":\"pie\"}]},\"layout\":{\"autotypenumbers\":\"strict\",\"colorway\":[\"#636efa\",\"#EF553B\",\"#00cc96\",\"#ab63fa\",\"#FFA15A\",\"#19d3f3\",\"#FF6692\",\"#B6E880\",\"#FF97FF\",\"#FECB52\"],\"font\":{\"color\":\"#2a3f5f\"},\"hovermode\":\"closest\",\"hoverlabel\":{\"align\":\"left\"},\"paper_bgcolor\":\"white\",\"plot_bgcolor\":\"#E5ECF6\",\"polar\":{\"bgcolor\":\"#E5ECF6\",\"angularaxis\":{\"gridcolor\":\"white\",\"linecolor\":\"white\",\"ticks\":\"\"},\"radialaxis\":{\"gridcolor\":\"white\",\"linecolor\":\"white\",\"ticks\":\"\"}},\"ternary\":{\"bgcolor\":\"#E5ECF6\",\"aaxis\":{\"gridcolor\":\"white\",\"linecolor\":\"white\",\"ticks\":\"\"},\"baxis\":{\"gridcolor\":\"white\",\"linecolor\":\"white\",\"ticks\":\"\"},\"caxis\":{\"gridcolor\":\"white\",\"linecolor\":\"white\",\"ticks\":\"\"}},\"coloraxis\":{\"colorbar\":{\"outlinewidth\":0,\"ticks\":\"\"}},\"colorscale\":{\"sequential\":[[0.0,\"#0d0887\"],[0.1111111111111111,\"#46039f\"],[0.2222222222222222,\"#7201a8\"],[0.3333333333333333,\"#9c179e\"],[0.4444444444444444,\"#bd3786\"],[0.5555555555555556,\"#d8576b\"],[0.6666666666666666,\"#ed7953\"],[0.7777777777777778,\"#fb9f3a\"],[0.8888888888888888,\"#fdca26\"],[1.0,\"#f0f921\"]],\"sequentialminus\":[[0.0,\"#0d0887\"],[0.1111111111111111,\"#46039f\"],[0.2222222222222222,\"#7201a8\"],[0.3333333333333333,\"#9c179e\"],[0.4444444444444444,\"#bd3786\"],[0.5555555555555556,\"#d8576b\"],[0.6666666666666666,\"#ed7953\"],[0.7777777777777778,\"#fb9f3a\"],[0.8888888888888888,\"#fdca26\"],[1.0,\"#f0f921\"]],\"diverging\":[[0,\"#8e0152\"],[0.1,\"#c51b7d\"],[0.2,\"#de77ae\"],[0.3,\"#f1b6da\"],[0.4,\"#fde0ef\"],[0.5,\"#f7f7f7\"],[0.6,\"#e6f5d0\"],[0.7,\"#b8e186\"],[0.8,\"#7fbc41\"],[0.9,\"#4d9221\"],[1,\"#276419\"]]},\"xaxis\":{\"gridcolor\":\"white\",\"linecolor\":\"white\",\"ticks\":\"\",\"title\":{\"standoff\":15},\"zerolinecolor\":\"white\",\"automargin\":true,\"zerolinewidth\":2},\"yaxis\":{\"gridcolor\":\"white\",\"linecolor\":\"white\",\"ticks\":\"\",\"title\":{\"standoff\":15},\"zerolinecolor\":\"white\",\"automargin\":true,\"zerolinewidth\":2},\"scene\":{\"xaxis\":{\"backgroundcolor\":\"#E5ECF6\",\"gridcolor\":\"white\",\"linecolor\":\"white\",\"showbackground\":true,\"ticks\":\"\",\"zerolinecolor\":\"white\",\"gridwidth\":2},\"yaxis\":{\"backgroundcolor\":\"#E5ECF6\",\"gridcolor\":\"white\",\"linecolor\":\"white\",\"showbackground\":true,\"ticks\":\"\",\"zerolinecolor\":\"white\",\"gridwidth\":2},\"zaxis\":{\"backgroundcolor\":\"#E5ECF6\",\"gridcolor\":\"white\",\"linecolor\":\"white\",\"showbackground\":true,\"ticks\":\"\",\"zerolinecolor\":\"white\",\"gridwidth\":2}},\"shapedefaults\":{\"line\":{\"color\":\"#2a3f5f\"}},\"annotationdefaults\":{\"arrowcolor\":\"#2a3f5f\",\"arrowhead\":0,\"arrowwidth\":1},\"geo\":{\"bgcolor\":\"white\",\"landcolor\":\"#E5ECF6\",\"subunitcolor\":\"white\",\"showland\":true,\"showlakes\":true,\"lakecolor\":\"white\"},\"title\":{\"x\":0.05},\"mapbox\":{\"style\":\"light\"}}},\"xaxis\":{\"anchor\":\"y\",\"domain\":[0.0,1.0],\"title\":{\"text\":\"Home Owner\"}},\"yaxis\":{\"anchor\":\"x\",\"domain\":[0.0,1.0],\"title\":{\"text\":\"Promedio de edad\"}},\"legend\":{\"tracegroupgap\":0},\"title\":{\"text\":\"Promedio de edad seg\\u00fan propietario de vivienda\"}},                        {\"responsive\": true}                    ).then(function(){\n",
       "                            \n",
       "var gd = document.getElementById('cda2703e-4b1e-43e5-bee4-48742b6d3022');\n",
       "var x = new MutationObserver(function (mutations, observer) {{\n",
       "        var display = window.getComputedStyle(gd).display;\n",
       "        if (!display || display === 'none') {{\n",
       "            console.log([gd, 'removed!']);\n",
       "            Plotly.purge(gd);\n",
       "            observer.disconnect();\n",
       "        }}\n",
       "}});\n",
       "\n",
       "// Listen for the removal of the full notebook cells\n",
       "var notebookContainer = gd.closest('#notebook-container');\n",
       "if (notebookContainer) {{\n",
       "    x.observe(notebookContainer, {childList: true});\n",
       "}}\n",
       "\n",
       "// Listen for the clearing of the current output cell\n",
       "var outputEl = gd.closest('.output');\n",
       "if (outputEl) {{\n",
       "    x.observe(outputEl, {childList: true});\n",
       "}}\n",
       "\n",
       "                        })                };                });            </script>        </div>"
      ]
     },
     "metadata": {},
     "output_type": "display_data"
    }
   ],
   "source": [
    "# 5. Promedio de edad según si el cliente es propietario de una vivienda o no\n",
    "promedio_edad_propietario_vivienda = df.groupby('Home Owner')['Age'].mean()\n",
    "\n",
    "# Visualización con Plotly: Gráfico de línea\n",
    "fig = px.line(promedio_edad_propietario_vivienda, x=promedio_edad_propietario_vivienda.index, y=promedio_edad_propietario_vivienda.values,\n",
    "labels={'x': 'Propietario de vivienda', 'y': 'Promedio de edad'},\n",
    "title='Promedio de edad según propietario de vivienda')\n",
    "fig.show()"
   ]
  },
  {
   "attachments": {},
   "cell_type": "markdown",
   "id": "711d88ee",
   "metadata": {},
   "source": [
    "\n",
    "En el código actualizado, se utilizan los siguientes tipos de gráficos:\n",
    "\n",
    "1. Gráfico de barras: Se utiliza para visualizar el promedio de ingresos según si la bicicleta fue comprada o no.\n",
    "2. Gráfico de barras agrupadas: Se utiliza para visualizar el promedio de ingresos según el estado civil.\n",
    "3. Gráfico de dispersión: Se utiliza para visualizar el promedio de hijos según el nivel educativo.\n",
    "4. Gráfico de área: Se utiliza para visualizar el promedio de vehículos según la ocupación.\n",
    "5. Gráfico de línea: Se utiliza para visualizar el promedio de edad según si el cliente es propietario de una vivienda o no.\n",
    "\n",
    "Recuerda que es posible ajustar los detalles de cada visualización según tus necesidades.\n"
   ]
  },
  {
   "cell_type": "markdown",
   "id": "a3d657c5",
   "metadata": {},
   "source": [
    "# Modelado"
   ]
  },
  {
   "cell_type": "code",
   "execution_count": 990,
   "id": "ba5fbb7c",
   "metadata": {},
   "outputs": [
    {
     "name": "stdout",
     "output_type": "stream",
     "text": [
      "<class 'pandas.core.frame.DataFrame'>\n",
      "Int64Index: 989 entries, 0 to 999\n",
      "Data columns (total 15 columns):\n",
      " #   Column            Non-Null Count  Dtype  \n",
      "---  ------            --------------  -----  \n",
      " 0   ID                989 non-null    int64  \n",
      " 1   Marital Status    989 non-null    object \n",
      " 2   Gender            989 non-null    object \n",
      " 3   Income            989 non-null    float64\n",
      " 4   Children          989 non-null    float64\n",
      " 5   Education         989 non-null    object \n",
      " 6   Occupation        989 non-null    object \n",
      " 7   Home Owner        989 non-null    object \n",
      " 8   Cars              989 non-null    float64\n",
      " 9   Commute Distance  989 non-null    object \n",
      " 10  Region            989 non-null    object \n",
      " 11  Age               989 non-null    float64\n",
      " 12  Purchased Bike    989 non-null    object \n",
      " 13  Con_hijos         989 non-null    object \n",
      " 14  Con_vehiculo      989 non-null    object \n",
      "dtypes: float64(4), int64(1), object(10)\n",
      "memory usage: 123.6+ KB\n"
     ]
    }
   ],
   "source": [
    "#Preguntar en el foro si las variables Income son consideradas Outliers\n",
    "df.info()"
   ]
  },
  {
   "attachments": {},
   "cell_type": "markdown",
   "id": "a28a3806",
   "metadata": {},
   "source": [
    "## Regresion Lineal\n"
   ]
  },
  {
   "attachments": {},
   "cell_type": "markdown",
   "id": "a41643eb",
   "metadata": {},
   "source": [
    "1. Primero creamos la tabla para realizar el entrenamiento\n",
    "   "
   ]
  },
  {
   "cell_type": "code",
   "execution_count": 991,
   "id": "c7cc5731",
   "metadata": {},
   "outputs": [
    {
     "data": {
      "text/html": [
       "<div>\n",
       "<style scoped>\n",
       "    .dataframe tbody tr th:only-of-type {\n",
       "        vertical-align: middle;\n",
       "    }\n",
       "\n",
       "    .dataframe tbody tr th {\n",
       "        vertical-align: top;\n",
       "    }\n",
       "\n",
       "    .dataframe thead th {\n",
       "        text-align: right;\n",
       "    }\n",
       "</style>\n",
       "<table border=\"1\" class=\"dataframe\">\n",
       "  <thead>\n",
       "    <tr style=\"text-align: right;\">\n",
       "      <th></th>\n",
       "      <th>Male</th>\n",
       "    </tr>\n",
       "  </thead>\n",
       "  <tbody>\n",
       "    <tr>\n",
       "      <th>0</th>\n",
       "      <td>0</td>\n",
       "    </tr>\n",
       "    <tr>\n",
       "      <th>1</th>\n",
       "      <td>1</td>\n",
       "    </tr>\n",
       "    <tr>\n",
       "      <th>2</th>\n",
       "      <td>1</td>\n",
       "    </tr>\n",
       "    <tr>\n",
       "      <th>4</th>\n",
       "      <td>1</td>\n",
       "    </tr>\n",
       "    <tr>\n",
       "      <th>5</th>\n",
       "      <td>0</td>\n",
       "    </tr>\n",
       "    <tr>\n",
       "      <th>...</th>\n",
       "      <td>...</td>\n",
       "    </tr>\n",
       "    <tr>\n",
       "      <th>994</th>\n",
       "      <td>1</td>\n",
       "    </tr>\n",
       "    <tr>\n",
       "      <th>995</th>\n",
       "      <td>1</td>\n",
       "    </tr>\n",
       "    <tr>\n",
       "      <th>996</th>\n",
       "      <td>1</td>\n",
       "    </tr>\n",
       "    <tr>\n",
       "      <th>998</th>\n",
       "      <td>1</td>\n",
       "    </tr>\n",
       "    <tr>\n",
       "      <th>999</th>\n",
       "      <td>1</td>\n",
       "    </tr>\n",
       "  </tbody>\n",
       "</table>\n",
       "<p>989 rows × 1 columns</p>\n",
       "</div>"
      ],
      "text/plain": [
       "     Male\n",
       "0       0\n",
       "1       1\n",
       "2       1\n",
       "4       1\n",
       "5       0\n",
       "..    ...\n",
       "994     1\n",
       "995     1\n",
       "996     1\n",
       "998     1\n",
       "999     1\n",
       "\n",
       "[989 rows x 1 columns]"
      ]
     },
     "execution_count": 991,
     "metadata": {},
     "output_type": "execute_result"
    }
   ],
   "source": [
    "# Seleccionamos y creamos variables ficticias para pasarlas de variables categoricas a indicadores\n",
    "train = df.copy()\n",
    "gender = pd.get_dummies(df['Gender'],drop_first=True)\n",
    "gender"
   ]
  },
  {
   "cell_type": "code",
   "execution_count": 992,
   "id": "7c48e0dc",
   "metadata": {},
   "outputs": [
    {
     "data": {
      "text/html": [
       "<div>\n",
       "<style scoped>\n",
       "    .dataframe tbody tr th:only-of-type {\n",
       "        vertical-align: middle;\n",
       "    }\n",
       "\n",
       "    .dataframe tbody tr th {\n",
       "        vertical-align: top;\n",
       "    }\n",
       "\n",
       "    .dataframe thead th {\n",
       "        text-align: right;\n",
       "    }\n",
       "</style>\n",
       "<table border=\"1\" class=\"dataframe\">\n",
       "  <thead>\n",
       "    <tr style=\"text-align: right;\">\n",
       "      <th></th>\n",
       "      <th>ID</th>\n",
       "      <th>Income</th>\n",
       "      <th>Children</th>\n",
       "      <th>Home Owner</th>\n",
       "      <th>Cars</th>\n",
       "      <th>Age</th>\n",
       "      <th>Purchased Bike</th>\n",
       "      <th>Con_hijos</th>\n",
       "      <th>Con_vehiculo</th>\n",
       "    </tr>\n",
       "  </thead>\n",
       "  <tbody>\n",
       "    <tr>\n",
       "      <th>0</th>\n",
       "      <td>12496</td>\n",
       "      <td>40000.0</td>\n",
       "      <td>1.0</td>\n",
       "      <td>Yes</td>\n",
       "      <td>0.0</td>\n",
       "      <td>42.0</td>\n",
       "      <td>No</td>\n",
       "      <td>Si</td>\n",
       "      <td>No</td>\n",
       "    </tr>\n",
       "    <tr>\n",
       "      <th>1</th>\n",
       "      <td>24107</td>\n",
       "      <td>30000.0</td>\n",
       "      <td>3.0</td>\n",
       "      <td>Yes</td>\n",
       "      <td>1.0</td>\n",
       "      <td>43.0</td>\n",
       "      <td>No</td>\n",
       "      <td>Si</td>\n",
       "      <td>Si</td>\n",
       "    </tr>\n",
       "    <tr>\n",
       "      <th>2</th>\n",
       "      <td>14177</td>\n",
       "      <td>80000.0</td>\n",
       "      <td>5.0</td>\n",
       "      <td>No</td>\n",
       "      <td>2.0</td>\n",
       "      <td>60.0</td>\n",
       "      <td>No</td>\n",
       "      <td>Si</td>\n",
       "      <td>Si</td>\n",
       "    </tr>\n",
       "    <tr>\n",
       "      <th>4</th>\n",
       "      <td>25597</td>\n",
       "      <td>30000.0</td>\n",
       "      <td>0.0</td>\n",
       "      <td>No</td>\n",
       "      <td>0.0</td>\n",
       "      <td>36.0</td>\n",
       "      <td>Yes</td>\n",
       "      <td>No</td>\n",
       "      <td>No</td>\n",
       "    </tr>\n",
       "    <tr>\n",
       "      <th>5</th>\n",
       "      <td>13507</td>\n",
       "      <td>10000.0</td>\n",
       "      <td>2.0</td>\n",
       "      <td>Yes</td>\n",
       "      <td>0.0</td>\n",
       "      <td>50.0</td>\n",
       "      <td>No</td>\n",
       "      <td>Si</td>\n",
       "      <td>No</td>\n",
       "    </tr>\n",
       "  </tbody>\n",
       "</table>\n",
       "</div>"
      ],
      "text/plain": [
       "      ID   Income  Children Home Owner  Cars   Age Purchased Bike Con_hijos  \\\n",
       "0  12496  40000.0       1.0        Yes   0.0  42.0             No        Si   \n",
       "1  24107  30000.0       3.0        Yes   1.0  43.0             No        Si   \n",
       "2  14177  80000.0       5.0         No   2.0  60.0             No        Si   \n",
       "4  25597  30000.0       0.0         No   0.0  36.0            Yes        No   \n",
       "5  13507  10000.0       2.0        Yes   0.0  50.0             No        Si   \n",
       "\n",
       "  Con_vehiculo  \n",
       "0           No  \n",
       "1           Si  \n",
       "2           Si  \n",
       "4           No  \n",
       "5           No  "
      ]
     },
     "execution_count": 992,
     "metadata": {},
     "output_type": "execute_result"
    }
   ],
   "source": [
    "#Eliminamos todas las variables no numericas\n",
    "train.drop(['Gender','Marital Status','Region',\n",
    "         'Occupation','Education','Commute Distance'],axis=1,inplace=True)\n",
    "train.head()"
   ]
  },
  {
   "cell_type": "code",
   "execution_count": 993,
   "id": "13c89cc9",
   "metadata": {},
   "outputs": [
    {
     "data": {
      "text/html": [
       "<div>\n",
       "<style scoped>\n",
       "    .dataframe tbody tr th:only-of-type {\n",
       "        vertical-align: middle;\n",
       "    }\n",
       "\n",
       "    .dataframe tbody tr th {\n",
       "        vertical-align: top;\n",
       "    }\n",
       "\n",
       "    .dataframe thead th {\n",
       "        text-align: right;\n",
       "    }\n",
       "</style>\n",
       "<table border=\"1\" class=\"dataframe\">\n",
       "  <thead>\n",
       "    <tr style=\"text-align: right;\">\n",
       "      <th></th>\n",
       "      <th>ID</th>\n",
       "      <th>Income</th>\n",
       "      <th>Children</th>\n",
       "      <th>Home Owner</th>\n",
       "      <th>Cars</th>\n",
       "      <th>Age</th>\n",
       "      <th>Purchased Bike</th>\n",
       "      <th>Con_hijos</th>\n",
       "      <th>Con_vehiculo</th>\n",
       "      <th>Male</th>\n",
       "    </tr>\n",
       "  </thead>\n",
       "  <tbody>\n",
       "    <tr>\n",
       "      <th>0</th>\n",
       "      <td>12496</td>\n",
       "      <td>40000.0</td>\n",
       "      <td>1.0</td>\n",
       "      <td>1</td>\n",
       "      <td>0.0</td>\n",
       "      <td>42.0</td>\n",
       "      <td>0</td>\n",
       "      <td>1</td>\n",
       "      <td>0</td>\n",
       "      <td>0</td>\n",
       "    </tr>\n",
       "    <tr>\n",
       "      <th>1</th>\n",
       "      <td>24107</td>\n",
       "      <td>30000.0</td>\n",
       "      <td>3.0</td>\n",
       "      <td>1</td>\n",
       "      <td>1.0</td>\n",
       "      <td>43.0</td>\n",
       "      <td>0</td>\n",
       "      <td>1</td>\n",
       "      <td>1</td>\n",
       "      <td>1</td>\n",
       "    </tr>\n",
       "    <tr>\n",
       "      <th>2</th>\n",
       "      <td>14177</td>\n",
       "      <td>80000.0</td>\n",
       "      <td>5.0</td>\n",
       "      <td>0</td>\n",
       "      <td>2.0</td>\n",
       "      <td>60.0</td>\n",
       "      <td>0</td>\n",
       "      <td>1</td>\n",
       "      <td>1</td>\n",
       "      <td>1</td>\n",
       "    </tr>\n",
       "    <tr>\n",
       "      <th>4</th>\n",
       "      <td>25597</td>\n",
       "      <td>30000.0</td>\n",
       "      <td>0.0</td>\n",
       "      <td>0</td>\n",
       "      <td>0.0</td>\n",
       "      <td>36.0</td>\n",
       "      <td>1</td>\n",
       "      <td>0</td>\n",
       "      <td>0</td>\n",
       "      <td>1</td>\n",
       "    </tr>\n",
       "    <tr>\n",
       "      <th>5</th>\n",
       "      <td>13507</td>\n",
       "      <td>10000.0</td>\n",
       "      <td>2.0</td>\n",
       "      <td>1</td>\n",
       "      <td>0.0</td>\n",
       "      <td>50.0</td>\n",
       "      <td>0</td>\n",
       "      <td>1</td>\n",
       "      <td>0</td>\n",
       "      <td>0</td>\n",
       "    </tr>\n",
       "  </tbody>\n",
       "</table>\n",
       "</div>"
      ],
      "text/plain": [
       "      ID   Income  Children  Home Owner  Cars   Age  Purchased Bike  \\\n",
       "0  12496  40000.0       1.0           1   0.0  42.0               0   \n",
       "1  24107  30000.0       3.0           1   1.0  43.0               0   \n",
       "2  14177  80000.0       5.0           0   2.0  60.0               0   \n",
       "4  25597  30000.0       0.0           0   0.0  36.0               1   \n",
       "5  13507  10000.0       2.0           1   0.0  50.0               0   \n",
       "\n",
       "   Con_hijos  Con_vehiculo  Male  \n",
       "0          1             0     0  \n",
       "1          1             1     1  \n",
       "2          1             1     1  \n",
       "4          0             0     1  \n",
       "5          1             0     0  "
      ]
     },
     "execution_count": 993,
     "metadata": {},
     "output_type": "execute_result"
    }
   ],
   "source": [
    "#Adicionamos las variables ficticias creadas a nuestro dataframe\n",
    "train = pd.concat([train,gender],axis=1)\n",
    "train.replace({\"Si\": 1, \"No\": 0,'Yes':1}, inplace=True)\n",
    "train.head()"
   ]
  },
  {
   "attachments": {},
   "cell_type": "markdown",
   "id": "f425b71a",
   "metadata": {},
   "source": [
    "2. Ahora dividimos los datos en un conjunto de prueba y un conjunto de entrenamiento \n",
    "   "
   ]
  },
  {
   "cell_type": "code",
   "execution_count": 994,
   "id": "4443c459",
   "metadata": {},
   "outputs": [],
   "source": [
    "# Importamos las librerias necesarias\n",
    "from sklearn.model_selection import train_test_split"
   ]
  },
  {
   "cell_type": "code",
   "execution_count": 995,
   "id": "dc23f7eb",
   "metadata": {},
   "outputs": [],
   "source": [
    "#Realizamos el entrenamiento\n",
    "x_train, x_test, y_train, y_test = train_test_split(train.drop('Purchased Bike',axis=1), \n",
    "                                                    train['Purchased Bike'], test_size=0.30, \n",
    "                                                    random_state=101)"
   ]
  },
  {
   "attachments": {},
   "cell_type": "markdown",
   "id": "23846790",
   "metadata": {},
   "source": [
    "3. Creamos y entrenamos al modelo de Regresion Lineal"
   ]
  },
  {
   "cell_type": "code",
   "execution_count": 996,
   "id": "7546b207",
   "metadata": {},
   "outputs": [],
   "source": [
    "# Usaremos el modelo LinearRegression del módulo linear_model de sklearn\n",
    "from sklearn.linear_model import LogisticRegression"
   ]
  },
  {
   "cell_type": "code",
   "execution_count": 997,
   "id": "10cbb0d0",
   "metadata": {},
   "outputs": [
    {
     "data": {
      "text/html": [
       "<style>#sk-container-id-18 {color: black;background-color: white;}#sk-container-id-18 pre{padding: 0;}#sk-container-id-18 div.sk-toggleable {background-color: white;}#sk-container-id-18 label.sk-toggleable__label {cursor: pointer;display: block;width: 100%;margin-bottom: 0;padding: 0.3em;box-sizing: border-box;text-align: center;}#sk-container-id-18 label.sk-toggleable__label-arrow:before {content: \"▸\";float: left;margin-right: 0.25em;color: #696969;}#sk-container-id-18 label.sk-toggleable__label-arrow:hover:before {color: black;}#sk-container-id-18 div.sk-estimator:hover label.sk-toggleable__label-arrow:before {color: black;}#sk-container-id-18 div.sk-toggleable__content {max-height: 0;max-width: 0;overflow: hidden;text-align: left;background-color: #f0f8ff;}#sk-container-id-18 div.sk-toggleable__content pre {margin: 0.2em;color: black;border-radius: 0.25em;background-color: #f0f8ff;}#sk-container-id-18 input.sk-toggleable__control:checked~div.sk-toggleable__content {max-height: 200px;max-width: 100%;overflow: auto;}#sk-container-id-18 input.sk-toggleable__control:checked~label.sk-toggleable__label-arrow:before {content: \"▾\";}#sk-container-id-18 div.sk-estimator input.sk-toggleable__control:checked~label.sk-toggleable__label {background-color: #d4ebff;}#sk-container-id-18 div.sk-label input.sk-toggleable__control:checked~label.sk-toggleable__label {background-color: #d4ebff;}#sk-container-id-18 input.sk-hidden--visually {border: 0;clip: rect(1px 1px 1px 1px);clip: rect(1px, 1px, 1px, 1px);height: 1px;margin: -1px;overflow: hidden;padding: 0;position: absolute;width: 1px;}#sk-container-id-18 div.sk-estimator {font-family: monospace;background-color: #f0f8ff;border: 1px dotted black;border-radius: 0.25em;box-sizing: border-box;margin-bottom: 0.5em;}#sk-container-id-18 div.sk-estimator:hover {background-color: #d4ebff;}#sk-container-id-18 div.sk-parallel-item::after {content: \"\";width: 100%;border-bottom: 1px solid gray;flex-grow: 1;}#sk-container-id-18 div.sk-label:hover label.sk-toggleable__label {background-color: #d4ebff;}#sk-container-id-18 div.sk-serial::before {content: \"\";position: absolute;border-left: 1px solid gray;box-sizing: border-box;top: 0;bottom: 0;left: 50%;z-index: 0;}#sk-container-id-18 div.sk-serial {display: flex;flex-direction: column;align-items: center;background-color: white;padding-right: 0.2em;padding-left: 0.2em;position: relative;}#sk-container-id-18 div.sk-item {position: relative;z-index: 1;}#sk-container-id-18 div.sk-parallel {display: flex;align-items: stretch;justify-content: center;background-color: white;position: relative;}#sk-container-id-18 div.sk-item::before, #sk-container-id-18 div.sk-parallel-item::before {content: \"\";position: absolute;border-left: 1px solid gray;box-sizing: border-box;top: 0;bottom: 0;left: 50%;z-index: -1;}#sk-container-id-18 div.sk-parallel-item {display: flex;flex-direction: column;z-index: 1;position: relative;background-color: white;}#sk-container-id-18 div.sk-parallel-item:first-child::after {align-self: flex-end;width: 50%;}#sk-container-id-18 div.sk-parallel-item:last-child::after {align-self: flex-start;width: 50%;}#sk-container-id-18 div.sk-parallel-item:only-child::after {width: 0;}#sk-container-id-18 div.sk-dashed-wrapped {border: 1px dashed gray;margin: 0 0.4em 0.5em 0.4em;box-sizing: border-box;padding-bottom: 0.4em;background-color: white;}#sk-container-id-18 div.sk-label label {font-family: monospace;font-weight: bold;display: inline-block;line-height: 1.2em;}#sk-container-id-18 div.sk-label-container {text-align: center;}#sk-container-id-18 div.sk-container {/* jupyter's `normalize.less` sets `[hidden] { display: none; }` but bootstrap.min.css set `[hidden] { display: none !important; }` so we also need the `!important` here to be able to override the default hidden behavior on the sphinx rendered scikit-learn.org. See: https://github.com/scikit-learn/scikit-learn/issues/21755 */display: inline-block !important;position: relative;}#sk-container-id-18 div.sk-text-repr-fallback {display: none;}</style><div id=\"sk-container-id-18\" class=\"sk-top-container\"><div class=\"sk-text-repr-fallback\"><pre>LogisticRegression(max_iter=1000)</pre><b>In a Jupyter environment, please rerun this cell to show the HTML representation or trust the notebook. <br />On GitHub, the HTML representation is unable to render, please try loading this page with nbviewer.org.</b></div><div class=\"sk-container\" hidden><div class=\"sk-item\"><div class=\"sk-estimator sk-toggleable\"><input class=\"sk-toggleable__control sk-hidden--visually\" id=\"sk-estimator-id-18\" type=\"checkbox\" checked><label for=\"sk-estimator-id-18\" class=\"sk-toggleable__label sk-toggleable__label-arrow\">LogisticRegression</label><div class=\"sk-toggleable__content\"><pre>LogisticRegression(max_iter=1000)</pre></div></div></div></div></div>"
      ],
      "text/plain": [
       "LogisticRegression(max_iter=1000)"
      ]
     },
     "execution_count": 997,
     "metadata": {},
     "output_type": "execute_result"
    }
   ],
   "source": [
    "# Creamos una instancia del modelo en la variable lm\n",
    "logmodel = LogisticRegression(solver='lbfgs', max_iter=1000) #Parametros utilizados para problemas con multiclases\n",
    "logmodel.fit(x_train,y_train)"
   ]
  },
  {
   "cell_type": "code",
   "execution_count": 998,
   "id": "fc53bb5c",
   "metadata": {},
   "outputs": [],
   "source": [
    "# Entrenamos (ajustamos) el modelo con los datos de entrenamiento\n",
    "predictions = logmodel.predict(x_test)"
   ]
  },
  {
   "attachments": {},
   "cell_type": "markdown",
   "id": "fec7a12e",
   "metadata": {},
   "source": [
    "4. Evaluamos el modelo creado"
   ]
  },
  {
   "cell_type": "code",
   "execution_count": 999,
   "id": "dc7ca855",
   "metadata": {},
   "outputs": [],
   "source": [
    "from sklearn.metrics import classification_report"
   ]
  },
  {
   "cell_type": "code",
   "execution_count": 1000,
   "id": "0436e63e",
   "metadata": {},
   "outputs": [
    {
     "name": "stdout",
     "output_type": "stream",
     "text": [
      "              precision    recall  f1-score   support\n",
      "\n",
      "           0       0.59      0.68      0.63       146\n",
      "           1       0.64      0.54      0.59       151\n",
      "\n",
      "    accuracy                           0.61       297\n",
      "   macro avg       0.61      0.61      0.61       297\n",
      "weighted avg       0.61      0.61      0.61       297\n",
      "\n"
     ]
    },
    {
     "data": {
      "text/plain": [
       "Text(0, 0.5, 'Y Predichos')"
      ]
     },
     "execution_count": 1000,
     "metadata": {},
     "output_type": "execute_result"
    },
    {
     "data": {
      "image/png": "[encoded data removed]",
      "text/plain": [
       "<Figure size 640x480 with 1 Axes>"
      ]
     },
     "metadata": {},
     "output_type": "display_data"
    }
   ],
   "source": [
    "# visualicemos la intersección -> intercept -> w0 = valor de y cuando x es nulo\n",
    "\n",
    "print(classification_report(y_test,predictions))\n",
    "plt.scatter(y_test,predictions)\n",
    "plt.xlabel('Y Prueba')\n",
    "plt.ylabel('Y Predichos')"
   ]
  },
  {
   "attachments": {},
   "cell_type": "markdown",
   "id": "4479002a",
   "metadata": {},
   "source": [
    "## Testeando otro modelo predictivo"
   ]
  },
  {
   "cell_type": "code",
   "execution_count": 1001,
   "id": "2d0be2a9",
   "metadata": {},
   "outputs": [
    {
     "data": {
      "text/html": [
       "<div>\n",
       "<style scoped>\n",
       "    .dataframe tbody tr th:only-of-type {\n",
       "        vertical-align: middle;\n",
       "    }\n",
       "\n",
       "    .dataframe tbody tr th {\n",
       "        vertical-align: top;\n",
       "    }\n",
       "\n",
       "    .dataframe thead th {\n",
       "        text-align: right;\n",
       "    }\n",
       "</style>\n",
       "<table border=\"1\" class=\"dataframe\">\n",
       "  <thead>\n",
       "    <tr style=\"text-align: right;\">\n",
       "      <th></th>\n",
       "      <th>Marital Status</th>\n",
       "      <th>Gender</th>\n",
       "      <th>Income</th>\n",
       "      <th>Children</th>\n",
       "      <th>Education</th>\n",
       "      <th>Occupation</th>\n",
       "      <th>Home Owner</th>\n",
       "      <th>Cars</th>\n",
       "      <th>Commute Distance</th>\n",
       "      <th>Region</th>\n",
       "      <th>Age</th>\n",
       "      <th>Purchased Bike</th>\n",
       "    </tr>\n",
       "  </thead>\n",
       "  <tbody>\n",
       "    <tr>\n",
       "      <th>0</th>\n",
       "      <td>0</td>\n",
       "      <td>0</td>\n",
       "      <td>40000.0</td>\n",
       "      <td>1.0</td>\n",
       "      <td>0</td>\n",
       "      <td>4</td>\n",
       "      <td>1</td>\n",
       "      <td>0.0</td>\n",
       "      <td>0</td>\n",
       "      <td>0</td>\n",
       "      <td>42.0</td>\n",
       "      <td>0</td>\n",
       "    </tr>\n",
       "    <tr>\n",
       "      <th>1</th>\n",
       "      <td>0</td>\n",
       "      <td>1</td>\n",
       "      <td>30000.0</td>\n",
       "      <td>3.0</td>\n",
       "      <td>3</td>\n",
       "      <td>0</td>\n",
       "      <td>1</td>\n",
       "      <td>1.0</td>\n",
       "      <td>0</td>\n",
       "      <td>0</td>\n",
       "      <td>43.0</td>\n",
       "      <td>0</td>\n",
       "    </tr>\n",
       "    <tr>\n",
       "      <th>2</th>\n",
       "      <td>0</td>\n",
       "      <td>1</td>\n",
       "      <td>80000.0</td>\n",
       "      <td>5.0</td>\n",
       "      <td>3</td>\n",
       "      <td>3</td>\n",
       "      <td>0</td>\n",
       "      <td>2.0</td>\n",
       "      <td>3</td>\n",
       "      <td>0</td>\n",
       "      <td>60.0</td>\n",
       "      <td>0</td>\n",
       "    </tr>\n",
       "    <tr>\n",
       "      <th>4</th>\n",
       "      <td>1</td>\n",
       "      <td>1</td>\n",
       "      <td>30000.0</td>\n",
       "      <td>0.0</td>\n",
       "      <td>0</td>\n",
       "      <td>0</td>\n",
       "      <td>0</td>\n",
       "      <td>0.0</td>\n",
       "      <td>0</td>\n",
       "      <td>0</td>\n",
       "      <td>36.0</td>\n",
       "      <td>1</td>\n",
       "    </tr>\n",
       "    <tr>\n",
       "      <th>5</th>\n",
       "      <td>0</td>\n",
       "      <td>0</td>\n",
       "      <td>10000.0</td>\n",
       "      <td>2.0</td>\n",
       "      <td>3</td>\n",
       "      <td>2</td>\n",
       "      <td>1</td>\n",
       "      <td>0.0</td>\n",
       "      <td>1</td>\n",
       "      <td>0</td>\n",
       "      <td>50.0</td>\n",
       "      <td>0</td>\n",
       "    </tr>\n",
       "  </tbody>\n",
       "</table>\n",
       "</div>"
      ],
      "text/plain": [
       "   Marital Status  Gender   Income  Children  Education  Occupation  \\\n",
       "0               0       0  40000.0       1.0          0           4   \n",
       "1               0       1  30000.0       3.0          3           0   \n",
       "2               0       1  80000.0       5.0          3           3   \n",
       "4               1       1  30000.0       0.0          0           0   \n",
       "5               0       0  10000.0       2.0          3           2   \n",
       "\n",
       "   Home Owner  Cars  Commute Distance  Region   Age  Purchased Bike  \n",
       "0           1   0.0                 0       0  42.0               0  \n",
       "1           1   1.0                 0       0  43.0               0  \n",
       "2           0   2.0                 3       0  60.0               0  \n",
       "4           0   0.0                 0       0  36.0               1  \n",
       "5           1   0.0                 1       0  50.0               0  "
      ]
     },
     "execution_count": 1001,
     "metadata": {},
     "output_type": "execute_result"
    }
   ],
   "source": [
    "# Elimina las columnas innecesarias para el análisis\n",
    "from sklearn.calibration import LabelEncoder\n",
    "\n",
    "\n",
    "train2 = df.copy()\n",
    "train2 = train2.drop(['ID', 'Con_hijos', 'Con_vehiculo'], axis=1)\n",
    "\n",
    "# Elimina las filas con valores faltantes\n",
    "train2 = train2.dropna()\n",
    "\n",
    "# Codifica las variables categóricas a numéricas\n",
    "label_encoder = LabelEncoder()\n",
    "train2['Marital Status'] = label_encoder.fit_transform(train2['Marital Status'])\n",
    "train2['Gender'] = label_encoder.fit_transform(train2['Gender'])\n",
    "train2['Education'] = label_encoder.fit_transform(train2['Education'])\n",
    "train2['Occupation'] = label_encoder.fit_transform(train2['Occupation'])\n",
    "train2['Home Owner'] = label_encoder.fit_transform(train2['Home Owner'])\n",
    "train2['Commute Distance'] = label_encoder.fit_transform(train2['Commute Distance'])\n",
    "train2['Region'] = label_encoder.fit_transform(train2['Region'])\n",
    "train2['Purchased Bike'] = label_encoder.fit_transform(train2['Purchased Bike'])\n",
    "train2.head()"
   ]
  },
  {
   "cell_type": "code",
   "execution_count": 1002,
   "id": "6bbcb3d4",
   "metadata": {},
   "outputs": [],
   "source": [
    "X = train2.drop('Purchased Bike', axis=1)\n",
    "y = train2['Purchased Bike']"
   ]
  },
  {
   "cell_type": "code",
   "execution_count": 1003,
   "id": "527e6900",
   "metadata": {},
   "outputs": [],
   "source": [
    "X_train, X_test, y_train, y_test = train_test_split(X, y, test_size=0.2, random_state=42)\n"
   ]
  },
  {
   "cell_type": "code",
   "execution_count": 1004,
   "id": "448330da",
   "metadata": {},
   "outputs": [
    {
     "data": {
      "text/html": [
       "<style>#sk-container-id-19 {color: black;background-color: white;}#sk-container-id-19 pre{padding: 0;}#sk-container-id-19 div.sk-toggleable {background-color: white;}#sk-container-id-19 label.sk-toggleable__label {cursor: pointer;display: block;width: 100%;margin-bottom: 0;padding: 0.3em;box-sizing: border-box;text-align: center;}#sk-container-id-19 label.sk-toggleable__label-arrow:before {content: \"▸\";float: left;margin-right: 0.25em;color: #696969;}#sk-container-id-19 label.sk-toggleable__label-arrow:hover:before {color: black;}#sk-container-id-19 div.sk-estimator:hover label.sk-toggleable__label-arrow:before {color: black;}#sk-container-id-19 div.sk-toggleable__content {max-height: 0;max-width: 0;overflow: hidden;text-align: left;background-color: #f0f8ff;}#sk-container-id-19 div.sk-toggleable__content pre {margin: 0.2em;color: black;border-radius: 0.25em;background-color: #f0f8ff;}#sk-container-id-19 input.sk-toggleable__control:checked~div.sk-toggleable__content {max-height: 200px;max-width: 100%;overflow: auto;}#sk-container-id-19 input.sk-toggleable__control:checked~label.sk-toggleable__label-arrow:before {content: \"▾\";}#sk-container-id-19 div.sk-estimator input.sk-toggleable__control:checked~label.sk-toggleable__label {background-color: #d4ebff;}#sk-container-id-19 div.sk-label input.sk-toggleable__control:checked~label.sk-toggleable__label {background-color: #d4ebff;}#sk-container-id-19 input.sk-hidden--visually {border: 0;clip: rect(1px 1px 1px 1px);clip: rect(1px, 1px, 1px, 1px);height: 1px;margin: -1px;overflow: hidden;padding: 0;position: absolute;width: 1px;}#sk-container-id-19 div.sk-estimator {font-family: monospace;background-color: #f0f8ff;border: 1px dotted black;border-radius: 0.25em;box-sizing: border-box;margin-bottom: 0.5em;}#sk-container-id-19 div.sk-estimator:hover {background-color: #d4ebff;}#sk-container-id-19 div.sk-parallel-item::after {content: \"\";width: 100%;border-bottom: 1px solid gray;flex-grow: 1;}#sk-container-id-19 div.sk-label:hover label.sk-toggleable__label {background-color: #d4ebff;}#sk-container-id-19 div.sk-serial::before {content: \"\";position: absolute;border-left: 1px solid gray;box-sizing: border-box;top: 0;bottom: 0;left: 50%;z-index: 0;}#sk-container-id-19 div.sk-serial {display: flex;flex-direction: column;align-items: center;background-color: white;padding-right: 0.2em;padding-left: 0.2em;position: relative;}#sk-container-id-19 div.sk-item {position: relative;z-index: 1;}#sk-container-id-19 div.sk-parallel {display: flex;align-items: stretch;justify-content: center;background-color: white;position: relative;}#sk-container-id-19 div.sk-item::before, #sk-container-id-19 div.sk-parallel-item::before {content: \"\";position: absolute;border-left: 1px solid gray;box-sizing: border-box;top: 0;bottom: 0;left: 50%;z-index: -1;}#sk-container-id-19 div.sk-parallel-item {display: flex;flex-direction: column;z-index: 1;position: relative;background-color: white;}#sk-container-id-19 div.sk-parallel-item:first-child::after {align-self: flex-end;width: 50%;}#sk-container-id-19 div.sk-parallel-item:last-child::after {align-self: flex-start;width: 50%;}#sk-container-id-19 div.sk-parallel-item:only-child::after {width: 0;}#sk-container-id-19 div.sk-dashed-wrapped {border: 1px dashed gray;margin: 0 0.4em 0.5em 0.4em;box-sizing: border-box;padding-bottom: 0.4em;background-color: white;}#sk-container-id-19 div.sk-label label {font-family: monospace;font-weight: bold;display: inline-block;line-height: 1.2em;}#sk-container-id-19 div.sk-label-container {text-align: center;}#sk-container-id-19 div.sk-container {/* jupyter's `normalize.less` sets `[hidden] { display: none; }` but bootstrap.min.css set `[hidden] { display: none !important; }` so we also need the `!important` here to be able to override the default hidden behavior on the sphinx rendered scikit-learn.org. See: https://github.com/scikit-learn/scikit-learn/issues/21755 */display: inline-block !important;position: relative;}#sk-container-id-19 div.sk-text-repr-fallback {display: none;}</style><div id=\"sk-container-id-19\" class=\"sk-top-container\"><div class=\"sk-text-repr-fallback\"><pre>RandomForestClassifier(random_state=42)</pre><b>In a Jupyter environment, please rerun this cell to show the HTML representation or trust the notebook. <br />On GitHub, the HTML representation is unable to render, please try loading this page with nbviewer.org.</b></div><div class=\"sk-container\" hidden><div class=\"sk-item\"><div class=\"sk-estimator sk-toggleable\"><input class=\"sk-toggleable__control sk-hidden--visually\" id=\"sk-estimator-id-19\" type=\"checkbox\" checked><label for=\"sk-estimator-id-19\" class=\"sk-toggleable__label sk-toggleable__label-arrow\">RandomForestClassifier</label><div class=\"sk-toggleable__content\"><pre>RandomForestClassifier(random_state=42)</pre></div></div></div></div></div>"
      ],
      "text/plain": [
       "RandomForestClassifier(random_state=42)"
      ]
     },
     "execution_count": 1004,
     "metadata": {},
     "output_type": "execute_result"
    }
   ],
   "source": [
    "from sklearn.ensemble import RandomForestClassifier\n",
    "\n",
    "\n",
    "model = RandomForestClassifier(n_estimators=100, random_state=42) # AC = 0.72\n",
    "# model = LogisticRegression() # AC = 0.54\n",
    "model.fit(X_train, y_train)"
   ]
  },
  {
   "cell_type": "code",
   "execution_count": 1005,
   "id": "d48362df",
   "metadata": {},
   "outputs": [],
   "source": [
    "y_pred = model.predict(X_test)"
   ]
  },
  {
   "cell_type": "code",
   "execution_count": 1006,
   "id": "fa578860",
   "metadata": {},
   "outputs": [
    {
     "name": "stdout",
     "output_type": "stream",
     "text": [
      "              precision    recall  f1-score   support\n",
      "\n",
      "           0       0.70      0.78      0.73        98\n",
      "           1       0.75      0.67      0.71       100\n",
      "\n",
      "    accuracy                           0.72       198\n",
      "   macro avg       0.73      0.72      0.72       198\n",
      "weighted avg       0.73      0.72      0.72       198\n",
      "\n"
     ]
    },
    {
     "data": {
      "text/plain": [
       "Text(0, 0.5, 'Y Predichos')"
      ]
     },
     "execution_count": 1006,
     "metadata": {},
     "output_type": "execute_result"
    },
    {
     "data": {
      "image/png": "[encoded data removed]",
      "text/plain": [
       "<Figure size 640x480 with 1 Axes>"
      ]
     },
     "metadata": {},
     "output_type": "display_data"
    }
   ],
   "source": [
    "print(classification_report(y_test, y_pred))\n",
    "plt.scatter(y_test,y_pred)\n",
    "plt.xlabel('Y Prueba')\n",
    "plt.ylabel('Y Predichos')"
   ]
  },
  {
   "attachments": {},
   "cell_type": "markdown",
   "id": "e6e61dc5",
   "metadata": {},
   "source": [
    "1. Exactitud (accuracy): Es la proporción de predicciones correctas sobre el total de predicciones. Un valor cercano a 1 indica un modelo preciso.\n",
    "\n",
    "2. Precisión (precision): Es la proporción de casos positivos correctamente identificados sobre el total de casos positivos predichos. Representa la capacidad del modelo para evitar falsos positivos.\n",
    "\n",
    "3. Recall (también conocido como sensibilidad o verdadero positivo rate): Es la proporción de casos positivos correctamente identificados sobre el total de casos positivos reales. Representa la capacidad del modelo para evitar falsos negativos.\n",
    "\n",
    "4. F1-score: Es una medida de la precisión y el recall que proporciona un balance entre ambos. Es útil cuando las clases están desbalanceadas."
   ]
  }
 ],
 "metadata": {
  "kernelspec": {
   "display_name": "Python 3 (ipykernel)",
   "language": "python",
   "name": "python3"
  },
  "language_info": {
   "codemirror_mode": {
    "name": "ipython",
    "version": 3
   },
   "file_extension": ".py",
   "mimetype": "text/x-python",
   "name": "python",
   "nbconvert_exporter": "python",
   "pygments_lexer": "ipython3",
   "version": "3.11.2"
  }
 },
 "nbformat": 4,
 "nbformat_minor": 5
}
