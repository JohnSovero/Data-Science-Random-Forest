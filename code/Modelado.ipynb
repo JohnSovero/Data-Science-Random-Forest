{
 "cells": [
  {
   "attachments": {},
   "cell_type": "markdown",
   "metadata": {},
   "source": [
    "# Preparación de los datos:"
   ]
  },
  {
   "cell_type": "code",
   "execution_count": 5,
   "metadata": {},
   "outputs": [
    {
     "name": "stderr",
     "output_type": "stream",
     "text": [
      "c:\\Python\\Python311\\Lib\\site-packages\\sklearn\\preprocessing\\_encoders.py:868: FutureWarning: `sparse` was renamed to `sparse_output` in version 1.2 and will be removed in 1.4. `sparse_output` is ignored unless you leave `sparse` to its default value.\n",
      "  warnings.warn(\n"
     ]
    }
   ],
   "source": [
    "import pandas as pd\n",
    "from sklearn.model_selection import train_test_split\n",
    "from sklearn.impute import SimpleImputer\n",
    "from sklearn.preprocessing import OneHotEncoder\n",
    "\n",
    "# Carga los datos desde el archivo CSV\n",
    "data = pd.read_csv(\"../data/bike_buyers.csv\")\n",
    "data.dropna()\n",
    "# Lidiar con valores faltantes\n",
    "imputer = SimpleImputer(strategy='mean')  # Reemplaza los valores faltantes con la media\n",
    "data['Income'] = imputer.fit_transform(data[['Income']])\n",
    "data['Children'] = imputer.fit_transform(data[['Children']])\n",
    "data['Age'] = imputer.fit_transform(data[['Age']])\n",
    "\n",
    "# Codificar variables categóricas\n",
    "encoder = OneHotEncoder(drop='first', sparse=False)  # Codifica variables categóricas en variables numéricas\n",
    "categorical_cols = ['Marital Status', 'Gender', 'Education', 'Occupation', 'Home Owner', 'Commute Distance', 'Region']\n",
    "encoder = OneHotEncoder(drop='first', sparse=False)\n",
    "encoded_cols = pd.DataFrame(encoder.fit_transform(data[categorical_cols]))\n",
    "encoded_cols.columns = encoder.get_feature_names_out(categorical_cols)\n",
    "data = pd.concat([data.drop(categorical_cols, axis=1), encoded_cols], axis=1)\n",
    "\n",
    "\n",
    "# Dividir los datos en conjunto de entrenamiento y prueba\n",
    "X = data.drop('Purchased Bike', axis=1)\n",
    "y = data['Purchased Bike']\n",
    "X_train, X_test, y_train, y_test = train_test_split(X, y, test_size=0.2, random_state=42)\n"
   ]
  },
  {
   "attachments": {},
   "cell_type": "markdown",
   "metadata": {},
   "source": [
    "# Selección de la técnica de Data Mining:"
   ]
  },
  {
   "cell_type": "code",
   "execution_count": 7,
   "metadata": {},
   "outputs": [
    {
     "name": "stdout",
     "output_type": "stream",
     "text": [
      "              precision    recall  f1-score   support\n",
      "\n",
      "          No       0.57      0.63      0.60       106\n",
      "         Yes       0.53      0.47      0.50        94\n",
      "\n",
      "    accuracy                           0.56       200\n",
      "   macro avg       0.55      0.55      0.55       200\n",
      "weighted avg       0.55      0.56      0.55       200\n",
      "\n"
     ]
    }
   ],
   "source": [
    "from sklearn.linear_model import LogisticRegression\n",
    "from sklearn.metrics import classification_report\n",
    "\n",
    "from sklearn.pipeline import make_pipeline\n",
    "\n",
    "# Crear un pipeline que incluya la imputación y el modelo de regresión logística\n",
    "pipeline = make_pipeline(\n",
    "    SimpleImputer(strategy='mean'),  # Estrategia de imputación para reemplazar NaN con la media\n",
    "    LogisticRegression()\n",
    ")\n",
    "\n",
    "# Entrenar el modelo utilizando el pipeline\n",
    "pipeline.fit(X_train, y_train)\n",
    "\n",
    "# Realizar predicciones en el conjunto de prueba\n",
    "y_pred = pipeline.predict(X_test)\n",
    "\n",
    "# Evaluar el modelo\n",
    "print(classification_report(y_test, y_pred))\n",
    "\n"
   ]
  }
 ],
 "metadata": {
  "kernelspec": {
   "display_name": "Python 3",
   "language": "python",
   "name": "python3"
  },
  "language_info": {
   "codemirror_mode": {
    "name": "ipython",
    "version": 3
   },
   "file_extension": ".py",
   "mimetype": "text/x-python",
   "name": "python",
   "nbconvert_exporter": "python",
   "pygments_lexer": "ipython3",
   "version": "3.11.2"
  },
  "orig_nbformat": 4
 },
 "nbformat": 4,
 "nbformat_minor": 2
}
